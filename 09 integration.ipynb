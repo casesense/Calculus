{
 "cells": [
  {
   "cell_type": "markdown",
   "metadata": {},
   "source": [
    "# 積分\n",
    "\n",
    "黒木玄\n",
    "\n",
    "2018-06-21\n",
    "\n",
    "* Copyright 2018 Gen Kuroki\n",
    "* License: MIT https://opensource.org/licenses/MIT\n",
    "\n",
    "このファイルは次の場所できれいに閲覧できる:\n",
    "\n",
    "* http://nbviewer.jupyter.org/github/genkuroki/Calculus/blob/master/09%20integration.ipynb\n",
    "\n",
    "このファイルは <a href=\"https://juliabox.com\">Julia Box</a> で利用できる.\n",
    "\n",
    "自分のパソコンに<a href=\"https://julialang.org/\">Julia言語</a>をインストールしたい場合には\n",
    "\n",
    "* <a href=\"http://nbviewer.jupyter.org/gist/genkuroki/81de23edcae631a995e19a2ecf946a4f\">WindowsへのJulia言語のインストール</a>\n",
    "\n",
    "を参照せよ.\n",
    "\n",
    "論理的に完璧な説明をするつもりはない. 細部のいい加減な部分は自分で訂正・修正せよ.\n",
    "\n",
    "$\n",
    "\\newcommand\\eps{\\varepsilon}\n",
    "\\newcommand\\ds{\\displaystyle}\n",
    "\\newcommand\\Z{{\\mathbb Z}}\n",
    "\\newcommand\\R{{\\mathbb R}}\n",
    "\\newcommand\\C{{\\mathbb C}}\n",
    "\\newcommand\\QED{\\text{□}}\n",
    "\\newcommand\\root{\\sqrt}\n",
    "\\newcommand\\bra{\\langle}\n",
    "\\newcommand\\ket{\\rangle}\n",
    "\\newcommand\\d{\\partial}\n",
    "$"
   ]
  },
  {
   "cell_type": "markdown",
   "metadata": {
    "toc": true
   },
   "source": [
    "<h1>Table of Contents<span class=\"tocSkip\"></span></h1>\n",
    "<div class=\"toc\"><ul class=\"toc-item\"><li><span><a href=\"#積分の基本性質\" data-toc-modified-id=\"積分の基本性質-1\"><span class=\"toc-item-num\">1&nbsp;&nbsp;</span>積分の基本性質</a></span><ul class=\"toc-item\"><li><span><a href=\"#積分の基本性質(A)～(D)\" data-toc-modified-id=\"積分の基本性質(A)～(D)-1.1\"><span class=\"toc-item-num\">1.1&nbsp;&nbsp;</span>積分の基本性質(A)～(D)</a></span></li><li><span><a href=\"#性質(E)\" data-toc-modified-id=\"性質(E)-1.2\"><span class=\"toc-item-num\">1.2&nbsp;&nbsp;</span>性質(E)</a></span></li><li><span><a href=\"#性質(F)「微分積分学の基本定理1」の導出\" data-toc-modified-id=\"性質(F)「微分積分学の基本定理1」の導出-1.3\"><span class=\"toc-item-num\">1.3&nbsp;&nbsp;</span>性質(F)「微分積分学の基本定理1」の導出</a></span></li><li><span><a href=\"#性質(G)「微分積分学の基本定理2」の導出\" data-toc-modified-id=\"性質(G)「微分積分学の基本定理2」の導出-1.4\"><span class=\"toc-item-num\">1.4&nbsp;&nbsp;</span>性質(G)「微分積分学の基本定理2」の導出</a></span></li></ul></li><li><span><a href=\"#部分積分と置換積分\" data-toc-modified-id=\"部分積分と置換積分-2\"><span class=\"toc-item-num\">2&nbsp;&nbsp;</span>部分積分と置換積分</a></span><ul class=\"toc-item\"><li><span><a href=\"#置換積分\" data-toc-modified-id=\"置換積分-2.1\"><span class=\"toc-item-num\">2.1&nbsp;&nbsp;</span>置換積分</a></span></li><li><span><a href=\"#部分積分\" data-toc-modified-id=\"部分積分-2.2\"><span class=\"toc-item-num\">2.2&nbsp;&nbsp;</span>部分積分</a></span></li></ul></li><li><span><a href=\"#積分の近似\" data-toc-modified-id=\"積分の近似-3\"><span class=\"toc-item-num\">3&nbsp;&nbsp;</span>積分の近似</a></span><ul class=\"toc-item\"><li><span><a href=\"#Riemann和\" data-toc-modified-id=\"Riemann和-3.1\"><span class=\"toc-item-num\">3.1&nbsp;&nbsp;</span>Riemann和</a></span></li><li><span><a href=\"#台形公式\" data-toc-modified-id=\"台形公式-3.2\"><span class=\"toc-item-num\">3.2&nbsp;&nbsp;</span>台形公式</a></span></li><li><span><a href=\"#Simpsonの公式\" data-toc-modified-id=\"Simpsonの公式-3.3\"><span class=\"toc-item-num\">3.3&nbsp;&nbsp;</span>Simpsonの公式</a></span></li></ul></li><li><span><a href=\"#広義積分\" data-toc-modified-id=\"広義積分-4\"><span class=\"toc-item-num\">4&nbsp;&nbsp;</span>広義積分</a></span><ul class=\"toc-item\"><li><span><a href=\"#絶対収束する広義積分の例\" data-toc-modified-id=\"絶対収束する広義積分の例-4.1\"><span class=\"toc-item-num\">4.1&nbsp;&nbsp;</span>絶対収束する広義積分の例</a></span></li><li><span><a href=\"#条件収束する広義積分の例\" data-toc-modified-id=\"条件収束する広義積分の例-4.2\"><span class=\"toc-item-num\">4.2&nbsp;&nbsp;</span>条件収束する広義積分の例</a></span></li></ul></li></ul></div>"
   ]
  },
  {
   "cell_type": "code",
   "execution_count": 1,
   "metadata": {},
   "outputs": [],
   "source": [
    "using Plots\n",
    "gr(); ENV[\"PLOTS_TEST\"] = \"true\"\n",
    "#clibrary(:colorcet)\n",
    "clibrary(:misc)\n",
    "\n",
    "function pngplot(P...; kwargs...)\n",
    "    sleep(0.1)\n",
    "    pngfile = tempname() * \".png\"\n",
    "    savefig(plot(P...; kwargs...), pngfile)\n",
    "    showimg(\"image/png\", pngfile)\n",
    "end\n",
    "pngplot(; kwargs...) = pngplot(plot!(; kwargs...))\n",
    "\n",
    "showimg(mime, fn) = open(fn) do f\n",
    "    base64 = base64encode(f)\n",
    "    display(\"text/html\", \"\"\"<img src=\"data:$mime;base64,$base64\">\"\"\")\n",
    "end\n",
    "\n",
    "using SymPy\n",
    "#sympy[:init_printing](order=\"lex\") # default\n",
    "#sympy[:init_printing](order=\"rev-lex\")\n",
    "\n",
    "using SpecialFunctions\n",
    "using QuadGK"
   ]
  },
  {
   "cell_type": "markdown",
   "metadata": {},
   "source": [
    "## 積分の基本性質"
   ]
  },
  {
   "cell_type": "markdown",
   "metadata": {},
   "source": [
    "1変数函数 $f(x)$ の積分 $\\int_a^b f(x)\\,dx$ の構成の仕方は無数に存在する.\n",
    "\n",
    "Riemann積分とLebesgue積分は有名であり, それら以外にも様々な方法が存在する. 例えば, \n",
    "\n",
    "* S. ラング, 『ラング 現代の解析学』, 共立出版, 1981 (原書: Serge Lang, Real Analysis, 1969)\n",
    "\n",
    "の第5章「微分法」の第1節では, \n",
    "\n",
    "$$\n",
    "f(t) = v_i \\quad (a_{i-1}<t<a_i,\\ a=a_0\\leqq a_1\\leqq\\cdots\\leqq a_n=b)\n",
    "$$\n",
    "\n",
    "を満たす函数(階段函数と呼ぶことにする)の積分を\n",
    "\n",
    "$$\n",
    "\\int_a^b f(t)\\,dt = \\sum_{i=1}^n v_i(a_i-a_{i-1})\n",
    "$$\n",
    "\n",
    "と定め, これを階段函数の一様収束先に拡張することによって, 積分を導入している. 閉区間上の連続函数は階段函数の一様収束先になっているので, 連続函数の積分もこれによって定義されることになる.\n",
    "\n",
    "積分の構成の仕方は無数にあるが, 積分は構成の仕方によらない基本性質を持つ. だから, その基本性質のみを使って示された結果はどの積分論においても利用可能になる.\n",
    "\n",
    "このノートでは積分の構成の仕方には深く踏み込まずに, 積分の基本性質のみを使って積分論を展開する. \n",
    "\n",
    "ただし, 積分の基本性質の厳密な説明を避けて, 大らかなスタイルで議論を進めることにする."
   ]
  },
  {
   "cell_type": "markdown",
   "metadata": {},
   "source": [
    "### 積分の基本性質(A)～(D)\n",
    "\n",
    "**基本性質(A)** 線形性: 定数 $\\alpha,\\beta$ について\n",
    "\n",
    "$$\n",
    "\\int_a^b(\\alpha f(x)+\\beta g(x))\\,dx = \\alpha\\int_a^b f(x)\\,dx + \\beta\\int_a^b g(x)\\,dx.\n",
    "$$\n",
    "\n",
    "**基本性質(B)**\n",
    "\n",
    "$$\n",
    "\\int_a^b f(x)\\,dx + \\int_b^c\\,f(x)\\,dx = \\int_a^c f(x)\\,dx.\n",
    "$$\n",
    "\n",
    "**注意:**\n",
    "\n",
    "(1) (B)において $a=b=c$ と仮定すると $\\int_a^a f(x)\\,dx=0$ が導かれる. \n",
    "\n",
    "(2) (B)において $c=a$ と仮定すると $\\int_b^a f(x)\\,dx = - \\int_a^b f(x)\\,dx$ が導かれる.\n",
    "\n",
    "(3) ゆえに $a\\leqq b$ のときに $\\int_a^b f(x)\\,dx$ が定義されていれば, $a > b$ の場合には $\\int_a^b f(x)\\,dx$ を $\\int_a^b f(x)\\,dx = -\\int_b^a f(x)\\,dx$ で定義することによって, $a,b$ の大小に条件を付ける必要がなくなる.\n",
    "\n",
    "(4) (B)は $\\ds\\int_a^c f(x)\\,dx - \\int_b^a\\,f(x)\\,dx = \\int_b^c f(x)\\,dx$ と同値である. 基本性質(B)はこの形でもよく使われる.\n",
    "\n",
    "**基本性質(C)** 定数 $\\alpha$ について,\n",
    "\n",
    "$$\n",
    "\\int_a^b \\alpha\\,dx = \\alpha(b-a).\n",
    "$$\n",
    "\n",
    "**注意:**\n",
    "\n",
    "(1) $\\int_a^b 1\\,dx = b-a$ と(A)から(C)が導かれる.\n",
    "\n",
    "(2) 函数 $f(x)$ が $a<x<b$ で一定の値 $\\alpha$ の値を取るならば(すなわち $f(x)=\\alpha$ ($a<x<b$)) ならば $\\int_a^b f(x)\\,dx = \\alpha(b-a)$ となるという(C)の一般化を仮定すると, (B)と合わせて, 階段函数の積分が確定する. \n",
    "\n",
    "**基本性質(D)** 単調性: $a\\leqq b$ と仮定する. 1変数実数値函数 $f(x)$, $g(x)$ について\n",
    "\n",
    "$$\n",
    "f(x)\\leqq g(x)\\quad (a<x<b) \\quad\\implies\\quad \\int_a^b f(x)\\,dx\\leqq\\int_a^b g(x)\\,dx.\n",
    "$$"
   ]
  },
  {
   "cell_type": "markdown",
   "metadata": {},
   "source": [
    "### 性質(E)\n",
    "\n",
    "**(E)** $a\\leqq b$ と仮定する. 1変数実数値函数 $f(x)$ について\n",
    "\n",
    "$$\n",
    "\\left|\\int_a^b f(x)\\,dx\\right| \\leqq \\int_a^b |f(x)|\\,dx.\n",
    "\\tag{1}\n",
    "$$\n",
    "\n",
    "さらに $a\\leqq x\\leqq b$ で $|f(x)|\\leqq M$ ならば\n",
    "\n",
    "$$\n",
    "\\left|\\int_a^b f(x)\\,dx\\right| \\leqq M|b-a|.\n",
    "\\tag{2}\n",
    "$$\n",
    "\n",
    "**注意:** (2)は $a>b$ であっても成立している. そのために絶対値を付けた. \n",
    "\n",
    "**証明:** $-|f(x)|\\leqq f(x)\\leqq |f(x)|$ なので積分の単調性(D)より\n",
    "\n",
    "$$\n",
    "-\\int_a^b|f(x)|\\,dx \\leqq \\int_a^b f(x)\\,dx \\leqq \\int_a^b |f(x)|\\,dx.\n",
    "$$\n",
    "\n",
    "これは(1)が成立することを意味する. $a\\leqq x\\leqq b$ で $|f(x)|\\leqq M$ ならば積分の単調性(D)と(C)より,\n",
    "\n",
    "$$\n",
    "\\int_a^b |f(x)|\\,dx \\leqq \\int_a^b M\\,dx = M(b-a)=M|b-a|.\n",
    "$$\n",
    "\n",
    "これで(2)も成立することが示された. $\\QED$\n",
    "\n",
    "**解説:** 多くの場面で「小さいこと」を示したい誤差項は積分で表わされる. (Taylorの定理における積分型剰余項はその典型例である.) 成立(E)は積分の絶対値が「小さいこと」を示すためによく使われることになる. $\\QED$"
   ]
  },
  {
   "cell_type": "markdown",
   "metadata": {},
   "source": [
    "**注意:** $f(x)$ が複素数値函数であっても性質(E)は成立している. さらに絶対値を任意のノルムで置き換えればベクトル値函数であっても性質(E)は成立している. しかし, そのことを示すためには性質(A)～(D)を仮定するだけでは足りないので, 複素数値函数やベクトル値函数まで拡張された性質(E)も必要ならば, 最初から拡張された性質(E)も仮定しておく方がよいかもしれない.\n",
    "\n",
    "拡張された性質(E)が主要などの積分論でも成立する理由は, どの積分論においても積分が有限和 $v_1+\\cdots+v_n$ の極限で構成されているからである. ここで $v_i$ は複素数またはベクトルである. 絶対値およびより一般にノルムは三角不等式\n",
    "\n",
    "$$\n",
    "\\|v_1+\\cdots+v_n\\| \\leqq \\|v_1\\|+\\cdots+\\|v_n\\|\n",
    "$$\n",
    "\n",
    "を満たしている. これの極限として複素数値もしくはベクトル値函数 $f(x)$ についても\n",
    "\n",
    "$$\n",
    "\\left\\|\\int_a^b f(x)\\,dx\\right\\|\\leqq \\int_a^b \\|f(x)\\|\\,dx\n",
    "$$\n",
    "\n",
    "が成立することが示される. この不等式を点の運動 $x(t)$ の速度ベクトル $v(t)=x'(t)$ に適用した結果は\n",
    "\n",
    "$$\n",
    "\\|x(b)-x(a)\\|=\\left\\|\\int_a^b v(t)\\,dt\\right\\|\\leqq \\int_a^b \\|v(t)\\|\\,dt\n",
    "$$\n",
    "\n",
    "となる. 速さ $\\|v(t)\\|=\\|x'(t)\\|$ の時刻 $a$ から $b$ までの積分の値は点の運動の軌跡(曲線)の長さなので, この不等式は $x(a)$ と $x(b)$ の距離は $x(a)$ と $x(b)$ を結ぶ曲線の長さ以下になることを意味する. \n",
    "\n",
    "これより, ベクトル値函数に拡張された性質(E)は, 直観的には当然そうなるべき結果を意味していることがわかる. "
   ]
  },
  {
   "cell_type": "markdown",
   "metadata": {},
   "source": [
    "### 性質(F)「微分積分学の基本定理1」の導出\n",
    "\n",
    "**(F)** 微分積分学の基本定理1: 連続函数 $f(x)$ について\n",
    "\n",
    "$$\n",
    "\\frac{d}{dx}\\int_a^x f(\\xi)\\,d\\xi = f(x).\n",
    "$$\n",
    "\n",
    "**証明:** $F(x)=\\int_a^x f(\\xi)\\,d\\xi$ とおく. このとき(B)より\n",
    "\n",
    "$$\n",
    "F(x+h)-F(x) = \\int_a^{x+h}f(\\xi)\\,d\\xi - \\int_a^x f(\\xi)\\,d\\xi = \\int_x^{x+h}f(\\xi)\\,d\\xi.\n",
    "$$\n",
    "\n",
    "さらに $f(x)$ は積分変数 $\\xi$ について定数なので, (C)より\n",
    "\n",
    "$$\n",
    "f(x)h = f(x)((x+h) - x) = \\int_x^{x+h} f(x)\\,d\\xi.\n",
    "$$\n",
    "\n",
    "ゆえに\n",
    "\n",
    "$$\n",
    "F(x+h)-F(x)-f(x)h = \n",
    "\\int_x^{x+h}f(\\xi)\\,d\\xi - \\int_x^{x+h} f(x)\\,d\\xi =\n",
    "\\int_x^{x+h}(f(\\xi) - f(x))\\,d\\xi.\n",
    "$$\n",
    "\n",
    "任意の $\\eps > 0$ を取る.  $f(\\xi)$ は $\\xi$ の連続函数なので $|h|$ を十分に小さくすると\n",
    "\n",
    "$$\n",
    "|f(\\xi)-f(x)|\\leqq \\eps\n",
    "$$\n",
    "\n",
    "となる(図を描いてみよ). ゆえに(E)より\n",
    "\n",
    "$$\n",
    "|F(x+h)-F(x)-f(x)h|=\\left|\\int_x^{x+h}(f(\\xi) - f(x))\\,d\\xi\\right|\n",
    "\\leqq \\eps|(x+h)-x| = \\eps|h|.\n",
    "$$\n",
    "\n",
    "両辺を $|h|$ で割ることによって, $\\eps>0$ ごとに $|h|>0$ を十分に小さくすることによって, \n",
    "\n",
    "$$\n",
    "\\left|\\frac{F(x+h)-F(x)-f(x)h}{h}\\right|\\leqq \\eps\n",
    "$$\n",
    "\n",
    "となることわかる. これは $h\\to 0$ のとき\n",
    "\n",
    "$$\n",
    "\\frac{F(x+h)-F(x)}{h}-f(x) = \\frac{F(x+h)-F(x)-f(x)h}{h} \\to 0\n",
    "$$\n",
    "\n",
    "が成立することを意味する. これで $F'(x) = f(x)$ となることを示せた. $\\QED$\n",
    "\n",
    "**注意:** 上の証明では $\\eps$-$\\delta$ 論法を使った. $\\eps$-$\\delta$ 論法を未習もしくはまだ理解していない人であっても,  $f(x)$ のグラフを適当に描いて, 積分が「面積」を表すことを思い出しながら, 証明の各ステップに現われる積分がグラフのどの部分の「面積」になっているかを確認すれば, 直観的には明らかな議論しか行っていないことがわかるだろう.  むしろ $\\eps$-$\\delta$ 論法を使った証明を使いこなせるようになるためには, $\\eps$-$\\delta$ 論法を理解していない段階でのそのような直観的な議論を十分にしておいた方がよい. 慣れてしまえば, $\\eps$-$\\delta$ 論法自体が直観的に明らかな議論に見えて来ることになるだろう. $\\QED$"
   ]
  },
  {
   "cell_type": "markdown",
   "metadata": {},
   "source": [
    "### 性質(G)「微分積分学の基本定理2」の導出\n",
    "\n",
    "**準備:** 微分可能函数 $f(x)$ の導函数 $f'(x)$ が恒等的に $0$ ならば $f(x)$ は定数函数になることを(G)の証明では認めて使うことにする. その結果は平均値の定理\n",
    "\n",
    "$$\n",
    "f(x) - f(a) = f'(\\xi)(x-a) \\quad (\\xi = a+t(x-a),\\ 0<t<1)\n",
    "$$\n",
    "\n",
    "を使えば容易に導かれる($\\xi$ は $a$, $x$ のあいだのある実数である). $f'$ が恒等的に $0$ ならば特に $f'(\\xi)=0$ となるので $f(x)=f(a)$ となり, $f(x)$ の値は $x$ の値によらず $f(a)$ に等しくなる. $\\QED$\n",
    "\n",
    "**(G)** 微分積分学の基本定理2: $F(x)$ は $C^1$ 級函数(微分可能かつ導函数が連続な函数)であるとすると, \n",
    "\n",
    "$$\n",
    "\\int_a^b F'(x)\\,dx = F(b) - F(a).\n",
    "\\tag{1}\n",
    "$$\n",
    "\n",
    "**注意:** (1)の右辺を $[F(x)]_a^b$ と書くことが多い:\n",
    "\n",
    "$$\n",
    "[F(x)]_a^b = F(b) - F(a).\n",
    "$$\n",
    "\n",
    "**証明:** $G(x)=\\int_a^x F'(\\xi)\\,d\\xi - (F(x)-F(a))$ とおく. このとき, (B)より\n",
    "\n",
    "$$\n",
    "G(a) = \\int_a^a F'(\\xi)\\,d\\xi - (F(a)-F(a)) = 0\n",
    "$$\n",
    "\n",
    "となり, (F)より\n",
    "\n",
    "$$\n",
    "G'(x) = F'(x) - F'(x) = 0.\n",
    "$$\n",
    "\n",
    "ゆえに $G(x)$ は定数函数になり, 恒等的に $0$ になる. ゆえに\n",
    "\n",
    "$$\n",
    "0 = G(b) = \\int_a^b F'(x)\\,dx - (F(b)-F(a)).\n",
    "$$\n",
    "\n",
    "これは(1)が成立することを意味する. $\\QED$"
   ]
  },
  {
   "cell_type": "markdown",
   "metadata": {},
   "source": [
    "**以上によって, 実1変数実数値函数の微分積分学の基本定理が積分の基本性質(A)～(D)だけから導かれることがわかった.**\n",
    "\n",
    "**注意:** 実1変数の複素数値函数もしくはベクトル値函数に関する微分積分学の基本定理は積分の基本性質(A)～(D)と拡張された性質(E)のみを使って導き出せる. 性質(A)～(E)は高校数学レベルの積分に関する直観があれば「明らか」だと感じられるシンプルな性質の集まりである. そのような「明らか」でかつシンプルな性質のみを使って微分積分学の基本定理は導出可能なのである. $\\QED$"
   ]
  },
  {
   "cell_type": "markdown",
   "metadata": {},
   "source": [
    "## 部分積分と置換積分\n",
    "\n",
    "微分積分学の基本定理さえ証明できてしまえば, 部分積分と置換積分の導出は微分学の結果をそのまま積分学に応用する話に過ぎなくなる."
   ]
  },
  {
   "cell_type": "markdown",
   "metadata": {},
   "source": [
    "### 置換積分\n",
    "\n",
    "$f(x)$, $g(t)$ は $C^1$ 級函数であると仮定し, \n",
    "\n",
    "$$\n",
    "F(x) = \\int_a^x f(\\xi)\\,d\\xi\n",
    "$$\n",
    "\n",
    "とおく. 微分の性質\n",
    "\n",
    "$$\n",
    "\\frac{d}{dt}F(g(t)) = F'(g(t))g'(t) = f(g(t))g'(t)\n",
    "$$\n",
    "\n",
    "に微分積分学の基本定理(G)を適用すると, $a=g(\\alpha)$, $b=g(\\beta)$ のとき, \n",
    "\n",
    "$$\n",
    "\\int_a^b f(x)\\,dx = [F(x)]_a^b = [F(g(t))]_\\alpha^\\beta =\n",
    "\\int_\\alpha^\\beta \\frac{d}{dt}F(g(t))\\,dt = \\int_\\alpha^\\beta f(g(t))g'(t)\\,dt.\n",
    "$$\n",
    "\n",
    "つまり, 次が成立している.\n",
    "\n",
    "**(H)** $a=g(\\alpha)$, $b=g(\\beta)$ のとき,\n",
    "\n",
    "$$\n",
    "\\int_a^b f(x)\\,dx = \\int_\\alpha^\\beta f(g(t))g'(t)\\,dt.\n",
    "$$\n",
    "\n",
    "左辺の積分を右辺で計算することを**置換積分**と呼ぶ. $x(t)=g(t)$ とおいて,\n",
    "\n",
    "$$\n",
    "\\int_a^b f(x)\\,dx = \\int_\\alpha^\\beta f(x(t))\\frac{dx(t)}{dt}\\,dt\n",
    "$$\n",
    "\n",
    "と書き直すと, 「分子分母の $dt$ が約分で消える公式」のように見えて見易い.\n",
    "\n",
    "**問題:** 任意の微積分の教科書を参照して, 置換積分を使って計算する積分計算の面白い問題を見付けて, 計算練習せよ. $\\QED$"
   ]
  },
  {
   "cell_type": "markdown",
   "metadata": {},
   "source": [
    "### 部分積分\n",
    "\n",
    "$f(x)$, $g(x)$ は $C^1$ 級函数であると仮定する.\n",
    "\n",
    "微分の性質\n",
    "\n",
    "$$\n",
    "(f(x)g(x))' = f'(x)g(x) + f(x)g'(x)\n",
    "$$\n",
    "\n",
    "に微分積分学の基本定理(G)と積分の線形性(A)を適用すると\n",
    "\n",
    "$$\n",
    "[f(x)g(x)]_a^b = \\int_a^b (f(x)g(x))'\\,dx = \\int_a^b f'(x)g(x)\\,dx + \\int_a^b f(x)g'(x)\\,dx.\n",
    "$$\n",
    "\n",
    "これは以下と同値である.\n",
    "\n",
    "**(I)** $f(x)$, $g(x)$ は $C^1$ 級函数であるとき, \n",
    "\n",
    "$$\n",
    "\\begin{aligned}\n",
    "&\n",
    "\\int_a^b f'(x)g(x)\\,dx = [f(x)g(x)]_a^b - \\int_a^b f(x)g'(x)\\,dx, \n",
    "\\\\ &\n",
    "\\int_a^b f(x)g'(x)\\,dx = [f(x)g(x)]_a^b - \\int_a^b f'(x)g(x)\\,dx.\n",
    "\\end{aligned}\n",
    "$$\n",
    "\n",
    "左辺の積分を右辺で計算することを**部分積分**と呼ぶ.\n",
    "\n",
    "**問題:** 任意の微積分の教科書を参照して, 部分積分を使って計算する積分計算の面白い問題を見付けて, 計算練習せよ. $\\QED$"
   ]
  },
  {
   "cell_type": "markdown",
   "metadata": {},
   "source": [
    "## 積分の近似"
   ]
  },
  {
   "cell_type": "markdown",
   "metadata": {},
   "source": [
    "$a<b$ であると仮定し, $f$ は閉区間 $[a,b]$ 上の連続函数であると仮定する."
   ]
  },
  {
   "cell_type": "markdown",
   "metadata": {},
   "source": [
    "### Riemann和\n",
    "\n",
    "閉区間 $[a,b]$ の分割 $a=x_0\\leqq x_1\\leqq\\cdots\\leqq x_N=b$ と $x_i^*\\in[x_{i-1},x_i]$ と $\\Delta x_i=x_i-x_{i-1}$ に対して, 和\n",
    "\n",
    "$$\n",
    "\\sum_{i=1}^N f(x_i^*)\\Delta x_i = \\sum_{i=1}^N f(x_i*)(x_i-x_{i-1})\n",
    "$$\n",
    "\n",
    "を**Riemann和**と呼ぶ.  \n",
    "\n",
    "$\\Delta x_i$ の最大値を小さくすることによって(分割を細かくすることによって), Riemann和で積分 $\\int_a^b f(x)\\,dx$ を幾らでも近似できることを積分の基本性質のみを使って証明しよう.\n",
    "\n",
    "**証明:** 任意の $\\eps>0$ を取る.  $f(x)$ は閉区間 $[a,b]$ 上の連続函数であると仮定してあったので, $f(x)$ は閉区間 $[a,b]$ 上の一様連続函数になる. $\\Delta x_i$ 達の最大値を十分小さくすれば\n",
    "\n",
    "$$\n",
    "|f(x)-f(x_i^*)| \\leqq \\frac{\\eps}{b-a}\\quad (x_{i-1}\\leqq x\\leqq x_i)\n",
    "$$\n",
    "\n",
    "となる. したがって, \n",
    "\n",
    "$$\n",
    "\\begin{aligned}\n",
    "\\left|\\sum_{i=1}^N f(x_i^*)\\Delta x_i-\\int_a^b f(x)\\,dx\\right| &=\n",
    "\\left|\\sum_{i=1}^N \\int_{x_{i-1}}^{x_i}f(x_i^*)\\,dx-\\sum_{i=1}^N\\int_{x_{i-1}}^{x_i} f(x)\\,dx\\right|\n",
    "\\\\ &=\n",
    "\\left|\\sum_{i=1}^N \\int_{x_{i-1}}^{x_i}(f(x_i^*)-f(x))\\,dx\\right|\n",
    "\\\\ &\\leqq\n",
    "\\sum_{i=1}^N \\left|\\int_{x_{i-1}}^{x_i}(f(x_i^*)-f(x))\\,dx\\right|\n",
    "\\\\ &\\leqq\n",
    "\\sum_{i=1}^N \\int_{x_{i-1}}^{x_i}|f(x_i^*)-f(x)|\\,dx\n",
    "\\\\ &\\leqq\n",
    "\\sum_{i=1}^N \\int_{x_{i-1}}^{x_i}\\frac{\\eps}{b-a}\\,dx =\n",
    "\\sum_{i=1}^N \\frac{\\eps}{b-a}\\Delta x_i \n",
    "\\\\ &= \n",
    "\\frac{\\eps}{b-a}(b-a) = \n",
    "\\eps\n",
    "\\end{aligned}\n",
    "$$\n",
    "\n",
    "以上によって, 閉区間 $[a,b]$ の分割を細かくすることによって, Riemann和で積分を誤差 $\\eps$ 以下で近似できることを示せた. $\\QED$"
   ]
  },
  {
   "cell_type": "markdown",
   "metadata": {},
   "source": [
    "### 台形公式\n",
    "\n",
    "閉区間 $[a,b]$ の分割 $a=x_0\\leqq x_1\\leqq\\cdots\\leqq x_N=b$ に対する和\n",
    "\n",
    "$$\n",
    "\\sum_{i=1}^N \\frac{f(x_{i-1})+f(x_i)}{2}\\Delta x_i\n",
    "$$\n",
    "\n",
    "で積分 $\\int_a^b f(x)\\,dx$ を近似することもできる. これを**台形公式**(trapezoidal rule)と呼ぶ."
   ]
  },
  {
   "cell_type": "markdown",
   "metadata": {},
   "source": [
    "### Simpsonの公式\n",
    "\n",
    "閉区間 $[a,b]$ の分割 $a=x_0\\leqq x_1\\leqq\\cdots\\leqq x_N=b$ に対する和\n",
    "\n",
    "$$\n",
    "\\sum_{i=1}^N \\frac{f(x_{i-1}) + 4\\,f((x_{i-1}+x_i)/2) + f(x_i)}{6}\\Delta x_i\n",
    "$$\n",
    "\n",
    "で積分 $\\int_a^b f(x)\\,dx$ を近似することもできる. これを**Simpsonの公式**(Simpson's rule)と呼ぶ."
   ]
  },
  {
   "cell_type": "markdown",
   "metadata": {},
   "source": [
    "**Simpsonの公式の由来:** $a<b$ であるとし, $c=(a+b)/2$ とおく. このとき, $f(a)=\\alpha$, $f(c)=\\gamma$, $f(b)=\\beta$ を満たす2次以下の多項式 $f(x)$ が一意的に決まり, \n",
    "\n",
    "$$\n",
    "f(x) = \n",
    "\\alpha\\frac{(x-b)(x-c)}{(a-b)(a-c)} + \n",
    "\\beta \\frac{(x-a)(x-c)}{(b-a)(b-c)} + \n",
    "\\gamma\\frac{(x-a)(x-b)}{(c-a)(c-b)} \n",
    "$$\n",
    "\n",
    "と一意に表わされる. このとき,\n",
    "\n",
    "$$\n",
    "\\begin{aligned}\n",
    "&\n",
    "\\int_a^b \\frac{(x-b)(x-c)}{(a-b)(a-c)}\\,dx = \\frac{1}{6}(b-a), \n",
    "\\\\ &\n",
    "\\int_a^b \\frac{(x-b)(x-c)}{(a-b)(a-c)}\\,dx = \\frac{1}{6}(b-a), \n",
    "\\\\ &\n",
    "\\int_a^b \\frac{(x-b)(x-c)}{(a-b)(a-c)}\\,dx = \\frac{4}{6}(b-a)\n",
    "\\end{aligned}\n",
    "$$\n",
    "\n",
    "となることを確認できるので\n",
    "\n",
    "$$\n",
    "\\int_a^b f(x)\\,dx = \\frac{f(a)+4f((a+b)/2)+f(b)}{6}(b-a)\n",
    "$$\n",
    "\n",
    "となることがわかる.\n",
    "\n",
    "つまり, $f(x)$ が2次函数のとき閉区間 $[a,b]$ の自明な分割 $a=a_0<a_1=b$ に関するSimpsonの公式は誤差無しで積分の値を計算する公式になっている. $\\QED$\n",
    "\n",
    "Simpsonの公式の他の解釈については\n",
    "\n",
    "* 黒木玄, <a href=\"https://genkuroki.github.io/documents/20170724EulerMaclaurin.pdf\">Euler-Maclaurinの和公式の一般化</a>\n",
    "\n",
    "の第3.5と第3.6節を参照せよ."
   ]
  },
  {
   "cell_type": "markdown",
   "metadata": {},
   "source": [
    "**問題:** 上のSimpsonの公式の由来の解説において結果だけを書いた積分計算を自分で実行せよ. $\\QED$\n",
    "\n",
    "解答略."
   ]
  },
  {
   "cell_type": "code",
   "execution_count": 2,
   "metadata": {},
   "outputs": [
    {
     "data": {
      "text/latex": [
       "\\begin{bmatrix}- \\frac{1}{6} \\left(a - b\\right)\\\\- \\frac{1}{6} \\left(a - b\\right)\\\\- \\frac{2}{3} \\left(a - b\\right)\\end{bmatrix}"
      ],
      "text/plain": [
       "3-element Array{SymPy.Sym,1}:\n",
       "   -(a - b)/6\n",
       "   -(a - b)/6\n",
       " -2*(a - b)/3"
      ]
     },
     "execution_count": 2,
     "metadata": {},
     "output_type": "execute_result"
    }
   ],
   "source": [
    "a, b, x = symbols(\"a b x\", real=true)\n",
    "c = (a+b)/2\n",
    "[\n",
    "    factor(simplify(integrate((x-b)*(x-c), (x, a, b)))/((a-b)*(a-c))),\n",
    "    factor(simplify(integrate((x-a)*(x-c), (x, a, b)))/((b-a)*(b-c))),\n",
    "    factor(simplify(integrate((x-a)*(x-b), (x, a, b)))/((c-a)*(c-b))),\n",
    "]"
   ]
  },
  {
   "cell_type": "markdown",
   "metadata": {},
   "source": [
    "**問題:** Simpsonの公式の由来の説明に基いて, 以下の公式を導け.\n",
    "\n",
    "$$\n",
    "\\int_a^b (x-a)(x-b)\\,dx = -\\frac{(b-a)^3}{6}, \\quad\n",
    "\\int_a^b (x-a)\\left(x-\\tfrac{a+b}{2}\\right)\\,dx = \\frac{(b-a)^3}{12}.\n",
    "\\qquad \\QED\n",
    "$$\n",
    "\n",
    "解答略."
   ]
  },
  {
   "cell_type": "code",
   "execution_count": 3,
   "metadata": {},
   "outputs": [
    {
     "data": {
      "text/latex": [
       "\\begin{bmatrix}\\frac{1}{6} \\left(a - b\\right)^{3}\\\\- \\frac{1}{12} \\left(a - b\\right)^{3}\\end{bmatrix}"
      ],
      "text/plain": [
       "2-element Array{SymPy.Sym,1}:\n",
       "   (a - b)^3/6\n",
       " -(a - b)^3/12"
      ]
     },
     "execution_count": 3,
     "metadata": {},
     "output_type": "execute_result"
    }
   ],
   "source": [
    "a, b, x = symbols(\"a b x\", real=true)\n",
    "c = (a+b)/2\n",
    "\n",
    "sol = [\n",
    "    integrate((x-a)*(x-b), (x,a,b)),\n",
    "    integrate((x-a)*(x-c), (x,a,b)),\n",
    "]\n",
    "factor.(simplify.(sol))"
   ]
  },
  {
   "cell_type": "markdown",
   "metadata": {},
   "source": [
    "**問題:** 円周率を表わす2種類の積分\n",
    "\n",
    "$$\n",
    "4\\int_0^1\\sqrt{1-x^2}\\,dx = \\pi, \\quad\n",
    "4\\int_0^1\\frac{dx}{1+x^2} = \\pi\n",
    "$$\n",
    "\n",
    "の近似計算を, 閉区間 $[0,1]$ の分割 $x_i = i/N$ ($i=0,1,\\ldots,N$) と $x_i^*=(x_{i-1}+x_i)/2$ に関するRiemann和と台形公式とSimpsonの公式で実際に実行してみよ. $N=10$ の場合にどうなるか? $\\QED$"
   ]
  },
  {
   "cell_type": "code",
   "execution_count": 4,
   "metadata": {},
   "outputs": [
    {
     "data": {
      "text/plain": [
       "SymPyIntegrate (generic function with 1 method)"
      ]
     },
     "execution_count": 4,
     "metadata": {},
     "output_type": "execute_result"
    }
   ],
   "source": [
    "function RiemannSum(f, a, b, N)\n",
    "    Δx = (b-a)/N\n",
    "    sum(i->f(a+(i-1/2)*Δx)*Δx, 1:N)\n",
    "end\n",
    "\n",
    "function TrapezoidalRule(f, a, b, N)\n",
    "    Δx = (b-a)/N\n",
    "    sum(i->(f(a+(i-1)*Δx)+f(a+i*Δx))/2*Δx, 1:N)\n",
    "end\n",
    "\n",
    "function SimpsonRule(f, a, b, N)\n",
    "    Δx = (b-a)/N\n",
    "    sum(i->(f(a+(i-1)*Δx)+4f(a+(i-1/2)*Δx)+f(a+i*Δx))/6*Δx, 1:N)\n",
    "end\n",
    "\n",
    "function SymPyIntegrate(f, a, b)\n",
    "    x = symbols(\"x\", real=true)\n",
    "    integrate(f(x), (x, a, b))\n",
    "end"
   ]
  },
  {
   "cell_type": "code",
   "execution_count": 5,
   "metadata": {},
   "outputs": [
    {
     "name": "stdout",
     "output_type": "stream",
     "text": [
      "RiemannSum(f, a, b, N) = 5.0\n",
      "TrapezoidalRule(f, a, b, N) = 5.0\n",
      "SimpsonRule(f, a, b, N) = 5.0\n",
      "s = SymPyIntegrate(f, Sym(0), Sym(1)) = 5\n"
     ]
    },
    {
     "data": {
      "text/plain": [
       "5.0"
      ]
     },
     "execution_count": 5,
     "metadata": {},
     "output_type": "execute_result"
    }
   ],
   "source": [
    "f(x) = 4x + 3\n",
    "a, b = 0.0, 1.0\n",
    "N = 10\n",
    "\n",
    "@show RiemannSum(f, a, b, N)\n",
    "@show TrapezoidalRule(f, a, b, N)\n",
    "@show SimpsonRule(f, a, b, N)\n",
    "@show s = SymPyIntegrate(f, Sym(0), Sym(1))\n",
    "float(s)"
   ]
  },
  {
   "cell_type": "code",
   "execution_count": 6,
   "metadata": {},
   "outputs": [
    {
     "name": "stdout",
     "output_type": "stream",
     "text": [
      "RiemannSum(f, a, b, N) = 3.1650000000000005\n",
      "TrapezoidalRule(f, a, b, N) = 3.170000000000001\n",
      "SimpsonRule(f, a, b, N) = 3.166666666666667\n",
      "s = SymPyIntegrate(f, Sym(0), Sym(1)) = 19/6\n"
     ]
    },
    {
     "data": {
      "text/plain": [
       "3.1666666666666665"
      ]
     },
     "execution_count": 6,
     "metadata": {},
     "output_type": "execute_result"
    }
   ],
   "source": [
    "f(x) = 2x^2 - x + 3\n",
    "a, b = 0.0, 1.0\n",
    "N = 10\n",
    "\n",
    "@show RiemannSum(f, a, b, N)\n",
    "@show TrapezoidalRule(f, a, b, N)\n",
    "@show SimpsonRule(f, a, b, N)\n",
    "@show s = SymPyIntegrate(f, Sym(0), Sym(1))\n",
    "float(s)"
   ]
  },
  {
   "cell_type": "code",
   "execution_count": 7,
   "metadata": {},
   "outputs": [
    {
     "name": "stdout",
     "output_type": "stream",
     "text": [
      "RiemannSum(f, a, b, N) = 3.1524114332616446\n",
      "TrapezoidalRule(f, a, b, N) = 3.1045183262483182\n",
      "SimpsonRule(f, a, b, N) = 3.136447064257202\n",
      "s = SymPyIntegrate(f, Sym(0), Sym(1)) = pi\n"
     ]
    },
    {
     "data": {
      "text/plain": [
       "3.141592653589793"
      ]
     },
     "execution_count": 7,
     "metadata": {},
     "output_type": "execute_result"
    }
   ],
   "source": [
    "f(x) = 4*√(1-x^2)\n",
    "a, b = 0.0, 1.0\n",
    "N = 10\n",
    "\n",
    "@show RiemannSum(f, a, b, N)\n",
    "@show TrapezoidalRule(f, a, b, N)\n",
    "@show SimpsonRule(f, a, b, N)\n",
    "@show s = SymPyIntegrate(f, Sym(0), Sym(1))\n",
    "float(s)"
   ]
  },
  {
   "cell_type": "code",
   "execution_count": 8,
   "metadata": {},
   "outputs": [
    {
     "name": "stdout",
     "output_type": "stream",
     "text": [
      "RiemannSum(f, a, b, N) = 3.142425985001098\n",
      "TrapezoidalRule(f, a, b, N) = 3.1399259889071587\n",
      "SimpsonRule(f, a, b, N) = 3.1415926529697855\n",
      "s = SymPyIntegrate(f, Sym(0), Sym(1)) = pi\n"
     ]
    },
    {
     "data": {
      "text/plain": [
       "3.141592653589793"
      ]
     },
     "execution_count": 8,
     "metadata": {},
     "output_type": "execute_result"
    }
   ],
   "source": [
    "f(x) = 4/(1+x^2)\n",
    "a, b = 0.0, 1.0\n",
    "N = 10\n",
    "\n",
    "@show RiemannSum(f, a, b, N)\n",
    "@show TrapezoidalRule(f, a, b, N)\n",
    "@show SimpsonRule(f, a, b, N)\n",
    "@show s = SymPyIntegrate(f, Sym(0), Sym(1))\n",
    "float(s)"
   ]
  },
  {
   "cell_type": "code",
   "execution_count": 9,
   "metadata": {},
   "outputs": [
    {
     "data": {
      "text/plain": [
       "-6.200076008155975e-10"
      ]
     },
     "execution_count": 9,
     "metadata": {},
     "output_type": "execute_result"
    }
   ],
   "source": [
    "SimpsonRule(f, a, b, N) - π"
   ]
  },
  {
   "cell_type": "markdown",
   "metadata": {},
   "source": [
    "$\\ds 4\\int_0^1\\frac{dx}{1+x^2}=\\pi$ の左辺を10分割のSimpsonの公式で計算すると, 小数点以下8桁まで円周率を正確に求めることができている！たったの10分割でしかないのに！"
   ]
  },
  {
   "cell_type": "markdown",
   "metadata": {},
   "source": [
    "## 広義積分\n",
    "\n",
    "無限区間もしくは区間 $(a,b)$ の端で発散しているかもしれない函数 $f(x)$ について極限\n",
    "\n",
    "$$\n",
    "\\lim_{\\alpha\\searrow a,\\ \\beta\\nearrow b} \\int_\\alpha^\\beta f(x)\\,dx\n",
    "$$\n",
    "\n",
    "を**広義積分**と呼ぶ. 極限が存在しなければ広義積分は存在しない. 広義積分は\n",
    "\n",
    "$$\n",
    "\\lim_{\\alpha\\searrow a,\\ \\beta\\nearrow b} \\int_\\alpha^\\beta |f(x)|\\,dx\n",
    "$$\n",
    "\n",
    "が収束するとき**絶対収束**するという. もとの広義積分は収束するが, こちらの絶対値を付けた広義積分が収束しないとき, その広義積分は**条件収束**するという.\n",
    "\n",
    "応用上重要な積分のかなりの割合が無限区間 $(-\\infty, \\infty)$, $(0,\\infty)$ 上の積分になり, 有限区間 $(a,b)$ 上の積分であっても広義積分になっていることが多い.\n",
    "\n",
    "例えば, **Gauss積分**や**Fourier変換**は無限区間 $(-\\infty,\\infty)$ 上の積分で定義され, **ガンマ函数**は半無限区間 $(0,\\infty)$ 上の積分で定義され, **ベータ函数**は有限開区間 $(0,1)$ 上の広義積分で定義される."
   ]
  },
  {
   "cell_type": "markdown",
   "metadata": {},
   "source": [
    "**注意:** 広義積分を表すときに毎回 $\\lim$ 記号を書くのは面倒なので, 通常の積分と同じ記号法で\n",
    "\n",
    "$$\n",
    "\\int_a^b f(x)\\,dx = \\lim_{\\alpha\\searrow a,\\ \\beta\\nearrow b} \\int_\\alpha^\\beta f(x)\\,dx\n",
    "$$\n",
    "\n",
    "と書くことが多い. さらに $f(x)=F'(x)$ のとき,\n",
    "\n",
    "$$\n",
    "\\lim_{\\alpha\\searrow a,\\ \\beta\\nearrow b}  \\int_\\alpha^\\beta f(x)\\,dx =\n",
    "\\lim_{\\alpha\\searrow a,\\ \\beta\\nearrow b}  [F(x)]_\\alpha^\\beta =\n",
    "\\lim_{\\beta\\nearrow b} F(\\beta) - \\lim_{\\alpha\\searrow a}F(\\alpha).\n",
    "$$\n",
    "\n",
    "であるが, これの右辺を記号の簡単のため\n",
    "\n",
    "$$\n",
    "[F(x)]_a^b = \\lim_{\\beta\\nearrow b} F(\\beta) - \\lim_{\\alpha\\searrow a}F(\\alpha)\n",
    "$$\n",
    "\n",
    "と書くことにする. $\\QED$"
   ]
  },
  {
   "cell_type": "markdown",
   "metadata": {},
   "source": [
    "**注意:** 部分積分や置換積分は極限操作に注意を払えばそのまま広義積分にも適用可能である. $\\QED$"
   ]
  },
  {
   "cell_type": "markdown",
   "metadata": {},
   "source": [
    "**注意:** 部分積分\n",
    "\n",
    "$$\n",
    "\\int_a^b f'(x)g(x)\\,dx = [f(x)g(x)]_a^b - \\int_a^b f(x)g'(x)\\,dx\n",
    "$$\n",
    "\n",
    "は\n",
    "\n",
    "特に $[f(x)g(x)]_a^b=0$ すなわち\n",
    "\n",
    "$$\n",
    "\\lim_{\\alpha\\searrow a}f(\\alpha)g(\\alpha) = \\lim_{\\beta\\nearrow b}f(\\beta)g(\\beta)\n",
    "$$\n",
    "\n",
    "のときに便利である. そのとき, 部分積分の公式は\n",
    "\n",
    "$$\n",
    "\\int_a^b f'(x)g(x)\\,dx = -\\int_a^b f(x)g'(x)\\,dx\n",
    "$$\n",
    "\n",
    "となる. これは $f$ の微分を $g$ に移動すると $-1$ 倍になることを意味している. 部分積分はこの形で使われることが多い. \n",
    "\n",
    "特に, $[f(x)g(x)]_a^b=0$ の十分条件として,\n",
    "\n",
    "$$\n",
    "\\lim_{\\alpha\\searrow a}f(\\alpha)g(\\alpha) = 0, \\quad\n",
    "\\lim_{\\beta\\nearrow b}f(\\beta)g(\\beta) = 0\n",
    "$$\n",
    "\n",
    "という条件は非常によく出て来る. $\\QED$"
   ]
  },
  {
   "cell_type": "markdown",
   "metadata": {},
   "source": [
    "### 絶対収束する広義積分の例\n",
    "\n",
    "以下は絶対収束する広義積分の例である.\n",
    "\n",
    "**(1)** $\\ds \\arcsin y = \\int_0^y \\frac{dt}{\\sqrt{1-t^2}}$ なので $\\ds \\int_{-1}^1 \\frac{dt}{\\sqrt{1-t^2}} = \\pi$. 積分区間 $(-1,1)$ の両端で被積分函数 $\\ds\\frac{1}{\\sqrt{1-t^2}}$ は発散している.\n",
    "\n",
    "**(2)** $\\ds \\arctan a = \\int_0^a \\frac{dt}{1+t^2}$ なので $\\ds \\int_{-\\infty}^\\infty \\frac{dt}{1+t^2} = \\pi$.  これは無限区間の積分になっている.\n",
    "\n",
    "以上の2つの $\\pi$ は単位半円周の長さを意味する.\n",
    "\n",
    "**(3)** $s>0$ に対するガンマ函数の定義 $\\ds \\Gamma(s)=\\int_0^\\infty e^{-x}x^{s-1}\\,dx$ は無限区間の積分になっており, $0<s<1$ のとき $x\\searrow 0$ で被積分函数は発散している. \n",
    "\n",
    "$x\\to\\infty$ で $e^{-x}x^{s-1}$ は急速に $0$ に近付くので $\\ds \\int_1^\\infty e^{-x}x^{s-1}\\,dx$ はどんな $s$ の値に対しても収束している. \n",
    "\n",
    "$s\\ne 0$ のとき $\\ds \\int x^{s-1}\\,dx = \\frac{x^s}{s}$ なので $s>0$ ならば $s<1$ であっても $\\ds \\int_0^1 x^{s-1}\\,ds=\\frac{1}{s}$ (有限の値)となる. これより $s>0$ のとき $\\ds \\int_0^1 e^{-x}x^{s-1}\\,dx$ も収束することがわかる. ($x>0$ で $e^{-x}<1$ となることに注意せよ.)"
   ]
  },
  {
   "cell_type": "markdown",
   "metadata": {},
   "source": [
    "**問題:** 任意の実数 $s$ に対して, 積分 $\\ds \\int_1^\\infty e^{-x}x^{s-1}\\,dx$ が有限の値に収束することを示せ.\n",
    "\n",
    "**解答例:** 指数函数は多項式函数よりも速く増大するので, $R>1$ を十分大きくすると, $x\\geqq R$ で $\\ds e^{-x/2}x^{s-1}\\leqq 1$ となる. ゆえに\n",
    "\n",
    "$$\n",
    "e^{-x}x^{s-1} \\leqq e^{-x/2}\\quad (x\\geqq R).\n",
    "$$\n",
    "\n",
    "ゆえに\n",
    "\n",
    "$$\n",
    "\\begin{aligned}\n",
    "\\int_1^\\infty e^{-x}x^{s-1}\\,dx &= \n",
    "\\int_1^R e^{-x}x^{s-1}\\,dx + \\int_R^\\infty e^{-x}x^{s-1}\\,dx \n",
    "\\\\ &\\leqq\n",
    "\\int_1^R e^{-x}x^{s-1}\\,dx + \\int_R^\\infty e^{-x/2}\\,dx\n",
    "\\\\ &=\n",
    "\\int_1^R e^{-x}x^{s-1}\\,dx + 2e^{-R/2} < \\infty.\n",
    "\\qquad \\QED\n",
    "\\end{aligned}\n",
    "$$\n",
    "\n",
    "**注意:** 指数函数部分 $e^{-x}$ を $e^{-x/2}$ と $e^{-x/2}$ に分けてその片方をもう1つの因子と比較するというような方法はよく使われる. $\\QED$"
   ]
  },
  {
   "cell_type": "markdown",
   "metadata": {},
   "source": [
    "**(4)** $p>0$, $q>0$ に対するベータ函数の定義 $\\ds B(p,q)=\\int_0^1 x^{p-1}(1-x)^{q-1}\\,dx$ の被積分函数は,  $0<p<1$ ならば積分区間の左端で, $0<q<1$ ならば積分区間の右端で発散している.\n",
    "\n",
    "しかし, $p>0$ ならば $p<1$ であっても $\\ds \\int_0^1 x^{p-1}\\,ds=\\frac{1}{p}$ (有限の値)となることから左端でも積分は収束する. 同様にして, $q>0$ ならば右端でも積分は収束する.\n",
    "\n",
    "**(5)** $a>0$ と仮定する. $f(x)=e^{-x^2/a}$ のFourier変換\n",
    "\n",
    "$$\n",
    "\\hat{f}(p) = \n",
    "\\int_{-\\infty}^\\infty e^{-ipx} f(x)\\,dx =\n",
    "\\int_{-\\infty}^\\infty e^{-x^2/a}\\cos(px)\\,dx\n",
    "$$\n",
    "\n",
    "の積分区間は無限区間である. $x\\to\\pm\\infty$ で $e^{-x^2/a}$ が急速に $0$ に近付くのでこの積分は絶対収束する."
   ]
  },
  {
   "cell_type": "markdown",
   "metadata": {},
   "source": [
    "**問題(正弦函数のLaplace変換):** $s>0$ と仮定する. 次の公式を示せ:\n",
    "\n",
    "$$\n",
    "\\int_0^\\infty e^{-st}\\sin(pt)\\,dt = \\frac{p}{p^2+s^2}.\n",
    "$$\n",
    "\n",
    "**解答例:** $\\ds f(s) = \\int_0^\\infty e^{-st}\\sin(pt)\\,dt$ とおく.  $\\ds \\frac{\\d}{\\d t}\\left(\\frac{e^{-st}}{-s}\\right)=e^{-st}$ を使った部分積分を2回行う.\n",
    "\n",
    "$$\n",
    "\\begin{aligned}\n",
    "f(s) &=\n",
    "\\int_0^\\infty e^{-st}\\sin(pt)\\,dt =\n",
    "\\left[\\frac{e^{-st}}{-s}\\sin(pt)\\right]_0^\\infty -\n",
    "\\int_0^\\infty \\frac{e^{-st}}{-s}\\;p\\cos(pt)\\,dt\n",
    "\\\\ &=\n",
    "\\frac{p}{s}\\int_0^\\infty e^{-st}\\cos(pt)\\,dt =\n",
    "\\frac{p}{s}\\left(\n",
    "\\left[\\frac{e^{-st}}{-s}\\cos(pt)\\right]_0^\\infty -\n",
    "\\int_0^\\infty \\frac{e^{-st}}{-s}\\;(-p\\sin(pt))\\,dt\n",
    "\\right)\n",
    "\\\\ &=\n",
    "\\frac{p}{s}\\left(\n",
    "\\frac{1}{s} - \\frac{p}{s}f(s)\n",
    "\\right).\n",
    "\\end{aligned}\n",
    "$$\n",
    "\n",
    "これを $f(s)$ について解けば示したい結果が得られる. $\\QED$"
   ]
  },
  {
   "cell_type": "code",
   "execution_count": 10,
   "metadata": {},
   "outputs": [
    {
     "data": {
      "text/latex": [
       "$$\\frac{p}{p^{2} + s^{2}}$$"
      ],
      "text/plain": [
       "   p   \n",
       "-------\n",
       " 2    2\n",
       "p  + s "
      ]
     },
     "execution_count": 10,
     "metadata": {},
     "output_type": "execute_result"
    }
   ],
   "source": [
    "t, s, p = symbols(\"t s p\", real=true, positive=true)\n",
    "simplify(integrate(exp(-s*t)*sin(p*t), (t,0,oo)))"
   ]
  },
  {
   "cell_type": "markdown",
   "metadata": {},
   "source": [
    "### 条件収束する広義積分の例\n",
    "\n",
    "以下は条件収束する広義積分に関する有名な公式である. \n",
    "\n",
    "**(1)** Dirichlet積分: $\\ds \\int_0^\\infty \\frac{\\sin x}{x}\\,dx = \\frac{\\pi}{2}$.\n",
    "\n",
    "**(2)** Dirichelet積分の一般化:\n",
    "\n",
    "$$\n",
    "\\int_0^\\infty \\frac{e^{-ax}\\sin x}{x}\\,dx = \n",
    "\\int_a^\\infty\\frac{dt}{1+t^2} = \\frac{\\pi}{2} - \\arctan a\n",
    "\\quad (a\\geqq 0).\n",
    "$$\n",
    "\n",
    "これはDirichlet積分になる $a=0$ の場合にのみ条件収束する.\n",
    "\n",
    "**(3)** Fresnel積分(の特殊値): \n",
    "\n",
    "$$\n",
    "\\int_{-\\infty}^\\infty \\cos(t^2)\\,dt = \n",
    "\\int_{-\\infty}^\\infty \\sin(t^2)\\,dt = \n",
    "\\sqrt{\\frac{\\pi}{2}}.\n",
    "$$\n",
    "\n",
    "**(4)** 上の続き. (3)における被積分函数は $t$ の偶函数なので $(0,\\infty)$ 上の積分に書き直して, $t=\\sqrt{x}$ と置換すると\n",
    "\n",
    "$$\n",
    "\\int_0^\\infty \\frac{\\cos x}{\\sqrt{x}}\\,dx = \n",
    "\\int_0^\\infty \\frac{\\sin x}{\\sqrt{x}}\\,dx = \n",
    "\\sqrt{\\frac{\\pi}{2}}.\n",
    "$$\n",
    "\n",
    "これらの公式の証明については\n",
    "\n",
    "* 黒木玄, <a href=\"https://genkuroki.github.io/documents/20160616KullbackLeibler.pdf\">Kullback-Leibler情報量とSanovの定理</a>\n",
    "\n",
    "を参照せよ. (1), (2)の証明は第5.5節とを参照せよ. (1), (3)の証明は第8.6節を参照せよ."
   ]
  },
  {
   "cell_type": "markdown",
   "metadata": {},
   "source": [
    "**問題:** Dirichlet積分の一般化(2)を示せ.\n",
    "\n",
    "**解答例:** $x>0$ のとき, $\\ds \\frac{e^{-ax}}{x} = \\int_a^\\infty e^{-tx}\\,dt$ なので\n",
    "\n",
    "$$\n",
    "\\int_0^\\infty \\frac{e^{-ax}\\sin x}{x}\\,dx =\n",
    "\\int_0^\\infty \\left(\\int_a^\\infty e^{-tx}\\sin x\\,dt\\right)\\,dx.\n",
    "$$\n",
    "\n",
    "積分順序を交換すると\n",
    "\n",
    "$$\n",
    "\\int_0^\\infty \\frac{e^{-ax}\\sin x}{x}\\,dx =\n",
    "\\int_a^\\infty \\left(\\int_0^\\infty e^{-tx}\\sin x\\,dx\\right)\\,dt.\n",
    "$$\n",
    "\n",
    "上の方の正弦函数のLaplace変換の問題の結果より,\n",
    "\n",
    "$$\n",
    "\\int_0^\\infty \\frac{e^{-ax}\\sin x}{x}\\,dx =\n",
    "\\int_a^\\infty \\frac{1}{1+t^2}\\,dt.\n",
    "$$\n",
    "\n",
    "これで $a>0$ の場合の公式(2)が示された. $\\QED$\n",
    "\n",
    "**注意:** $a>0$ の場合には絶対収束する積分しか出て来ないので積分順序を自由に交換できて簡単である. $a=0$ の場合にも積分順序の交換が可能なことを示せれば $a=0$ の場合の(1)も証明される.  $\\QED$"
   ]
  },
  {
   "cell_type": "markdown",
   "metadata": {},
   "source": [
    "**問題(次の問題の解答例のための準備):** 次の公式を示せ: $t>0$ のとき,\n",
    "\n",
    "$$\n",
    "\\int e^{-tx} \\sin x\\,dx = \\frac{-e^{-tx}}{1+t^2}(t\\sin x+\\cos x).\n",
    "$$\n",
    "\n",
    "**解答例:** 左辺を $I$ とおいて $d(-e^{-tx}/t)/dx=e^{-tx}$ を使った部分積分を2回行うと,\n",
    "\n",
    "$$\n",
    "\\begin{aligned}\n",
    "I &= -\\frac{e^{-tx}\\sin x}{t} + \\frac{1}{t}\\int e^{-tx}\\cos x\\,dx\n",
    "\\\\ &=\n",
    "-\\frac{e^{-tx}\\sin x}{t}-\\frac{e^{-tx}\\cos x}{t^2} - \\frac{1}{t^2}I.\n",
    "\\end{aligned}\n",
    "$$\n",
    "\n",
    "これを $I$ について解けば欲しい結果が得られる. $\\QED$\n",
    "\n",
    "この問題の結果より, 特に\n",
    "\n",
    "$$\n",
    "\\int_0^R e^{-tx}\\sin x\\,dx = -e^{-tR}\\frac{t\\sin R+\\cos R}{1+t^2} + \\frac{1}{1+t^2}.\n",
    "$$"
   ]
  },
  {
   "cell_type": "code",
   "execution_count": 11,
   "metadata": {},
   "outputs": [
    {
     "data": {
      "text/latex": [
       "$$- \\frac{e^{- t x}}{t^{2} + 1} \\left(t \\sin{\\left (x \\right )} + \\cos{\\left (x \\right )}\\right)$$"
      ],
      "text/plain": [
       "                      -t*x \n",
       "-(t*sin(x) + cos(x))*e     \n",
       "---------------------------\n",
       "            2              \n",
       "           t  + 1          "
      ]
     },
     "execution_count": 11,
     "metadata": {},
     "output_type": "execute_result"
    }
   ],
   "source": [
    "t, x = symbols(\"t x\", positive=true)\n",
    "factor(integrate(exp(-t*x)*sin(x), x))"
   ]
  },
  {
   "cell_type": "markdown",
   "metadata": {},
   "source": [
    "**問題:** Dirichlet積分の公式(1)を示せ.\n",
    "\n",
    "**解答例:** $R>0$ であるとする. $x>0$ のとき, $\\ds \\frac{1}{x} = \\int_0^\\infty e^{-tx}\\,dt$ なので\n",
    "\n",
    "$$\n",
    "\\int_0^R \\frac{\\sin x}{x}\\,dx =\n",
    "\\int_0^R \\left(\\int_0^\\infty e^{-tx}\\sin x\\,dt\\right)\\,dx.\n",
    "$$\n",
    "\n",
    "積分順序を交換すると\n",
    "\n",
    "$$\n",
    "\\int_0^R \\frac{\\sin x}{x}\\,dx =\n",
    "\\int_0^\\infty \\left(\\int_0^R e^{-tx}\\sin x\\,dx\\right)\\,dt.\n",
    "$$\n",
    "\n",
    "すぐ上の問題の結果より, \n",
    "\n",
    "$$\n",
    "\\int_0^R \\frac{\\sin x}{x}\\,dx =\n",
    "\\int_0^\\infty\\frac{-e^{-tR}}{1+t^2}(t\\sin R+\\cos R)\\,dt + \n",
    "\\int_0^\\infty \\frac{dt}{1+t^2}.\n",
    "$$\n",
    "\n",
    "右辺の前者積分は $R\\to\\infty$ で $0$ に収束し, 後者の積分は $\\pi/2$ に等しいので,\n",
    "\n",
    "$$\n",
    "\\int_0^\\infty \\frac{\\sin x}{x}\\,dx =\n",
    "\\lim_{R\\to\\infty}\\int_0^R \\frac{\\sin x}{x}\\,dx =\n",
    "\\frac{\\pi}{2}.\n",
    "$$\n",
    "\n",
    "これで公式(1)が示された. $\\QED$\n",
    "\n",
    "**注意:** $a>0$ の場合には絶対収束する積分しか出て来ないので積分順序を自由に交換できて簡単である. $a=0$ の場合にも積分順序の交換が可能なことを示せれば $a=0$ の場合の(1)も証明される.  $\\QED$"
   ]
  },
  {
   "cell_type": "code",
   "execution_count": null,
   "metadata": {},
   "outputs": [],
   "source": []
  }
 ],
 "metadata": {
  "_draft": {
   "nbviewer_url": "https://gist.github.com/73df40588e75b57982ca93d885243ac6"
  },
  "gist": {
   "data": {
    "description": "09 integration.ipynb",
    "public": true
   },
   "id": "73df40588e75b57982ca93d885243ac6"
  },
  "kernelspec": {
   "display_name": "Julia 0.6.3",
   "language": "julia",
   "name": "julia-0.6"
  },
  "language_info": {
   "file_extension": ".jl",
   "mimetype": "application/julia",
   "name": "julia",
   "version": "0.6.3"
  },
  "toc": {
   "nav_menu": {},
   "number_sections": true,
   "sideBar": true,
   "skip_h1_title": true,
   "title_cell": "Table of Contents",
   "title_sidebar": "Contents",
   "toc_cell": true,
   "toc_position": {},
   "toc_section_display": true,
   "toc_window_display": false
  }
 },
 "nbformat": 4,
 "nbformat_minor": 2
}
