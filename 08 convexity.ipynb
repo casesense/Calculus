{
 "cells": [
  {
   "cell_type": "markdown",
   "metadata": {},
   "source": [
    "# 函数の凸性とその応用\n",
    "\n",
    "黒木玄\n",
    "\n",
    "2018-06-11\n",
    "\n",
    "* Copyright 2018 Gen Kuroki\n",
    "* License: MIT https://opensource.org/licenses/MIT\n",
    "\n",
    "このファイルは次の場所できれいに閲覧できる:\n",
    "\n",
    "* http://nbviewer.jupyter.org/github/genkuroki/Calculus/blob/master/06%20convexity.ipynb\n",
    "\n",
    "このファイルは <a href=\"https://juliabox.com\">Julia Box</a> で利用できる.\n",
    "\n",
    "自分のパソコンに<a href=\"https://julialang.org/\">Julia言語</a>をインストールしたい場合には\n",
    "\n",
    "* <a href=\"http://nbviewer.jupyter.org/gist/genkuroki/81de23edcae631a995e19a2ecf946a4f\">WindowsへのJulia言語のインストール</a>\n",
    "\n",
    "を参照せよ.\n",
    "\n",
    "論理的に完璧な説明をするつもりはない. 細部のいい加減な部分は自分で訂正・修正せよ.\n",
    "\n",
    "$\n",
    "\\newcommand\\eps{\\varepsilon}\n",
    "\\newcommand\\ds{\\displaystyle}\n",
    "\\newcommand\\Z{{\\mathbb Z}}\n",
    "\\newcommand\\R{{\\mathbb R}}\n",
    "\\newcommand\\C{{\\mathbb C}}\n",
    "\\newcommand\\QED{\\text{□}}\n",
    "\\newcommand\\root{\\sqrt}\n",
    "$"
   ]
  },
  {
   "cell_type": "markdown",
   "metadata": {
    "toc": true
   },
   "source": [
    "<h1>Table of Contents<span class=\"tocSkip\"></span></h1>\n",
    "<div class=\"toc\"><ul class=\"toc-item\"><li><span><a href=\"#凸函数の定義\" data-toc-modified-id=\"凸函数の定義-1\"><span class=\"toc-item-num\">1&nbsp;&nbsp;</span>凸函数の定義</a></span></li><li><span><a href=\"#2階の導函数の非負ならば下に凸であること\" data-toc-modified-id=\"2階の導函数の非負ならば下に凸であること-2\"><span class=\"toc-item-num\">2&nbsp;&nbsp;</span>2階の導函数の非負ならば下に凸であること</a></span></li><li><span><a href=\"#Jensenの不等式\" data-toc-modified-id=\"Jensenの不等式-3\"><span class=\"toc-item-num\">3&nbsp;&nbsp;</span>Jensenの不等式</a></span><ul class=\"toc-item\"><li><span><a href=\"#期待値汎函数\" data-toc-modified-id=\"期待値汎函数-3.1\"><span class=\"toc-item-num\">3.1&nbsp;&nbsp;</span>期待値汎函数</a></span></li><li><span><a href=\"#Jensenの不等式とその証明\" data-toc-modified-id=\"Jensenの不等式とその証明-3.2\"><span class=\"toc-item-num\">3.2&nbsp;&nbsp;</span>Jensenの不等式とその証明</a></span></li><li><span><a href=\"#相加相乗平均の不等式\" data-toc-modified-id=\"相加相乗平均の不等式-3.3\"><span class=\"toc-item-num\">3.3&nbsp;&nbsp;</span>相加相乗平均の不等式</a></span></li></ul></li></ul></div>"
   ]
  },
  {
   "cell_type": "markdown",
   "metadata": {},
   "source": [
    "## 凸函数の定義"
   ]
  },
  {
   "cell_type": "markdown",
   "metadata": {},
   "source": [
    "**定義:** 区間 $I$ 上の実数値函数 $f$ が**下に凸**な函数であるとは, 任意の $a,b\\in I$ と実数 $t$ について, \n",
    "\n",
    "$$\n",
    "0\\leqq t\\leqq 1 \\implies f((1-t)a+tb) \\leqq (1-t)f(a)+t f(b) \n",
    "$$\n",
    "\n",
    "を満たしていることである. 逆向きの不等式で上に凸な函数を定義する. すなわち, 区間 $I$ 上の実数値函数 $f$ が**上に凸**な函数であるとは, 任意の $a,b\\in I$ と実数 $t$ について, \n",
    "\n",
    "$$\n",
    "0\\leqq t\\leqq 1 \\implies f((1-t)a+tb) \\geqq (1-t)f(a)+t f(b) \n",
    "$$\n",
    "\n",
    "を満たしていることである. "
   ]
  },
  {
   "cell_type": "markdown",
   "metadata": {},
   "source": [
    "## 2階の導函数の非負ならば下に凸であること"
   ]
  },
  {
   "cell_type": "markdown",
   "metadata": {},
   "source": [
    "**定理:** 区間 $I$ 上の実数値函数 $f$ が $C^2$ 級でかつ $I$ 上で $f''\\geqq 0$ ならば $f$ は下に凸である. 同様に区間 $I$ 上の実数値函数 $f$ が $C^2$ 級でかつ $I$ 上で $f''\\leqq 0$ ならば $f$ は上に凸である.\n",
    "\n",
    "**証明:** 前者のみを証明する. 区間 $I$ 上の実数値函数 $f$ が $C^2$ 級でかつ $I$ 上で $f''\\geqq 0$ であると仮定する. $a,b\\in I$ と仮定し, $c=(1-t)a+tb$ とおく. $0\\leqq t\\leqq 1$ であると仮定する. $(1-t)f(a)+tf(b)\\geqq f(c)$ を示せばよい. $f$ は $C^2$ 級なので Taylor の公式より,\n",
    "\n",
    "$$\n",
    "\\begin{aligned}\n",
    "&\n",
    "f(a) = f(c) + f'(c)(a-c) + R, \\quad R = \\int_a^c dx_1\\int_c^{x_1}dx_2\\;f''(x_2),\n",
    "\\\\ &\n",
    "f(b) = f(c) + f'(c)(b-c) + S, \\quad S = \\int_b^c dx_1\\int_c^{x_1}dx_2\\;f''(x_2).\n",
    "\\end{aligned}\n",
    "$$\n",
    "\n",
    "ゆえに $f''\\geqq 0$ という仮定より, $R\\geqq 0$, $S\\geqq 0$ なので, \n",
    "\n",
    "$$\n",
    "\\begin{aligned}\n",
    "&\n",
    "f(a) \\geqq f(c) + f'(c)(a-c) + R, \n",
    "\\\\ &\n",
    "f(b) \\geqq f(c) + f'(c)(b-c) + S.\n",
    "\\end{aligned}\n",
    "$$\n",
    "\n",
    "1つ目の不等式の両辺に $(1-t)$ をかけ, 2つめの不等式の両辺に $t$ をかけると\n",
    "\n",
    "$$\n",
    "\\begin{aligned}\n",
    "(1-t)f(a) &\\geqq (1-t)f(c) + f'(c)((1-t)a-(1-t)c),\n",
    "\\\\ \n",
    "tf(b)     &\\geqq tf(c) + f'(c)(tb-tc).\n",
    "\\end{aligned}\n",
    "$$\n",
    "\n",
    "これらをたすと, $c = (1-t)a+tb$ とおいたことより, \n",
    "\n",
    "$$\n",
    "\\begin{aligned}\n",
    "(1-t)f(a)+tf(b) &\\geqq f(c) + f'(c)((1-t)a+tb-c) = f(c).\n",
    "\\end{aligned}\n",
    "$$\n",
    "\n",
    "これで $f$ が下に凸であることが示された. $\\QED$\n",
    "\n",
    "**注意:** 上の証明の本質はTaylorの公式の剰余項 $R$, $S$ が0以上になることである. $f$ が $C^2$ 級であるという仮定を2回微分可能であるという仮定にゆるめても, $c$ と $a$ のあいだのある実数 $\\xi$ が存在して, \n",
    "\n",
    "$$\n",
    "f(a) = f(c) + f'(c)(a-c) + R, \\quad R = \\frac{1}{2}f''(\\xi)(c-a)\n",
    "$$\n",
    "\n",
    "となるという形でTaylorの定理が成立している. $f''\\geqq 0$ ならば $R\\geqq 0$ となる.  このことを使えば上の定理で $C^2$ 級の仮定を2回微分可能であるという仮定に弱めることができる. $\\QED$\n",
    "\n",
    "**問題:** 上と同様にして $f''\\leqq 0$ ならば $f$ が上に凸であることの証明を書き下せ.  さらに上の定理における $C^2$ 級の仮定を2回微分可能性に弱めた場合の証明も書き下せ. $\\QED$"
   ]
  },
  {
   "cell_type": "markdown",
   "metadata": {},
   "source": [
    "**例:** $f(x)=e^{ax}$ とおくと $f'(x)=ae^{ax}$, $f''(x)=a^2 e^{ax}\\geqq 0$ を満たしているので, $f$ は下に凸な函数である. $\\QED$"
   ]
  },
  {
   "cell_type": "markdown",
   "metadata": {},
   "source": [
    "**例:** $x>0$ に対して $f(x)=\\log x$ とおくと $f'(x)=1/x$, $f''(x)=-1/x^2<0$ なので, $f$ は上に凸な函数である. $\\QED$"
   ]
  },
  {
   "cell_type": "markdown",
   "metadata": {},
   "source": [
    "**例題:** $a$ は実数であるとし, $x>0$ に対して $f(x)=x^a$ とおく. $f(x)$ は凸性について調べよ.\n",
    "\n",
    "**解答例:** $x>0$ であるとする. $f'(x)=ax^{a-1}$, $f''(x)=a(a-1)x^{a-2}$ であり, $x^{a-2}>0$ である. ゆえに, $a(a-1)\\geqq 0$ のとき, すなわち $a\\leqq 0$ または $1\\leqq a$ のとき, $f$ は下に凸になり, $a(a-1)\\leqq 0$ のとき, すなわち $0\\leqq a\\leqq 1$ のとき, $f$ は上に凸になる. $\\QED$"
   ]
  },
  {
   "cell_type": "markdown",
   "metadata": {},
   "source": [
    "## Jensenの不等式"
   ]
  },
  {
   "cell_type": "markdown",
   "metadata": {},
   "source": [
    "### 期待値汎函数\n",
    "\n",
    "函数を数に対応させる函数を**汎函数** (functional)と呼ぶことがある.\n",
    "\n",
    "**定義:** 函数 $f$ を数 $E[f]$ に対応させる函数 $E[\\ ]$ (汎函数)が以下の条件を満たしているとき, $E[\\ ]$ は**期待値汎函数** (expextation functional)であると言うことにする:\n",
    "\n",
    "(1) 函数 $f,g$ と数 $\\alpha,\\beta$ に対して, $E[\\alpha f+\\beta g]=\\alpha E[f]+\\beta E[g]$ (線形性).\n",
    "\n",
    "(2) 函数 $f, g$ のあいだで常に $f\\leqq g$ が成立しているならば $E[f]\\leqq E[g]$ (単調性).\n",
    "\n",
    "(3) 至るところ $1$ に値を持つ定数函数を単に $1$ と書くと, $E[1]=1$ (規格化条件). $\\QED$"
   ]
  },
  {
   "cell_type": "markdown",
   "metadata": {},
   "source": [
    "**例:** 区間 $I$ 上の函数を数 $E[f]$ に対応させる函数 $E[\\ ]$ を以下のように定めると, $E[\\ ]$ は期待値汎函数になる. まず $a_1,\\ldots,a_n\\in I$ を任意に取る. $w_1,\\ldots,w_n$ は0以上の実数でかつ $w_1+\\cdots+w_n=1$ を満たしていると仮定する. そして区間 $I$ 上の函数 $f$ に対して\n",
    "\n",
    "$$\n",
    "E[f] = \\sum_{i=1}^n w_i f(a_i) = w_1 f(a_1)+\\cdots+w_n f(a_n)\n",
    "$$\n",
    "\n",
    "と定める. このようにして定められた $E[\\ ]$ が実際に期待値汎函数の性質を満たしていることは以下のようにして確認できる.\n",
    "\n",
    "(1) 区間 $I$ 上の函数 $f,g$ と数 $\\alpha,\\beta$ について\n",
    "\n",
    "$$\n",
    "\\begin{aligned}\n",
    "E[\\alpha f+\\beta g] &= \\sum_{i=1}^n w_i(\\alpha f(a_i)+\\beta g(a_i)) =\n",
    "\\sum_{i=1}^n (\\alpha w_i f(a_i)+\\beta w_i g(a_i))\n",
    "\\\\ &=\n",
    "\\alpha\\sum_{i=1}^n w_i f(a_i) + \\beta\\sum_{i=1}^n w_i g(a_i) = \\alpha E[f]+\\beta E[g].\n",
    "\\end{aligned}\n",
    "$$\n",
    "\n",
    "(2) 区間 $I$ 上で $f\\leqq g$ が成立していると仮定すると, $w_i f(a_i)\\leqq w_i g(a_i)$ が成立するので\n",
    "\n",
    "$$\n",
    "E[f] = \\sum_{i=1}^n w_i f(a_i) \\leqq \\sum_{i=1}^n w_i g(a_i) = E[g].\n",
    "$$\n",
    "\n",
    "(3) 定数函数 $1$ について $1(a_i)=1$ が成立しているので, $w_1+\\cdots+w_n=1$ という仮定より, \n",
    "\n",
    "$$\n",
    "E[1] = \\sum_{i=1}^n w_i = 1.\n",
    "$$\n",
    "\n",
    "これで示すべきことがすべて示された. \n",
    "\n",
    "特に $w_i=1/n$ であるとき\n",
    "\n",
    "$$\n",
    "E[f] = \\frac{f(a_1)+\\cdots+f(a_n)}{n}\n",
    "$$\n",
    "\n",
    "と, $E[f]$ は $f(a_i)$ たちの加法平均になる. $\\QED$\n",
    "\n",
    "抽象的な期待値汎函数の概念が難しいと感じる人は, 一般的な期待値汎函数の定義を忘れてこの例の $E[f]$ またはさらにその特別な場合である加法平均の場合のみを考えれば十分である. "
   ]
  },
  {
   "cell_type": "markdown",
   "metadata": {},
   "source": [
    "**問題:** $a<b$ であるとする. 閉区間 $I=[a,b]$ 上の連続函数 $f$ を\n",
    "\n",
    "$$\n",
    "E[f] = \\frac{1}{b-a}\\int_a^b f(x)\\,dx\n",
    "$$\n",
    "\n",
    "に対応させる函数 $E[\\ ]$ は期待値汎函数であることを示せ. $\\QED$"
   ]
  },
  {
   "cell_type": "markdown",
   "metadata": {},
   "source": [
    "**問題:** $\\R$ 上の函数 $p(x)$ は $p\\geqq 0$ かつ $\\int_{-\\infty}^\\infty p(x)\\,dx = 1$ を満たしていると仮定する. (このような $p(x)$ は**確率密度函数**と呼ばれる.) このとき, $\\R$ 上の(適当によい条件を仮定した)函数 $f$ を\n",
    "\n",
    "$$\n",
    "E[f] = \\int_{-\\infty}^\\infty f(x)p(x)\\,dx\n",
    "$$\n",
    "\n",
    "に対応させる函数 $E[\\ ]$ が期待値汎函数であることを示せ. ($E[f]$ は確率密度函数 $p(x)$ が定める確率分布に関する**確率変数** $f$ の期待値と呼ばれる.) $\\QED$"
   ]
  },
  {
   "cell_type": "markdown",
   "metadata": {},
   "source": [
    "### Jensenの不等式とその証明\n",
    "\n",
    "**Jensenの不等式:** $E[\\ ]$ は区間 $I$ 上の函数の期待値汎函数であるとし, $f$ は区間 $I$ 上の上に凸(もしくは下に凸)な函数であるとする. このとき\n",
    "\n",
    "$$\n",
    "E[f(x)] \\leqq f(E[x]) \\qquad (\\text{もしくは}\\ E[f(x)]\\geqq f(E[x])).\n",
    "$$\n",
    "\n",
    "例えば\n",
    "\n",
    "$$\n",
    "E[f(x)] = \\sum_{i=1}^n w_i f(a_i), \\quad w_i\\geqq 0, \\quad \\sum_{i=1}^n w_i = 1\n",
    "$$\n",
    "\n",
    "のとき, \n",
    "\n",
    "$$\n",
    "\\begin{aligned}\n",
    "&\n",
    "w_1 f(a_1) + \\cdots + w_n f(a_n) \\leqq f(w_1 a_1 + \\cdots + w_n a_n)\n",
    "\\\\ &\n",
    "(\\text{もしくは}\\ w_1 f(a_1) + \\cdots + w_n f(a_n) \\geqq f(w_1 a_1 + \\cdots + w_n a_n)).\n",
    "\\end{aligned}\n",
    "$$\n",
    "\n",
    "特に $n=2$ の場合には $f$ が上に凸(もしくは下に凸)であることの定義とこれらは同値であることに注意せよ. \n",
    "\n",
    "**証明:** 簡単のため $f$ は $C^1$ 級であると仮定する. ($C^1$ 級でない場合にも同様の方法で証明できるが, 「接線」の存在を別に証明する必要が生じる.)\n",
    "\n",
    "$f$ は上に凸であると仮定する. \n",
    "\n",
    "$\\mu = E[x]$ とおく. $E[f(x)]\\leqq f(\\mu)$ を示せばよい. $x=\\mu$ における $y=f(x)$ の接線を $y=\\alpha(x-\\mu)+f(\\mu)$ と書く. $f$ は上に凸であると仮定したので\n",
    "\n",
    "$$\n",
    "f(x)\\leqq \\alpha(x-\\mu)+f(\\mu)\n",
    "$$\n",
    "\n",
    "が成立している(図を描いてみよ). ゆえに $E[\\ ]$ の性質より\n",
    "\n",
    "$$\n",
    "E[f(x)]\\leqq E[\\alpha(x-\\mu)+f(\\mu)] = \\alpha(E[x]-\\mu E[1]) + f(\\mu)E[1] = f(\\mu).\n",
    "$$\n",
    "\n",
    "不等号は期待値汎函数の単調性より, 1つ目の等号は線形性より($x$ の函数として $\\mu=\\mu 1$, $f(\\mu)=f(\\mu)1$ ($1$ は定数函数)となることを使った), 2つ目の等号は規格化条件より. これで示すべきことがすべて示された. $\\QED$"
   ]
  },
  {
   "cell_type": "markdown",
   "metadata": {},
   "source": [
    "### 相加相乗平均の不等式"
   ]
  },
  {
   "cell_type": "markdown",
   "metadata": {},
   "source": [
    "**例:** $a_i>0$ であるとし, \n",
    "\n",
    "$$\n",
    "E[f(x)] = \\frac{f(a_1)+\\cdots+f(a_n)}{n}\n",
    "$$\n",
    "\n",
    "とおく. $x>0$ に対して $f(x)=\\log x$ とおく. このとき, $f(x)=\\log x$ は下に凸なので, Jensenの不等式より $E[f(x)] \\leqq f(E[x])$. そして, \n",
    "\n",
    "$$\n",
    "E[f(x)] = \\frac{\\log a_1+\\cdots+\\log a_n}{n} = \\log(a_1\\cdots a_n)^{1/n}, \\quad\n",
    "f(E[x]) = \\log\\frac{a_1+\\cdots+a_n}{n}\n",
    "$$\n",
    "\n",
    "なので, $\\log$ の単調増加性より, \n",
    "\n",
    "$$\n",
    "(a_1\\cdots a_n)^{1/n} \\leqq \\frac{a_1+\\cdots+a_n}{n}.\n",
    "$$\n",
    "\n",
    "これでJensenの不等式が相加相乗平均の不等式を含んでいることがわかった. $\\QED$"
   ]
  },
  {
   "cell_type": "code",
   "execution_count": null,
   "metadata": {},
   "outputs": [],
   "source": []
  }
 ],
 "metadata": {
  "_draft": {
   "nbviewer_url": "https://gist.github.com/24a01ebc7d50e000e8e4244615355a4d"
  },
  "gist": {
   "data": {
    "description": "07 convexity.ipynb",
    "public": true
   },
   "id": "24a01ebc7d50e000e8e4244615355a4d"
  },
  "kernelspec": {
   "display_name": "Julia 0.6.3",
   "language": "julia",
   "name": "julia-0.6"
  },
  "language_info": {
   "file_extension": ".jl",
   "mimetype": "application/julia",
   "name": "julia",
   "version": "0.6.3"
  },
  "toc": {
   "nav_menu": {},
   "number_sections": true,
   "sideBar": true,
   "skip_h1_title": true,
   "title_cell": "Table of Contents",
   "title_sidebar": "Contents",
   "toc_cell": true,
   "toc_position": {},
   "toc_section_display": true,
   "toc_window_display": false
  }
 },
 "nbformat": 4,
 "nbformat_minor": 2
}
