{
 "cells": [
  {
   "cell_type": "markdown",
   "metadata": {},
   "source": [
    "# 微分可能函数\n",
    "\n",
    "黒木玄\n",
    "\n",
    "2018-04-20\n",
    "\n",
    "* Copyright 2018 Gen Kuroki\n",
    "* License: MIT https://opensource.org/licenses/MIT\n",
    "\n",
    "このファイルは次の場所できれいに閲覧できる:\n",
    "\n",
    "* http://nbviewer.jupyter.org/github/genkuroki/Calculus/blob/master/05%20differentiable%20functions.ipynb\n",
    "\n",
    "このファイルは <a href=\"https://juliabox.com\">Julia Box</a> で利用できる.\n",
    "\n",
    "自分のパソコンに<a href=\"https://julialang.org/\">Julia言語</a>をインストールしたい場合には\n",
    "\n",
    "* <a href=\"http://nbviewer.jupyter.org/gist/genkuroki/81de23edcae631a995e19a2ecf946a4f\">WindowsへのJulia言語のインストール</a>\n",
    "\n",
    "を参照せよ.\n",
    "\n",
    "論理的に完璧な説明をするつもりはない. 細部のいい加減な部分は自分で訂正・修正せよ.\n",
    "\n",
    "$\n",
    "\\newcommand\\eps{\\varepsilon}\n",
    "\\newcommand\\ds{\\displaystyle}\n",
    "\\newcommand\\Z{{\\mathbb Z}}\n",
    "\\newcommand\\R{{\\mathbb R}}\n",
    "\\newcommand\\C{{\\mathbb C}}\n",
    "\\newcommand\\QED{\\text{□}}\n",
    "\\newcommand\\root{\\sqrt}\n",
    "$"
   ]
  },
  {
   "cell_type": "markdown",
   "metadata": {
    "toc": true
   },
   "source": [
    "<h1>目次<span class=\"tocSkip\"></span></h1>\n",
    "<div class=\"toc\"><ul class=\"toc-item\"><li><span><a href=\"#Landau記号\" data-toc-modified-id=\"Landau記号-1\"><span class=\"toc-item-num\">1&nbsp;&nbsp;</span>Landau記号</a></span><ul class=\"toc-item\"><li><span><a href=\"#数列版\" data-toc-modified-id=\"数列版-1.1\"><span class=\"toc-item-num\">1.1&nbsp;&nbsp;</span>数列版</a></span></li><li><span><a href=\"#連続版\" data-toc-modified-id=\"連続版-1.2\"><span class=\"toc-item-num\">1.2&nbsp;&nbsp;</span>連続版</a></span></li></ul></li><li><span><a href=\"#Laudau記号を使った微分可能性の定義\" data-toc-modified-id=\"Laudau記号を使った微分可能性の定義-2\"><span class=\"toc-item-num\">2&nbsp;&nbsp;</span>Laudau記号を使った微分可能性の定義</a></span><ul class=\"toc-item\"><li><span><a href=\"#連続函数\" data-toc-modified-id=\"連続函数-2.1\"><span class=\"toc-item-num\">2.1&nbsp;&nbsp;</span>連続函数</a></span></li><li><span><a href=\"#微分可能函数\" data-toc-modified-id=\"微分可能函数-2.2\"><span class=\"toc-item-num\">2.2&nbsp;&nbsp;</span>微分可能函数</a></span></li></ul></li><li><span><a href=\"#平均値の定理\" data-toc-modified-id=\"平均値の定理-3\"><span class=\"toc-item-num\">3&nbsp;&nbsp;</span>平均値の定理</a></span></li></ul></div>"
   ]
  },
  {
   "cell_type": "code",
   "execution_count": 1,
   "metadata": {},
   "outputs": [],
   "source": [
    "using Plots; gr(); ENV[\"PLOTS_TEST\"] = \"true\"\n",
    "#clibrary(:colorcet)\n",
    "clibrary(:misc)\n",
    "\n",
    "using SymPy\n",
    "using SpecialFunctions\n",
    "using QuadGK"
   ]
  },
  {
   "cell_type": "markdown",
   "metadata": {},
   "source": [
    "## Landau記号"
   ]
  },
  {
   "cell_type": "markdown",
   "metadata": {},
   "source": [
    "### 数列版\n",
    "\n",
    "数列 $a_n,b_n$ について\n",
    "\n",
    "$$\n",
    "\\frac{a_n}{b_n}\\to 0 \\quad (n\\to\\infty)\n",
    "$$\n",
    "\n",
    "が成立するとき, 量 $a_n$ を $o(b_n)$ と書くことがある:\n",
    "\n",
    "$$\n",
    "a_n = o(b_n).\n",
    "$$\n",
    "\n",
    "例えば\n",
    "\n",
    "* $n = o(n^2)$.\n",
    "\n",
    "* $n^{100} = o(e^n)$.\n",
    "\n",
    "* $\\log n = o(n)$.\n",
    "\n",
    "ある非負の定数 $M$ が存在して, 十分大きな $n$ について \n",
    "\n",
    "$$\n",
    "|a_n| \\leqq M |b_n|\n",
    "$$\n",
    "\n",
    "が成立するとき, 量 $a_n$ を $O(b_n)$ と書くことがある:\n",
    "\n",
    "$$\n",
    "a_n = O(b_n).\n",
    "$$\n",
    "\n",
    "例えば\n",
    "\n",
    "* $3n^2 + 100n + 26 = O(n^2)$.\n",
    "\n",
    "* $\\ds n\\log n - n + \\frac{1}{2}\\log(2\\pi n) = O(n\\log n)$.\n",
    "\n",
    "以上で定義した $o(b_n)$ と $O(b_n)$ を**Landau記号**と呼ぶ. \n",
    "\n",
    "違うものを同じLandau記号の $o(b_n)$ や $O(b_n)$ で表すことのがあるので注意しなければいけない. 例えば $O(n)-O(n)=0$ とはならず, $O(n)-O(n)=O(n)$ となる.\n",
    "\n",
    "$o(b_n)$ の量は $O(b_n)$ の量にもなる. "
   ]
  },
  {
   "cell_type": "markdown",
   "metadata": {},
   "source": [
    "### 連続版\n",
    "\n",
    "$x\\to\\infty$ におけるLandau記号 $o(g(x))$, $O(g(x))$ は上の数列の場合と同様に定義される.\n",
    "\n",
    "有限の $a$ に関する $x\\to a$ におけるLandau記号 $o(g(x))$, $O(g(x))$ も同様に定義される.  \n",
    "\n",
    "$$\n",
    "\\frac{f(x)}{g(x)}\\to 0 \\quad (x\\to a)\n",
    "$$\n",
    "\n",
    "が成立するとき, $f(x)=o(g(x))$ と書き, ある非負の定数 $M$ とある $\\delta > 0$ が存在して\n",
    "\n",
    "$$\n",
    "|f(x)| \\leqq M |g(x)| \\quad (|x-a|\\leqq\\delta)\n",
    "$$\n",
    "\n",
    "が成立するとき, $f(x)=O(g(x))$ と書く.\n",
    "\n",
    "例えば, \n",
    "\n",
    "* $x\\to 0$ において $x\\log x\\to 0$ なので\n",
    "\n",
    "$$\n",
    "x = o(1/\\log x), \\qquad \\log x = o(1/x).\n",
    "$$\n",
    "\n",
    "* $x\\to a$ において, \n",
    "\n",
    "$$\n",
    "(x-a)^2 + (x-a)^3 + (x-a)^4 + \\cdots = O\\left((x-a)^2\\right) = o(x-a).\n",
    "$$\n",
    "\n",
    "* どんなに大きな $n$ についても, $x\\searrow 0$ において $e^{-1/x}/x^n\\to 0$ なので\n",
    "\n",
    "$$\n",
    "\\exp\\left(-\\frac{1}{x}\\right) = o(x^n).\n",
    "$$"
   ]
  },
  {
   "cell_type": "markdown",
   "metadata": {},
   "source": [
    "**問題:** 以上に出て来た例を確認(証明)せよ. さらに以上に出て来ていない例で面白そうなものを自分で作れ. $\\QED$"
   ]
  },
  {
   "cell_type": "markdown",
   "metadata": {},
   "source": [
    "## Laudau記号を使った微分可能性の定義"
   ]
  },
  {
   "cell_type": "markdown",
   "metadata": {},
   "source": [
    "### 連続函数\n",
    "\n",
    "函数 $f(x)$ が $x$ において連続であることの定義は, Landau記号を使うと\n",
    "\n",
    "$$\n",
    "f(x+h) = f(x) + o(1) \\quad (h\\to 0)\n",
    "$$\n",
    "\n",
    "と書ける. $o(1)$ は $h\\to 0$ で $0$ に収束する項を意味する."
   ]
  },
  {
   "cell_type": "markdown",
   "metadata": {},
   "source": [
    "### 微分可能函数\n",
    "\n",
    "函数 $f(x)$ が $x$ において微分可能であることの定義は, ある $f'(x)$ が存在して, \n",
    "\n",
    "$$\n",
    "\\frac{f(x+h) - f(x)}{h} \\to f'(x) \\quad (h\\to 0)\n",
    "$$\n",
    "\n",
    "が成立することである. この条件はLandau記号を使うと, \n",
    "\n",
    "$$\n",
    "f(x+h) = f(x) + f'(x)h + o(h)\n",
    "$$\n",
    "\n",
    "と書き直される. ここで $o(h)$ は $h\\to 0$ のとき $o(h)/h\\to 0$ となるような量を意味する. $o(h)$ を $h$ より**高次の微小量**と呼ぶことがある."
   ]
  },
  {
   "cell_type": "markdown",
   "metadata": {},
   "source": [
    "以上をまとめると,\n",
    "\n",
    "**連続性:** $\\quad$ $f(x+h) = f(x) + o(1)$ $(h\\to 0)$.\n",
    "\n",
    "**微分可能性:** $\\quad$ $f(x+h) = f(x) + f'(x)h + o(h)$ $(h\\to 0)$.\n",
    "\n",
    "このように書けばこれらは\n",
    "\n",
    "$$\n",
    "f(x+h) = a_0 + a_1 h + a_2 h + \\cdots + a_k h^k + o(h^k)\n",
    "$$\n",
    "\n",
    "の形に一般化可能であることが明瞭になる. 後で実際にこの一般化を実行する(Taylorの定理)."
   ]
  },
  {
   "cell_type": "markdown",
   "metadata": {},
   "source": [
    "## 平均値の定理"
   ]
  },
  {
   "cell_type": "markdown",
   "metadata": {},
   "source": []
  },
  {
   "cell_type": "markdown",
   "metadata": {},
   "source": []
  },
  {
   "cell_type": "markdown",
   "metadata": {},
   "source": []
  },
  {
   "cell_type": "markdown",
   "metadata": {},
   "source": []
  },
  {
   "cell_type": "markdown",
   "metadata": {},
   "source": []
  },
  {
   "cell_type": "markdown",
   "metadata": {},
   "source": []
  },
  {
   "cell_type": "markdown",
   "metadata": {},
   "source": []
  },
  {
   "cell_type": "code",
   "execution_count": null,
   "metadata": {},
   "outputs": [],
   "source": []
  }
 ],
 "metadata": {
  "_draft": {
   "nbviewer_url": "https://gist.github.com/0169cb0d72844973933096a796bf1f75"
  },
  "gist": {
   "data": {
    "description": "05 differentiable functions",
    "public": true
   },
   "id": "0169cb0d72844973933096a796bf1f75"
  },
  "kernelspec": {
   "display_name": "Julia 0.6.2",
   "language": "julia",
   "name": "julia-0.6"
  },
  "language_info": {
   "file_extension": ".jl",
   "mimetype": "application/julia",
   "name": "julia",
   "version": "0.6.2"
  },
  "toc": {
   "nav_menu": {
    "height": "207px",
    "width": "242px"
   },
   "number_sections": true,
   "sideBar": true,
   "skip_h1_title": true,
   "title_cell": "目次",
   "title_sidebar": "目次",
   "toc_cell": true,
   "toc_position": {
    "height": "calc(100% - 180px)",
    "left": "10px",
    "top": "150px",
    "width": "214px"
   },
   "toc_section_display": true,
   "toc_window_display": false
  }
 },
 "nbformat": 4,
 "nbformat_minor": 2
}
