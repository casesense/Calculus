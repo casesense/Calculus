{
 "cells": [
  {
   "cell_type": "markdown",
   "metadata": {},
   "source": [
    "# 函数の凸性とその応用\n",
    "\n",
    "黒木玄\n",
    "\n",
    "2018-04-20\n",
    "\n",
    "* Copyright 2018 Gen Kuroki\n",
    "* License: MIT https://opensource.org/licenses/MIT\n",
    "\n",
    "このファイルは次の場所できれいに閲覧できる:\n",
    "\n",
    "* http://nbviewer.jupyter.org/github/genkuroki/Calculus/blob/master/05%20differentiable%20functions.ipynb\n",
    "\n",
    "このファイルは <a href=\"https://juliabox.com\">Julia Box</a> で利用できる.\n",
    "\n",
    "自分のパソコンに<a href=\"https://julialang.org/\">Julia言語</a>をインストールしたい場合には\n",
    "\n",
    "* <a href=\"http://nbviewer.jupyter.org/gist/genkuroki/81de23edcae631a995e19a2ecf946a4f\">WindowsへのJulia言語のインストール</a>\n",
    "\n",
    "を参照せよ.\n",
    "\n",
    "論理的に完璧な説明をするつもりはない. 細部のいい加減な部分は自分で訂正・修正せよ.\n",
    "\n",
    "$\n",
    "\\newcommand\\eps{\\varepsilon}\n",
    "\\newcommand\\ds{\\displaystyle}\n",
    "\\newcommand\\Z{{\\mathbb Z}}\n",
    "\\newcommand\\R{{\\mathbb R}}\n",
    "\\newcommand\\C{{\\mathbb C}}\n",
    "\\newcommand\\QED{\\text{□}}\n",
    "\\newcommand\\root{\\sqrt}\n",
    "$"
   ]
  },
  {
   "cell_type": "markdown",
   "metadata": {
    "toc": true
   },
   "source": [
    "<h1>Table of Contents<span class=\"tocSkip\"></span></h1>\n",
    "<div class=\"toc\"><ul class=\"toc-item\"></ul></div>"
   ]
  },
  {
   "cell_type": "code",
   "execution_count": null,
   "metadata": {},
   "outputs": [],
   "source": []
  }
 ],
 "metadata": {
  "_draft": {
   "nbviewer_url": "https://gist.github.com/5a1cb1b7b1717dbce7bfb22a12ef5032"
  },
  "gist": {
   "data": {
    "description": "06 convexity.ipynb",
    "public": true
   },
   "id": "5a1cb1b7b1717dbce7bfb22a12ef5032"
  },
  "kernelspec": {
   "display_name": "Julia 0.6.2",
   "language": "julia",
   "name": "julia-0.6"
  },
  "language_info": {
   "file_extension": ".jl",
   "mimetype": "application/julia",
   "name": "julia",
   "version": "0.6.2"
  },
  "toc": {
   "nav_menu": {},
   "number_sections": true,
   "sideBar": true,
   "skip_h1_title": true,
   "title_cell": "Table of Contents",
   "title_sidebar": "Contents",
   "toc_cell": true,
   "toc_position": {},
   "toc_section_display": true,
   "toc_window_display": false
  }
 },
 "nbformat": 4,
 "nbformat_minor": 2
}
