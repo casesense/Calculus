{
 "cells": [
  {
   "cell_type": "markdown",
   "metadata": {},
   "source": [
    "# 級数\n",
    "\n",
    "黒木玄\n",
    "\n",
    "2018-04-18\n",
    "\n",
    "* Copyright 2018 Gen Kuroki\n",
    "* License: MIT https://opensource.org/licenses/MIT\n",
    "\n",
    "このファイルは次の場所できれいに閲覧できる:\n",
    "\n",
    "* http://nbviewer.jupyter.org/github/genkuroki/Calculus/blob/master/02%20series.ipynb\n",
    "\n",
    "このファイルは <a href=\"https://juliabox.com\">Julia Box</a> で利用できる.\n",
    "\n",
    "自分のパソコンに<a href=\"https://julialang.org/\">Julia言語</a>をインストールしたい場合には\n",
    "\n",
    "* <a href=\"http://nbviewer.jupyter.org/gist/genkuroki/81de23edcae631a995e19a2ecf946a4f\">WindowsへのJulia言語のインストール</a>\n",
    "\n",
    "を参照せよ.\n",
    "\n",
    "論理的に完璧な説明をするつもりはない. 細部のいい加減な部分は自分で訂正・修正せよ.\n",
    "\n",
    "$\n",
    "\\newcommand\\eps{\\varepsilon}\n",
    "\\newcommand\\ds{\\displaystyle}\n",
    "\\newcommand\\R{{\\mathbb R}}\n",
    "\\newcommand\\C{{\\mathbb C}}\n",
    "\\newcommand\\QED{\\text{□}}\n",
    "\\newcommand\\root{\\sqrt}\n",
    "$"
   ]
  },
  {
   "cell_type": "markdown",
   "metadata": {
    "toc": true
   },
   "source": [
    "<h1>目次<span class=\"tocSkip\"></span></h1>\n",
    "<div class=\"toc\"><ul class=\"toc-item\"><li><span><a href=\"#級数\" data-toc-modified-id=\"級数-1\"><span class=\"toc-item-num\">1&nbsp;&nbsp;</span>級数</a></span><ul class=\"toc-item\"><li><span><a href=\"#絶対収束と条件収束\" data-toc-modified-id=\"絶対収束と条件収束-1.1\"><span class=\"toc-item-num\">1.1&nbsp;&nbsp;</span>絶対収束と条件収束</a></span><ul class=\"toc-item\"><li><span><a href=\"#絶対収束と条件収束の定義\" data-toc-modified-id=\"絶対収束と条件収束の定義-1.1.1\"><span class=\"toc-item-num\">1.1.1&nbsp;&nbsp;</span>絶対収束と条件収束の定義</a></span></li><li><span><a href=\"#絶対収束級数の収束先は和を取る順番によらないこと\" data-toc-modified-id=\"絶対収束級数の収束先は和を取る順番によらないこと-1.1.2\"><span class=\"toc-item-num\">1.1.2&nbsp;&nbsp;</span>絶対収束級数の収束先は和を取る順番によらないこと</a></span></li></ul></li><li><span><a href=\"#絶対収束級数の例\" data-toc-modified-id=\"絶対収束級数の例-1.2\"><span class=\"toc-item-num\">1.2&nbsp;&nbsp;</span>絶対収束級数の例</a></span><ul class=\"toc-item\"><li><span><a href=\"#絶対収束級数の例1\" data-toc-modified-id=\"絶対収束級数の例1-1.2.1\"><span class=\"toc-item-num\">1.2.1&nbsp;&nbsp;</span>絶対収束級数の例1</a></span></li><li><span><a href=\"#絶対収束級数の例2\" data-toc-modified-id=\"絶対収束級数の例2-1.2.2\"><span class=\"toc-item-num\">1.2.2&nbsp;&nbsp;</span>絶対収束級数の例2</a></span></li></ul></li><li><span><a href=\"#条件収束級数の例\" data-toc-modified-id=\"条件収束級数の例-1.3\"><span class=\"toc-item-num\">1.3&nbsp;&nbsp;</span>条件収束級数の例</a></span><ul class=\"toc-item\"><li><span><a href=\"#条件収束級数の例1\" data-toc-modified-id=\"条件収束級数の例1-1.3.1\"><span class=\"toc-item-num\">1.3.1&nbsp;&nbsp;</span>条件収束級数の例1</a></span></li><li><span><a href=\"#Euler変換による交代級数の数値計算\" data-toc-modified-id=\"Euler変換による交代級数の数値計算-1.3.2\"><span class=\"toc-item-num\">1.3.2&nbsp;&nbsp;</span>Euler変換による交代級数の数値計算</a></span></li><li><span><a href=\"#無限和と積分の交換に関する注意\" data-toc-modified-id=\"無限和と積分の交換に関する注意-1.3.3\"><span class=\"toc-item-num\">1.3.3&nbsp;&nbsp;</span>無限和と積分の交換に関する注意</a></span></li><li><span><a href=\"#条件収束級数の例2\" data-toc-modified-id=\"条件収束級数の例2-1.3.4\"><span class=\"toc-item-num\">1.3.4&nbsp;&nbsp;</span>条件収束級数の例2</a></span></li></ul></li></ul></li><li><span><a href=\"#複素数の級数\" data-toc-modified-id=\"複素数の級数-2\"><span class=\"toc-item-num\">2&nbsp;&nbsp;</span>複素数の級数</a></span><ul class=\"toc-item\"><li><span><a href=\"#複素数の絶対収束級数\" data-toc-modified-id=\"複素数の絶対収束級数-2.1\"><span class=\"toc-item-num\">2.1&nbsp;&nbsp;</span>複素数の絶対収束級数</a></span></li><li><span><a href=\"#条件収束する複素級数の例\" data-toc-modified-id=\"条件収束する複素級数の例-2.2\"><span class=\"toc-item-num\">2.2&nbsp;&nbsp;</span>条件収束する複素級数の例</a></span></li></ul></li></ul></div>"
   ]
  },
  {
   "cell_type": "code",
   "execution_count": 1,
   "metadata": {},
   "outputs": [],
   "source": [
    "using Plots\n",
    "gr(); ENV[\"PLOTS_TEST\"] = \"true\"\n",
    "#clibrary(:colorcet)\n",
    "clibrary(:misc)\n",
    "\n",
    "function pngplot(P...; kwargs...)\n",
    "    sleep(0.1)\n",
    "    pngfile = tempname() * \".png\"\n",
    "    savefig(plot(P...; kwargs...), pngfile)\n",
    "    showimg(\"image/png\", pngfile)\n",
    "end\n",
    "pngplot(; kwargs...) = pngplot(plot!(; kwargs...))\n",
    "\n",
    "showimg(mime, fn) = open(fn) do f\n",
    "    base64 = base64encode(f)\n",
    "    display(\"text/html\", \"\"\"<img src=\"data:$mime;base64,$base64\">\"\"\")\n",
    "end\n",
    "\n",
    "using SymPy\n",
    "#sympy[:init_printing](order=\"lex\") # default\n",
    "#sympy[:init_printing](order=\"rev-lex\")\n",
    "\n",
    "using SpecialFunctions\n",
    "using QuadGK"
   ]
  },
  {
   "cell_type": "markdown",
   "metadata": {},
   "source": [
    "## 級数"
   ]
  },
  {
   "cell_type": "markdown",
   "metadata": {},
   "source": [
    "### 絶対収束と条件収束"
   ]
  },
  {
   "cell_type": "markdown",
   "metadata": {},
   "source": [
    "#### 絶対収束と条件収束の定義\n",
    "\n",
    "**定理:** $a_n\\geqq 0$ であると仮定する. そのとき, ある正の定数 $M$ が存在して, すべての番号 $n$ について $\\ds\\sum_{k=1}^n a_k\\leqq M$ が成立しているならば, 無限級数 $\\sum_{n=1}^\\infty a_n$ は有限の値に収束する. $\\QED$\n",
    "\n",
    "**定理:** $\\ds\\sum_{n=1}^\\infty |a_n| < \\infty$ ならば級数 $\\ds\\sum_{n=1}^\\infty a_n$ は収束する. そのとき, 級数 $\\ds\\sum_{n=1}^\\infty a_n$ は**絶対収束する**という. $\\QED$\n",
    "\n",
    "逆は成立しないことに注意に注意せよ. 級数 $\\ds\\sum_{n=1}^\\infty a_n$ が収束していても $\\ds\\sum_{n=1}^\\infty |a_n| = \\infty$ となる場合がある. そのとき, 級数 $\\ds\\sum_{n=1}^\\infty a_n$ は**条件収束する**という.\n",
    "\n",
    "**注意:** 上の定理は $a_n$ が実数列でも複素数列でも成立している. さらに $a_n$ が $\\R^n$ や $\\C^n$ の点列でかつ絶対値をノルムで置き換えた場合にも成立している. 直観的には「長さが有限の紐の先端に対応する点が収束先として存在する」というような発想で考えればよい.\n",
    "\n",
    "より一般にはノルム空間においては上の定理が成立することと完備性の条件は同値になっている. 実数列の場合には**実数の連続性**と同値になっている.\n",
    "\n",
    "**実数の連続性**について理解していなくても, 絶対収束の概念を理解していれば足りることは多い. $\\QED$"
   ]
  },
  {
   "cell_type": "markdown",
   "metadata": {},
   "source": [
    "#### 絶対収束級数の収束先は和を取る順番によらないこと\n",
    "\n",
    "**定理:** 絶対収束する無限級数の収束先は足し上げる順序をどのように変えても同じになる.  $\\QED$\n",
    "\n",
    "**系:** 特に $a_n\\geqq 0$ のとき $a_1,a_2,\\ldots$ の無限和は足し上げる順序をどのように変えても同じになる. $\\QED$\n",
    "\n",
    "**注意:** $a_n\\geqq 0$ のとき $a_1,a_2,\\ldots$ の無限和の値として $\\infty$ も許せば, その無限和は常に値を持っているとみなせる.  非負の実数の無限和を扱うときには収束先として $\\infty$ も許したくなる場合が多いので, その場合には収束先が有限の値になるか否かを明瞭に述べておいた方が誤解が少なくなる. $\\QED$\n",
    "\n",
    "**注意:** 条件収束級数の収束先は足し上げる順序によって変わるので扱いには注意が必要になる. $\\QED$"
   ]
  },
  {
   "cell_type": "markdown",
   "metadata": {},
   "source": [
    "### 絶対収束級数の例"
   ]
  },
  {
   "cell_type": "markdown",
   "metadata": {},
   "source": [
    "#### 絶対収束級数の例1\n",
    "\n",
    "$s>1$ と仮定する. このとき $\\ds\\sum_{n=1}^\\infty \\frac{1}{n^s} < \\infty$ である. なぜならば $n\\to\\infty$ のとき\n",
    "\n",
    "$$\n",
    "\\sum_{k=1}^n \\frac{1}{k^s} \\leqq 1 + \\int_1^n \\frac{dx}{x^s} = \n",
    "1 + \\frac{1-n^{1-s}}{s-1} \\to 1 + \\frac{1}{s-1}.\n",
    "$$\n",
    "\n",
    "これより $s>1$ のとき\n",
    "\n",
    "$$\n",
    "\\sum_{n=1}^\\infty \\frac{1}{n^s} \\leqq 1 + \\frac{1}{s-1}\n",
    "$$\n",
    "\n",
    "となることがわかった. $s>1$ の函数 $\\zeta(s)$ を\n",
    "\n",
    "$$\n",
    "\\zeta(s) = \\sum_{n=1}^\\infty \\frac{1}{n^s}\n",
    "$$\n",
    "\n",
    "と定める.  これを**Riemannのゼータ函数**と呼ぶ. Riemannのゼータ函数の定義域は $s\\ne 1$ の複素数全体に自然に拡張される(解析接続される).  Riemannのゼータ函数は整数論における最も基本的で重要な函数である.\n",
    "\n",
    "$s > 1$ のとき, $\\ds\\sum_{n=1}^\\infty\\frac{(-1)^{n-1}}{n^s}$ は絶対収束級数である.  この級数は後で示すように $s=1$ でも収束している.  (さらに複素平面全体に解析接続されることも示せる.)"
   ]
  },
  {
   "cell_type": "markdown",
   "metadata": {},
   "source": [
    "**問題:** $s>1$ と仮定する. この仮定のもとで次の公式を証明せよ:\n",
    "\n",
    "$$\n",
    "(1-2^{1-s})\\zeta(s) = \\sum_{n=1}^\\infty\\frac{(-1)^{n-1}}{n^s}.\n",
    "$$"
   ]
  },
  {
   "cell_type": "markdown",
   "metadata": {},
   "source": [
    "**証明:** 絶対収束級数を扱っているので, 以下のように形式的に計算した結果がそのまま証明になる.\n",
    "\n",
    "$$\n",
    "\\begin{aligned}\n",
    "(1-2^{1-s})\\zeta(s) &=\n",
    "\\left(1-\\frac{2}{2^s}\\right)\\sum_{n=1}^\\infty\\frac{1}{n^s} =\n",
    "\\sum_{n=1}^\\infty\\frac{1}{n^s} - \\sum_{n=1}^\\infty\\frac{2}{(2n)^s}\n",
    "\\\\ &=\n",
    "\\left(\\frac{1}{1^s}+\\frac{1}{2^s}+\\frac{1}{3^s}+\\frac{1}{4^s}+\\cdots\\right)\n",
    "-\\left(\\frac{2}{2^s}+\\frac{2}{4^s}+\\cdots\\right)\n",
    "\\\\ &=\n",
    "\\frac{1}{1^s}-\\frac{1}{2^s}+\\frac{1}{3^s}-\\frac{1}{4^s}+\\cdots =\n",
    "\\sum_{n=1}^\\infty\\frac{(-1)^{n-1}}{n^s}.\n",
    "\\qquad\\QED\n",
    "\\end{aligned}\n",
    "$$"
   ]
  },
  {
   "cell_type": "markdown",
   "metadata": {},
   "source": [
    "**問題:** $\\zeta(2)$ を数値計算して, $\\pi^2/6$ に近いことを確認せよ."
   ]
  },
  {
   "cell_type": "code",
   "execution_count": 2,
   "metadata": {},
   "outputs": [
    {
     "name": "stdout",
     "output_type": "stream",
     "text": [
      "SimpleSum = 1.6449340568482278\n",
      "TrueValue = 1.6449340668482264\n",
      "SimpleSum - TrueValue = -9.99999860695766e-9\n"
     ]
    }
   ],
   "source": [
    "N = 10^8\n",
    "SimpleSum = sum(n->1/n^2, 1:N)\n",
    "TrueValue = π^2/6\n",
    "@show SimpleSum\n",
    "@show TrueValue\n",
    "@show SimpleSum - TrueValue;"
   ]
  },
  {
   "cell_type": "markdown",
   "metadata": {},
   "source": [
    "**問題:** $\\zeta(2)=\\pi^2/6$ の証明について調べよ.\n",
    "\n",
    "**ヒント:** この問題は**Basel問題**などと呼ばれているようである. インターネットで検索してみよ. $\\QED$\n",
    "\n",
    "正の偶数 $2m$ について $\\zeta(2m)$ はすべて計算されている. しかし, 3以上の奇数 $2m+1$ に対する $\\zeta(3m+1)$ の数学的な素性はまだよくわかっていない."
   ]
  },
  {
   "cell_type": "markdown",
   "metadata": {},
   "source": [
    "#### 絶対収束級数の例2\n",
    "\n",
    "**問題:** $\\ds\\sum_{n=2}^\\infty(\\zeta(n)-1)=1$ を示せ."
   ]
  },
  {
   "cell_type": "markdown",
   "metadata": {},
   "source": [
    "**証明:**\n",
    "\n",
    "$k\\geqq 2$ のとき\n",
    "\n",
    "$$\n",
    "\\ds\\sum_{n=2}^\\infty\\frac{1}{k^n} = \\frac{1/k^2}{1-1/k} = \\frac{1}{k(k-1)} = \\frac{1}{k-1} - \\frac{1}{k}.\n",
    "$$\n",
    "\n",
    "そして\n",
    "\n",
    "$$\n",
    "\\zeta(n) - 1 = \\frac{1}{2^n}+\\frac{1}{3^n}+\\frac{1}{4^n}+\\cdots =\n",
    "\\sum_{k=2}^\\infty\\frac{1}{k^n}\n",
    "$$\n",
    "\n",
    "なので, \n",
    "\n",
    "$$\n",
    "\\begin{aligned}\n",
    "\\sum_{n=2}^\\infty (\\zeta(n)-1) &=\n",
    "\\sum_{n=2}^\\infty\\sum_{k=2}^\\infty\\frac{1}{k^n} =\n",
    "\\sum_{k=2}^\\infty\\sum_{n=2}^\\infty\\frac{1}{k^n} =\n",
    "\\sum_{k=2}^\\infty\\left(\\frac{1}{k-1} - \\frac{1}{k}\\right) \n",
    "\\\\ &=\n",
    "\\left(\\frac{1}{1} - \\frac{1}{2}\\right) + \n",
    "\\left(\\frac{1}{2} - \\frac{1}{3}\\right) + \n",
    "\\left(\\frac{1}{3} - \\frac{1}{3}\\right) + \n",
    "\\cdots =\n",
    "1.\n",
    "\\end{aligned}\n",
    "$$\n",
    "\n",
    "2つ目の等号で $1/k^n\\geqq 0$ なので足し上げる順序を変えても総和は等しいことを使った. $\\QED$"
   ]
  },
  {
   "cell_type": "markdown",
   "metadata": {},
   "source": [
    "以下はコンピューターによる計算."
   ]
  },
  {
   "cell_type": "code",
   "execution_count": 3,
   "metadata": {},
   "outputs": [
    {
     "data": {
      "text/plain": [
       "1.0000000000000044"
      ]
     },
     "execution_count": 3,
     "metadata": {},
     "output_type": "execute_result"
    }
   ],
   "source": [
    "N = 50\n",
    "sum(n->zeta(n)-1, 2:N)"
   ]
  },
  {
   "cell_type": "code",
   "execution_count": 4,
   "metadata": {},
   "outputs": [
    {
     "data": {
      "text/latex": [
       "$$1$$"
      ],
      "text/plain": [
       "1"
      ]
     },
     "execution_count": 4,
     "metadata": {},
     "output_type": "execute_result"
    }
   ],
   "source": [
    "l, n = symbols(\"l n\", integer=true, positive=true) # l = k-1\n",
    "s = simplify(doit(Sum(1/(l+1)^n, (n,2,oo))))\n",
    "S = doit(Sum(s, (l,1,oo)))"
   ]
  },
  {
   "cell_type": "markdown",
   "metadata": {},
   "source": [
    "**問題:** 上の問題の結果より, $\\ds\\sum_{n=2}^\\infty(-1)^n(\\zeta(n)-1)$ は絶対収束する. その収束先を求めよ."
   ]
  },
  {
   "cell_type": "markdown",
   "metadata": {},
   "source": [
    "**証明:**\n",
    "\n",
    "$k\\geqq 2$ のとき\n",
    "\n",
    "$$\n",
    "\\ds\\sum_{n=2}^\\infty\\frac{(-1)^n}{k^n} = \\frac{1/k^2}{1+1/k} = \\frac{1}{k(k+1)} = \\frac{1}{k} - \\frac{1}{k+1}.\n",
    "$$\n",
    "\n",
    "そして\n",
    "\n",
    "$$\n",
    "(-1)^n(\\zeta(n) - 1) = \\frac{(-1)^n}{2^n}+\\frac{(-1)^n}{3^n}+\\frac{(-1)^n}{4^n}+\\cdots =\n",
    "\\sum_{k=2}^\\infty\\frac{(-1)^n}{k^n}\n",
    "$$\n",
    "\n",
    "なので, \n",
    "\n",
    "$$\n",
    "\\begin{aligned}\n",
    "\\sum_{n=2}^\\infty (\\zeta(n)-1) &=\n",
    "\\sum_{n=2}^\\infty\\sum_{k=2}^\\infty\\frac{(-1)^n}{k^n} =\n",
    "\\sum_{k=2}^\\infty\\sum_{n=2}^\\infty\\frac{(-1)^n}{k^n} =\n",
    "\\sum_{k=2}^\\infty\\left(\\frac{1}{k} - \\frac{1}{k+1}\\right) \n",
    "\\\\ &=\n",
    "\\left(\\frac{1}{2} - \\frac{1}{3}\\right) + \n",
    "\\left(\\frac{1}{3} - \\frac{1}{4}\\right) + \n",
    "\\left(\\frac{1}{4} - \\frac{1}{5}\\right) + \n",
    "\\cdots =\n",
    "\\frac{1}{2}.\n",
    "\\end{aligned}\n",
    "$$\n",
    "\n",
    "2つ目の等号で絶対収束級数なので足し上げる順序を変えても総和は等しいことを使った. $\\QED$"
   ]
  },
  {
   "cell_type": "markdown",
   "metadata": {},
   "source": [
    "以下はコンピューターによる計算."
   ]
  },
  {
   "cell_type": "code",
   "execution_count": 5,
   "metadata": {},
   "outputs": [
    {
     "data": {
      "text/plain": [
       "0.5000000000000018"
      ]
     },
     "execution_count": 5,
     "metadata": {},
     "output_type": "execute_result"
    }
   ],
   "source": [
    "N = 50\n",
    "sum(n->(-1)^n*(zeta(n)-1), 2:N)"
   ]
  },
  {
   "cell_type": "code",
   "execution_count": 6,
   "metadata": {},
   "outputs": [
    {
     "data": {
      "text/latex": [
       "$$\\frac{1}{2}$$"
      ],
      "text/plain": [
       "1/2"
      ]
     },
     "execution_count": 6,
     "metadata": {},
     "output_type": "execute_result"
    }
   ],
   "source": [
    "l, n = symbols(\"l n\", integer=true, positive=true) # l = k-1\n",
    "s = simplify(doit(Sum((-1)^n/(l+1)^n, (n,2,oo))))\n",
    "S = doit(Sum(s, (l,1,oo)))"
   ]
  },
  {
   "cell_type": "markdown",
   "metadata": {},
   "source": [
    "**問題:** 以上の例以外の絶対収束級数の例について調べ, ノートにまとめよ."
   ]
  },
  {
   "cell_type": "markdown",
   "metadata": {},
   "source": [
    "### 条件収束級数の例"
   ]
  },
  {
   "cell_type": "markdown",
   "metadata": {},
   "source": [
    "**定理:** 一般に $a_1\\geqq a_2\\geqq a_3\\geqq\\cdots$ かつ $a_n\\geqq 0$ かつ $a_n\\to 0$ のとき, **交代級数**\n",
    "\n",
    "$$\n",
    "\\sum_{n=1}^\\infty (-1)^{n-1} a_n = a_1 - a_2 + a_3 - a_4 + \\cdots\n",
    "$$\n",
    "\n",
    "は収束する. $\\QED$\n",
    "\n",
    "この定理中の $a_n$ について $\\ds\\sum_{n=1}^\\infty a_n=\\infty$ が成立しているとき, 交代級数は条件収束級数になる."
   ]
  },
  {
   "cell_type": "markdown",
   "metadata": {},
   "source": [
    "#### 条件収束級数の例1\n",
    "\n",
    "$\\ds\\sum_{n=1}^\\infty\\frac{(-1)^{n-1}}{n}$ は収束するが, $\\ds\\sum_{n=1}^\\infty\\frac{1}{n}=\\infty$ となる.\n",
    "\n",
    "なぜならば, $\\ds\\sum_{k=1}^n \\frac{1}{k} \\geqq \\int_1^{n+1}\\frac{dx}{x} = \\log(n+1) \\to \\infty$ ($n\\to\\infty$) が成立するからである."
   ]
  },
  {
   "cell_type": "markdown",
   "metadata": {},
   "source": [
    "**問題:** $\\ds\\sum_{n=1}^\\infty\\frac{(-1)^{n-1}}{n}$ を求めよ. \n",
    "\n",
    "**解答:** $\\log 2$."
   ]
  },
  {
   "cell_type": "markdown",
   "metadata": {},
   "source": [
    "**証明:**\n",
    "\n",
    "一般に\n",
    "\n",
    "$$\n",
    "\\int_1^x \\frac{dt}{t} = \\log x.\n",
    "$$\n",
    "\n",
    "ゆえに, \n",
    "\n",
    "$$\n",
    "\\int_0^1\\frac{dx}{1+x} = \\int_1^2 \\frac{dy}{y} = \\log 2.\n",
    "$$\n",
    "\n",
    "一方, $|x|<1$ のとき\n",
    "\n",
    "$$\n",
    "\\frac{1}{1+x} = 1 - x + x^2 - x^3 + \\cdots\n",
    "$$\n",
    "\n",
    "なので\n",
    "\n",
    "$$\n",
    "\\int_0^1 \\frac{dx}{1+x} = \n",
    "\\int_0^1 (1 - x + x^2 - x^3 + \\cdots) =\n",
    "1 - \\frac{1}{2} + \\frac{1}{3} - \\frac{1}{4} + \\cdots =\n",
    "\\sum_{n=1}^\\infty \\frac{(-1)^{n-1}}{n}.\n",
    "$$\n",
    "\n",
    "したがって,  \n",
    "\n",
    "$$\n",
    "\\int_0^1 \\frac{dx}{1+x} = \\log 2 = \\sum_{n=1}^\\infty \\frac{(-1)^{n-1}}{n}.\n",
    "\\qquad \\QED\n",
    "$$"
   ]
  },
  {
   "cell_type": "markdown",
   "metadata": {},
   "source": [
    "以下はコンピューターによる計算."
   ]
  },
  {
   "cell_type": "code",
   "execution_count": 7,
   "metadata": {},
   "outputs": [
    {
     "data": {
      "text/latex": [
       "$$\\log{\\left (2 \\right )}$$"
      ],
      "text/plain": [
       "log(2)"
      ]
     },
     "execution_count": 7,
     "metadata": {},
     "output_type": "execute_result"
    }
   ],
   "source": [
    "n = symbols(\"n\", integer=true)\n",
    "S = doit(Sum((-1)^(n-1)/n, (n, 1, oo)))"
   ]
  },
  {
   "cell_type": "code",
   "execution_count": 8,
   "metadata": {},
   "outputs": [
    {
     "name": "stdout",
     "output_type": "stream",
     "text": [
      "SimpleSum = 0.6926474305598223\n",
      "TrueValue = 0.6931471805599453\n",
      "SimpleSum - TrueValue = -0.0004997500001230337\n"
     ]
    }
   ],
   "source": [
    "N = 1000\n",
    "SimpleSum = sum(n->(-1)^(n-1)/n, 1:N)\n",
    "TrueValue = log(2)\n",
    "@show SimpleSum\n",
    "@show TrueValue\n",
    "@show SimpleSum - TrueValue;"
   ]
  },
  {
   "cell_type": "markdown",
   "metadata": {},
   "source": [
    "#### Euler変換による交代級数の数値計算\n",
    "\n",
    "$\\ds\\sum_{n=1}^N\\frac{(-1)^{n-1}}{n}$ で $N=1000$ としても収束先の値を小数点以下第2桁までしか再現してくれない. 一般に条件収束する交代級数を定義通り足し上げると収束は遅い.\n",
    "\n",
    "収束を加速するための様々な方法が知られているが, 交代級数の場合には**Euler変換**が有名である. 詳しくは\n",
    "\n",
    "* <a href=\"http://nbviewer.jupyter.org/gist/genkuroki/4a8fea5e2ed1b4e3b737c99acf237042\">交代ゼータ函数のオイラー変換</a>\n",
    "\n",
    "を参照せよ. 交代級数 $\\ds\\sum_{k=0}^\\infty (-1)^k a_k$ のEuler変換の結果は\n",
    "\n",
    "$$\n",
    "\\lim_{L\\to\\infty} \\sum_{k=0}^{L-1} w^{(L)}_k (-1)^k a_k, \\qquad\n",
    "w^{(L)}_k = \\sum_{n=k}^{L-1} 2^{-n-1}\\binom{n}{k}.\n",
    "$$\n",
    "\n",
    "すなわち交代級数のEuler変換は交代級数の各項にウェイト $w^{(L)}_k$ をかけてから $L\\to\\infty$ の極限を取る形になる.\n",
    "\n",
    "以下のようにEuler変換を使えば数十項で精密な計算が可能になる."
   ]
  },
  {
   "cell_type": "code",
   "execution_count": 9,
   "metadata": {},
   "outputs": [
    {
     "data": {
      "text/plain": [
       "EulerWeight{Array{Float64,2}}([0.5 0.0 … 0.0 0.0; 0.75 0.25 … 0.0 0.0; … ; 1.0 1.0 … 1.0842e-19 0.0; 1.0 1.0 … 3.52366e-18 5.42101e-20])"
      ]
     },
     "execution_count": 9,
     "metadata": {},
     "output_type": "execute_result"
    }
   ],
   "source": [
    "binom(n,k) = exp(lgamma(n+1) - lgamma(k+1) - lgamma(n-k+1))\n",
    "\n",
    "struct EulerWeight{T} W::T end\n",
    "function EulerWeight(; Lmax=2^6)\n",
    "    W = zeros(Lmax,Lmax)\n",
    "    for L in 1:Lmax\n",
    "        for k in 0:L-1\n",
    "            W[L,k+1] = sum(n->2.0^(-n-1)*binom(n,k), k:L-1)\n",
    "        end\n",
    "    end\n",
    "    EulerWeight(W)\n",
    "end\n",
    "(eulerweight::EulerWeight)(L,k) = eulerweight.W[L,k+1]\n",
    "eulerweight = EulerWeight()"
   ]
  },
  {
   "cell_type": "code",
   "execution_count": 10,
   "metadata": {},
   "outputs": [
    {
     "name": "stdout",
     "output_type": "stream",
     "text": [
      "EulerTran = 0.6931471805599451\n",
      "TrueValue = 0.6931471805599453\n",
      "EulerTran - TrueValue = -2.220446049250313e-16\n"
     ]
    },
    {
     "data": {
      "text/plain": [
       "-2.220446049250313e-16"
      ]
     },
     "execution_count": 10,
     "metadata": {},
     "output_type": "execute_result"
    }
   ],
   "source": [
    "L = 2^6\n",
    "EulerTran = sum(k->eulerweight(L,k)*(-1)^k/(k+1), 0:L-1)\n",
    "TrueValue = log(2)\n",
    "@show EulerTran\n",
    "@show TrueValue\n",
    "@show EulerTran - TrueValue"
   ]
  },
  {
   "cell_type": "markdown",
   "metadata": {},
   "source": [
    "Euler変換を使うと, 次のセルのように $\\zeta(s)$ の非自明な零点をプロットすることができる."
   ]
  },
  {
   "cell_type": "code",
   "execution_count": 11,
   "metadata": {},
   "outputs": [
    {
     "data": {
      "image/svg+xml": [
       "<?xml version=\"1.0\" encoding=\"utf-8\"?>\n",
       "<svg xmlns=\"http://www.w3.org/2000/svg\" xmlns:xlink=\"http://www.w3.org/1999/xlink\" width=\"600\" height=\"500\" viewBox=\"0 0 600 500\">\n",
       "<defs>\n",
       "  <clipPath id=\"clip0100\">\n",
       "    <rect x=\"0\" y=\"0\" width=\"600\" height=\"500\"/>\n",
       "  </clipPath>\n",
       "</defs>\n",
       "<polygon clip-path=\"url(#clip0100)\" points=\"\n",
       "0,500 600,500 600,0 0,0 \n",
       "  \" fill=\"#ffffff\" fill-opacity=\"1\"/>\n",
       "<defs>\n",
       "  <clipPath id=\"clip0101\">\n",
       "    <rect x=\"120\" y=\"0\" width=\"421\" height=\"421\"/>\n",
       "  </clipPath>\n",
       "</defs>\n",
       "<polygon clip-path=\"url(#clip0100)\" points=\"\n",
       "54.9131,460.121 520.315,460.121 520.315,31.4961 54.9131,31.4961 \n",
       "  \" fill=\"#ffffff\" fill-opacity=\"1\"/>\n",
       "<defs>\n",
       "  <clipPath id=\"clip0102\">\n",
       "    <rect x=\"54\" y=\"31\" width=\"466\" height=\"430\"/>\n",
       "  </clipPath>\n",
       "</defs>\n",
       "<polyline clip-path=\"url(#clip0102)\" style=\"stroke:#000000; stroke-width:0.5; stroke-opacity:0.1; fill:none\" points=\"\n",
       "  56.0708,460.121 56.0708,31.4961 \n",
       "  \"/>\n",
       "<polyline clip-path=\"url(#clip0102)\" style=\"stroke:#000000; stroke-width:0.5; stroke-opacity:0.1; fill:none\" points=\"\n",
       "  171.842,460.121 171.842,31.4961 \n",
       "  \"/>\n",
       "<polyline clip-path=\"url(#clip0102)\" style=\"stroke:#000000; stroke-width:0.5; stroke-opacity:0.1; fill:none\" points=\"\n",
       "  287.614,460.121 287.614,31.4961 \n",
       "  \"/>\n",
       "<polyline clip-path=\"url(#clip0102)\" style=\"stroke:#000000; stroke-width:0.5; stroke-opacity:0.1; fill:none\" points=\"\n",
       "  403.386,460.121 403.386,31.4961 \n",
       "  \"/>\n",
       "<polyline clip-path=\"url(#clip0102)\" style=\"stroke:#000000; stroke-width:0.5; stroke-opacity:0.1; fill:none\" points=\"\n",
       "  519.157,460.121 519.157,31.4961 \n",
       "  \"/>\n",
       "<polyline clip-path=\"url(#clip0102)\" style=\"stroke:#000000; stroke-width:0.5; stroke-opacity:0.1; fill:none\" points=\"\n",
       "  54.9131,437.73 520.315,437.73 \n",
       "  \"/>\n",
       "<polyline clip-path=\"url(#clip0102)\" style=\"stroke:#000000; stroke-width:0.5; stroke-opacity:0.1; fill:none\" points=\"\n",
       "  54.9131,352.431 520.315,352.431 \n",
       "  \"/>\n",
       "<polyline clip-path=\"url(#clip0102)\" style=\"stroke:#000000; stroke-width:0.5; stroke-opacity:0.1; fill:none\" points=\"\n",
       "  54.9131,267.133 520.315,267.133 \n",
       "  \"/>\n",
       "<polyline clip-path=\"url(#clip0102)\" style=\"stroke:#000000; stroke-width:0.5; stroke-opacity:0.1; fill:none\" points=\"\n",
       "  54.9131,181.835 520.315,181.835 \n",
       "  \"/>\n",
       "<polyline clip-path=\"url(#clip0102)\" style=\"stroke:#000000; stroke-width:0.5; stroke-opacity:0.1; fill:none\" points=\"\n",
       "  54.9131,96.5361 520.315,96.5361 \n",
       "  \"/>\n",
       "<polyline clip-path=\"url(#clip0100)\" style=\"stroke:#000000; stroke-width:1; stroke-opacity:1; fill:none\" points=\"\n",
       "  54.9131,460.121 520.315,460.121 \n",
       "  \"/>\n",
       "<polyline clip-path=\"url(#clip0100)\" style=\"stroke:#000000; stroke-width:1; stroke-opacity:1; fill:none\" points=\"\n",
       "  54.9131,460.121 54.9131,31.4961 \n",
       "  \"/>\n",
       "<polyline clip-path=\"url(#clip0100)\" style=\"stroke:#000000; stroke-width:1; stroke-opacity:1; fill:none\" points=\"\n",
       "  56.0708,460.121 56.0708,453.691 \n",
       "  \"/>\n",
       "<polyline clip-path=\"url(#clip0100)\" style=\"stroke:#000000; stroke-width:1; stroke-opacity:1; fill:none\" points=\"\n",
       "  171.842,460.121 171.842,453.691 \n",
       "  \"/>\n",
       "<polyline clip-path=\"url(#clip0100)\" style=\"stroke:#000000; stroke-width:1; stroke-opacity:1; fill:none\" points=\"\n",
       "  287.614,460.121 287.614,453.691 \n",
       "  \"/>\n",
       "<polyline clip-path=\"url(#clip0100)\" style=\"stroke:#000000; stroke-width:1; stroke-opacity:1; fill:none\" points=\"\n",
       "  403.386,460.121 403.386,453.691 \n",
       "  \"/>\n",
       "<polyline clip-path=\"url(#clip0100)\" style=\"stroke:#000000; stroke-width:1; stroke-opacity:1; fill:none\" points=\"\n",
       "  519.157,460.121 519.157,453.691 \n",
       "  \"/>\n",
       "<polyline clip-path=\"url(#clip0100)\" style=\"stroke:#000000; stroke-width:1; stroke-opacity:1; fill:none\" points=\"\n",
       "  54.9131,437.73 61.8941,437.73 \n",
       "  \"/>\n",
       "<polyline clip-path=\"url(#clip0100)\" style=\"stroke:#000000; stroke-width:1; stroke-opacity:1; fill:none\" points=\"\n",
       "  54.9131,352.431 61.8941,352.431 \n",
       "  \"/>\n",
       "<polyline clip-path=\"url(#clip0100)\" style=\"stroke:#000000; stroke-width:1; stroke-opacity:1; fill:none\" points=\"\n",
       "  54.9131,267.133 61.8941,267.133 \n",
       "  \"/>\n",
       "<polyline clip-path=\"url(#clip0100)\" style=\"stroke:#000000; stroke-width:1; stroke-opacity:1; fill:none\" points=\"\n",
       "  54.9131,181.835 61.8941,181.835 \n",
       "  \"/>\n",
       "<polyline clip-path=\"url(#clip0100)\" style=\"stroke:#000000; stroke-width:1; stroke-opacity:1; fill:none\" points=\"\n",
       "  54.9131,96.5361 61.8941,96.5361 \n",
       "  \"/>\n",
       "<g clip-path=\"url(#clip0100)\">\n",
       "<text style=\"fill:#000000; fill-opacity:1; font-family:Arial,Helvetica Neue,Helvetica,sans-serif; font-size:12; text-anchor:middle;\" transform=\"rotate(0, 56.0708, 473.921)\" x=\"56.0708\" y=\"473.921\">0.00</text>\n",
       "</g>\n",
       "<g clip-path=\"url(#clip0100)\">\n",
       "<text style=\"fill:#000000; fill-opacity:1; font-family:Arial,Helvetica Neue,Helvetica,sans-serif; font-size:12; text-anchor:middle;\" transform=\"rotate(0, 171.842, 473.921)\" x=\"171.842\" y=\"473.921\">0.25</text>\n",
       "</g>\n",
       "<g clip-path=\"url(#clip0100)\">\n",
       "<text style=\"fill:#000000; fill-opacity:1; font-family:Arial,Helvetica Neue,Helvetica,sans-serif; font-size:12; text-anchor:middle;\" transform=\"rotate(0, 287.614, 473.921)\" x=\"287.614\" y=\"473.921\">0.50</text>\n",
       "</g>\n",
       "<g clip-path=\"url(#clip0100)\">\n",
       "<text style=\"fill:#000000; fill-opacity:1; font-family:Arial,Helvetica Neue,Helvetica,sans-serif; font-size:12; text-anchor:middle;\" transform=\"rotate(0, 403.386, 473.921)\" x=\"403.386\" y=\"473.921\">0.75</text>\n",
       "</g>\n",
       "<g clip-path=\"url(#clip0100)\">\n",
       "<text style=\"fill:#000000; fill-opacity:1; font-family:Arial,Helvetica Neue,Helvetica,sans-serif; font-size:12; text-anchor:middle;\" transform=\"rotate(0, 519.157, 473.921)\" x=\"519.157\" y=\"473.921\">1.00</text>\n",
       "</g>\n",
       "<g clip-path=\"url(#clip0100)\">\n",
       "<text style=\"fill:#000000; fill-opacity:1; font-family:Arial,Helvetica Neue,Helvetica,sans-serif; font-size:12; text-anchor:end;\" transform=\"rotate(0, 48.9131, 442.23)\" x=\"48.9131\" y=\"442.23\">13.8</text>\n",
       "</g>\n",
       "<g clip-path=\"url(#clip0100)\">\n",
       "<text style=\"fill:#000000; fill-opacity:1; font-family:Arial,Helvetica Neue,Helvetica,sans-serif; font-size:12; text-anchor:end;\" transform=\"rotate(0, 48.9131, 356.931)\" x=\"48.9131\" y=\"356.931\">14.0</text>\n",
       "</g>\n",
       "<g clip-path=\"url(#clip0100)\">\n",
       "<text style=\"fill:#000000; fill-opacity:1; font-family:Arial,Helvetica Neue,Helvetica,sans-serif; font-size:12; text-anchor:end;\" transform=\"rotate(0, 48.9131, 271.633)\" x=\"48.9131\" y=\"271.633\">14.2</text>\n",
       "</g>\n",
       "<g clip-path=\"url(#clip0100)\">\n",
       "<text style=\"fill:#000000; fill-opacity:1; font-family:Arial,Helvetica Neue,Helvetica,sans-serif; font-size:12; text-anchor:end;\" transform=\"rotate(0, 48.9131, 186.335)\" x=\"48.9131\" y=\"186.335\">14.4</text>\n",
       "</g>\n",
       "<g clip-path=\"url(#clip0100)\">\n",
       "<text style=\"fill:#000000; fill-opacity:1; font-family:Arial,Helvetica Neue,Helvetica,sans-serif; font-size:12; text-anchor:end;\" transform=\"rotate(0, 48.9131, 101.036)\" x=\"48.9131\" y=\"101.036\">14.6</text>\n",
       "</g>\n",
       "<g clip-path=\"url(#clip0100)\">\n",
       "<text style=\"fill:#000000; fill-opacity:1; font-family:Arial,Helvetica Neue,Helvetica,sans-serif; font-size:21; text-anchor:middle;\" transform=\"rotate(0, 287.614, 18)\" x=\"287.614\" y=\"18\">first non-trivial zero of zeta(s)</text>\n",
       "</g>\n",
       "<g clip-path=\"url(#clip0100)\">\n",
       "<text style=\"fill:#000000; fill-opacity:1; font-family:Arial,Helvetica Neue,Helvetica,sans-serif; font-size:16; text-anchor:middle;\" transform=\"rotate(0, 287.614, 497.6)\" x=\"287.614\" y=\"497.6\">Re s</text>\n",
       "</g>\n",
       "<g clip-path=\"url(#clip0100)\">\n",
       "<text style=\"fill:#000000; fill-opacity:1; font-family:Arial,Helvetica Neue,Helvetica,sans-serif; font-size:16; text-anchor:middle;\" transform=\"rotate(-90, 14.4, 245.808)\" x=\"14.4\" y=\"245.808\">Im s</text>\n",
       "</g>\n",
       "<g clip-path=\"url(#clip0102)\">\n",
       "<image width=\"465\" height=\"429\" xlink:href=\"data:image/png;base64,\n",
       "iVBORw0KGgoAAAANSUhEUgAAAdEAAAGtCAYAAABJI04hAAAgAElEQVR4nO293WLjOs60S2flPdn3\n",
       "f7XfTFv7IJZNgsVyAZKcnpmqg7YtgJRiJ249xA9vW2tb2/W9eDzT9s9BWz93PIbG/5O0sTmjPxuv\n",
       "2L7EcV+67X77efz361Ntf9p47N/d8D/hGBoXffpjcW40Lr5mPq21dme2OCex3ZO2e7Ddu+udbML4\n",
       "1l5/XLtPN+Xkv3XGLdrCI5qzt8Vj0AauCfm/sw3jt7VtNV/WxsTG3YpzKuOQDz1208fdqrbbbIuP\n",
       "aC7kc7sRGxu3GJ8d98V8gO1LuF445w37oLm+brOPZVmWZVkJ+T9Ry7Isyyrqtv3TrYD83+PxyiVb\n",
       "NA4t1a5sbFlWXeqtLNmiY2x8XIJV52bjiI0ty8Zj/RJoXOL9A8ahZdU4l7JU24/PLPX2y6OKLS6v\n",
       "vrPF5eOjS7Zo7ugzHAuve7+4hIrOG5dnoY2N621kiXg1HtlWr/uDVyznnim2jBuXZdm47JJtPAZt\n",
       "wnIwW/qE/r+1ZBvGtzYvtdJl2eR52VLvdF7hmkyilmVZllXUN6S3owkzKqVWaNGJRW3rxkWSpMlD\n",
       "n04sWviiYz2JPsmQ2UhCUkwiytogiS58kI0mD/W24A8pM5xPJUol6Qi9ZnS78lnNtfJRbLKfMomQ\n",
       "GVRNHtrPn04sYj4KZYKfW6E2lNAU5yzTJngvGG1OCT7g75yddx93R+clCUm7P7TFceCanjYnFlmW\n",
       "ZVnWMd22/w+UuMTYaP+8Gtv8b4qJKiSbpU1h3H6X9K8+brkgwp4albgni5ciImTx0hVlUh9i6+OI\n",
       "0R/ZUIkKs0VaRPFWFttkpTGRMtXyl1W8VCmDGfzJOCXeCX1ITPPjJFqQQp3v/DK2G3jBfBSbQrDV\n",
       "Oc+MbbL4YWUco2M6d2c7Kyb6FR4ty7Isy0rqm9JfldCyc/6vxkTFhgpPkgyPra1joUOMktgiUVYb\n",
       "KrBx6WYLhFIVWyTK/phik5otABuKbSpxT9RsYdVkYRgvxD2pTSDKqu3KDNyTwqDpcdAmxC+HY4sY\n",
       "qpxle8M+aG46J6G+amwTxWsjvd0PjoPZuWDl6GkD486KiUZfy7Isy7KS+j6FoqqUyrJ6lZrM/4SY\n",
       "qEibMfOW0ea/gO2SOlFCfaU6UZFEaS1ojJd2Ntbar1IDWm3715OSkrmrUCaNe5KYapZSI0GicavX\n",
       "qg9SJNhLBRCtHP8E11uKdzJC6wcQ2pyOidS3Op9KmyzuGQny6DgU90SUyjJ3dzqNZNmf5x58+zm2\n",
       "4GsStSzLsqyiviHZndmAnpHZ/3oD+s4WG8cj2lQyb1HcVMncZXFPRLClBvRkfLYWVOlYdGqdKLFt\n",
       "C5/BFnyQDVFfucn8wXhpnAfa2qzDJPoBIXqEfm9ev7MholvOTQgNzgnmzsyJ4qwVWu3HP+kPXMPR\n",
       "cTEOOdgAbUaSZDHR/rzRv/97jf5uQG9ZlmVZB3VNxyKVNj8REz1quzAm+qe7PdrJk9JmhkSJD4p7\n",
       "Hu6d29lKdaKIZB+PrN6TEWy2d26mK1G2hpTFPVksVYl7ZutEVz7x+VsbmROpajsqJVP3iqzcpw0Q\n",
       "3dK3f04yUhEt0jkXtNnPUaHV1ubsWDaOxR9R3PJJhGFMP5cSEx3OS2KiU+ZuN+mUneuYqGVZlmUd\n",
       "k/8TtSzLsqyi9BKXTPs+dcm2kvzzX5BYBJOHwpLtvxqwhdfMlm0yz8YdbragLOd2tqmhAlqyDb7D\n",
       "MTIu0xKw3PavGyct2ZKEpPh4ZrMF1BAB+U/jEj6DTVizPWtZV1nCbQ0n/ShzxGVUqYwFHKPN5kHC\n",
       "DE06KizZomOw7d8i0ae1bqmVjIPJQ2SpN5amPH3Q8qqQWISSllhiUZy7n38j121ZlmVZVkJ6iUu1\n",
       "ocLZbf+yRPnLiUVo27J/hdeqTWmkoNDqxxvQg/EZSmVNExjBqo0YjjZbiCSZLX9BdLsiUEiNAlHK\n",
       "tAnmiuNWr1fHFFvVVyXO5RhClMo5FDKk/gJtDtOcTJvQRq4Jkh0Zx5J/FEqd2v99OLGoL6lZzWkS\n",
       "tSzLsqyiri9xYZSaiZdWS2Sy8dKTYqJ30L7vWcYSXvfHULOESKdK+Us27nnJptyEZGkD+oQtS6lK\n",
       "I4V93EZ8sm3/GG3+drOFptrCwStJ9Aply1iov1DiwigzvmZlIYP/ybTJxjGyg+cN9NjaXJqiUuqq\n",
       "bAbFRFH7PRYTjTHU/vdy/xn2Yzfw9xp9TKKWZVmWVdS52bnZhu7KuLPa/p0ZEyXnjRtnI9qMjRWg\n",
       "rTttqdlCMe6ptv0rNaDvxiuUilr0Ka392KbazEZpM/gg2lTa/iG6RfSXabYQz9GQD7ijVoiUHduA\n",
       "4W8h0Wp2rkyrhAijfzaTNtNkvkyb7FoI2bHzsi3JFEplGb+RhPtjMcaJ/FFze5idG34Glg2MYqqW\n",
       "ZVmWZSV0bnYui23+Vtu/o1uhCe8Ba9+H6j0RbSpt/zKZu2y7M7ZhN8vApTFRYpMycBHJgmuS6kRR\n",
       "vDSMVzbcvrzt3/5ICHaiTZEopbgnoNvMeKTfJlGFQBn1qXNmKBOOI+f9CG32tgX5om3A2HlRqzyF\n",
       "UlnGr0KG1Zgopc39NSBf14lalmVZ1kn6XHZuNv74Wx2LEjWgiOxiLJTRJutKBLsZgfOtYqHqdmcK\n",
       "bSJKzWyTpmy8jcajLNvJJlJqpE2lm1G1YxGLe9J4KaDMKTYKxmfrRFc+/YsrSDTjk1WaQIVxUyYt\n",
       "ICz4Wohpxte/RZvoGhCFMTqOsUXYJJ6NA1QeM3dpTDT4In8WE93Az7kf6q83/u27TtSyLMuyDkrP\n",
       "zlW6En0iO/cKAk7ScSRJRI2KTe5YFI6lOxaR8ZkMXKUWFI1TMnhR/BLWicZYaj8uzKXaPtmxaKDU\n",
       "4MMIVol7DjZClJEEVVukVKRPkKiaeav4K9m5z2OEzJA/9FnQokyb+yOIu2ZoE9oCYTHK/QJ/GyiW\n",
       "OtnQOJK5m4lfKjWdvd/zb5NQ9Zcwp0nUsizLsoryf6KWZVmWVRRezv3Udme/VeJSbPv3TBp6vEZb\n",
       "mmVstLUfs3WXe7TtX7XZgpJ0JLX9I7Z0s4Ww9KO2/VuVxqhLtjExSE1IikuttMQlmTykjEOv6XIu\n",
       "Oba0EWd1WVdavhWWZaENJLWs5qAJQmLS0WrJFc4tLL2iZByarATGxVKNarN4tGS7mhv5w2YJQmJR\n",
       "pjFC75dZskX+Xs61LMuyrIPCzRauKHHJNnA4u8SlmFiESHIqYyE+jChZA3pY/sJIdPEajWeNGNTt\n",
       "zpS2f6sEo94flZxEf9iIgVDfr7X9ezz2KfO02cKGffrncVy1fR+jVOS/er06ptguFSHKXVnajMfo\n",
       "1mbgB6cJPuGASpus1CRSn9Jkno2DtFqkVHRNFZLMNkaIJNv7xeYJ7Lz9uePfpEnUsizLsor6fLOF\n",
       "K0tcjm6u3T2P8c/hWHzsfCJlqm3/FFumEYPc9m/h01oX9ySxyXKzBUKpMd6ZbvtHxh1u+wfGxztT\n",
       "lTZXTebRnFfEPSllgjlXc6u2K5UhUFZyQscBskOvGfVNPkXaZKUxSomK0rYPxVthY4QQYxxsJ5Pk\n",
       "mTHR598YmDO29mtt/jtDpTmWZVmWZSV0TbOFMxrXV7JzVdok4/5fgTKHuKlAjaihQhyn2qRmC4Hs\n",
       "zmj7x+KlZ7X9UxoqXNL2j4xHsU3W2o9l7q7inr0/i3tONkCyapw02lavh2PA+AkSpdm6CbJsbY5l\n",
       "0pgos7HsXBabBGMUalTG9YTEGjFMJIloc3GO1uZNrum2YwIB98fObhbf2vy32M8Z6bT/WbbwPn0B\n",
       "H8uyLMuyEuIkWq33zMY9fyk7d0MZuAJl0lrQBG3S7FxGm1kSDcdgvJTYlLZ/A8EGW2bj7tZmWvy1\n",
       "tn/EZ1Nt4RiLpSrxTkqiwviGfIgNqWo7Kkqguw+4ACVeSsmVZdDuB1Ra3B8jbfY+hBpX49G4gUTJ\n",
       "uEiSMRO3tZlS1W3HWCtBVq8Z58zGRBlRsgb0ca7hbyq8T1uYx7Isy7KspHjHoiuyc7N0e2F2bsyy\n",
       "bW1dC8psZ9aJ0uzcQLmDLbxG8cv/+o5FYS6lFhTNqdBmNu7J5lQok9WJoteMUp8+AqUifZpEJQJN\n",
       "2Fh2LoubqvFSSouLOY+OR+MgiYJxq3hntfMQpc3OFikRNYJn8cs4p0qUsQH9Bn4W9LexIliTqGVZ\n",
       "lmUV9bmORcV6zVLc9M3cLAN3VQva+11RJxrJFdrCPMg/vSk3Icpqx6LnODJ+ysAVKZXR5ooo39ky\n",
       "daKsP67SsWi4sw3+0EbGs3hpa2sbI9g49zu/io8ihT6ZH6vNHI5ta59MVi4ah7ooTfFSgTYhUYbx\n",
       "8jhAqat4J6TN4Iv8KW12trNiojFrdrCBv9dMnahCsCZRy7IsyyrqdzsWHa0TTWTnpjNwFUol44/W\n",
       "iSpdidCxTH/d1njc82i8tNqxSOmrq9R7/lbHooEoN+zTH0N3xCsCRUT5fATj0euZFkFao1JpCbFT\n",
       "ZciVNmFqxruMx8M04Bi0HaVNMle2Y9G0U0v3o7Hs2gqlHu1zO4xTKDUZE41/N7Sms7ftc4Jrin9L\n",
       "8JqCj0nUsizLsoryf6KWZVmWVdT1bf+ONmk4qYzl/3VLE7SMRVnqFcajZdnMkq3abGG1YTctcQG2\n",
       "K9v+ofGsoUKq7V9nY40YFFu1ybyyZIu2UGPLwHHJiC3nvnL0waLgBhcowwSKz8pvpeyyLluiJb6Z\n",
       "Jd4bWip+HIPzoHd9PK20ZNvbNmxTlnxbA8u5YBxrsceWeuNyLCpVUcpflPZ9/Zwosej5tyEkFqEy\n",
       "lsx2Z8MnLlxTTDoyiVqWZVlWUTqJHi1/qTanLzZbmKixARsiycdjLIPpbVMZC6HccrMFZut+llVC\n",
       "kUqbmRIXRKlKS8D/+rZ/wQfZENOwZgsTXW6gcVokyYE64/iWtCEpiUXKPAJ1wuEKbTLfkUhl223+\n",
       "hLYnwa7XCMj6QL3tX0z+AePYVmiZRvDZJKBMqYo6J2tAH1drzihjWbX2Q+cziVqWZVnWQekN6K8o\n",
       "canQLRnP2u+pZSyZRgyoDd/kk7TRZgsCSVIfQpRKLPVw2z8w/m9o+7eyqeO34MOaLbyIshHa7I9F\n",
       "HzHuCeOkgg3SabB9XOFibsSGak5Ywc/UbWEmyiylvmKvkVbBnI9HtVk8pc3HY4xfvhu32gptuCah\n",
       "/IVSKpizEhNlrf1gGUvw6efOtPYbxjkmalmWZVnnKJ+d+1tt/4jPM2bYmaT2fQ3YEiTKmiaguT+y\n",
       "KXeCVvtjNDsXUN/U9g+NC69PbftHxjHaVDbspm3/yPgX4QHa3CkTkiSKdyZItEqk1ZgopNSTlMm2\n",
       "HcYx2lTGIaIM42RKjccA+QbbfRg//rbJtLnbAIyzWOq0qXYgxN4HNpIPc7OYKJozk0HLGjJUiRJd\n",
       "U/QZju3vBSBgy7Isy7IS+vxWaEdjsN34P487gWzc8zClLuZpbabNU9r+BX+lTnTIlk2Q7CmbckdK\n",
       "RSTKbOGuV20JeFrbP+IDiXILUSFkQ0QYCXQYt6JM4kPb9zFbr9+OiSJaJLY4DvoetRGirJJo9EEk\n",
       "usdWO9seZ70/fFRKrdSADj7Bl1KqGBNlNZmr5vKsbjNLlOyaInUiG4odW5ZlWZaV0N8RE01k7v7p\n",
       "/tunREmIMPr/v7a2SVuhAbJj46t1onRT7oO0eWoD+v1xQaTMB9nO7FjExkm0Gamz94Nxzy/sM/ix\n",
       "zNtIqw34oLhn9GfxUjAn1MkxUXiqDG0if+aj2ERKTZFo95sokeh+DFQl30abSqmpGtB9DIlRspgo\n",
       "6ypUjYlmfHo/RJTx5xve+Z1gme3xGr2XlmVZlmUl9PeSaDh2f/x3DzNhE9Q4HGvEBqhvdT7kw2pI\n",
       "GVGyrkS0Y1F8TUiU1YlWt0lDlKn40OxccF5WC5rpWLSh2OTqcTiGiDISaDY7l4yTYqLodcIG46Ur\n",
       "36sUTqzQ5uBPfCaSRESJXmdoE9EiO9994dvP/Z5E2bieUv+EjF9Ul8r647ItzZSuQkdjonEe5tPa\n",
       "TI00q5dk4A5zOiZqWZZlWefK/4lalmVZVlHnLueeuRXa4/kWtjSjy7IN2ISlXrVZwmoZ98yt0LKN\n",
       "GFJt/8h4lDx0uAH9whcdg23/mI0s9SKbtlSb8fkLSlxOa7IgJBMNcxN3RVLJCjghHYeWRQUbbbZw\n",
       "cDkXjVst57IlW3k5dz/2RWw/x+63Ptnp53mlIXxrc9u9M7YrWy0Dq+37aGkMK2NZ+AznCT+vSdSy\n",
       "LMuyivpcYlGxgQNN1GmjD6NG1gj+aEKSWsZSJtFwTCl/+VSzBdacPkWixMZaAuKGCCEbrbWOCP8Z\n",
       "Xw82gTbPLHGJJEmTjojP4e3OfiuxCJEhsWUSimQiTVCqTKL3hQ+aU6DNNInG8e1Fp1ug1c5vT0T6\n",
       "83h96xAts6WZmlikbFcWfbLt+2gZSxiPzuOt0CzLsizrQp1DosWNs9mcKwKFZAeoLzalP7UloDAe\n",
       "kujCp7dlWvuhuY42W8huk8Yo8+kDxtMyFkKpr8YI++1nT4SBMjdig5TKaPOkEhelyTw6drjtX6cp\n",
       "hirGRBHcvVO1oQKcQ6XL4DvRH/LL0iYZt4x7Av+PkSi5pudcI6Vu3fjtMe4OSmQqRNn7ZeKdtNlC\n",
       "sVSFxkSZbT9/syzLsiyrpN9tthA31e5MK5I8hSgFur2y2YKyKbfS2g/N9Tc0W1hRarbt35M6h8BE\n",
       "pM3uF+r+hX0G/09n595qNikmGuc5mqWLdGZMlJxIok3FR7GJRHnWuJ4Il+3+ADWeSqIhFrqBeOmC\n",
       "SIdjj3F9dm+k02pMVIl3Dg0ZjmbZBh80l2IziVqWZVlWUX9F279MS79T4p4Ln/4arqwTTW+FlrD9\n",
       "VXWikUTJ+HHbsv32ExDl8xiiTSXumcnOZbHNanaualvFQhHJotdKBq5CmcWY6NFYKItbDn7xGCND\n",
       "cC6lTjTTvg9dA6XFK0iUkCQ8X6wvDfMg2zaP3+n03l0vi4kqrflYA/oUUfbnZQRbsJlELcuyLKuo\n",
       "XyXR/cY9E+9k9Z5ZsstS6mrDbrlONF6bOG6qBSW2TFcjdOyKOlHmQ7NsI3W2NhMlzc4F4+6IMgUS\n",
       "pVuaKdm5iu1odm4Dtrb2+cgG3IQ+IW2C16lYaKTOfhyjVEabwjiJNplNJdEFNfbHNkCpLN65LWww\n",
       "pnqbx8ctHzpK3en0tU3bS7HmlG24nabGhU/vl46XLmwmUcuyLMsq6hwS/SI2oRaUEt3+mKDV/nk1\n",
       "O1fJrj2cnctItBsnbYWWoE02HtaQPl6rdaKrzN2xly2hzRgLvf8zj/srs3MRpSrZuYmY6Ckdi6IP\n",
       "sRGQZMNeYhMAG8uuVXwoUaLXyrhs3JORZLCVSTT6oOsVMnB720Skt9kHjr+Fx5lS9zrTofb0gXaQ\n",
       "+p4+o02mxsV4aOvndEzUsizLsj4nTKKRLPvnB2OikJDCY++XoVUa92TURyiVZgyD815ZJ4qu6eim\n",
       "3IxgM3WiLDt3Y0QJ457RlszOpXHPvyk7N86pUurCR87A/UR9KJk8VROK/BAtxnFZ2mREiWwn7cIy\n",
       "Ueu78dVa0EjAZByIbdKY6BRvZZT6+mB3Kt179SrUd5Qah2PVeGmwmUQty7Isqyj/J2pZlmVZRZ1b\n",
       "4kKWgf88EJgmBglLp8qS77tx1a3QVk0P0PIqbdYQfIe5wDi6nBuvjSwHwwShxHKu2mzh2aaPJg89\n",
       "ej6ml3qDP2u28N9e4rLyhbZeiSYLdMkXTacMAD6sgfzkI9jS250JyUPpJdswNxvHlnP7a4rlK3BZ\n",
       "Fp1XKV+plbGwJdtpLnLesZXgz/PYrGH4i9zWtn/C8u/R1n7Qtl9HsyzLsiyrJE6iX8Qmjttv0mHC\n",
       "y0Zs8VGg1YE2ybiJ7PpxCUpVGiqc2WwBku/qZzqBNjPNFmCJypMWv8fXvT+k1NhQwSUu1Gear619\n",
       "ln7EPyVCokpC0dOX+Egt/QAZVpstlGnzAhKVWvspDRWE8hUxQej1hR9oFR4jJVrA9mzWEMphWusW\n",
       "cgIZ9rb926GcdARs8U/EJGpZlmVZRX2XaVO0KaUm8RH5s7gnbfaepEXaEnBhU3yG603aMs0WpLgp\n",
       "GI+azDMSfcU9AWWuCPTUEhcW92QkmilxAbR5SYlLMSZKW/t9oMkCJUukBG1CP8F2xXZnjCjRnJXy\n",
       "lTKJgvNmGioM/nr8ko9HMdFjtlgO09octxw+1f3FiU0aopPb/lmWZVnWQenZuYnWfjA22WablF0b\n",
       "43n9+IXvMDcYp8Q0la3Myi0Fk7ZMvDPTGrA/pmyFtg0kyShzYYOt/VjcE9livJRl52YbMZyVnYsI\n",
       "lthQvHOVcZtu+wdeU3CsxETJhGrThKc/oVNIi3Gu36LNK0lUJUrWmi/GQkHmLY2bnkOUh22dz/3r\n",
       "fbz0SY3AFqkT2YaBi3EmUcuyLMsq6jtNm6QWFG2urdCmkp2bHS+19gNkpjSJL8dblZ+lzbZUdi4j\n",
       "0fAa2foa0j/PbcpQ3DMc2+mzP6bQpkKpNAMX2Ui89NeycxWbGC9djYe2tvZBopm7qykZ2iLaRLbg\n",
       "l87OPUiikCgDncq2K0k0nrdaC0oyb6ds2/65koFbtfWNRVeZu93v5/19vJTGRIVYagM2t/2zLMuy\n",
       "rJN0agN6SIQZ2uymXNEeGo+yZBkBT+MYOYM5Mxm8ag0qje8GWzo7l5FoOLb1pPSkTVTnGeOegES3\n",
       "YMvGRCN1vrWxeOlvZecqtmJ27uTbi8VS3/jKYgS6T02IkvoxWkR+Vdoksc2pAf0d2IqUWibRQJuw\n",
       "SXyiFhSO+xtiovs1/Hk//mv+23h2P9rjpdUM3P7Q/qcYflVNopZlWZZVVL1OtBs3ZYh2wzK0SbsZ\n",
       "JccrvXPL2bmJGKPSDxhdS3abtEzcFJEsjXvCWtBMTJTVkirZuSgD99PZuZEoCYnK2bmFmCijzmqf\n",
       "3EwcdJgyGQt9jlfjnSubQpkiiUq0mbQdJtFMbJN1JcrWchZodTgWqBGdj9m+wO//8/FPeN09v6O5\n",
       "d9Mjg7f7fXj+NoQM3l6ZeKlJ1LIsy7KK8n+ilmVZllVUuQH9HSzn0q3BEku2rc3JQkoD+2Gpd3F+\n",
       "eE39OLZEHB/JcrDSiIEuPwMba8SQST76M6SJx+QhtCxLbFe0/UuVuCRbAh4ucUGlKpkSl34tSGgJ\n",
       "uJpn8gdjoA9SNrHopISibBkLHLdYxq0u2Q7LwGE5FrbfyyYdLdr2wQQhttRLSlVQiYq01Huwfd9z\n",
       "ORaVsZDl2LgsC88XjsPzrsMZW3dNeykMWp5NJR3tpwculmVZlmUJ0pstBJu6pdlU4tJNuSI7NJfS\n",
       "wF4lYJY8pJS4KE3m2fUqW6hlt0lTSlzuzwbtPVEmSBQmDynlL8W2f9Km3NkSF5J0pNCmkjwEE5IE\n",
       "G0s6mo6/sy183voLggQ5TS6MQ8k/zCZQ5iXbnSHbySQKN9AGyUNSgg8pUSHbjq0fRRtM8IlE2V8v\n",
       "KV9Z0mUusYglLd3383cfT6bt3/7EJGpZlmVZRaWbLTCilEpcRIJdxUtpowEWRwTjspS6omq1tEZp\n",
       "0lDdJo2V1myx6UGVROWYaCx/YbSJGjFEokTlL1/AJjRUoNukZRoqqCUugu2Ktn/SlmZFEk2Xr4Rx\n",
       "v1XiUt5c+0oS3ceptLkoR3k7rmCTx9caInROsy3SpRQTRULx1mD66tsFbqNPJ5e4WJZlWdbJ4s0W\n",
       "wM26RI1ibJI2UoiPjDYBHbPmA6mmByQGy1r00cb3bbZFylS3Qls1fthk2vxkTJS1BhRb+02Zuyw7\n",
       "V23EcDA7l2XZsu3OPtn2b/AXfNhAOiyQ5GHqRMeKJMpa7FVtiMwqJNr7VDJp++eRVuG4P2RcMjt3\n",
       "ysoFjeRpvJQ0aZgok8VEe1ONUrfHtfx5fIYbcI8tAU2ilmVZllWUnJ3L4o+UNheP/XOphpTMncnu\n",
       "RdfC6PZoA/psBq7UgB6Mm9v3/d/L6SwSpZSqxESTJMpa+8HYphIvPUqiB7Nz1ZaATx8WNw3ngOOQ\n",
       "LoiFPqeOPmAMpUUw7mh2Lmsyn7JVSbQft2ith3zgxtvVuCWjzOD/jBH2P1Os82Txy35uJQP36Tw/\n",
       "j5QpZfCS8f0chFL3utJ7/x7uBOqYqGVZlmWdI5qd+6f7H5dmyS4eWwNxSxbTJPFSJTu32oCe0S2L\n",
       "pdIG9ChOSyg3tVE4mPNJnn8QNf7feOwMEqUZvwsCrXYsohm4YjejSJISpSJq/HR2bniN2qvQjEeg\n",
       "0+tDWWyT+Klxz8kfxRgVWgXxRyV+KZFoPycjwgWlsmbxA+sESkSdjiBJFjoHwfilEFOFjeTBeRll\n",
       "KjHRaXznJsVC34/rP9Xnpt/7wf0SyZksy7IsyyKi2bnZDFypv20xXkqzc8l4GsMF49g2aatYKuui\n",
       "pGbnsv64M/l2d0t/QgyU0ub/EdvRmOgFW6HBrkQkc1eqBU3UiTLapNukXZCdOx1/Z4uqxkGHEyym\n",
       "JiQK/QTb0ezcM7Y0o7HNT5BoMrZZ7hy0yNyVty0LlAl74IbX0xy9E/pZkuPjOIVMW3vR6RewPRSJ\n",
       "1CRqWZZlWUXB7NxsD1yFKKsxTRpjDL60G1I37uwdXpiPmp1Lf5b9cb+7opm3ITbKfKANZdn+TTFR\n",
       "loFLakFpDWkiOxfu1EKybM/elLuXsovL0ldVT32Cz9M3GducYqgCbbYG4paJuCmyVes94ZyMMhdZ\n",
       "uvL4qi1DmaDek9ImmDsV02Tj0PhwiNEm6lik+A/x0tFlJ1KTqGVZlmUV5f9ELcuyLKuob9rar3Oc\n",
       "lmXV5KFM0hE7n3Be1qLvzG3SMk0ezihxmZZxUfnKKsGof54ucTnaEpA1ZCgmFqXa/l3YbIEmD4GE\n",
       "JLRk+3y+z9k6saXe4LOF11AnLOeubHIZSxx3MHkIHaNN5hWbmDx0eDk3lLGktzsTlmXpki1ppAAT\n",
       "k8h5q0u2z2tJjINLsKFkpR9Hl2zn00r+AT1NopZlWZZV1Ddr7dcT2p8EUdLmBY3YhDnlloIKHYfz\n",
       "I3+W/KMQcLXE5d99IDzS5R+UGBRLXDqf2I7CnJ4AACAASURBVIDhDBKVEosWjeiH8aw5PUkeOtz2\n",
       "T6BURJvZEpdIknJLwOCTbfv3nOdoaQtLLGJJQ2h8ItlIptRVswVAlErTBEqUIm3un3F527EEUbK5\n",
       "FdpEc9GG8M8DL9vU9g80YmDJSvfgO/gvfPtLUOiU0iYrcQEKPiZRy7Isyyrqu78hqbb2q5axSLaj\n",
       "c4NxkXzlcQu6pZtkI3KmNlLGshMoLFG5ou3fydukwdim0IgBxj2VloAgppnZlBvGNv+itn/TPEgn\n",
       "kug0NYl3sngpLXEhMdHMNmew+cGHSJQ2aVBINGH7ypahZNr2sS3NGG32iuM60+FmCYw2F769f4I2\n",
       "mY9J1LIsy7KK+r6itZ/ckH3xOBwjsU26ufZi/LtrkhoxLM6BfOg2af317jSBSDISaDk7V2nEQGyU\n",
       "Nqsx0WQjhoko1bZ/F27KzVr7Xdr2r2GfpV9BUks/FDdF1Bhs5excFu8EPuUm84xgBVqMsVE2Dvk8\n",
       "Y5oqbS7a97XG46xfq+zc/rSRVltvfD8O4RptthB9x1P9+CixzXy2LfQhfiZRy7Isyyrqm5HhH2LL\n",
       "jtuPHW1cr9auVrc7o23/3lwb8xmOgfPOJNnHPQvZudDn6IbdpCVgOiaqxEuFuKcaEz2r7d+pm3IT\n",
       "2zIbF9Eq0oWxUNai73l6FvcE42h2biRCNGekzGS95xUkekP4FD9r8tnTes2DtAnjjyErlzaZ7y9X\n",
       "iYkGX+ivkOR1sc3qXCZRy7Isyyrq+093U7Y/jzWh/fN/Bx9kO5qBi45lOxbR+lRCkqnOTMrcnW2q\n",
       "D4W0yeKWJCZazs7NZO6y5vTARuOemRpSRKmg3jPTsejeU+aCUgfSS2yTRmmTdTPqTlepD4Xjq4rU\n",
       "uDwRJkNmO9qVCFJmpEVAm+ntzk4i0VOzcwMtIkqdqLN1tEkINtaAoqbtjFKlmCggSfCnccgH+cH6\n",
       "UjKX60Qty7Is63p9M4qSuwMdtSUI9oqORUcpFcViWbz1FbcE1Bdjo/3zjI1m8F7QV5fFOxWfdF9d\n",
       "RJtndywitClvyh1ue+Xs3OBDaXX1+ohITPRv6UrEbKwW9K8nUUabgShRnSir5ZSya1F/3IVvd4jP\n",
       "HXzgnP2wFR13Pldm57pO1LIsy7Kul/8TtSzLsqyivtXlUSXpSElIkseFxz/htTp3dhl5agQPzje1\n",
       "/xPn3p7Lm0IZy9BsgZS/rJZxLylxSSYdXZpYVNwKrdz2Ly7HskYMKCGJlLgcbvsXfc4QSixaLOMi\n",
       "n3SJC1uyFZZqU639xKXejyznsi3NwPhVYwQ0l9JQAY2jTeYfvuqWZH/Jkiv1IZELXv6yvZ3asizL\n",
       "siyigUQjbaplLE+SbONjazNByg0clMSiIm1KrQgT45jPfaCoIm1OlElKVP6wMhhS4lJNOoq0OfgL\n",
       "m3If3rAblKpQ2jxKoih5KLb2Y2UsamLRgjwvbbAwnGh9DJHk8xKqyUNsHGm2sGqWcOoG2kdJVGiI\n",
       "ANv+sVIVtl1ZctwqeYc1RkCJRYgop0byswsvUQnXBM9B5o4+rbX2tRFbHLjNfmG8SdSyLMuyivo+\n",
       "s7Xf0eb0kHyvOO9i/LtxsbkC27j7zzMGx8pYCPXRZgtsmzQS94SUWo2Xsgb0Sky02IB+olTUNOED\n",
       "bf9Y3JO1/VNJVGr7B46dJaXxfKacBR2T2vdlbay1n0CplCi/iE1sv7c6X7lUJbtdWfBF/mgrNGVr\n",
       "smzTg0oslFFjmijZeUmgNJhMopZlWZZVlLwVWrkl4D4+vEbHlNgkjMWy2CaaO0Opwjjkw4mSNE2g\n",
       "tKm07QO0qVDqlRt2XxoTPWErtNi44ZK2f8Qmtf2Lx5EvELqhpuBK7sBX5Anb/hVjolJDBZZdC+KX\n",
       "NHO3mmVboM3+Oc2WZZm7YXw2O1ehVGUDbdpGT8zApS39Yix0Hk6psZyVuxEbPq9J1LIsy7KKGmKi\n",
       "fxaPrb2pIQ2PqL40G7dcUSaizfI2a2jOAqX2PlpDdxKbpLSJKDNTJ/qhloCreKfiM9iObpMmkuiy\n",
       "Ab3Y9o+19itvyh18rtx4e5x0ebqZMuPxJsY9WbwUxS0jQRJKLbf2u9LWfZN+BfJUYqrpuCfKzo0+\n",
       "3ZSrrNzeh2bZJjJo5XjpwpatF5VoNWkLtGoStSzLsqyi5JhojHeyGlKWZUs37Ga2ZCxWouqTKHVD\n",
       "3XqUbcdovBTRJqLMQp3oxzfsRrWkkTaBLRsTXcU2h3HVBvR/S8eiNvs85wMuTJQ2weuJPBG1KrSJ\n",
       "YpNV2yreme1KdIENEuEi3jnEPUOWrNRdqDsPrPNc+MC5gA+jximmOl9SnSD3Axu5JsGWjn/qNpOo\n",
       "ZVmWZRUlx0SVTFpKlELcU6HbUzJwhTirMu7OakE/lgm7iHfKdaKZTbmzNlJLGomS2cox0TO3QhM6\n",
       "FkkbbxMShZTaRhvM4D1TJN75PG2kzGJMVK4FZdm1CwIt14JeGPfs/aQtzYSuRJRS+zrPOL47nRQT\n",
       "ZeODz6dsbOUl2gZK3U61mUQty7Isq6hTYqIsA3eize7klRpStZ/vJ/rqpgktxjZpBi6rIWVZvQfr\n",
       "RGm8NEmiLANXiZcejolesYvLX9Sx6Hlt8yFJ6ZhosNGdWgQShXFLZiOUeUktqGIDu5rcCaU+CTQT\n",
       "90SUGuZrTYx7/iG2NgrGGFm8NBlLjbYMWfZzSdm1nc/krtrw34ZJ1LIsy7KK8n+ilmVZllXUKYlF\n",
       "SjlJtSECXSpeXNtwnckl2+nnBOOuTRAi5S9xyZbNCX2Upd5kcwilxAW29ovJR2TD7lMTi8hy7p0s\n",
       "5x5u+6ckHXWnS7X9O1MssWhhO7OhAk0MAku1LS6dXrmcC5KHnkuYLHmIla+QJd8rk4ckG2jWcGXS\n",
       "kJLg8wV+1+A5SInKycvAJlHLsizLKuobJQix5KFsswVWxsI27F7ZWBkLvV4w95/gi+bsSXSLJS2H\n",
       "SfSEJJ4/i6QjZePuq65pRakweQiRLLFVE4toI4ZKYpHa9o/YlslD/TGSWEQTim7vnVgZC2ukAAm0\n",
       "hWOMNhEtCjbYSGFBoH9F8lCifGXIU/tA8pBiQ+dNUyejxd2FEWGYhyYfKWT5bq7dBoxbfGIStSzL\n",
       "sqxDOmVTbiU2yZrTs+3VMiRLGzGosdjpuvu7z1X88YSYKC1/KdDt0WYN/XNpM2+lxAWQKIyXVrdJ\n",
       "K8ZEl1uhsbgna05/Rtu/FmzhNRSzifUDlSYLpzRUYCQZ6ZaVv5xJoov45eB/cLsy2Brwk3HPd7aG\n",
       "bWeWsWRimjBuWiRLSqnIf4PnNYlalmVZVlFDs4VMTLTaiIFl7lZjokqcNtsu8DkXzTpFsb4PZO4q\n",
       "Wb0yUWbipQevl2Xg9uPLLQGPxkQZiZKGCp9s+9dLotPJGUyZjImmtjs7oaHCKgN3OHZhBm6Mf/Z+\n",
       "sXnCMA7YVpm3g0+cp3W2k+Oe/bEWbGrccxW/RDZGkuiaMtmyp1Bqxt8kalmWZVmHlK4TzVAj8s82\n",
       "oK/GRFkGLiXuxyNvLh9jdiTWp5AstB2lvmQGLo17VuOsArFL26SxdoE99Z28Yfdf0favAVtUkUSR\n",
       "baJTYruyFlTJwB1sv5WBy8aBeGkkSBrb/DO8HM5zb+9tZZIMx5FNyqg9w5+QIaXUDfsif0qiLF5q\n",
       "ErUsy7KsQ+IkekK8NNZpVhvQw/GZmGhvWzwOfkpGaZYat6KtRKJ95m91uzNhHIvB0p+JEPsUL1Xr\n",
       "RMOx7IbdV26FJmTn3oRO8tjn/TikDcZiow2cp7zdGSPKSKlCBi46Vs3AfdKimoHLMncDQQ6UuvsI\n",
       "XYlg56Bo63QPVAtJEsRZKzWgcG4lttlPiskuPh3HvydDOB5SKiLR6G4StSzLsqzLxDsWdY7VeGnc\n",
       "wizbBYlSbjiH2s+X9eOd6Adu3xVJi/WEFUgWHTuTRFOUeuE2aZA20XuodDMilPrpmGisHe1skRxv\n",
       "4M72Nty6j1Lo9ExFAoVE+qTVn593Q/WtT9oDMdGzMnCZTSbRnd4ex2gPXJSBiyh14TOcbxEbbS3X\n",
       "OUiNiUZ/FhNl1JiJqbamUR+dMxO/FMar14To1iRqWZZlWefK/4lalmVZVlGnlrhUy18yrQTVxCK2\n",
       "ZBvnuvfLUasl2/75tORLljI3dVn25KXeM0tVqm3/FB9a4hJ8BhtIHko1YiDLuXFLtOH5esn2RpZn\n",
       "0bIsX+p9P76un2tnM6JlXGWp93ksLPm21i37nlXGwmzlhgpqGUtxqXdZ4oJa+4X5els5seihDbyQ\n",
       "kof2IWyZs78mZU62VJtZDlaTjryca1mWZVl/heSt0FLbjp1oo7QZHlnje5RY9JyL0QxKakkRpZp0\n",
       "9EuJRYxSaWlMoWxGbTyRaQlYbk6fSyxitMmIktueF9CiPplQhMtZ1jZGpJINUurjMzirgTxrqNCT\n",
       "YSO2ZyN5VMaSoFSFMmkbPpJYVG2oIFFm9zuojE+XsRSSho6S7NvzLnzInCZRy7IsyypKjonewzG5\n",
       "nCQxTpmTbaVGG0B04/bnvLWfQliIeFisT4mX/kNsJ5FouVQlOe5P+Dnh3EpLQNb2j8VEu3vEqRED\n",
       "ItGfO/6vx2/7rftNjiTaa6bU9z6j7Xkhky2OP0OMPFm8dEWZjFZV2/PYtj92vw+nkWgoZ2kNxDY7\n",
       "W6pJvNpAfjGOlqOQmCgl2G22ZShVKVlBx2QijNfbPZca0FfPaxK1LMuyrL9Cckx0f34Pj+q4s2zl\n",
       "zF8wN497CjaUwUuzbD/YnL5K13+S455t/wRKZY0rytm5YJzQnH6o5Q9xTkSNjDbrBHqMPBlPZrgV\n",
       "kyki0vHYUQKFJIpskU7TJMpa9AUC7WmzBQKFjQ0O2uC2ZS3YxJgoJcjwZKDUcCwb96zGS0uUeTWJ\n",
       "7se+xtetvb40TKKWZVmWdY4+Vid6lq3cNrCbe5s2YUYxTUCZq7ZyNAOXxfOqBHshiUKiRJm7xFa6\n",
       "pmJ2rtqc/vGZfwXa7J9/LYi0f/567MUoFfv0+lx96H4lejbuFdm5aRKNtq2n1ECnbNuymInb26Qs\n",
       "W2Rrgq11tkUt55lZtmVKja8/RX1/I4nux1B7z4ftZhK1LMuyrEO6ZCu0U2zhUelqpP4sGvUxymSx\n",
       "vhjPQxTFYoTFbNWz60zf2ip1ourcrAE9ey9GAv3qbtP3TNsXdc51npm45xUxUUS385icOMfqmbjo\n",
       "WDkD9wrbFDft44h7c3llSzOhWfxgY9m5j8chphnmkrJsge0Zv9xmv8MxTTR3OPY/Q6Jo3F7vvGfz\n",
       "W5ZlWZZV0vcd3GycuRVa2bagVGW7NPQzbENdoEAzmczdIWanUCOL9SWzc6dxyfjjJZm7C0rN1omy\n",
       "DFyQuftsu/q4tUa0yWKiGR817qn0x63WjubE+yOtbCNl5rNzGVE2kTbvBUrt/963PUsb1oLGTFpC\n",
       "jdTWOtt+4YFke//T45f9saP09c9wGJ6vmoH7X0Gio49J1LIsy7KK8n+ilmVZllUUTCyKLf7650eX\n",
       "bO/EpoxLn/e5/JDcTguWvyxssBmAknRUXeplS5+JJhFozlNLYw4mFgnlL+qSbTym2KqJRaz8pVdu\n",
       "KzSk6I+WV9fSmizMS71xOXZcDFsvvbLl4HncFxinL+fe+/FT0lH/TbGf4vbeRhvJd/5xGVdZ+vxY\n",
       "YwM07vGJXJo8tP9Ng/N6OdeyLMuy/jdF2/6hpKOYfITG/SmOU1oJorlZItTUWKF/frTtn+TDmjVo\n",
       "CTNL2hxsLPno0+UvIRFJGc+a8Xfjbg+qQMlDkSgxpW7D+N6W8TkjsaiW6lNV9mxrylSIMtIj8udE\n",
       "2Z/5Sx63E2j/2U8+w98Pa7bASlyGS2tSGQs6diptVkmyez9602FqFM/7WyQ6tfEDx27vx5lELcuy\n",
       "LKuo7/5mI8Yd1djmffGIxh2NwWabQ1BalOKeqHwlPoox1YmwzmwJWGgNCG3F8hep2QKLm6L34uex\n",
       "vxn8CgSKYpvYNtLltTFRxHq7rVc8tqZOjUyPx0R52z9MoPW4pxoTvcvj0HVTSt3jpW3/PQRNE9Dr\n",
       "ShkLOkZ9AlmiYwN9hdIUaWuxfg6BGlPj382520Cz97NJtC9r2ttGPttH3mZbiz7omJstWJZlWdYh\n",
       "0ezcgShJbLJqm2KaYNzTJ1wjOqY3mT87JsrieWJ2bqol4JracNw0QbJnZO5OsdBEk/ruuUKb1exc\n",
       "1vavGhN9HUOU2oBtPhbHnSe1oUI8psQ0q3FPZpuvnY2LlDn6jBg2NnLYvyf2DN7u74bGHwsZuMOx\n",
       "8AUHaTPb9IDMOVFb//0QxkvU149ndPxJEgVb3D2ps/8QTqLb5/eFZVmWZVkl8bZ/vW3xeMTGSHKK\n",
       "z4abLHRsaDIfSXSgN4FSFdvROlNKhIycUQ2pEBNF74WUuXsSpYokymgzUmI+O1ePl54RE2WZuysf\n",
       "bFv75L3f14Iezc79NImu5mmtB8L38da+vnTbf++frQGrGbjdT/OkxX9Gn1Noc5Fli/xpLadCsv34\n",
       "kGX7aRLd451Da9c8UY5zgnHP8+wZ3Y6JWpZlWdYh6THRxeMZNuV8Sgbvvb8rzXQlonHPr7WNjmcd\n",
       "ixARVmtIF7ZTsmyPZvzq26UhosQkuh+b45aKLcY9e79VbJT5/Dxv4ZgaE0W8NfsdEyI7ZltTppKd\n",
       "+2kSXcVCe6Kcba2zrTN392NbpMZ+EqkDEIo/Ph4hbe7HzqTNmLkL6HhqQJ+NFX4RG6K+SJDC+WCW\n",
       "bYZkW0eZj7n6jQVo5m44j+tELcuyLOuYcJ0oiolu+PEMm5SdS67pVRPar4nvd1OgY1GkTDmmuYil\n",
       "Hu2929pMrpRShcxdFjeF70U2XkooNWYKCxm4eRLN1omuKXWVlfu5mOiaOrX60NmbjZqzcdfZtUrm\n",
       "7RUkimhRqyGd0ZDVicZjiGAnIv0xjqcZsmsz8U4WfwTZuRJtgi/bFW32x1gG7iUkGv0ZSYK4Zype\n",
       "impBheuFHYvGOU2ilmVZllXUN8x2beNj//zKTbmV86G46fMYo0ZIqYFWB38W7/wKj8xHpD7WRYn0\n",
       "kl0SqFwnGutMxW5GE6UKMVg5A7dmixm4R7Nzx5goo9QWjq0ptddvx0SV+tAN2DKba9+JDZPomiQV\n",
       "So2ZuD/HdNpUKfUVJ92/NAGlSvFORJu7bzW2GeKm/RwZIuzPu3+f0exehez6mCYj0RCvTM8txEtj\n",
       "bHQ4X4yNtvbqWDTOaRK1LMuyrKL8n6hlWZZlFTWUuMRlXLUc5axGDMr50PW+WvwJ5Si931mNGIbl\n",
       "4IONHNJLvYkSF9hsQVm+RmU3ZIl5sYx7xpJtvRFDtPVLrngZV2/7V0ssOq/JQm7GaMs2kFeaH+yP\n",
       "t2FZVRmHrjefNISTj9D48Vh2qReWv8RlXKWlH1uWPZog1NqbpdNY0oKWbMP4wRaSfuCSq5AYpCz1\n",
       "suYH8txxqVZs0rAojTGJWpZlWVZRsMTl+QhuoKqlKtWymVjqghKhnncgsCykWuLCxmXo7YTEIkaL\n",
       "q/IXmnxEkoBQaz+YdMSSlf4Zxp1Lm4ptJslKS0CcfPSeRBuxseQhJbHo9tYDj0BnYkzMtzl7T6s7\n",
       "4fHx8ziUGMRtuLk8Sj7CSUf7sZlSU+UvtKE7SfRBDRmorQUbIEpmy7TfGyiMkegHKXUoVWHXe5BS\n",
       "Y4LR8Hz8WUyilmVZllUUbUB/NH6JjqESFWWjb9akXopN3omNlrgI8c4zmi1Emk7HREkMmG53tiDZ\n",
       "t3MutmDrbHsI4fMkuo57YkrF8dIbGP/5mKjGm7UZ12UskRp7P61UJc43z6luV8a3MvuR0r6PE+V+\n",
       "hbmY6PPz3MD1xo2sW1vT6dBib7cBwno+B2Sn2GKpSm9jZFelVGqrUCq4bolSWRnLMUo1iVqWZVlW\n",
       "UTwmCmwKNV6ZnduPnygTkh3I3KVxz6+1bRqH5layc9k1nUSpMG6KmiYI8VYlvtvR7e15h7aOQypE\n",
       "+Q+xsa3QOInqlIpoE1PqmkQjgaK4p0Kdc7ZunIWPYDFRJe45HlNIdHs89vfpbBz2aW2mTSXzNt9Q\n",
       "YRvGI/9+zvg7PTRieP69JuKWw3dQiIVC2mS2IqUyevu0bdVkQW6oMGbQwm3SpGYL7ynVJGpZlmVZ\n",
       "RQ0kSmObG3682sayczkREtosx0sX9aVKa8DhWDJzt1JfSmOiaryUZOeStn9fj9+ko7FNhTbxVmho\n",
       "XIx7vmyr7Fy97d/7mCjO3G3DMUybSkxUqSpdxzbV7NwcibKs4Jko78/P5T1t3ofP9SuMr2bZ7le4\n",
       "Jli0oQG1TRmxbU2ZNNsVUWqkx34OQpsxRtlaW8Yd4dzRt5/7Shsjw0CdvV+1ThTFWReUahK1LMuy\n",
       "rKJgdi4kw8Xjp2woFjt3FwLURzNws/HSxTg5tqnYwJxso/DVnPJWasV4aaBapRE827bsnAb0NRJd\n",
       "Z+fOPxOn1PNjoiwWuh71GrnmXuSTpcyjJLq29X/nWp1n9JlJVsmyvcI21JDGuBrMTM1QapJEYfww\n",
       "+jMyTJDsFTYaNxVjm5Ey4abcX6Mv8nd2rmVZlmUdUzo799dtMEbJ4p6I7JRxLF7KMnCVzN2jWb2M\n",
       "jpMx0UibyVhqrAXtn2e2Jjsj7slJdE2Zq+vlHYvWlPp3xUQZ9e2+M0niOtFIi8dIFNGm0t8WxUvn\n",
       "uGd/1lqWrWbbwPnC78FQQxopM2TrtjbHO08h0Uh2PWHF+OHR8cjG4pYJ2/DzMhuJbT4pk9EtIlgc\n",
       "gzWJWpZlWVZR/k/UsizLsooalnNDWFlfemUJSWfbLlk6BTaYdLQYp5TB9M+lEhd1qXdVdkOSpViz\n",
       "BtX2TCj6SfniSUNz8oVmyy3ZHl3OzWyXxpZ6x8XUvzexCJe46ElDtzYu644+X4/HcaGzt41Ltkry\n",
       "0LrEZV7W7d8V3aaWsbye778X81LvDXwy07aNcQm2P3bqcq5yPmXJdl/KVMa3uXyFtv0Tkobk5WAh\n",
       "QeiZKMSWiMGct/G8JlHLsizLKgonFhEyjLv0DOPC4yW2NG0mk46k1nwsaYmVzxSvN1XiQsbTZg3o\n",
       "fVonFuW2FpvJTrEpjRj0ZguYjsdriD8T8kHJQyPB9vTIt0lrw7FPJRZVmsz/PP9a2BCJ/qin1K/p\n",
       "Wua5Ixn+jBuThfrylfvzPR8p8z78Pr63KaUqWUplCUmbRIZFEg2kNM6FSHJBhJA2k0QZqRYm+ACC\n",
       "XSUNXVHiMjRUUOh2LHUxiVqWZVlWUbDZQoyN9s8/QpvoWDnu+QHbXaXcs2zJEpd4nYxkSZOGW3fH\n",
       "tqI3dAyXqui2z22TxuKmMbY5k7e2TVqvdUxUiYXOo3qty1iUEhdMog+KCkTKSBTR5tyiDx27T+Ne\n",
       "lPrSHBPdz9qT7EigKH7JqBGtTNwXPvH5ylYm0UhKiN6ex7JzHqRNSpRoHItbLohQLnFRYptJm9v+\n",
       "WZZlWda5+p7z1F6PVZtMm4ns3NedCcrO+hD1rWzy3Be0BFxl59JYbk+y5GcJsVCFNtEx7DNSn2q7\n",
       "gkRX8Vll4+7+51NIdMVo4+vR773eN1Rg2bk6ia4IViXR99ebiXtyWx/bbAufl5XHNt/HUlG2dqRV\n",
       "5P8kUkqNKMYIaLES9+yPHaVNiSh7bmOxyaPZuVWbkNXrtn+WZVmWdY7kOtHJ1t8AscxdRpvkfHNM\n",
       "FK17R+pjlFolWDJOysC9uiWgEKeVmvGv53619ltnIGox0ff0p9rOjZdGymRxU0Sb48+HyaNNtplA\n",
       "j8ZENeqrtPYbbXien2N63JPXezbJtsq8xXHPKlGu5+SbDrTJppFoJEJAqTQDF9gysVRKm4HG+mMZ\n",
       "olTPp2TgNnLeqo3+LM7OtSzLsqxTBOtEGVE+bWAcipfGSFDVBu/KWrzzypIdott450PmjOeXz3um\n",
       "TahdpbWghGBDLJRlq+ZjotFnnpvbzoyX4vNxEkU/y6djomwEi00qcc/38U62qfdn4p6vM0SfTxPl\n",
       "0XFDU/2YHUupUSXYEJNkNaTKFmGIcls4/3De+XdlVXcJz0PHk/jl0e3O0PkcE7Usy7Ksc/TdJ3c9\n",
       "45aP13MOG6dNJbaZtXHqw3U7oz+zHSVCJU77KVsmg1cg2faKheJY3zpGmIuJIkod50Y2HC8d/c8k\n",
       "0blT0nxerU70t2Ki55PoHi/9rbhnf3Vz56E1ybLPpzqut23hc5VItP97pfHLBTVmx9Es2SJtKkSo\n",
       "xktXcct0/LIYS3VM1LIsy7KuF8zOjWT5zhbptEypgIpn6gPr5pRSFdvBOavZvZdQqlK7qmXuMpKc\n",
       "+8XOtkot6c+xcW6Wnct2Y+FZve/n5Bm8ufcCU+quK2Oi6+xcpT/urbPdp7nWcU/0U86x0GNxz5/n\n",
       "8bNGtDqSJK8Fna88u8Lwen6Txw0ku9gt5Oc5+16LlMnGoTigQpsgxkhp8eR4KesuxOKXciw2P6dJ\n",
       "1LIsy7KK8n+ilmVZllXU97xociCxaBsf++exIQM6huack3fQMqWy1Ksu2VaShtQlW7YUc/JSb3Y8\n",
       "aBxxCxtuo+VYzYaSj9YJHZlyEp50VCuNyS/nrpOsfi+xaFxWrTaZV7YyG5dzx4Sir+E+PS7L9qO+\n",
       "oE/vx5d645L6vOTLl17Xy+3V5dzteez2dty4nMuSgEhikZJ0FJOI2Di4ZMuWg8mSa3oZeJH8kx7f\n",
       "ijYl6ejnwSRqWZZlWUXBBvQwsShQI9tCDRElmlMqcZlKVdBdDqLUeNeg0mY8hu7YCFFOd2xHKbdo\n",
       "k8ePCUXZu23WLo0n3KxpU0ksUkpcqht2c5JFc+Ofdzw2Jw/NFNSrkli0Ztpqa7+RbjFl3ue/1haJ\n",
       "tJ+JJxbtvuvkoTv8PayVo3ASvb0dl7Vt4TOjJKtQ38BBi1KVfo4piYiMo+clJItoEZFdJfnn6HjZ\n",
       "1tY2JxZZlmVZ1jkaS1wCZQ7xy8cji4kqtMnGjffe8c4DUZ8QE4VEWaDN4ZoEooy+6JpY7ODTMdEk\n",
       "ifIGA3do08tC4vh1THS0xRKXdbwUjZsb0GdJlJXrnB8T5bFJFveMx1QSXZ3v9fsUiVKNic7xzvdx\n",
       "z34OpYxFiV/icTuRNmA7RqmRTAcpP4kgMQAAIABJREFU32tKqUp/9WxFbyI69v0kxhF/PSZ6ha0N\n",
       "NpOoZVmWZRX1jWgT3QtmGiqotElJdHXng+5yIKUSspNsLKuX+RDKncZVKVWwySQ63mXrd9SYNvvn\n",
       "LFbIs3Px+PHYsXip0hKwSqLZDbtnIn0d42LUWCXRr8fjqzXCyzYeuzbLlq1avM+8rZOh9g0V6fQo\n",
       "pWI6Brkez/cz8V3QP89QKiM0RqlXxkSRz/OQek2r89dsJlHLsizLKopm56rUeHTc83EYGO7CNuFu\n",
       "ZbBFaqzalMxdFLMgREjv5j6RnYt+3v2Kanfw1bttTqlKTWY1XoooFT/+PMcZvKO/Et9F78EuxJRr\n",
       "RW+Unau09kNX8Gou/9J87H2WLYqJRur88V//PkSCPf67dty2hZ9l/GZbf3ozzwl0LMcYA2WmKTVB\n",
       "m78VE5Xjl4tzLK+lYjOJWpZlWdYhwY5Fr7vRmg11JULdjFjHovkOQol7ErJj1KfS7TJ2oMZU2TiF\n",
       "UgndVjN/y1mN2IeNu5oOeLx0tCk1pEotaT+3suXb8ZjofIeM+JXXgo4+jIXHq8Cx0JGFYkw0S5v7\n",
       "4/u4J7Nd/bt2HsEqaw5JolRik8qcckw0zENjop2JxTQP+fTnI7Y4vrWZQKnt58EkalmWZVlFURKl\n",
       "NpEoU3P2VxZJMBv3nO6AxLV4SpKJ7Fx6x1elVJLxOz2y8Sg7F8Xz1nfUrXAnXr+Tz8VL8ZzrmKhW\n",
       "J5ohUdbNaP1zYqZcK9YYsgzccUuz6I9IdKTO3mvuOPQaFbNrr6RNZmOxZ5HPkrYrrvfncdywm/2d\n",
       "FzN3l5R5dHxLUio4nxJv/eXMXZOoZVmWZRXl/0Qty7Isqyh9Obe4ZFstf1ku47JlWYbsYAkTLolI\n",
       "y7HMh7QilJKHzmq2oI3PLIP1+puTPXhT+7WNN5I/2px+3RKwwfd5/Gt4af40lIYKqL3c69jctm8u\n",
       "Y3ld07zt2Hx11y7ZsvM14rMOS+S/oeIxZQG+piExafpb7i+JLVPG6yPfo3EJdpprNZ6NU5Z6V/Mn\n",
       "fQYTWn5ejB/Oo9tMopZlWZZVFCbRQJ2DLTy+s6188DFATwptKpR6pq3ig/zTlIrmPNZsgd3ldxMM\n",
       "Pngc+hR/h0S5jbXmi4lFMzWe24ghXif8S1iKb7z9FXzmGVFDhVdCEaLx+JjbtOA82lTeQ+0b6vd+\n",
       "D3Wf7c27MYvwOCNYRo3T95oyHlzfYUplhNgfjFQObPSadJtJ1LIsy7KK+oalKsAxQ5nVqIIU78zG\n",
       "RNmdC6M+hQhTPsBfptQ4F2juQO9Q2fj4iWbvqJFWd9vvffTznmmLrQQRhZ3fiIFdUwvv2ZrzX8d6\n",
       "YtlJ8rWR9ssW4524jGX2Xv81z9fNtxZbr17kaHO+hrNiqvH53yPlO6StbZAWV3N3JqUshH3Xlomw\n",
       "SMApglXpFo8ziVqWZVlWUUNMdNdRokQ2JBoJogQaBwr0RuOejdiEOasxUfWe+NLs3EyDdKT34zA7\n",
       "ZSiV2dZzqturzdfC2gauKVXL3F0TcK8bONZa/HsaCRTFzvqf4DVH37RztO0j+JZkR1cD2vCI/d/T\n",
       "JpuTE2Xu2+u3Y6K9bYt5DbS1HxJ5hyLBQtqM85Dx8FJU6ltQKss4TmfgziapSUMYZxK1LMuyrKLk\n",
       "OtGVzzubMufkzI6pMdFpDZ1QLrSRcXT86hzIX6RN6T4745NVLc7ECWLli+gia0NrHOu7+1VrPkyN\n",
       "52fu4pjoeN1otYbXgsbNtV+6lzcdeP8+cXrD8/Tjcisb6981nSjx43+Ost8vbXzsbRJ5xu/Vd+OV\n",
       "cdH3qA/wo5TKrhtptJlELcuyLKsoSKLodcaG/J6PnfNcj0poMU12wQeSXTwXmAvFYjPjGaXSuQlx\n",
       "wxt4QrLh2BkxrFnszh+Nf0+p6LZ5JlCNdKK/EkvNZ/cqmbszpfLrHYU33o6bbL+Ea0HjnC/Nv723\n",
       "zrZ6D1RqXNNijTZfz7XxSMo1rVdbfo9g2XdBm220BnQxN/vukuOlYXw2q5ed5jkn81EotTcpBDva\n",
       "TKKWZVmWVdR3/wLdwFRsG7k7YjdO2r0eok30mtFeCzZyJzSIEajiE/0RbYJxLAb7kXvg3F16bvza\n",
       "n2XnNmCbaXO2KXE8LQbcE6VC8zvlzpSqZOmy3rfz1ma9xg5E+JpetljfqcScWdwTU+PoOz6vjjtr\n",
       "PJOGfVdm5z5/HyDZVfl44c8ITRnfmhgvDb5wKoVgs3TMaFddJTSJWpZlWVZZcp2oYtNok4idEL6O\n",
       "tClSn0SnaJ7V+UjsAM6F4hmZu8cssY/XzbNkq9LiW6txGl2gOdfEodoiPR3PWl3HRFUS1WKi4zt1\n",
       "7+6Jj/8s83WsSF9fDcA+7+aMPuiLIvO7dg2lflrZqxMoNX53ZeOez3mSRLmtTRqtZikzc03vbSZR\n",
       "y7IsyyrK/4lalmVZVlEwsQi9nhZQugOscX1050u9yWVKuqSwmqeXYmNzxuNoXGKe5Ti2DBwf45Iz\n",
       "GA8vRln2y+r90t7sO/vfoB+bM2tbzfl+yRcdy5fGbI/H+3Ic23ib6bVS9vLlJSptaav4sG8RvmSL\n",
       "zsf813Nrv7dHl4r/JglXjD4Wunwb5wbjs4k69LyLZVx2iacs9eY/ZZOoZVmWZRVFE4uQMtT5zo+K\n",
       "JhTFY8k7rwxJsiSk1ZjVMSl5iN3pIZ9P3idXk4fm8YgIuf/qPCoF5W2YgHdfNH5NubjEZTyWJVGt\n",
       "fd98vfHaMZUzGyPKY7SJfZQ513Nr49hcfyOdFlfmIP1Vv+OO6uicF4xnSU5uQG9ZlmVZ54rGRAcb\n",
       "Ma7v1zRpMdHURNp4SpmJdXrqQ04hj/v9+961FKp4r+NEiv1Wtiw9cYLVKRUdQ6Ux/4SWgK/GCv2W\n",
       "Zjc4Dz6vdk0v1f6aNdLP+Kjnez939Rx4zqMx2AuFPnIWI1xKXNnLlMLAayLnO7v93zs/yWm0mUQt\n",
       "y7Isq6hvZjzzPhXdHOXmSMYAppMU45CH9VvnZee74iRVqjiHZJGOz3PGtR2Lpe5x0ju43+UkGX31\n",
       "axz9c7ZrdXyt63y9J96PkSklspOuIpXJe8V1iPknH1wPMIlalmVZVlE8OxcYlXu6Mm1mU4WfuvKu\n",
       "g2XZMp/knCUfdfyvR2n+Q6VE8XJzsEby6NidbHOm1Im+fPVr1G3Wr4vGGKv67azZDysdLx1lErUs\n",
       "y7KsomhMtFeWQC/TYcL7X9Gn41VVajuD9vBc1XzcLLVFIszSJsq8XQll56Ia0vm8OZLV8iHO/OwU\n",
       "/VYc7pg+/Zf4V0rJoP0bJTTTN4lalmVZVlG4TvS//tbpt2+HPs31Ryt5a2c7bwwjnhwNaeOuo03U\n",
       "+1apAVXGs7663Ib89PcHU32tKhR/dudWg57zV/A+9/Yjf22//VX2v6zHB2wStSzLsqyi/J+oZVmW\n",
       "ZRUlJxYx/eet/mauuLj0emoOxN/4Do/LWfkkImXc7JNbjkVtAd6Pey1+z+M3eE21Jdso1iQ+zofm\n",
       "vEPb+2tC7xN6D+b3Zzw+Xmf06f1qS71r3zPGKXNqP+ev/bXS75yzv/OS4/+Ll51NopZlWZZV1Ckk\n",
       "+vfoQ/eAt7Pu6ogN9kr4bIJQvABMZpnxL3HyYJR6rIyFE1ak6/c+/bFIfz9ea1u8h62T6H6O13yv\n",
       "Jg1zswZeGhNt6NzrVQi2GhB9spTKfx9YspQiNM/ROa+U8N1xeFWLEeXf2ILxAjGCfthMopZlWZZV\n",
       "1Ckk+tHl7uzdlXTndOYafpjrRmxwXPIO8xbHsSgNqnhW4nlZrWlm7TtfLYttonjcTJnrmCiOaeLX\n",
       "47H3tDkS4aj+rvU+vTMsyjiLk6gep8XlL2z1YU3l67jpmmSRP6dUdVxUjTb/bnYS+Xj60Q/+VPL3\n",
       "GhunaP03Ujo/UjmW/GMziVqWZVlWUafGRA8TKZrgcMYZuzvLxisjZRbpVoqpJu+J1zfr07Ftm+/k\n",
       "83pPLOsx7yh1TTOcctdxz0wGrebTU18kfPTmr7cyi40V4vNenAznZg2vzN3zKHVNpFnaJL+kadp8\n",
       "/wegrNH8dyjxfaH6y3MlximUqfynckXsNyGTqGVZlmUVNZDoLT7ZgE3QNTHS6t0Vm0uwQWpkPuzu\n",
       "ioybYptM7F76zPttRiVsxhXZzT6cZLO29fVmsmsZbcb4Z++H3pN75xX12ox7fByF4tj8uvvnaCu1\n",
       "LdApolSlvjRLsjzzFz/24zKUKUYKyTnU81ZpXvfByv5NE//px6sSaXFl7hNKVVS0lnkPTKKWZVmW\n",
       "VVQ6Jpq9eUiE6tqWpafpzql4l6TQJvSrxj2Vu0JAqfERzkXuxW9jDK5/zmiTSxmnkOw69qZQI/If\n",
       "34HRX6nlvA1z79SW036XupPsNtjWBLqOiY5eP8cYiSKq/iLjYn3pF7HVKCxPdvhxfK5/0/A47zx3\n",
       "nW7PEXwP0Y/5hufjrPh5A9+r78YHpYk0u9p3wEe26TKJWpZlWVZRkERv05O2vlm5SvEE8O5IuRti\n",
       "dz5V2rwi7pmJaQqUWo639lLiNrPWsVBGLNXzsjnVmObov6+IjN2FbsvxL7/9cZ2JO9LtfRh1g5/5\n",
       "PFNUnkTHY0czd4/GA8fnM2LlMobHx9UxTZl1tE8G+Frj3wVtfFz5v5tz+HEz311oHDvf6jU4lqZN\n",
       "oPSqJLeZRC3LsiyrqG92/3RDL1gYD4zL3Z+pEYl4AUKM8TCRgmuBMcqF7zAOnKMU92Q2dN557r1m\n",
       "VIuJanQQ/eu0WbPhmGaGUsds2/45iol+TbZteobin7fndc6fmfJ3o1A5ItFc5u5M3FeSKMvqzcQ7\n",
       "z7km/Pjedg7N49+CAlH2U6HvnuVc7Mv+jLjnYm44x1HarMZG39tMopZlWZZVlP8TtSzLsqyicLMF\n",
       "oCfFk2VdJiU0v6ELiMfYMgQLpLOlArZ0ChN0Fr69T3WpNztnKbFo/eHxpSckJdmDLZUdW34bS1XG\n",
       "xCB9qTeWr+xXx35bUfJQHD8fw639tuC7OoaXzdHnw5avtaQjNG5c4s00ZPiULZ8EdJbtfMW/EXxJ\n",
       "7DsEzzb5THOp31mZcdGX+PTXxFRKAj3fZhK1LMuyrKJgYpFyj3VDN0cA+iS6fR5RQ/fhhOzuipEd\n",
       "m3Ma3z1PUeZBonw354qc6dwdc23/PEavPymttOA9HbDkiTx5jNSJ/DGltoetfw9HOtUSi+bPHpPo\n",
       "PudezjKT6C28VhV5F5P+elNurfyFvffr5KNrKDX+3Ou/jOJfzwHb0Z9TJVrl+yW8Hp4L31mUctFr\n",
       "Nm41Hvmd5bPwu8hmErUsy7KsovIxUTYbMSJKpYokmG6ecHDcNB5cE/Q5iSirBAvnvo+PfYmLcNeM\n",
       "XrM76Uwa/5m2V7xzptQYCx1jfbvPe/Vne+kr2BBt3obXo219Jx3/XkZP/fPhcWU1XvoVbOi9/ILz\n",
       "4HHq9WIfNu5TsVgeL9U1fhOsz/tcRVK+u2RaXNEe+O7LxD+n86yuKfk9vDpftbVr2jbOaRK1LMuy\n",
       "rKLqMVHiD2239+Pg3dGSSLtjbDy1EbKjd3OJO6jhbi7cRaoEm7Ldx0c4rqeo7fHv+ztxTpuN2NZz\n",
       "a40R2LiegjZiiz95f8Wr3+D5HnNurPCai5PoTJ08O1cXz9hVSLS3Rdp83y5QiZui8+Fx6HrzDe/P\n",
       "Jcr1J8O/AWrXyyWslKW/lwrfa8PblPjOZAQL51zNA2y90o10MrbRxyRqWZZlWUXBmKhCpyqJsrkR\n",
       "37Tp+YJIW+N3TlXbkjZbR3fx2gj1QWoMMUo0J3wv0LhAnuy6p3hKd2xT7pobsZ1HB5Ek+0zaGO/M\n",
       "ZuAyypw1xz3jbK07Y8zE/Tm2x03mz/UWfJCNKXqP98fHSJRT6ntaxdm5a6Ksx0v13zX2LYR/x+Nj\n",
       "7ZqyawzTeLqqlFxhq2TpwnHoOzP6grkV2myiT2p81kbmDOcziVqWZVlWUd/zPRl+rdAmkuIHSXR1\n",
       "50Njm43Ykndsyvp+hlbfnjfS4h3YlOtlMdG1bdvW9YTX0EHsLjTHNqsZuC34/PjhR3QMZ+lGzut/\n",
       "2cYa0N52e9i2p62fYzwz/luJd8KzF+LXmZ7mz0ehRSVeikmWNbCvxkv139F85m9LjtNpU1nBweSM\n",
       "ZxgeZdqsjFNpk4wrx0vD7301uxZKsennM4lalmVZVlFydi4jyvcRB3FOmJ1L7lZWFKaOY7WcMH4Y\n",
       "bPTuSsiSTWfgMkqN18tIdrZtbe5clLu7X5MkysCNx1Bs87VF2ToDt78PvD199nP02oJX/9s33kuy\n",
       "DNzXubbJomx3hjbeRisxygoO844xPv1zZSSKCZTXkrIa1PV5ebx0npNnu567otLP+fLtn59FsA8b\n",
       "XLFC3z3he+kopcq02YB/GJfxgdcpUOfHbOM1mkQty7Isqyj/J2pZlmVZRdESl+xS75m2LZNYpCw/\n",
       "KMk4aC46J1vyRedVkoeyiUWLccN16+fdE4xaqy3ZtvZawtSSh1iLvrnEJbbYG39Kfcl21B36oAW7\n",
       "uHQ7XssGbOPvzA2Mm5d1+zMxsRHxs+v9lOXGOYlnlVCkN7DPJB3N15RZBubLwdn3Yv59isvkR5eB\n",
       "YWJR9Xvt6Di4ZHvWd21yibla4nKarQHb6GMStSzLsqyivoctzUB892lbPF5l2+KdSLmhQkwCam1q\n",
       "xH6UUhHZxSD/8JzceaHzUpKMVFyl3J1E/+muaLyTxrS5vhPnyUPRR23fN9oQbSJKRe/qLMRyo21m\n",
       "kdfPEstZfo5t4bFNNnT+dboJu2p8dT+vVYpSEnzyZTD9MS3paL0iopS/6Elw73+PX+9hS42bS1XW\n",
       "7z0+75/HI/t7R99d4LuHkuQiISlbxiIRpUiwmfE0QVSwyedr0GYStSzLsqyixmYL+1J8Gx9bmyn1\n",
       "TBL9Arb5DkK482JEKZWqgLlo/FG5O6oRIf85hfKVE867be/vlu9P+uvGLWKhY9xzHIfb9802FrdU\n",
       "aBOXr7RwNG5t9pr9Rbmvn+VV2rIT6ZpEG7QhYSrGERtEPJGetJhdLra4jnui+OWdxEQVuuVxWn1l\n",
       "5IwSl0yzBGXcOIZQFCtlo+MqlKqSrPBdS21xHnIt6D8lgRapTS5xCX6PazGJWpZlWVZRsO0fpEZG\n",
       "qWxc0ba+W1DXvVmDgTi32CJvoomj1HehrTz+z9O0x0cxbb4nFi3uOVPfK8t2tr0+AUSp7DcKN1T4\n",
       "mSMKEWKkzXtn2WMjkTpnAtWzc/NC7Po6+/w+VQmLZdIq2bk8Xjq3BKzEUj9FmywDt9xsIRP3PJVS\n",
       "E0SpUCOcS/3+Lnz/y7a2tkmZu+OjSdSyLMuyitJJ9AJbjIWiO/8pbqneeR2Oe6K7FIX6hDu+crw0\n",
       "MU6e+0GeX4+s3K0nrLEVIIpvvWKaffu9SJkzNSpxz/0I3tIse/+Ha0H7GV8EcZ88Z9rsx2+DD46J\n",
       "tsk2E+h8t8zolHlH3h3Pegu2KomuiZLbqjFR3aZn9+Y3/H5vwz54XJt8nn+TElGiFbYqpVZ8ej+B\n",
       "YLN0O50fEGXaFvwOZu6aRC3LsiyrqI+R6Fd4fDduSaDZO6+JaMFcMO6pECEj2WwG7tGY5n73+s/4\n",
       "urWOMoNPa6193d/atns2zhQpc46pxgby/WfPmswf13t+i2T68+wefHrbBh/xsciI6Lz8emfNtDnb\n",
       "1qTU5M/1PYkyIlQo9Q5impkYbJY2z94MXLVNr9XvJ6kz2VFKFVbREDVmY7ElW/WasgSsE6lJ1LIs\n",
       "y7KKoiTa/w/L4peMNpVx6Hz7sW26KxPvvNga/nSHx4gQ3d1ckWWr3H0CWizFRDtKfZIrssW6vvdx\n",
       "z59jt8cxTKQ/thZsc0w0+v7440d0bM667Y/O1zIT4UyNKO4Zs3Jx3BPR5vvzKeIEOs9I43ElEp2p\n",
       "j/W5VSj1PtBtZnu1HMlGKv61+tLh727/HU3GNlPflYy+lLgnotxq3BN9Dy9san2qYkvEPdf+JlHL\n",
       "sizLKsv/iVqWZVlWUenEoqNLtmjRDrX9ey3nFstYaFnIYvni7bij5SRCqUlcXu2fP5OA2LhQstJa\n",
       "m5KGvu7A9vgUvrpPdhv99wSj1tQSl5g8tE4s6vVaOt19N2Blv1GzZdb7BJ+xtd++RH1/PG7dKCWx\n",
       "CJ13XB5CS705rReG0ZnQcq5S/qIl46AyFmY7ur3aOqFJWZbVlmxzjeulZguXJgih78pM6IuNR8uj\n",
       "6GdRbBcmFsX5kL9akrNY6jWJWpZlWVZR41Zoi8fWuv/0kY2NezzSEpfbbHs2Cs/cedFEHXSnV03w\n",
       "uYJED1LqRKsgeejrcazbeHui055yg/926+7EtzEBZKTMSIQzrb5sj/kgpa5pFWtMGmIkOlLm62g/\n",
       "DicIjUTa+/HtzhCljnP3yiQWrWd5zTT+JJE2Z1uGsNREHZ48dA6l4hIX5byK7fzEotffdvZ7okqp\n",
       "wqodHJ9Y9TvFtqBMWsZYJGD0l6OUxrjExbIsy7KO6VuObd6ILYxPl8Zsa9vx+IBCfdVxR2mTlZr0\n",
       "RBgoEY17UiOi1RD3HBoqBDq99ZT6hR9ba/ft++cQiYmiu/voc2VDBUxzM0m+Ru13lrPP3PbvNbu2\n",
       "3Rm6pnW8FF91vF6mSJksXjrbjpMoo8aqTafUkYBZa7+q7RiJlr+f6Cpa5rtS+B7NNq+RbGpsckWZ\n",
       "IlFmmi04JmpZlmVZvyOYncuIskybwjhkyxUQk7uypt6xfYJEhaYJXx1tbv+sx00EGqiztbm5/DB3\n",
       "oMwhOzccG2KpDwLYlJjoYzjxOVeMRJEtkieizUeGMoxtRtqc+e8Tbf/YqNhubjz2GRLlmbDrJg0z\n",
       "Sb6nVHzeaktB5Zo02+s7J8RCy99BZ1DqwiZl8GZtaE5wTSvKVCk3/r3JMdE8wZpELcuyLKuoSxrQ\n",
       "q5TK6kSj7Z6+Y2MxgLNimtnxSi1oIEs4DsVSY70nqBMlRAlt8djX/Mluf35io2fGPV/kOj7+zKUo\n",
       "S6LjsRj//LGNtMpJtE025byIOvHPMCoXG52P4bZ/s61GousYo15DuibJFYHyWtJsDSk6b+09WBLo\n",
       "Jd9PjFIVG1vZQ3kkWVukS0Z9jHKL503FYtfnM4lalmVZVlEwO7caE0VEyWKi1HYbj031oq3xNfyP\n",
       "3OkpPmoG7iK2OYxj3YgCgQ51oussW0qb0zFke9yt379fp3sS6PoeLVIfikWhtY3n78Ny5p/Z+tGj\n",
       "Zb57XGXljrWkY5xU3+5sTZs8JqrEQpkiga6vAFPqbDtOou9pU8ncVepLlVrSfi6lTjRPqfvfG1qN\n",
       "uuL7iX0fFmysTjSd+UtisZT6MkSZjJdmYrFkTpOoZVmWZRWldywSbNUMXGjbwrHfpk1m+3QGLuxG\n",
       "dB9tkDZR79z7eKyfOxLoEC99fGqPzkVjDSm+N1N7587q7xT3bGCmNYnGfrXjsXFcvj8ussVrYufv\n",
       "jx0Tm5GRaKWbUT1WyOpE17SoZO6qHY/iuDMp9bWNI9jm7Ou3vruUeCcZz4gS9sBlsVhChCsCpTX9\n",
       "arw0E4t1TNSyLMuyLtOpMVFEqZkMXD7nI3b2V5Jof6dJMnCfRClk4FJK7YkwdBxCWbYb6Z07xUS7\n",
       "T4jWkN7Cse5O/P5/P4/bOpZV15oyuc8Y7+ytMQaKOhZx2lwTbCRQFvc8NyY6zorjnvOZX/fY819z\n",
       "tJ3bySfSYi7+WKklHce/j+HqlPpQpi8uotWj30+QNpU5q9TH4q0sg1YhQjB3Kn6ZjcU6JmpZlmVZ\n",
       "l8v/iVqWZVlWUeVmC+pSr5J0lFnq/XPqsmx1G6I/4TGbPISWcBaN5IfzhDKW1tqykQJrMg/LWEKi\n",
       "0OD3BWzkt2XfJm37v3a+3i/nojKWOA5thfZqnD8u6/Y2tpyLkocyJS69mG2t+V3Bo6vLuTfoc2Zj\n",
       "dqX8RdnKrNpSMNuIATZU+ArfK1/Kd0gf9vlEKIot1bKlUyVpSZgb+UvLx2IS0NGkI2Wp18u5lmVZ\n",
       "lnVM5cQiRKnZhKRpXH8zt3g8l0RZYtAfYlOaJjCiTDSSb20uUUFlKJFAUZN52NovECho7feyobUC\n",
       "RLAjxfSNGI7r/ph5ff+HSkYinY4+YyJRJNL+2PESl/GqkA/+md6LM+uahVnSkdIS8FwSZYlB70ky\n",
       "05AB+ecplTVUYN8hgVLl76crKHVR2pIukVFoUxy3okV128qTaRMfM4lalmVZ1iF9D/T3+A82XeJy\n",
       "I7bHoxRL3Yhtn6e7M9iUO6/9Tu9+AcFG6mwtGfdEW5KFGOcwJ7LFMpRsGUskUFTGAj69Z5MFRKmR\n",
       "m3Yi/acd10iNqu1Fh7PPqrRFp00W93xvG69+9jsmRJtr2zZdxUxtjFavKH/hm2pjkqw2a2C0icbB\n",
       "3AdGmat4J10N+1S8VIl7opjqgmTfjaO0mInTZuOliZ8TEXf4OU2ilmVZllXUmJ27w0UbH1t7Q6Lb\n",
       "6F+Nsyq23ucPvbsiGXJ7q7v4+Na2iHfSeIgY95wotftJI4HSrcwIrUoZuCBeKmXn9oq22adOpSw7\n",
       "N9r6Z/eHxxzHWGXlZkm0QVu8NpSJq8RCFTKd35Vqdi6n1M+SaCVz92izBnRsoPRVli06pthQBq8U\n",
       "LxW/80qUWiXZ/rfmaJxWoM3s3C1cbzVe6pioZVmWZR2TnJ0bKfNK2hyOkXgrJ9GT7xRba3NWLvGh\n",
       "8VJGqV/vbYgyn7Z/P14TatzAO43ipU9/Pe45jgsm4HLfckSKa0CxjdWCIkqNRJqPibIM3LXtNc/a\n",
       "hrT7a9FTxrSzLcZG+2MrIkU+v5W5y5vFr8fTcUNcbSdIIW6pUGaaNtF3z1nx0mQmrUKU6RpSISb6\n",
       "fK5TIzzmtn+WZVmW9TtK14kejnveiA2M+4dkDN8edyJTlm7//FTbIt45xFtZ3DPGNlktp1rnGY4h\n",
       "Wp1ok8RLewKZCBSRKIizol+SlR6frxoj5fHDSHbb8Orn3zE2+nOZoy1fC1rNzp2PKbacZlpUbEoD\n",
       "+t8j0d42xkkzPv1zKQN3qN2OtIn+zhMrXfJqGImXnp25i2oypQzco3FPdAxl2V7xHZ+P/ZpELcuy\n",
       "LKuo7ywZHrZta1vPIkp27v4uzOhWAAAW80lEQVT8z6nxASEmGjewRptkP+9GQZ/bWBPaWpu6EkEb\n",
       "I8lIqcyHxUuJjcU9h9sxNi5of+u78YxKZxKdY5uROn8uc7xrxBtu3x4+2zQ+t90Zy87ttabUKPwO\n",
       "zvHdlQe2oXEjXWqx0bXtc5m7a6LMxEuH7foigcJa0CRJruKl2ZjqJ+jrY2RXvKYPxj3HYyOVm0Qt\n",
       "y7Isqyj/J2pZlmVZRQ3NFq5czv0H2OIxNuc/t7XPH9ja72AZS1yy7Z/vj3Hptn+OEoT2xgisSTxr\n",
       "7ackFlEfVKrCbGRZ9rmMy5KOEtrmF6hxfVzORWUsrKECWuqNy7BxeRf5VEtc2M+Cxl0hvIyLbRv4\n",
       "XFcJRsimLsvuc2S3HVvZeInLnDz0PDYsqyrLssjGmh4sko7KJXh/wXJuuaHC37LEDJZzXeJiWZZl\n",
       "Wdfre7xb/9GliUW97ba2TZS6jcf75//eCaLc2k+gzda6O5fYsqunRiV5iDWJVxrIC5T6BT7ZLX7C\n",
       "3TGpjKUz0bZ/iva7ucfLO7Dtpq4hw20bz6e20eMbbt8Hn+Pbnc3jste7mjsvVuKyz/w+wQj5HSXR\n",
       "Rmy4DEUn0WyJC04QqiYWFZKO1LZ/Z5fWMFs6UfMTCT5XzF2lapOoZVmWZR1SeVNulSjpuECXSiwV\n",
       "+jzO/+/ynZdAm/3ziRrBxtt7aYu83dlOkP8eXw82JSaK4pe30RfZUNwzEiht+5fVNs6NbE+frhzl\n",
       "Uf5yf/y8nDpf1/hFN9zGpS35hgp6/BMdY0T68tGkceuaUln5SnytlsFwEtXHKW3/6Pjh1/jx90Yb\n",
       "KmRjooV4KfQ5sXTv0laEW3HcXxwTlejWJS6WZVmWdUhDswWJ+pCNEGU8xhoqUNuN+DwTL7N3Iow2\n",
       "EUkuWvqxuOcNUaMS9/x3d95MvPM2+g7+0bcBckUEezT+iRRJFNzxARLdj22Pz2DrGjPspBGp851t\n",
       "lZVbbUDf6/fb/iGxOGm0ra98ztLltvNIFNmEuCelTWBT4p5nxUsZbSrZvcNcJ1HbKduz/RaJ5olS\n",
       "P5+zcy3LsizrFJ0TEy3anpR6I7b9cVv7xMfWQCtAFHPYiZJtvH0D8U6lkTyLe6ZrQeP2ZiTeWd7S\n",
       "jFHqFWIkul/S49gd3EU+P7PXZ7fTKYqXxjjpF6kTPTc7d21b+SAp8VIujW15neh7H8V2DYnGx04T\n",
       "9ZFVKUR9Ury0jz+S860I9AzajNeEMncvob6TCVi9poko+9jm0fguy+odx5lELcuyLKsomURZvDQS\n",
       "JYpb0gxcQJlxHKLN2MWoH/+HNYnfCKXevta2VUzzt2pB4ThEq8RGKZWJZfUqEmKiG7gbjLY+1nGP\n",
       "8dLX+xTjnCxzt77dWfR5+V3RsYi94xluzXQwQsf+JhLlsc0sRQVKpLFNNCejWzI3JVmWzyHQV4Zu\n",
       "05m/jPQPkiiKbV4SL03ERJtjopZlWZZ1SN//dDeOh+OehCiz2bmreCnLCh5ioo+7hDtdw0e0GbJy\n",
       "B4JdbHP28VpQJTtXzcCNPkiEYKEEDnrGO9EYQqkxTrqBu8g9XtrFs3cq3SkVZe7WY6LvKXX1enVM\n",
       "sR1VlkDbk/rWPpEyN2BT6krlnrtTpr1CJcnsXNZVqBwTTcQvqU2NpRZI8rcycIdjm+CjU2P+vCir\n",
       "1zFRy7IsyzpFNCaarenM7tQSaz9ZvBTGROPjbbbd0Z3exmgz1HfCrN4La0EbINEVbfbHWC3olIHb\n",
       "mWgN6MF4Jzs+xTsJbfZ1XDErt8+s3snzSanIdn+cvqPUkM2bJdGVD7b1ek+pLxseo0udAWS3Psfp\n",
       "mbuaLRcT5bS4jbY0sSRpU4mXKhm/6d67hdgm8mfvT5ZkV+Oz42DmbWb8e2p8O26RgQv9XSdqWZZl\n",
       "Wcfk/0Qty7Isqyi4nJtpCD8cE0pcBtuGfZD/c7GTJUJ1VL6P+3PbE4zQsgfbVJu0/buF5ViYIJRN\n",
       "HgoNFb7Iku0wbpFQpDZUmJbd1OQhJmU5l/jGpV5QxgIbMWxhKabfGCAmG/VLvc+ko/ERbcqNXh9d\n",
       "4kWqJBT1n1Z10Xdehl0vA1+5nIsTATdgWyz3qYlFdFxcsiXLsmojhtUycDox6WD5i9KIgSZE/VLS\n",
       "kZJ8lB1H2/69X+o1iVqWZVlWUXIDeqWRPGqaoMwJyTeUtjx9AW3itn/jMUiiMVGotTnZaEgaiolF\n",
       "X+PxtC1Z4sJI8nBDhWoSEdKCgwaijL49Ud7HY6AB/USd/biQRPRjCwTav79POh3f+63z2bbxfVY3\n",
       "3v6bS1x2ndlsQTn2ok1U5M6ogtiUInmpeTqj1DNKY1YlLkLyUdrGzoveH4U2s4lbJxOs8tnDcdmk\n",
       "I51STaKWZVmWVdR3dWuybGkMKkOhzRYWpS0wbgpisfv4/T7tq7sTuX8R2lQo9Rapsb8bjLaujOUr\n",
       "UGMDJEppM5azIH9WBnM1gT5PiF8jomRxz+e47m6QNFSYSlsGW4iTDp9roNP4OBx70FRPqW20Xbsp\n",
       "93EyZeSp+KRIFBLAH2BjtBmPKcSCiusJRVFKZfR1UmmM4jNc75mlMQuqlmOqyirASS0B2e/FKbHY\n",
       "PKWaRC3LsiyrqHOyc0nThCnuKcY0V40UoM9GbI/He3ezPDVgkGOiIeM2u4H2lLkLWvMh2qTN5SNl\n",
       "AoLY4rEzMnCZViSKfAilogzcqe0folSQgRuzcu+IMgUSDdQ5+u8xv35ciANOn4VOrp+UFucEqwjx\n",
       "GI1FnUmiV1AJy85V6JZQZiVuOlzLmVm9C5scU/1g5m56vJK5i34PdUo1iVqWZVlWUedk55J6Txr3\n",
       "3B9DJi4ax5rbs7Z/z3rR7mZjj48+iRTGRFmd5yJLF44jxMOycxFtxkzcnx8m+APimWKhV9NnoKip\n",
       "2XznQzfeZpm7gTqHuYAtxj37eKlEorf3Nkip72t0EaVuwed14MrYdT89eO+jjW5cjEg00kGSRGEW\n",
       "5oJAr6Sh1t5QqkBtyvZh5W3WhLilYsvGNqW4pxhLnbKfi5+d1L6vSqnOzrUsy7KsQ0pn50pxz952\n",
       "wz7D+YSYJqPN/d6G1pD2MdH9kcZEWZ3ngzZRTWcm7klpsx8nZO5+vBY0CsXwCFEyWyTK/k7x/k/w\n",
       "AZQKuxLFWtDOlomJRursj00+rc2fGfnMoS3O04CUz5NRJ/FDMc0nZYIxE4n2yw8sXpohUZR5Swji\n",
       "MIkWayMznY7S26wRspOycwndStRYtQm0Ca8l+9kJMfIypY42k6hlWZZlFfUtE+V+jGTJsnpPFmeF\n",
       "2bkLgmW02d/zTuP7MsTH42vj7j77LcY7hRpQFNssdyUSaAb2xW2jz6ArCfR5YnDaGAtV455C5u4G\n",
       "7iLvgUCHeOnj2J1RJiHRuEUdyc4diTJR/ztIiYWSz3N777LA2tF2I58rjJuSmGgqXlolUSXO1X9T\n",
       "xHhgNV56sNNROibK5q4SbGb8CbZKVu8p8WxGqUL83b1zLcuyLOsc+T9Ry7IsyyrqW23D9zwGkoCm\n",
       "UhPRxpKOpLZ/YfywnLsY39qr8cJz3JA8FFv7CY0UhtZ+cSlQLNhXlmzRcmEqoegKoaSh/ZCw7HcP\n",
       "SyStgTIWsEzzXLoFS3txWbe1ubQlu5zLSlziZ8BsajLZND68vkwkaWhlY80WyklH2eVcskS3KE2A\n",
       "/tkl27Oa2pfbBpLlUVjGkmm2oDbVF5amy7YrlnPPtZlELcuyLKsomlikbJINbaTpgUKbw7EErQ4k\n",
       "GsZ/d7YdfvZj/bg/q9Z+ra0bKQzEsicbkaYHcOPt/7TWfs8Tr4/B0paGbeWNt3va3MtfQhJRb0Nb\n",
       "oZ1d4oI+u3SJS1vblj5ZRbKEk7+E6HI43s+ZJFHJliDRBsZ/nFgYtVUTi44mDwnJStmEplSTh+J7\n",
       "+Gu0+T6JzSRqWZZlWUXBZguMKFn7vhg37W202cJtfI3mUmgVkmissuhsMTb64/fjucFGDLGRAilj\n",
       "QZQ6HWNUgtrKZSj1Q7GzTGnLQJv30XbKxtuBMofWfoFOh5aAi/KVbIkLim2yloCTD4p1N2BbHGMV\n",
       "K2SYVOoyjGOlKiSmSomySqlxrmrcM1kak4p7knFZ2kzR4kFKlUk2UKZMsIv3AtqUua+gTTLOW6FZ\n",
       "lmVZ1jHRBvQ9UZYzcPdHQJvKVmb7//nKVmgsJgpJFJx3p9N/35RGCsqWZoQa1dZ+z0tItIe7XJFe\n",
       "SLMEabszcMf3bPvXfUKpjbd7St3jpdW2fzE7t3+fGcFmsnO7YVM7x3j8nZifgqwoXrqKhVZjoifG\n",
       "S2MsVGnIAG2firkJFPXblJol2TOvKRM7vvKzE7bdM4lalmVZVlE8JtrZqhm4zwghoU3WXP5JosL4\n",
       "Oxj/DSj1O/ijzN37c7u0vgY0koYS90TxUlQXyGoGiY1R6qUiGZr34JPe7iwSLKJUQJsxTsq2Qqtm\n",
       "56Lt6JTsXKnt36ezc6eJpktLZeki229l7mbjnuVYata2qPPM0ma1XjNDhOk6UyHuefSayrHY6wjW\n",
       "JGpZlmVZRQ0kSmsyH49KBi6tPWUEC+a8Rx9Em7svG9+Ni3Q7UGqIoY7djBaxUDnuGamExM6G2xtG\n",
       "M9HnSgGqeL5ENkKbU51nH6MMd3z3nigDeSDahFuhhaxcSqIoQ5rEPQ9uyv3x7Nw306wnW2Xekgze\n",
       "v4JEF3FTZPt0zC1Dq4O/ECNUSXJFhOlM2iso9SixVz8fPVvbJGpZlmVZRY3ZuY//fFktaKa7EBxH\n",
       "CBZR8USiIm3GbkTf3bjnMZC5G7sZ9eDw7+fdV6Y/LqPNLJUgSg0+l4rEwFC8U9p4GxDLnYyjdaJs\n",
       "K7SQlXu4dy7LziW2S7Nzq78DDGEJZT6PkxWKNImi2OTZJKrGPT9IqdV4HqutrNZkZrdCO9yzl13v\n",
       "ySSrjnNM1LIsy7KuF83OHWxKvFTJwO1tbM4Qr0Q+kSTRxtssczdSZ+93Dz4/tvvjsdgfd4qFolhq\n",
       "m23RZ9AnsnJJNuaGKGaVlcsycFHmLrgbjFm5sCsR2cXl0uxcFEv9T8jORYrxT3Ri5MOyc1s4Bojw\n",
       "rBpSlGWrdDxi5HFlLJVu3M3Gi2SWIskEGSL/UyhVIPbU+3SGDX/mJlHLsizLKsr/iVqWZVlWUd+s\n",
       "5GQoVdmwT+9XXbKFS7WPx9gkfmjRF8ajZVlU/hLn7hOL9gSkLfj0fvdlghE6RspferEm839Vact+\n",
       "WrJUu0ooQg3o96UR2PZvX5YFS3NwyVbZCk1Zzj2xxGXasBvY6FJv9G2zz/M6iI0Kfb6CX6bpQv/8\n",
       "Ey0Bh2XkRNJRb5MaOFyRWJSw0QQhsqyqLPUeTUxC/vRnYdeb3Z7t6Djlc/n5vTCJWpZlWVZR5U25\n",
       "adOEfhyhTVYaE5OFGG3GUpd+3HMeQJSoJWCk07405nnP+/D5d0ww6o1sc23aSJ5QKkw6+lsSikj5\n",
       "irTdGUg6QpQ60SZp7YeSjsqJRSwpjJW4CMlk8HWmxOXCxCJmgyUvxDYRKLCd1YgBltYIySK/Vf6S\n",
       "Hp9sMEATixZzVhOT6DhEqQmSVDf1Ppx0pL+/JlHLsizLKird9i+WsyBbuhEDKjVZjEO0GRsrtDaX\n",
       "v6BmC6gB/Q5BNCa6g9bepH5oDUjiXFPbP2L7G7c7Qw0REFVMsVAW9wR3g1MD+X7uYBvGxbhnT7BH\n",
       "S1xi3PNvKHFRfg8UH0adwG/VdKE1TJIr2yUtAYHPf0L5S5aUlBhjlbBO3YKNjEuVxmTjnsp7eM4q\n",
       "gknUsizLsooas3MfN1Dptn8KwW5rW8yWReMQba5aA7Y2N1Lo53629DsYE91f/6u97o62r0gsyWxM\n",
       "9Hq6qf9EHBScWGms0BqJhRJarTZbGFr77ce+Rt/+2G9n56a3SQuvByk+R9VTGzj21ofYyiTKSDJJ\n",
       "ouXM3aMx0er4g1t8ZQi2nJ0rECX8WYR46Zlzn/Tem0Qty7Isq6hvSptnZuCCOSNdoubyq3rR1ubs\n",
       "Wta+rxoT3QAQMp9/7dukSZtrN2ADr3+NRPfTxWzb3o+Q5DPuqZAoipdm60TDdmc3ZPtAdi6izU9n\n",
       "55Z/Z2Lck/g8pxZXKA43p0dzRrLbxuPIlo2XRtpFNpVgz4qJHrYJZEbJ7oy4Z2Hc0Z/p3Xnpe+CY\n",
       "qGVZlmWdKtqxSN62bH9kGbj7CQERMvKNlIoyeNGWZpFSqzHRO7he5kNrSKMTak4PM3cXPqeKxLDu\n",
       "AmkgSl1l6bYGOhaBjbeftp4oWZ0o2+5M6Vh0Iz5Cdi5rTv/x7NyzfkfQZx9sN3DseRlk9QKNO41E\n",
       "ETUySiUkWs3chdu6/SUkqsQ0s/RGM2gFm0K+6W5Iieb27LzwWkyilmVZlnVI8lZokTJ7ItzvDcoZ\n",
       "uGH84B/O31Nj3NJsyM4N8U5GlGfGRJ+2x93nn2eMtDVKHpMPMH2KQJ+maBNoszVApyRuGqmztXqd\n",
       "aMzKHYgw0OmZ2bmRQC/Nzr2yXnQ44XsfVi+apc1dHyFRYrs8Xro438djogr1VWlTJLtKvHQYX9je\n",
       "7d2chbiySdSyLMuyivJ/opZlWZZVFE8s6hylbcv2x27OEGKnyUrfYFxMSBqSh8L50LLs7v9NlmWr\n",
       "iUVxnta61b7nuV6z3/elXaVc4ePLueAUU0KRsGTbWveGxOQhsDQyLd12c0nNFkDy0A3Z/uYSF1by\n",
       "xEpcyO+DtMSbFVqi7Y73Km+TBuY8vJwbl2pPWOo9mnR0eDn4RFupnCS5PHp0GbiatHTpOCcWWZZl\n",
       "WdYh8WYLyCaUscilMST5Z5WQBEtcCFFemlgEACKO7+/a9/aAG9om7alPkCghANZQgTVLONz2D1Eq\n",
       "aKgQKZNthdbTrUSirMQlkORvlbhAWl297kTHkQGZpgutBUp850Nok/mfSqIJSqVJR/3vKLGtxh0m\n",
       "2TNtRxu6X5h0pCQfsfHqz5KwmUQty7Isq6j8VmgbsaFxZM5IkIMtxCavjIkO7MXindEnO/5h+9dQ\n",
       "9rKLEUf0qYrc7SNajOMk2mxtooM7Gh/jpazZAqLND2yFRjfe/lSJi0CbMP55RUz0ecK1iZGoZEMk\n",
       "GfyrJArjl4ItS6mVeKlMQ/s1XECiUxOC65q24/MqDSAONmtAcx0kWJOoZVmWZRU1ZOfutPdsntA5\n",
       "ntWcHjWJh7YwDjWgz8REe1CKMdFh3IZ9+mNSTBQBZbD9GzViCL6jqnTB4k2PR9bajzVLUBop7O9c\n",
       "T4b7J/mkTkCplDaDT+/HaPO+H/tPy84VaFPOyM38HhHqfE7HfneQXzbuuS18e/9AeGeSqEKpNO6J\n",
       "CDaOU3yQrTpOsKn0dkm8VIiJlsn5aCOG0cckalmWZVlF4ezcEzNwY2xzYJHHHGzD7ZhdO8Q9d5sQ\n",
       "E2UN6LMxTSWm2oDtCRXb+Lq1SKVxYJhAEruT756jOs84jjWZRzal7d8z3skoldCmshUaItFbou3f\n",
       "r2bnLmKhavxzI7azJBEoiW3CuRiJ7jYwf4pEwe+hZLswXqpSrkRvYQVIHkd8Tm7aPh5LbEmWPu/R\n",
       "hvnvCdYkalmWZVlFwY5FMTba27LN6WNsk1Eq3XAbxS8Xvq3xmOjzvjQZ01zVkCIfFOaKcw9lk48X\n",
       "f6auRlkxskQmRg4LouyfwxrQsO4QqbO1NjWXlzfejl2Jut+aPd4Juxn9F2bnKpm7T1/RjwqRID0R\n",
       "p9XsZt6SP4oVCpSLYoxKbLNMqQKt/na8tBxTLWb1wg2wT9qUW5m7+LOYRC3LsiyrKNqxCPWyRbHN\n",
       "KaO1nzNBqShz92hMNPoM10kI9h7Gt0bipawGFTWhIeP2gX9gLSlSJEFCoDATl4xnW6FJvXMZrYY7\n",
       "cHnj7UCgQzejQJJww25AohNJnpmdK2TuKvHOtC34XCpGiMSvTKJKTBWQoTJ3P06yHaRUSMCM3qrx\n",
       "0kjqF5IopL6DlJqNxR6ueVViqSZRy7Isyzqk/x/cvSaC36nRmgAAAABJRU5ErkJggg==\n",
       "\" transform=\"translate(55, 31)\"/>\n",
       "</g>\n",
       "<defs>\n",
       "  <clipPath id=\"clip0103\">\n",
       "    <rect x=\"532\" y=\"31\" width=\"19\" height=\"430\"/>\n",
       "  </clipPath>\n",
       "</defs>\n",
       "<g clip-path=\"url(#clip0103)\">\n",
       "<image width=\"18\" height=\"429\" xlink:href=\"data:image/png;base64,\n",
       "iVBORw0KGgoAAAANSUhEUgAAABIAAAGtCAYAAAAbJSRDAAAB30lEQVR4nO2cQW7DQAwD5cT5/4OT\n",
       "2H2CciCKwYB8gDAUV1ojW/S4Z+4J6JEoMjNzpkoFiZ6ZQrweia3x4m+zdwWbrbXGI2qzd3Vn7+LF\n",
       "32bv6hrZxSNqs3epdzaPSNxs7ayJramJOmubePG32bu62HbxiNrsXd3Zu3jxt9m7ukZ28Yja7F3q\n",
       "nY0juo9QoU+mTtDaJ/JIHyVKFXrzrPGIUoW+WmuN/5dCOGvA6Y8Vwln7hgrxZg3YbO9iO9+ZOkBr\n",
       "vPiJVzaPKFZIa413ZQOt8eJPTX+bvcu8RvqdvYpnrWtkFzH+fmdvMs9aLH7gl3+oELDZPGu9slfx\n",
       "zhHvxzqgNd6s9cpexSMCnqP7yrxBB5/przNV6BUpxLOWJMr8UQTSmjX+WGo8a7z4kdas8YuHlhc/\n",
       "0lrjX9T4d/HiF+9sXvxIa9b4xUPLI0KeI2v8yHNkjR/ZbB5R7NPPOrQ8IvHQIpvNO0fW+JHN5hF1\n",
       "Zy9yEzX+RTwi8c6OER0zV+RZ/Dwy/9A72OzHXJFCPCKxNR6R2BqPSGyNRyS2xiMSW+MRia3xiMTW\n",
       "eERiazwisbUS/WMhnjUekdgaj0hsjUcktsYjElvjEYmt8YjE1nhEYms8IrE1HpHYGo9IbC1H9Ay9\n",
       "HP8B5RTtT6MCyr4AAAAASUVORK5CYII=\n",
       "\" transform=\"translate(532, 31)\"/>\n",
       "</g>\n",
       "<g clip-path=\"url(#clip0100)\">\n",
       "<text style=\"fill:#000000; fill-opacity:1; font-family:Arial,Helvetica Neue,Helvetica,sans-serif; font-size:12; text-anchor:start;\" transform=\"rotate(0, 559.315, 411.106)\" x=\"559.315\" y=\"411.106\">0.1</text>\n",
       "</g>\n",
       "<g clip-path=\"url(#clip0100)\">\n",
       "<text style=\"fill:#000000; fill-opacity:1; font-family:Arial,Helvetica Neue,Helvetica,sans-serif; font-size:12; text-anchor:start;\" transform=\"rotate(0, 559.315, 358.563)\" x=\"559.315\" y=\"358.563\">0.2</text>\n",
       "</g>\n",
       "<g clip-path=\"url(#clip0100)\">\n",
       "<text style=\"fill:#000000; fill-opacity:1; font-family:Arial,Helvetica Neue,Helvetica,sans-serif; font-size:12; text-anchor:start;\" transform=\"rotate(0, 559.315, 306.021)\" x=\"559.315\" y=\"306.021\">0.3</text>\n",
       "</g>\n",
       "<g clip-path=\"url(#clip0100)\">\n",
       "<text style=\"fill:#000000; fill-opacity:1; font-family:Arial,Helvetica Neue,Helvetica,sans-serif; font-size:12; text-anchor:start;\" transform=\"rotate(0, 559.315, 253.479)\" x=\"559.315\" y=\"253.479\">0.4</text>\n",
       "</g>\n",
       "<g clip-path=\"url(#clip0100)\">\n",
       "<text style=\"fill:#000000; fill-opacity:1; font-family:Arial,Helvetica Neue,Helvetica,sans-serif; font-size:12; text-anchor:start;\" transform=\"rotate(0, 559.315, 200.936)\" x=\"559.315\" y=\"200.936\">0.5</text>\n",
       "</g>\n",
       "<g clip-path=\"url(#clip0100)\">\n",
       "<text style=\"fill:#000000; fill-opacity:1; font-family:Arial,Helvetica Neue,Helvetica,sans-serif; font-size:12; text-anchor:start;\" transform=\"rotate(0, 559.315, 148.394)\" x=\"559.315\" y=\"148.394\">0.6</text>\n",
       "</g>\n",
       "<g clip-path=\"url(#clip0100)\">\n",
       "<text style=\"fill:#000000; fill-opacity:1; font-family:Arial,Helvetica Neue,Helvetica,sans-serif; font-size:12; text-anchor:start;\" transform=\"rotate(0, 559.315, 95.8517)\" x=\"559.315\" y=\"95.8517\">0.7</text>\n",
       "</g>\n",
       "<g clip-path=\"url(#clip0100)\">\n",
       "<text style=\"fill:#000000; fill-opacity:1; font-family:Arial,Helvetica Neue,Helvetica,sans-serif; font-size:12; text-anchor:start;\" transform=\"rotate(0, 559.315, 43.3094)\" x=\"559.315\" y=\"43.3094\">0.8</text>\n",
       "</g>\n",
       "<polyline clip-path=\"url(#clip0100)\" style=\"stroke:#000000; stroke-width:1; stroke-opacity:1; fill:none\" points=\"\n",
       "  550.315,460.121 550.315,407.693 556.315,407.693 550.315,407.693 550.315,355.151 556.315,355.151 550.315,355.151 550.315,302.608 556.315,302.608 550.315,302.608 \n",
       "  550.315,250.066 556.315,250.066 550.315,250.066 550.315,197.524 556.315,197.524 550.315,197.524 550.315,144.981 556.315,144.981 550.315,144.981 550.315,92.4389 \n",
       "  556.315,92.4389 550.315,92.4389 550.315,39.8966 556.315,39.8966 550.315,39.8966 550.315,31.4961 \n",
       "  \"/>\n",
       "<polyline clip-path=\"url(#clip0102)\" style=\"stroke:#808080; stroke-width:1; stroke-opacity:1; fill:none\" stroke-dasharray=\"1, 2\" points=\"\n",
       "  287.614,43322.6 287.614,-42831 \n",
       "  \"/>\n",
       "<g clip-path=\"url(#clip0103)\">\n",
       "<image width=\"18\" height=\"429\" xlink:href=\"data:image/png;base64,\n",
       "iVBORw0KGgoAAAANSUhEUgAAABIAAAGtCAYAAAAbJSRDAAAB30lEQVR4nO2cQW7DQAwD5cT5/4OT\n",
       "2H2CciCKwYB8gDAUV1ojW/S4Z+4J6JEoMjNzpkoFiZ6ZQrweia3x4m+zdwWbrbXGI2qzd3Vn7+LF\n",
       "32bv6hrZxSNqs3epdzaPSNxs7ayJramJOmubePG32bu62HbxiNrsXd3Zu3jxt9m7ukZ28Yja7F3q\n",
       "nY0juo9QoU+mTtDaJ/JIHyVKFXrzrPGIUoW+WmuN/5dCOGvA6Y8Vwln7hgrxZg3YbO9iO9+ZOkBr\n",
       "vPiJVzaPKFZIa413ZQOt8eJPTX+bvcu8RvqdvYpnrWtkFzH+fmdvMs9aLH7gl3+oELDZPGu9slfx\n",
       "zhHvxzqgNd6s9cpexSMCnqP7yrxBB5/przNV6BUpxLOWJMr8UQTSmjX+WGo8a7z4kdas8YuHlhc/\n",
       "0lrjX9T4d/HiF+9sXvxIa9b4xUPLI0KeI2v8yHNkjR/ZbB5R7NPPOrQ8IvHQIpvNO0fW+JHN5hF1\n",
       "Zy9yEzX+RTwi8c6OER0zV+RZ/Dwy/9A72OzHXJFCPCKxNR6R2BqPSGyNRyS2xiMSW+MRia3xiMTW\n",
       "eERiazwisbUS/WMhnjUekdgaj0hsjUcktsYjElvjEYmt8YjE1nhEYms8IrE1HpHYGo9IbC1H9Ay9\n",
       "HP8B5RTtT6MCyr4AAAAASUVORK5CYII=\n",
       "\" transform=\"translate(532, 31)\"/>\n",
       "</g>\n",
       "<g clip-path=\"url(#clip0100)\">\n",
       "<text style=\"fill:#000000; fill-opacity:1; font-family:Arial,Helvetica Neue,Helvetica,sans-serif; font-size:12; text-anchor:start;\" transform=\"rotate(0, 559.315, 411.106)\" x=\"559.315\" y=\"411.106\">0.1</text>\n",
       "</g>\n",
       "<g clip-path=\"url(#clip0100)\">\n",
       "<text style=\"fill:#000000; fill-opacity:1; font-family:Arial,Helvetica Neue,Helvetica,sans-serif; font-size:12; text-anchor:start;\" transform=\"rotate(0, 559.315, 358.563)\" x=\"559.315\" y=\"358.563\">0.2</text>\n",
       "</g>\n",
       "<g clip-path=\"url(#clip0100)\">\n",
       "<text style=\"fill:#000000; fill-opacity:1; font-family:Arial,Helvetica Neue,Helvetica,sans-serif; font-size:12; text-anchor:start;\" transform=\"rotate(0, 559.315, 306.021)\" x=\"559.315\" y=\"306.021\">0.3</text>\n",
       "</g>\n",
       "<g clip-path=\"url(#clip0100)\">\n",
       "<text style=\"fill:#000000; fill-opacity:1; font-family:Arial,Helvetica Neue,Helvetica,sans-serif; font-size:12; text-anchor:start;\" transform=\"rotate(0, 559.315, 253.479)\" x=\"559.315\" y=\"253.479\">0.4</text>\n",
       "</g>\n",
       "<g clip-path=\"url(#clip0100)\">\n",
       "<text style=\"fill:#000000; fill-opacity:1; font-family:Arial,Helvetica Neue,Helvetica,sans-serif; font-size:12; text-anchor:start;\" transform=\"rotate(0, 559.315, 200.936)\" x=\"559.315\" y=\"200.936\">0.5</text>\n",
       "</g>\n",
       "<g clip-path=\"url(#clip0100)\">\n",
       "<text style=\"fill:#000000; fill-opacity:1; font-family:Arial,Helvetica Neue,Helvetica,sans-serif; font-size:12; text-anchor:start;\" transform=\"rotate(0, 559.315, 148.394)\" x=\"559.315\" y=\"148.394\">0.6</text>\n",
       "</g>\n",
       "<g clip-path=\"url(#clip0100)\">\n",
       "<text style=\"fill:#000000; fill-opacity:1; font-family:Arial,Helvetica Neue,Helvetica,sans-serif; font-size:12; text-anchor:start;\" transform=\"rotate(0, 559.315, 95.8517)\" x=\"559.315\" y=\"95.8517\">0.7</text>\n",
       "</g>\n",
       "<g clip-path=\"url(#clip0100)\">\n",
       "<text style=\"fill:#000000; fill-opacity:1; font-family:Arial,Helvetica Neue,Helvetica,sans-serif; font-size:12; text-anchor:start;\" transform=\"rotate(0, 559.315, 43.3094)\" x=\"559.315\" y=\"43.3094\">0.8</text>\n",
       "</g>\n",
       "<polyline clip-path=\"url(#clip0100)\" style=\"stroke:#000000; stroke-width:1; stroke-opacity:1; fill:none\" points=\"\n",
       "  550.315,460.121 550.315,407.693 556.315,407.693 550.315,407.693 550.315,355.151 556.315,355.151 550.315,355.151 550.315,302.608 556.315,302.608 550.315,302.608 \n",
       "  550.315,250.066 556.315,250.066 550.315,250.066 550.315,197.524 556.315,197.524 550.315,197.524 550.315,144.981 556.315,144.981 550.315,144.981 550.315,92.4389 \n",
       "  556.315,92.4389 550.315,92.4389 550.315,39.8966 556.315,39.8966 550.315,39.8966 550.315,31.4961 \n",
       "  \"/>\n",
       "</svg>\n"
      ]
     },
     "execution_count": 11,
     "metadata": {},
     "output_type": "execute_result"
    }
   ],
   "source": [
    "f(s) = sum(k -> eulerweight(L,k)*(-1)^k/(1+k)^s, 0:L-1)/(1-2^(1-s))\n",
    "x = 0.0:0.005:1.0\n",
    "y = 13.75:0.005:14.75\n",
    "z = x' .+ im.*y\n",
    "w = f.(z)\n",
    "plot(size=(600, 500), title=\"first non-trivial zero of zeta(s)\")\n",
    "heatmap!(x, y, abs.(w), color=:rainbow, xlabel=\"Re s\", ylabel=\"Im s\")\n",
    "vline!([0.5], color=\"gray\", ls=:dot, label=\"\")"
   ]
  },
  {
   "cell_type": "markdown",
   "metadata": {},
   "source": [
    "複素平面における実部が $0$ から $1$ の縦に無限に長い帯状の領域を $\\zeta(s)$ の critical strip と呼ぶ.  $\\zeta(s)$ の critical strip における零点を $\\zeta(s)$ の非自明な零点と呼ぶ.\n",
    "\n",
    "**Riemann予想:** $\\zeta(s)$ の非自明な零点の実部はすべて $1/2$ である. $\\QED$\n",
    "\n",
    "この予想は非常に有名であり, もしも証明されれば素数の分布に関する精密な評価が得られる.\n",
    "\n",
    "**問題:** $\\zeta(s)$ のcritical stripにおける様子をプロットせよ. $\\QED$"
   ]
  },
  {
   "cell_type": "markdown",
   "metadata": {},
   "source": [
    "#### 無限和と積分の交換に関する注意\n",
    "\n",
    "上では $\\int_0^1 x^n\\,dx = 1/(n+1)$ となることと, 無限和 $1-x+x^2-x^3+\\cdots$ と積分 $\\int_0^1 dx$ の順序を交換できることを用いた. \n",
    "\n",
    "無限和と積分の順序交換が可能なことは以下のようにして確認できる. まず $|x|<1$ で\n",
    "\n",
    "$$\n",
    "\\frac{1}{1+x} = 1 - x + x^2 - x^3 + \\cdots + (-1)^{N-1}x^{N-1}+(-1)^N\\frac{x^N}{1+x}\n",
    "$$\n",
    "\n",
    "となることを確認せよ. この公式を使うと, \n",
    "\n",
    "$$\n",
    "\\int_0^1\\frac{dx}{1+x} = \n",
    "1-\\frac{1}{2}+\\frac{1}{3}+(-1)^{N-1}\\frac{1}{N} + (-1)^N\\int_0^1 \\frac{x^N}{1+x}\\,dx\n",
    "$$\n",
    "\n",
    "さらに $0\\leqq x\\leqq 1$ のとき, $1 \\leqq 1+x$ なので\n",
    "\n",
    "$$\n",
    "0 \\leqq \\frac{x^N}{1+x} \\leqq x^N\n",
    "$$\n",
    "\n",
    "となるから, \n",
    "\n",
    "$$\n",
    "0\\leqq \\int_0^1 \\frac{x^N}{1+x}\\,dx \\leqq \\int_0^1 x^N\\,dx = \\frac{1}{N+1}\n",
    "$$\n",
    "\n",
    "なので, $N\\to\\infty$ で\n",
    "\n",
    "$$\n",
    "\\int_0^1 \\frac{x^N}{1+x}\\,dx \\to 0.\n",
    "$$\n",
    "\n",
    "以上合わせると, \n",
    "\n",
    "$$\n",
    "\\int_0^1\\frac{dx}{1+x} = \n",
    "\\lim_{N\\to\\infty} \\sum_{n=1}^N \\frac{(-1)^{n-1}}{n} = \\sum_{n=1}^\\infty \\frac{(-1)^{n-1}}{n}\n",
    "$$\n",
    "\n",
    "となることがわかる."
   ]
  },
  {
   "cell_type": "markdown",
   "metadata": {},
   "source": [
    "#### 条件収束級数の例2\n",
    "\n",
    "**問題:** $\\ds\\sum_{n=1}^\\infty\\frac{(-1)^{n-1}}{2n-1}$ を求めよ.\n",
    "\n",
    "**答え:** $\\pi/4$."
   ]
  },
  {
   "cell_type": "markdown",
   "metadata": {},
   "source": [
    "**証明:**\n",
    "\n",
    "$a = \\tan\\theta$ の $-\\pi/2<\\theta<\\pi/2$ における逆函数を $\\theta = \\arctan a$ と書くと,\n",
    "\n",
    "$$\n",
    "\\int_0^a \\frac{dt}{1+t^2} = \\arctan a.\n",
    "$$\n",
    "\n",
    "この公式は左辺で $t=\\tan\\theta$ と置換すれば確認できる.\n",
    "\n",
    "ゆえに, \n",
    "\n",
    "$$\n",
    "\\int_0^1\\frac{dx}{1+x^2} = \\arctan 1 = \\frac{\\pi}{4}\n",
    "$$\n",
    "\n",
    "一方, $|x|<1$ のとき\n",
    "\n",
    "$$\n",
    "\\frac{1}{1+x^2} = 1 - x^2 + x^4 - x^6 + \\cdots\n",
    "$$\n",
    "\n",
    "なので\n",
    "\n",
    "$$\n",
    "\\int_0^1 \\frac{dx}{1+x^2} = \n",
    "\\int_0^1 (1 - x^2 + x^4 - x^6 + \\cdots) =\n",
    "1 - \\frac{1}{3} + \\frac{1}{5} - \\frac{1}{7} + \\cdots =\n",
    "\\sum_{n=1}^\\infty \\frac{(-1)^{n-1}}{2n-1}.\n",
    "$$\n",
    "\n",
    "したがって,  \n",
    "\n",
    "$$\n",
    "\\int_0^1 \\frac{dx}{1+x^2} = \\arctan 1 = \\frac{\\pi}{4} = \\sum_{n=1}^\\infty \\frac{(-1)^{n-1}}{2n-1}.\n",
    "\\qquad\\QED\n",
    "$$"
   ]
  },
  {
   "cell_type": "markdown",
   "metadata": {},
   "source": [
    "以下はコンピューターによる計算."
   ]
  },
  {
   "cell_type": "code",
   "execution_count": 12,
   "metadata": {},
   "outputs": [
    {
     "data": {
      "text/latex": [
       "$$\\frac{\\pi}{4}$$"
      ],
      "text/plain": [
       "pi\n",
       "--\n",
       "4 "
      ]
     },
     "execution_count": 12,
     "metadata": {},
     "output_type": "execute_result"
    }
   ],
   "source": [
    "n = symbols(\"n\", integer=true)\n",
    "S = doit(Sum((-1)^(n-1)/(2n-1), (n, 1, oo)))"
   ]
  },
  {
   "cell_type": "code",
   "execution_count": 13,
   "metadata": {},
   "outputs": [
    {
     "name": "stdout",
     "output_type": "stream",
     "text": [
      "SimpleSum = 0.7853981608974486\n",
      "TrueValue = 0.7853981633974483\n",
      "SimpleSum - TrueValue = -2.499999651739415e-9\n"
     ]
    }
   ],
   "source": [
    "N = 10^8\n",
    "SimpleSum = sum(n->(-1)^(n-1)/(2n-1), 1:N)\n",
    "TrueValue = π/4\n",
    "@show SimpleSum\n",
    "@show TrueValue\n",
    "@show SimpleSum - TrueValue;"
   ]
  },
  {
   "cell_type": "code",
   "execution_count": 14,
   "metadata": {},
   "outputs": [
    {
     "name": "stdout",
     "output_type": "stream",
     "text": [
      "EulerTran = 0.7853981633974486\n",
      "TrueValue = 0.7853981633974483\n",
      "EulerTran - TrueValue = 3.3306690738754696e-16\n"
     ]
    },
    {
     "data": {
      "text/plain": [
       "3.3306690738754696e-16"
      ]
     },
     "execution_count": 14,
     "metadata": {},
     "output_type": "execute_result"
    }
   ],
   "source": [
    "L = 2^6\n",
    "EulerTran = sum(k->eulerweight(L,k)*(-1)^k/(2k+1), 0:L-1)\n",
    "TrueValue = π/4\n",
    "@show EulerTran\n",
    "@show TrueValue\n",
    "@show EulerTran - TrueValue"
   ]
  },
  {
   "cell_type": "markdown",
   "metadata": {},
   "source": [
    "**問題:** 以上の計算における無限和と積分の正当化を自分で行ってみよ. $\\QED$"
   ]
  },
  {
   "cell_type": "markdown",
   "metadata": {},
   "source": [
    "**問題:** 以上の例以外の条件収束級数の例について調べ, ノートにまとめよ. $\\QED$"
   ]
  },
  {
   "cell_type": "markdown",
   "metadata": {},
   "source": [
    "以下はコンピューターによる $\\ds\\int_0^1\\frac{dx}{1+x^3}$ や $\\ds\\int_0^1\\frac{dx}{1+x^4}$ などの計算."
   ]
  },
  {
   "cell_type": "code",
   "execution_count": 15,
   "metadata": {},
   "outputs": [
    {
     "data": {
      "text/latex": [
       "$$\\frac{1}{3} \\log{\\left (2 \\right )} + \\frac{\\sqrt{3} \\pi}{9}$$"
      ],
      "text/plain": [
       "           ___   \n",
       "log(2)   \\/ 3 *pi\n",
       "------ + --------\n",
       "  3         9    "
      ]
     },
     "execution_count": 15,
     "metadata": {},
     "output_type": "execute_result"
    }
   ],
   "source": [
    "x = symbols(\"x\", real=true, positive=true)\n",
    "integrate(1/(1+x^3), (x,0,1))"
   ]
  },
  {
   "cell_type": "code",
   "execution_count": 16,
   "metadata": {},
   "outputs": [
    {
     "data": {
      "text/latex": [
       "$$\\frac{1}{3} \\log{\\left (2 \\right )} - \\frac{1}{3} e^{- \\frac{5 \\pi}{3} i} \\log{\\left (1 + e^{\\frac{2 \\pi}{3} i} \\right )} - \\frac{1}{3} e^{- \\frac{i \\pi}{3}} \\log{\\left (1 + e^{- \\frac{2 \\pi}{3} i} \\right )}$$"
      ],
      "text/plain": [
       "          -5*I*pi     /     2*I*pi\\    -I*pi     /     -2*I*pi \\\n",
       "          --------    |     ------|    ------    |     --------|\n",
       "             3        |       3   |      3       |        3    |\n",
       "log(2)   e        *log\\1 + e      /   e      *log\\1 + e        /\n",
       "------ - -------------------------- - --------------------------\n",
       "  3                  3                            3             "
      ]
     },
     "execution_count": 16,
     "metadata": {},
     "output_type": "execute_result"
    }
   ],
   "source": [
    "n = symbols(\"n\", integer=true, positive=true)\n",
    "S = doit(Sum((-1)^(n-1)/(3n-2), (n,1,oo)))"
   ]
  },
  {
   "cell_type": "code",
   "execution_count": 17,
   "metadata": {},
   "outputs": [
    {
     "data": {
      "text/latex": [
       "$$- \\frac{1}{3} \\log{\\left (2 \\right )} + \\frac{\\sqrt{3} \\pi}{9}$$"
      ],
      "text/plain": [
       "             ___   \n",
       "  log(2)   \\/ 3 *pi\n",
       "- ------ + --------\n",
       "    3         9    "
      ]
     },
     "execution_count": 17,
     "metadata": {},
     "output_type": "execute_result"
    }
   ],
   "source": [
    "x = symbols(\"x\", real=true, positive=true)\n",
    "integrate(x/(1+x^3), (x,0,1))"
   ]
  },
  {
   "cell_type": "code",
   "execution_count": 18,
   "metadata": {},
   "outputs": [
    {
     "data": {
      "text/latex": [
       "$$- \\frac{1}{3} \\log{\\left (2 \\right )} - \\frac{1}{3} e^{- \\frac{2 \\pi}{3} i} \\log{\\left (1 + e^{- \\frac{2 \\pi}{3} i} \\right )} - \\frac{1}{3} e^{- \\frac{10 \\pi}{3} i} \\log{\\left (1 + e^{\\frac{2 \\pi}{3} i} \\right )}$$"
      ],
      "text/plain": [
       "            -2*I*pi     /     -2*I*pi \\    -10*I*pi     /     2*I*pi\\\n",
       "            --------    |     --------|    ---------    |     ------|\n",
       "               3        |        3    |        3        |       3   |\n",
       "  log(2)   e        *log\\1 + e        /   e         *log\\1 + e      /\n",
       "- ------ - ---------------------------- - ---------------------------\n",
       "    3                   3                              3             "
      ]
     },
     "execution_count": 18,
     "metadata": {},
     "output_type": "execute_result"
    }
   ],
   "source": [
    "n = symbols(\"n\", integer=true, positive=true)\n",
    "S = doit(Sum((-1)^(n-1)/(3n-1), (n,1,oo)))"
   ]
  },
  {
   "cell_type": "code",
   "execution_count": 19,
   "metadata": {},
   "outputs": [
    {
     "data": {
      "text/latex": [
       "$$- \\frac{\\sqrt{2}}{8} \\log{\\left (- \\sqrt{2} + 2 \\right )} + \\frac{\\sqrt{2}}{8} \\log{\\left (\\sqrt{2} + 2 \\right )} + \\frac{\\sqrt{2} \\pi}{8}$$"
      ],
      "text/plain": [
       "    ___    /    ___    \\     ___    /  ___    \\     ___   \n",
       "  \\/ 2 *log\\- \\/ 2  + 2/   \\/ 2 *log\\\\/ 2  + 2/   \\/ 2 *pi\n",
       "- ---------------------- + -------------------- + --------\n",
       "            8                       8                8    "
      ]
     },
     "execution_count": 19,
     "metadata": {},
     "output_type": "execute_result"
    }
   ],
   "source": [
    "x = symbols(\"x\", real=true, positive=true)\n",
    "integrate(1/(1+x^4), (x,0,1))"
   ]
  },
  {
   "cell_type": "code",
   "execution_count": 20,
   "metadata": {},
   "outputs": [
    {
     "data": {
      "text/latex": [
       "$$- \\frac{i}{4} e^{- \\frac{i \\pi}{4}} \\log{\\left (1 + e^{\\frac{3 \\pi}{4} i} \\right )} + \\frac{1}{4} e^{- \\frac{i \\pi}{4}} \\log{\\left (1 + e^{\\frac{i \\pi}{4}} \\right )} + \\frac{i}{4} e^{- \\frac{i \\pi}{4}} \\log{\\left (1 + e^{- \\frac{i \\pi}{4}} \\right )} - \\frac{1}{4} e^{- \\frac{i \\pi}{4}} \\log{\\left (1 + e^{- \\frac{3 \\pi}{4} i} \\right )}$$"
      ],
      "text/plain": [
       "     -I*pi     /     3*I*pi\\    -I*pi     /     I*pi\\      -I*pi     /     -I*\n",
       "     ------    |     ------|    ------    |     ----|      ------    |     ---\n",
       "       4       |       4   |      4       |      4  |        4       |       4\n",
       "  I*e      *log\\1 + e      /   e      *log\\1 + e    /   I*e      *log\\1 + e   \n",
       "- -------------------------- + ---------------------- + ----------------------\n",
       "              4                          4                          4         \n",
       "\n",
       "pi \\    -I*pi     /     -3*I*pi \\\n",
       "---|    ------    |     --------|\n",
       "   |      4       |        4    |\n",
       "   /   e      *log\\1 + e        /\n",
       "---- - --------------------------\n",
       "                   4             "
      ]
     },
     "execution_count": 20,
     "metadata": {},
     "output_type": "execute_result"
    }
   ],
   "source": [
    "n = symbols(\"n\", integer=true, positive=true)\n",
    "S = doit(Sum((-1)^(n-1)/(4n-3), (n,1,oo)))"
   ]
  },
  {
   "cell_type": "code",
   "execution_count": 21,
   "metadata": {},
   "outputs": [
    {
     "data": {
      "text/latex": [
       "$$s \\Phi\\left(e^{i \\pi}, 1, s\\right)$$"
      ],
      "text/plain": [
       "          / I*pi      \\\n",
       "s*lerchphi\\e    , 1, s/"
      ]
     },
     "execution_count": 21,
     "metadata": {},
     "output_type": "execute_result"
    }
   ],
   "source": [
    "x = symbols(\"x\", real=true, positive=true)\n",
    "s = symbols(\"s\", real=true, positive=true)\n",
    "J = simplify(integrate(1/(1+x^(1/s)), (x,0,1)))"
   ]
  },
  {
   "cell_type": "markdown",
   "metadata": {},
   "source": [
    "## 複素数の級数\n",
    "\n",
    "この節では複素数 $a_n$ の級数 $\\ds\\sum_{n=1}^\\infty a_n$ を扱う."
   ]
  },
  {
   "cell_type": "markdown",
   "metadata": {},
   "source": [
    "### 複素数の絶対収束級数\n",
    "\n",
    "**定理:** 複素数 $a_1,a_2,\\ldots$ について, 級数 $\\ds\\sum_{n=1}^\\infty |a_n|$ が有限の値に収束するならば, 級数 $\\ds\\sum_{n=1}^\\infty a_n$ も収束する. このとき, 級数 $\\ds\\sum_{n=1}^\\infty a_n$ は**絶対収束**するという. $\\QED$\n",
    "\n",
    "絶対収束していないが収束する級数は**条件収束**するという.\n",
    "\n",
    "上の定理の証明は略す. しかし, 下の方で, 級数 $\\ds\\sum_{n=1}^\\infty |a_n|$ が有限の値に収束するならば, 級数 $\\ds\\sum_{n=1}^\\infty a_n$ も収束する直観的な理由を説明する."
   ]
  },
  {
   "cell_type": "markdown",
   "metadata": {},
   "source": [
    "**例:** $\\theta$ は実数であるとする. このとき, 複素級数 $\\ds\\sum_{n=1}^\\infty\\frac{e^{in\\theta}}{n^{3/2}}$ は絶対収束する. 以下のセルにおける計算とプロットを参照せよ."
   ]
  },
  {
   "cell_type": "code",
   "execution_count": 22,
   "metadata": {},
   "outputs": [
    {
     "name": "stdout",
     "output_type": "stream",
     "text": [
      "  3.041488 seconds (19.65 M allocations: 513.089 MiB, 3.08% gc time)\n",
      "  1.104518 seconds (89.00 k allocations: 4.766 MiB)\n"
     ]
    },
    {
     "name": "stderr",
     "output_type": "stream",
     "text": [
      "\u001b[1m\u001b[36mINFO: \u001b[39m\u001b[22m\u001b[36mSaved animation to C:\\Users\\genkuroki\\OneDrive\\Calculus\\sum_a.gif\n",
      "\u001b[39m"
     ]
    },
    {
     "data": {
      "text/html": [
       "<img src=\"data:image/gif;base64,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\">"
      ]
     },
     "metadata": {},
     "output_type": "display_data"
    }
   ],
   "source": [
    "θ = 2π/10\n",
    "a(n) = exp(im*n*θ)/n^1.5\n",
    "sum_a(n) = iszero(n) ? Complex(0.0) : sum(k->a(k), 1:n)\n",
    "@time anim = @animate for N in 0:70\n",
    "    n = 0:N\n",
    "    z = sum_a.(n)\n",
    "    plot(size=(400, 400), xlims=(0,1.0), ylim=(0,1.3))\n",
    "    plot!(real.(z), imag.(z), legend=false, line=:arrow)\n",
    "end\n",
    "\n",
    "gifname = \"sum_a.gif\"\n",
    "@time gif(anim, gifname; fps=10)\n",
    "sleep(0.1)\n",
    "showimg(\"image/gif\", gifname)"
   ]
  },
  {
   "cell_type": "markdown",
   "metadata": {},
   "source": [
    "**絶対収束の概念の直観的な説明:**\n",
    "\n",
    "各複素数 $a_n$ は平面上の点と同一視できる(複素平面の考え方).\n",
    "\n",
    "平面上の点と原点からその点への矢線(ベクトル)は同一視できる(ベクトルの考え方).\n",
    "\n",
    "複素数の和はベクトルの和に対応している.\n",
    "\n",
    "ベクトルの和は矢線としてのベクトルを連結することを意味する(ベクトルの和の幾何学的意味).\n",
    "\n",
    "ゆえに, $\\ds s_N = \\sum_{n=1}^N a_n$ は各 $a_1,a_2,\\ldots,a_N$ の各々に対応する矢線を連結して得られる折れ線の先端の点に対応する複素数に等しい.\n",
    "\n",
    "$\\ds L = \\sum_{n=1}^\\infty|a_n|$ は各 $a_n$ に対応する矢線の長さの総和を意味する. \n",
    "\n",
    "ゆえに, $L$ が有限の値になることは, 各 $a_n$ に対応する矢線をすべて連結して得られる折れ線の長さが有限になることを意味する.\n",
    "\n",
    "そのとき, $a_n$ に対応する矢線をすべて連結して得られる折れ線の「先端」の点に対応する複素数が級数 $\\ds \\sum_{n=1}^\\infty a_n$ の収束先になる.\n",
    "\n",
    "1つ前のセルのアニメーションはそのような様子の一例になっている."
   ]
  },
  {
   "cell_type": "markdown",
   "metadata": {},
   "source": [
    "**注意:** 上の説明を理解できれば, 級数 $\\ds\\sum_{n=1}^\\infty |a_n|$ が有限の値に収束するならば, 級数 $\\ds\\sum_{n=1}^\\infty a_n$ も収束することも十分に納得できると思う. その直観は数学的には<a href=\"https://www.google.co.jp/search?q=%E5%AE%8C%E5%82%99%E6%80%A7+%E7%B5%B6%E5%AF%BE%E5%8F%8E%E6%9D%9F\">**完備性**</a>の概念によって正当化される. $\\QED$"
   ]
  },
  {
   "cell_type": "markdown",
   "metadata": {},
   "source": [
    "### 条件収束する複素級数の例"
   ]
  },
  {
   "cell_type": "markdown",
   "metadata": {},
   "source": [
    "**例:** $\\theta$ は実数であり, $e^{i\\theta}\\ne 1$ であると仮定する. このとき $\\ds\\sum_{n=1}^\\infty\\frac{e^{in\\theta}}{n}$ は条件収束する. $\\QED$\n",
    "\n",
    "**例の解説のための一般論:** 一般に $\\ds S_n = \\sum_{k=1}^n a_k b_k$ のとき, $\\ds A_k = \\sum_{j=1}^k a_j$, $A_0=0$ とおくと, $a_k = A_k - A_{k-1}$ なので\n",
    "\n",
    "$$\n",
    "\\begin{aligned}\n",
    "S_n &= \\sum_{k=1}^n (A_k - A_{k-1}) b_k =\n",
    "\\sum_{k=1}^n A_k b_k - \\sum_{k=0}^{n-1} A_k b_{k+1}\n",
    "\\\\ &=\n",
    "A_n b_n - A_0 b_1 + \\sum_{k=1}^{n-1} A_k(b_k - b_{k+1}).\n",
    "\\end{aligned}\n",
    "$$\n",
    "\n",
    "この公式は部分積分の公式の和に関するバージョンであることに注意せよ. (「部分積分」のアイデアは普遍的によく現われる.)\n",
    "\n",
    "仮定の追加1: 数列 $b_k$ は単調減少実数列でかつ $0$ に収束すると仮定する.\n",
    "\n",
    "このとき, $b_k-b_{k+1}\\geqq 0$ でかつ\n",
    "\n",
    "$$\n",
    "\\sum_{k=1}^{n-1} (b_k - b_{k+1}) = b_1 - b_n \\to b_1 \\quad (n\\to\\infty).\n",
    "$$\n",
    "\n",
    "仮定の追加2: $A_k$ は有界数列であると仮定する. すなわちある正の実数で $|A_k|\\leqq M$ ($k=1,2,\\ldots$) を満たすものが存在すると仮定する.\n",
    "\n",
    "このとき, \n",
    "\n",
    "$$\n",
    "\\sum_{k=1}^\\infty|A_k||b_k-b_{k+1}|\\leqq\n",
    "M\\sum_{k=1}^\\infty(b_k-b_{k+1}) = M b_1 < \\infty\n",
    "$$\n",
    "\n",
    "なので 級数 $\\ds\\sum_{k=1}^\\infty A_k(b_{k+1} - b_k)$ は絶対収束する. さらに, $n\\to\\infty$ で $b_n\\to 0$ なので $A_n b_n\\to 0$ となる. ゆえに級数 $\\ds\\sum_{k=1}^\\infty a_k b_k$ は収束する. (積分の場合にも, 絶対収束しない積分を部分積分によって絶対収束する積分に変形できる場合がある. 各自自分で研究してみよ.) $\\QED$\n",
    "\n",
    "**例の解説:** 以上の一般論を上の例に適用しよう. すなわち $a_n = e^{in\\theta}$, $b_n=1/n$ の場合を考える. このとき\n",
    "\n",
    "$$\n",
    "A_k = \\sum_{j=1}^k a_j = \\frac{e^{i\\theta}-e^{i(n+1)\\theta}}{1-e^{i\\theta}}\n",
    "$$\n",
    "\n",
    "であるから, $|A_k|\\leqq 2/|1-e^{i\\theta}|$ なので, $A_k$ は有界である. 実数列 $b_k$ は単調減少しながら $0$ に収束する. したがって上の一般論より, 級数 $\\ds\\sum_{n=1}^\\infty\\frac{e^{in\\theta}}{n}$ は条件収束する. $\\QED$"
   ]
  },
  {
   "cell_type": "code",
   "execution_count": 23,
   "metadata": {},
   "outputs": [
    {
     "name": "stdout",
     "output_type": "stream",
     "text": [
      "  4.036069 seconds (40.28 M allocations: 1.076 GiB, 5.16% gc time)\n",
      "  0.620297 seconds (1.05 k allocations: 69.125 KiB)\n"
     ]
    },
    {
     "name": "stderr",
     "output_type": "stream",
     "text": [
      "\u001b[1m\u001b[36mINFO: \u001b[39m\u001b[22m\u001b[36mSaved animation to C:\\Users\\genkuroki\\OneDrive\\Calculus\\sum_a.gif\n",
      "\u001b[39m"
     ]
    },
    {
     "data": {
      "text/html": [
       "<img src=\"data:image/gif;base64,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\">"
      ]
     },
     "metadata": {},
     "output_type": "display_data"
    }
   ],
   "source": [
    "θ = 2π/10\n",
    "a(n) = exp(im*n*θ)/n\n",
    "sum_a(n) = iszero(n) ? Complex(0.0) : sum(k->a(k), 1:n)\n",
    "@time anim = @animate for N in 0:4:400\n",
    "    n = 0:N\n",
    "    z = sum_a.(n)\n",
    "    plot(size=(400, 400), xlims=(0,1.0), ylim=(0,1.6))\n",
    "    plot!(real.(z), imag.(z), legend=false, line=:arrow)\n",
    "end\n",
    "\n",
    "gifname = \"sum_a.gif\"\n",
    "@time gif(anim, gifname; fps=10)\n",
    "sleep(0.1)\n",
    "showimg(\"image/gif\", gifname)"
   ]
  },
  {
   "cell_type": "markdown",
   "metadata": {},
   "source": [
    "上のセルのアニメーションの折れ線の長さは無限大である. 無限に長くなる折れ線の先端が無限に回転しながら収束している."
   ]
  },
  {
   "cell_type": "code",
   "execution_count": null,
   "metadata": {},
   "outputs": [],
   "source": []
  }
 ],
 "metadata": {
  "_draft": {
   "nbviewer_url": "https://gist.github.com/3c497a31ba1cf12a10a98def8433f0a2"
  },
  "gist": {
   "data": {
    "description": "02 series",
    "public": true
   },
   "id": "3c497a31ba1cf12a10a98def8433f0a2"
  },
  "kernelspec": {
   "display_name": "Julia 0.6.3",
   "language": "julia",
   "name": "julia-0.6"
  },
  "language_info": {
   "file_extension": ".jl",
   "mimetype": "application/julia",
   "name": "julia",
   "version": "0.6.3"
  },
  "toc": {
   "nav_menu": {
    "height": "207px",
    "width": "242px"
   },
   "number_sections": true,
   "sideBar": true,
   "skip_h1_title": true,
   "title_cell": "目次",
   "title_sidebar": "目次",
   "toc_cell": true,
   "toc_position": {
    "height": "calc(100% - 180px)",
    "left": "10px",
    "top": "150px",
    "width": "214px"
   },
   "toc_section_display": true,
   "toc_window_display": false
  }
 },
 "nbformat": 4,
 "nbformat_minor": 2
}
