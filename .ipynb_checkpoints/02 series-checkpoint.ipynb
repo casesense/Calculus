{
 "cells": [
  {
   "cell_type": "markdown",
   "metadata": {},
   "source": [
    "# 級数\n",
    "\n",
    "黒木玄\n",
    "\n",
    "2018-04-18\n",
    "\n",
    "* Copyright 2018 Gen Kuroki\n",
    "* License: MIT https://opensource.org/licenses/MIT\n",
    "\n",
    "このファイルは次の場所できれいに閲覧できる:\n",
    "\n",
    "* http://nbviewer.jupyter.org/github/genkuroki/Calculus/blob/master/02%20series.ipynb\n",
    "\n",
    "このファイルは <a href=\"https://juliabox.com\">Julia Box</a> で利用できる.\n",
    "\n",
    "自分のパソコンに<a href=\"https://julialang.org/\">Julia言語</a>をインストールしたい場合には\n",
    "\n",
    "* <a href=\"http://nbviewer.jupyter.org/gist/genkuroki/81de23edcae631a995e19a2ecf946a4f\">WindowsへのJulia言語のインストール</a>\n",
    "\n",
    "を参照せよ.\n",
    "\n",
    "論理的に完璧な説明をするつもりはない. 細部のいい加減な部分は自分で訂正・修正せよ.\n",
    "\n",
    "$\n",
    "\\newcommand\\eps{\\varepsilon}\n",
    "\\newcommand\\ds{\\displaystyle}\n",
    "\\newcommand\\R{{\\mathbb R}}\n",
    "\\newcommand\\C{{\\mathbb C}}\n",
    "\\newcommand\\QED{\\text{□}}\n",
    "\\newcommand\\root{\\sqrt}\n",
    "$"
   ]
  },
  {
   "cell_type": "markdown",
   "metadata": {
    "toc": true
   },
   "source": [
    "<h1>目次<span class=\"tocSkip\"></span></h1>\n",
    "<div class=\"toc\"><ul class=\"toc-item\"><li><span><a href=\"#級数\" data-toc-modified-id=\"級数-1\"><span class=\"toc-item-num\">1&nbsp;&nbsp;</span>級数</a></span><ul class=\"toc-item\"><li><span><a href=\"#絶対収束と条件収束\" data-toc-modified-id=\"絶対収束と条件収束-1.1\"><span class=\"toc-item-num\">1.1&nbsp;&nbsp;</span>絶対収束と条件収束</a></span><ul class=\"toc-item\"><li><span><a href=\"#絶対収束と条件収束の定義\" data-toc-modified-id=\"絶対収束と条件収束の定義-1.1.1\"><span class=\"toc-item-num\">1.1.1&nbsp;&nbsp;</span>絶対収束と条件収束の定義</a></span></li><li><span><a href=\"#絶対収束級数の収束先は和を取る順番によらないこと\" data-toc-modified-id=\"絶対収束級数の収束先は和を取る順番によらないこと-1.1.2\"><span class=\"toc-item-num\">1.1.2&nbsp;&nbsp;</span>絶対収束級数の収束先は和を取る順番によらないこと</a></span></li></ul></li><li><span><a href=\"#絶対収束級数の例\" data-toc-modified-id=\"絶対収束級数の例-1.2\"><span class=\"toc-item-num\">1.2&nbsp;&nbsp;</span>絶対収束級数の例</a></span><ul class=\"toc-item\"><li><span><a href=\"#絶対収束級数の例1\" data-toc-modified-id=\"絶対収束級数の例1-1.2.1\"><span class=\"toc-item-num\">1.2.1&nbsp;&nbsp;</span>絶対収束級数の例1</a></span></li><li><span><a href=\"#絶対収束級数の例2\" data-toc-modified-id=\"絶対収束級数の例2-1.2.2\"><span class=\"toc-item-num\">1.2.2&nbsp;&nbsp;</span>絶対収束級数の例2</a></span></li></ul></li><li><span><a href=\"#条件収束級数の例\" data-toc-modified-id=\"条件収束級数の例-1.3\"><span class=\"toc-item-num\">1.3&nbsp;&nbsp;</span>条件収束級数の例</a></span><ul class=\"toc-item\"><li><span><a href=\"#条件収束級数の例1\" data-toc-modified-id=\"条件収束級数の例1-1.3.1\"><span class=\"toc-item-num\">1.3.1&nbsp;&nbsp;</span>条件収束級数の例1</a></span></li><li><span><a href=\"#Euler変換による交代級数の数値計算\" data-toc-modified-id=\"Euler変換による交代級数の数値計算-1.3.2\"><span class=\"toc-item-num\">1.3.2&nbsp;&nbsp;</span>Euler変換による交代級数の数値計算</a></span></li><li><span><a href=\"#無限和と積分の交換に関する注意\" data-toc-modified-id=\"無限和と積分の交換に関する注意-1.3.3\"><span class=\"toc-item-num\">1.3.3&nbsp;&nbsp;</span>無限和と積分の交換に関する注意</a></span></li><li><span><a href=\"#条件収束級数の例2\" data-toc-modified-id=\"条件収束級数の例2-1.3.4\"><span class=\"toc-item-num\">1.3.4&nbsp;&nbsp;</span>条件収束級数の例2</a></span></li></ul></li></ul></li></ul></div>"
   ]
  },
  {
   "cell_type": "code",
   "execution_count": 1,
   "metadata": {},
   "outputs": [],
   "source": [
    "using Plots; gr(); ENV[\"PLOTS_TEST\"] = \"true\"\n",
    "#clibrary(:colorcet)\n",
    "clibrary(:misc)\n",
    "\n",
    "using SymPy\n",
    "using SpecialFunctions"
   ]
  },
  {
   "cell_type": "markdown",
   "metadata": {},
   "source": [
    "## 級数"
   ]
  },
  {
   "cell_type": "markdown",
   "metadata": {},
   "source": [
    "### 絶対収束と条件収束"
   ]
  },
  {
   "cell_type": "markdown",
   "metadata": {},
   "source": [
    "#### 絶対収束と条件収束の定義\n",
    "\n",
    "**定理:** $a_n\\geqq 0$ であると仮定する. そのとき, ある正の定数 $M$ が存在して, すべての番号 $n$ について $\\ds\\sum_{k=1}^n a_k\\leqq M$ が成立しているならば, 無限級数 $\\sum_{n=1}^\\infty a_n$ は有限の値に収束する. $\\QED$\n",
    "\n",
    "**定理:** $\\ds\\sum_{n=1}^\\infty |a_n| < \\infty$ ならば級数 $\\ds\\sum_{n=1}^\\infty a_n$ は収束する. そのとき, 級数 $\\ds\\sum_{n=1}^\\infty a_n$ は**絶対収束する**という. $\\QED$\n",
    "\n",
    "逆は成立しないことに注意に注意せよ. 級数 $\\ds\\sum_{n=1}^\\infty a_n$ が収束していても $\\ds\\sum_{n=1}^\\infty |a_n| = \\infty$ となる場合がある. そのとき, 級数 $\\ds\\sum_{n=1}^\\infty a_n$ は**条件収束する**という.\n",
    "\n",
    "**注意:** 上の定理は $a_n$ が実数列でも複素数列でも成立している. さらに $a_n$ が $\\R^n$ や $\\C^n$ の点列でかつ絶対値をノルムで置き換えた場合にも成立している. 直観的には「長さが有限の紐の先端に対応する点が収束先として存在する」というような発想で考えればよい.\n",
    "\n",
    "より一般にはノルム空間においては上の定理が成立することと完備性の条件は同値になっている. 実数列の場合には**実数の連続性**と同値になっている.\n",
    "\n",
    "**実数の連続性**について理解していなくても, 絶対収束の概念を理解していれば足りることは多い. $\\QED$"
   ]
  },
  {
   "cell_type": "markdown",
   "metadata": {},
   "source": [
    "#### 絶対収束級数の収束先は和を取る順番によらないこと\n",
    "\n",
    "**定理:** 絶対収束する無限級数の収束先は足し上げる順序をどのように変えても同じになる.  $\\QED$\n",
    "\n",
    "**系:** 特に $a_n\\geqq 0$ のとき $a_1,a_2,\\ldots$ の無限和は足し上げる順序をどのように変えても同じになる. $\\QED$\n",
    "\n",
    "**注意:** $a_n\\geqq 0$ のとき $a_1,a_2,\\ldots$ の無限和の値として $\\infty$ も許せば, その無限和は常に値を持っているとみなせる.  非負の実数の無限和を扱うときには収束先として $\\infty$ も許したくなる場合が多いので, その場合には収束先が有限の値になるか否かを明瞭に述べておいた方が誤解が少なくなる. $\\QED$\n",
    "\n",
    "**注意:** 条件収束級数の収束先は足し上げる順序によって変わるので扱いには注意が必要になる. $\\QED$"
   ]
  },
  {
   "cell_type": "markdown",
   "metadata": {},
   "source": [
    "### 絶対収束級数の例"
   ]
  },
  {
   "cell_type": "markdown",
   "metadata": {},
   "source": [
    "#### 絶対収束級数の例1\n",
    "\n",
    "$s>1$ と仮定する. このとき $\\ds\\sum_{n=1}^\\infty \\frac{1}{n^s} < \\infty$ である. なぜならば $n\\to\\infty$ のとき\n",
    "\n",
    "$$\n",
    "\\sum_{k=1}^n \\frac{1}{k^s} \\leqq 1 + \\int_1^n \\frac{dx}{x^s} = \n",
    "1 + \\frac{1-n^{1-s}}{s-1} \\to 1 + \\frac{1}{s-1}.\n",
    "$$\n",
    "\n",
    "これより $s>1$ のとき\n",
    "\n",
    "$$\n",
    "\\sum_{n=1}^\\infty \\frac{1}{n^s} \\leqq 1 + \\frac{1}{s-1}\n",
    "$$\n",
    "\n",
    "となることがわかった. $s>1$ の函数 $\\zeta(s)$ を\n",
    "\n",
    "$$\n",
    "\\zeta(s) = \\sum_{n=1}^\\infty \\frac{1}{n^s}\n",
    "$$\n",
    "\n",
    "と定める.  これを**Riemannのゼータ函数**と呼ぶ. Riemannのゼータ函数の定義域は $s\\ne 1$ の複素数全体に自然に拡張される(解析接続される).  Riemannのゼータ函数は整数論における最も基本的で重要な函数である.\n",
    "\n",
    "$s > 1$ のとき, $\\ds\\sum_{n=1}^\\infty\\frac{(-1)^{n-1}}{n^s}$ は絶対収束級数である.  この級数は後で示すように $s=1$ でも収束している.  (さらに複素平面全体に解析接続されることも示せる.)"
   ]
  },
  {
   "cell_type": "markdown",
   "metadata": {},
   "source": [
    "**問題:** $s>1$ と仮定する. この仮定のもとで次の公式を証明せよ:\n",
    "\n",
    "$$\n",
    "(1-2^{1-s})\\zeta(s) = \\sum_{n=1}^\\infty\\frac{(-1)^{n-1}}{n^s}.\n",
    "$$"
   ]
  },
  {
   "cell_type": "markdown",
   "metadata": {},
   "source": [
    "**証明:** 絶対収束級数を扱っているので, 以下のように形式的に計算した結果がそのまま証明になる.\n",
    "\n",
    "$$\n",
    "\\begin{aligned}\n",
    "(1-2^{1-s})\\zeta(s) &=\n",
    "\\left(1-\\frac{2}{2^s}\\right)\\sum_{n=1}^\\infty\\frac{1}{n^s} =\n",
    "\\sum_{n=1}^\\infty\\frac{1}{n^s} - \\sum_{n=1}^\\infty\\frac{2}{(2n)^s}\n",
    "\\\\ &=\n",
    "\\left(\\frac{1}{1^s}+\\frac{1}{2^s}+\\frac{1}{3^s}+\\frac{1}{4^s}+\\cdots\\right)\n",
    "-\\left(\\frac{2}{2^s}+\\frac{2}{4^s}+\\cdots\\right)\n",
    "\\\\ &=\n",
    "\\frac{1}{1^s}-\\frac{1}{2^s}+\\frac{1}{3^s}-\\frac{1}{4^s}+\\cdots =\n",
    "\\sum_{n=1}^\\infty\\frac{(-1)^{n-1}}{n^s}.\n",
    "\\qquad\\QED\n",
    "\\end{aligned}\n",
    "$$"
   ]
  },
  {
   "cell_type": "markdown",
   "metadata": {},
   "source": [
    "**問題:** $\\zeta(2)$ を数値計算して, $\\pi^2/6$ に近いことを確認せよ."
   ]
  },
  {
   "cell_type": "code",
   "execution_count": 2,
   "metadata": {},
   "outputs": [
    {
     "name": "stdout",
     "output_type": "stream",
     "text": [
      "SimpleSum = 1.6449340568482282\n",
      "TrueValue = 1.6449340668482264\n",
      "SimpleSum - TrueValue = -9.999998162868451e-9\n"
     ]
    }
   ],
   "source": [
    "N = 10^8\n",
    "SimpleSum = sum(n->1/n^2, 1:N)\n",
    "TrueValue = π^2/6\n",
    "@show SimpleSum\n",
    "@show TrueValue\n",
    "@show SimpleSum - TrueValue;"
   ]
  },
  {
   "cell_type": "markdown",
   "metadata": {},
   "source": [
    "**問題:** $\\zeta(2)=\\pi^2/6$ を証明について調べよ.\n",
    "\n",
    "**ヒント:** この問題は**Basel問題**などと呼ばれているようである. インターネットで検索してみよ. $\\QED$\n",
    "\n",
    "正の偶数 $2m$ について $\\zeta(2m)$ はすべて計算されている. しかし, 3以上の奇数 $2m+1$ に対する $\\zeta(3m+1)$ の数学的な素性はまだよくわかっていない."
   ]
  },
  {
   "cell_type": "markdown",
   "metadata": {},
   "source": [
    "#### 絶対収束級数の例2\n",
    "\n",
    "**問題:** $\\ds\\sum_{n=2}^\\infty(\\zeta(n)-1)=1$ を示せ."
   ]
  },
  {
   "cell_type": "markdown",
   "metadata": {},
   "source": [
    "**証明:**\n",
    "\n",
    "$k\\geqq 2$ のとき\n",
    "\n",
    "$$\n",
    "\\ds\\sum_{n=2}^\\infty\\frac{1}{k^n} = \\frac{1/k^2}{1-1/k} = \\frac{1}{k(k-1)} = \\frac{1}{k-1} - \\frac{1}{k}.\n",
    "$$\n",
    "\n",
    "そして\n",
    "\n",
    "$$\n",
    "\\zeta(n) - 1 = \\frac{1}{2^n}+\\frac{1}{3^n}+\\frac{1}{4^n}+\\cdots =\n",
    "\\sum_{k=2}^\\infty\\frac{1}{k^n}\n",
    "$$\n",
    "\n",
    "なので, \n",
    "\n",
    "$$\n",
    "\\begin{aligned}\n",
    "\\sum_{n=2}^\\infty (\\zeta(n)-1) &=\n",
    "\\sum_{n=2}^\\infty\\sum_{k=2}^\\infty\\frac{1}{k^n} =\n",
    "\\sum_{k=2}^\\infty\\sum_{n=2}^\\infty\\frac{1}{k^n} =\n",
    "\\sum_{k=2}^\\infty\\left(\\frac{1}{k-1} - \\frac{1}{k}\\right) \n",
    "\\\\ &=\n",
    "\\left(\\frac{1}{1} - \\frac{1}{2}\\right) + \n",
    "\\left(\\frac{1}{2} - \\frac{1}{3}\\right) + \n",
    "\\left(\\frac{1}{3} - \\frac{1}{3}\\right) + \n",
    "\\cdots =\n",
    "1.\n",
    "\\end{aligned}\n",
    "$$\n",
    "\n",
    "2つ目の等号で $1/k^n\\geqq 0$ なので足し上げる順序を変えても総和は等しいことを使った. $\\QED$"
   ]
  },
  {
   "cell_type": "markdown",
   "metadata": {},
   "source": [
    "以下はコンピューターによる計算."
   ]
  },
  {
   "cell_type": "code",
   "execution_count": 3,
   "metadata": {},
   "outputs": [
    {
     "data": {
      "text/plain": [
       "1.0000000000000044"
      ]
     },
     "execution_count": 3,
     "metadata": {},
     "output_type": "execute_result"
    }
   ],
   "source": [
    "N = 50\n",
    "sum(n->zeta(n)-1, 2:N)"
   ]
  },
  {
   "cell_type": "code",
   "execution_count": 4,
   "metadata": {},
   "outputs": [
    {
     "data": {
      "text/latex": [
       "$$1$$"
      ],
      "text/plain": [
       "1"
      ]
     },
     "execution_count": 4,
     "metadata": {},
     "output_type": "execute_result"
    }
   ],
   "source": [
    "l, n = symbols(\"l n\", integer=true, positive=true) # l = k-1\n",
    "s = simplify(doit(Sum(1/(l+1)^n, (n,2,oo))))\n",
    "S = doit(Sum(s, (l,1,oo)))"
   ]
  },
  {
   "cell_type": "markdown",
   "metadata": {},
   "source": [
    "**問題:** 上の問題の結果より, $\\ds\\sum_{n=2}^\\infty(-1)^n(\\zeta(n)-1)$ は絶対収束する. その収束先を求めよ."
   ]
  },
  {
   "cell_type": "markdown",
   "metadata": {},
   "source": [
    "**証明:**\n",
    "\n",
    "$k\\geqq 2$ のとき\n",
    "\n",
    "$$\n",
    "\\ds\\sum_{n=2}^\\infty\\frac{(-1)^n}{k^n} = \\frac{1/k^2}{1+1/k} = \\frac{1}{k(k+1)} = \\frac{1}{k} - \\frac{1}{k+1}.\n",
    "$$\n",
    "\n",
    "そして\n",
    "\n",
    "$$\n",
    "(-1)^n(\\zeta(n) - 1) = \\frac{(-1)^n}{2^n}+\\frac{(-1)^n}{3^n}+\\frac{(-1)^n}{4^n}+\\cdots =\n",
    "\\sum_{k=2}^\\infty\\frac{(-1)^n}{k^n}\n",
    "$$\n",
    "\n",
    "なので, \n",
    "\n",
    "$$\n",
    "\\begin{aligned}\n",
    "\\sum_{n=2}^\\infty (\\zeta(n)-1) &=\n",
    "\\sum_{n=2}^\\infty\\sum_{k=2}^\\infty\\frac{(-1)^n}{k^n} =\n",
    "\\sum_{k=2}^\\infty\\sum_{n=2}^\\infty\\frac{(-1)^n}{k^n} =\n",
    "\\sum_{k=2}^\\infty\\left(\\frac{1}{k} - \\frac{1}{k+1}\\right) \n",
    "\\\\ &=\n",
    "\\left(\\frac{1}{2} - \\frac{1}{3}\\right) + \n",
    "\\left(\\frac{1}{3} - \\frac{1}{4}\\right) + \n",
    "\\left(\\frac{1}{4} - \\frac{1}{5}\\right) + \n",
    "\\cdots =\n",
    "\\frac{1}{2}.\n",
    "\\end{aligned}\n",
    "$$\n",
    "\n",
    "2つ目の等号で絶対収束級数なので足し上げる順序を変えても総和は等しいことを使った. $\\QED$"
   ]
  },
  {
   "cell_type": "markdown",
   "metadata": {},
   "source": [
    "以下はコンピューターによる計算."
   ]
  },
  {
   "cell_type": "code",
   "execution_count": 5,
   "metadata": {},
   "outputs": [
    {
     "data": {
      "text/plain": [
       "0.5000000000000018"
      ]
     },
     "execution_count": 5,
     "metadata": {},
     "output_type": "execute_result"
    }
   ],
   "source": [
    "N = 50\n",
    "sum(n->(-1)^n*(zeta(n)-1), 2:N)"
   ]
  },
  {
   "cell_type": "code",
   "execution_count": 6,
   "metadata": {},
   "outputs": [
    {
     "data": {
      "text/latex": [
       "$$\\frac{1}{2}$$"
      ],
      "text/plain": [
       "1/2"
      ]
     },
     "execution_count": 6,
     "metadata": {},
     "output_type": "execute_result"
    }
   ],
   "source": [
    "l, n = symbols(\"l n\", integer=true, positive=true) # l = k-1\n",
    "s = simplify(doit(Sum((-1)^n/(l+1)^n, (n,2,oo))))\n",
    "S = doit(Sum(s, (l,1,oo)))"
   ]
  },
  {
   "cell_type": "markdown",
   "metadata": {},
   "source": [
    "**問題:** 以上の例以外の絶対収束級数の例について調べ, ノートにまとめよ."
   ]
  },
  {
   "cell_type": "markdown",
   "metadata": {},
   "source": [
    "### 条件収束級数の例"
   ]
  },
  {
   "cell_type": "markdown",
   "metadata": {},
   "source": [
    "**定理:** 一般に $a_1\\geqq a_2\\geqq a_3\\geqq\\cdots$ かつ $a_n\\geqq 0$ かつ $a_n\\to 0$ のとき, **交代級数**\n",
    "\n",
    "$$\n",
    "\\sum_{n=1}^\\infty (-1)^{n-1} a_n = a_1 - a_2 + a_3 - a_4 + \\cdots\n",
    "$$\n",
    "\n",
    "は収束する. $\\QED$\n",
    "\n",
    "この定理中の $a_n$ について $\\ds\\sum_{n=1}^\\infty a_n=\\infty$ が成立しているとき, 交代級数は条件収束級数になる."
   ]
  },
  {
   "cell_type": "markdown",
   "metadata": {},
   "source": [
    "#### 条件収束級数の例1\n",
    "\n",
    "$\\ds\\sum_{n=1}^\\infty\\frac{(-1)^{n-1}}{n}$ は収束するが, $\\ds\\sum_{n=1}^\\infty\\frac{1}{n}=\\infty$ となる.\n",
    "\n",
    "なぜならば, $\\ds\\sum_{k=1}^n \\frac{1}{k} \\geqq \\int_1^{n+1}\\frac{dx}{x} = \\log(n+1) \\to \\infty$ ($n\\to\\infty$) が成立するからである."
   ]
  },
  {
   "cell_type": "markdown",
   "metadata": {},
   "source": [
    "**問題:** $\\ds\\sum_{n=1}^\\infty\\frac{(-1)^{n-1}}{n}$ を求めよ. \n",
    "\n",
    "**解答:** $\\log 2$."
   ]
  },
  {
   "cell_type": "markdown",
   "metadata": {},
   "source": [
    "**証明:**\n",
    "\n",
    "一般に\n",
    "\n",
    "$$\n",
    "\\int_1^x \\frac{dt}{t} = \\log x.\n",
    "$$\n",
    "\n",
    "ゆえに, \n",
    "\n",
    "$$\n",
    "\\int_0^1\\frac{dx}{1+x} = \\int_1^2 \\frac{dy}{y} = \\log 2.\n",
    "$$\n",
    "\n",
    "一方, $|x|<1$ のとき\n",
    "\n",
    "$$\n",
    "\\frac{1}{1+x} = 1 - x + x^2 - x^3 + \\cdots\n",
    "$$\n",
    "\n",
    "なので\n",
    "\n",
    "$$\n",
    "\\int_0^1 \\frac{dx}{1+x} = \n",
    "\\int_0^1 (1 - x + x^2 - x^3 + \\cdots) =\n",
    "1 - \\frac{1}{2} + \\frac{1}{3} - \\frac{1}{4} + \\cdots =\n",
    "\\sum_{n=1}^\\infty \\frac{(-1)^{n-1}}{n}.\n",
    "$$\n",
    "\n",
    "したがって,  \n",
    "\n",
    "$$\n",
    "\\int_0^1 \\frac{dx}{1+x} = \\log 2 = \\sum_{n=1}^\\infty \\frac{(-1)^{n-1}}{n}.\n",
    "\\qquad \\QED\n",
    "$$"
   ]
  },
  {
   "cell_type": "markdown",
   "metadata": {},
   "source": [
    "以下はコンピューターによる計算."
   ]
  },
  {
   "cell_type": "code",
   "execution_count": 7,
   "metadata": {},
   "outputs": [
    {
     "data": {
      "text/latex": [
       "$$\\log{\\left (2 \\right )}$$"
      ],
      "text/plain": [
       "log(2)"
      ]
     },
     "execution_count": 7,
     "metadata": {},
     "output_type": "execute_result"
    }
   ],
   "source": [
    "n = symbols(\"n\", integer=true)\n",
    "S = doit(Sum((-1)^(n-1)/n, (n, 1, oo)))"
   ]
  },
  {
   "cell_type": "code",
   "execution_count": 8,
   "metadata": {},
   "outputs": [
    {
     "name": "stdout",
     "output_type": "stream",
     "text": [
      "SimpleSum = 0.6926474305598223\n",
      "TrueValue = 0.6931471805599453\n",
      "SimpleSum - TrueValue = -0.0004997500001230337\n"
     ]
    }
   ],
   "source": [
    "N = 1000\n",
    "SimpleSum = sum(n->(-1)^(n-1)/n, 1:N)\n",
    "TrueValue = log(2)\n",
    "@show SimpleSum\n",
    "@show TrueValue\n",
    "@show SimpleSum - TrueValue;"
   ]
  },
  {
   "cell_type": "markdown",
   "metadata": {},
   "source": [
    "#### Euler変換による交代級数の数値計算\n",
    "\n",
    "$\\ds\\sum_{n=1}^N\\frac{(-1)^{n-1}}{n}$ で $N=1000$ としても収束先の値を小数点以下第2桁までしか再現してくれない. 一般に条件収束する交代級数を定義通り足し上げると収束は遅い.\n",
    "\n",
    "収束を加速するための様々な方法が知られているが, 交代級数の場合には**Euler変換**が有名である. 詳しくは\n",
    "\n",
    "* <a href=\"http://nbviewer.jupyter.org/gist/genkuroki/4a8fea5e2ed1b4e3b737c99acf237042\">交代ゼータ函数のオイラー変換</a>\n",
    "\n",
    "を参照せよ. 交代級数 $\\ds\\sum_{k=0}^\\infty (-1)^k a_k$ のEuler変換の結果は\n",
    "\n",
    "$$\n",
    "\\lim_{L\\to\\infty} \\sum_{k=0}^{L-1} w^{(L)}_k (-1)^k a_k, \\qquad\n",
    "w^{(L)}_k = \\sum_{n=k}^{L-1} 2^{-n-1}\\binom{n}{k}.\n",
    "$$\n",
    "\n",
    "すなわち交代級数のEuler変換は交代級数の各項にウェイト $w^{(L)}_k$ をかけてから $L\\to\\infty$ の極限を取る形になる.\n",
    "\n",
    "以下のようにEuler変換を使えば数十項で精密な計算が可能になる."
   ]
  },
  {
   "cell_type": "code",
   "execution_count": 9,
   "metadata": {},
   "outputs": [
    {
     "data": {
      "text/plain": [
       "EulerWeight{Array{Float64,2}}([0.5 0.0 … 0.0 0.0; 0.75 0.25 … 0.0 0.0; … ; 1.0 1.0 … 1.0842e-19 0.0; 1.0 1.0 … 3.52366e-18 5.42101e-20])"
      ]
     },
     "execution_count": 9,
     "metadata": {},
     "output_type": "execute_result"
    }
   ],
   "source": [
    "binom(n,k) = exp(lgamma(n+1) - lgamma(k+1) - lgamma(n-k+1))\n",
    "\n",
    "struct EulerWeight{T} W::T end\n",
    "function EulerWeight(; Lmax=2^6)\n",
    "    W = zeros(Lmax,Lmax)\n",
    "    for L in 1:Lmax\n",
    "        for k in 0:L-1\n",
    "            W[L,k+1] = sum(n->2.0^(-n-1)*binom(n,k), k:L-1)\n",
    "        end\n",
    "    end\n",
    "    EulerWeight(W)\n",
    "end\n",
    "(eulerweight::EulerWeight)(L,k) = eulerweight.W[L,k+1]\n",
    "eulerweight = EulerWeight()"
   ]
  },
  {
   "cell_type": "code",
   "execution_count": 10,
   "metadata": {},
   "outputs": [
    {
     "name": "stdout",
     "output_type": "stream",
     "text": [
      "EulerTran = 0.6931471805599451\n",
      "TrueValue = 0.6931471805599453\n",
      "EulerTran - TrueValue = -2.220446049250313e-16\n"
     ]
    },
    {
     "data": {
      "text/plain": [
       "-2.220446049250313e-16"
      ]
     },
     "execution_count": 10,
     "metadata": {},
     "output_type": "execute_result"
    }
   ],
   "source": [
    "L = 2^6\n",
    "EulerTran = sum(k->eulerweight(L,k)*(-1)^k/(k+1), 0:L-1)\n",
    "TrueValue = log(2)\n",
    "@show EulerTran\n",
    "@show TrueValue\n",
    "@show EulerTran - TrueValue"
   ]
  },
  {
   "cell_type": "markdown",
   "metadata": {},
   "source": [
    "Euler変換を使うと, 次のセルのように $\\zeta(s)$ の非自明な零点をプロットすることができる."
   ]
  },
  {
   "cell_type": "code",
   "execution_count": 24,
   "metadata": {},
   "outputs": [
    {
     "data": {
      "image/svg+xml": [
       "<?xml version=\"1.0\" encoding=\"utf-8\"?>\n",
       "<svg xmlns=\"http://www.w3.org/2000/svg\" xmlns:xlink=\"http://www.w3.org/1999/xlink\" width=\"600\" height=\"500\" viewBox=\"0 0 600 500\">\n",
       "<defs>\n",
       "  <clipPath id=\"clip0500\">\n",
       "    <rect x=\"0\" y=\"0\" width=\"600\" height=\"500\"/>\n",
       "  </clipPath>\n",
       "</defs>\n",
       "<polygon clip-path=\"url(#clip0500)\" points=\"\n",
       "0,500 600,500 600,0 0,0 \n",
       "  \" fill=\"#ffffff\" fill-opacity=\"1\"/>\n",
       "<defs>\n",
       "  <clipPath id=\"clip0501\">\n",
       "    <rect x=\"120\" y=\"0\" width=\"421\" height=\"421\"/>\n",
       "  </clipPath>\n",
       "</defs>\n",
       "<polygon clip-path=\"url(#clip0500)\" points=\"\n",
       "54.9131,458.025 520.315,458.025 520.315,31.4961 54.9131,31.4961 \n",
       "  \" fill=\"#ffffff\" fill-opacity=\"1\"/>\n",
       "<defs>\n",
       "  <clipPath id=\"clip0502\">\n",
       "    <rect x=\"54\" y=\"31\" width=\"466\" height=\"428\"/>\n",
       "  </clipPath>\n",
       "</defs>\n",
       "<polyline clip-path=\"url(#clip0502)\" style=\"stroke:#000000; stroke-width:0.5; stroke-opacity:0.1; fill:none\" points=\"\n",
       "  56.0708,458.025 56.0708,31.4961 \n",
       "  \"/>\n",
       "<polyline clip-path=\"url(#clip0502)\" style=\"stroke:#000000; stroke-width:0.5; stroke-opacity:0.1; fill:none\" points=\"\n",
       "  171.842,458.025 171.842,31.4961 \n",
       "  \"/>\n",
       "<polyline clip-path=\"url(#clip0502)\" style=\"stroke:#000000; stroke-width:0.5; stroke-opacity:0.1; fill:none\" points=\"\n",
       "  287.614,458.025 287.614,31.4961 \n",
       "  \"/>\n",
       "<polyline clip-path=\"url(#clip0502)\" style=\"stroke:#000000; stroke-width:0.5; stroke-opacity:0.1; fill:none\" points=\"\n",
       "  403.386,458.025 403.386,31.4961 \n",
       "  \"/>\n",
       "<polyline clip-path=\"url(#clip0502)\" style=\"stroke:#000000; stroke-width:0.5; stroke-opacity:0.1; fill:none\" points=\"\n",
       "  519.157,458.025 519.157,31.4961 \n",
       "  \"/>\n",
       "<polyline clip-path=\"url(#clip0502)\" style=\"stroke:#000000; stroke-width:0.5; stroke-opacity:0.1; fill:none\" points=\"\n",
       "  54.9131,435.743 520.315,435.743 \n",
       "  \"/>\n",
       "<polyline clip-path=\"url(#clip0502)\" style=\"stroke:#000000; stroke-width:0.5; stroke-opacity:0.1; fill:none\" points=\"\n",
       "  54.9131,350.862 520.315,350.862 \n",
       "  \"/>\n",
       "<polyline clip-path=\"url(#clip0502)\" style=\"stroke:#000000; stroke-width:0.5; stroke-opacity:0.1; fill:none\" points=\"\n",
       "  54.9131,265.981 520.315,265.981 \n",
       "  \"/>\n",
       "<polyline clip-path=\"url(#clip0502)\" style=\"stroke:#000000; stroke-width:0.5; stroke-opacity:0.1; fill:none\" points=\"\n",
       "  54.9131,181.099 520.315,181.099 \n",
       "  \"/>\n",
       "<polyline clip-path=\"url(#clip0502)\" style=\"stroke:#000000; stroke-width:0.5; stroke-opacity:0.1; fill:none\" points=\"\n",
       "  54.9131,96.2181 520.315,96.2181 \n",
       "  \"/>\n",
       "<polyline clip-path=\"url(#clip0500)\" style=\"stroke:#000000; stroke-width:1; stroke-opacity:1; fill:none\" points=\"\n",
       "  54.9131,458.025 520.315,458.025 \n",
       "  \"/>\n",
       "<polyline clip-path=\"url(#clip0500)\" style=\"stroke:#000000; stroke-width:1; stroke-opacity:1; fill:none\" points=\"\n",
       "  54.9131,458.025 54.9131,31.4961 \n",
       "  \"/>\n",
       "<polyline clip-path=\"url(#clip0500)\" style=\"stroke:#000000; stroke-width:1; stroke-opacity:1; fill:none\" points=\"\n",
       "  56.0708,458.025 56.0708,451.627 \n",
       "  \"/>\n",
       "<polyline clip-path=\"url(#clip0500)\" style=\"stroke:#000000; stroke-width:1; stroke-opacity:1; fill:none\" points=\"\n",
       "  171.842,458.025 171.842,451.627 \n",
       "  \"/>\n",
       "<polyline clip-path=\"url(#clip0500)\" style=\"stroke:#000000; stroke-width:1; stroke-opacity:1; fill:none\" points=\"\n",
       "  287.614,458.025 287.614,451.627 \n",
       "  \"/>\n",
       "<polyline clip-path=\"url(#clip0500)\" style=\"stroke:#000000; stroke-width:1; stroke-opacity:1; fill:none\" points=\"\n",
       "  403.386,458.025 403.386,451.627 \n",
       "  \"/>\n",
       "<polyline clip-path=\"url(#clip0500)\" style=\"stroke:#000000; stroke-width:1; stroke-opacity:1; fill:none\" points=\"\n",
       "  519.157,458.025 519.157,451.627 \n",
       "  \"/>\n",
       "<polyline clip-path=\"url(#clip0500)\" style=\"stroke:#000000; stroke-width:1; stroke-opacity:1; fill:none\" points=\"\n",
       "  54.9131,435.743 61.8941,435.743 \n",
       "  \"/>\n",
       "<polyline clip-path=\"url(#clip0500)\" style=\"stroke:#000000; stroke-width:1; stroke-opacity:1; fill:none\" points=\"\n",
       "  54.9131,350.862 61.8941,350.862 \n",
       "  \"/>\n",
       "<polyline clip-path=\"url(#clip0500)\" style=\"stroke:#000000; stroke-width:1; stroke-opacity:1; fill:none\" points=\"\n",
       "  54.9131,265.981 61.8941,265.981 \n",
       "  \"/>\n",
       "<polyline clip-path=\"url(#clip0500)\" style=\"stroke:#000000; stroke-width:1; stroke-opacity:1; fill:none\" points=\"\n",
       "  54.9131,181.099 61.8941,181.099 \n",
       "  \"/>\n",
       "<polyline clip-path=\"url(#clip0500)\" style=\"stroke:#000000; stroke-width:1; stroke-opacity:1; fill:none\" points=\"\n",
       "  54.9131,96.2181 61.8941,96.2181 \n",
       "  \"/>\n",
       "<g clip-path=\"url(#clip0500)\">\n",
       "<text style=\"fill:#000000; fill-opacity:1; font-family:Arial,Helvetica Neue,Helvetica,sans-serif; font-size:12; text-anchor:middle;\" transform=\"rotate(0, 56.0708, 471.825)\" x=\"56.0708\" y=\"471.825\">0.00</text>\n",
       "</g>\n",
       "<g clip-path=\"url(#clip0500)\">\n",
       "<text style=\"fill:#000000; fill-opacity:1; font-family:Arial,Helvetica Neue,Helvetica,sans-serif; font-size:12; text-anchor:middle;\" transform=\"rotate(0, 171.842, 471.825)\" x=\"171.842\" y=\"471.825\">0.25</text>\n",
       "</g>\n",
       "<g clip-path=\"url(#clip0500)\">\n",
       "<text style=\"fill:#000000; fill-opacity:1; font-family:Arial,Helvetica Neue,Helvetica,sans-serif; font-size:12; text-anchor:middle;\" transform=\"rotate(0, 287.614, 471.825)\" x=\"287.614\" y=\"471.825\">0.50</text>\n",
       "</g>\n",
       "<g clip-path=\"url(#clip0500)\">\n",
       "<text style=\"fill:#000000; fill-opacity:1; font-family:Arial,Helvetica Neue,Helvetica,sans-serif; font-size:12; text-anchor:middle;\" transform=\"rotate(0, 403.386, 471.825)\" x=\"403.386\" y=\"471.825\">0.75</text>\n",
       "</g>\n",
       "<g clip-path=\"url(#clip0500)\">\n",
       "<text style=\"fill:#000000; fill-opacity:1; font-family:Arial,Helvetica Neue,Helvetica,sans-serif; font-size:12; text-anchor:middle;\" transform=\"rotate(0, 519.157, 471.825)\" x=\"519.157\" y=\"471.825\">1.00</text>\n",
       "</g>\n",
       "<g clip-path=\"url(#clip0500)\">\n",
       "<text style=\"fill:#000000; fill-opacity:1; font-family:Arial,Helvetica Neue,Helvetica,sans-serif; font-size:12; text-anchor:end;\" transform=\"rotate(0, 48.9131, 440.243)\" x=\"48.9131\" y=\"440.243\">13.8</text>\n",
       "</g>\n",
       "<g clip-path=\"url(#clip0500)\">\n",
       "<text style=\"fill:#000000; fill-opacity:1; font-family:Arial,Helvetica Neue,Helvetica,sans-serif; font-size:12; text-anchor:end;\" transform=\"rotate(0, 48.9131, 355.362)\" x=\"48.9131\" y=\"355.362\">14.0</text>\n",
       "</g>\n",
       "<g clip-path=\"url(#clip0500)\">\n",
       "<text style=\"fill:#000000; fill-opacity:1; font-family:Arial,Helvetica Neue,Helvetica,sans-serif; font-size:12; text-anchor:end;\" transform=\"rotate(0, 48.9131, 270.481)\" x=\"48.9131\" y=\"270.481\">14.2</text>\n",
       "</g>\n",
       "<g clip-path=\"url(#clip0500)\">\n",
       "<text style=\"fill:#000000; fill-opacity:1; font-family:Arial,Helvetica Neue,Helvetica,sans-serif; font-size:12; text-anchor:end;\" transform=\"rotate(0, 48.9131, 185.599)\" x=\"48.9131\" y=\"185.599\">14.4</text>\n",
       "</g>\n",
       "<g clip-path=\"url(#clip0500)\">\n",
       "<text style=\"fill:#000000; fill-opacity:1; font-family:Arial,Helvetica Neue,Helvetica,sans-serif; font-size:12; text-anchor:end;\" transform=\"rotate(0, 48.9131, 100.718)\" x=\"48.9131\" y=\"100.718\">14.6</text>\n",
       "</g>\n",
       "<g clip-path=\"url(#clip0500)\">\n",
       "<text style=\"fill:#000000; fill-opacity:1; font-family:Arial,Helvetica Neue,Helvetica,sans-serif; font-size:21; text-anchor:middle;\" transform=\"rotate(0, 287.614, 18)\" x=\"287.614\" y=\"18\">first non-trivial zero of zeta(s)</text>\n",
       "</g>\n",
       "<g clip-path=\"url(#clip0500)\">\n",
       "<text style=\"fill:#000000; fill-opacity:1; font-family:Arial,Helvetica Neue,Helvetica,sans-serif; font-size:16; text-anchor:middle;\" transform=\"rotate(0, 287.614, 497.6)\" x=\"287.614\" y=\"497.6\">Re s</text>\n",
       "</g>\n",
       "<g clip-path=\"url(#clip0500)\">\n",
       "<text style=\"fill:#000000; fill-opacity:1; font-family:Arial,Helvetica Neue,Helvetica,sans-serif; font-size:16; text-anchor:middle;\" transform=\"rotate(-90, 14.4, 244.76)\" x=\"14.4\" y=\"244.76\">Im s</text>\n",
       "</g>\n",
       "<g clip-path=\"url(#clip0502)\">\n",
       "<image width=\"465\" height=\"427\" xlink:href=\"data:image/png;base64,\n",
       "iVBORw0KGgoAAAANSUhEUgAAAdEAAAGrCAYAAACfeq08AAAgAElEQVR4nO29zWLjupKsC3m5J/f9\n",
       "n/b0KvEOLEpAIhCKTJJy7d0Rg5LETIC0ZKv4IX9w21rb2q7vxeOZtn8O2vq54zE0/p+kjc0Z/dl4\n",
       "xfYljvvSbffbz+O/r0+1/WnjsX+74X/CMTQu+vTH4txoXHzNfFpr7c5scU5iuydt92C7d9c72YTx\n",
       "rb3+uHafbsrJf+uMW7SFRzRnb4vHoA1cE/J/ZxvGb2vbar6sjYmNuxXnVMYhH3rspo+7VW232RYf\n",
       "0VzI53YjNjZuMT477ov5ANuXcL1wzhv2QXN93WYfy7Isy7IS8n+ilmVZllXUbfunWwH5n8fjlUu2\n",
       "aBxaql3Z2LKsutRbWbJFx9j4uASrzs3GERtblo3H+iXQuMT7B4xDy6pxLmWpth+fWertl0cVW1xe\n",
       "fWeLy8dHl2zR3NFnOBZe935xCRWdNy7PQhsb19vIEvFqPLKtXvcHr1jOPVNsGTcuy7Jx2SXbeAza\n",
       "hOVgtvQJ/X9ryTaMb21eaqXLssnzsqXe6bzCNZlELcuyLKuob0hvRxNmVEqt0KITi9rWjYskSZOH\n",
       "Pp1YtPBFx3oSfZIhs5GEpJhElLVBEl34IBtNHuptwR9SZjifSpRK0hF6zeh25bOaa+Wj2GQ/ZRIh\n",
       "M6iaPLSfP51YxHwUygQ/t0JtKKEpzlmmTfBeMNqcEnzA3zk77z7ujs5LEpJ2f2iL48A1PW1OLLIs\n",
       "y7KsY7pt/x8ocYmx0f55Nbb53xQTVUg2S5vCuP0u6X/7uOWCCHtqVOKeLF6KiJDFS1eUSX2IrY8j\n",
       "Rn9kQyUqzBZpEcVbWWyTlcZEylTLX1bxUqUMZvAn45R4J/QhMc2Pk2hBCnW+88vYbuAF81FsCsFW\n",
       "5zwztsnih5VxjI7p3J3trJjoV3i0LMuyLCupb0p/VULLzvl/NSYqNlR4kmR4bG0dCx1ilMQWibLa\n",
       "UIGNSzdbIJSq2CJR9scUm9RsAdhQbFOJe6JmC6smC8N4Ie5JbQJRVm1XZuCeFAZNj4M2IX45HFvE\n",
       "UOUs2xv2QXPTOQn1VWObKF4b6e1+cBzMzgUrR08bGHdWTDT6WpZlWZaV1PcpFFWlVJbVq9Rk/ifE\n",
       "REXajJm3jDb/F9guqRMl1FeqExVJlNaCxnhpZ2Ot/So1oNW2fz0pKZm7CmXSuCeJqWYpNRIkGrd6\n",
       "rfogRYK9VADRyvFPcL2leCcjtH4Aoc3pmEh9q/OptMninpEgj45DcU9EqSxzd6fTSJb9ee7Bt59j\n",
       "C74mUcuyLMsq6huS3ZkN6BmZ/V9vQN/ZYuN4RJtK5i2KmyqZuyzuiQi21ICejM/Wgiodi06tEyW2\n",
       "beEz2IIPsiHqKzeZPxgvjfNAW5t1mEQ/IESP0O/N63c2RHTLuQmhwTnB3Jk5UZy1Qqv9+Cf9gWs4\n",
       "Oi7GIQcboM1Ikiwm2p83+vd/r9HfDegty7Is66Cu6Vik0uYnYqJHbRfGRP90t0c7eVLazJAo8UFx\n",
       "z8O9cztbqU4UkezjkdV7MoLN9s7NdCXK1pCyuCeLpSpxz2yd6MonPn9rI3MiVW1HpWTqXpGV+7QB\n",
       "olv69s9JRiqiRTrngjb7OSq02tqcHcvGsfgjils+iTCM6edSYqLDeUlMdMrc7SadsnMdE7Usy7Ks\n",
       "Y9KzczOdh1TarMQt/wtiojDuGWjzfxuwhdfMlu2Py8YdrhNVSLSzTbWgiDaD73CMjMt0Myp3LOrG\n",
       "SbRJYqnx8cw6UVTLifyncQmfwSbg5llEqtBnazheqcwRCVDKwAXHaJ9cEOuj8dICbaJjsGPRIkbZ\n",
       "WkeJZByMexJKjVm1Tx9EhkJMFMVbWUw0zt3Pv5HrtizLsiwrIf8nalmWZVlF6SUu1YYKZ7f9yy7L\n",
       "/nJiEdq27H/Da9WmNFJQlnw/3oAejM8s9bKmCWwZWG3EcLTZQlyOzZa/oCXi1TIuXHoVlmXlJVsw\n",
       "Vxy3er06ptiqvuqy7XIMWZZVzqEsr1J/Ycl2mObkJVtoI9cEl0fJOJb8oyz1Tu3/PpxY1JfUrOY0\n",
       "iVqWZVlWUdeXuDBKzSQdVUtksklHJyUW3UH7vmcZS3jdH0PNEiKdKuUv2eShSzblJiRLG9AnbFlK\n",
       "VRop7OM24pNt+8do87ebLTTVFg5eSaJXKFvGQv2FEhdGmfE1KwsZ/E+mTTaOkR08b6DH1ubSFJVS\n",
       "V2UzKLEItd9jiUUxEan/vdx/hv3YDfy9Rh+TqGVZlmUVdW6JS7ahuzLurLZ/Z8ZEyXnjxtmINmNj\n",
       "BWjrTltqtlCMe6pt/0oN6LvxCqWiFn1Kaz+2qTazUdoMPog2lbZ/iG4R/WWaLcRzNOQD7qgVImXH\n",
       "NmD4W0i0WuIi0yohwuifLUfJNJkv0ya7FkJ27LxsSzKFUlnZTCTh/liMcSJ/1NwelriEn4GV1KCY\n",
       "qmVZlmVZCZ2bnctim7/V9u/oVmjCe8Da96GmCYg2lbZ/mcxdtt0Z27CbZeDSmCixSRm4iGTBNUnN\n",
       "FlC8NIxXNty+vO3f/kgIdqJNkSiluCeg28x4pN8mUYVAGfWpc2YoE44j5/0Ibfa2BfmibcDYeVGr\n",
       "PIVSWcavQobVmCilzf01IF83W7Asy7Ksk/S57Nxs/PG32v4lakAR2cVYKKNN1toPtgQE51vFQtXt\n",
       "zhTaRJSa2SZN2XgbjUdZtpNNpNRIm0pLwGrbPxb3pPFSQJlTbBSMz9aJrnz6F1eQaMYnqzSBCuOm\n",
       "TFpAWPC1ENOMr3+LNtE1IApjdBxji7BJPBsHqDxm7tKYaPBF/iwmuoGfcz/UX2/823edqGVZlmUd\n",
       "lJ6dq3Ql+kR27hUEnKTjSJKIGhWb3LEoHEt3LCLjMxm4Si0oGqdk8KL4JawTjbHUflyYS7V9smPR\n",
       "QKnBhxGsEvccbIQoIwmqtkipSJ8gUTXzVvFXsnOfxwiZIX/os6BFmTb3RxB3zdAmtAXCYpT7Bf42\n",
       "UCx1sqFxJHM3E79Uajp7v+ffJqHqL2FOk6hlWZZlFYVJ9FPbnf1Wdm6xY9Ez3vl4jbY0y9hoVyJm\n",
       "6y73aMeiap2oEi/NbLx9Sp1ouGtVOxatsnpV2owxTTWWGimRZucm457KOPSakig5trQRZ5VIJfIU\n",
       "iBLaQDxuNQeNbYrxUmkD7PCEUSOKI9I4KxgXs0yrfW4Rba7mRv6wzlOIiWZqOnu/DG0if5OoZVmW\n",
       "ZR0UrhO9Ijs3W3t6dnZuMSaKSHLKwCU+jChZ71yYuctIdPEajWc1pOpOLUrHolVstPdH2bLRH9aQ\n",
       "Eur7tY5Fj8c+24/WiW7Yp38ex1U7DzFKRf6r16tjiu1SEaLclaXNeIzuygJ+cBqbDAdU2mRZspH6\n",
       "lP64bByk1SKlomuqkGS2pjOSbO8X6z7Zeftzx79Jk6hlWZZlFeX/RC3LsiyrqM83W7iyxOXo5trd\n",
       "85hENByLj51PXKpV2/4ptkwjBrnt38KntS55iCT4lJstkKXemDSUbvtHxh1u+wfGx+Uddcl21WQe\n",
       "zXlF8hBdqgVzruZWbVcqs4zLSk7oOLA8il6zpdPJp7hky0pjlBIVpW0fSlqCjRFCos5gO3k59szE\n",
       "ouffGJgztvZrbf47Q6U5lmVZlmUldE2zhTMa11dKXFTaJOP+X4Eyh+QjgRpRQ4U4TrVJzRYC2Z3R\n",
       "9o8lHZ3V9k9pqHBJ2z8yHiUIsdZ+rPxllTzU+7PkockGSFZNNoq21evhGDB+gkRpyUuCLFubE4Jo\n",
       "YhGzsRIXluADxijUqIzrCYk1YphIEtHm4hytzZtc023HBALuj53dLL61+W+xnzPSaf+zbOF9+gI+\n",
       "lmVZlmUlxEm02jQhG/f8pRKXDZWxCJRJGyokaJOWuDDazJJoOAbjpcSmtP0bCDbYMht3tzbT4q+1\n",
       "/SM+m2oLx1gsVYl3UhIVxjfkQ2xIVdtRUQLdfcAFKPFSSq6sDGU/oNLi/hhps/ch1Lgaj8YNJErG\n",
       "RZKM5SytzZSqbjvGWgmypgdxzmxMlBEla0Af5xr+psL7tIV5LMuyLMtKirf9uyI7N0u3F2bnxizb\n",
       "1tYNFZjtzGYLNDs3UO5gC69R/PK/vu1fmEtpqIDmVGgzG/dkcyqUyZotoNeMUp8+AqUifZpEJQJN\n",
       "2Fh2LoubqvFSSouLOY+OR+MgiYJxq3hntX0fpc3OFikRNYJn8cs4p0qUsQH9Bn4W9LexIliTqGVZ\n",
       "lmUV9bm2f8V6zVLc9M3cLAN3VQva+11RJxrJFdrCPMg/vSk3Icpq27/nODJ+ysAVKZXR5ooo39ky\n",
       "daKsybzS9m+4sw3+0EbGs3hpa2sbI9g49zu/io8ihT6ZH6vNHI5ta59MVi4ah1oRTvFSgTYhUYbx\n",
       "8jhAqat4J6TN4Iv8KW12trNiojFrdrCBv9dMnahCsCZRy7IsyyrqdzsWHa0TTWTnpjNwFUol44/W\n",
       "iSpdidCxTJP61njc82i8tNqxSGlOr9R7/lbHooEoN+zTH0N3xCsCRUT5fATj0euZFkFao1JpCbFT\n",
       "ZciVNmFqxruMx8M04Bi0HaVNMle2Y9G03Vn3o7Hs2gqlHm0WP4xTKDUZE41/N7Sms7ftc4Jrin9L\n",
       "8JqCj0nUsizLsoq6vmPR0frSkzJw/193V0UzcBVKFcYjoszQplonutqwm2bnAtuVHYvQeFYLmupY\n",
       "1NlYDaliq/bHVWgTbaHGCDbe7TISfaUXAp7ZIFuFCRSfld9KWSJldEl8M3R6Q5T7OAbnQe/6eFqJ\n",
       "Nnvbhm0KrbYGSBSMY92BGKVGkkRZtkrmrtJ5qJ8TxUSffxtCTBRl4Ga2Oxs+ceGaYrzUJGpZlmVZ\n",
       "RekkejRzt9pXt1gnOlFjAzZEko/HmMHb26YMXEK55TpRZut+llUsVKXNTHYuolSlm9F/fcei4INs\n",
       "iGlYnehElxvo+RJJcqDOOL4lbUhKTFSZR6BOOFyhTeY7Eqlsu82f0PYk2PUaAVkfqHcsinFLMI7t\n",
       "4pLpYZuNX2aybNU5We/cuFpzRgbuqisROp9J1LIsy7IOyv+JWpZlWVZRegP6K0pcKkvEZDxrv6eW\n",
       "sWQaMaA2fJNP0kabLQjLsdSHLMsqCUmH2/6B8X9D27+VTR2/BR/WbOG1LNvIkm1/LPqIyUMw2Uiw\n",
       "wSXeYPu4wsXciA3VnLCCn6nbwrwsm13qfSUwxSVfMOfjUW0WT5dsH48xCejduNVWaMM1CeUvdKkX\n",
       "zFlJLGKt/WAZS/Dp58609hvGObHIsizLss5RvsTlt9r+EZ9n4k1nktr3NWBLkChrmoDm/sim3Ala\n",
       "7Y/REhdAfVPbPzQuvD617R8Zx2hT2bCbtv0j41+EB2hzp0xIkihpKEGiVSKtJhZBSj1JmZKVYRyj\n",
       "TWUcIsowTqbUeAyQb7Ddh/Hjb5tMm7sNwDhLSJo21Q6E2PvARvJhbpZYhObMlKGwhgxVokTXFH2G\n",
       "Y/t7AQjYsizLsqyEPr8V2tEYbDf+z+NOIBv3PEypi3lam2nzlLZ/wV9ptjCUnCRI9pRNuSOlIhJl\n",
       "tnDXq7YEPK3tH/GBRLmFqBCyISKMBDqMW1Em8aHt+5it12/HRBEtElscB32P2ghRVkk0+iAS3WOr\n",
       "nW2Ps94fPiqlVhopDD7Bl1KqGBNljQ1WzeVZ84MsUbJritSJbCh2bFmWZVlWQn9HTDSRufun+2+f\n",
       "EiUhwuj//9raJm2FBsiOja82W6Cbch+kzVMb0O+PCyJlPsh2Zts/Nk6izUidvR+Me35hn8GPZd5G\n",
       "Wm3AB8U9oz+Ll4I5oU6OicJTZWgT+TMfxSZSaopEu99EiUT3Y6C1x220qZSaaqSwjyExShYTZa35\n",
       "qjHRjE/vh4gy/nzDO78TLLM9XqP30rIsy7KshP5eEg3H7o//7mEmbIIah2ON2AD1rc6HfFgNKSNK\n",
       "1tqPtv2LrwmJsjrR6jZpiDIVH5qdC87LakEzbf82FJtcPQ7HEFFGAs1m55JxUkwUvU7YYLx05XuV\n",
       "wokV2hz8ic9Ekogo0esMbSJaZOe7L3z7ud+TKBvXU+qfkPGL6lJZk3m2pZnSmu9oTDTOw3xam6mR\n",
       "ZvWSDNxhTsdELcuyLOtcnUuiZ26F9ni+hS3NKFE2YBMoVa3zPLop91kbdv8Lxkkdi8h4FPc83IB+\n",
       "4YuOqRtvKx2LkE2jzIzPX5Cde1p9qBAHHeYm7oqkbFtwQjoOEZ1go3WiB0kUjVuRKKNNmUT3Y1/E\n",
       "9nPsfuvjtD/PKw3hW5s7Bp2xXdmKYNXOQzSrl2XgLnyG84Sf1yRqWZZlWUV9LiZarD2lMcY2+jBq\n",
       "ZD1sj8ZS1QzcMomGY0rm7qfqRFlf3RSJEhvrZoRrOUMgvbWOCP8ZXw82gTbPzM6NJEnjpcTn8HZn\n",
       "vxUTRWRIbJlYqEykCUqVSfS+8EFzCrSZJtE4vr3odAu02vntMdQ/j9e3DtEyW5qpMVFlu7Lok+08\n",
       "RDNww3h0Hm+FZlmWZVkX6hwSLW6czeZcESgkO0B9sZ/uqd2MhPGQRBc+vS3TlQjNdbRONLvDC6PM\n",
       "pw8YTzNwCaW+ajr328+eCANlbsQGKZXR5knZuUp/XHTscMeiTlMMVYyJIrh7p2otKJxDpcvgO9Ef\n",
       "8svSJhm3jHsC/4+RKLmm51wjpW7d+O0x7g6yeytE2ftl4p20TrSYZUtjosy2n79ZlmVZllWS/xO1\n",
       "LMuyrKJ+t9lC3FS7M62WY09ZlhWWiK9stqBsyq209kNz/Q3NFlZLvdm2f8+l2yG6H5dsu1+o+xf2\n",
       "Gfw/XeJyq9mkxKI4z9FSF6QzE4vIiaQlW8VHsYnLsmeN65dVl+3+wNLrqcu5IaFoA0lHi2Xd4dhj\n",
       "XF8iE5d4q4lFStLQ0JDhaKlK8EFzKTaTqGVZlmUV9Ve0/cu09DsleWjh01/Dlc0W0luhJWx/VbOF\n",
       "SKJk/Lht2X77CYjyeQzRppI8lClxYQlC1RIX1bZKKEIki14rZSwKZRYTi44mFLHkn8EvHmNkCM6l\n",
       "NFvItO9D10Bp8QoSJSQJzxebNIR5kG2bx+90eu+ulyUWKa35WAP6FFH252UEW7CZRC3LsiyrqF8l\n",
       "0f3GPRPvZE0TsmSXpdTVht1ys4V4beK4qaECsWVaA6JjVzRbYD60VCVSZ2szUdISFzDujihTIFG6\n",
       "pZlS4qLYjpa4NGBra5+PbMBN6BPSJnidioVG6uzHMUpltCmMk2iT2VQSXVBjf2wDlMrindvCBmOq\n",
       "t3l83PKho9SdTl/btL0UGzewDbfT1Ljw6f3S8dKFzSRqWZZlWUWdQ6JfxCY0VKBEtz8maLV/Xs3O\n",
       "VbJrD2fnMhLtxklboSVok42HjRger9VmC6vM3bEhPKHNGAu9/zOP+yuzcxGlKtm5iZjoKW3/og+x\n",
       "EZBkw15iEwAby65VfChRotfKuGzck5FksJVJNPqg6xUycHvbRKS32QeOv4XHmVL3Zg1DA4cH2kHq\n",
       "e/qMNpkaF+OhrZ/TMVHLsizL+pwwiUay7J8fjIlCQgqPvV+GVmnck1EfoVSaMQzOe2WdKLqmo5ty\n",
       "M4LN1Imy7NyNESWMe0ZbMjuXxj3/puzcOKdKqQsfOQP3E/WhZPJUTSjyQ7QYx2VpkxElsp20ldlE\n",
       "re/GV2tBIwGTcSC2SWOiU7yVUerrg92pdG94r1DfUWocjlXjpcFmErUsy7Ksos7NziUE++fxvzeN\n",
       "aQrUp9Dqu3HVrdBW9ZqIDGmdafAd5gLjKInGayMkC2ObCRJV60SfHYZo3PPRripNqcGf1Yn+t2fn\n",
       "rnyhrVeiPpTSKppOGQB8WAP5yUewpbc7E+KeadoMc7NxjET7a4qZt5Ao0XmVzNtaBi6jzWkuct6x\n",
       "C9LP81hnOvxFbmvbP4Fcj3Ylgrb9OpplWZZlWSVxEv0iNnHcfpMOY3UbscVHgVYH2iTjJrLrxyUo\n",
       "VakFPbNOFJLv6mc6gTYzdaIwu/ZJi9/j694fUmqsBXV2LvWZ5mtrn6Uf8U+JkKgSC336Eh+pGxEg\n",
       "w2qdaJk2LyBRqSuRUgsqZN6Ksc3XF36gVXiMZJcD27PONGTyttYt5AQy7G37t0M5Xgps8U/EJGpZ\n",
       "lmVZRX2XaVO0KVmy8RH5s7gn7VObpEXazWhhU3yG603aMnWiUtwUjEf9cRmJvuKegDJXBHpqdi6L\n",
       "ezISzWTnAtq8JDu3GBOlXYk+UB9KyRIpQZvQT7BdsVMLI0o0ZyXztkyi4LyZWtDBX49f8vEoJnrM\n",
       "FjN5W5vjlsOnur84sb40OrljkWVZlmUdlP8TtSzLsqyi9BKXRGs/mODTZptUohKTYvrxC99hbjBO\n",
       "SQxStjIrtxRM2jJJQ5nWgP0xZSu0bViOZUu1Cxts7ceSh5AtJh2xEpdsI4azSlzQMjCxoaShVdlK\n",
       "uu0feE1XXyuJRWRCtWnC058s8cIl1zjXby3ZXrmcqy7LstZ8MaEIlK/Q5KNzlmUP2zqf+9f7pKPn\n",
       "0iuwxaVbZBsGLsaZRC3LsiyrqO80bZKGCmhzbYU2lRKX7HiptR8gM6VJfDlpSflZ2mxLlbgwEg2v\n",
       "ka1vxPDnuU0ZSh4Kx3b67I8ptKlQKi1jQTaSdPRrJS6KTUw6Wo2Htrb2QaLlL6spGdoi2kS24Jcu\n",
       "cTlIopAoA53KtitJNJ632lCBlK9MJSv9c6WMpWrrG4uuyl+638/7+6QjmlgkJCQ1YHPbP8uyLMs6\n",
       "Sac2oIdEmKHNbsoV7aHxqNSEEfA0jpEzmDNTBqM2cqDx3WBLl7gwEg3Htp6UnrSJmiXEuCcg0S3Y\n",
       "sjHRSJ1vbSxe+lslLoqtWOIy+fZisdQ3vrIYge5TE6KkfowWkV+VNklsc2pAfwe2IqWWSTTQJmwS\n",
       "n2ioAMf9DTHR/Rr+vB//Nf9tPFsI7vHSahlLf2j/Uwy/qiZRy7Isyyqq3myhGzdliHbDMrRJWwIm\n",
       "xysN6MvZuYkYo9JUH11Ldpu0TNwUkSyNe8KGCpmYKGvIoGTnogzcT2fnRqIkJCpn5xZioow6q83m\n",
       "M3HQYcpkLPQ5Xo13rmwKZYokKtFm0naYRDOxTdbaL9sQoUCrw7FAjeh8zPYFfv+fj3/C6+75Hc29\n",
       "mx4ZvN3vw/O3IWTw9srES02ilmVZllVUuQH9HZAo3RosQZutzXFOpYH9QKmL88Nr6scxuo2PhGSV\n",
       "GlJKzsDGakgzcdM/Q4ZbjHsioiS2K9r+pbJzky0BD2fnoizbTHZufxsrtARczTP5gzHQBykbEz0p\n",
       "FprNwIXjFgRapc2BYANJsk255Xjpom0fjG0ySiVZtii7VqLUg+37niSJMnAJSUaihOcLx+F51ysx\n",
       "W3dN0ybg1XjpfnrgYlmWZVmWIL1ONNjULc2m7NxuyhXZobmUBvYqAbO4p5KdqzSZZ9erbKGW3SZN\n",
       "yc69Pxu090SZIFEY91Qyd4sdi6RNubPZuSReqtCmEveEsVTBxuKl0/F3toXPW39BkCCnyYVxKG7J\n",
       "bAJlXrLdGbKdTKJwA20Q95RikyS7lmw7tn4UbTA2GYmyv16Sebuky1xMlMVb7/v5u48n07Fof2IS\n",
       "tSzLsqyi0nWijCil7FyRYFfxUlojyeKIYFyWUldUrWYFK/Wl1W3SWFbwFus1qyQqx0Rj5i6jTVRD\n",
       "GokSZe5+AZtQC0q3ScvUgqrZuYLtio5F0pZmRRJNZ96Gcb+VnVveXPtKEt3HqbS5yKR9O65gk8fX\n",
       "ajk7p9kW6VKKiSKheGswffWdjrbRp5Ozcy3LsizrZPE6UXCzLlGjGJukNaDxkdEmoGNWN5mq1yQx\n",
       "WNZdiPbsbbMtUqa6i8uqZnWTafOTMVHW1UjsSjRl7rLsXLWG9GB2LsuyZTu1fLJj0eAv+LCBdFgg\n",
       "ycPUiY4VSZR1B6raEJlVSLT3qWTS9s8jrcJxf8i4ZHbulJULeuDSeCmpL50ok8VEe1ONUrfHtfx5\n",
       "fIYbcI/djEyilmVZllWU/xO1LMuyrKLkEheWxEOXbBeP/XOpEQOZO1Mig66FLREfbUCfLWORGtCD\n",
       "cXP7vv95OZ21nEuXepXEouRyLmvtBxOElKSjo8u5B0tc1JaATx+WfBTOAcchXZBQ9Jw6+oAxdMkV\n",
       "jDta4sKazKds1eXcftyitR7ygRtvV5N/2FJt8H8m2vQ/U2yWwJKA+rmVMpan8/w8LtVKZTBkfD8H\n",
       "WerdmzPc+/dwX8Z1YpFlWZZlnSNa4vKn+x+XlposHlsDyT8sMYgkHSklLtUG9IxuWUISbUCPkp0I\n",
       "5aY2CgdzPsnzD6LG/xmPnUGitGxmQaDVtn+0jEVsCRhJUqJURI2fLnEJr1GPMlo2AHR6kwWWIET8\n",
       "1OShyR8l6ii0CpJ4lCQgiUT7ORkRLiiVNYsfWCdQImoXCEmy0H4PJgEJiUmwkTw4L6NMJbFoGt+5\n",
       "SQlF78f1n+pz0+/94H6J5EyWZVmWZRHREpdsGYvUJL4YL6UlLmQ8jeGCcWybtFUslbUiVEtcWJP5\n",
       "mXy7u6U/IQZKafN/iO1oTPSCrdBgaz9S/iI1VEg0W2C0SbdJu6DEZTr+zhZVjYMOJ1hMTUgU+gm2\n",
       "oyUuZ2xpRmObnyDRZGyz3H5vUf4ib1sWKBM2kg+vpzl6J/SzJMfHcQqZtvai0y9geygSqUnUsizL\n",
       "soqC2bnZRvIKUVZjmjTGGHxpS8Fu3NnbpDEfNTuX/iz74353RTNvQ2yU+UAbyrL9m2KiLAOXNFSg\n",
       "jRgS2blwuzOSZXv2pty9lK3Qlr6qeuoTfJ6+ydjmFEMVaLM1ELdMxE2Rrdo0Ac7JKHORpSuPr9oy\n",
       "lAmaJlDaBHOnYppsHBofDjHaRG3/FP8hXjq67ERqErUsy7Ksor5pa7/OcSJKNe6ZiZey8wnnZS36\n",
       "ztwmLVOfekZ27kSgKPN2FRvtn6ezc4+2BGS1pMWYaKrt34V1ojTuCWKpiDafz/c5WydGqcFnC6+h\n",
       "TiDRlU3OwI3jDsY90THaZF6xiXHPwyQaMnDT250JRElpk9SAwpgqOW+VNp/XkhgH6TFk2/bjKG3O\n",
       "p5X8A3qaRC3LsiyrqG/WlagntD8JoqR1l43YhDnlbkgKHYfzI38Wt1QIuJqd+2+/hh/p8g+Kacbs\n",
       "3M4n1o6eQaJSTHTRiH4Yz5rTk7jn4Y5FAsluJ+4AACAASURBVKUi2sxm50aSlLsZBZ9sx6LnPEez\n",
       "cllMlMU70fhEnFSm1FWdKCBKpd6TEqVIm/tnXN52LEGUbG6FNtFctCH888DLNnUsAjWkLM56D76D\n",
       "/8K3vwSFTiltsuxcoOBjErUsy7Ksor77G5JqV6JqBq5kOzo3GBfJVx63oFu6STYiZ2ojGbg7gcLs\n",
       "2is6Fp28TRqMbQo1pDDuqXQzAjHNzKbcMLb5F3UsmuZBOpFEp6lJvJPFS2l2LomJZrY5g3WbHyJR\n",
       "Wl+qkGjC9pXNoM10HGJbmjHa7BXHdabDdZ6MNhe+vX+CNpmPSdSyLMuyivq+oiuR3Et28TgcI7FN\n",
       "urn2Yvy7a5JqSBfnQD50h5f+eneaQCQZCbScnavUkBIbpc1qTDRZQzoRpdqx6MJNuVlXoks7FjXs\n",
       "s/QrSOpGhOKmiBqDrZydy+KdwKfcH5cRrECLMTbKxiGfZ0xTpc1F56HWeJz1a5Wd25820mrrje/H\n",
       "IVyjdaLRdzzVj48S28xn20If4mcStSzLsqyi/J+oZVmWZRX1zZZX/xBbdtx+7GjjerUBRHW7M9r2\n",
       "7821MZ/hGDjvvBzbJw8VSlygz9ENu0lLwHRikZJ0JCQPqYlFZ7X9O3VTbmJblrSgJV+kCxOKWIu+\n",
       "5+lZ8hAYR0tc4rIqmjMu1SabJlyxnHtDa5DxsyafPW16cHDJFibxhNIW2mS+v1wlsSj4Qn9lOfa6\n",
       "BKHqXCZRy7Isyyrq+093U7Y/j40V+uf/Bh9kO1rGgo5l2/7RJg+EJFPtDZW5O9vUZAHSJkv+IYlF\n",
       "5RKXTPkLa04PbDR5KNOIAVEqaJqQaft37ylzQakD6SW2SaO0yVoCdqerNFmA46uK1Lg8ESZDZjva\n",
       "2g9SZqRFQJvp7c5OItFTS1wCLSJKnaizdbRJCDY2UkBN2xmlSolFgCTBn8YhH+QHmzSQudxswbIs\n",
       "y7Ku1zejKLnF3lFbgmCvaPt3lFJRLJbFW19xS0B9MTbaP8/YaBnMBc3pWbxT8Uk3p0e0eXbbP0Kb\n",
       "8qbc4bZXLnEJPpRWV6+PiMRE/5bWfszGGir89STKaDMQJWq2wBoiSCUqqMn8wrc7xOcOPnDOftiK\n",
       "jjufK0tc3GzBsizLsq7Xt0p2SrxUiaXK48Ljn/BanTtLwFMjeHC+qf2fOPf2JDMhA3dotkAyd1cE\n",
       "ekl2bjJeemlMtLgVWrntXyRJ1ogBxVJJdu7htn/R5wyhmOiCQJFPOjuX0aZAmanWfiKlfoRE2ZZm\n",
       "YPyqMQKaS2mogMbRJvMPX3VLsr+EFqkPWXThmbvb26kty7IsyyIaSDTSppqB+yTJNj62NhOkXHuq\n",
       "xESLtCm1IkyMYz73gaKKtDlRJsmu/cMyeEl2bjVeGmlz8Bc25T68YTfIsqW0eZREUdwztvZjGbhq\n",
       "THRBnpfWhg4nWh9DJPm8hGrck40jdaKrOs9TN9A+SqJCLSds+8eybNl2Zclxq7gjq+lEMVFElFMj\n",
       "+dmFZ9eGa4LnIHNHn9Za+9qILQ7cZr8w3iRqWZZlWUV9n9mV6Ghzeki+V5x3Mf7duFgXyjbu/vOM\n",
       "wbEMXEJ9tE6UbZNG4p6QUqvxUtaAXomJFhvQT5SK6j0/0LGIxT1ZxyKVRKWOReDYWVIaz2cycdEx\n",
       "qfNQ1sa6EgmUSonyi9jEzkGr85WzbLPblQVf5I+2QlO2JsvWa1ZioYwa00TJzksCpcFkErUsy7Ks\n",
       "ouSt0MrdjPbx4TU6psQmYSyWxTbR3BlKFcYhH06UpN6T0qbScQjQpkKpV27YfWlM9ISt0GLN6SUd\n",
       "i4hN6lgUjyNfIHRDTcGV3IGvyBN2LCrGRKVaUJZdC+KXNHO3mmVboM3+Oc2WZZm7YXw2O1ehVGUD\n",
       "bdoBSMzApd2IYix0Hk6psZyVuxEbPq9J1LIsy7KKGmKifxaPrb2pIQ2PqL40G7dcUSaizfIOMWjO\n",
       "AqX2PlovWhKbpLSJKDNTJ/qhbkareKfiM9iO7vAikuiyd67YsYh1JSpvyh18rtx4e5x0ebqZMuPx\n",
       "JsY9WbwUxS0jQRJKLXclutLWfZN+BfJUYqrpuCfKzo0+3ZSrrNzeh2bZJjJo5XjpwpatF5VoNWkL\n",
       "tGoStSzLsqyi/J+oZVmWZRUlJxbFpCHWiIGVqtANu5ktmdAkLU2ftNS7oZZ3yrZjNOkILdmipdpC\n",
       "s4WPb9iNGjLEJVtgyyYWrRKEhnHVBvR/S9u/Nvs85wMuTHTJFryelm/R0q+yZIsSfKq2VdJQtrXf\n",
       "BTa4rLpIGhqSh0KpidSirzsPbJaw8IFzAR+29DolJs2XVF+G3Q9s5JoEWzqJSLeZRC3LsiyrKDmx\n",
       "SClHoUQpJA8pdHtKGYuQrKSMu7OGCh8rJ1kkDcnNFjKbcmdtpCFDJEpmKycWnbkVmtD2T9p4m5Ao\n",
       "pNQ22mAZzJkiSUPP00bKLCYWyQ0VWInKgkDLDRUuTB7q/aQtzYTWfpRS+2YJcXx3OimxiI0PPp+y\n",
       "sZWXaBsodTvVZhK1LMuyrKJOiYmyMpaJNruTVxoxqE3xP9GcPk1oMbZJy1hYIwZWGnOw2QKNlyZJ\n",
       "lJWxKPHSwzHRK7ZC+4va/j2vbT4kKR0TDTa63ZlAojBuyWyEMi9pqKDYwNZgd0KpTwLNxD0RpYb5\n",
       "WhPjnn+IrY2CMUYWL03GUqMtQ5b9XFKJSuczuas2/LdhErUsy7Ksok6JiSqZsNWGCJRyF9c2XGeS\n",
       "NqefE4y7NrZJMncjbbI5oY9CqcnmEEp2LmztF+OmZMPuU2OihETvhEQPt/1T4qXd6VJt/84Ui4ku\n",
       "bGc2VKAxTUCZLVLflSQK4p5P+mJxT5Z5S2j1yrinZAPNGq6MdyqxyS/wuwbPQbJrTyZYk6hlWZZl\n",
       "FfWNYpss7pmtE2UZuGzD7pWNZeDS6wVz/wm+aM6eRLeYjXuYRE+IP/5ZxEuVjbuvuqYVpcK4JyJZ\n",
       "YqvGRGkNaSUmqrb9I7Zl3LM/RmKiNBZ6e+/EMnBZDSgk0BaOMdpEtCjYYA3ogkD/irhnIvN2CLF/\n",
       "IO6p2NB509TJaHF3YUQY5qFxU4Us382124Bxi09MopZlWZZ1SKdsyq3EJllzera9WoZkaQ2pGoud\n",
       "rru/+1zFH0+IidLM3QLdHq0z7Z9Lm3kr2bmARGG8tLpNWjEmutwKjcU9WXP6MzoWtWALr6GYTUx9\n",
       "rNSHnlILykgy0i3L3D2TRBfxy8H/4HZlsKvRJ+Oe72wN287MwM3ENGHctEiWlFKR/wbPaxK1LMuy\n",
       "rKKGOtFMTLRaQ8oyd6sxUSVOm+109JyLZp2iWN8HMneVrF6ZKDPx0oPXyzJw+/HlbkZHY6KMREkt\n",
       "6Cc7FvWS6HRyBlMmY6Kp7c5OqAVdZeAOxy7MwI3xz94v1n0O44BtlXk7+MR5Wmc7Oe7ZH2vBpsY9\n",
       "V/FLZGMkia4pky17CqVm/E2ilmVZlnVI6TrRDDUi/2zv3GpMlGXgUuJ+PPK+uDFmR2J9CslC21Hq\n",
       "S2bg0rhnNc4qELu0wwvrdNRT38kbdv8VHYsasEUVSRTZJjoltitrQZUM3MH2Wxm4bByIl0aCpLHN\n",
       "P8PL4Tz39t5WJslwHNmkjNoz/AkZUkrdsC/ypyTK4qUmUcuyLMs6JP8nalmWZVlF8eXcE5KOYrOD\n",
       "agN6OD6TWNTbFo+Dn1KWkV163Yq20nJuXz5T3e5MGMcSmejPRJa9p6QjtdlCOJbdsPvKrdCEEpeb\n",
       "0Eke+7wfh7TBhKZoA+cpb3fGlmXjUq9QxoKOVctYnkuuahkLK38Jy7DDUu/uI7T2g+33oq3TPSwN\n",
       "w+VYkKxUaaQA51YShPpJ8fJofDqOf7+8CsfDpV60nBvdvZxrWZZlWZeJt/3rHKtJR3ELs2wrQUq5\n",
       "4RxqU3zW1H6iH7h9VyQt1lhdIFl07EwSTVHqhdukQdpE76HSEpBQ6qcTi2IDhs4WyfEG7mxvw637\n",
       "KIVOz1QkUEikT1r9+Xk31CTiSXsgseisMhZmk0l0p7fHMdpIHpWxIEpd+AznWyQYtZZrv6cmFkV/\n",
       "lljEqDGTmNSaRn10zkwSkDBevSZEtyZRy7IsyzpXp5a4VMtfMq0E1Zgoo804172/k17RZv98olVC\n",
       "YZtKlCdT6pmlKtW2f4oPLXEJPoMNbbydacRASDRuiTY8X9PmjZAlIkpOqe/H1/Vz7WxGRKAKpT6P\n",
       "BVptrSPWs8pYmK3cUEEtYylS6rLEBbX2C/P1tnJM9KENvJDinvsQRmj9NSlzMsrMkKwaLzWJWpZl\n",
       "WdZfIXkrtNS2YyfaKG2GR9b4HsVEn3MxmkHxuBRRqvHSX4qJMkqlWb2FjF+18USmJWC5OX0uJspo\n",
       "kxEltz0voEV9MhaKM3HXNkakkg1S6uMzOKuBPGuo0JNhI7ZnI3mUgZugVIUyaRs+EhOtNlSQKLP7\n",
       "HVTGpzNwC/HOoyT79rwLHzKnSdSyLMuyipJjovdwTM6ETYxT5mRbqdHa1W7c/py39lMICxEPi/Up\n",
       "8dJ/iO0kEi1n2SbH/Qk/J5xbaQnI2v6xmGh3jzjVkCIS/bnj/3r8tt+63+RIor1mSn3vM9qeFzLZ\n",
       "4vgzxMiTxUtXlMloVbU9j237Y/f7cBqJhkzc1kBss7OlmsSrDeQX42gmLYmJUoLdZluGUpVsW3RM\n",
       "JsJ4vd1zqQF99bwmUcuyLMv6KyTHRPfn9/CojjvLVs78BXPzuKdgQxm8NMv2g83pq3T9Jznu2bFI\n",
       "oFRWc1vOzgXjhOb0QxliiHMiamS0WSfQY+TJeDLDrZhMEZGOx44SKCRRZIt0miZR1l0oEGhPmy0Q\n",
       "KKzJPGiD25a1YBNjopQgw5OBUsOxbNyzGi8tUebVJLof+xpft/b60jCJWpZlWdY5+lid6Fm2csej\n",
       "bu5t2oQZxTQBZa464tAMXBbPqxLshSQKiRJl7hJb6ZqK2blqX93HZ/4VaLN//rUg0v7567EXo1Ts\n",
       "0+tz9aH7lejZuFdk56ZJNNq2nlIDnbJty2Imbm+TsmyRrQm21tkWtZxnZtmWKTW+/hT1/Y0kuh9D\n",
       "ncketptJ1LIsy7IO6ZJdXE6xhUelq5H6s2jUxyiTxfpiPA9RFIsRFrNVz64zfWur1Imqc7Peuey9\n",
       "GAn0q7tN3zNtX9Q513lm4p5XxEQR3c5jcuIcq2fiomPlDNwrbFPctI8j7n1xld1YhD63g41l5z4e\n",
       "h5hmmEvKsgW2Z/xym/0OxzTR3OHY/xkSReP2euc9m9+yLMuyrJL8n6hlWZZlFfV9B8R+5lZoZdti\n",
       "qVfZLg39DNtQXC8sCWbKX4bEF2XplSXMJEtcpnHJJJ5Lyl8WS73ZZgusjAWUvzx7lz/Wp9CSLUss\n",
       "yvioyUNKk/lqA4aceJPBlW1cqs2XuLBl2SYu2d4LS7393/u2lzrBhgqxHIUsvVJb62z7hYfl4N7/\n",
       "9CSg/tjRJcx/hsPwfNUylv+K5dzRxyRqWZZlWUXBxKLY4q9/fpQ278SmjEuf93nnlNxOC5a/LGyw\n",
       "GYCSdFSlVEZtiSYRaM5TS2MOJhYJ5S8qbcZjiq2aWMTKX3rltkJDiv6IDNfSmizMlBpJcryPX1Mj\n",
       "I9l53BcYp5PovR8/JR313xT7KW7vbbSRfOcfCVShto81NkDjHp/IpclD+980OK9J1LIsy7L+b4q2\n",
       "/UPx0hg3ReP+FMcprQTR3CyGOzVW6J8fbfsn+bBmDVqsb0mbg43FTT9d/hJiqMp41oy/G3d7UAWK\n",
       "e0aixJS6DeN7W8bnjJhoLUpZVfZsa8pUiDLSI/LnRNmf+UsetxNo/9lPPsPfD2u2wEpchktrUhkL\n",
       "OnYqbVZJsns/etNhahTP+1skOrXxA8du78eZRC3LsiyrqO/+ZiPGHdXY5n3xiMYdjcFmm0NQWpTi\n",
       "nijzNj6KMdWJsM5sCVhoDQhtxcxdqdkCi5ui9+Lnsb8Z/AoEimKb2DbS5bUxUcR6u61XPLamTo1M\n",
       "j8dEeds/TKD1uKcaE73L49B1U0rd46Vt/z0ETRPQ60oGLjpGfQJZomMDfYWsWmlrsX4OgRpT49/N\n",
       "udtAs/ezSbTPyN7bRj7bR95mW4s+6JibLViWZVnWIdHs3IEoSWyyaptimmDc0ydcIzqmN5k/OybK\n",
       "4nlidm6qJeCa2nDcNEGyZ2TuTrHQRJP67rlCm9XsXNb2rxoTfR1DlNqAbT4Wx50ntRY0HlNimtW4\n",
       "J7PN187GRcocfUYMG2tQ9++JPYO3+7uh8cdCBu5wLHzBQdrM1muSOSdq678fwniJ+vrxjI4/SaJg\n",
       "i7sndfYfwkl0+/y+sCzLsiyrJN6xqLctHo/YGElO8dlwk4WODU3mI4kO9CZQqmI7WmdKiZCRM6oh\n",
       "FWKi6L2QMndPolSRRBltRkrMZ+fq8dIzYqIsc3flg21rn7z3+1rQo9m5nybR1Tyt9UD4Pt7a15du\n",
       "++/9s6tRNQO3+2metPjP6HMKbS6ybJE/reVUSLYfH7JsP02ie7xz6EqXJ8pxTjDueZ49o9sxUcuy\n",
       "LMs6JD0mung8w6acT8ngvfd3pZmuRDTu+bW20fGsYxEiwmoN6cJ2Spbt0Yxffbs0RJSYRPdjc9xS\n",
       "scW4Z++3io0yn5/nLRxTY6KIt2a/Y0Jkx2xrylSycz9NoqtYaE+Us611tnXm7n5si9TYTyJ1AELx\n",
       "x8cjpM392Jm0GTN3AR1PvXOzscIvYkPUFwlSOB/Mss2QbOso8zFX3xOZZu6G87hO1LIsy7KOCdeJ\n",
       "opjohh/PsEnZueSaXjWh/Zr4fjcFOhZFypRjmotY6tHeu63N5EopVcjcZXFT+F5k46WEUmOmsJCB\n",
       "myfRbJ3omlJXWbmfi4muqVOrD5292ag5G3edXatk3l5BoogWtRrSGQ1ZnWg8hgh2ItIf43iaIbs2\n",
       "E+9k8UeQnSvRJviyXdFmf4xl4F5CotGfkSSIe6bipagWVLhe2LFonNMkalmWZVlF+T9Ry7Isyyrq\n",
       "G5aMtPGxf37lptzK+VDy0fMYW3qFS71hyXfwZ0lDX+GR+YhLp6wVIWnIvlzGlZstxGYNYkvAaalX\n",
       "SGSSy1hqtljGcrTEZUwsYku9LRxbL/X2+u3EIqXJwgZsmc2178SGl3PXy7HKUm8sZ/k5pi/Zqku9\n",
       "r2Sj/UsTLPVKSUNoyXb3rSYIheSjfo7Msmp/3v37jJbIKMujfWIQW84NST/puYWko5hgNJwvJhi1\n",
       "9mr7N85pErUsy7KsooYSl0igajnKWY0YlPOh6321+BPKUXq/sxoxDCR7sJFDmlITJS6w2YJC3qjs\n",
       "htDxgkDPoM16I4Zo62kRE6je9q+WWHRek4XcjNGWbSCvND/YH28DESrj0PXmk4Zw8hEaPx7LUios\n",
       "f4kEqrT0Y0R5NEGotTfUF0taEG2G8YMtJP1AWhQSgxRKZc0P5LkjZYpNGhalMSZRy7IsyyoKlrg8\n",
       "H8ENVLVUpVo2E0tdUAz3eQcCy0KqJS5sXIbeToiJMlpclb/QuCmJX6LWfjBeyuKs/wzjzqVNxTaT\n",
       "ZKUlII6bvifRRmws7qnERG9vPfAIdCbGxHybs/e0uhMeHz+PQzFNbsPN5VHcFMdL92MzpabKX2hD\n",
       "dxKjRA0ZqK0FGyBKZsu03xsojJHoByl1KFVh13uQUmNsdHg+/iwmUcuyLMsqijagPxq/RMdQdq2y\n",
       "0TdrUi/FJu/ERrNzhXjnGc0WIk2nY6IkBky3O1uQ7Ns5F1uwdbY9hPB5El3HPTGl4njpDYz/fExU\n",
       "483ajOsM3EiNvZ+WZRvnm+dUtyvjW5n9SGnfx4lyv8JcTPT5eW7geuNG1q2t6XRosbfbAGE9nwOy\n",
       "U2wxy7a3MbKrUiq1VSgVXLdEqSwD9xilmkQty7IsqygeEwU2hRqvzM7tx0+UCckOZO7SuOfX2jaN\n",
       "Q3Mr2bnsmk6iVBg3RfWeQrxVie92dHt73qGt45AKUf5DbGwrNE6iOqUi2sSUuibRSKAo7qlQ55yt\n",
       "G2fhI1hMVIl7jscUEt0ej/19OhuHfVqbaVPJvM3Xgm7DeOTfzxl/p4ca0uffayJuOXwHhVgopE1m\n",
       "K1Iqo7dP21b1oXIt6JhBC7dJk+pE31OqSdSyLMuyihpIlMY2N/x4tY1l53IiJLRZjpcu6kuVrkbD\n",
       "sWTmbqW+lMZE1Xgpyc4lHYu+Hr9JR2ObCm3irdDQuBj3fNlW2bl6x6L3MVGcuduGY5g2lZioUlW6\n",
       "jm2q2bk5EmVZwTNR3p+fy3vavA+f61cYX82y3a9wTbBoQwNqmzJi25oyabYrotRIj/0chDZjjLK1\n",
       "tow7wrmjbz/3lTZGhoE6e79qnSiKsy4o1SRqWZZlWUXB7FxIhovHT9lQLHbuLgSoj2bgZuOli3Fy\n",
       "bFOxgTnZRuGrOeWt1Irx0kC1Sg9btm3ZOb1zayS6zs6dfyZOqefHRFksdD3qNXLNvcgnS5lHSXRt\n",
       "6//OtTrP6DOTrJJle4VtqCGNcTWYmZqh1CSJwvhh9GdkmCDZK2w0birGNiNlwk25v0Zf5O/sXMuy\n",
       "LMs6pnR27q/bYIySxT0R2SnjWLyUZeAqmbtHs3oZHSdjopE2k7HUWAvaP8/sqnJG3JOT6JoyV9fL\n",
       "OxatKfXvioky6tt9Z5LEdaKRFo+RKKJNpb8tipfOcc/+rLUsW822gfOF34OhhjRSZsjWbW2Od55C\n",
       "opHsesKK8cOj45GNxS0TtuHnZTYS23xSJqNbRLA4BmsStSzLsqyi/J+oZVmWZRU1LOeGsLK+9MoS\n",
       "ks62XbJ0Cmww6WgxTimD6Z9LJS7qUu+q7IYkS7FmDartmVD0k/LFk4bm5AvNlluyPbqcm9kujS31\n",
       "joupf29ikbKptrLNGd54++vxOC509rZxyVZJHlqXuMzLuv27otvUMpbX8/33Yl7qRRuxT9s2xiXY\n",
       "/tipy7nK+ZQl230pUxnf5vIV2vZPSBqSl4OFBKFnohBbIgZz3sbzmkQty7IsqyicWETIMO7SM4wL\n",
       "j5fY0rSZTDqSWvOxpCVWPlO83lSJCxlPmzWg92mdWJTbWmwmO8WmNGLQmy1gOh6vIf5MyAclD40E\n",
       "29Mj3yatDcc+lVhUaTL/8/xrYUMk+qOeUr+ma5nnjmT4M25MFurLV+7P93ykzPvw+/jeppSqZCmV\n",
       "JSRtEhkWSTSQ0jgXIskFEULaTBJlpFqY4AMIdpU0dEWJy9BQQaHbsdTFJGpZlmVZRcFmCzE22j//\n",
       "CG2iY+W45wdsd5Vyz7IlS1zidTKSJU0abt0d24re0DFcqqLbPrdNGoubxtjmTN7aNmm91jFRJRY6\n",
       "j+q1LmNRSlwwiT4oKhApI1FEm3OLPnTsPo17UepLc0x0P2tPsiOBovglo0a0MnFf+MTnK1uZRCMp\n",
       "IXp7HsvOeZA2KVGicSxuuSBCucRFiW0mbW77Z1mWZVnn6nvOU3s9Vm0ybSayc193Jig760PUt7LJ\n",
       "c1/QEnCVnUtjuT3Jkp8lxEIV2kTHsM9IfartChJdxWeVjbv7n08h0RWjja9Hv/d631CBZefqJLoi\n",
       "WJVE319vJu7JbX1ssy18XlYe23wfS0XZ2pFWkf+TSCk1ohgjoMVK3LM/dpQ2JaLsuY3FJo9m51Zt\n",
       "Qlav2/5ZlmVZ1jmS60QnW38DxDJ3GW2S880xUbTuHamPUWqVYMk4KQP36paAQpxWasa/nvvV2m+d\n",
       "gajFRN/Tn2o7N14aKZPFTRFtjj8fJo822WYCPRoT1aiv0tpvtOF5fo7pcU9e79kk2yrzFsc9q0S5\n",
       "npNvOtAmm0aikQgBpdIMXGDLxFIpbQYa649liFI9n5KB28h5qzb6szg717Isy7JOEawTZUT5tIFx\n",
       "KF4aI0FVG7wra/HOK0t2iG7jnQ+ZM55fPu+ZNqF2ldaCEoINsVCWrZqPiUafeW5uOzNeis/HSRT9\n",
       "LJ+OibIRLDapxD3fxzvZpt6fiXu+zhB9Pk2UR8cNTfVjdiylRpVgQ0yS1ZAqW4Qhym3h/MN559+V\n",
       "Vd0lPA8dT+KXR7c7Q+dzTNSyLMuyztF3n9z1jFs+Xs85bJw2ldhm1sapD9ftjP7MdpQIlTjtp2yZ\n",
       "DF6BZNsrFopjfesYYS4miih1nBvZcLx09D+TROdOSfN5tTrR34qJnk+ie7z0t+Ke/dXNnYfWJMs+\n",
       "n+q43raFz1Ui0f7vlcYvF9SYHUezZIu0qRChGi9dxS3T8ctiLNUxUcuyLMu6XjA7N5LlO1uk0zKl\n",
       "AiqeqQ+sm1NKVWwH56xm915CqUrtqpa5y0hy7hc72yq1pD/HxrlZdi7bjYVn9b6fk2fw5t4LTKm7\n",
       "royJrrNzlf64t852n+Zaxz3RTznHQo/FPX+ex88a0epIkrwWdL7y7ArD6/lNHjeQ7GK3kJ/n7Hst\n",
       "UiYbh+KACm2CGCOlxZPjpay7EItfyrHY/JwmUcuyLMsqyv+JWpZlWVZR3/OiyYHEom187J/Hhgzo\n",
       "GJpzTt5By5TKUq+6ZFtJGlKXbNlSzMlLvdnxoHHELWy4jZZjNRtKPlondGTKSXjSUa00Jr+cu06y\n",
       "+r3EonFZtdpkXtnKbFzOHROKvob79Lgs24/6gj69H1/qjUvq85IvX3pdL7dXl3O357Hb23Hjci5L\n",
       "AiKJRUrSUUwiYuPgki1bDiZLrull4EXyT3p8K9qUpKOfB5OoZVmWZRUFG9DDxKJAjWwLNUSUaE6p\n",
       "xGUqVUF3OYhS412DSpvxGLpjI0Q53bEdpdyiTR4/JhRl77ZZuzSecLOmTSWxSClxqW7YzUkWzY1/\n",
       "3vHYnDw0U1CvSmLRmmmrrf1GusWUeZ//Wlsk0n4mnli0+66Th+7w97BWjsJJ9PZ2XNa2hc+MkqxC\n",
       "fQMHLUpV+jmmJCIyjp6XkCyiRUR2leSfo+NlW1vbnFhkWZZlWedoLHEJlDnELx+PLCaq0CYbN957\n",
       "xzsPRH1CTBQSZYE2h2sSiDL6omtisYNPx0STJMobDNyhTS8LiePXMdHRFktc1vFSNG5uQJ8lUVau\n",
       "c35MlMcmWdwzHlNJdHW+1+9TJEo1JjrHO9/HPfs5lDIWJX6Jx+1E2oDtGKVGMh2kfK8ppSr91bMV\n",
       "vYno2PeTGEf89ZjoFbY22EyilmVZiAq/IAAAIABJREFUllXUN6JNdC+Yaaig0iYl0dWdD7rLgZRK\n",
       "yE6ysaxe5kModxpXpVTBJpPoeJet31Fj2uyfs1ghz87F48djx+KlSkvAKolmN+yeifR1jItRY5VE\n",
       "vx6Pr9YIL9t47NosW7Zq8T7ztk6G2jdUpNOjlIrpGOR6PN/PxHdB/zxDqYzQGKVeGRNFPs9D6jWt\n",
       "zl+zmUQty7IsqyianatS49Fxz8dhYLgL24S7lcEWqbFqUzJ3UcyCECG9m/tEdi76efcrqt3BV++2\n",
       "OaUqNZnVeCmiVPz48xxn8I7+SnwXvQe7EFOuFb1Rdq7S2g9dwau5/EvzsfdZtigmGqnzx3/9+xAJ\n",
       "9vjv2nHbFn6W8Ztt/enNPCfQsRxjDJSZptQEbf5WTFSOXy7OsbyWis0kalmWZVmHBDsWve5GazbU\n",
       "lQh1M2Idi+Y7CCXuSciOUZ9Kt8vYgRpTZeMUSiV0W838LWc1Yh827mo64PHS0abUkCq1pP3cypZv\n",
       "x2Oi8x0y4ldeCzr6MBYerwLHQkcWijHRLG3uj+/jnsx29e/aeQSrrDkkiVKJTSpzyjHRMA+NiXYm\n",
       "FtM85NOfj9ji+NZmAqW2nweTqGVZlmUVRUmU2kSiTM3ZX1kkwWzcc7oDEtfiKUkmsnPpHV+VUknG\n",
       "7/TIxqPsXBTPW99Rt8KdeP1OPhcvxXOuY6JanWiGRFk3o/XPiZlyrVhjyDJwxy3Noj8i0ZE6e6+5\n",
       "49BrVMyuvZI2mY3FnkU+S9quuN6fx3HDbvZ3XszcXVLm0fEtSangfEq89Zczd02ilmVZllWUTqJF\n",
       "2qxm7i4JlBElu9sA9AXv5iSSZD6ki5IU9zyrTlQbn7mD7/U3x6l4P961jffAPdpXd93NqMH3efxr\n",
       "eGn+NJRaUNQZ53Vs7jg0Z+C+rmneMWW+umtpk52vEZ/1ikr+GyoeU9YOahpiqtPfcn9JjLDi9ZHv\n",
       "0UiP01yr8WycQqmr+ZM+gwmR82L8cB7dZhK1LMuyrKL8n6hlWZZlFYWXc8PS7WALj+9sKx98DCxB\n",
       "Kku2ylLvmbaKD/JPL/WiOY81W2BLZd0Egw8ehz7F31nO5TbWmi8mFs1Lr+c2YojXCf8SluIbb38F\n",
       "n3lG1FDhlVCElrTjY27TgvOWbJX3UPuG+r3fQ91ne/NuzCKL2mwZmC29Tt9rynhwfYeXetkya38w\n",
       "Lm0DG70m3WYStSzLsqyivmGpCnDMUGY1NC8lDWUTi9idC6M+hQhTPsBfptQ4F2juQO9Q2fj4iWbv\n",
       "qJFWd9vvffTznmmLrQQRhZ3fiIFdUwvv2ZrzX8d6YtlJ8rWR9ssWk4ZwGcvsvf5rnq+bby22Xr3I\n",
       "0eZ8DWclJsXnf4+U75C2tkFaXM3dmZSyEPZdWybCIgGnCFalWzzOJGpZlmVZRQ0x0V1HiRLZkGgk\n",
       "iBJoHCjQG417NmIT5qzGRNV74ktLXDIN0pHej8PslKFUZlvPqW6vNl8Laxu4plSt/GVNwL1u4Fhr\n",
       "8e9pJFAUO+t/gtccfdPO0baP4FuSHV0NaMMj9n9Pm2xOTpS5b6/fjon2ti3mNdDWfkjkHYoEC2kz\n",
       "zkPGw0tRqW9BqaxsJ13GMpukJg1hnEnUsizLsoqSmy2sfN7ZlDknZ3ZMjYlOa+iEcqGNjKPjV+dA\n",
       "/iJtSvfZGZ+sanEmThArX0QXWRta41jf3a9a82FqPD9zF8dEx+tGqzW8oULcXPule3nTgffvE6c3\n",
       "PE8/Lreysf5d04kSP/7nKPv90sbH3iaRZ/xefTdeGRd9j/oAP0qp7LqRRptJ1LIsy7KKgiSKXmds\n",
       "yO/52DnP9aiEFtNkF3wg2cVzgblQLDYznlEqnZsQN7yBJyQbjp0Rw5rF7vzR+PeUim6bZwLVSCf6\n",
       "K7HUfHavkrk7Uyq/3lF44+24yfZLuBY0zvnS/Nt762yr90ClxjUt1mjz9Vwbj6Rc03q15fcIln0X\n",
       "tNlGa0AXc7PvLjleGsZns3rZaZ5zMh+FUnuTQrCjzSRqWZZlWUV99y/QDUzFtpG7I3bjpN3rIdpE\n",
       "rxnttWAjd0KDGIEqPtEf0SYYx2KwH7kHzt2l58av/Vl2bgO2mTZnmxLH02LAPVEqNL9T7kypSpYu\n",
       "ayA/b23Wa+xAhK/pZYv1nUrMmcU9MTWOvuPz6rizxjNp2Hdldu7z9wGSXZWPF/6M0JTxrYnx0uAL\n",
       "p1IINkvHjHbVVUKTqGVZlmWVJdeJKjaNNonYCeHrSJsi9Ul0iuZZnY/EDuBcKJ6RuXvMEvt43TxL\n",
       "tiotvrUap9EFmnNNHKot0tPxrNV1TFQlUS0mOr5T9+6e+PjPMl/HivT11QDs827O6IO+KDK/a9dQ\n",
       "6qeVvTqBUuN3Vzbu+ZwnSZTb2qTRapYyM9f03mYStSzLsqyiYEwUvZ7u/boDrOdudOeUmiQseje0\n",
       "mqeXYmNzxuNoXGKe5ThGsPEx0jIYDy9GIZas3lPJ7Dv736AfmzNrW835nlbRsXxW7/Z4vC/HsY23\n",
       "mV43+S9fnl3blraKD/sW4bSJzsf813Nrv7dHKfdvknDF6GOh5BnnBuOzMUZ63gWBsks8hVLzn7JJ\n",
       "1LIsy7KK8n+ilmVZllUUTSxCyizdvvOjoglF8Vhy+SKzHMuSkFZjVsek5CG2XIJ8PrnYVE0emsej\n",
       "ZVXuvzqPupSYt+Fl5N0XjV8vFeMSl/FYdjlXa983X2+8dry0zWxsWfbYki32UeZcz62NY3P9jUu8\n",
       "xfAWXEKtfscd1dE5LxjPkpzcgN6yLMuyzhVNLBpsxLi+X9OkJRalJtLGU8pMBLupDzmFPO7373vX\n",
       "UqjivY4TKfZb2bL0xAlWp1R0DJXG/BNaAr4aK/Rbmt3gPPi82jW9VPtr1kg/46Oe7/3c1XPgOY8m\n",
       "Ml0o9JGzRJulxJW9TCkMvCZyvrPb/73zk5xGm0nUsizLsor6ZsYz71PRzVFujmQMYDpJMQ55WL91\n",
       "Xna+K05SpYpzSBbp+DxnXNuxWOoeJ72D+11OktFXv8bRP2e7VsfXus7Xe+L9GJlSIjvpKlLlMFdc\n",
       "h5h/8sH1AJOoZVmWZRXFs3OBUbmnK9NmNlX4qSvvOliWLfNJzlnyUcf/epTmP1RKFC83B2skj47d\n",
       "yTZnSrOFl69+jbrN+nXRGGNVv501+2Gl46WjTKKWZVmWVRSNifbKEuhlOkx4/1f06XhVldrOoD08\n",
       "VzUfN0ttkQiztIkyb1dC2bmohnQ+b45ktXyIMz87Rb8VhzumT/8l/pVSMmj/RgnN9E2ilmVZllUU\n",
       "rhP9r791+u3boU9z/dFK3trZzhvDiCdHQ9q462gTNZBXakCV8aw5PbchP/39wVRfqwrFn9251aDn\n",
       "/BW8z739yF/bb3+V/V/W4wM2iVqWZVlWUXJMlOk/D1wzV1ykxlPDN3/jOzzeiefjn8q42SdHkqii\n",
       "8f24F7fP4zd4TTXajGL9beN8aM47tL2/JvQ+ofdgfn/G4+N1Rp/er0apa98zxilzaj/nr/210u+c\n",
       "s7/zkuP/i4nZJGpZlmVZRZ1Con+PPnQPeDvrro7YYJnnZ2Ob8QIwmWXGv8TJg1HqsQxcTliRrt/7\n",
       "9Mci/f14rW3xHrZOovs5XvO96kvnOlOe1Rtt6NzrVQi2GhB9spTKfx9YnFcRmufonFdK+O44vKrF\n",
       "iPJv7B51gRhBP2wmUcuyLMsqyv+JWpZlWVZRpyznfjRmnF2ikJYfzgyEh7luxAbHJZdpbnEcS3VA\n",
       "Fc9KUkxW6yXBte98tSxBCCW1zEu168QinBiEX4/H3i/Zjsuqo/q71vv0zrBUnVl8OVdPdsLlL2wJ\n",
       "f720vU4+Wi8HI3++1KuOi6ot2f7dC5DiIvP0ox/8qeTvNTZO0fpvpHR+pHJC1o/NJGpZlmVZRZ2a\n",
       "WHSYSNEEh9O22d1ZNuknUmaRbqXEpOQ98fpmfTq2bfOdfF7viWU95h2lrmmGU+46eShThqL59NQX\n",
       "CR+9+eutzGJjhfi8FyfDuVnDq/zlPEpdE2mWNskvaZo23/8BKGs0/x1KfF+o/vJciXEKZSr/qVyR\n",
       "QJWQSdSyLMuyihpI9BafbMAm6JoYafXuis0l2CA1Mh92d0XGTbFNJnYvfeb9NqMSNuOK7GYfTrJZ\n",
       "2/p6MyUqjDZj/LP3Q+/JvfOKem3GPT6OQnFsft39c7SV2hboFFGq0qQhS7K8fAY/9uMylClGCsk5\n",
       "1PNWaV73wcr+TRP/6cerEmlxZe4TSpUltpZ5D0yilmVZllVUOiaavXlIhOralqWn6c6peJek0Cb0\n",
       "q8Y9lbtCQKnxEc5F7sVvYwyuf85ok0sZp5DsOvamUCPyH9+B0V9piHAb5t6pLaf9LnUn2W2wrQl0\n",
       "HRMdvX6OMRJFVP1FxsUmDV/EVqOwPNnhx/G5/k3D47zz3HW6PUfwPUQ/5huej7Pi5w18r74bH5Qm\n",
       "0uxq3wEf2abLJGpZlmVZRUESvU1P2vpm5SrFE8C7I+VuiN35VGnzirhnJqYpUGo53tpLidvMWsdC\n",
       "GbFUz8vmVGOao/++IjK26Lstx7/89sd1Ju5It/dh1A1+5vNMUXkSHY8dzdw9Gg8cn8+IlcsYHh9X\n",
       "xzRl1tE+GeBrjX8XtPFx5f9uzuHHzXx3oXHsfKvX4FiaNoHSq5LcZhK1LMuyrKK+2f3TDb1gYTww\n",
       "Lnd/pkYk4gUIMcbDRAquBcYoF77DOHCOUtyT2dB557n3mlEtJqrRQfSv02bNhmOaGUods2375ygm\n",
       "+jXZtukZin/entc5f2bK341C5YhEc5m7M3FfSaIsqzcT7zznmvDje9s5NI9/CwpE2U+FvnuWc7Ev\n",
       "+zPinou54RxHabMaG31vM4lalmVZVlG4ThToeQNCiJRJiSps6ALiMXYHxWIA7C6HUR+MLS58e58q\n",
       "pWbnLMVE1x8ev2tGUuJU7C7/GDmMWbZjTFOn1Jh5u18d+21Fcc84fj6GuxJtwXd1DBM/+nwYeWvx\n",
       "UjRupNNMLemnbPn45Vm28xX/RvAlse8QPNvkM82lfmdlxkVf4tNfE1Mpf+V8m0nUsizLsoqCMVHl\n",
       "HuuGbo4A9El0+zyiRh3CCdndFSM7Nuc0vnueosyDRPluzhU507k75tr+eYxef1JaVuR7OmBxnzx5\n",
       "jNSJ/DGltoetfw9HOtViovNnj0l0n3PPxJ1J9BZeq4q8i0l/vSm3lrnL3vt13PQaSo0/9/ovo/jX\n",
       "c8B29OdUiVb5fgmvh+fCdxalXPSajVuNR35n+Sz8LrKZRC3LsiyrKP8nalmWZVlF5ROL2GzEiJZ6\n",
       "qeJyarp5wsFx03hwTdDnpGXZ6jIwnPs+PvYlLsLSE3rNlqMyafxn2l5JQ/NSb0woGhNmdp/36s/2\n",
       "0lewoSXb2/B6tK2Xo+Lfy+ipfz48OUtNOvoKNvRefsF58Dj1erEPG/ephCaedKRr/CZYn/cZilG+\n",
       "u+Ql19WSKfjuyyQRTedZXVPye3h1vmpr17RtnNMkalmWZVlF1ROLiD+03d6Pg3dHSyLtjrHx1EbI\n",
       "jt7NJe6ghru5cBepEmzKdh8f4bieorbHv+/vxDltNmJbz601RmDjegraiC3+5P0Vr36D53vMubHC\n",
       "ay5OojN18hIXXbzsRSHR3hZp8327QCX5CJ0Pj0PXm294fy5Rrj8Z/g1Qu14uYaUs/b1U+F4b3qbE\n",
       "dyYjWDjnah5g65VupJOxjT4mUcuyLMsqCsZEFTpVSZTNjfimTc8XRNoav3Oq2pa02Tq6i9dGqA9S\n",
       "Y4hRojnhe4HGBfJk1z3FU7pjm3LX3IjtPDqIJNmXo8R4Z7aMhVHmrDnuGWdr3RljOcvPsT1uMn+u\n",
       "t+CDbEzRe7w/PkainFLf0youcVkTZT1eqv+usW8h/DseH2vXlF1jmMbTVaXkClul1AWOQ9+Z0RfM\n",
       "rdBmE31S47M2Mmc4n0nUsizLsor6nu/J8GuFNpEUP0iiqzsfGttsxJa8Y1PW9zO0+va8kRbvwKZc\n",
       "L4uJrm3bti7Kv4YOYou+ObZZzcBtwefHDz+iYzhLN3Je/8s2NlLobbeHbXva+jnGM+O/lXgnPHsh\n",
       "fp3paf58FFpU4qWYZFkD+2q8VP8dzWf+tuQ4nTaVFRxMzniG4VGmzco4lTbJuHK8NPzeV7NroRSb\n",
       "fj6TqGVZlmUVJWfnMqJ8H3EQ54TZueRuZUVh6jhWywnjh8FG766ELNl0Bi6j1Hi9jGRn29bm9n+5\n",
       "u/s1SaIM3HgMxTZfW5StM3D7+8Db02c/R68tePW/feO9JMvAfZ1rmyzKdmdo4220EqOs4DDvGOPT\n",
       "P1dGophAeS0pq0Fdn5fHS+c5ebbruSsq/Zwv3/75WQT7sMEVK/TdE76XjlKqTJsN+IdxGR94nQJ1\n",
       "fsw2XqNJ1LIsy7KKotm5WUo907ZlYqLKnZMSR0Rz0TkZraLzKnHPbEx0MW64bv28e2y0tRpttvai\n",
       "Ly3uyboLzdm5sTvQ+FPqtDnqDn0Qa0TqHK9lA7bxd+YGxs1E2p+JiY2In13vp5DSHH9cxUL1BvaZ\n",
       "eOl8TRmC5SSbfS/m36dI+EcJFsZEq99rR8dB2jzruzZJx9Xs3NNsDdhGH5OoZVmWZRX1PWxpBpam\n",
       "n7bF41W2Ld6JlGtBY/yytamH7FFKRWQX4xPDc3Lnhc5LSTJScZVydxL9p7ui8U4a0+b6TpzHPaOP\n",
       "2nlotCHaRJSK3tVZiOVG28wir58lZuL+HNvCY5ts6PzrSBm7anx1P69VilJik/kM3v6YFi9dr4go\n",
       "mbt6/P797/HrPWypcXOW7fq9x+f983hkf+/ouwt891CSXMRSsxm4ElGKBJsZT3NbBJt8vgZtJlHL\n",
       "sizLKmqsE92X4tv42NpMqWeS6BewzXcQwp0XI0opyxbMReOPyt1RjQj5zylk3p5w3m17f7d8f9Jf\n",
       "N24RCx3jnuM43HlotrG4pUKbOPO2haNxV5bX7C/Kff0sr6zcnUjXJNqgDQlTMY7YIOKJ9KTF7HKx\n",
       "xXXcE8Uv7yQmqtAtj9PqKyNnZOdm6jyVceMYQlEsC5+Oq1CqSrLCdy21xXnItaD/lARapDY5Ozf4\n",
       "Pa7FJGpZlmVZRfk/UcuyLMsqCrb9g0uvbKmXjSva1sitBo9Zg4E4t9gib1qSO7p0eqGtPP7P07Qn\n",
       "GeEl2/fLflry0Lx0+ipVmW2vTwAt9bLfKNxQ4WeOKLTMGpds751lTzCIS7fzMq5e4pIXWgB+nX1+\n",
       "n6rLlKwcRSlx4UlHc0vASkLSp5ZsWRlLudlCJnno1KXexLKssvQK51K/vwvf/7KtrW1S+cv4aBK1\n",
       "LMuyrKJ0Er3AFhOK0J3/lPyj3nkdTh5CdykK9Ql3fOWko8Q4ee4HeX49Slu2nrDGVoAoSeSVGNS3\n",
       "34uUOVOjkjy0H8FbmmXv/3BDhX7GF0HcJ8+ZNvvx2+CDE4vaZJsJdL5bZnTKvCPvjme9BVuVRNdE\n",
       "yW3VxCLdppfI5Df8fm/DPnhcm3yef5MSUaIVtiqlVnx6P4Fgs3Q7nR8QZdoW/A6Wv5hELcuyLKuo\n",
       "j5HoV3h8N25JoNk7r4lowVww7qkQISPZbBnL0Zjmfvf6z/i6tY4yg09rrX3d39q2ezbOFClzjqnG\n",
       "BvL9Z8+azB/Xe36LZPrz7B58etsGH/GxyIjovPx6Z820OdvWpNTkz/U9iTIiVCj1DmKamRhsljbP\n",
       "3gxctU2v1e8nqb3nUUoVVtEQNWZjsSVb9ZqyBKwTqUnUsizLsoqiJNr/D8vil4w2lXHofPuxbbor\n",
       "E++82Br+dIfHiBDd3VyRZavcfQJaLMVEO0p9kiuyxeL493HPn2O3xzFMpD+2FmxzTDT6/vjjR3Rs\n",
       "zrrtj87XMhPhTI0o7hmzcnHcE9Hm+/Mp4gQ6z0jjcSUSnamPNYtXKPU+0G1me7UcyUYq/rUmDcPf\n",
       "3f47moxtpr4rGX0pcU9EudW4J/oeXtjUJg+KLRH3XPubRC3LsiyrrHRM9ChtIt5Abf9eJFrMwKUZ\n",
       "rYs7r7fjjmbCClmykQz758/4JRsXsm1ba1O88+sObI9P4av7ZLfRf4+NtqZm58a45zom2utFfbvv\n",
       "BqzsN2q2zHofmxxb++10fX88bt0oJSaKzjve2SJKzWnNtOhMiESVzF0tjogycJnt6PZq61isQpQa\n",
       "beYa10t1opfGNtF3ZWbVjo1HZId+FsV2YUw0zof81WziBaWaRC3LsiyrqHErtMVja91/+sjGxj0e\n",
       "aXbubbY9G4Vn7rxojBHd6VVjk1eQ6EFKnWgVxD2/Hse6jbcnOu0pN/hvt+5OfBtjVyNlRiKcafVl\n",
       "e8wHKXVNq1hjvJOR6EiZr6P9OBzbHIm09+PbnSFKHefulYmJrmd5zTT+JJE2Z1uGsNQYI497nkOp\n",
       "ODtXOa9iOz8m+vrbzn5PVClVWLWD4xOrfqfYFpRJKzCKBIz+cpSsXmfnWpZlWdYxfcuxzRuxhfHp\n",
       "rN5tbTseH1CorzruKG2yLNmeCAMlonFPakS0GuKeQy1ooNNbT6lf+LG1dt++fw6RmCi6u48+V9aC\n",
       "YpqbSfI1ar+znH3mjkWv2bXtztA1reOl+Krj9TJFymTx0tl2nEQZNVZtOqWOBMy6ElVtx0i0/P1E\n",
       "V9Ey35XC92i27l6yqbHJFWWKRJmpE3VM1LIsy7J+RzA7lxFlmTaFcciWq30id2VNvWP7BIkK9Z5f\n",
       "HW1u/6zHTQQaqLO1uS/uMHegzCE7NxwbYqkPAtiUmOhjOPE5V4xEkS2SJ6LNR4YyjG1G2pz57xMd\n",
       "i9io2ClnPPYZEuWZsOv60pkk31MqPm+1G5JyTZrt9Z0TYqHl76AzKHVhkzJ4szY0J7imFWWqlBv/\n",
       "3uSYaJ5gTaKWZVmWVZT/E7Usy7Ksoi5pQK8u9bJmC9F2Ty97sED6WYlB2fFKQ4WwPAvHoYSk2DQB\n",
       "NFsgy7LQFo99zZ/s9ucnwejM5KHX8u/4+DOXouxy7ngsJhH92MYlX76c2yabcl60dIt/hlG5BKP5\n",
       "GG77N9tqy7nrRB29EcN6OXa1jMsbMmQbMaDz1t6D5TLuJd9PbKlXsbHwGErGzNriEi1bOmVLxcXz\n",
       "phKa1ucziVqWZVlWUbDEpZpYhIiSJRZR2208NjVdaI0Hwj9yp6f4qGUsiwShYRxr6RcIdGi2sC5V\n",
       "obQ5HUO2x936/ft1uieBru/RIvWhhA60tvH8fVjO/DNbP3q0zHePq9KWsSHDmGykb3e2pk2eWKQk\n",
       "FDFFAl1fAabU2XacRN/TplL+ojRpUBoy9HMpzRbylLr/vaHVqCu+n9j3YcHGmi2ky2dIQhOlvgxR\n",
       "JpOOMglNZE6TqGVZlmUVpbf9E2zVMhZo28Kx36ZNZvt0GQts6XcfbZA2UQP6+3isnzsS6BAvfXxq\n",
       "j/Z/YyMGfG+mNqCf1d8p7iU1TGsSjU3fx2PjuHyTeWSL18TO3x87JjYjI9FKS8B6rJA1W1jTolL+\n",
       "orYNjOPOpNTXNo5gm7Ov3/ruUuKdZDwjSthInsViCRGuCJQ2xlHjpZlYrGOilmVZlnWZTo2JIkrN\n",
       "ZODyOR+xs7+SRPs7TZKB+yRKIQOXUmpPhKFtH8qy3UgD+ikm2n1CtBHDLRzr7sTv//PzuK1jWXWt\n",
       "KZP7jPHO3hpjoKjtH6fNNcFGAmVxz3NjouOsOO45n/l1jz3/NUfbue3wIi3m4o+Vhgzj+PcxXJ1S\n",
       "H8o0l0e0evT7CdKmMmeV+li8lWXQKkQI5k7FL7OxWMdELcuyLOtyletEVUpV4qUZSv1zKlFWtyH6\n",
       "Ex6zcU9097loJD+cJ2TgttaWNaCsyTzMwA0xzsHvC9jIb8u+Tdr2P+18vSdRlIEbx6Gt0F6N80ci\n",
       "7W2MRFHcM5Od24vZ1prfFTy6SqI36HNmY3Ylc1fZyqzaUjBbQwprQb/C98qX8h3Sr1h9YhWNUSaj\n",
       "PiXeKsyN/CXyFeOXR+OlCqWaRC3LsizrmMoxUUSp2VjqNK6/mVs8nkuiLKb5h9iUek9GlIlG8q3N\n",
       "2bUogzYSKGoyD7sSBQIFXYleNrRWgAh2pJi+hvS47o+ZWQ3qzF+RTkefMQYaibQ/djw7d7wq5IN/\n",
       "pvfizLpmYRYvVboZnUuiLKb5niQztaTIP0+prBaUfYcESpW/n66g1EVWbjq7V6FNcdyKFtVtK0+m\n",
       "TXzMJGpZlmVZh/Q90N/jP9h0du6N2B6PUix1I7Z9nu7OYFPuvPY7vfsFBBups7Vk3BNtSRZinMOc\n",
       "yBYzaLMZuJFAUQYu+PSe9aGIUiM37UT6TzuukRpV24sOZ59VVq5Omyzu+d42Xv3sd0yINte2bbqK\n",
       "mdoYrV6Rucs31cYkWa0zZbSJxsHcB0aZq3gnXQ37VLxUiXuimOqCZN+No7SYidNm46WJnxMRd/g5\n",
       "TaKWZVmWVdSYnbvDRRsfW3tDotvoX42zKrbe5w+9uyIZcnuXnvj41raId9J4iBj3nCi1+0kjgdJd\n",
       "WAitShm4IF4qZef2irbZp06lLDs32vpn94fHHMdYZeVmSbRBW7w2lImrxEIVMp3flWp2LqfUz5Jo\n",
       "JXP3aJ0pOjZQ+irLFh1TbCiDV4qXit95JUqtkmz/W3M0TivQZnbuFq63Gi91TNSyLMuyjsn/iVqW\n",
       "ZVlWUXKJS1yqvXLJdjhGkpb4cu7Jyy2ttbm0hfjQpCO21Pv13oaWap+2fx+vydLrBt5plHT09NeT\n",
       "h8ZxwQRc7ltuWRc3UsA21lABLfXGZd18YhErY1nbXvOsbUi7v5aCxBaGZ1tMMOqPrZZ1kc9vlb/w\n",
       "ZvHr8XTckJyyL8MKyT/KUm16yRZ995yVdJQsR1GWZdONGITEoudzfekVHnPbP8uyLMv6HaWbLRxO\n",
       "HroRGxj3Dym7uT3uRKZSl/75qbZF0tCQtMSSh2KCEGuIoDZLCMcQrU60SZKOegKZCBSRKEhWQr8k\n",
       "Kz0+XzXRiCfhRLLbhlc//44JRj+XOdryDRWqJS7zMcWW00yLik1pQP97JNrbxmSjjE//XCpjGRqg\n",
       "RNpEf+eJlS55NYwkHZ1d/oIaG0hlLEeTh9AxVKpyxXd8PoHKJGpZlmVZRX1nyfCwbVvbehZRSlz2\n",
       "539OjQ8IMdG4gTXaJPt5NwpLkEdBAAAWzElEQVSaxcfGCq21qbUftDGSjJTKfFi8lNhY3HO4HWPj\n",
       "gva3vhvPqHQm0Tm2Ganz5zLHu0a84fbt4bNN43PbnbESl15rSo3C7+Ac3115YBsaN9KlFhtd2z5X\n",
       "/rImyky8dNiuLxIobKiQJMlVvDQbU/0EfX2M7IrX9MG453hspHKTqGVZlmUVNTRbuJJE/wG2eIzN\n",
       "+c9t7fMHtvY7mIEbabN/vj9G6uyfo9jm3hiBNYlnrf2UmCj1QVm2zEaI8kmgLF6a0Da/QI3rI4mi\n",
       "DFzWUAFRaiTISKbIp5qdy34WNO4KYQLFtg18rqvYKLKpRLnPkd12bGXj2blz3PN5bCBChSiRjTU9\n",
       "WMRLy9UDfwGJlhsq/C10DEjU2bmWZVmWdb2+x7v1H10aE+1tt7VtotRtPN4//3cniHJrP4E2W+vu\n",
       "XGLLrp4albgnaxKvNJAXKPULfLJb/IS7Y1IGbmeibf8U7Xdzj5d3YNtNXS3pbRvPp7bR4xtu3wef\n",
       "49udzeOy17uaOy+WnbvP/D42ivyOkmgjNpxBq5NoNjsXxzarMdFCvFRt+3d2VjCzpXNMPhGbvGLu\n",
       "KlWbRC3LsizrkMqbcqtESccFulRiqdDncf5/y3deAm32zydqBBtv71m58nZnO0H+O74ebEpMFMUv\n",
       "b6MvsqG4ZyRQ2rEoq22cG9mePl0m7SNz9/74eTl1vq7xi264jbNy87WgevwTHWNE+vLRpHHrmlJZ\n",
       "5m18rWbwchLVxykdi+j44df48fdGa0GzMdFCvBT6nFh1cGkXpa047i+OiUp06+xcy7IsyzqkoU5U\n",
       "oj5kI0QZj7FaUGq7EZ9n4mX2ToTRJiLJRTciFve8IWpU4p7/dufNxDtvo+/gH30bIFdEsEfjn0iR\n",
       "RMEdHyDR/dj2+Ay2rqZ0J41Ine9sq6zcau/cXr/fsQiJxUmjbX3lc5Yut51HosgmxD0pbQKbEvc8\n",
       "K17KaFPJ7h3mOonaTtme7bdINE+U+vmcnWtZlmVZp+icmGjR9qTUG7Htj9vaJz62BroYoZjDTpRs\n",
       "4+0biHcqPXBZ3DNdCxp3ZiHxzvJuLIxSrxAj0f2SHsfu4C7y+Zm9PrudTlG8NMZJv0id6LnZuWvb\n",
       "ygdJiZdyaWzL60Tf+yi2a0g0PnaaqI+sSiHqk+KlffyRnG9FoGfQZrwmlLl7CfWdTMDqNU1E2cc2\n",
       "j8Z3WVbvOM4kalmWZVlF+T9Ry7IsyypKXs5lSUdxWRYl/9AyFrBUG8ehJdvYCrAf/4c1id/IUu/t\n",
       "a21bJQb9VkMFOA4t+RIbXeplYqUxioTEog0sqURbnzBwj0lHr/cpJgux8pf6dmfR5+V3Rds/9o5n\n",
       "Fn8zbQDRsb9pOZcnCGWXIsNSK00QQnOyJWIyN10OZkmRwhJmZok4XT7DlssPLueiBKFLko4SiUXN\n",
       "iUWWZVmWdUjf/3Q3joeThwhRZktcVklHrLRmSCx63CXcaSAc0WYobRkIdrHN2ccbKiglLmoZS/RB\n",
       "IgQLJXDQM2kIjSGUGpONNnAXuScddUlhO5XulIrKX+qJRe8pdfV6dUyxHVWWQNuT+tY+kTI3YFOa\n",
       "M8iN66dyNYVKkiUurDVfObEokQREbWpCUoEkf6uMZTi2CT46NebPi0pjnFhkWZZlWaeIxkSzjRGy\n",
       "253FBgosXgpjovHxNtvu6E5vY7QZmiTA0pgLGyo0QKIr2uyPsYYKUxlLZ6KNFA7GO9nxKd5JaLMv\n",
       "ho6lLX150k6eT0pFtvvj9B2lhpKYLImufLCt13tKfdnwGF3qDKBE5DlOL3/RbLmYKKfFbbSliSVJ\n",
       "m0q8VCmbSTewL8Q2kT97f7IkuxqfHQfLVzLj31Pj23GLMhbo72YLlmVZlnVMkEQzDeGHY0J27mDb\n",
       "sA/yf3Iai+F2NxT7uD+3PTaK7tjYptqk7d8tkCSMbWbjnqGhwhehzWHcIhaqNlSYiEGNezIpJEp8\n",
       "I6WCDFzYiGELd5H9xgAxTtpT6jNeOj6iTbnR66N0ilSJhfafVpVXZ4JcE+yVJIpzGDZgW5CKGhOl\n",
       "4yJtEqJUGzGsCDYdUz2Yuas0YqCx3F+Klypx0+w42vbvPaWaRC3LsiyrKLkBvdJIHtV7KnNC8g1Z\n",
       "uU9fQJu47d94DJJojHG2NsdJh3hnjIl+jcfTtmR2LiPJw7Wg1fgn0oKDBqKMvj1R3sdjoAH9RJ39\n",
       "uBD//LEFAu3f3yedju/91vls2/g+qxtv/83ZubvOrBNVjr1oE9XnMaogNqW+T2qezij1jKzeVXau\n",
       "EDdN29h50fuj0GY25nwywSqfPRyXjZfqlGoStSzLsqyivqtbk2WzelEGLa0TXWTlwrgpiMXu4/f7\n",
       "tK/uTuT+RWhTodRbpMb+bjDaugzcr0CNDZAopc2YiYv8WQbv1QT6PCF+jYiSxT2f47q7QVILOmXl\n",
       "DrYQJx0+10Cn8XE49qCpnlLbaLt2U+7jZMrIU/FJkSgkgD/AxmgzHlOIBdUFEoqilMro66SsXsVn\n",
       "uN4zs3oXVC3HVJVVgJO6GbHfi1NisXlKNYlalmVZVlHnZOeSes8p7inGNFc1oNBnI7bH4727WZ5q\n",
       "R+WYaMi4zW6gPWXugq5CiDZpX9xImYAgtnjsjAxcphWJIh9CqSgDd+pYhCgVZODGrNw7okyBRAN1\n",
       "jv57zK8fF+KA02ehk+snpcU5wSpCPEZjUWeS6BVUwrJzFbollFmJmw7XcmZW78Imx1Q/mLmbHq9k\n",
       "7qLfQ51STaKWZVmWVdQ52bmk3pPGPffHkImLxrG+vKxj0bNetLvZ2OOjTyKFMVFW57nI0oXjCPGw\n",
       "7FxEmzET9+eHCf6AeKZY6NX0GShq6pPb+dCNt1nmbqDOYS5gi3HPPl4qkejtvQ1S6vsaXUSpW/B5\n",
       "Hbgydt1PD977aKMbFyMSjXSQJFGYhbkg0CtpqLU3lCpQm7LzSXmHGCFuqdiysU0p7inGUqfs5+Jn\n",
       "J3UeqlKqs3Mty7Is65D8n6hlWZZlFZUucZGSh3rbDfsM5xMSg9iS7b5AQBsx9IlF+yNNLGLNEh5L\n",
       "tqgxQiZ5iC7Z9uOE8pePN1SIQokwZFmW2eKybL/ccv8n+IClXtjaLzZU6GyZxKK4dNsfm3xamz8z\n",
       "8plDW5ynASmfJ1u6JX4oMei5VAvGTMu5/Ro+SzrKLOei8hWyDHd4ObfYYCDTLjC9zRpZHpVKXMgS\n",
       "sbT0WrUJS7bwWrKfnZBoVl7qHW0mUcuyLMsq6lsmyv0YKTVhTRNYshIscVkQLKPN/p53Gt/X8j8e\n",
       "Xxt39ynkMWlIaKSAEoTKrf0EmoHN5dvoM+hKAn2eGJw2JhSpyUNC+csG7iLvgUCHpKPHsTujTEKi\n",
       "cYs6UuIyEmWiicYgJaGIfJ7be5cF1o62G/lcYfIRSSxKJR1VSVRJFum/KWJSTTXp6GC7wHRiEZu7\n",
       "SrCZ8SfYKqUxpySFMUoVktjcgN6yLMuyztG32obveQzEL6dSE9HG4qVS278wfiDRxfjWXo0XnuOG\n",
       "uGds7Sc0Uhha+0WKEQv2FdpEpJOKhV4hFO/cDwnEkt54eyfKnToBlUQibW0ubcmSKCtxiZ9BdkP1\n",
       "w0R6pki8c2VjzRbK8dIsiRK6WJQmQP8sbZ7V1L7cNpCQHSxjyTRbUJvqC1Rdtl1BoufaTKKWZVmW\n",
       "VRSNiSqbZEMbaXqg0OZwLEGrA4mG8d+dbYef/Vg/7s+qtV9r60YKA7HscVLS9ABuvP2f1trveeL1\n",
       "MZiV27CtvPF2T5t75m6If/Y2tBXa2dm56LNLZ+e2tW3pk1UkSzj5S4guh+P9nEkSlWwJEm1g/MeJ\n",
       "hVFbNSZ6NO4pxFmzsdhUk4fie/hrtPk+/m4StSzLsqyiYJ0oI0rWvi/GTXsbrRO9ja/RXAqtQhKN\n",
       "CaKdLcZGf/x+PDdYQxprQEkGLqLU6RijEtRWLkOpH4qdZbJyB9q8j7ZTNt4OlDm09gt0OrQEXGTe\n",
       "ZrNzUWyTtQScfFCsuwHb4hhLtiXDpCzdYRzLsiUxVUqUVUqNc1Xjnsms3lTck4zL0maKFg9Sqkyy\n",
       "gTJlgl28F9CmzH0FbZJx3grNsizLso6JNqDvibKcgbs/AtpUtjLb/89XtkJjMVFIouC8O53+e1Nq\n",
       "QJUtzQg1ql2JnpeQ6GxzuSK9kDpPabszcMf37FjUfUKpjbd7St3jpdWORTE7t3+fGcFmsnO7YVMn\n",
       "qnj8nZifgqwoXrqKhVZjoifGS2MsVKklhbZPxdwEivptSs2S7JnXlIkdX/nZCdvumUQty7Isqyge\n",
       "E+1s1QzcZ4SQ0Cbri/skUWH8HYz/BpT6HfxR5u79uV1aXwMaSUOJe6J4KaoLZDWDxMYo9VKRDM17\n",
       "8ElvdxYJFlEqoM0YJ2VboVWzc9F2dEp2rtSx6NPZudNE06WlsnSR7bcyd7Nxz3IsNWtb1HlmabNa\n",
       "r5khwnSdqRD3PHpN5VjsdQRrErUsy7KsogYSpTWZj0clA5fWnjKCBXPeow+izd2Xje/GRbodKDXE\n",
       "UMduRotYqBz3jFRCYmfD7Q2jmehzpQBVPF8iG6HNqc6zj1GGO757T5SBPBBtwl1cQlYuJVGUIU3i\n",
       "ngc35f54du6badaTrTJvSQbvX0Gii7gpsn065pah1cFfiBGqJLkiwnQm7RWUepTYq5+Pnq1tErUs\n",
       "y7KsovyfqGVZlmUVNZa4PAiWNVTItOiD48gyMFpanpZzxSXb2NLvuxv3PAbKX2JLwH717d/nEkam\n",
       "yTxbss0u7aGl3uBzqUgiCUoakjbeBst+dzKONltgW6GF0pbDDehZiQuxXVriUv0dYOvAZKn2eZws\n",
       "86eXc1GCz9nLuWry0AeXeqtJMaxBQbWxQXYrtMON79n1nrwcrI5zYpFlWZZlXS9a4jLYlKQjpYyl\n",
       "t7E5Q9IP8okkiTbeZuUvkTp7v3vw+bHdH4/FJvNTQhFKSGqzLfoM+kRpCylp2BDFrEpbWBkLKn8B\n",
       "d4OxtAW29iNboV1a4oISkv4TSlyQYhIROjHyYSUuLRwDRHhWIwZUqqK0DWTkcWVCEt24m40XySxF\n",
       "kgkyRP6nUKpA7Kn36Qwb/sxNopZlWZZV1DcrORlKVTbs0/tVaRNS5uMxNokfWvSF8YgoUflLnLuP\n",
       "ie6x0y349H73ZWwUHSPlL71Yk/m/qrRlPy2hzFUsFDWg3+/qYNu/nSgBVUDaVLZCU0j0xBKXacNu\n",
       "YKOUGn3b7PO8DmKjQp+v4JdputA//0RLwIGAE/HS3iY1cLgiJpqw0dgmIUKFUo/GVJE//VnY9Wa3\n",
       "Zzs6Tvlcfn4vTKKWZVmWVVR5U27aNKEfR2iTZfXGOCejzZil2497zgOIErUEjHTaZ/U+73kfPv/G\n",
       "2GhvZJtr00byhFJhvPRviYWSzFtpuzMQL0WUOtEmae2H4qXlmCiLZ7PsXCEODl9nsnMvjIkyG8zW\n",
       "JbaJQIHtrEYMMCtYiHP9VuZuenyywQCNiS7mrMZU6ThEqQmSVDf1Phwv1d9fk6hlWZZlFZVu+xcz\n",
       "cZEtXUOKsmQX4xBtxprQ1ubMXVQnihrQ7xBEY6I7aO1N6ofWgCTONbX9I7a/cbszVMuJqGKKhbK4\n",
       "J7gbnBrI93MH2zAuxj17gj2anRvjnn9Ddq7ye6D4MOoEfqt60dYwSa5sl7QEBD7/CZm7WVJSYoxV\n",
       "wjp1CzYyLpXVm417Ku/hOasIJlHLsizLKmrMzn3cQKU7FikEu61tMVsWjUO0uepq1NpcA9rP/exG\n",
       "dDAmur/+3/a6O9q+IrEkszHR6+mm/hNxUHBipSa0NRILJbRarRMduhLtx75G3/7Yb2fnprdJC68H\n",
       "KT5H1VMbOPbWh9jKJMpIMkmi5czdozHR6viDW3xlCLacnSsQJfxZhHjpmXOf9N6bRC3LsiyrqG9K\n",
       "m2dm4II5I12ivriretHW5uxa1nmoGhPdABAyn//dt0mTNtduwAZe/xqJ7qeL2ba9HyHJZ9xTIVEU\n",
       "L83WiYbtzm7I9oHsXESbn87OLf/OxLgn8XlOLa5QHO6ri+aMZLeNx5EtGy+NtItsKsGeFRM9bBPI\n",
       "jJLdGXHPwrijP9O789L3wDFRy7IsyzpVtGORvOPK/sgycPcTAiJk5BspFWXwot1YIqVWY6J3cL3M\n",
       "h9aQRifUVxdm7i58ThWJYd0F0kCUusrSbQ10LAIbbz9tPVGyOlG2U4vSsehGfITsXNZX9+PZuWf9\n",
       "jqDPPthu4NjzMsjqBRp3GokiamSUSki0mrkLd6T5S0hUiWlm6Y1m0Ao2hXzT3ZASfXnZeeG1mEQt\n",
       "y7Is65D8n6hlWZZlFSVvhRaXavtl1R2wy2UsYfzgH87fL73GLc2GEpeQNMSWZc9MLHraHks4f56J\n",
       "Rq3R5bvJB5g+tYz7NEWbsGTbGljiJclHcem2tXqzhVjaMiyrhiXeM0tc4jLupSUuVzZdGE743oc1\n",
       "Xcgu2e76yHIusV2edLQ438cTi5Sl0+qSrbg8Wkk6GsYXtnd7N2chOcskalmWZVlF8cSizlHatmx/\n",
       "7OYMIXaarPQNxsWEpCF5KJwPEeXu/02IsppYFOdprQOV57les993KlXKFT5OouAUU0KRQJutdW9I\n",
       "TB4Cd3UTdXZzSc0WQPLQDdn+5hIXVvLESlzI74NEp1khuuyO9ypvkwbmPEyikTJPoNSjSUeHSfZE\n",
       "W6mcJEl2Rwm2mrR06TgnFlmWZVnWIfFmC8gmlLHIpTEkbrmKpcISF0KUl8ZEAUDE8f1d+94ecEPb\n",
       "pD31CRIlBMAaKrBmCYfb/iFKBQ0VImWyrdB6upVIlJW4BJL8rRIXSKur153oODIg03ShtUCJ73wI\n",
       "bTL/U0k0Qak0Xtr/jhLbatxhkj3TdrSh+4XxUiVuysarP0vCZhK1LMuyrKLyW6FtxIbGkTkjQQ62\n",
       "EJu8MiY6sBeLd0af7PiH7X+HjN1djDiiT1Xkbh/RYhwn0WZrEx3c0fgYL2XNFhBtfmArNLrx9qey\n",
       "cwXahPHPK2KizxOuTYxEJRsiyeBfJVEYvxRsWUqtxEtlGtqv4QISnZoQXNe0HZ9XaQBxsFkDmusg\n",
       "wZpELcuyLKuoITt3p71n3WfneFZzetQkHtrCONSAPhMT7UEpxkSHcRv26Y9JMVEElMH2L6ohDb6j\n",
       "qnTB4k2PR9baj9V5KjWg+zvXk+H+ST6pE1Aqpc3g0/sx2rzvx/7TsnMF2pQzcjO/R4Q6n9Ox3x3k\n",
       "l417bgvf3j8Q3pkkqlAqjXsigo3jFB9kq44TbCq9XRIvFWKiZXI+WkM6+phELcuyLKsonJ17YgZu\n",
       "jG0OLPKYg224HbNrh7jnbhNioqwBfTamqcRUG7A9oWIbX7cWqTQODBNIYnfy3XNU5xnHsSbzyKZ0\n",
       "LHrGOxmlEtpUtkJDJHpLdCz61ezcRSxUjX9uxHaWJAIlsU04FyPR3QbmT5Eo+D2UbBfGS1XKlegt\n",
       "rADJ44jPyU3bx2OJLcnS5z3aMP89wZpELcuyLKso2LEoxkZ7W7avboxtMkqlG26j+OXCtzUeE33e\n",
       "lyZjmqsaUuSDwlxx7qFs8vHiz9TVKCtGlsjEyGFBlP1zWAMa1h0idbbWpr648sbbsStR91uzxzth\n",
       "N6P/wuxcJXP36Sv6USESpCfitJrdzFvyR7FCgXJRjFGJbZYpVaDV346XlmOqxaxeuAH2SZtyK3MX\n",
       "fxaTqGVZlmUVRTsWoV62KLY5ZbT2cyYoFWXuHo2JRp/hOgnB3sP41ki8lNWgoiY0ZNw+8A+sJUWK\n",
       "JEgIFGbikvFsFxepdy6j1XAHLm+8HQh06GYUSBJu2A1IdCLJM7NzhcxdJd6ZtgWfS8UIkfiVSVSJ\n",
       "qQIyVObux0m2g5QKCZjRWzVeGkn9QhKF1HeQUrOx2MM1r0os1SRqWZZlWYf0/wM5wiZ+r/i+TAAA\n",
       "AABJRU5ErkJggg==\n",
       "\" transform=\"translate(55, 31)\"/>\n",
       "</g>\n",
       "<defs>\n",
       "  <clipPath id=\"clip0503\">\n",
       "    <rect x=\"532\" y=\"31\" width=\"19\" height=\"428\"/>\n",
       "  </clipPath>\n",
       "</defs>\n",
       "<g clip-path=\"url(#clip0503)\">\n",
       "<image width=\"18\" height=\"427\" xlink:href=\"data:image/png;base64,\n",
       "iVBORw0KGgoAAAANSUhEUgAAABIAAAGrCAYAAADNfMdeAAAB3klEQVR4nO2cQZLCQAwDHRj+/2CW\n",
       "ZJ+giw5dXdYDXGp57AmE4npmnino1SgyM3NapYqO3p1CvIzEaLz2b9hZxbC1aDxHG3bW7uwsXvs3\n",
       "7KxdI1k8Rxt2lnpn8xyJw9bOmhiN52jDzlKvEZ4jcdjaWduws3ZnZ/HaT0TjORKHrZ21DTtrd3YW\n",
       "z9F5rk6hHtpfqVDRUeUlPRLtW0LbsLPOjxd2rZAWDXiygUNbKgQM+9epA0TjORKfo+KV3SrEQ+O1\n",
       "v3Vlb9hZ5jXivbKBJ3ufs6N4aMA14h1aYNg8tF0jUbxztM/ZWcBZ631c37CTzDvbe2UT1wjOUevL\n",
       "OiAab9Z6z9mdOkA0niPgOXruzjvo4tv1+7QKfSqFeGhNR53fMiDRrO2vdY2Hxms/Es3afvHQ8tqP\n",
       "RLO2Xzy0vPYj0aztFw8tr/1INGv7kWHz1oh4Z/Mc1daIdWh5jsRDiwybd46s7UeGzXO0OzuI50g8\n",
       "tMiweefI2n5k2DxH1p19zdywv72+Ov/DPec1d6VQD83rSIzGcyRG4zkSo/EcidF4jsRoPEdiNJ4j\n",
       "MRrPkRiN50iMxnMkRuM5EqPxHInReI7EaDxHYjSeIzEaz5EYjedIjMZzJEbjORKj8RyJ0XqO3qUX\n",
       "vv81nu1LuBbujgAAAABJRU5ErkJggg==\n",
       "\" transform=\"translate(532, 31)\"/>\n",
       "</g>\n",
       "<g clip-path=\"url(#clip0500)\">\n",
       "<text style=\"fill:#000000; fill-opacity:1; font-family:Arial,Helvetica Neue,Helvetica,sans-serif; font-size:12; text-anchor:start;\" transform=\"rotate(0, 559.315, 409.266)\" x=\"559.315\" y=\"409.266\">0.1</text>\n",
       "</g>\n",
       "<g clip-path=\"url(#clip0500)\">\n",
       "<text style=\"fill:#000000; fill-opacity:1; font-family:Arial,Helvetica Neue,Helvetica,sans-serif; font-size:12; text-anchor:start;\" transform=\"rotate(0, 559.315, 356.981)\" x=\"559.315\" y=\"356.981\">0.2</text>\n",
       "</g>\n",
       "<g clip-path=\"url(#clip0500)\">\n",
       "<text style=\"fill:#000000; fill-opacity:1; font-family:Arial,Helvetica Neue,Helvetica,sans-serif; font-size:12; text-anchor:start;\" transform=\"rotate(0, 559.315, 304.695)\" x=\"559.315\" y=\"304.695\">0.3</text>\n",
       "</g>\n",
       "<g clip-path=\"url(#clip0500)\">\n",
       "<text style=\"fill:#000000; fill-opacity:1; font-family:Arial,Helvetica Neue,Helvetica,sans-serif; font-size:12; text-anchor:start;\" transform=\"rotate(0, 559.315, 252.41)\" x=\"559.315\" y=\"252.41\">0.4</text>\n",
       "</g>\n",
       "<g clip-path=\"url(#clip0500)\">\n",
       "<text style=\"fill:#000000; fill-opacity:1; font-family:Arial,Helvetica Neue,Helvetica,sans-serif; font-size:12; text-anchor:start;\" transform=\"rotate(0, 559.315, 200.125)\" x=\"559.315\" y=\"200.125\">0.5</text>\n",
       "</g>\n",
       "<g clip-path=\"url(#clip0500)\">\n",
       "<text style=\"fill:#000000; fill-opacity:1; font-family:Arial,Helvetica Neue,Helvetica,sans-serif; font-size:12; text-anchor:start;\" transform=\"rotate(0, 559.315, 147.839)\" x=\"559.315\" y=\"147.839\">0.6</text>\n",
       "</g>\n",
       "<g clip-path=\"url(#clip0500)\">\n",
       "<text style=\"fill:#000000; fill-opacity:1; font-family:Arial,Helvetica Neue,Helvetica,sans-serif; font-size:12; text-anchor:start;\" transform=\"rotate(0, 559.315, 95.5537)\" x=\"559.315\" y=\"95.5537\">0.7</text>\n",
       "</g>\n",
       "<g clip-path=\"url(#clip0500)\">\n",
       "<text style=\"fill:#000000; fill-opacity:1; font-family:Arial,Helvetica Neue,Helvetica,sans-serif; font-size:12; text-anchor:start;\" transform=\"rotate(0, 559.315, 43.2683)\" x=\"559.315\" y=\"43.2683\">0.8</text>\n",
       "</g>\n",
       "<polyline clip-path=\"url(#clip0500)\" style=\"stroke:#000000; stroke-width:1; stroke-opacity:1; fill:none\" points=\"\n",
       "  550.315,458.025 550.315,405.853 556.315,405.853 550.315,405.853 550.315,353.568 556.315,353.568 550.315,353.568 550.315,301.283 556.315,301.283 550.315,301.283 \n",
       "  550.315,248.997 556.315,248.997 550.315,248.997 550.315,196.712 556.315,196.712 550.315,196.712 550.315,144.426 556.315,144.426 550.315,144.426 550.315,92.1409 \n",
       "  556.315,92.1409 550.315,92.1409 550.315,39.8555 556.315,39.8555 550.315,39.8555 550.315,31.4961 \n",
       "  \"/>\n",
       "<polyline clip-path=\"url(#clip0502)\" style=\"stroke:#808080; stroke-width:1; stroke-opacity:1; fill:none\" stroke-dasharray=\"1, 2\" points=\"\n",
       "  287.614,43110.9 287.614,-42621.4 \n",
       "  \"/>\n",
       "<g clip-path=\"url(#clip0503)\">\n",
       "<image width=\"18\" height=\"427\" xlink:href=\"data:image/png;base64,\n",
       "iVBORw0KGgoAAAANSUhEUgAAABIAAAGrCAYAAADNfMdeAAAB3klEQVR4nO2cQZLCQAwDHRj+/2CW\n",
       "ZJ+giw5dXdYDXGp57AmE4npmnino1SgyM3NapYqO3p1CvIzEaLz2b9hZxbC1aDxHG3bW7uwsXvs3\n",
       "7KxdI1k8Rxt2lnpn8xyJw9bOmhiN52jDzlKvEZ4jcdjaWduws3ZnZ/HaT0TjORKHrZ21DTtrd3YW\n",
       "z9F5rk6hHtpfqVDRUeUlPRLtW0LbsLPOjxd2rZAWDXiygUNbKgQM+9epA0TjORKfo+KV3SrEQ+O1\n",
       "v3Vlb9hZ5jXivbKBJ3ufs6N4aMA14h1aYNg8tF0jUbxztM/ZWcBZ631c37CTzDvbe2UT1wjOUevL\n",
       "OiAab9Z6z9mdOkA0niPgOXruzjvo4tv1+7QKfSqFeGhNR53fMiDRrO2vdY2Hxms/Es3afvHQ8tqP\n",
       "RLO2Xzy0vPYj0aztFw8tr/1INGv7kWHz1oh4Z/Mc1daIdWh5jsRDiwybd46s7UeGzXO0OzuI50g8\n",
       "tMiweefI2n5k2DxH1p19zdywv72+Ov/DPec1d6VQD83rSIzGcyRG4zkSo/EcidF4jsRoPEdiNJ4j\n",
       "MRrPkRiN50iMxnMkRuM5EqPxHInReI7EaDxHYjSeIzEaz5EYjedIjMZzJEbjORKj8RyJ0XqO3qUX\n",
       "vv81nu1LuBbujgAAAABJRU5ErkJggg==\n",
       "\" transform=\"translate(532, 31)\"/>\n",
       "</g>\n",
       "<g clip-path=\"url(#clip0500)\">\n",
       "<text style=\"fill:#000000; fill-opacity:1; font-family:Arial,Helvetica Neue,Helvetica,sans-serif; font-size:12; text-anchor:start;\" transform=\"rotate(0, 559.315, 409.266)\" x=\"559.315\" y=\"409.266\">0.1</text>\n",
       "</g>\n",
       "<g clip-path=\"url(#clip0500)\">\n",
       "<text style=\"fill:#000000; fill-opacity:1; font-family:Arial,Helvetica Neue,Helvetica,sans-serif; font-size:12; text-anchor:start;\" transform=\"rotate(0, 559.315, 356.981)\" x=\"559.315\" y=\"356.981\">0.2</text>\n",
       "</g>\n",
       "<g clip-path=\"url(#clip0500)\">\n",
       "<text style=\"fill:#000000; fill-opacity:1; font-family:Arial,Helvetica Neue,Helvetica,sans-serif; font-size:12; text-anchor:start;\" transform=\"rotate(0, 559.315, 304.695)\" x=\"559.315\" y=\"304.695\">0.3</text>\n",
       "</g>\n",
       "<g clip-path=\"url(#clip0500)\">\n",
       "<text style=\"fill:#000000; fill-opacity:1; font-family:Arial,Helvetica Neue,Helvetica,sans-serif; font-size:12; text-anchor:start;\" transform=\"rotate(0, 559.315, 252.41)\" x=\"559.315\" y=\"252.41\">0.4</text>\n",
       "</g>\n",
       "<g clip-path=\"url(#clip0500)\">\n",
       "<text style=\"fill:#000000; fill-opacity:1; font-family:Arial,Helvetica Neue,Helvetica,sans-serif; font-size:12; text-anchor:start;\" transform=\"rotate(0, 559.315, 200.125)\" x=\"559.315\" y=\"200.125\">0.5</text>\n",
       "</g>\n",
       "<g clip-path=\"url(#clip0500)\">\n",
       "<text style=\"fill:#000000; fill-opacity:1; font-family:Arial,Helvetica Neue,Helvetica,sans-serif; font-size:12; text-anchor:start;\" transform=\"rotate(0, 559.315, 147.839)\" x=\"559.315\" y=\"147.839\">0.6</text>\n",
       "</g>\n",
       "<g clip-path=\"url(#clip0500)\">\n",
       "<text style=\"fill:#000000; fill-opacity:1; font-family:Arial,Helvetica Neue,Helvetica,sans-serif; font-size:12; text-anchor:start;\" transform=\"rotate(0, 559.315, 95.5537)\" x=\"559.315\" y=\"95.5537\">0.7</text>\n",
       "</g>\n",
       "<g clip-path=\"url(#clip0500)\">\n",
       "<text style=\"fill:#000000; fill-opacity:1; font-family:Arial,Helvetica Neue,Helvetica,sans-serif; font-size:12; text-anchor:start;\" transform=\"rotate(0, 559.315, 43.2683)\" x=\"559.315\" y=\"43.2683\">0.8</text>\n",
       "</g>\n",
       "<polyline clip-path=\"url(#clip0500)\" style=\"stroke:#000000; stroke-width:1; stroke-opacity:1; fill:none\" points=\"\n",
       "  550.315,458.025 550.315,405.853 556.315,405.853 550.315,405.853 550.315,353.568 556.315,353.568 550.315,353.568 550.315,301.283 556.315,301.283 550.315,301.283 \n",
       "  550.315,248.997 556.315,248.997 550.315,248.997 550.315,196.712 556.315,196.712 550.315,196.712 550.315,144.426 556.315,144.426 550.315,144.426 550.315,92.1409 \n",
       "  556.315,92.1409 550.315,92.1409 550.315,39.8555 556.315,39.8555 550.315,39.8555 550.315,31.4961 \n",
       "  \"/>\n",
       "</svg>\n"
      ]
     },
     "execution_count": 24,
     "metadata": {},
     "output_type": "execute_result"
    }
   ],
   "source": [
    "f(s) = sum(k -> eulerweight(L,k)*(-1)^k/(1+k)^s, 0:L-1)/(1-2^(1-s))\n",
    "x = 0.0:0.005:1.0\n",
    "y = 13.75:0.005:14.75\n",
    "z = x' .+ im.*y\n",
    "w = f.(z)\n",
    "plot(size=(600, 500), title=\"first non-trivial zero of zeta(s)\")\n",
    "heatmap!(x, y, abs.(w), color=:rainbow, xlabel=\"Re s\", ylabel=\"Im s\")\n",
    "vline!([0.5], color=\"gray\", ls=:dot, label=\"\")"
   ]
  },
  {
   "cell_type": "markdown",
   "metadata": {},
   "source": [
    "複素平面における実部が $0$ から $1$ の縦に無限に長い帯状の領域を $\\zeta(s)$ の critical strip と呼ぶ.  $\\zeta(s)$ の critical strip における零点を $\\zeta(s)$ の非自明な零点と呼ぶ.\n",
    "\n",
    "**Riemann予想:** $\\zeta(s)$ の非自明な零点の実部はすべて $1/2$ である. $\\QED$\n",
    "\n",
    "この予想は非常に有名であり, もしも証明されれば素数の分布に関する精密な評価が得られる.\n",
    "\n",
    "**問題:** $\\zeta(s)$ のcritical stripにおける様子をプロットせよ. $\\QED$"
   ]
  },
  {
   "cell_type": "markdown",
   "metadata": {},
   "source": [
    "#### 無限和と積分の交換に関する注意\n",
    "\n",
    "上では $\\int_0^1 x^n\\,dx = 1/(n+1)$ となることと, 無限和 $1-x+x^2-x^3+\\cdots$ と積分 $\\int_0^1 dx$ の順序を交換できることを用いた. \n",
    "\n",
    "無限和と積分の順序交換が可能なことは以下のようにして確認できる. まず $|x|<1$ で\n",
    "\n",
    "$$\n",
    "\\frac{1}{1+x} = 1 - x + x^2 - x^3 + \\cdots + (-1)^{N-1}x^{N-1}+(-1)^N\\frac{x^N}{1+x}\n",
    "$$\n",
    "\n",
    "となることを確認せよ. この公式を使うと, \n",
    "\n",
    "$$\n",
    "\\int_0^1\\frac{dx}{1+x} = \n",
    "1-\\frac{1}{2}+\\frac{1}{3}+(-1)^{N-1}\\frac{1}{N} + (-1)^N\\int_0^1 \\frac{x^N}{1+x}\\,dx\n",
    "$$\n",
    "\n",
    "さらに $0\\leqq x\\leqq 1$ のとき, $1 \\leqq 1+x$ なので\n",
    "\n",
    "$$\n",
    "0 \\leqq \\frac{x^N}{1+x} \\leqq x^N\n",
    "$$\n",
    "\n",
    "となるから, \n",
    "\n",
    "$$\n",
    "0\\leqq \\int_0^1 \\frac{x^N}{1+x}\\,dx \\leqq \\int_0^1 x^N\\,dx = \\frac{1}{N+1}\n",
    "$$\n",
    "\n",
    "なので, $N\\to\\infty$ で\n",
    "\n",
    "$$\n",
    "\\int_0^1 \\frac{x^N}{1+x}\\,dx \\to 0.\n",
    "$$\n",
    "\n",
    "以上合わせると, \n",
    "\n",
    "$$\n",
    "\\int_0^1\\frac{dx}{1+x} = \n",
    "\\lim_{N\\to\\infty} \\sum_{n=1}^N \\frac{(-1)^{n-1}}{n} = \\sum_{n=1}^\\infty \\frac{(-1)^{n-1}}{n}\n",
    "$$\n",
    "\n",
    "となることがわかる."
   ]
  },
  {
   "cell_type": "markdown",
   "metadata": {},
   "source": [
    "#### 条件収束級数の例2\n",
    "\n",
    "**問題:** $\\ds\\sum_{n=1}^\\infty\\frac{(-1)^{n-1}}{2n-1}$ を求めよ.\n",
    "\n",
    "**答え:** $\\pi/4$."
   ]
  },
  {
   "cell_type": "markdown",
   "metadata": {},
   "source": [
    "**証明:**\n",
    "\n",
    "$a = \\tan\\theta$ の $-\\pi/2<\\theta<\\pi/2$ における逆函数を $\\theta = \\arctan a$ と書くと,\n",
    "\n",
    "$$\n",
    "\\int_0^a \\frac{dt}{1+t^2} = \\arctan a.\n",
    "$$\n",
    "\n",
    "この公式は左辺で $t=\\tan\\theta$ と置換すれば確認できる.\n",
    "\n",
    "ゆえに, \n",
    "\n",
    "$$\n",
    "\\int_0^1\\frac{dx}{1+x^2} = \\arctan 1 = \\frac{\\pi}{4}\n",
    "$$\n",
    "\n",
    "一方, $|x|<1$ のとき\n",
    "\n",
    "$$\n",
    "\\frac{1}{1+x^2} = 1 - x^2 + x^4 - x^6 + \\cdots\n",
    "$$\n",
    "\n",
    "なので\n",
    "\n",
    "$$\n",
    "\\int_0^1 \\frac{dx}{1+x^2} = \n",
    "\\int_0^1 (1 - x^2 + x^4 - x^6 + \\cdots) =\n",
    "1 - \\frac{1}{3} + \\frac{1}{5} - \\frac{1}{7} + \\cdots =\n",
    "\\sum_{n=1}^\\infty \\frac{(-1)^{n-1}}{2n-1}.\n",
    "$$\n",
    "\n",
    "したがって,  \n",
    "\n",
    "$$\n",
    "\\int_0^1 \\frac{dx}{1+x^2} = \\arctan 1 = \\frac{\\pi}{4} = \\sum_{n=1}^\\infty \\frac{(-1)^{n-1}}{2n-1}.\n",
    "\\qquad\\QED\n",
    "$$"
   ]
  },
  {
   "cell_type": "markdown",
   "metadata": {},
   "source": [
    "以下はコンピューターによる計算."
   ]
  },
  {
   "cell_type": "code",
   "execution_count": 12,
   "metadata": {},
   "outputs": [
    {
     "data": {
      "text/latex": [
       "$$\\frac{\\pi}{4}$$"
      ],
      "text/plain": [
       "pi\n",
       "--\n",
       "4 "
      ]
     },
     "execution_count": 12,
     "metadata": {},
     "output_type": "execute_result"
    }
   ],
   "source": [
    "n = symbols(\"n\", integer=true)\n",
    "S = doit(Sum((-1)^(n-1)/(2n-1), (n, 1, oo)))"
   ]
  },
  {
   "cell_type": "code",
   "execution_count": 13,
   "metadata": {},
   "outputs": [
    {
     "name": "stdout",
     "output_type": "stream",
     "text": [
      "SimpleSum = 0.7853981608974486\n",
      "TrueValue = 0.7853981633974483\n",
      "SimpleSum - TrueValue = -2.499999651739415e-9\n"
     ]
    }
   ],
   "source": [
    "N = 10^8\n",
    "SimpleSum = sum(n->(-1)^(n-1)/(2n-1), 1:N)\n",
    "TrueValue = π/4\n",
    "@show SimpleSum\n",
    "@show TrueValue\n",
    "@show SimpleSum - TrueValue;"
   ]
  },
  {
   "cell_type": "code",
   "execution_count": 14,
   "metadata": {},
   "outputs": [
    {
     "name": "stdout",
     "output_type": "stream",
     "text": [
      "EulerTran = 0.7853981633974486\n",
      "TrueValue = 0.7853981633974483\n",
      "EulerTran - TrueValue = 3.3306690738754696e-16\n"
     ]
    },
    {
     "data": {
      "text/plain": [
       "3.3306690738754696e-16"
      ]
     },
     "execution_count": 14,
     "metadata": {},
     "output_type": "execute_result"
    }
   ],
   "source": [
    "L = 2^6\n",
    "EulerTran = sum(k->eulerweight(L,k)*(-1)^k/(2k+1), 0:L-1)\n",
    "TrueValue = π/4\n",
    "@show EulerTran\n",
    "@show TrueValue\n",
    "@show EulerTran - TrueValue"
   ]
  },
  {
   "cell_type": "markdown",
   "metadata": {},
   "source": [
    "**問題:** 以上の計算における無限和と積分の正当化を自分で行ってみよ. $\\QED$"
   ]
  },
  {
   "cell_type": "markdown",
   "metadata": {},
   "source": [
    "**問題:** 以上の例以外の条件収束級数の例について調べ, ノートにまとめよ. $\\QED$"
   ]
  },
  {
   "cell_type": "markdown",
   "metadata": {},
   "source": [
    "以下はコンピューターによる $\\ds\\int_0^1\\frac{dx}{1+x^3}$ や $\\ds\\int_0^1\\frac{dx}{1+x^4}$ などの計算."
   ]
  },
  {
   "cell_type": "code",
   "execution_count": 15,
   "metadata": {},
   "outputs": [
    {
     "data": {
      "text/latex": [
       "$$\\frac{1}{3} \\log{\\left (2 \\right )} + \\frac{\\sqrt{3} \\pi}{9}$$"
      ],
      "text/plain": [
       "           ___   \n",
       "log(2)   \\/ 3 *pi\n",
       "------ + --------\n",
       "  3         9    "
      ]
     },
     "execution_count": 15,
     "metadata": {},
     "output_type": "execute_result"
    }
   ],
   "source": [
    "x = symbols(\"x\", real=true, positive=true)\n",
    "integrate(1/(1+x^3), (x,0,1))"
   ]
  },
  {
   "cell_type": "code",
   "execution_count": 16,
   "metadata": {},
   "outputs": [
    {
     "data": {
      "text/latex": [
       "$$\\frac{1}{3} \\log{\\left (2 \\right )} - \\frac{1}{3} e^{- \\frac{5 \\pi}{3} i} \\log{\\left (1 + e^{\\frac{2 \\pi}{3} i} \\right )} - \\frac{1}{3} e^{- \\frac{i \\pi}{3}} \\log{\\left (1 + e^{- \\frac{2 \\pi}{3} i} \\right )}$$"
      ],
      "text/plain": [
       "          -5*I*pi     /     2*I*pi\\    -I*pi     /     -2*I*pi \\\n",
       "          --------    |     ------|    ------    |     --------|\n",
       "             3        |       3   |      3       |        3    |\n",
       "log(2)   e        *log\\1 + e      /   e      *log\\1 + e        /\n",
       "------ - -------------------------- - --------------------------\n",
       "  3                  3                            3             "
      ]
     },
     "execution_count": 16,
     "metadata": {},
     "output_type": "execute_result"
    }
   ],
   "source": [
    "n = symbols(\"n\", integer=true, positive=true)\n",
    "S = doit(Sum((-1)^(n-1)/(3n-2), (n,1,oo)))"
   ]
  },
  {
   "cell_type": "code",
   "execution_count": 17,
   "metadata": {},
   "outputs": [
    {
     "data": {
      "text/latex": [
       "$$- \\frac{1}{3} \\log{\\left (2 \\right )} + \\frac{\\sqrt{3} \\pi}{9}$$"
      ],
      "text/plain": [
       "             ___   \n",
       "  log(2)   \\/ 3 *pi\n",
       "- ------ + --------\n",
       "    3         9    "
      ]
     },
     "execution_count": 17,
     "metadata": {},
     "output_type": "execute_result"
    }
   ],
   "source": [
    "x = symbols(\"x\", real=true, positive=true)\n",
    "integrate(x/(1+x^3), (x,0,1))"
   ]
  },
  {
   "cell_type": "code",
   "execution_count": 18,
   "metadata": {},
   "outputs": [
    {
     "data": {
      "text/latex": [
       "$$- \\frac{1}{3} \\log{\\left (2 \\right )} - \\frac{1}{3} e^{- \\frac{2 \\pi}{3} i} \\log{\\left (1 + e^{- \\frac{2 \\pi}{3} i} \\right )} - \\frac{1}{3} e^{- \\frac{10 \\pi}{3} i} \\log{\\left (1 + e^{\\frac{2 \\pi}{3} i} \\right )}$$"
      ],
      "text/plain": [
       "            -2*I*pi     /     -2*I*pi \\    -10*I*pi     /     2*I*pi\\\n",
       "            --------    |     --------|    ---------    |     ------|\n",
       "               3        |        3    |        3        |       3   |\n",
       "  log(2)   e        *log\\1 + e        /   e         *log\\1 + e      /\n",
       "- ------ - ---------------------------- - ---------------------------\n",
       "    3                   3                              3             "
      ]
     },
     "execution_count": 18,
     "metadata": {},
     "output_type": "execute_result"
    }
   ],
   "source": [
    "n = symbols(\"n\", integer=true, positive=true)\n",
    "S = doit(Sum((-1)^(n-1)/(3n-1), (n,1,oo)))"
   ]
  },
  {
   "cell_type": "code",
   "execution_count": 19,
   "metadata": {},
   "outputs": [
    {
     "data": {
      "text/latex": [
       "$$- \\frac{\\sqrt{2}}{8} \\log{\\left (- \\sqrt{2} + 2 \\right )} + \\frac{\\sqrt{2}}{8} \\log{\\left (\\sqrt{2} + 2 \\right )} + \\frac{\\sqrt{2} \\pi}{8}$$"
      ],
      "text/plain": [
       "    ___    /    ___    \\     ___    /  ___    \\     ___   \n",
       "  \\/ 2 *log\\- \\/ 2  + 2/   \\/ 2 *log\\\\/ 2  + 2/   \\/ 2 *pi\n",
       "- ---------------------- + -------------------- + --------\n",
       "            8                       8                8    "
      ]
     },
     "execution_count": 19,
     "metadata": {},
     "output_type": "execute_result"
    }
   ],
   "source": [
    "x = symbols(\"x\", real=true, positive=true)\n",
    "integrate(1/(1+x^4), (x,0,1))"
   ]
  },
  {
   "cell_type": "code",
   "execution_count": 20,
   "metadata": {},
   "outputs": [
    {
     "data": {
      "text/latex": [
       "$$- \\frac{i}{4} e^{- \\frac{i \\pi}{4}} \\log{\\left (1 + e^{\\frac{3 \\pi}{4} i} \\right )} + \\frac{1}{4} e^{- \\frac{i \\pi}{4}} \\log{\\left (1 + e^{\\frac{i \\pi}{4}} \\right )} + \\frac{i}{4} e^{- \\frac{i \\pi}{4}} \\log{\\left (1 + e^{- \\frac{i \\pi}{4}} \\right )} - \\frac{1}{4} e^{- \\frac{i \\pi}{4}} \\log{\\left (1 + e^{- \\frac{3 \\pi}{4} i} \\right )}$$"
      ],
      "text/plain": [
       "     -I*pi     /     3*I*pi\\    -I*pi     /     I*pi\\      -I*pi     /     -I*\n",
       "     ------    |     ------|    ------    |     ----|      ------    |     ---\n",
       "       4       |       4   |      4       |      4  |        4       |       4\n",
       "  I*e      *log\\1 + e      /   e      *log\\1 + e    /   I*e      *log\\1 + e   \n",
       "- -------------------------- + ---------------------- + ----------------------\n",
       "              4                          4                          4         \n",
       "\n",
       "pi \\    -I*pi     /     -3*I*pi \\\n",
       "---|    ------    |     --------|\n",
       "   |      4       |        4    |\n",
       "   /   e      *log\\1 + e        /\n",
       "---- - --------------------------\n",
       "                   4             "
      ]
     },
     "execution_count": 20,
     "metadata": {},
     "output_type": "execute_result"
    }
   ],
   "source": [
    "n = symbols(\"n\", integer=true, positive=true)\n",
    "S = doit(Sum((-1)^(n-1)/(4n-3), (n,1,oo)))"
   ]
  },
  {
   "cell_type": "code",
   "execution_count": 21,
   "metadata": {},
   "outputs": [
    {
     "data": {
      "text/latex": [
       "$$s \\Phi\\left(e^{i \\pi}, 1, s\\right)$$"
      ],
      "text/plain": [
       "          / I*pi      \\\n",
       "s*lerchphi\\e    , 1, s/"
      ]
     },
     "execution_count": 21,
     "metadata": {},
     "output_type": "execute_result"
    }
   ],
   "source": [
    "x = symbols(\"x\", real=true, positive=true)\n",
    "s = symbols(\"s\", real=true, positive=true)\n",
    "J = simplify(integrate(1/(1+x^(1/s)), (x,0,1)))"
   ]
  },
  {
   "cell_type": "code",
   "execution_count": null,
   "metadata": {},
   "outputs": [],
   "source": []
  }
 ],
 "metadata": {
  "_draft": {
   "nbviewer_url": "https://gist.github.com/3c497a31ba1cf12a10a98def8433f0a2"
  },
  "gist": {
   "data": {
    "description": "02 series",
    "public": true
   },
   "id": "3c497a31ba1cf12a10a98def8433f0a2"
  },
  "kernelspec": {
   "display_name": "Julia 0.6.2",
   "language": "julia",
   "name": "julia-0.6"
  },
  "language_info": {
   "file_extension": ".jl",
   "mimetype": "application/julia",
   "name": "julia",
   "version": "0.6.2"
  },
  "toc": {
   "nav_menu": {
    "height": "207px",
    "width": "242px"
   },
   "number_sections": true,
   "sideBar": true,
   "skip_h1_title": true,
   "title_cell": "目次",
   "title_sidebar": "目次",
   "toc_cell": true,
   "toc_position": {
    "height": "calc(100% - 180px)",
    "left": "10px",
    "top": "150px",
    "width": "214px"
   },
   "toc_section_display": true,
   "toc_window_display": false
  }
 },
 "nbformat": 4,
 "nbformat_minor": 2
}
