{
 "cells": [
  {
   "cell_type": "markdown",
   "metadata": {},
   "source": [
    "# Taylorの定理\n",
    "\n",
    "黒木玄\n",
    "\n",
    "2018-04-20\n",
    "\n",
    "* Copyright 2018 Gen Kuroki\n",
    "* License: MIT https://opensource.org/licenses/MIT\n",
    "\n",
    "このファイルは次の場所できれいに閲覧できる:\n",
    "\n",
    "* http://nbviewer.jupyter.org/github/genkuroki/Calculus/blob/master/06%20Taylor%27s%20theorems.ipynb\n",
    "\n",
    "このファイルは <a href=\"https://juliabox.com\">Julia Box</a> で利用できる.\n",
    "\n",
    "自分のパソコンに<a href=\"https://julialang.org/\">Julia言語</a>をインストールしたい場合には\n",
    "\n",
    "* <a href=\"http://nbviewer.jupyter.org/gist/genkuroki/81de23edcae631a995e19a2ecf946a4f\">WindowsへのJulia言語のインストール</a>\n",
    "\n",
    "を参照せよ.\n",
    "\n",
    "論理的に完璧な説明をするつもりはない. 細部のいい加減な部分は自分で訂正・修正せよ.\n",
    "\n",
    "$\n",
    "\\newcommand\\eps{\\varepsilon}\n",
    "\\newcommand\\ds{\\displaystyle}\n",
    "\\newcommand\\Z{{\\mathbb Z}}\n",
    "\\newcommand\\R{{\\mathbb R}}\n",
    "\\newcommand\\C{{\\mathbb C}}\n",
    "\\newcommand\\QED{\\text{□}}\n",
    "\\newcommand\\root{\\sqrt}\n",
    "$"
   ]
  },
  {
   "cell_type": "markdown",
   "metadata": {
    "toc": true
   },
   "source": [
    "<h1>目次<span class=\"tocSkip\"></span></h1>\n",
    "<div class=\"toc\"><ul class=\"toc-item\"><li><span><a href=\"#Taylorの定理\" data-toc-modified-id=\"Taylorの定理-1\"><span class=\"toc-item-num\">1&nbsp;&nbsp;</span>Taylorの定理</a></span><ul class=\"toc-item\"><li><span><a href=\"#積分型剰余項型Taylorの定理\" data-toc-modified-id=\"積分型剰余項型Taylorの定理-1.1\"><span class=\"toc-item-num\">1.1&nbsp;&nbsp;</span>積分型剰余項型Taylorの定理</a></span><ul class=\"toc-item\"><li><span><a href=\"#積分型剰余項の絶対値の上からの評価\" data-toc-modified-id=\"積分型剰余項の絶対値の上からの評価-1.1.1\"><span class=\"toc-item-num\">1.1.1&nbsp;&nbsp;</span>積分型剰余項の絶対値の上からの評価</a></span></li><li><span><a href=\"#積分型剰余項の書き直し-(1)\" data-toc-modified-id=\"積分型剰余項の書き直し-(1)-1.1.2\"><span class=\"toc-item-num\">1.1.2&nbsp;&nbsp;</span>積分型剰余項の書き直し (1)</a></span></li><li><span><a href=\"#積分型剰余項の書き直し-(2)\" data-toc-modified-id=\"積分型剰余項の書き直し-(2)-1.1.3\"><span class=\"toc-item-num\">1.1.3&nbsp;&nbsp;</span>積分型剰余項の書き直し (2)</a></span></li><li><span><a href=\"#Landau記号を用いたTaylorの定理\" data-toc-modified-id=\"Landau記号を用いたTaylorの定理-1.1.4\"><span class=\"toc-item-num\">1.1.4&nbsp;&nbsp;</span>Landau記号を用いたTaylorの定理</a></span></li></ul></li><li><span><a href=\"#$n$-回の微分可能性だけを仮定したTaylorの定理について\" data-toc-modified-id=\"$n$-回の微分可能性だけを仮定したTaylorの定理について-1.2\"><span class=\"toc-item-num\">1.2&nbsp;&nbsp;</span>$n$ 回の微分可能性だけを仮定したTaylorの定理について</a></span></li></ul></li><li><span><a href=\"#Taylor展開\" data-toc-modified-id=\"Taylor展開-2\"><span class=\"toc-item-num\">2&nbsp;&nbsp;</span>Taylor展開</a></span><ul class=\"toc-item\"><li><span><a href=\"#基本的なTaylor展開の例\" data-toc-modified-id=\"基本的なTaylor展開の例-2.1\"><span class=\"toc-item-num\">2.1&nbsp;&nbsp;</span>基本的なTaylor展開の例</a></span></li><li><span><a href=\"#コンピューターを用いた計算例\" data-toc-modified-id=\"コンピューターを用いた計算例-2.2\"><span class=\"toc-item-num\">2.2&nbsp;&nbsp;</span>コンピューターを用いた計算例</a></span></li></ul></li><li><span><a href=\"#べき級数の収束\" data-toc-modified-id=\"べき級数の収束-3\"><span class=\"toc-item-num\">3&nbsp;&nbsp;</span>べき級数の収束</a></span><ul class=\"toc-item\"><li><span><a href=\"#べき級数の定義\" data-toc-modified-id=\"べき級数の定義-3.1\"><span class=\"toc-item-num\">3.1&nbsp;&nbsp;</span>べき級数の定義</a></span></li><li><span><a href=\"#べき級数の収束\" data-toc-modified-id=\"べき級数の収束-3.2\"><span class=\"toc-item-num\">3.2&nbsp;&nbsp;</span>べき級数の収束</a></span></li></ul></li><li><span><a href=\"#超幾何級数\" data-toc-modified-id=\"超幾何級数-4\"><span class=\"toc-item-num\">4&nbsp;&nbsp;</span>超幾何級数</a></span></li></ul></div>"
   ]
  },
  {
   "cell_type": "code",
   "execution_count": 1,
   "metadata": {},
   "outputs": [],
   "source": [
    "using Plots\n",
    "gr(); ENV[\"PLOTS_TEST\"] = \"true\"\n",
    "#clibrary(:colorcet)\n",
    "clibrary(:misc)\n",
    "\n",
    "function pngplot(P...; kwargs...)\n",
    "    sleep(0.1)\n",
    "    pngfile = tempname() * \".png\"\n",
    "    savefig(plot(P...; kwargs...), pngfile)\n",
    "    showimg(\"image/png\", pngfile)\n",
    "end\n",
    "pngplot(; kwargs...) = pngplot(plot!(; kwargs...))\n",
    "\n",
    "showimg(mime, fn) = open(fn) do f\n",
    "    base64 = base64encode(f)\n",
    "    display(\"text/html\", \"\"\"<img src=\"data:$mime;base64,$base64\">\"\"\")\n",
    "end\n",
    "\n",
    "using SymPy\n",
    "#sympy[:init_printing](order=\"lex\") # default\n",
    "#sympy[:init_printing](order=\"rev-lex\")\n",
    "\n",
    "using SpecialFunctions\n",
    "using QuadGK"
   ]
  },
  {
   "cell_type": "markdown",
   "metadata": {},
   "source": [
    "## Taylorの定理\n",
    "\n",
    "$$\n",
    "f(x) = f(a) + f'(a)(x-a) + \\frac{1}{2}f''(a)(x-a)^2 + \\cdots + \\frac{1}{k!}f^{(k)}(a)(x-a)^k + \\cdots\n",
    "$$\n",
    "\n",
    "の最後の $+\\cdots$ の部分を $f$ の $k+1$ 階の導函数の式で書いた結果を**Taylorの定理**と呼ぶことにする.  その表示の仕方には様々な形がある."
   ]
  },
  {
   "cell_type": "markdown",
   "metadata": {},
   "source": [
    "### 積分型剰余項型Taylorの定理"
   ]
  },
  {
   "cell_type": "markdown",
   "metadata": {},
   "source": [
    "$f$ は $C^n$ 級函数であると仮定する.  \n",
    "\n",
    "まず, $n=4$ の場合を例として扱う. そのとき\n",
    "\n",
    "$$\n",
    "f'''(x) = f'''(a) + \\int_a^x f^{(4)}(x_4)\\,dx_4.\n",
    "$$\n",
    "\n",
    "ゆえに\n",
    "\n",
    "$$\n",
    "\\begin{aligned}\n",
    "f''(x) &= \n",
    "f''(a) + \\int_0^x f'''(x_3)\\,dx_3\n",
    "\\\\ & =\n",
    "f''(a) + f'''(a)(x-a) + \\int_a^x\\left[\\int_a^{x_3} f^{(4)}(x_4)\\,dx_4\\right]\\,dx_3.\n",
    "\\end{aligned}\n",
    "$$\n",
    "\n",
    "括弧が増えると書くのが面倒になるので\n",
    "\n",
    "$$\n",
    "\\int_a^x dx_3\\int_a^{x_3} dx_4\\; f^{(4)}(x_4) :=\n",
    "\\int_a^x\\left[\\int_a^{x_3} f^{(4)}(x_4)\\,dx_4\\right]\\,dx_3\n",
    "$$\n",
    "\n",
    "と書くことにする. 積分が3重以上でも同様に書くことにする.  そのように書くと, \n",
    "\n",
    "$$\n",
    "f''(x) = \n",
    "f''(a) + f'''(a)(x-a) + \\int_a^x dx_3\\int_a^{x_3} dx_4\\; f^{(4)}(x_4).\n",
    "$$\n",
    "\n",
    "ゆえに\n",
    "\n",
    "$$\n",
    "\\begin{aligned}\n",
    "f'(x) &= f'(a) + \\int_a^x dx_2\\,f''(x_2)\n",
    "\\\\ & =\n",
    "f'(a) + f''(a)(x-a) + \\frac{1}{2}f'''(a)(x-a)^2 + \n",
    "\\int_a^x dx_2\\int_a^{x_2}dx_3\\int_a^{x_3} dx_4\\; f^{(4)}(x_4).\n",
    "\\end{aligned}\n",
    "$$\n",
    "\n",
    "さらに, \n",
    "\n",
    "$$\n",
    "\\begin{aligned}\n",
    "f(x) &= f(a) + \\int_a^x dx_1\\,f'(x_1)\n",
    "\\\\ & =\n",
    "f(a) + f'(a)(x-a) + \\frac{1}{2}f''(a)(x-a)^2 + \\frac{1}{3!}f'''(a)(x-a)^3 +\n",
    "\\int_a^x dx_1 \\int_a^{x_1} dx_2\\int_a^{x_2}dx_3\\int_a^{x_3} dx_4\\; f^{(4)}(x_4).\n",
    "\\end{aligned}\n",
    "$$\n",
    "\n",
    "以上をまとめると, \n",
    "\n",
    "$$\n",
    "\\begin{aligned}\n",
    "&\n",
    "f(x) = f(a) + f'(a)(x-a) + \\frac{1}{2}f''(a)(x-a)^2 + \\frac{1}{3!}f'''(a)(x-a)^3 + R_4,\n",
    "\\\\ &\n",
    "R_4 = \\int_a^x dx_1 \\int_a^{x_1} dx_2\\int_a^{x_2}dx_3\\int_a^{x_3} dx_4\\; f^{(4)}(x_4).\n",
    "\\end{aligned}\n",
    "$$"
   ]
  },
  {
   "cell_type": "markdown",
   "metadata": {},
   "source": [
    "上と同様にして次が成立することを示せる.\n",
    "\n",
    "**Taylorの定理:** $f$ は $C^n$ 級函数であると仮定する. そのとき, \n",
    "$$\n",
    "\\begin{aligned}\n",
    "&\n",
    "f(x) = f(a) + f'(a)(x-a) + \\frac{1}{2}f''(a)(x-a)^2 + \\cdots + \n",
    "\\frac{1}{(n-1)!}f^{(n-1)}(a)(x-a)^{n-1} + R_n,\n",
    "\\\\ &\n",
    "R_n = \\int_a^x dx_1 \\int_a^{x_1} dx_2\\cdots\\int_a^{x_{n-1}} dx_n\\; f^{(n)}(x_n).\n",
    "\\qquad \n",
    "\\end{aligned}\n",
    "$$\n",
    "\n",
    "$R_n$ を**剰余項**と呼ぶ. $\\QED$\n",
    "\n",
    "この形のTaylorの定理は $f^{(n)}(x)$ を何度も積分するだけで得られ, 技巧的な証明の工夫をする必要が一切ない.\n",
    "\n",
    "**問題:** 上の形のTaylorの定理の証明を完成せよ. $\\QED$"
   ]
  },
  {
   "cell_type": "markdown",
   "metadata": {},
   "source": [
    "#### 積分型剰余項の絶対値の上からの評価\n",
    "\n",
    "以下, $a$ と $x$ のあいだの $t$ について $|f^{(n)}(t)|\\leqq M$ が成立しているとき, \n",
    "\n",
    "$$\n",
    "|R_n| \\leqq \\left|\\int_a^x dx_1 \\int_a^{x_1} dx_2\\cdots\\int_a^{x_{n-1}} dx_n\\; M \\right| = \n",
    "\\frac{1}{n!}M |x-a|^n.\n",
    "$$\n",
    "\n",
    "ここで, \n",
    "\n",
    "$$\n",
    "\\int_a^x dx_1 \\int_a^{x_1} dx_2\\cdots\\int_a^{x_{n-1}} dx_n\\;1 = \\frac{1}{n!}(x-a)^n\n",
    "$$\n",
    "\n",
    "となることを使った. $1$ を $a$ から $x$ まで積分する操作を $n$ 回繰り返すとそうなることは容易に確かめられる.\n",
    "\n",
    "$$\n",
    "|R_n| \\leqq \\frac{M |x-a|^n}{n!}\n",
    "$$\n",
    "\n",
    "の形の不等式はよく使われる."
   ]
  },
  {
   "cell_type": "markdown",
   "metadata": {},
   "source": [
    "#### 積分型剰余項の書き直し (1)\n",
    "\n",
    "**定理:**\n",
    "$$\n",
    "R_n = \\int_a^x f^{(n)}(x_n) \\frac{(x-x_n)^{n-1}}{(n-1)!}\\,dx_n.\n",
    "$$\n",
    "\n",
    "**証明:** 簡単のため $a<x$ と仮定する($a>x$ の場合も同様である).  そのとき, 積分\n",
    "\n",
    "$$\n",
    "R_n = \\int_a^x dx_1 \\int_a^{x_1} dx_2\\cdots\\int_a^{x_{n-1}} dx_n\\; f^{(n)}(x_n)\n",
    "$$\n",
    "\n",
    "の中の $x_i$ たちは $a\\leqq x_n \\leqq x_{n-1}\\leqq\\cdots x_2 \\leqq x_1 \\leqq x$ を動く. ゆえに, この積分は\n",
    "\n",
    "$$\n",
    "R_n = \\int_a^x\\left[\\,\n",
    "f^{(n)}(x_n)\n",
    "\\int_{x_n}^x dx_1\\int_{x_n}^{x_1}dx_2\\cdots\\int_{x_n}^{x_{n-2}}dx_{n-1}\\; 1\n",
    "\\right]\\,dx_n\n",
    "$$\n",
    "\n",
    "\n",
    "と書き直される. そして, \n",
    "\n",
    "$$\n",
    "\\int_{x_n}^x dx_1\\int_{x_n}^{x_1}dx_2\\cdots\\int_{x_n}^{x_{n-2}}dx_{n-1}\\; 1 = \n",
    "\\frac{(x-x_n)^{n-1}}{(n-1)!}\n",
    "$$\n",
    "\n",
    "なので上の定理が得られる. $\\QED$"
   ]
  },
  {
   "cell_type": "markdown",
   "metadata": {},
   "source": [
    "**注意:** $f$ が $C^{n+1}$ 級函数ならば, 上の定理の $n$ の場合の結果から, 部分積分によって\n",
    "\n",
    "$$\n",
    "R_n = f^{(n)}(a)\\frac{(x-a)^n}{n!} + R_{n+1}\n",
    "$$\n",
    "\n",
    "が得られる(問題: 示してみよ). ゆえに, 部分積分を用いた $n$ に関する帰納法によっても上の定理を示せる. 部分積分を用いる計算法はよく使われる. $\\QED$"
   ]
  },
  {
   "cell_type": "markdown",
   "metadata": {},
   "source": [
    "#### 積分型剰余項の書き直し (2)\n",
    "\n",
    "簡単のため $a<x$ であると仮定する.\n",
    "\n",
    "$f$ は $C^n$ 級函数であるとする. そのとき $f^{(n)}$ は連続函数になる. $f^{(n)}(t)$ の $a\\leqq t\\leqq x$ における最小値と最大値はそれぞれ $f^{(n)}(\\alpha)$, $f^{(n)}(\\beta)$ であるとする. そのとき,\n",
    "\n",
    "$$\n",
    "f^{(n)}(\\alpha) \\frac{(x-a)^n}{n!}\\leqq  R_n \\leqq f^{(n)}(\\beta) \\frac{(x-a)^n}{n!}\n",
    "$$\n",
    "\n",
    "が成立する. なぜならば $R_n$ の中の $f^{(n)}(x_n)$ を定数 $C$ で置き換えると $R_n$ の値は $C(x-a)^n/n!$ に変わるからである. 中間値の定理より, ある実数 $\\xi$ で\n",
    "\n",
    "$$\n",
    "R_n = f^{(n)}(\\xi)\\frac{(x-a)^n}{n!}, \\quad a<\\xi<x \n",
    "$$\n",
    "\n",
    "を満たすものが存在する.  $a<x$ の仮定を $a>x$ で置き換えると, $a<\\xi<x$ は $a>\\xi>x$ に変わる.\n",
    "\n",
    "剰余項の\n",
    "\n",
    "$$\n",
    "R_n = f^{(n)}(\\xi)\\frac{(x-a)^n}{n!}, \\quad a{< \\atop >}\\xi{<\\atop >}x \n",
    "$$\n",
    "\n",
    "の形もよく使われる."
   ]
  },
  {
   "cell_type": "markdown",
   "metadata": {},
   "source": [
    "#### Landau記号を用いたTaylorの定理\n",
    "\n",
    "$C^n$ 級函数 $f$ について $a$ と $x$ のあいだのある実数 $\\xi$ で\n",
    "\n",
    "$$\n",
    "R_n = f^{(n)}(\\xi)\\frac{(x-a)^n}{n!}\n",
    "$$\n",
    "\n",
    "を満たすものが存在することを上で示した. $f^{(n)}$ は連続なので $x\\to a$ のとき $f^{(n)}(\\xi)\\to f^{(n)}(a)$ となる. ゆえに\n",
    "\n",
    "$$\n",
    "R_n - f^{(n)}(a)\\frac{(x-a)^n}{n!} = (f^{(n)}(\\xi) - f^{(n)}(a))\\frac{(x-a)^n}{n!} = o((x-a)^n)\n",
    "\\quad (x\\to a).\n",
    "$$\n",
    "\n",
    "これで次が成立することがわかった:\n",
    "\n",
    "$$\n",
    "f(x) = f(a) + f'(a)(x-a) + \\frac{1}{2}f''(a)(x-a)^2 + \\cdots + \n",
    "\\frac{1}{n!}f^{(n)}(a)(x-a)^n + o((x-a)^n)\n",
    "\\quad (x\\to a).\n",
    "$$\n",
    "\n",
    "Taylorの定理はこの形でもよく使われる.\n",
    "\n",
    "さらに $f$ が $C^{n+1}$ 級ならば, $n+1$ 次の剰余項は\n",
    "\n",
    "$$\n",
    "R_{n+1} = \\frac{1}{(n+1)!}f^{(n+1)}(\\xi)(x-a)^{n+1} = O((x-a)^{n+1}), \\quad\n",
    "\\text{($\\xi$ は $a$ と $x$ のあいだにある)}\n",
    "$$\n",
    "\n",
    "の形をしているので, \n",
    "\n",
    "$$\n",
    "f(x) = f(a) + f'(a)(x-a) + \\frac{1}{2}f''(a)(x-a)^2 + \\cdots + \n",
    "\\frac{1}{n!}f^{(n)}(a)(x-a)^n + O((x-a)^{n+1})\n",
    "\\quad (x\\to a).\n",
    "$$\n",
    "\n",
    "も成立していることがわかる."
   ]
  },
  {
   "cell_type": "markdown",
   "metadata": {},
   "source": [
    "### $n$ 回の微分可能性だけを仮定したTaylorの定理について\n",
    "\n",
    "以上では $C^n$ 級の仮定のもとでTaylorの定理を証明したが, $n$ 回微分可能の仮定のもとでもTaylorの定理を導くことができる. 例えば, \n",
    "\n",
    "* 高木貞治『解析概論』改定第三版\n",
    "\n",
    "の第25節のpp.61-63に詳しい説明がある. このノートでは技巧的になり過ぎるので扱わないことにする."
   ]
  },
  {
   "cell_type": "markdown",
   "metadata": {},
   "source": [
    "## Taylor展開\n",
    "\n",
    "$C^\\infty$ 函数 $f$ について, ある $r>0$ が存在して, \n",
    "\n",
    "$$\n",
    "f(x) = \\sum_{k=0}^\\infty \\frac{1}{k!}f^{(k)}(a)(x-a)^k\n",
    "$$\n",
    "\n",
    "が $|x-a|<r$ で収束するとき $f$ は $x=a$ で**Taylor展開**可能であるという. そのような $r$ の最大値をTaylor展開の**収束半径**と呼ぶ. Taylor展開は**べき級数展開**と呼ばれることも多い.\n",
    "\n",
    "$x=0$ におけるTaylor展開は**Maclaurin展開**と呼ばれることがある."
   ]
  },
  {
   "cell_type": "markdown",
   "metadata": {},
   "source": [
    "### 基本的なTaylor展開の例\n",
    "\n",
    "以下のTaylor展開はよく使われる.\n",
    "\n",
    "$$\n",
    "\\begin{aligned}\n",
    "&\n",
    "(1+x)^a = \\sum_{k=0}^\\infty\\binom{a}{k}x^k \\qquad(|x|<1), \n",
    "\\qquad \\binom{a}{k} = \\frac{a(a-1)\\cdots(a-k+1)}{k!}.\n",
    "\\\\ &\n",
    "(1-x)^{-a} = \\sum_{k=0}^\\infty\\frac{(a)_k}{k!} x^k \\qquad(|x|<1), \n",
    "\\qquad (a)_k = a(a+1)\\cdots(a+k-1).\n",
    "\\\\ &\n",
    "e^x = \\sum_{k=0}^\\infty \\frac{x^k}{k!} \\qquad(|x|<\\infty).\n",
    "\\\\ &\n",
    "\\cos x = \\sum_{k=0}^\\infty \\frac{(-1)^k x^{2k}}{(2k)!} \\qquad(|x|<\\infty).\n",
    "\\\\ &\n",
    "\\sin x = \\sum_{k=0}^\\infty \\frac{(-1)^k x^{2k+1}}{(2k+1)!} \\qquad(|x|<\\infty).\n",
    "\\\\ &\n",
    "\\log(1+x) = \\sum_{k=1}^\\infty \\frac{(-1)^{k-1}x^k}{k}, \\qquad (|x|<1).\n",
    "\\\\ &\n",
    "-\\log(1-x) = \\sum_{k=1}^\\infty \\frac{x^k}{k} \\qquad (|x|<1).\n",
    "\\\\ &\n",
    "\\arcsin x = \\sum_{k=0}^\\infty (-1)^k\\binom{-1/2}{k}\\frac{x^{2k+1}}{2k+1} =\n",
    "\\sum_{k=0}^\\infty \\frac{1}{2^{2k}}\\frac{(2k)!}{(k!)^2}\\frac{x^{2k+1}}{2k+1}\n",
    "\\qquad (|x|<1).\n",
    "\\\\ &\n",
    "\\arctan x = \\sum_{k=0}^\\infty (-1)^k\\frac{x^{2k+1}}{2k+1} \n",
    "\\qquad (|x|<1).\n",
    "\\end{aligned}\n",
    "$$\n",
    "\n",
    "**問題:** 以上の公式をすべて示せ. $\\QED$\n",
    "\n",
    "解答は略す. まずは自分で $f(0)$, $f'(0)$, $f''(0)$, $f'''(0)$ を計算してみよう. そして, 個人的には最初の段階ではTaylor展開が収束するか否かにはあまり神経を使わなくてもよいと思う. \n",
    "\n",
    "他人が書いた解説に単に従うだけだと数学は決して理解できない. 自分で何を計算するべきであるかを考え, 自分が持っている力でその計算を実行してみて, その計算結果を見て次に何を計算するべきであるかを考え, また計算を繰り返す. 試行錯誤抜きに数学をまともに理解できるようになることはありえない.\n",
    "\n",
    "しかし, 以下の説明も読んでおくこと."
   ]
  },
  {
   "cell_type": "markdown",
   "metadata": {},
   "source": [
    "**復習:** $\\ds\\binom{a}{k}$ は二項係数を表すのであった:\n",
    "\n",
    "$$\n",
    "\\binom{a}{k} = \\frac{a(a-1)\\cdots(a-k+1)}{k!}.\n",
    "$$\n",
    "\n",
    "例えば\n",
    "\n",
    "$$\n",
    "\\binom{a}{0}=1,\\quad\n",
    "\\binom{a}{1}=a,\\quad\n",
    "\\binom{a}{2}=\\frac{a(a-1)}{2},\\quad\n",
    "\\binom{a}{3}=\\frac{a(a-1)(a-2)}{6}.\n",
    "$$"
   ]
  },
  {
   "cell_type": "markdown",
   "metadata": {},
   "source": [
    "$(a)_k = a(a+1)\\cdots(a+k-1)$ もよく使われる記号法である. 例えば\n",
    "\n",
    "$$\n",
    "(a)_0 = 1, \\quad\n",
    "(a)_1 = a, \\quad\n",
    "(a)_2 = a(a+1), \\quad\n",
    "(a)_3 = a(a+1)(a+2).\n",
    "$$"
   ]
  },
  {
   "cell_type": "markdown",
   "metadata": {},
   "source": [
    "**参考:** 収束半径については複素解析によって以下が知られている. $x=a$ でTaylor展開可能な函数 $f(x)$ を $|z-a|<r$ を満たす複素数 $z$ の正則函数に拡張できるとき, そのTaylor展開の収束半径は $r$ 以上になる. だから, $f(x)$ を可能な限り解析接続したものを $f(z)$ と書くとき, $f$ の $x=a$ でのTaylor展開の収束半径は $a$ から $f(z)$ の正則ではない点までの最短距離に等しい.\n",
    "\n",
    "例えば, $a$ が非負の整数以外であるとき, $f(x)=(1+x)^a = \\exp(a\\log(1+x))$ を複素平面に解析接続によって拡張すると, $x=0$ に最も近い $f$ の正則ではない点は $x=-1$ なので収束半径は $1$ になる. 例えば $a=-1$ のとき\n",
    "\n",
    "$$\n",
    "(1+x)^{-1} = \\frac{1}{1+x} = 1 - x + x^2 - x^3 + \\cdots\n",
    "$$\n",
    "\n",
    "と公比 $-x$ の等比級数が出て来るが, これが成立するのは $|x|<1$ においてである. $x=0$ から最も近い函数 $f(x)=1/(1+x)$ の特異点は $x=-1$ である.\n",
    "\n",
    "同様の理由で $f(x)=\\log(1+x)$ や $f(x)=-\\log(1-x)$ の場合も $x=0$ でのTaylor展開の収束半径は $1$ になる.\n",
    "\n",
    "例えば, $\\exp x$, $\\sin x$, $\\cos x$ は複素平面全体上の正則函数に拡張できることと, それらのTaylor展開の収束半径が $\\infty$ になることは同値になり, 実際にどちらも成立している."
   ]
  },
  {
   "cell_type": "markdown",
   "metadata": {},
   "source": [
    "**逆三角函数に関するヒント:** $\\arcsin x$ と $\\arctan x$ については\n",
    "\n",
    "$$\n",
    "\\arcsin x = \\int_0^x \\frac{dt}{\\sqrt{1-t^2}}, \\quad\n",
    "\\arctan x = \\int_0^x \\frac{dt}{1+t^2}\n",
    "$$\n",
    "\n",
    "を用いてよい. さらに $|t|<1$ で\n",
    "\n",
    "$$\n",
    "\\frac{1}{\\sqrt{1-t^2}} = (1-t^2)^{-1/2} = \\sum_{k=0}^\\infty (-1)^k\\binom{-1/2}{k}t^{2k}, \\qquad\n",
    "\\frac{1}{1+t^2} = \\sum_{k=0}^\\infty (-1)^k t^{2k}.\n",
    "$$\n",
    "\n",
    "これを項別に積分すれば欲しい結果が得られる.\n",
    "\n",
    "二項係数 $\\ds\\binom{-1/2}{k}$ の部分は以下のように処理できる:\n",
    "\n",
    "$$\n",
    "\\begin{aligned}\n",
    "(-1)^k\\binom{-1/2}{k} &=\n",
    "(-1)^k\\frac{-\\frac{1}{2}\\left(-\\frac{1}{2}-1\\right)\\cdots\\left(-\\frac{1}{2}-k+1\\right)}{k!}\n",
    "\\\\ &=\n",
    "\\frac{\\frac{1}{2}\\left(\\frac{1}{2}+1\\right)\\cdots\\left(\\frac{1}{2}+k-1\\right)}{k!} =\n",
    "\\frac{1\\cdot 3\\cdots(2k-1)}{2^k\\;k!} \n",
    "\\\\ &=\n",
    "\\frac{1\\cdot 3\\cdots(2k-1)}{2^k\\;k!} \\frac{2\\cdot 4\\cdots(2k)}{2^k\\;k!}\n",
    "= \\frac{1}{2^{2k}}\\frac{(2k)!}{(k!)^2}.\n",
    "\\qquad\\QED\n",
    "\\end{aligned}\n",
    "$$"
   ]
  },
  {
   "cell_type": "markdown",
   "metadata": {},
   "source": [
    "**問題:** $e^x$ と $\\cos x$ と $\\sin x$ の $x=0$ におけるTaylor展開が $x$ が複素数である場合にも成立していると仮定して, \n",
    "\n",
    "$$\n",
    "e^{ix} = \\cos x + i \\sin x\n",
    "$$\n",
    "\n",
    "が成立していることを示せ. $\\QED$\n",
    "\n",
    "**解答例:**\n",
    "$$\n",
    "\\begin{aligned}\n",
    "e^{ix} &=\n",
    "\\sum_{n=0}^\\infty \\frac{i^n x^n}{n!} =\n",
    "\\sum_{k=0}^\\infty \\frac{i^{2k}x^{2k}}{(2k)!} + \\sum_{k=0}^\\infty \\frac{i^{2k+1}x^{2k+1}}{(2k+1)!}\n",
    "\\\\ &=\n",
    "\\sum_{k=0}^\\infty \\frac{(-1)^k x^{2k}}{(2k)!} + i\\sum_{k=0}^\\infty \\frac{(-1)^k x^{2k+1}}{(2k+1)!} =\n",
    "\\cos x + i\\sin x.\n",
    "\\end{aligned}\n",
    "$$\n",
    "\n",
    "1つ目の等号で $e^z$ の $z=0$ におけるTaylor展開を $z=ix$ に適用した. 2つ目の等号では和を $n$ が偶数の場合と奇数の場合に分けた. 3つ目の等号では $i^{2k}=(-1)^k$ を使った. 4つ目の等号では $\\cos z$, $\\sin z$ の $z=0$ におけるTaylor展開を $z=x$ に適用した.  $\\QED$"
   ]
  },
  {
   "cell_type": "markdown",
   "metadata": {},
   "source": [
    "**問題:** $\\sqrt{10}$ を\n",
    "\n",
    "$$\n",
    "(1+x)^{1/2} = \\sum_{k=0}^\\infty\\binom{1/2}{k}x^k =\n",
    "1 + \\frac{x}{2} - \\frac{x^8}{8} + \\frac{x^3}{16} + O(x^4)\n",
    "\\qquad (|x|<1)\n",
    "$$\n",
    "\n",
    "を用いて小数点以下第2桁まで求めよ.\n",
    "\n",
    "**解答例:**\n",
    "\n",
    "$$\n",
    "\\sqrt{10} = (9+1)^{1/2} = 3(1+1/9)^{1/2} =\n",
    "3 + 3\\frac{1}{2}\\frac{1}{9} - 3\\frac{1}{8}\\frac{1}{9^2} + 3\\frac{1}{16}\\frac{1}{9^3} + \\cdots.\n",
    "$$\n",
    "\n",
    "そして, \n",
    "\n",
    "$$\n",
    "3\\frac{1}{2}\\frac{1}{9} = \\frac{1}{6} = 0.166666\\cdots, \\quad\n",
    "-3\\frac{1}{8}\\frac{1}{9^2} = -\\frac{1}{216} = -0.004629\\cdots, \\quad\n",
    "3\\frac{1}{16}\\frac{1}{9^3} = 0.000257\\cdots, \\quad\n",
    "$$\n",
    "\n",
    "より\n",
    "\n",
    "$$\n",
    "3 + 3\\frac{1}{2}\\frac{1}{9} - 3\\frac{1}{8}\\frac{1}{9^2} = 3.162\\cdots\n",
    "$$\n",
    "\n",
    "$\\sqrt{10}=3.16\\cdots$ である. $\\QED$"
   ]
  },
  {
   "cell_type": "markdown",
   "metadata": {},
   "source": [
    "**注意:** 上では誤差項をきちんと評価せずに計算したがきちんと評価するには次のようにすればよい. 剰余項付きのTaylorの定理より, $0<x<1$ のとき ある実数 $\\xi$ が存在して,\n",
    "\n",
    "$$\n",
    "\\begin{aligned}\n",
    "&\n",
    "(1+x)^{1/2} = 1 + \\frac{x}{2} - \\frac{x}{8} + \\frac{x^3}{16(1+\\xi)^{5/2}}, \\quad 0<\\xi<x,\n",
    "\\\\ &\n",
    "0<\\frac{x^3}{16(1+\\xi)^{5/2}}<\\frac{x^3}{16}.\n",
    "\\end{aligned}\n",
    "$$\n",
    "\n",
    "ゆえに, $x=1/9$ のとき, $\\sqrt{10}$ と $3+1/6-1/216=3.162\\cdots$ の差は\n",
    "\n",
    "$$\n",
    "3\\frac{1}{16}\\frac{1}{9^3} = 0.000257\\cdots\n",
    "$$\n",
    "\n",
    "より小さい. このことに注意すれば本当に小数点以下第2桁まで正確に計算できているという数学的な証明が得られる. $\\QED$"
   ]
  },
  {
   "cell_type": "code",
   "execution_count": 2,
   "metadata": {},
   "outputs": [
    {
     "data": {
      "text/latex": [
       "$$1 + \\frac{x}{2} - \\frac{x^{2}}{8} + \\frac{x^{3}}{16} - \\frac{5 x^{4}}{128} + \\mathcal{O}\\left(x^{5}\\right)$$"
      ],
      "text/plain": [
       "         2    3      4        \n",
       "    x   x    x    5*x     / 5\\\n",
       "1 + - - -- + -- - ---- + O\\x /\n",
       "    2   8    16   128         "
      ]
     },
     "execution_count": 2,
     "metadata": {},
     "output_type": "execute_result"
    }
   ],
   "source": [
    "x = symbols(\"x\")\n",
    "series((1+x)^(Sym(1)/2), n=5)"
   ]
  },
  {
   "cell_type": "code",
   "execution_count": 3,
   "metadata": {},
   "outputs": [
    {
     "data": {
      "text/plain": [
       "(0.16666666666666666, -0.004629629629629629, 0.000257201646090535)"
      ]
     },
     "execution_count": 3,
     "metadata": {},
     "output_type": "execute_result"
    }
   ],
   "source": [
    "3/2/9, -3/8/9^2, 3/16/9^3"
   ]
  },
  {
   "cell_type": "code",
   "execution_count": 4,
   "metadata": {},
   "outputs": [
    {
     "data": {
      "text/plain": [
       "(3.1620370370370368, 0.000257201646090535)"
      ]
     },
     "execution_count": 4,
     "metadata": {},
     "output_type": "execute_result"
    }
   ],
   "source": [
    "3 + 3/2/9 -3/8/9^2, 3/16/9^3"
   ]
  },
  {
   "cell_type": "markdown",
   "metadata": {},
   "source": [
    "√ は \\sqrt TAB で入力できる.\n",
    "\n",
    "https://docs.julialang.org/en/stable/manual/unicode-input/"
   ]
  },
  {
   "cell_type": "code",
   "execution_count": 5,
   "metadata": {},
   "outputs": [
    {
     "data": {
      "text/plain": [
       "3.1622776601683795"
      ]
     },
     "execution_count": 5,
     "metadata": {},
     "output_type": "execute_result"
    }
   ],
   "source": [
    "√(10)"
   ]
  },
  {
   "cell_type": "code",
   "execution_count": 6,
   "metadata": {},
   "outputs": [
    {
     "data": {
      "text/plain": [
       "3628800"
      ]
     },
     "execution_count": 6,
     "metadata": {},
     "output_type": "execute_result"
    }
   ],
   "source": [
    "factorial(10)"
   ]
  },
  {
   "cell_type": "markdown",
   "metadata": {},
   "source": [
    "**問題:** $\\tan x$ の $x=0$ でのTaylor展開 $5$ 次の項まで求めよ.\n",
    "\n",
    "**解答例:** $f(x)=\\tan x$ とおくと $f'= 1 + \\tan^2 x = 1 + f^2$ となので, \n",
    "\n",
    "$$\n",
    "\\begin{aligned}\n",
    "&\n",
    "f'' = 2ff' = 2f + 2f^3,\n",
    "\\\\ &\n",
    "f''' =  2f' + 6f^2f' = 2 + 8f^2 + 6f^4,\n",
    "\\\\ &\n",
    "f^{(4)} = 16ff' + 24f^3f' = 16f + 40f^3 + 24f^5,\n",
    "\\\\ &\n",
    "f^{(5)} = 16f' + 120f^2f' + 120f^4f' = 16 + 136f^2 + 240f^4 + 120f^6.\n",
    "\\end{aligned}\n",
    "$$\n",
    "\n",
    "ゆえに\n",
    "\n",
    "$$\n",
    "f(0)=f''(0)=f^{(4)}(0)=0, \\quad\n",
    "f'(0)=1, \\quad f'''(0)=2, \\quad f^{(5)}(0)=16. \n",
    "$$\n",
    "\n",
    "したがって, \n",
    "\n",
    "$$\n",
    "\\tan x = f(x)\n",
    "= x + \\frac{2}{3!}x^3 + \\frac{16}{5!}x^5 + \\cdots\n",
    "= x + \\frac{1}{3}x^3 + \\frac{2}{15}x^5 + \\cdots.\n",
    "\\qquad\\QED\n",
    "$$\n",
    "\n",
    "**別の解答例:** $\\sin x$ と $\\cos x$ のMaclaurin展開から $\\tan x$ のMaclaurin展開を求めよう:\n",
    "\n",
    "$$\n",
    "\\begin{aligned}\n",
    "\\tan x &= \\frac{\\sin x}{\\cos x} = \\frac{\\sin x}{1-(1-\\cos(x))}\n",
    "\\\\ &=\n",
    "\\sin x\\;(1 + (1-\\cos x) + (1-\\cos x)^2 + \\cdots)\n",
    "\\\\ &=\n",
    "\\left(x - \\frac{x^3}{6} + \\frac{x^5}{120} + O(x^7)\\right)\n",
    "\\left(\n",
    "1 + \n",
    "\\left(\\frac{x^2}{2} - \\frac{x^4}{24}\\right) +\n",
    "\\left(\\frac{x^2}{2} - \\frac{x^4}{24}\\right)^2 + O(x^6)\n",
    "\\right)\n",
    "\\\\ &=\n",
    "\\left(x - \\frac{x^3}{6} + \\frac{x^5}{120} + O(x^7)\\right)\n",
    "\\left(\n",
    "1 + \\frac{x^2}{2} + \\left(-\\frac{1}{24}+\\frac{1}{4}\\right)x^4 + O(x^6)\n",
    "\\right)\n",
    "\\\\ &=\n",
    "\\left(x - \\frac{x^3}{6} + \\frac{x^5}{120} + O(x^7)\\right)\n",
    "\\left(\n",
    "1 + \\frac{x^2}{2} + \\frac{5}{24}x^4 + O(x^6)\n",
    "\\right)\n",
    "\\\\ &=\n",
    "x + \\left(\\frac{1}{2}-\\frac{1}{6}\\right)x^3 + \\left(\\frac{5}{24}-\\frac{1}{12}+\\frac{1}{120}\\right)x^5 + O(x^7)\n",
    "\\\\ &=\n",
    "x + \\frac{1}{3}x^3 + \\frac{2}{15}x^5 + O(x^7).\n",
    "\\qquad\\QED\n",
    "\\end{aligned}\n",
    "$$"
   ]
  },
  {
   "cell_type": "code",
   "execution_count": 7,
   "metadata": {},
   "outputs": [
    {
     "data": {
      "text/latex": [
       "$$\\tan{\\left (x \\right )}$$"
      ],
      "text/plain": [
       "tan(x)"
      ]
     },
     "metadata": {},
     "output_type": "display_data"
    },
    {
     "data": {
      "text/latex": [
       "$$1 + \\tan^{2}{\\left (x \\right )}$$"
      ],
      "text/plain": [
       "       2   \n",
       "1 + tan (x)"
      ]
     },
     "metadata": {},
     "output_type": "display_data"
    },
    {
     "data": {
      "text/latex": [
       "$$2 \\tan{\\left (x \\right )} + 2 \\tan^{3}{\\left (x \\right )}$$"
      ],
      "text/plain": [
       "                3   \n",
       "2*tan(x) + 2*tan (x)"
      ]
     },
     "metadata": {},
     "output_type": "display_data"
    },
    {
     "data": {
      "text/latex": [
       "$$2 + 8 \\tan^{2}{\\left (x \\right )} + 6 \\tan^{4}{\\left (x \\right )}$$"
      ],
      "text/plain": [
       "         2           4   \n",
       "2 + 8*tan (x) + 6*tan (x)"
      ]
     },
     "metadata": {},
     "output_type": "display_data"
    },
    {
     "data": {
      "text/latex": [
       "$$16 \\tan{\\left (x \\right )} + 40 \\tan^{3}{\\left (x \\right )} + 24 \\tan^{5}{\\left (x \\right )}$$"
      ],
      "text/plain": [
       "                  3            5   \n",
       "16*tan(x) + 40*tan (x) + 24*tan (x)"
      ]
     },
     "metadata": {},
     "output_type": "display_data"
    },
    {
     "data": {
      "text/latex": [
       "$$16 + 136 \\tan^{2}{\\left (x \\right )} + 240 \\tan^{4}{\\left (x \\right )} + 120 \\tan^{6}{\\left (x \\right )}$$"
      ],
      "text/plain": [
       "            2             4             6   \n",
       "16 + 136*tan (x) + 240*tan (x) + 120*tan (x)"
      ]
     },
     "metadata": {},
     "output_type": "display_data"
    },
    {
     "data": {
      "text/latex": [
       "$$x + \\frac{x^{3}}{3} + \\frac{2 x^{5}}{15} + \\frac{17 x^{7}}{315} + \\frac{62 x^{9}}{2835} + \\mathcal{O}\\left(x^{10}\\right)$$"
      ],
      "text/plain": [
       "     3      5       7       9         \n",
       "    x    2*x    17*x    62*x     / 10\\\n",
       "x + -- + ---- + ----- + ----- + O\\x  /\n",
       "    3     15     315     2835         "
      ]
     },
     "execution_count": 7,
     "metadata": {},
     "output_type": "execute_result"
    }
   ],
   "source": [
    "x = symbols(\"x\")\n",
    "sympy[:init_printing](order=\"rev-lex\")\n",
    "for k in 0:5\n",
    "    expand(diff(tan(x), x, k)) |> display\n",
    "end\n",
    "sympy[:init_printing](order=\"lex\") # default\n",
    "\n",
    "x = symbols(\"x\")\n",
    "series(tan(x), n=10)"
   ]
  },
  {
   "cell_type": "code",
   "execution_count": 8,
   "metadata": {},
   "outputs": [
    {
     "data": {
      "text/latex": [
       "$$x - \\frac{x^{3}}{6} + \\frac{x^{5}}{120} + \\mathcal{O}\\left(x^{7}\\right)$$"
      ],
      "text/plain": [
       "     3     5        \n",
       "    x     x     / 7\\\n",
       "x - -- + --- + O\\x /\n",
       "    6    120        "
      ]
     },
     "metadata": {},
     "output_type": "display_data"
    },
    {
     "data": {
      "text/latex": [
       "$$1 + \\frac{x^{2}}{2} + \\frac{5 x^{4}}{24} + \\mathcal{O}\\left(x^{6}\\right)$$"
      ],
      "text/plain": [
       "     2      4        \n",
       "    x    5*x     / 6\\\n",
       "1 + -- + ---- + O\\x /\n",
       "    2     24         "
      ]
     },
     "metadata": {},
     "output_type": "display_data"
    },
    {
     "data": {
      "text/latex": [
       "$$x + \\frac{x^{3}}{3} + \\frac{2 x^{5}}{15} + \\mathcal{O}\\left(x^{7}\\right)$$"
      ],
      "text/plain": [
       "     3      5        \n",
       "    x    2*x     / 7\\\n",
       "x + -- + ---- + O\\x /\n",
       "    3     15         "
      ]
     },
     "execution_count": 8,
     "metadata": {},
     "output_type": "execute_result"
    }
   ],
   "source": [
    "s = series(sin(x), n=7)\n",
    "cinv = series(1/cos(x), n=6)\n",
    "display(s)\n",
    "display(cinv)\n",
    "expand(s * cinv)"
   ]
  },
  {
   "cell_type": "markdown",
   "metadata": {},
   "source": [
    "**問題:** $e=e^1$ の値を $e^x$ のMaclaurin展開を用いて誤差100万の1以下で正確に計算するためには $\\ds\\sum_{k=0}^9 \\frac{1}{k!}$ を計算すれば十分であることを示せ. $e<3$ と $10!=3628800$ を認めて使ってよい.\n",
    "\n",
    "**解答例:** Taylorの定理より, $0$ と $1$ のあいだにある実数 $\\xi$ で次を満たすものが存在する.\n",
    "\n",
    "$$\n",
    "e^1 = \\sum_{k=0}^9\\frac{1}{k!} + \\frac{e^\\xi}{10!}, \\quad\n",
    "\\frac{e^\\xi}{10!} < \\frac{e}{10!} < \\frac{3}{3000000} = \\frac{1}{10^6}.\n",
    "$$\n",
    "\n",
    "不等式は $\\xi<1$ と $e<3$, $10!>3000000$ より得られる. これで示すべきことが示された. $\\QED$\n",
    "\n",
    "Taylorの定理を使えば誤差項の大きさを上から評価できる."
   ]
  },
  {
   "cell_type": "code",
   "execution_count": 9,
   "metadata": {},
   "outputs": [
    {
     "data": {
      "text/plain": [
       "(2.7182815255731922, 2.718281828459045)"
      ]
     },
     "execution_count": 9,
     "metadata": {},
     "output_type": "execute_result"
    }
   ],
   "source": [
    "sum(1/factorial(k) for k in 0:9), exp(1)"
   ]
  },
  {
   "cell_type": "markdown",
   "metadata": {},
   "source": [
    "**問題:** $\\arcsin x$, $\\arctan x$ の $x=0$ でのTaylor展開の $x\\to 1$ の極限を取ることによって\n",
    "\n",
    "$$\n",
    "\\frac{\\pi}{2} = \\sum_{k=0}^\\infty\\frac{1}{2^{2k}}\\frac{(2k)!}{(k!)^2}\\frac{1}{2k+1}, \\quad\n",
    "\\frac{\\pi}{4} = \\sum_{k=0}^\\infty\\frac{(-1)^k}{2k+1}\n",
    "$$\n",
    "\n",
    "が得られることを確認せよ. $\\QED$\n",
    "\n",
    "解答略. 次の節におけるコンピューターによる計算例も参照せよ."
   ]
  },
  {
   "cell_type": "markdown",
   "metadata": {},
   "source": [
    "**問題:** $\\R$ 上の $C^\\infty$ 函数 $f(x)$ で, 任意の実数 $x$ について $\\ds \\sum_{n=0}^\\infty \\frac{1}{n!}f^{(n)}(0)x^n$ が収束しているのに, その収束先が $x\\ne0$ のとき $f(x)$ と一致しないものが存在する. そのような $f(x)$ の例を1つ挙げよ.\n",
    "\n",
    "**解答例:** $f(x)$ を\n",
    "\n",
    "$$\n",
    "f(x) = \\begin{cases}\n",
    "\\exp(-1/|x|) & (x\\ne 0) \\\\\n",
    "0 & (x=0)\n",
    "\\end{cases}\n",
    "$$\n",
    "\n",
    "と定めると, $f$ は $C^\\infty$ 函数でかつ $f^{(n)}(0)=0$ ($n=0,1,2,\\ldots$) となることを示せる(自分で示してみよ). ゆえにそのとき, $\\ds \\sum_{n=0}^\\infty \\frac{1}{n!}f^{(n)}(0)x^n$ は常に $0$ に収束する. しかし, $x\\ne 0$ のとき $f(x)>0$ なので収束先の $0$ は $f(x)$ に一致しない. $\\QED$"
   ]
  },
  {
   "cell_type": "code",
   "execution_count": 10,
   "metadata": {},
   "outputs": [
    {
     "data": {
      "image/svg+xml": [
       "<?xml version=\"1.0\" encoding=\"utf-8\"?>\n",
       "<svg xmlns=\"http://www.w3.org/2000/svg\" xmlns:xlink=\"http://www.w3.org/1999/xlink\" width=\"400\" height=\"250\" viewBox=\"0 0 400 250\">\n",
       "<defs>\n",
       "  <clipPath id=\"clip0800\">\n",
       "    <rect x=\"0\" y=\"0\" width=\"400\" height=\"250\"/>\n",
       "  </clipPath>\n",
       "</defs>\n",
       "<polygon clip-path=\"url(#clip0800)\" points=\"\n",
       "0,250 400,250 400,0 0,0 \n",
       "  \" fill=\"#ffffff\" fill-opacity=\"1\"/>\n",
       "<defs>\n",
       "  <clipPath id=\"clip0801\">\n",
       "    <rect x=\"80\" y=\"0\" width=\"281\" height=\"250\"/>\n",
       "  </clipPath>\n",
       "</defs>\n",
       "<polygon clip-path=\"url(#clip0800)\" points=\"\n",
       "32.4745,225.869 380.315,225.869 380.315,11.811 32.4745,11.811 \n",
       "  \" fill=\"#ffffff\" fill-opacity=\"1\"/>\n",
       "<defs>\n",
       "  <clipPath id=\"clip0802\">\n",
       "    <rect x=\"32\" y=\"11\" width=\"349\" height=\"215\"/>\n",
       "  </clipPath>\n",
       "</defs>\n",
       "<polyline clip-path=\"url(#clip0802)\" style=\"stroke:#000000; stroke-width:0.5; stroke-opacity:0.1; fill:none\" points=\"\n",
       "  32.4745,225.869 32.4745,11.811 \n",
       "  \"/>\n",
       "<polyline clip-path=\"url(#clip0802)\" style=\"stroke:#000000; stroke-width:0.5; stroke-opacity:0.1; fill:none\" points=\"\n",
       "  119.435,225.869 119.435,11.811 \n",
       "  \"/>\n",
       "<polyline clip-path=\"url(#clip0802)\" style=\"stroke:#000000; stroke-width:0.5; stroke-opacity:0.1; fill:none\" points=\"\n",
       "  206.395,225.869 206.395,11.811 \n",
       "  \"/>\n",
       "<polyline clip-path=\"url(#clip0802)\" style=\"stroke:#000000; stroke-width:0.5; stroke-opacity:0.1; fill:none\" points=\"\n",
       "  293.355,225.869 293.355,11.811 \n",
       "  \"/>\n",
       "<polyline clip-path=\"url(#clip0802)\" style=\"stroke:#000000; stroke-width:0.5; stroke-opacity:0.1; fill:none\" points=\"\n",
       "  380.315,225.869 380.315,11.811 \n",
       "  \"/>\n",
       "<polyline clip-path=\"url(#clip0802)\" style=\"stroke:#000000; stroke-width:0.5; stroke-opacity:0.1; fill:none\" points=\"\n",
       "  32.4745,225.869 380.315,225.869 \n",
       "  \"/>\n",
       "<polyline clip-path=\"url(#clip0802)\" style=\"stroke:#000000; stroke-width:0.5; stroke-opacity:0.1; fill:none\" points=\"\n",
       "  32.4745,190.577 380.315,190.577 \n",
       "  \"/>\n",
       "<polyline clip-path=\"url(#clip0802)\" style=\"stroke:#000000; stroke-width:0.5; stroke-opacity:0.1; fill:none\" points=\"\n",
       "  32.4745,155.284 380.315,155.284 \n",
       "  \"/>\n",
       "<polyline clip-path=\"url(#clip0802)\" style=\"stroke:#000000; stroke-width:0.5; stroke-opacity:0.1; fill:none\" points=\"\n",
       "  32.4745,119.992 380.315,119.992 \n",
       "  \"/>\n",
       "<polyline clip-path=\"url(#clip0802)\" style=\"stroke:#000000; stroke-width:0.5; stroke-opacity:0.1; fill:none\" points=\"\n",
       "  32.4745,84.7001 380.315,84.7001 \n",
       "  \"/>\n",
       "<polyline clip-path=\"url(#clip0802)\" style=\"stroke:#000000; stroke-width:0.5; stroke-opacity:0.1; fill:none\" points=\"\n",
       "  32.4745,49.408 380.315,49.408 \n",
       "  \"/>\n",
       "<polyline clip-path=\"url(#clip0802)\" style=\"stroke:#000000; stroke-width:0.5; stroke-opacity:0.1; fill:none\" points=\"\n",
       "  32.4745,14.1158 380.315,14.1158 \n",
       "  \"/>\n",
       "<polyline clip-path=\"url(#clip0800)\" style=\"stroke:#000000; stroke-width:1; stroke-opacity:1; fill:none\" points=\"\n",
       "  32.4745,225.869 380.315,225.869 \n",
       "  \"/>\n",
       "<polyline clip-path=\"url(#clip0800)\" style=\"stroke:#000000; stroke-width:1; stroke-opacity:1; fill:none\" points=\"\n",
       "  32.4745,225.869 32.4745,11.811 \n",
       "  \"/>\n",
       "<polyline clip-path=\"url(#clip0800)\" style=\"stroke:#000000; stroke-width:1; stroke-opacity:1; fill:none\" points=\"\n",
       "  32.4745,225.869 32.4745,222.658 \n",
       "  \"/>\n",
       "<polyline clip-path=\"url(#clip0800)\" style=\"stroke:#000000; stroke-width:1; stroke-opacity:1; fill:none\" points=\"\n",
       "  119.435,225.869 119.435,222.658 \n",
       "  \"/>\n",
       "<polyline clip-path=\"url(#clip0800)\" style=\"stroke:#000000; stroke-width:1; stroke-opacity:1; fill:none\" points=\"\n",
       "  206.395,225.869 206.395,222.658 \n",
       "  \"/>\n",
       "<polyline clip-path=\"url(#clip0800)\" style=\"stroke:#000000; stroke-width:1; stroke-opacity:1; fill:none\" points=\"\n",
       "  293.355,225.869 293.355,222.658 \n",
       "  \"/>\n",
       "<polyline clip-path=\"url(#clip0800)\" style=\"stroke:#000000; stroke-width:1; stroke-opacity:1; fill:none\" points=\"\n",
       "  380.315,225.869 380.315,222.658 \n",
       "  \"/>\n",
       "<polyline clip-path=\"url(#clip0800)\" style=\"stroke:#000000; stroke-width:1; stroke-opacity:1; fill:none\" points=\"\n",
       "  32.4745,225.869 37.6921,225.869 \n",
       "  \"/>\n",
       "<polyline clip-path=\"url(#clip0800)\" style=\"stroke:#000000; stroke-width:1; stroke-opacity:1; fill:none\" points=\"\n",
       "  32.4745,190.577 37.6921,190.577 \n",
       "  \"/>\n",
       "<polyline clip-path=\"url(#clip0800)\" style=\"stroke:#000000; stroke-width:1; stroke-opacity:1; fill:none\" points=\"\n",
       "  32.4745,155.284 37.6921,155.284 \n",
       "  \"/>\n",
       "<polyline clip-path=\"url(#clip0800)\" style=\"stroke:#000000; stroke-width:1; stroke-opacity:1; fill:none\" points=\"\n",
       "  32.4745,119.992 37.6921,119.992 \n",
       "  \"/>\n",
       "<polyline clip-path=\"url(#clip0800)\" style=\"stroke:#000000; stroke-width:1; stroke-opacity:1; fill:none\" points=\"\n",
       "  32.4745,84.7001 37.6921,84.7001 \n",
       "  \"/>\n",
       "<polyline clip-path=\"url(#clip0800)\" style=\"stroke:#000000; stroke-width:1; stroke-opacity:1; fill:none\" points=\"\n",
       "  32.4745,49.408 37.6921,49.408 \n",
       "  \"/>\n",
       "<polyline clip-path=\"url(#clip0800)\" style=\"stroke:#000000; stroke-width:1; stroke-opacity:1; fill:none\" points=\"\n",
       "  32.4745,14.1158 37.6921,14.1158 \n",
       "  \"/>\n",
       "<g clip-path=\"url(#clip0800)\">\n",
       "<text style=\"fill:#000000; fill-opacity:1; font-family:Arial,Helvetica Neue,Helvetica,sans-serif; font-size:12; text-anchor:middle;\" transform=\"rotate(0, 32.4745, 238.669)\" x=\"32.4745\" y=\"238.669\">-2</text>\n",
       "</g>\n",
       "<g clip-path=\"url(#clip0800)\">\n",
       "<text style=\"fill:#000000; fill-opacity:1; font-family:Arial,Helvetica Neue,Helvetica,sans-serif; font-size:12; text-anchor:middle;\" transform=\"rotate(0, 119.435, 238.669)\" x=\"119.435\" y=\"238.669\">-1</text>\n",
       "</g>\n",
       "<g clip-path=\"url(#clip0800)\">\n",
       "<text style=\"fill:#000000; fill-opacity:1; font-family:Arial,Helvetica Neue,Helvetica,sans-serif; font-size:12; text-anchor:middle;\" transform=\"rotate(0, 206.395, 238.669)\" x=\"206.395\" y=\"238.669\">0</text>\n",
       "</g>\n",
       "<g clip-path=\"url(#clip0800)\">\n",
       "<text style=\"fill:#000000; fill-opacity:1; font-family:Arial,Helvetica Neue,Helvetica,sans-serif; font-size:12; text-anchor:middle;\" transform=\"rotate(0, 293.355, 238.669)\" x=\"293.355\" y=\"238.669\">1</text>\n",
       "</g>\n",
       "<g clip-path=\"url(#clip0800)\">\n",
       "<text style=\"fill:#000000; fill-opacity:1; font-family:Arial,Helvetica Neue,Helvetica,sans-serif; font-size:12; text-anchor:middle;\" transform=\"rotate(0, 380.315, 238.669)\" x=\"380.315\" y=\"238.669\">2</text>\n",
       "</g>\n",
       "<g clip-path=\"url(#clip0800)\">\n",
       "<text style=\"fill:#000000; fill-opacity:1; font-family:Arial,Helvetica Neue,Helvetica,sans-serif; font-size:12; text-anchor:end;\" transform=\"rotate(0, 28.4745, 230.369)\" x=\"28.4745\" y=\"230.369\">0.0</text>\n",
       "</g>\n",
       "<g clip-path=\"url(#clip0800)\">\n",
       "<text style=\"fill:#000000; fill-opacity:1; font-family:Arial,Helvetica Neue,Helvetica,sans-serif; font-size:12; text-anchor:end;\" transform=\"rotate(0, 28.4745, 195.077)\" x=\"28.4745\" y=\"195.077\">0.1</text>\n",
       "</g>\n",
       "<g clip-path=\"url(#clip0800)\">\n",
       "<text style=\"fill:#000000; fill-opacity:1; font-family:Arial,Helvetica Neue,Helvetica,sans-serif; font-size:12; text-anchor:end;\" transform=\"rotate(0, 28.4745, 159.784)\" x=\"28.4745\" y=\"159.784\">0.2</text>\n",
       "</g>\n",
       "<g clip-path=\"url(#clip0800)\">\n",
       "<text style=\"fill:#000000; fill-opacity:1; font-family:Arial,Helvetica Neue,Helvetica,sans-serif; font-size:12; text-anchor:end;\" transform=\"rotate(0, 28.4745, 124.492)\" x=\"28.4745\" y=\"124.492\">0.3</text>\n",
       "</g>\n",
       "<g clip-path=\"url(#clip0800)\">\n",
       "<text style=\"fill:#000000; fill-opacity:1; font-family:Arial,Helvetica Neue,Helvetica,sans-serif; font-size:12; text-anchor:end;\" transform=\"rotate(0, 28.4745, 89.2001)\" x=\"28.4745\" y=\"89.2001\">0.4</text>\n",
       "</g>\n",
       "<g clip-path=\"url(#clip0800)\">\n",
       "<text style=\"fill:#000000; fill-opacity:1; font-family:Arial,Helvetica Neue,Helvetica,sans-serif; font-size:12; text-anchor:end;\" transform=\"rotate(0, 28.4745, 53.908)\" x=\"28.4745\" y=\"53.908\">0.5</text>\n",
       "</g>\n",
       "<g clip-path=\"url(#clip0800)\">\n",
       "<text style=\"fill:#000000; fill-opacity:1; font-family:Arial,Helvetica Neue,Helvetica,sans-serif; font-size:12; text-anchor:end;\" transform=\"rotate(0, 28.4745, 18.6158)\" x=\"28.4745\" y=\"18.6158\">0.6</text>\n",
       "</g>\n",
       "<polyline clip-path=\"url(#clip0802)\" style=\"stroke:#009af9; stroke-width:1; stroke-opacity:1; fill:none\" points=\"\n",
       "  32.4745,11.811 32.5615,11.8646 32.6484,11.9181 32.7354,11.9717 32.8223,12.0254 32.9093,12.0791 32.9963,12.1328 33.0832,12.1866 33.1702,12.2404 33.2571,12.2943 \n",
       "  33.3441,12.3482 33.4311,12.4021 33.518,12.4561 33.605,12.5101 33.6919,12.5642 33.7789,12.6183 33.8659,12.6724 33.9528,12.7266 34.0398,12.7808 34.1267,12.8351 \n",
       "  34.2137,12.8894 34.3007,12.9437 34.3876,12.9981 34.4746,13.0526 34.5615,13.107 34.6485,13.1615 34.7355,13.2161 34.8224,13.2707 34.9094,13.3253 34.9963,13.38 \n",
       "  35.0833,13.4347 35.1703,13.4895 35.2572,13.5443 35.3442,13.5991 35.4311,13.654 35.5181,13.7089 35.6051,13.7639 35.692,13.8189 35.779,13.874 35.8659,13.929 \n",
       "  35.9529,13.9842 36.0399,14.0394 36.1268,14.0946 36.2138,14.1498 36.3007,14.2051 36.3877,14.2605 36.4747,14.3159 36.5616,14.3713 36.6486,14.4268 36.7355,14.4823 \n",
       "  36.8225,14.5378 36.9095,14.5934 36.9964,14.6491 37.0834,14.7048 37.1703,14.7605 37.2573,14.8163 37.3443,14.8721 37.4312,14.9279 37.5182,14.9838 37.6051,15.0397 \n",
       "  37.6921,15.0957 37.7791,15.1518 37.866,15.2078 37.953,15.2639 38.0399,15.3201 38.1269,15.3763 38.2139,15.4325 38.3008,15.4888 38.3878,15.5451 38.4747,15.6015 \n",
       "  38.5617,15.6579 38.6487,15.7144 38.7356,15.7709 38.8226,15.8274 38.9095,15.884 38.9965,15.9406 39.0835,15.9973 39.1704,16.054 39.2574,16.1108 39.3443,16.1676 \n",
       "  39.4313,16.2244 39.5183,16.2813 39.6052,16.3383 39.6922,16.3952 39.7791,16.4523 39.8661,16.5093 39.9531,16.5664 40.04,16.6236 40.127,16.6808 40.2139,16.738 \n",
       "  40.3009,16.7953 40.3879,16.8527 40.4748,16.91 40.5618,16.9675 40.6487,17.0249 40.7357,17.0824 40.8227,17.14 40.9096,17.1976 40.9966,17.2552 41.0835,17.3129 \n",
       "  41.1705,17.3706 41.2575,17.4284 41.3444,17.4862 41.4314,17.5441 41.5183,17.602 41.6053,17.66 41.6923,17.718 41.7792,17.776 41.8662,17.8341 41.9531,17.8923 \n",
       "  42.0401,17.9505 42.1271,18.0087 42.214,18.067 42.301,18.1253 42.3879,18.1836 42.4749,18.242 42.5619,18.3005 42.6488,18.359 42.7358,18.4176 42.8227,18.4761 \n",
       "  42.9097,18.5348 42.9967,18.5935 43.0836,18.6522 43.1706,18.711 43.2575,18.7698 43.3445,18.8287 43.4315,18.8876 43.5184,18.9465 43.6054,19.0056 43.6923,19.0646 \n",
       "  43.7793,19.1237 43.8663,19.1828 43.9532,19.242 44.0402,19.3013 44.1271,19.3606 44.2141,19.4199 44.3011,19.4793 44.388,19.5387 44.475,19.5982 44.562,19.6577 \n",
       "  44.6489,19.7173 44.7359,19.7769 44.8228,19.8365 44.9098,19.8962 44.9968,19.956 45.0837,20.0158 45.1707,20.0756 45.2576,20.1355 45.3446,20.1955 45.4316,20.2554 \n",
       "  45.5185,20.3155 45.6055,20.3756 45.6924,20.4357 45.7794,20.4959 45.8664,20.5561 45.9533,20.6164 46.0403,20.6767 46.1272,20.7371 46.2142,20.7975 46.3012,20.8579 \n",
       "  46.3881,20.9185 46.4751,20.979 46.562,21.0396 46.649,21.1003 46.736,21.161 46.8229,21.2217 46.9099,21.2825 46.9968,21.3434 47.0838,21.4043 47.1708,21.4652 \n",
       "  47.2577,21.5262 47.3447,21.5873 47.4316,21.6484 47.5186,21.7095 47.6056,21.7707 47.6925,21.8319 47.7795,21.8932 47.8664,21.9545 47.9534,22.0159 48.0404,22.0773 \n",
       "  48.1273,22.1388 48.2143,22.2004 48.3012,22.2619 48.3882,22.3236 48.4752,22.3852 48.5621,22.447 48.6491,22.5087 48.736,22.5706 48.823,22.6324 48.91,22.6944 \n",
       "  48.9969,22.7563 49.0839,22.8184 49.1708,22.8804 49.2578,22.9426 49.3448,23.0047 49.4317,23.067 49.5187,23.1292 49.6056,23.1915 49.6926,23.2539 49.7796,23.3163 \n",
       "  49.8665,23.3788 49.9535,23.4413 50.0404,23.5039 50.1274,23.5665 50.2144,23.6292 50.3013,23.6919 50.3883,23.7547 50.4752,23.8175 50.5622,23.8804 50.6492,23.9433 \n",
       "  50.7361,24.0063 50.8231,24.0693 50.91,24.1324 50.997,24.1955 51.084,24.2587 51.1709,24.3219 51.2579,24.3852 51.3448,24.4486 51.4318,24.5119 51.5188,24.5754 \n",
       "  51.6057,24.6389 51.6927,24.7024 51.7796,24.766 51.8666,24.8296 51.9536,24.8933 52.0405,24.9571 52.1275,25.0209 52.2144,25.0847 52.3014,25.1486 52.3884,25.2125 \n",
       "  52.4753,25.2765 52.5623,25.3406 52.6492,25.4047 52.7362,25.4689 52.8232,25.5331 52.9101,25.5973 52.9971,25.6617 53.084,25.726 53.171,25.7904 53.258,25.8549 \n",
       "  53.3449,25.9194 53.4319,25.984 53.5188,26.0486 53.6058,26.1133 53.6928,26.1781 53.7797,26.2428 53.8667,26.3077 53.9536,26.3726 54.0406,26.4375 54.1276,26.5025 \n",
       "  54.2145,26.5676 54.3015,26.6327 54.3884,26.6978 54.4754,26.763 54.5624,26.8283 54.6493,26.8936 54.7363,26.959 54.8232,27.0244 54.9102,27.0899 54.9972,27.1554 \n",
       "  55.0841,27.221 55.1711,27.2866 55.258,27.3523 55.345,27.4181 55.432,27.4839 55.5189,27.5497 55.6059,27.6157 55.6928,27.6816 55.7798,27.7476 55.8668,27.8137 \n",
       "  55.9537,27.8798 56.0407,27.946 56.1276,28.0122 56.2146,28.0785 56.3016,28.1449 56.3885,28.2113 56.4755,28.2777 56.5624,28.3442 56.6494,28.4108 56.7364,28.4774 \n",
       "  56.8233,28.5441 56.9103,28.6108 56.9972,28.6776 57.0842,28.7444 57.1712,28.8113 57.2581,28.8783 57.3451,28.9453 57.432,29.0123 57.519,29.0795 57.606,29.1466 \n",
       "  57.6929,29.2138 57.7799,29.2811 57.8668,29.3485 57.9538,29.4159 58.0408,29.4833 58.1277,29.5508 58.2147,29.6184 58.3016,29.686 58.3886,29.7537 58.4756,29.8214 \n",
       "  58.5625,29.8892 58.6495,29.957 58.7364,30.0249 58.8234,30.0929 58.9104,30.1609 58.9973,30.2289 59.0843,30.2971 59.1712,30.3652 59.2582,30.4335 59.3452,30.5018 \n",
       "  59.4321,30.5701 59.5191,30.6385 59.6061,30.707 59.693,30.7755 59.78,30.8441 59.8669,30.9127 59.9539,30.9814 60.0409,31.0502 60.1278,31.119 60.2148,31.1879 \n",
       "  60.3017,31.2568 60.3887,31.3258 60.4757,31.3948 60.5626,31.4639 60.6496,31.5331 60.7365,31.6023 60.8235,31.6715 60.9105,31.7409 60.9974,31.8103 61.0844,31.8797 \n",
       "  61.1713,31.9492 61.2583,32.0188 61.3453,32.0884 61.4322,32.1581 61.5192,32.2278 61.6061,32.2976 61.6931,32.3675 61.7801,32.4374 61.867,32.5073 61.954,32.5774 \n",
       "  62.0409,32.6475 62.1279,32.7176 62.2149,32.7878 62.3018,32.8581 62.3888,32.9284 62.4757,32.9988 62.5627,33.0692 62.6497,33.1397 62.7366,33.2103 62.8236,33.2809 \n",
       "  62.9105,33.3516 62.9975,33.4224 63.0845,33.4932 63.1714,33.564 63.2584,33.6349 63.3453,33.7059 63.4323,33.777 63.5193,33.8481 63.6062,33.9192 63.6932,33.9905 \n",
       "  63.7801,34.0617 63.8671,34.1331 63.9541,34.2045 64.041,34.276 64.128,34.3475 64.2149,34.4191 64.3019,34.4907 64.3889,34.5624 64.4758,34.6342 64.5628,34.706 \n",
       "  64.6497,34.7779 64.7367,34.8499 64.8237,34.9219 64.9106,34.994 64.9976,35.0661 65.0845,35.1383 65.1715,35.2106 65.2585,35.2829 65.3454,35.3553 65.4324,35.4277 \n",
       "  65.5193,35.5002 65.6063,35.5728 65.6933,35.6454 65.7802,35.7181 65.8672,35.7909 65.9541,35.8637 66.0411,35.9366 66.1281,36.0095 66.215,36.0825 66.302,36.1556 \n",
       "  66.3889,36.2287 66.4759,36.3019 66.5629,36.3752 66.6498,36.4485 66.7368,36.5219 66.8237,36.5953 66.9107,36.6688 66.9977,36.7424 67.0846,36.816 67.1716,36.8897 \n",
       "  67.2585,36.9635 67.3455,37.0373 67.4325,37.1112 67.5194,37.1851 67.6064,37.2591 67.6933,37.3332 67.7803,37.4074 67.8673,37.4816 67.9542,37.5558 68.0412,37.6302 \n",
       "  68.1281,37.7046 68.2151,37.779 68.3021,37.8535 68.389,37.9281 68.476,38.0028 68.5629,38.0775 68.6499,38.1523 68.7369,38.2271 68.8238,38.302 68.9108,38.377 \n",
       "  68.9977,38.4521 69.0847,38.5272 69.1717,38.6023 69.2586,38.6776 69.3456,38.7529 69.4325,38.8283 69.5195,38.9037 69.6065,38.9792 69.6934,39.0548 69.7804,39.1304 \n",
       "  69.8673,39.2061 69.9543,39.2818 70.0413,39.3577 70.1282,39.4336 70.2152,39.5095 70.3021,39.5855 70.3891,39.6616 70.4761,39.7378 70.563,39.814 70.65,39.8903 \n",
       "  70.7369,39.9667 70.8239,40.0431 70.9109,40.1196 70.9978,40.1961 71.0848,40.2728 71.1717,40.3494 71.2587,40.4262 71.3457,40.503 71.4326,40.5799 71.5196,40.6569 \n",
       "  71.6065,40.7339 71.6935,40.811 71.7805,40.8882 71.8674,40.9654 71.9544,41.0427 72.0413,41.12 72.1283,41.1975 72.2153,41.275 72.3022,41.3525 72.3892,41.4302 \n",
       "  72.4761,41.5079 72.5631,41.5856 72.6501,41.6635 72.737,41.7414 72.824,41.8194 72.9109,41.8974 72.9979,41.9755 73.0849,42.0537 73.1718,42.132 73.2588,42.2103 \n",
       "  73.3457,42.2887 73.4327,42.3671 73.5197,42.4456 73.6066,42.5242 73.6936,42.6029 73.7805,42.6816 73.8675,42.7604 73.9545,42.8393 74.0414,42.9183 74.1284,42.9973 \n",
       "  74.2153,43.0764 74.3023,43.1555 74.3893,43.2347 74.4762,43.314 74.5632,43.3934 74.6502,43.4728 74.7371,43.5523 74.8241,43.6319 74.911,43.7115 74.998,43.7913 \n",
       "  75.085,43.871 75.1719,43.9509 75.2589,44.0308 75.3458,44.1108 75.4328,44.1909 75.5198,44.271 75.6067,44.3512 75.6937,44.4315 75.7806,44.5119 75.8676,44.5923 \n",
       "  75.9546,44.6728 76.0415,44.7534 76.1285,44.834 76.2154,44.9147 76.3024,44.9955 76.3894,45.0763 76.4763,45.1573 76.5633,45.2383 76.6502,45.3193 76.7372,45.4005 \n",
       "  76.8242,45.4817 76.9111,45.563 76.9981,45.6443 77.085,45.7258 77.172,45.8073 77.259,45.8889 77.3459,45.9705 77.4329,46.0522 77.5198,46.134 77.6068,46.2159 \n",
       "  77.6938,46.2979 77.7807,46.3799 77.8677,46.462 77.9546,46.5441 78.0416,46.6264 78.1286,46.7087 78.2155,46.7911 78.3025,46.8735 78.3894,46.9561 78.4764,47.0387 \n",
       "  78.5634,47.1213 78.6503,47.2041 78.7373,47.2869 78.8242,47.3698 78.9112,47.4528 78.9982,47.5359 79.0851,47.619 79.1721,47.7022 79.259,47.7855 79.346,47.8688 \n",
       "  79.433,47.9523 79.5199,48.0358 79.6069,48.1193 79.6938,48.203 79.7808,48.2867 79.8678,48.3705 79.9547,48.4544 80.0417,48.5384 80.1286,48.6224 80.2156,48.7065 \n",
       "  80.3026,48.7907 80.3895,48.875 80.4765,48.9593 80.5634,49.0437 80.6504,49.1282 80.7374,49.2128 80.8243,49.2974 80.9113,49.3821 80.9982,49.4669 81.0852,49.5518 \n",
       "  81.1722,49.6367 81.2591,49.7218 81.3461,49.8069 81.433,49.8921 81.52,49.9773 81.607,50.0626 81.6939,50.1481 81.7809,50.2336 81.8678,50.3191 81.9548,50.4048 \n",
       "  82.0418,50.4905 82.1287,50.5763 82.2157,50.6622 82.3026,50.7481 82.3896,50.8342 82.4766,50.9203 82.5635,51.0065 82.6505,51.0928 82.7374,51.1791 82.8244,51.2655 \n",
       "  82.9114,51.352 82.9983,51.4386 83.0853,51.5253 83.1722,51.6121 83.2592,51.6989 83.3462,51.7858 83.4331,51.8728 83.5201,51.9598 83.607,52.047 83.694,52.1342 \n",
       "  83.781,52.2215 83.8679,52.3089 83.9549,52.3963 84.0418,52.4839 84.1288,52.5715 84.2158,52.6592 84.3027,52.747 84.3897,52.8349 84.4766,52.9228 84.5636,53.0108 \n",
       "  84.6506,53.0989 84.7375,53.1871 84.8245,53.2754 84.9114,53.3638 84.9984,53.4522 85.0854,53.5407 85.1723,53.6293 85.2593,53.718 85.3462,53.8067 85.4332,53.8956 \n",
       "  85.5202,53.9845 85.6071,54.0735 85.6941,54.1626 85.781,54.2517 85.868,54.341 85.955,54.4303 86.0419,54.5197 86.1289,54.6092 86.2158,54.6988 86.3028,54.7885 \n",
       "  86.3898,54.8782 86.4767,54.9681 86.5637,55.058 86.6506,55.148 86.7376,55.238 86.8246,55.3282 86.9115,55.4184 86.9985,55.5088 87.0854,55.5992 87.1724,55.6897 \n",
       "  87.2594,55.7803 87.3463,55.8709 87.4333,55.9617 87.5202,56.0525 87.6072,56.1434 87.6942,56.2344 87.7811,56.3255 87.8681,56.4167 87.955,56.5079 88.042,56.5993 \n",
       "  88.129,56.6907 88.2159,56.7822 88.3029,56.8738 88.3898,56.9655 88.4768,57.0573 88.5638,57.1491 88.6507,57.241 88.7377,57.3331 88.8246,57.4252 88.9116,57.5174 \n",
       "  88.9986,57.6096 89.0855,57.702 89.1725,57.7945 89.2595,57.887 89.3464,57.9796 89.4334,58.0723 89.5203,58.1651 89.6073,58.258 89.6943,58.351 89.7812,58.4441 \n",
       "  89.8682,58.5372 89.9551,58.6304 90.0421,58.7238 90.1291,58.8172 90.216,58.9107 90.303,59.0042 90.3899,59.0979 90.4769,59.1917 90.5639,59.2855 90.6508,59.3795 \n",
       "  90.7378,59.4735 90.8247,59.5676 90.9117,59.6618 90.9987,59.7561 91.0856,59.8505 91.1726,59.9449 91.2595,60.0395 91.3465,60.1341 91.4335,60.2288 91.5204,60.3237 \n",
       "  91.6074,60.4186 91.6943,60.5136 91.7813,60.6087 91.8683,60.7038 91.9552,60.7991 92.0422,60.8945 92.1291,60.9899 92.2161,61.0855 92.3031,61.1811 92.39,61.2768 \n",
       "  92.477,61.3726 92.5639,61.4685 92.6509,61.5645 92.7379,61.6606 92.8248,61.7568 92.9118,61.853 92.9987,61.9494 93.0857,62.0458 93.1727,62.1424 93.2596,62.239 \n",
       "  93.3466,62.3357 93.4335,62.4325 93.5205,62.5294 93.6075,62.6264 93.6944,62.7235 93.7814,62.8207 93.8683,62.918 93.9553,63.0153 94.0423,63.1128 94.1292,63.2103 \n",
       "  94.2162,63.308 94.3031,63.4057 94.3901,63.5035 94.4771,63.6014 94.564,63.6994 94.651,63.7976 94.7379,63.8958 94.8249,63.994 94.9119,64.0924 94.9988,64.1909 \n",
       "  95.0858,64.2895 95.1727,64.3882 95.2597,64.4869 95.3467,64.5858 95.4336,64.6847 95.5206,64.7838 95.6075,64.8829 95.6945,64.9821 95.7815,65.0815 95.8684,65.1809 \n",
       "  95.9554,65.2804 96.0423,65.38 96.1293,65.4797 96.2163,65.5795 96.3032,65.6794 96.3902,65.7794 96.4771,65.8795 96.5641,65.9797 96.6511,66.08 96.738,66.1803 \n",
       "  96.825,66.2808 96.9119,66.3814 96.9989,66.4821 97.0859,66.5828 97.1728,66.6837 97.2598,66.7846 97.3467,66.8857 97.4337,66.9868 97.5207,67.0881 97.6076,67.1894 \n",
       "  97.6946,67.2909 97.7815,67.3924 97.8685,67.494 97.9555,67.5958 98.0424,67.6976 98.1294,67.7995 98.2163,67.9016 98.3033,68.0037 98.3903,68.1059 98.4772,68.2082 \n",
       "  98.5642,68.3107 98.6511,68.4132 98.7381,68.5158 98.8251,68.6185 98.912,68.7213 98.999,68.8242 99.0859,68.9273 99.1729,69.0304 99.2599,69.1336 99.3468,69.2369 \n",
       "  99.4338,69.3403 99.5207,69.4438 99.6077,69.5474 99.6947,69.6511 99.7816,69.755 99.8686,69.8589 99.9555,69.9629 100.043,70.067 100.129,70.1712 100.216,70.2755 \n",
       "  100.303,70.3799 100.39,70.4845 100.477,70.5891 100.564,70.6938 100.651,70.7986 100.738,70.9035 100.825,71.0086 100.912,71.1137 100.999,71.2189 101.086,71.3243 \n",
       "  101.173,71.4297 101.26,71.5352 101.347,71.6409 101.434,71.7466 101.521,71.8524 101.608,71.9584 101.695,72.0644 101.782,72.1706 101.869,72.2768 101.956,72.3832 \n",
       "  102.043,72.4897 102.13,72.5962 102.217,72.7029 102.303,72.8097 102.39,72.9165 102.477,73.0235 102.564,73.1306 102.651,73.2378 102.738,73.3451 102.825,73.4525 \n",
       "  102.912,73.56 102.999,73.6676 103.086,73.7753 103.173,73.8831 103.26,73.9911 103.347,74.0991 103.434,74.2072 103.521,74.3155 103.608,74.4238 103.695,74.5323 \n",
       "  103.782,74.6408 103.869,74.7495 103.956,74.8582 104.043,74.9671 104.13,75.0761 104.217,75.1852 104.304,75.2944 104.391,75.4037 104.477,75.5131 104.564,75.6226 \n",
       "  104.651,75.7322 104.738,75.842 104.825,75.9518 104.912,76.0617 104.999,76.1718 105.086,76.282 105.173,76.3922 105.26,76.5026 105.347,76.6131 105.434,76.7237 \n",
       "  105.521,76.8344 105.608,76.9452 105.695,77.0561 105.782,77.1671 105.869,77.2783 105.956,77.3895 106.043,77.5009 106.13,77.6124 106.217,77.7239 106.304,77.8356 \n",
       "  106.391,77.9474 106.478,78.0593 106.565,78.1713 106.651,78.2835 106.738,78.3957 106.825,78.508 106.912,78.6205 106.999,78.7331 107.086,78.8457 107.173,78.9585 \n",
       "  107.26,79.0714 107.347,79.1844 107.434,79.2976 107.521,79.4108 107.608,79.5241 107.695,79.6376 107.782,79.7512 107.869,79.8648 107.956,79.9786 108.043,80.0925 \n",
       "  108.13,80.2066 108.217,80.3207 108.304,80.4349 108.391,80.5493 108.478,80.6638 108.565,80.7784 108.652,80.893 108.739,81.0079 108.825,81.1228 108.912,81.2378 \n",
       "  108.999,81.353 109.086,81.4682 109.173,81.5836 109.26,81.6991 109.347,81.8147 109.434,81.9304 109.521,82.0463 109.608,82.1622 109.695,82.2783 109.782,82.3945 \n",
       "  109.869,82.5108 109.956,82.6272 110.043,82.7437 110.13,82.8603 110.217,82.9771 110.304,83.094 110.391,83.2109 110.478,83.328 110.565,83.4453 110.652,83.5626 \n",
       "  110.739,83.6801 110.826,83.7976 110.913,83.9153 110.999,84.0331 111.086,84.151 111.173,84.2691 111.26,84.3872 111.347,84.5055 111.434,84.6239 111.521,84.7424 \n",
       "  111.608,84.861 111.695,84.9798 111.782,85.0986 111.869,85.2176 111.956,85.3367 112.043,85.4559 112.13,85.5752 112.217,85.6947 112.304,85.8143 112.391,85.934 \n",
       "  112.478,86.0538 112.565,86.1737 112.652,86.2937 112.739,86.4139 112.826,86.5342 112.913,86.6546 113,86.7751 113.087,86.8958 113.173,87.0165 113.26,87.1374 \n",
       "  113.347,87.2584 113.434,87.3796 113.521,87.5008 113.608,87.6222 113.695,87.7437 113.782,87.8653 113.869,87.987 113.956,88.1089 114.043,88.2309 114.13,88.3529 \n",
       "  114.217,88.4752 114.304,88.5975 114.391,88.72 114.478,88.8426 114.565,88.9653 114.652,89.0881 114.739,89.211 114.826,89.3341 114.913,89.4573 115,89.5806 \n",
       "  115.087,89.7041 115.174,89.8276 115.261,89.9513 115.347,90.0752 115.434,90.1991 115.521,90.3232 115.608,90.4473 115.695,90.5716 115.782,90.6961 115.869,90.8206 \n",
       "  115.956,90.9453 116.043,91.0701 116.13,91.1951 116.217,91.3201 116.304,91.4453 116.391,91.5706 116.478,91.696 116.565,91.8216 116.652,91.9473 116.739,92.0731 \n",
       "  116.826,92.199 116.913,92.3251 117,92.4513 117.087,92.5776 117.174,92.704 117.261,92.8306 117.348,92.9573 117.435,93.0841 117.521,93.211 117.608,93.3381 \n",
       "  117.695,93.4653 117.782,93.5926 117.869,93.7201 117.956,93.8477 118.043,93.9754 118.13,94.1032 118.217,94.2312 118.304,94.3592 118.391,94.4875 118.478,94.6158 \n",
       "  118.565,94.7443 118.652,94.8729 118.739,95.0016 118.826,95.1305 118.913,95.2595 119,95.3886 119.087,95.5179 119.174,95.6472 119.261,95.7767 119.348,95.9064 \n",
       "  119.435,96.0361 119.522,96.166 119.609,96.2961 119.695,96.4262 119.782,96.5565 119.869,96.6869 119.956,96.8175 120.043,96.9482 120.13,97.079 120.217,97.2099 \n",
       "  120.304,97.341 120.391,97.4722 120.478,97.6035 120.565,97.735 120.652,97.8666 120.739,97.9983 120.826,98.1302 120.913,98.2622 121,98.3943 121.087,98.5265 \n",
       "  121.174,98.6589 121.261,98.7915 121.348,98.9241 121.435,99.0569 121.522,99.1898 121.609,99.3229 121.696,99.4561 121.783,99.5894 121.869,99.7228 121.956,99.8564 \n",
       "  122.043,99.9901 122.13,100.124 122.217,100.258 122.304,100.392 122.391,100.526 122.478,100.661 122.565,100.795 122.652,100.93 122.739,101.065 122.826,101.2 \n",
       "  122.913,101.335 123,101.47 123.087,101.605 123.174,101.741 123.261,101.876 123.348,102.012 123.435,102.148 123.522,102.284 123.609,102.42 123.696,102.556 \n",
       "  123.783,102.693 123.87,102.829 123.957,102.966 124.043,103.103 124.13,103.24 124.217,103.377 124.304,103.514 124.391,103.651 124.478,103.789 124.565,103.927 \n",
       "  124.652,104.064 124.739,104.202 124.826,104.34 124.913,104.479 125,104.617 125.087,104.755 125.174,104.894 125.261,105.033 125.348,105.172 125.435,105.311 \n",
       "  125.522,105.45 125.609,105.589 125.696,105.729 125.783,105.868 125.87,106.008 125.957,106.148 126.044,106.288 126.131,106.428 126.217,106.568 126.304,106.708 \n",
       "  126.391,106.849 126.478,106.99 126.565,107.131 126.652,107.271 126.739,107.413 126.826,107.554 126.913,107.695 127,107.837 127.087,107.978 127.174,108.12 \n",
       "  127.261,108.262 127.348,108.404 127.435,108.547 127.522,108.689 127.609,108.831 127.696,108.974 127.783,109.117 127.87,109.26 127.957,109.403 128.044,109.546 \n",
       "  128.131,109.689 128.218,109.833 128.305,109.977 128.392,110.12 128.478,110.264 128.565,110.408 128.652,110.553 128.739,110.697 128.826,110.841 128.913,110.986 \n",
       "  129,111.131 129.087,111.276 129.174,111.421 129.261,111.566 129.348,111.711 129.435,111.857 129.522,112.003 129.609,112.148 129.696,112.294 129.783,112.44 \n",
       "  129.87,112.587 129.957,112.733 130.044,112.879 130.131,113.026 130.218,113.173 130.305,113.32 130.392,113.467 130.479,113.614 130.566,113.761 130.652,113.909 \n",
       "  130.739,114.057 130.826,114.204 130.913,114.352 131,114.5 131.087,114.649 131.174,114.797 131.261,114.945 131.348,115.094 131.435,115.243 131.522,115.392 \n",
       "  131.609,115.541 131.696,115.69 131.783,115.84 131.87,115.989 131.957,116.139 132.044,116.289 132.131,116.439 132.218,116.589 132.305,116.739 132.392,116.889 \n",
       "  132.479,117.04 132.566,117.191 132.653,117.342 132.74,117.493 132.826,117.644 132.913,117.795 133,117.946 133.087,118.098 133.174,118.25 133.261,118.402 \n",
       "  133.348,118.554 133.435,118.706 133.522,118.858 133.609,119.011 133.696,119.163 133.783,119.316 133.87,119.469 133.957,119.622 134.044,119.775 134.131,119.928 \n",
       "  134.218,120.082 134.305,120.235 134.392,120.389 134.479,120.543 134.566,120.697 134.653,120.851 134.74,121.006 134.827,121.16 134.914,121.315 135,121.47 \n",
       "  135.087,121.625 135.174,121.78 135.261,121.935 135.348,122.091 135.435,122.246 135.522,122.402 135.609,122.558 135.696,122.714 135.783,122.87 135.87,123.026 \n",
       "  135.957,123.183 136.044,123.339 136.131,123.496 136.218,123.653 136.305,123.81 136.392,123.967 136.479,124.124 136.566,124.282 136.653,124.439 136.74,124.597 \n",
       "  136.827,124.755 136.914,124.913 137.001,125.071 137.088,125.23 137.174,125.388 137.261,125.547 137.348,125.706 137.435,125.865 137.522,126.024 137.609,126.183 \n",
       "  137.696,126.342 137.783,126.502 137.87,126.662 137.957,126.821 138.044,126.981 138.131,127.142 138.218,127.302 138.305,127.462 138.392,127.623 138.479,127.784 \n",
       "  138.566,127.944 138.653,128.105 138.74,128.267 138.827,128.428 138.914,128.589 139.001,128.751 139.088,128.913 139.175,129.075 139.262,129.237 139.348,129.399 \n",
       "  139.435,129.561 139.522,129.724 139.609,129.887 139.696,130.049 139.783,130.212 139.87,130.375 139.957,130.539 140.044,130.702 140.131,130.866 140.218,131.029 \n",
       "  140.305,131.193 140.392,131.357 140.479,131.521 140.566,131.686 140.653,131.85 140.74,132.015 140.827,132.179 140.914,132.344 141.001,132.509 141.088,132.674 \n",
       "  141.175,132.84 141.262,133.005 141.349,133.171 141.436,133.336 141.522,133.502 141.609,133.668 141.696,133.835 141.783,134.001 141.87,134.167 141.957,134.334 \n",
       "  142.044,134.501 142.131,134.668 142.218,134.835 142.305,135.002 142.392,135.169 142.479,135.337 142.566,135.505 142.653,135.672 142.74,135.84 142.827,136.008 \n",
       "  142.914,136.177 143.001,136.345 143.088,136.514 143.175,136.682 143.262,136.851 143.349,137.02 143.436,137.189 143.523,137.358 143.61,137.528 143.696,137.697 \n",
       "  143.783,137.867 143.87,138.037 143.957,138.207 144.044,138.377 144.131,138.547 144.218,138.718 144.305,138.888 144.392,139.059 144.479,139.23 144.566,139.401 \n",
       "  144.653,139.572 144.74,139.743 144.827,139.914 144.914,140.086 145.001,140.258 145.088,140.429 145.175,140.601 145.262,140.774 145.349,140.946 145.436,141.118 \n",
       "  145.523,141.291 145.61,141.463 145.697,141.636 145.784,141.809 145.87,141.982 145.957,142.155 146.044,142.329 146.131,142.502 146.218,142.676 146.305,142.85 \n",
       "  146.392,143.024 146.479,143.198 146.566,143.372 146.653,143.546 146.74,143.721 146.827,143.896 146.914,144.07 147.001,144.245 147.088,144.42 147.175,144.595 \n",
       "  147.262,144.771 147.349,144.946 147.436,145.122 147.523,145.298 147.61,145.473 147.697,145.649 147.784,145.826 147.871,146.002 147.958,146.178 148.044,146.355 \n",
       "  148.131,146.531 148.218,146.708 148.305,146.885 148.392,147.062 148.479,147.239 148.566,147.417 148.653,147.594 148.74,147.772 148.827,147.95 148.914,148.127 \n",
       "  149.001,148.305 149.088,148.484 149.175,148.662 149.262,148.84 149.349,149.019 149.436,149.197 149.523,149.376 149.61,149.555 149.697,149.734 149.784,149.913 \n",
       "  149.871,150.093 149.958,150.272 150.045,150.451 150.132,150.631 150.218,150.811 150.305,150.991 150.392,151.171 150.479,151.351 150.566,151.531 150.653,151.712 \n",
       "  150.74,151.892 150.827,152.073 150.914,152.254 151.001,152.435 151.088,152.616 151.175,152.797 151.262,152.978 151.349,153.16 151.436,153.341 151.523,153.523 \n",
       "  151.61,153.705 151.697,153.886 151.784,154.068 151.871,154.25 151.958,154.433 152.045,154.615 152.132,154.798 152.219,154.98 152.306,155.163 152.392,155.346 \n",
       "  152.479,155.529 152.566,155.712 152.653,155.895 152.74,156.078 152.827,156.261 152.914,156.445 153.001,156.629 153.088,156.812 153.175,156.996 153.262,157.18 \n",
       "  153.349,157.364 153.436,157.548 153.523,157.732 153.61,157.917 153.697,158.101 153.784,158.286 153.871,158.471 153.958,158.655 154.045,158.84 154.132,159.025 \n",
       "  154.219,159.21 154.306,159.396 154.393,159.581 154.48,159.766 154.566,159.952 154.653,160.138 154.74,160.323 154.827,160.509 154.914,160.695 155.001,160.881 \n",
       "  155.088,161.067 155.175,161.253 155.262,161.44 155.349,161.626 155.436,161.812 155.523,161.999 155.61,162.186 155.697,162.373 155.784,162.559 155.871,162.746 \n",
       "  155.958,162.933 156.045,163.12 156.132,163.308 156.219,163.495 156.306,163.682 156.393,163.87 156.48,164.057 156.567,164.245 156.654,164.433 156.741,164.621 \n",
       "  156.827,164.809 156.914,164.997 157.001,165.185 157.088,165.373 157.175,165.561 157.262,165.749 157.349,165.938 157.436,166.126 157.523,166.315 157.61,166.503 \n",
       "  157.697,166.692 157.784,166.881 157.871,167.069 157.958,167.258 158.045,167.447 158.132,167.636 158.219,167.825 158.306,168.014 158.393,168.204 158.48,168.393 \n",
       "  158.567,168.582 158.654,168.772 158.741,168.961 158.828,169.151 158.915,169.34 159.001,169.53 159.088,169.72 159.175,169.909 159.262,170.099 159.349,170.289 \n",
       "  159.436,170.479 159.523,170.669 159.61,170.859 159.697,171.049 159.784,171.239 159.871,171.429 159.958,171.62 160.045,171.81 160.132,172 160.219,172.191 \n",
       "  160.306,172.381 160.393,172.571 160.48,172.762 160.567,172.952 160.654,173.143 160.741,173.333 160.828,173.524 160.915,173.715 161.002,173.905 161.089,174.096 \n",
       "  161.175,174.287 161.262,174.478 161.349,174.668 161.436,174.859 161.523,175.05 161.61,175.241 161.697,175.432 161.784,175.623 161.871,175.814 161.958,176.005 \n",
       "  162.045,176.196 162.132,176.387 162.219,176.578 162.306,176.769 162.393,176.96 162.48,177.151 162.567,177.342 162.654,177.533 162.741,177.724 162.828,177.915 \n",
       "  162.915,178.106 163.002,178.297 163.089,178.488 163.176,178.679 163.263,178.87 163.349,179.061 163.436,179.252 163.523,179.443 163.61,179.634 163.697,179.825 \n",
       "  163.784,180.016 163.871,180.207 163.958,180.398 164.045,180.589 164.132,180.78 164.219,180.971 164.306,181.162 164.393,181.353 164.48,181.543 164.567,181.734 \n",
       "  164.654,181.925 164.741,182.116 164.828,182.306 164.915,182.497 165.002,182.687 165.089,182.878 165.176,183.069 165.263,183.259 165.35,183.449 165.437,183.64 \n",
       "  165.523,183.83 165.61,184.02 165.697,184.211 165.784,184.401 165.871,184.591 165.958,184.781 166.045,184.971 166.132,185.161 166.219,185.351 166.306,185.541 \n",
       "  166.393,185.73 166.48,185.92 166.567,186.11 166.654,186.299 166.741,186.488 166.828,186.678 166.915,186.867 167.002,187.056 167.089,187.245 167.176,187.434 \n",
       "  167.263,187.623 167.35,187.812 167.437,188.001 167.524,188.189 167.611,188.378 167.697,188.566 167.784,188.755 167.871,188.943 167.958,189.131 168.045,189.319 \n",
       "  168.132,189.507 168.219,189.695 168.306,189.882 168.393,190.07 168.48,190.257 168.567,190.444 168.654,190.632 168.741,190.819 168.828,191.006 168.915,191.192 \n",
       "  169.002,191.379 169.089,191.565 169.176,191.752 169.263,191.938 169.35,192.124 169.437,192.31 169.524,192.495 169.611,192.681 169.698,192.866 169.785,193.052 \n",
       "  169.871,193.237 169.958,193.422 170.045,193.606 170.132,193.791 170.219,193.975 170.306,194.159 170.393,194.344 170.48,194.527 170.567,194.711 170.654,194.894 \n",
       "  170.741,195.078 170.828,195.261 170.915,195.444 171.002,195.626 171.089,195.809 171.176,195.991 171.263,196.173 171.35,196.355 171.437,196.537 171.524,196.718 \n",
       "  171.611,196.899 171.698,197.08 171.785,197.261 171.872,197.441 171.959,197.622 172.045,197.802 172.132,197.981 172.219,198.161 172.306,198.34 172.393,198.519 \n",
       "  172.48,198.698 172.567,198.876 172.654,199.055 172.741,199.233 172.828,199.41 172.915,199.588 173.002,199.765 173.089,199.942 173.176,200.118 173.263,200.295 \n",
       "  173.35,200.471 173.437,200.647 173.524,200.822 173.611,200.997 173.698,201.172 173.785,201.346 173.872,201.521 173.959,201.695 174.046,201.868 174.133,202.041 \n",
       "  174.219,202.214 174.306,202.387 174.393,202.559 174.48,202.731 174.567,202.903 174.654,203.074 174.741,203.245 174.828,203.416 174.915,203.586 175.002,203.756 \n",
       "  175.089,203.925 175.176,204.094 175.263,204.263 175.35,204.432 175.437,204.6 175.524,204.767 175.611,204.934 175.698,205.101 175.785,205.268 175.872,205.434 \n",
       "  175.959,205.599 176.046,205.765 176.133,205.93 176.22,206.094 176.307,206.258 176.393,206.422 176.48,206.585 176.567,206.748 176.654,206.91 176.741,207.072 \n",
       "  176.828,207.233 176.915,207.394 177.002,207.555 177.089,207.715 177.176,207.874 177.263,208.034 177.35,208.192 177.437,208.35 177.524,208.508 177.611,208.665 \n",
       "  177.698,208.822 177.785,208.979 177.872,209.134 177.959,209.29 178.046,209.444 178.133,209.599 178.22,209.752 178.307,209.906 178.394,210.058 178.481,210.211 \n",
       "  178.567,210.362 178.654,210.514 178.741,210.664 178.828,210.814 178.915,210.964 179.002,211.113 179.089,211.261 179.176,211.409 179.263,211.556 179.35,211.703 \n",
       "  179.437,211.849 179.524,211.995 179.611,212.14 179.698,212.284 179.785,212.428 179.872,212.571 179.959,212.714 180.046,212.856 180.133,212.998 180.22,213.138 \n",
       "  180.307,213.279 180.394,213.418 180.481,213.557 180.568,213.695 180.655,213.833 180.741,213.97 180.828,214.107 180.915,214.242 181.002,214.377 181.089,214.512 \n",
       "  181.176,214.646 181.263,214.779 181.35,214.911 181.437,215.043 181.524,215.174 181.611,215.304 181.698,215.434 181.785,215.563 181.872,215.692 181.959,215.819 \n",
       "  182.046,215.946 182.133,216.072 182.22,216.198 182.307,216.323 182.394,216.447 182.481,216.57 182.568,216.693 182.655,216.814 182.742,216.935 182.829,217.056 \n",
       "  182.915,217.175 183.002,217.294 183.089,217.412 183.176,217.53 183.263,217.646 183.35,217.762 183.437,217.877 183.524,217.992 183.611,218.105 183.698,218.218 \n",
       "  183.785,218.33 183.872,218.441 183.959,218.551 184.046,218.661 184.133,218.769 184.22,218.877 184.307,218.984 184.394,219.091 184.481,219.196 184.568,219.301 \n",
       "  184.655,219.405 184.742,219.508 184.829,219.61 184.916,219.711 185.003,219.812 185.089,219.911 185.176,220.01 185.263,220.108 185.35,220.205 185.437,220.302 \n",
       "  185.524,220.397 185.611,220.492 185.698,220.585 185.785,220.678 185.872,220.77 185.959,220.861 186.046,220.951 186.133,221.041 186.22,221.129 186.307,221.217 \n",
       "  186.394,221.304 186.481,221.39 186.568,221.475 186.655,221.559 186.742,221.642 186.829,221.724 186.916,221.806 187.003,221.886 187.09,221.966 187.177,222.044 \n",
       "  187.264,222.122 187.35,222.199 187.437,222.275 187.524,222.35 187.611,222.425 187.698,222.498 187.785,222.571 187.872,222.642 187.959,222.713 188.046,222.783 \n",
       "  188.133,222.851 188.22,222.919 188.307,222.986 188.394,223.053 188.481,223.118 188.568,223.182 188.655,223.246 188.742,223.308 188.829,223.37 188.916,223.431 \n",
       "  189.003,223.491 189.09,223.55 189.177,223.608 189.264,223.665 189.351,223.721 189.438,223.777 189.524,223.831 189.611,223.885 189.698,223.938 189.785,223.99 \n",
       "  189.872,224.041 189.959,224.091 190.046,224.14 190.133,224.189 190.22,224.237 190.307,224.283 190.394,224.329 190.481,224.374 190.568,224.418 190.655,224.462 \n",
       "  190.742,224.504 190.829,224.546 190.916,224.587 191.003,224.627 191.09,224.666 191.177,224.705 191.264,224.742 191.351,224.779 191.438,224.815 191.525,224.85 \n",
       "  191.612,224.885 191.698,224.918 191.785,224.951 191.872,224.983 191.959,225.015 192.046,225.045 192.133,225.075 192.22,225.104 192.307,225.133 192.394,225.16 \n",
       "  192.481,225.187 192.568,225.214 192.655,225.239 192.742,225.264 192.829,225.288 192.916,225.312 193.003,225.335 193.09,225.357 193.177,225.378 193.264,225.399 \n",
       "  193.351,225.42 193.438,225.439 193.525,225.458 193.612,225.477 193.699,225.495 193.786,225.512 193.872,225.528 193.959,225.545 194.046,225.56 194.133,225.575 \n",
       "  194.22,225.59 194.307,225.604 194.394,225.617 194.481,225.63 194.568,225.643 194.655,225.655 194.742,225.666 194.829,225.677 194.916,225.688 195.003,225.698 \n",
       "  195.09,225.708 195.177,225.717 195.264,225.726 195.351,225.734 195.438,225.743 195.525,225.75 195.612,225.758 195.699,225.765 195.786,225.771 195.873,225.778 \n",
       "  195.96,225.784 196.046,225.79 196.133,225.795 196.22,225.8 196.307,225.805 196.394,225.81 196.481,225.814 196.568,225.818 196.655,225.822 196.742,225.826 \n",
       "  196.829,225.829 196.916,225.832 197.003,225.835 197.09,225.838 197.177,225.84 197.264,225.843 197.351,225.845 197.438,225.847 197.525,225.849 197.612,225.851 \n",
       "  197.699,225.853 197.786,225.854 197.873,225.856 197.96,225.857 198.047,225.858 198.134,225.859 198.22,225.86 198.307,225.861 198.394,225.862 198.481,225.863 \n",
       "  198.568,225.863 198.655,225.864 198.742,225.865 198.829,225.865 198.916,225.866 199.003,225.866 199.09,225.866 199.177,225.867 199.264,225.867 199.351,225.867 \n",
       "  199.438,225.867 199.525,225.868 199.612,225.868 199.699,225.868 199.786,225.868 199.873,225.868 199.96,225.868 200.047,225.868 200.134,225.868 200.221,225.868 \n",
       "  200.308,225.868 200.394,225.869 200.481,225.869 200.568,225.869 200.655,225.869 200.742,225.869 200.829,225.869 200.916,225.869 201.003,225.869 201.09,225.869 \n",
       "  201.177,225.869 201.264,225.869 201.351,225.869 201.438,225.869 201.525,225.869 201.612,225.869 201.699,225.869 201.786,225.869 201.873,225.869 201.96,225.869 \n",
       "  202.047,225.869 202.134,225.869 202.221,225.869 202.308,225.869 202.395,225.869 202.482,225.869 202.568,225.869 202.655,225.869 202.742,225.869 202.829,225.869 \n",
       "  202.916,225.869 203.003,225.869 203.09,225.869 203.177,225.869 203.264,225.869 203.351,225.869 203.438,225.869 203.525,225.869 203.612,225.869 203.699,225.869 \n",
       "  203.786,225.869 203.873,225.869 203.96,225.869 204.047,225.869 204.134,225.869 204.221,225.869 204.308,225.869 204.395,225.869 204.482,225.869 204.569,225.869 \n",
       "  204.656,225.869 204.742,225.869 204.829,225.869 204.916,225.869 205.003,225.869 205.09,225.869 205.177,225.869 205.264,225.869 205.351,225.869 205.438,225.869 \n",
       "  205.525,225.869 205.612,225.869 205.699,225.869 205.786,225.869 205.873,225.869 205.96,225.869 206.047,225.869 206.134,225.869 206.221,225.869 206.308,225.869 \n",
       "  206.395,225.869 206.482,225.869 206.569,225.869 206.656,225.869 206.743,225.869 206.83,225.869 206.916,225.869 207.003,225.869 207.09,225.869 207.177,225.869 \n",
       "  207.264,225.869 207.351,225.869 207.438,225.869 207.525,225.869 207.612,225.869 207.699,225.869 207.786,225.869 207.873,225.869 207.96,225.869 208.047,225.869 \n",
       "  208.134,225.869 208.221,225.869 208.308,225.869 208.395,225.869 208.482,225.869 208.569,225.869 208.656,225.869 208.743,225.869 208.83,225.869 208.917,225.869 \n",
       "  209.004,225.869 209.09,225.869 209.177,225.869 209.264,225.869 209.351,225.869 209.438,225.869 209.525,225.869 209.612,225.869 209.699,225.869 209.786,225.869 \n",
       "  209.873,225.869 209.96,225.869 210.047,225.869 210.134,225.869 210.221,225.869 210.308,225.869 210.395,225.869 210.482,225.869 210.569,225.869 210.656,225.869 \n",
       "  210.743,225.869 210.83,225.869 210.917,225.869 211.004,225.869 211.091,225.869 211.178,225.869 211.264,225.869 211.351,225.869 211.438,225.869 211.525,225.869 \n",
       "  211.612,225.869 211.699,225.869 211.786,225.869 211.873,225.869 211.96,225.869 212.047,225.869 212.134,225.869 212.221,225.869 212.308,225.869 212.395,225.869 \n",
       "  212.482,225.868 212.569,225.868 212.656,225.868 212.743,225.868 212.83,225.868 212.917,225.868 213.004,225.868 213.091,225.868 213.178,225.868 213.265,225.868 \n",
       "  213.352,225.867 213.438,225.867 213.525,225.867 213.612,225.867 213.699,225.866 213.786,225.866 213.873,225.866 213.96,225.865 214.047,225.865 214.134,225.864 \n",
       "  214.221,225.863 214.308,225.863 214.395,225.862 214.482,225.861 214.569,225.86 214.656,225.859 214.743,225.858 214.83,225.857 214.917,225.856 215.004,225.854 \n",
       "  215.091,225.853 215.178,225.851 215.265,225.849 215.352,225.847 215.439,225.845 215.526,225.843 215.612,225.84 215.699,225.838 215.786,225.835 215.873,225.832 \n",
       "  215.96,225.829 216.047,225.826 216.134,225.822 216.221,225.818 216.308,225.814 216.395,225.81 216.482,225.805 216.569,225.8 216.656,225.795 216.743,225.79 \n",
       "  216.83,225.784 216.917,225.778 217.004,225.771 217.091,225.765 217.178,225.758 217.265,225.75 217.352,225.743 217.439,225.734 217.526,225.726 217.613,225.717 \n",
       "  217.7,225.708 217.787,225.698 217.873,225.688 217.96,225.677 218.047,225.666 218.134,225.655 218.221,225.643 218.308,225.63 218.395,225.617 218.482,225.604 \n",
       "  218.569,225.59 218.656,225.575 218.743,225.56 218.83,225.545 218.917,225.528 219.004,225.512 219.091,225.495 219.178,225.477 219.265,225.458 219.352,225.439 \n",
       "  219.439,225.42 219.526,225.399 219.613,225.378 219.7,225.357 219.787,225.335 219.874,225.312 219.961,225.288 220.047,225.264 220.134,225.239 220.221,225.214 \n",
       "  220.308,225.187 220.395,225.16 220.482,225.133 220.569,225.104 220.656,225.075 220.743,225.045 220.83,225.015 220.917,224.983 221.004,224.951 221.091,224.918 \n",
       "  221.178,224.885 221.265,224.85 221.352,224.815 221.439,224.779 221.526,224.742 221.613,224.705 221.7,224.666 221.787,224.627 221.874,224.587 221.961,224.546 \n",
       "  222.048,224.504 222.135,224.462 222.221,224.418 222.308,224.374 222.395,224.329 222.482,224.283 222.569,224.237 222.656,224.189 222.743,224.14 222.83,224.091 \n",
       "  222.917,224.041 223.004,223.99 223.091,223.938 223.178,223.885 223.265,223.831 223.352,223.777 223.439,223.721 223.526,223.665 223.613,223.608 223.7,223.55 \n",
       "  223.787,223.491 223.874,223.431 223.961,223.37 224.048,223.308 224.135,223.246 224.222,223.182 224.309,223.118 224.395,223.053 224.482,222.986 224.569,222.919 \n",
       "  224.656,222.851 224.743,222.783 224.83,222.713 224.917,222.642 225.004,222.571 225.091,222.498 225.178,222.425 225.265,222.35 225.352,222.275 225.439,222.199 \n",
       "  225.526,222.122 225.613,222.044 225.7,221.966 225.787,221.886 225.874,221.806 225.961,221.724 226.048,221.642 226.135,221.559 226.222,221.475 226.309,221.39 \n",
       "  226.396,221.304 226.483,221.217 226.569,221.129 226.656,221.041 226.743,220.951 226.83,220.861 226.917,220.77 227.004,220.678 227.091,220.585 227.178,220.492 \n",
       "  227.265,220.397 227.352,220.302 227.439,220.205 227.526,220.108 227.613,220.01 227.7,219.911 227.787,219.812 227.874,219.711 227.961,219.61 228.048,219.508 \n",
       "  228.135,219.405 228.222,219.301 228.309,219.196 228.396,219.091 228.483,218.984 228.57,218.877 228.657,218.769 228.743,218.661 228.83,218.551 228.917,218.441 \n",
       "  229.004,218.33 229.091,218.218 229.178,218.105 229.265,217.992 229.352,217.877 229.439,217.762 229.526,217.646 229.613,217.53 229.7,217.412 229.787,217.294 \n",
       "  229.874,217.175 229.961,217.056 230.048,216.935 230.135,216.814 230.222,216.693 230.309,216.57 230.396,216.447 230.483,216.323 230.57,216.198 230.657,216.072 \n",
       "  230.744,215.946 230.831,215.819 230.917,215.692 231.004,215.563 231.091,215.434 231.178,215.304 231.265,215.174 231.352,215.043 231.439,214.911 231.526,214.779 \n",
       "  231.613,214.646 231.7,214.512 231.787,214.377 231.874,214.242 231.961,214.107 232.048,213.97 232.135,213.833 232.222,213.695 232.309,213.557 232.396,213.418 \n",
       "  232.483,213.279 232.57,213.138 232.657,212.998 232.744,212.856 232.831,212.714 232.918,212.571 233.005,212.428 233.091,212.284 233.178,212.14 233.265,211.995 \n",
       "  233.352,211.849 233.439,211.703 233.526,211.556 233.613,211.409 233.7,211.261 233.787,211.113 233.874,210.964 233.961,210.814 234.048,210.664 234.135,210.514 \n",
       "  234.222,210.362 234.309,210.211 234.396,210.058 234.483,209.906 234.57,209.752 234.657,209.599 234.744,209.444 234.831,209.29 234.918,209.134 235.005,208.979 \n",
       "  235.092,208.822 235.179,208.665 235.265,208.508 235.352,208.35 235.439,208.192 235.526,208.034 235.613,207.874 235.7,207.715 235.787,207.555 235.874,207.394 \n",
       "  235.961,207.233 236.048,207.072 236.135,206.91 236.222,206.748 236.309,206.585 236.396,206.422 236.483,206.258 236.57,206.094 236.657,205.93 236.744,205.765 \n",
       "  236.831,205.599 236.918,205.434 237.005,205.268 237.092,205.101 237.179,204.934 237.266,204.767 237.353,204.6 237.439,204.432 237.526,204.263 237.613,204.094 \n",
       "  237.7,203.925 237.787,203.756 237.874,203.586 237.961,203.416 238.048,203.245 238.135,203.074 238.222,202.903 238.309,202.731 238.396,202.559 238.483,202.387 \n",
       "  238.57,202.214 238.657,202.041 238.744,201.868 238.831,201.695 238.918,201.521 239.005,201.346 239.092,201.172 239.179,200.997 239.266,200.822 239.353,200.647 \n",
       "  239.44,200.471 239.527,200.295 239.613,200.118 239.7,199.942 239.787,199.765 239.874,199.588 239.961,199.41 240.048,199.233 240.135,199.055 240.222,198.876 \n",
       "  240.309,198.698 240.396,198.519 240.483,198.34 240.57,198.161 240.657,197.981 240.744,197.802 240.831,197.622 240.918,197.441 241.005,197.261 241.092,197.08 \n",
       "  241.179,196.899 241.266,196.718 241.353,196.537 241.44,196.355 241.527,196.173 241.614,195.991 241.701,195.809 241.787,195.626 241.874,195.444 241.961,195.261 \n",
       "  242.048,195.078 242.135,194.894 242.222,194.711 242.309,194.527 242.396,194.344 242.483,194.159 242.57,193.975 242.657,193.791 242.744,193.606 242.831,193.422 \n",
       "  242.918,193.237 243.005,193.052 243.092,192.866 243.179,192.681 243.266,192.495 243.353,192.31 243.44,192.124 243.527,191.938 243.614,191.752 243.701,191.565 \n",
       "  243.788,191.379 243.875,191.192 243.961,191.006 244.048,190.819 244.135,190.632 244.222,190.444 244.309,190.257 244.396,190.07 244.483,189.882 244.57,189.695 \n",
       "  244.657,189.507 244.744,189.319 244.831,189.131 244.918,188.943 245.005,188.755 245.092,188.566 245.179,188.378 245.266,188.189 245.353,188.001 245.44,187.812 \n",
       "  245.527,187.623 245.614,187.434 245.701,187.245 245.788,187.056 245.875,186.867 245.962,186.678 246.049,186.488 246.136,186.299 246.222,186.11 246.309,185.92 \n",
       "  246.396,185.73 246.483,185.541 246.57,185.351 246.657,185.161 246.744,184.971 246.831,184.781 246.918,184.591 247.005,184.401 247.092,184.211 247.179,184.02 \n",
       "  247.266,183.83 247.353,183.64 247.44,183.449 247.527,183.259 247.614,183.069 247.701,182.878 247.788,182.687 247.875,182.497 247.962,182.306 248.049,182.116 \n",
       "  248.136,181.925 248.223,181.734 248.31,181.543 248.396,181.353 248.483,181.162 248.57,180.971 248.657,180.78 248.744,180.589 248.831,180.398 248.918,180.207 \n",
       "  249.005,180.016 249.092,179.825 249.179,179.634 249.266,179.443 249.353,179.252 249.44,179.061 249.527,178.87 249.614,178.679 249.701,178.488 249.788,178.297 \n",
       "  249.875,178.106 249.962,177.915 250.049,177.724 250.136,177.533 250.223,177.342 250.31,177.151 250.397,176.96 250.484,176.769 250.57,176.578 250.657,176.387 \n",
       "  250.744,176.196 250.831,176.005 250.918,175.814 251.005,175.623 251.092,175.432 251.179,175.241 251.266,175.05 251.353,174.859 251.44,174.668 251.527,174.478 \n",
       "  251.614,174.287 251.701,174.096 251.788,173.905 251.875,173.715 251.962,173.524 252.049,173.333 252.136,173.143 252.223,172.952 252.31,172.762 252.397,172.571 \n",
       "  252.484,172.381 252.571,172.191 252.658,172 252.744,171.81 252.831,171.62 252.918,171.429 253.005,171.239 253.092,171.049 253.179,170.859 253.266,170.669 \n",
       "  253.353,170.479 253.44,170.289 253.527,170.099 253.614,169.909 253.701,169.72 253.788,169.53 253.875,169.34 253.962,169.151 254.049,168.961 254.136,168.772 \n",
       "  254.223,168.582 254.31,168.393 254.397,168.204 254.484,168.014 254.571,167.825 254.658,167.636 254.745,167.447 254.832,167.258 254.918,167.069 255.005,166.881 \n",
       "  255.092,166.692 255.179,166.503 255.266,166.315 255.353,166.126 255.44,165.938 255.527,165.749 255.614,165.561 255.701,165.373 255.788,165.185 255.875,164.997 \n",
       "  255.962,164.809 256.049,164.621 256.136,164.433 256.223,164.245 256.31,164.057 256.397,163.87 256.484,163.682 256.571,163.495 256.658,163.308 256.745,163.12 \n",
       "  256.832,162.933 256.919,162.746 257.006,162.559 257.092,162.373 257.179,162.186 257.266,161.999 257.353,161.812 257.44,161.626 257.527,161.44 257.614,161.253 \n",
       "  257.701,161.067 257.788,160.881 257.875,160.695 257.962,160.509 258.049,160.323 258.136,160.138 258.223,159.952 258.31,159.766 258.397,159.581 258.484,159.396 \n",
       "  258.571,159.21 258.658,159.025 258.745,158.84 258.832,158.655 258.919,158.471 259.006,158.286 259.093,158.101 259.18,157.917 259.266,157.732 259.353,157.548 \n",
       "  259.44,157.364 259.527,157.18 259.614,156.996 259.701,156.812 259.788,156.629 259.875,156.445 259.962,156.261 260.049,156.078 260.136,155.895 260.223,155.712 \n",
       "  260.31,155.529 260.397,155.346 260.484,155.163 260.571,154.98 260.658,154.798 260.745,154.615 260.832,154.433 260.919,154.25 261.006,154.068 261.093,153.886 \n",
       "  261.18,153.705 261.267,153.523 261.354,153.341 261.44,153.16 261.527,152.978 261.614,152.797 261.701,152.616 261.788,152.435 261.875,152.254 261.962,152.073 \n",
       "  262.049,151.892 262.136,151.712 262.223,151.531 262.31,151.351 262.397,151.171 262.484,150.991 262.571,150.811 262.658,150.631 262.745,150.451 262.832,150.272 \n",
       "  262.919,150.093 263.006,149.913 263.093,149.734 263.18,149.555 263.267,149.376 263.354,149.197 263.441,149.019 263.528,148.84 263.614,148.662 263.701,148.484 \n",
       "  263.788,148.305 263.875,148.127 263.962,147.95 264.049,147.772 264.136,147.594 264.223,147.417 264.31,147.239 264.397,147.062 264.484,146.885 264.571,146.708 \n",
       "  264.658,146.531 264.745,146.355 264.832,146.178 264.919,146.002 265.006,145.826 265.093,145.649 265.18,145.473 265.267,145.298 265.354,145.122 265.441,144.946 \n",
       "  265.528,144.771 265.615,144.595 265.702,144.42 265.788,144.245 265.875,144.07 265.962,143.896 266.049,143.721 266.136,143.546 266.223,143.372 266.31,143.198 \n",
       "  266.397,143.024 266.484,142.85 266.571,142.676 266.658,142.502 266.745,142.329 266.832,142.155 266.919,141.982 267.006,141.809 267.093,141.636 267.18,141.463 \n",
       "  267.267,141.291 267.354,141.118 267.441,140.946 267.528,140.774 267.615,140.601 267.702,140.429 267.789,140.258 267.876,140.086 267.962,139.914 268.049,139.743 \n",
       "  268.136,139.572 268.223,139.401 268.31,139.23 268.397,139.059 268.484,138.888 268.571,138.718 268.658,138.547 268.745,138.377 268.832,138.207 268.919,138.037 \n",
       "  269.006,137.867 269.093,137.697 269.18,137.528 269.267,137.358 269.354,137.189 269.441,137.02 269.528,136.851 269.615,136.682 269.702,136.514 269.789,136.345 \n",
       "  269.876,136.177 269.963,136.008 270.05,135.84 270.136,135.672 270.223,135.505 270.31,135.337 270.397,135.169 270.484,135.002 270.571,134.835 270.658,134.668 \n",
       "  270.745,134.501 270.832,134.334 270.919,134.167 271.006,134.001 271.093,133.835 271.18,133.668 271.267,133.502 271.354,133.336 271.441,133.171 271.528,133.005 \n",
       "  271.615,132.84 271.702,132.674 271.789,132.509 271.876,132.344 271.963,132.179 272.05,132.015 272.137,131.85 272.224,131.686 272.31,131.521 272.397,131.357 \n",
       "  272.484,131.193 272.571,131.029 272.658,130.866 272.745,130.702 272.832,130.539 272.919,130.375 273.006,130.212 273.093,130.049 273.18,129.887 273.267,129.724 \n",
       "  273.354,129.561 273.441,129.399 273.528,129.237 273.615,129.075 273.702,128.913 273.789,128.751 273.876,128.589 273.963,128.428 274.05,128.267 274.137,128.105 \n",
       "  274.224,127.944 274.311,127.784 274.398,127.623 274.484,127.462 274.571,127.302 274.658,127.142 274.745,126.981 274.832,126.821 274.919,126.662 275.006,126.502 \n",
       "  275.093,126.342 275.18,126.183 275.267,126.024 275.354,125.865 275.441,125.706 275.528,125.547 275.615,125.388 275.702,125.23 275.789,125.071 275.876,124.913 \n",
       "  275.963,124.755 276.05,124.597 276.137,124.439 276.224,124.282 276.311,124.124 276.398,123.967 276.485,123.81 276.572,123.653 276.659,123.496 276.745,123.339 \n",
       "  276.832,123.183 276.919,123.026 277.006,122.87 277.093,122.714 277.18,122.558 277.267,122.402 277.354,122.246 277.441,122.091 277.528,121.935 277.615,121.78 \n",
       "  277.702,121.625 277.789,121.47 277.876,121.315 277.963,121.16 278.05,121.006 278.137,120.851 278.224,120.697 278.311,120.543 278.398,120.389 278.485,120.235 \n",
       "  278.572,120.082 278.659,119.928 278.746,119.775 278.833,119.622 278.919,119.469 279.006,119.316 279.093,119.163 279.18,119.011 279.267,118.858 279.354,118.706 \n",
       "  279.441,118.554 279.528,118.402 279.615,118.25 279.702,118.098 279.789,117.946 279.876,117.795 279.963,117.644 280.05,117.493 280.137,117.342 280.224,117.191 \n",
       "  280.311,117.04 280.398,116.889 280.485,116.739 280.572,116.589 280.659,116.439 280.746,116.289 280.833,116.139 280.92,115.989 281.007,115.84 281.093,115.69 \n",
       "  281.18,115.541 281.267,115.392 281.354,115.243 281.441,115.094 281.528,114.945 281.615,114.797 281.702,114.649 281.789,114.5 281.876,114.352 281.963,114.204 \n",
       "  282.05,114.057 282.137,113.909 282.224,113.761 282.311,113.614 282.398,113.467 282.485,113.32 282.572,113.173 282.659,113.026 282.746,112.879 282.833,112.733 \n",
       "  282.92,112.587 283.007,112.44 283.094,112.294 283.181,112.148 283.267,112.003 283.354,111.857 283.441,111.711 283.528,111.566 283.615,111.421 283.702,111.276 \n",
       "  283.789,111.131 283.876,110.986 283.963,110.841 284.05,110.697 284.137,110.553 284.224,110.408 284.311,110.264 284.398,110.12 284.485,109.977 284.572,109.833 \n",
       "  284.659,109.689 284.746,109.546 284.833,109.403 284.92,109.26 285.007,109.117 285.094,108.974 285.181,108.831 285.268,108.689 285.355,108.547 285.441,108.404 \n",
       "  285.528,108.262 285.615,108.12 285.702,107.978 285.789,107.837 285.876,107.695 285.963,107.554 286.05,107.413 286.137,107.271 286.224,107.131 286.311,106.99 \n",
       "  286.398,106.849 286.485,106.708 286.572,106.568 286.659,106.428 286.746,106.288 286.833,106.148 286.92,106.008 287.007,105.868 287.094,105.729 287.181,105.589 \n",
       "  287.268,105.45 287.355,105.311 287.442,105.172 287.529,105.033 287.615,104.894 287.702,104.755 287.789,104.617 287.876,104.479 287.963,104.34 288.05,104.202 \n",
       "  288.137,104.064 288.224,103.927 288.311,103.789 288.398,103.651 288.485,103.514 288.572,103.377 288.659,103.24 288.746,103.103 288.833,102.966 288.92,102.829 \n",
       "  289.007,102.693 289.094,102.556 289.181,102.42 289.268,102.284 289.355,102.148 289.442,102.012 289.529,101.876 289.616,101.741 289.703,101.605 289.789,101.47 \n",
       "  289.876,101.335 289.963,101.2 290.05,101.065 290.137,100.93 290.224,100.795 290.311,100.661 290.398,100.526 290.485,100.392 290.572,100.258 290.659,100.124 \n",
       "  290.746,99.9901 290.833,99.8564 290.92,99.7228 291.007,99.5894 291.094,99.4561 291.181,99.3229 291.268,99.1898 291.355,99.0569 291.442,98.9241 291.529,98.7915 \n",
       "  291.616,98.6589 291.703,98.5265 291.79,98.3943 291.877,98.2622 291.963,98.1302 292.05,97.9983 292.137,97.8666 292.224,97.735 292.311,97.6035 292.398,97.4722 \n",
       "  292.485,97.341 292.572,97.2099 292.659,97.079 292.746,96.9482 292.833,96.8175 292.92,96.6869 293.007,96.5565 293.094,96.4262 293.181,96.2961 293.268,96.166 \n",
       "  293.355,96.0361 293.442,95.9064 293.529,95.7767 293.616,95.6472 293.703,95.5179 293.79,95.3886 293.877,95.2595 293.964,95.1305 294.051,95.0016 294.137,94.8729 \n",
       "  294.224,94.7443 294.311,94.6158 294.398,94.4875 294.485,94.3592 294.572,94.2312 294.659,94.1032 294.746,93.9754 294.833,93.8477 294.92,93.7201 295.007,93.5926 \n",
       "  295.094,93.4653 295.181,93.3381 295.268,93.211 295.355,93.0841 295.442,92.9573 295.529,92.8306 295.616,92.704 295.703,92.5776 295.79,92.4513 295.877,92.3251 \n",
       "  295.964,92.199 296.051,92.0731 296.138,91.9473 296.225,91.8216 296.311,91.696 296.398,91.5706 296.485,91.4453 296.572,91.3201 296.659,91.1951 296.746,91.0701 \n",
       "  296.833,90.9453 296.92,90.8206 297.007,90.6961 297.094,90.5716 297.181,90.4473 297.268,90.3232 297.355,90.1991 297.442,90.0752 297.529,89.9513 297.616,89.8276 \n",
       "  297.703,89.7041 297.79,89.5806 297.877,89.4573 297.964,89.3341 298.051,89.211 298.138,89.0881 298.225,88.9653 298.312,88.8426 298.399,88.72 298.485,88.5975 \n",
       "  298.572,88.4752 298.659,88.3529 298.746,88.2309 298.833,88.1089 298.92,87.987 299.007,87.8653 299.094,87.7437 299.181,87.6222 299.268,87.5008 299.355,87.3796 \n",
       "  299.442,87.2584 299.529,87.1374 299.616,87.0165 299.703,86.8958 299.79,86.7751 299.877,86.6546 299.964,86.5342 300.051,86.4139 300.138,86.2937 300.225,86.1737 \n",
       "  300.312,86.0538 300.399,85.934 300.486,85.8143 300.573,85.6947 300.659,85.5752 300.746,85.4559 300.833,85.3367 300.92,85.2176 301.007,85.0986 301.094,84.9798 \n",
       "  301.181,84.861 301.268,84.7424 301.355,84.6239 301.442,84.5055 301.529,84.3872 301.616,84.2691 301.703,84.151 301.79,84.0331 301.877,83.9153 301.964,83.7976 \n",
       "  302.051,83.6801 302.138,83.5626 302.225,83.4453 302.312,83.328 302.399,83.2109 302.486,83.094 302.573,82.9771 302.66,82.8603 302.747,82.7437 302.833,82.6272 \n",
       "  302.92,82.5108 303.007,82.3945 303.094,82.2783 303.181,82.1622 303.268,82.0463 303.355,81.9304 303.442,81.8147 303.529,81.6991 303.616,81.5836 303.703,81.4682 \n",
       "  303.79,81.353 303.877,81.2378 303.964,81.1228 304.051,81.0079 304.138,80.893 304.225,80.7784 304.312,80.6638 304.399,80.5493 304.486,80.4349 304.573,80.3207 \n",
       "  304.66,80.2066 304.747,80.0925 304.834,79.9786 304.921,79.8648 305.007,79.7512 305.094,79.6376 305.181,79.5241 305.268,79.4108 305.355,79.2976 305.442,79.1844 \n",
       "  305.529,79.0714 305.616,78.9585 305.703,78.8457 305.79,78.7331 305.877,78.6205 305.964,78.508 306.051,78.3957 306.138,78.2835 306.225,78.1713 306.312,78.0593 \n",
       "  306.399,77.9474 306.486,77.8356 306.573,77.7239 306.66,77.6124 306.747,77.5009 306.834,77.3895 306.921,77.2783 307.008,77.1671 307.095,77.0561 307.182,76.9452 \n",
       "  307.268,76.8344 307.355,76.7237 307.442,76.6131 307.529,76.5026 307.616,76.3922 307.703,76.282 307.79,76.1718 307.877,76.0617 307.964,75.9518 308.051,75.842 \n",
       "  308.138,75.7322 308.225,75.6226 308.312,75.5131 308.399,75.4037 308.486,75.2944 308.573,75.1852 308.66,75.0761 308.747,74.9671 308.834,74.8582 308.921,74.7495 \n",
       "  309.008,74.6408 309.095,74.5323 309.182,74.4238 309.269,74.3155 309.356,74.2072 309.442,74.0991 309.529,73.9911 309.616,73.8831 309.703,73.7753 309.79,73.6676 \n",
       "  309.877,73.56 309.964,73.4525 310.051,73.3451 310.138,73.2378 310.225,73.1306 310.312,73.0235 310.399,72.9165 310.486,72.8097 310.573,72.7029 310.66,72.5962 \n",
       "  310.747,72.4897 310.834,72.3832 310.921,72.2768 311.008,72.1706 311.095,72.0644 311.182,71.9584 311.269,71.8524 311.356,71.7466 311.443,71.6409 311.53,71.5352 \n",
       "  311.616,71.4297 311.703,71.3243 311.79,71.2189 311.877,71.1137 311.964,71.0086 312.051,70.9035 312.138,70.7986 312.225,70.6938 312.312,70.5891 312.399,70.4845 \n",
       "  312.486,70.3799 312.573,70.2755 312.66,70.1712 312.747,70.067 312.834,69.9629 312.921,69.8589 313.008,69.755 313.095,69.6511 313.182,69.5474 313.269,69.4438 \n",
       "  313.356,69.3403 313.443,69.2369 313.53,69.1336 313.617,69.0304 313.704,68.9273 313.79,68.8242 313.877,68.7213 313.964,68.6185 314.051,68.5158 314.138,68.4132 \n",
       "  314.225,68.3107 314.312,68.2082 314.399,68.1059 314.486,68.0037 314.573,67.9016 314.66,67.7995 314.747,67.6976 314.834,67.5958 314.921,67.494 315.008,67.3924 \n",
       "  315.095,67.2909 315.182,67.1894 315.269,67.0881 315.356,66.9868 315.443,66.8857 315.53,66.7846 315.617,66.6837 315.704,66.5828 315.791,66.4821 315.878,66.3814 \n",
       "  315.964,66.2808 316.051,66.1803 316.138,66.08 316.225,65.9797 316.312,65.8795 316.399,65.7794 316.486,65.6794 316.573,65.5795 316.66,65.4797 316.747,65.38 \n",
       "  316.834,65.2804 316.921,65.1809 317.008,65.0815 317.095,64.9821 317.182,64.8829 317.269,64.7838 317.356,64.6847 317.443,64.5858 317.53,64.4869 317.617,64.3882 \n",
       "  317.704,64.2895 317.791,64.1909 317.878,64.0924 317.965,63.994 318.052,63.8958 318.138,63.7976 318.225,63.6994 318.312,63.6014 318.399,63.5035 318.486,63.4057 \n",
       "  318.573,63.308 318.66,63.2103 318.747,63.1128 318.834,63.0153 318.921,62.918 319.008,62.8207 319.095,62.7235 319.182,62.6264 319.269,62.5294 319.356,62.4325 \n",
       "  319.443,62.3357 319.53,62.239 319.617,62.1424 319.704,62.0458 319.791,61.9494 319.878,61.853 319.965,61.7568 320.052,61.6606 320.139,61.5645 320.226,61.4685 \n",
       "  320.312,61.3726 320.399,61.2768 320.486,61.1811 320.573,61.0855 320.66,60.9899 320.747,60.8945 320.834,60.7991 320.921,60.7038 321.008,60.6087 321.095,60.5136 \n",
       "  321.182,60.4186 321.269,60.3237 321.356,60.2288 321.443,60.1341 321.53,60.0395 321.617,59.9449 321.704,59.8505 321.791,59.7561 321.878,59.6618 321.965,59.5676 \n",
       "  322.052,59.4735 322.139,59.3795 322.226,59.2855 322.313,59.1917 322.4,59.0979 322.486,59.0042 322.573,58.9107 322.66,58.8172 322.747,58.7238 322.834,58.6304 \n",
       "  322.921,58.5372 323.008,58.4441 323.095,58.351 323.182,58.258 323.269,58.1651 323.356,58.0723 323.443,57.9796 323.53,57.887 323.617,57.7945 323.704,57.702 \n",
       "  323.791,57.6096 323.878,57.5174 323.965,57.4252 324.052,57.3331 324.139,57.241 324.226,57.1491 324.313,57.0573 324.4,56.9655 324.487,56.8738 324.574,56.7822 \n",
       "  324.66,56.6907 324.747,56.5993 324.834,56.5079 324.921,56.4167 325.008,56.3255 325.095,56.2344 325.182,56.1434 325.269,56.0525 325.356,55.9617 325.443,55.8709 \n",
       "  325.53,55.7803 325.617,55.6897 325.704,55.5992 325.791,55.5088 325.878,55.4184 325.965,55.3282 326.052,55.238 326.139,55.148 326.226,55.058 326.313,54.9681 \n",
       "  326.4,54.8782 326.487,54.7885 326.574,54.6988 326.661,54.6092 326.748,54.5197 326.834,54.4303 326.921,54.341 327.008,54.2517 327.095,54.1626 327.182,54.0735 \n",
       "  327.269,53.9845 327.356,53.8956 327.443,53.8067 327.53,53.718 327.617,53.6293 327.704,53.5407 327.791,53.4522 327.878,53.3638 327.965,53.2754 328.052,53.1871 \n",
       "  328.139,53.0989 328.226,53.0108 328.313,52.9228 328.4,52.8349 328.487,52.747 328.574,52.6592 328.661,52.5715 328.748,52.4839 328.835,52.3963 328.922,52.3089 \n",
       "  329.008,52.2215 329.095,52.1342 329.182,52.047 329.269,51.9598 329.356,51.8728 329.443,51.7858 329.53,51.6989 329.617,51.6121 329.704,51.5253 329.791,51.4386 \n",
       "  329.878,51.352 329.965,51.2655 330.052,51.1791 330.139,51.0928 330.226,51.0065 330.313,50.9203 330.4,50.8342 330.487,50.7481 330.574,50.6622 330.661,50.5763 \n",
       "  330.748,50.4905 330.835,50.4048 330.922,50.3191 331.009,50.2336 331.096,50.1481 331.182,50.0626 331.269,49.9773 331.356,49.8921 331.443,49.8069 331.53,49.7218 \n",
       "  331.617,49.6367 331.704,49.5518 331.791,49.4669 331.878,49.3821 331.965,49.2974 332.052,49.2128 332.139,49.1282 332.226,49.0437 332.313,48.9593 332.4,48.875 \n",
       "  332.487,48.7907 332.574,48.7065 332.661,48.6224 332.748,48.5384 332.835,48.4544 332.922,48.3705 333.009,48.2867 333.096,48.203 333.183,48.1193 333.27,48.0358 \n",
       "  333.356,47.9523 333.443,47.8688 333.53,47.7855 333.617,47.7022 333.704,47.619 333.791,47.5359 333.878,47.4528 333.965,47.3698 334.052,47.2869 334.139,47.2041 \n",
       "  334.226,47.1213 334.313,47.0387 334.4,46.9561 334.487,46.8735 334.574,46.7911 334.661,46.7087 334.748,46.6264 334.835,46.5441 334.922,46.462 335.009,46.3799 \n",
       "  335.096,46.2979 335.183,46.2159 335.27,46.134 335.357,46.0522 335.444,45.9705 335.531,45.8889 335.617,45.8073 335.704,45.7258 335.791,45.6443 335.878,45.563 \n",
       "  335.965,45.4817 336.052,45.4005 336.139,45.3193 336.226,45.2383 336.313,45.1573 336.4,45.0763 336.487,44.9955 336.574,44.9147 336.661,44.834 336.748,44.7534 \n",
       "  336.835,44.6728 336.922,44.5923 337.009,44.5119 337.096,44.4315 337.183,44.3512 337.27,44.271 337.357,44.1909 337.444,44.1108 337.531,44.0308 337.618,43.9509 \n",
       "  337.705,43.871 337.791,43.7913 337.878,43.7115 337.965,43.6319 338.052,43.5523 338.139,43.4728 338.226,43.3934 338.313,43.314 338.4,43.2347 338.487,43.1555 \n",
       "  338.574,43.0764 338.661,42.9973 338.748,42.9183 338.835,42.8393 338.922,42.7604 339.009,42.6816 339.096,42.6029 339.183,42.5242 339.27,42.4456 339.357,42.3671 \n",
       "  339.444,42.2887 339.531,42.2103 339.618,42.132 339.705,42.0537 339.792,41.9755 339.879,41.8974 339.965,41.8194 340.052,41.7414 340.139,41.6635 340.226,41.5856 \n",
       "  340.313,41.5079 340.4,41.4302 340.487,41.3525 340.574,41.275 340.661,41.1975 340.748,41.12 340.835,41.0427 340.922,40.9654 341.009,40.8882 341.096,40.811 \n",
       "  341.183,40.7339 341.27,40.6569 341.357,40.5799 341.444,40.503 341.531,40.4262 341.618,40.3494 341.705,40.2728 341.792,40.1961 341.879,40.1196 341.966,40.0431 \n",
       "  342.053,39.9667 342.139,39.8903 342.226,39.814 342.313,39.7378 342.4,39.6616 342.487,39.5855 342.574,39.5095 342.661,39.4336 342.748,39.3577 342.835,39.2818 \n",
       "  342.922,39.2061 343.009,39.1304 343.096,39.0548 343.183,38.9792 343.27,38.9037 343.357,38.8283 343.444,38.7529 343.531,38.6776 343.618,38.6023 343.705,38.5272 \n",
       "  343.792,38.4521 343.879,38.377 343.966,38.302 344.053,38.2271 344.14,38.1523 344.227,38.0775 344.313,38.0028 344.4,37.9281 344.487,37.8535 344.574,37.779 \n",
       "  344.661,37.7046 344.748,37.6302 344.835,37.5558 344.922,37.4816 345.009,37.4074 345.096,37.3332 345.183,37.2591 345.27,37.1851 345.357,37.1112 345.444,37.0373 \n",
       "  345.531,36.9635 345.618,36.8897 345.705,36.816 345.792,36.7424 345.879,36.6688 345.966,36.5953 346.053,36.5219 346.14,36.4485 346.227,36.3752 346.314,36.3019 \n",
       "  346.401,36.2287 346.487,36.1556 346.574,36.0825 346.661,36.0095 346.748,35.9366 346.835,35.8637 346.922,35.7909 347.009,35.7181 347.096,35.6454 347.183,35.5728 \n",
       "  347.27,35.5002 347.357,35.4277 347.444,35.3553 347.531,35.2829 347.618,35.2106 347.705,35.1383 347.792,35.0661 347.879,34.994 347.966,34.9219 348.053,34.8499 \n",
       "  348.14,34.7779 348.227,34.706 348.314,34.6342 348.401,34.5624 348.488,34.4907 348.575,34.4191 348.661,34.3475 348.748,34.276 348.835,34.2045 348.922,34.1331 \n",
       "  349.009,34.0617 349.096,33.9905 349.183,33.9192 349.27,33.8481 349.357,33.777 349.444,33.7059 349.531,33.6349 349.618,33.564 349.705,33.4932 349.792,33.4224 \n",
       "  349.879,33.3516 349.966,33.2809 350.053,33.2103 350.14,33.1397 350.227,33.0692 350.314,32.9988 350.401,32.9284 350.488,32.8581 350.575,32.7878 350.662,32.7176 \n",
       "  350.749,32.6475 350.835,32.5774 350.922,32.5073 351.009,32.4374 351.096,32.3675 351.183,32.2976 351.27,32.2278 351.357,32.1581 351.444,32.0884 351.531,32.0188 \n",
       "  351.618,31.9492 351.705,31.8797 351.792,31.8103 351.879,31.7409 351.966,31.6715 352.053,31.6023 352.14,31.5331 352.227,31.4639 352.314,31.3948 352.401,31.3258 \n",
       "  352.488,31.2568 352.575,31.1879 352.662,31.119 352.749,31.0502 352.836,30.9814 352.923,30.9127 353.009,30.8441 353.096,30.7755 353.183,30.707 353.27,30.6385 \n",
       "  353.357,30.5701 353.444,30.5018 353.531,30.4335 353.618,30.3652 353.705,30.2971 353.792,30.2289 353.879,30.1609 353.966,30.0929 354.053,30.0249 354.14,29.957 \n",
       "  354.227,29.8892 354.314,29.8214 354.401,29.7537 354.488,29.686 354.575,29.6184 354.662,29.5508 354.749,29.4833 354.836,29.4159 354.923,29.3485 355.01,29.2811 \n",
       "  355.097,29.2138 355.183,29.1466 355.27,29.0795 355.357,29.0123 355.444,28.9453 355.531,28.8783 355.618,28.8113 355.705,28.7444 355.792,28.6776 355.879,28.6108 \n",
       "  355.966,28.5441 356.053,28.4774 356.14,28.4108 356.227,28.3442 356.314,28.2777 356.401,28.2113 356.488,28.1449 356.575,28.0785 356.662,28.0122 356.749,27.946 \n",
       "  356.836,27.8798 356.923,27.8137 357.01,27.7476 357.097,27.6816 357.184,27.6157 357.271,27.5497 357.357,27.4839 357.444,27.4181 357.531,27.3523 357.618,27.2866 \n",
       "  357.705,27.221 357.792,27.1554 357.879,27.0899 357.966,27.0244 358.053,26.959 358.14,26.8936 358.227,26.8283 358.314,26.763 358.401,26.6978 358.488,26.6327 \n",
       "  358.575,26.5676 358.662,26.5025 358.749,26.4375 358.836,26.3726 358.923,26.3077 359.01,26.2428 359.097,26.1781 359.184,26.1133 359.271,26.0486 359.358,25.984 \n",
       "  359.445,25.9194 359.531,25.8549 359.618,25.7904 359.705,25.726 359.792,25.6617 359.879,25.5973 359.966,25.5331 360.053,25.4689 360.14,25.4047 360.227,25.3406 \n",
       "  360.314,25.2765 360.401,25.2125 360.488,25.1486 360.575,25.0847 360.662,25.0209 360.749,24.9571 360.836,24.8933 360.923,24.8296 361.01,24.766 361.097,24.7024 \n",
       "  361.184,24.6389 361.271,24.5754 361.358,24.5119 361.445,24.4486 361.532,24.3852 361.619,24.3219 361.705,24.2587 361.792,24.1955 361.879,24.1324 361.966,24.0693 \n",
       "  362.053,24.0063 362.14,23.9433 362.227,23.8804 362.314,23.8175 362.401,23.7547 362.488,23.6919 362.575,23.6292 362.662,23.5665 362.749,23.5039 362.836,23.4413 \n",
       "  362.923,23.3788 363.01,23.3163 363.097,23.2539 363.184,23.1915 363.271,23.1292 363.358,23.067 363.445,23.0047 363.532,22.9426 363.619,22.8804 363.706,22.8184 \n",
       "  363.793,22.7563 363.879,22.6944 363.966,22.6324 364.053,22.5706 364.14,22.5087 364.227,22.447 364.314,22.3852 364.401,22.3236 364.488,22.2619 364.575,22.2004 \n",
       "  364.662,22.1388 364.749,22.0773 364.836,22.0159 364.923,21.9545 365.01,21.8932 365.097,21.8319 365.184,21.7707 365.271,21.7095 365.358,21.6484 365.445,21.5873 \n",
       "  365.532,21.5262 365.619,21.4652 365.706,21.4043 365.793,21.3434 365.88,21.2825 365.967,21.2217 366.054,21.161 366.14,21.1003 366.227,21.0396 366.314,20.979 \n",
       "  366.401,20.9185 366.488,20.8579 366.575,20.7975 366.662,20.7371 366.749,20.6767 366.836,20.6164 366.923,20.5561 367.01,20.4959 367.097,20.4357 367.184,20.3756 \n",
       "  367.271,20.3155 367.358,20.2554 367.445,20.1955 367.532,20.1355 367.619,20.0756 367.706,20.0158 367.793,19.956 367.88,19.8962 367.967,19.8365 368.054,19.7769 \n",
       "  368.141,19.7173 368.228,19.6577 368.314,19.5982 368.401,19.5387 368.488,19.4793 368.575,19.4199 368.662,19.3606 368.749,19.3013 368.836,19.242 368.923,19.1828 \n",
       "  369.01,19.1237 369.097,19.0646 369.184,19.0056 369.271,18.9465 369.358,18.8876 369.445,18.8287 369.532,18.7698 369.619,18.711 369.706,18.6522 369.793,18.5935 \n",
       "  369.88,18.5348 369.967,18.4761 370.054,18.4176 370.141,18.359 370.228,18.3005 370.315,18.242 370.402,18.1836 370.488,18.1253 370.575,18.067 370.662,18.0087 \n",
       "  370.749,17.9505 370.836,17.8923 370.923,17.8341 371.01,17.776 371.097,17.718 371.184,17.66 371.271,17.602 371.358,17.5441 371.445,17.4862 371.532,17.4284 \n",
       "  371.619,17.3706 371.706,17.3129 371.793,17.2552 371.88,17.1976 371.967,17.14 372.054,17.0824 372.141,17.0249 372.228,16.9675 372.315,16.91 372.402,16.8527 \n",
       "  372.489,16.7953 372.576,16.738 372.662,16.6808 372.749,16.6236 372.836,16.5664 372.923,16.5093 373.01,16.4523 373.097,16.3952 373.184,16.3383 373.271,16.2813 \n",
       "  373.358,16.2244 373.445,16.1676 373.532,16.1108 373.619,16.054 373.706,15.9973 373.793,15.9406 373.88,15.884 373.967,15.8274 374.054,15.7709 374.141,15.7144 \n",
       "  374.228,15.6579 374.315,15.6015 374.402,15.5451 374.489,15.4888 374.576,15.4325 374.663,15.3763 374.75,15.3201 374.836,15.2639 374.923,15.2078 375.01,15.1518 \n",
       "  375.097,15.0957 375.184,15.0397 375.271,14.9838 375.358,14.9279 375.445,14.8721 375.532,14.8163 375.619,14.7605 375.706,14.7048 375.793,14.6491 375.88,14.5934 \n",
       "  375.967,14.5378 376.054,14.4823 376.141,14.4268 376.228,14.3713 376.315,14.3159 376.402,14.2605 376.489,14.2051 376.576,14.1498 376.663,14.0946 376.75,14.0394 \n",
       "  376.837,13.9842 376.924,13.929 377.01,13.874 377.097,13.8189 377.184,13.7639 377.271,13.7089 377.358,13.654 377.445,13.5991 377.532,13.5443 377.619,13.4895 \n",
       "  377.706,13.4347 377.793,13.38 377.88,13.3253 377.967,13.2707 378.054,13.2161 378.141,13.1615 378.228,13.107 378.315,13.0526 378.402,12.9981 378.489,12.9437 \n",
       "  378.576,12.8894 378.663,12.8351 378.75,12.7808 378.837,12.7266 378.924,12.6724 379.011,12.6183 379.098,12.5642 379.184,12.5101 379.271,12.4561 379.358,12.4021 \n",
       "  379.445,12.3482 379.532,12.2943 379.619,12.2404 379.706,12.1866 379.793,12.1328 379.88,12.0791 379.967,12.0254 380.054,11.9717 380.141,11.9181 380.228,11.8646 \n",
       "  380.315,11.811 \n",
       "  \"/>\n",
       "<polygon clip-path=\"url(#clip0800)\" points=\"\n",
       "139.365,50.931 216.476,50.931 216.476,20.691 139.365,20.691 \n",
       "  \" fill=\"#ffffff\" fill-opacity=\"1\"/>\n",
       "<polyline clip-path=\"url(#clip0800)\" style=\"stroke:#000000; stroke-width:1; stroke-opacity:1; fill:none\" points=\"\n",
       "  139.365,50.931 216.476,50.931 216.476,20.691 139.365,20.691 139.365,50.931 \n",
       "  \"/>\n",
       "<polyline clip-path=\"url(#clip0800)\" style=\"stroke:#009af9; stroke-width:1; stroke-opacity:1; fill:none\" points=\"\n",
       "  143.365,35.811 167.365,35.811 \n",
       "  \"/>\n",
       "<g clip-path=\"url(#clip0800)\">\n",
       "<text style=\"fill:#000000; fill-opacity:1; font-family:Arial,Helvetica Neue,Helvetica,sans-serif; font-size:12; text-anchor:start;\" transform=\"rotate(0, 171.365, 40.311)\" x=\"171.365\" y=\"40.311\">y = f(x)</text>\n",
       "</g>\n",
       "</svg>\n"
      ]
     },
     "execution_count": 10,
     "metadata": {},
     "output_type": "execute_result"
    }
   ],
   "source": [
    "f(x) = x == 0 ? zero(x) : exp(-1/abs(x))\n",
    "x = -2:0.001:2\n",
    "plot(x, f.(x), label=\"y = f(x)\", size=(400,250), legend=:top)"
   ]
  },
  {
   "cell_type": "markdown",
   "metadata": {},
   "source": [
    "### コンピューターを用いた計算例\n",
    "\n",
    "私が個人的に知る限りの範囲内では, 手計算もきちんとできる人の方がコンピューターを上手に使っている場合が多い. おそらく, その人自身がコンピューターを頼らなくてもある程度の計算ができるおかげで, コンピューターを使った人間には不可能な計算の価値をよく理解できるからなのだろう."
   ]
  },
  {
   "cell_type": "code",
   "execution_count": 11,
   "metadata": {},
   "outputs": [
    {
     "data": {
      "text/latex": [
       "$$1 + x + \\frac{x^{2}}{2} + \\frac{x^{3}}{6} + \\frac{x^{4}}{24} + \\frac{x^{5}}{120} + \\frac{x^{6}}{720} + \\frac{x^{7}}{5040} + \\frac{x^{8}}{40320} + \\frac{x^{9}}{362880} + \\mathcal{O}\\left(x^{10}\\right)$$"
      ],
      "text/plain": [
       "         2    3    4     5     6     7       8       9           \n",
       "        x    x    x     x     x     x       x       x       / 10\\\n",
       "1 + x + -- + -- + -- + --- + --- + ---- + ----- + ------ + O\\x  /\n",
       "        2    6    24   120   720   5040   40320   362880         "
      ]
     },
     "execution_count": 11,
     "metadata": {},
     "output_type": "execute_result"
    }
   ],
   "source": [
    "x = symbols(\"x\")\n",
    "series(e^x, n=10)"
   ]
  },
  {
   "cell_type": "code",
   "execution_count": 12,
   "metadata": {},
   "outputs": [
    {
     "data": {
      "text/latex": [
       "$$1 - \\frac{x^{2}}{2} + \\frac{x^{4}}{24} - \\frac{x^{6}}{720} + \\frac{x^{8}}{40320} + \\mathcal{O}\\left(x^{10}\\right)$$"
      ],
      "text/plain": [
       "     2    4     6      8          \n",
       "    x    x     x      x      / 10\\\n",
       "1 - -- + -- - --- + ----- + O\\x  /\n",
       "    2    24   720   40320         "
      ]
     },
     "execution_count": 12,
     "metadata": {},
     "output_type": "execute_result"
    }
   ],
   "source": [
    "series(cos(x), n=10)"
   ]
  },
  {
   "cell_type": "code",
   "execution_count": 13,
   "metadata": {},
   "outputs": [
    {
     "data": {
      "text/latex": [
       "$$x - \\frac{x^{3}}{6} + \\frac{x^{5}}{120} - \\frac{x^{7}}{5040} + \\frac{x^{9}}{362880} + \\mathcal{O}\\left(x^{10}\\right)$$"
      ],
      "text/plain": [
       "     3     5     7       9           \n",
       "    x     x     x       x       / 10\\\n",
       "x - -- + --- - ---- + ------ + O\\x  /\n",
       "    6    120   5040   362880         "
      ]
     },
     "execution_count": 13,
     "metadata": {},
     "output_type": "execute_result"
    }
   ],
   "source": [
    "series(sin(x), n=10)"
   ]
  },
  {
   "cell_type": "code",
   "execution_count": 14,
   "metadata": {},
   "outputs": [
    {
     "data": {
      "text/latex": [
       "$$x - \\frac{x^{2}}{2} + \\frac{x^{3}}{3} - \\frac{x^{4}}{4} + \\frac{x^{5}}{5} - \\frac{x^{6}}{6} + \\frac{x^{7}}{7} - \\frac{x^{8}}{8} + \\frac{x^{9}}{9} + \\mathcal{O}\\left(x^{10}\\right)$$"
      ],
      "text/plain": [
       "     2    3    4    5    6    7    8    9         \n",
       "    x    x    x    x    x    x    x    x     / 10\\\n",
       "x - -- + -- - -- + -- - -- + -- - -- + -- + O\\x  /\n",
       "    2    3    4    5    6    7    8    9          "
      ]
     },
     "execution_count": 14,
     "metadata": {},
     "output_type": "execute_result"
    }
   ],
   "source": [
    "series(log(1+x), n=10)"
   ]
  },
  {
   "cell_type": "code",
   "execution_count": 15,
   "metadata": {},
   "outputs": [
    {
     "data": {
      "text/latex": [
       "$$x + \\frac{x^{2}}{2} + \\frac{x^{3}}{3} + \\frac{x^{4}}{4} + \\frac{x^{5}}{5} + \\frac{x^{6}}{6} + \\frac{x^{7}}{7} + \\frac{x^{8}}{8} + \\frac{x^{9}}{9} + \\mathcal{O}\\left(x^{10}\\right)$$"
      ],
      "text/plain": [
       "     2    3    4    5    6    7    8    9         \n",
       "    x    x    x    x    x    x    x    x     / 10\\\n",
       "x + -- + -- + -- + -- + -- + -- + -- + -- + O\\x  /\n",
       "    2    3    4    5    6    7    8    9          "
      ]
     },
     "execution_count": 15,
     "metadata": {},
     "output_type": "execute_result"
    }
   ],
   "source": [
    "series(-log(1-x), n=10)"
   ]
  },
  {
   "cell_type": "code",
   "execution_count": 16,
   "metadata": {},
   "outputs": [
    {
     "data": {
      "text/latex": [
       "$$x + \\frac{x^{3}}{6} + \\frac{3 x^{5}}{40} + \\frac{5 x^{7}}{112} + \\frac{35 x^{9}}{1152} + \\mathcal{O}\\left(x^{10}\\right)$$"
      ],
      "text/plain": [
       "     3      5      7       9         \n",
       "    x    3*x    5*x    35*x     / 10\\\n",
       "x + -- + ---- + ---- + ----- + O\\x  /\n",
       "    6     40    112     1152         "
      ]
     },
     "execution_count": 16,
     "metadata": {},
     "output_type": "execute_result"
    }
   ],
   "source": [
    "series(asin(x), n=10)"
   ]
  },
  {
   "cell_type": "code",
   "execution_count": 17,
   "metadata": {},
   "outputs": [
    {
     "data": {
      "text/latex": [
       "$$\\frac{35 x^{9}}{1152} + \\frac{5 x^{7}}{112} + \\frac{3 x^{5}}{40} + \\frac{x^{3}}{6} + x$$"
      ],
      "text/plain": [
       "    9      7      5    3    \n",
       "35*x    5*x    3*x    x     \n",
       "----- + ---- + ---- + -- + x\n",
       " 1152   112     40    6     "
      ]
     },
     "execution_count": 17,
     "metadata": {},
     "output_type": "execute_result"
    }
   ],
   "source": [
    "k = symbols(\"k\", integer=true)\n",
    "doit(Sum(1/2^(2k)*factorial(2k)/(factorial(k)^2)*x^(2k+1)/(2k+1), (k,0,4)))"
   ]
  },
  {
   "cell_type": "code",
   "execution_count": 18,
   "metadata": {},
   "outputs": [
    {
     "data": {
      "text/latex": [
       "$$x - \\frac{x^{3}}{3} + \\frac{x^{5}}{5} - \\frac{x^{7}}{7} + \\frac{x^{9}}{9} + \\mathcal{O}\\left(x^{10}\\right)$$"
      ],
      "text/plain": [
       "     3    5    7    9         \n",
       "    x    x    x    x     / 10\\\n",
       "x - -- + -- - -- + -- + O\\x  /\n",
       "    3    5    7    9          "
      ]
     },
     "execution_count": 18,
     "metadata": {},
     "output_type": "execute_result"
    }
   ],
   "source": [
    "series(atan(x), n=10)"
   ]
  },
  {
   "cell_type": "code",
   "execution_count": 19,
   "metadata": {},
   "outputs": [
    {
     "data": {
      "text/latex": [
       "$$\\sum_{k=0}^{\\infty} \\frac{\\left(-1\\right)^{k}}{2 k + 1}$$"
      ],
      "text/plain": [
       "  oo         \n",
       "____         \n",
       "\\   `        \n",
       " \\         k \n",
       "  \\    (-1)  \n",
       "  /   -------\n",
       " /    2*k + 1\n",
       "/___,        \n",
       "k = 0        "
      ]
     },
     "execution_count": 19,
     "metadata": {},
     "output_type": "execute_result"
    }
   ],
   "source": [
    "Sum((-1)^k/(2k+1), (k,0,oo))"
   ]
  },
  {
   "cell_type": "code",
   "execution_count": 20,
   "metadata": {},
   "outputs": [
    {
     "data": {
      "text/latex": [
       "$$\\frac{\\pi}{4}$$"
      ],
      "text/plain": [
       "pi\n",
       "--\n",
       "4 "
      ]
     },
     "execution_count": 20,
     "metadata": {},
     "output_type": "execute_result"
    }
   ],
   "source": [
    "doit(Sum((-1)^k/(2k+1), (k,0,oo)))"
   ]
  },
  {
   "cell_type": "markdown",
   "metadata": {},
   "source": [
    "次のセルの f(n,k) は\n",
    "\n",
    "$$\n",
    "f(n,k) = \\frac{1}{2^n}\\binom{n}{k} = \\frac{1}{2^n}\\frac{n!}{k!(n-k)!}\n",
    "$$\n",
    "\n",
    "を意味している. これは $p=1/2$ に対する二項分布における確率である.\n",
    "\n",
    "lgamma(n+1) = log(nの階乗)\n",
    "\n",
    "であることに注意せよ. \n",
    "\n",
    "次のセルで一度全体の対数を取った式を計算してから exponential を取っている理由は階乗を単体で計算すると簡単にオーバーフローしてしまうからである. 階乗の対数ならばオーバーフローしない.  さらに, $\\ds\\binom{n}{k}$ と $1/2^n$ を別々に計算した後で掛け合わせる計算の仕方もよくない. 巨大な数を巨大な数で割る数値計算はオーバーフローやアンダーフローを起こしやすい. 対数を取って適度な大きさの数値にして差を取ってから, まとめて exponential するのがよい.\n",
    "\n",
    "しかし, そのように注意深く書いたコードであっても, もとの級数の収束は極めて遅いので, 1億項を足し合わせても小数点以下第4桁までしか正確に計算できていない. "
   ]
  },
  {
   "cell_type": "code",
   "execution_count": 21,
   "metadata": {},
   "outputs": [
    {
     "name": "stdout",
     "output_type": "stream",
     "text": [
      " 11.108824 seconds (26.78 k allocations: 1.371 MiB, 0.08% gc time)\n"
     ]
    },
    {
     "data": {
      "text/plain": [
       "(1.5707399078387505, 1.5707963267948966)"
      ]
     },
     "execution_count": 21,
     "metadata": {},
     "output_type": "execute_result"
    }
   ],
   "source": [
    "f(n,k) = exp(lgamma(n+1)-lgamma(k+1)-lgamma(n-k+1)-n*log(2))\n",
    "@time sum(k->f(2k,k)/(2k+1), 0:10^8-1), π/2"
   ]
  },
  {
   "cell_type": "markdown",
   "metadata": {},
   "source": [
    "## べき級数の収束"
   ]
  },
  {
   "cell_type": "markdown",
   "metadata": {},
   "source": [
    "### べき級数の定義\n",
    "\n",
    "$\\ds \\sum_{k=0}^\\infty a_k x^k$ の形式の級数を**べき級数**と呼ぶ.\n",
    "\n",
    "$\\ds \\sum_{k=0}^\\infty |a_k x^k|$ が収束するとき, べき級数 $\\ds \\sum_{k=0}^\\infty a_k x^k$ は絶対収束するという."
   ]
  },
  {
   "cell_type": "markdown",
   "metadata": {},
   "source": [
    "### べき級数の収束"
   ]
  },
  {
   "cell_type": "markdown",
   "metadata": {},
   "source": [
    "**準備:** 実数列 $\\alpha_n$ が $n\\to\\infty$ のとき $\\alpha_n\\to\\infty$ となることを, 任意の実数 $M$ に対して(どんなに大きな実数 $M$ に対して), ある番号 $N$ で\n",
    "\n",
    "$$\n",
    "\\alpha_n \\geqq M \\quad(n \\geqq N)\n",
    "$$\n",
    "\n",
    "を満たすものが存在すること(すなわちある番号以降の $n$ について $\\alpha_n\\geqq M$ 成立すること)であると定める. $\\QED$"
   ]
  },
  {
   "cell_type": "markdown",
   "metadata": {},
   "source": [
    "**定理:** $k\\to\\infty$ のとき $\\ds\\frac{|a_k|}{|a_{k+1}|}\\to\\rho > 0$ が成立していると仮定する(上の準備のもとで $\\rho=\\infty$ であってもよいとする). このとき, べき級数 $\\ds\\sum_{k=0}^\\infty a_k x^k$ は $|x|<\\rho$ のとき絶対収束する."
   ]
  },
  {
   "cell_type": "markdown",
   "metadata": {},
   "source": [
    "**証明:** $0<r<\\rho$ と仮定する. $r$ は幾らでも $\\rho$ に近付き得るので $|x|<r$ のときべき級数が絶対収束することを示せば十分である. $|x|<r$ と仮定する. 仮定より, ある番号 $N$ が存在して, $k\\geqq N$ のとき,\n",
    "\n",
    "$$\n",
    "\\frac{|a_k|}{|a_{k+1}|} \\geqq r, \\quad\\text{i.e.}\\quad \n",
    "|a_{k+1}|\\leqq \\frac{1}{r}|a_k|.\n",
    "$$\n",
    "\n",
    "ゆえに\n",
    "\n",
    "$$\n",
    "|a_{N+n}| \\leqq \\frac{1}{r^n}|a_N|.\n",
    "$$\n",
    "\n",
    "したがって, \n",
    "\n",
    "$$\n",
    "|a_{N+n}x^{N+n}| \\leqq \\frac{1}{r^n}|a_N||x|^{N+n} =\n",
    "|a_n||x^N| \\left(\\frac{|x|}{r}\\right)^n.\n",
    "$$\n",
    "\n",
    "$|x|<r$ という仮定より, $|x|/r<1$ なので, 右辺の $n=0,1,2,\\ldots$ に関する和は有限の値に収束する. ゆえに左辺の同様の和も有限の値に収束する. これより, べき級数\n",
    "\n",
    "$$\n",
    "\\sum_{k=0}^\\infty a_k x^k = \\sum_{k=0}^{N-1} a_k x^k + \\sum_{n=0}^\\infty a_{N+n}x^{N+n}\n",
    "$$\n",
    "\n",
    "が絶対収束することがわかる. $\\QED$"
   ]
  },
  {
   "cell_type": "markdown",
   "metadata": {},
   "source": [
    "**注意:** 上の定理は **d'Alembert の判定法** (ダランベールの判定法) と呼ばれている. それ以外にもべき級数の判定法が存在する. 興味がある人は自分で調べてみて欲しい. $\\QED$\n",
    "\n",
    "* <a href\"https://www.google.co.jp/search?q=%E5%8F%8E%E6%9D%9F%E5%8D%8A%E5%BE%84%E3%81%AE%E6%B1%82%E3%82%81%E6%96%B9\">Googleで「収束半径の求め方」を検索</a>"
   ]
  },
  {
   "cell_type": "markdown",
   "metadata": {},
   "source": [
    "**例:** べき級数 $\\ds \\sum_{k=0}^\\infty \\frac{1}{k!}x^k$ について, $k\\to\\infty$ のとき, \n",
    "\n",
    "$$\n",
    "\\frac{1/k!}{1/(k+1)!} = k+1 \\to \\infty\n",
    "$$\n",
    "\n",
    "なので, そのべき級数は $|x|<\\infty$ で絶対収束する. $\\QED$"
   ]
  },
  {
   "cell_type": "markdown",
   "metadata": {},
   "source": [
    "**例:** べき級数 $\\ds\\sum_{k=0}^\\infty \\frac{(-1)^k x^{2k}}{(2k)!}$ を $x^2$ のべき級数とみなす.\n",
    "\n",
    "$$\n",
    "\\frac{1/(2k)!}{1/(2(k+1))!} = (2k+1)(2k+2)\\to \\infty \\quad(k\\to\\infty)\n",
    "$$\n",
    "\n",
    "なので, そのべき級数は $|x|<\\infty$ で絶対収束する.\n"
   ]
  },
  {
   "cell_type": "markdown",
   "metadata": {},
   "source": [
    "**問題:** べき級数 $\\ds\\sum_{k=0}^\\infty \\frac{(-1)^k x^{2k+1}}{(2k+1)!}$ が $|x|<\\infty$ で絶対収束することを示せ.\n",
    "\n",
    "**ヒント:** そのべき級数と $x^2$ のべき級数と $x$ の積とみなしてから, d'Alembertの判定法を適用せよ. $\\QED$"
   ]
  },
  {
   "cell_type": "markdown",
   "metadata": {},
   "source": [
    "## 超幾何級数\n",
    "\n",
    "次のべき級数を**Gaussの超幾何級数** (Gauss's hypergeometric series)と呼ぶ:\n",
    "\n",
    "$$\n",
    "{}_2F_1(a,b; c; x) = \\sum_{k=0}^\\infty \\frac{(a)_k (b)_k}{(c)_k k!} x^k.\n",
    "$$\n",
    "\n",
    "ここで\n",
    "\n",
    "$$\n",
    "(\\alpha)_k = \\alpha(\\alpha+1)\\cdots(\\alpha+k-1).\n",
    "$$\n",
    "\n",
    "より一般に\n",
    "\n",
    "$$\n",
    "{}_rF_s(a_1,\\ldots,a_r;b_1,\\ldots,b_s;x) =\n",
    "\\sum_{k=0}^\\infty \\frac{(a_1)_k\\cdots(a_r)_k}{(b_1)_k\\cdots(b_s)_k k!}x^k\n",
    "$$\n",
    "\n",
    "と定める."
   ]
  },
  {
   "cell_type": "markdown",
   "metadata": {},
   "source": [
    "**問題:** Gaussの超幾何級数 ${}_2F_1$ が $|x|<1$ で絶対収束することを示せ.\n",
    "\n",
    "**解答例:** d'Alembertの判定法を使おう.\n",
    "\n",
    "$$\n",
    "\\frac{(a)_k(b)_k/((c)_k k!)}{(a)_{k+1}(b)_{k+1}/((c)_{k+1}(k+1)!)} =\n",
    "\\frac{(c+k)(k+1)}{(a+k)(b+k)}\\to 1 \\qquad(k\\to\\infty)\n",
    "$$\n",
    "\n",
    "より, Gaussの超幾何級数は $|x|<1$ で絶対収束する. $\\QED$"
   ]
  },
  {
   "cell_type": "markdown",
   "metadata": {},
   "source": [
    "**問題:** 以下を示せ:\n",
    "\n",
    "$$\n",
    "(1)_k=k!, \\quad (2)_k = (k+1)!, \\quad\n",
    "(1/2)_k k! = \\frac{(2k)!}{4^k}, \\quad\n",
    "(2k+1)(1/2)_k = (3/2)_k.\n",
    "$$\n",
    "\n",
    "**ヒント:** 3つ目の公式を除けば易しい. 3つ目の公式は以下のようにして示される:\n",
    "\n",
    "$$\n",
    "(1/2)_k k! =\n",
    "\\frac{1}{2}\\frac{3}{2}\\cdots\\frac{2k-1}{2} k! =\n",
    "\\frac{1\\cdot3\\cdots(2k-1)}{2^k}\\frac{2\\cdot4\\cdots(2k)}{2^k} =\n",
    "\\frac{(2k)!}{4^k}. \\quad \\QED\n",
    "$$"
   ]
  },
  {
   "cell_type": "markdown",
   "metadata": {},
   "source": [
    "**例:** 初等函数を以下のように表すことができる:\n",
    "$$\n",
    "\\begin{aligned}\n",
    "&\n",
    "{}_0F_0(;; x) = \\sum_{k=0}^\\infty\\frac{1}{k!}x^k = e^x.\n",
    "\\\\ &\n",
    "{}_0F_1(;1/2;-x^2/4) = \n",
    "\\sum_{k=0}^\\infty \\frac{(-x^2/4)^k}{(1/2)_k k!} =\n",
    "\\sum_{k=0}^\\infty \\frac{(-x^2)^k}{(2k)!} = \\cos x.\n",
    "\\\\ &\n",
    "{}_1F_0(a;; x) = \\sum_{k=0}^\\infty\\frac{(a)_k}{k!}x^k = (1-x)^{-a}.\n",
    "\\\\ &\n",
    "{}_2F_1(1,1;2;x) = \\sum_{k=0}^\\infty\\frac{k!k!}{(k+1)!k!}x^k = \n",
    "\\sum_{k=0}^\\infty\\frac{x^k}{k+1} = -\\frac{\\log(1-x)}{x}.\n",
    "\\\\ &\n",
    "x\\;{}_2F_1(1/2,1;3/2;-x^2) =\n",
    "x\\sum_{k=0}^\\infty\\frac{(1/2)_k k!}{(3/2)_k k!}(-x^2)^k =\n",
    "x\\sum_{k=0}^\\infty\\frac{(-x^2)^k}{2k+1} = \\arctan x.\n",
    "\\end{aligned}\n",
    "$$\n",
    "\n",
    "**問題:** 上の例の結果を確認せよ. $\\QED$"
   ]
  },
  {
   "cell_type": "markdown",
   "metadata": {},
   "source": [
    "**問題:** $\\sin x$ を ${}_0F_1$ を使って表せ. $\\QED$\n",
    "\n",
    "**問題:** $\\arcsin x$ を ${}_2F_1$ を使って表せ. $\\QED$\n",
    "\n",
    "**ヒント:** <a href=\"https://www.google.co.jp/search?q=%E8%B6%85%E5%B9%BE%E4%BD%95+%E5%88%9D%E7%AD%89%E5%87%BD%E6%95%B0\">「超幾何 初等函数」を検索</a>."
   ]
  },
  {
   "cell_type": "markdown",
   "metadata": {},
   "source": [
    "**問題:** ガンマ函数とベータ函数を\n",
    "\n",
    "$$\n",
    "\\Gamma(s) = \\int_0^\\infty e^{-x}x^{s-1}\\,dx, \\quad\n",
    "B(p,q) = \\int_0^1 t^{p-1}(1-t)^{q-1}\\,dt\n",
    "\\quad(s,p,q > 0)\n",
    "$$\n",
    "\n",
    "と定めると, \n",
    "\n",
    "$$\n",
    "(x)_k = \\frac{\\Gamma(x+k)}{\\Gamma(x)}, \\quad\n",
    "B(p,q) = \\frac{\\Gamma(p)\\Gamma(q)}{\\Gamma(p+q)}\n",
    "$$\n",
    "\n",
    "が成立することを認めて, $c>b>0$ のとき\n",
    "\n",
    "$$\n",
    "{}_2F_1(a,b;c;x) = \\frac{1}{B(b,c-b)}\n",
    "\\int_0^1 t^{b-1}(1-t)^{c-b-1}(1-xt)^{-a}\\,dt\n",
    "$$\n",
    "\n",
    "が成立することを示せ. これを**Gaussの超幾何函数の積分表示**と呼ぶ.\n",
    "\n",
    "**解答例:** \n",
    "\n",
    "$$\n",
    "\\begin{aligned}\n",
    "\\frac{(a)_k (b)_k}{(c)_k k!} x^k &=\n",
    "\\frac{\\Gamma(b+k)\\Gamma(c)}{\\Gamma(b)\\Gamma(x+k)} \\frac{(a)_k}{k!}x^k =\n",
    "\\frac{B(b+k,c-b)}{B(b,c-b)}\\frac{(a)_k}{k!}x^k\n",
    "\\\\ &=\n",
    "\\frac{1}{B(b,c-b)}\\int_0^1 t^{b-1}(1-t)^{c-b-1} \\frac{(a)_k}{k!}(xt)^k\\,dt.\n",
    "\\end{aligned}\n",
    "$$\n",
    "\n",
    "ゆえに, これを $k=0,1,2,\\ldots$ について足し上げて目的の公式を得る. $\\QED$"
   ]
  },
  {
   "cell_type": "markdown",
   "metadata": {},
   "source": [
    "**問題:** 以下の公式を示せ: $c>b>0$ のとき,\n",
    "\n",
    "$$\n",
    "{}_1F_1(b;c;x) = \\frac{1}{B(b,c-b)}\\int_0^1 t^{b-1}(1-t)^{c-b-1}\\,e^{xt}\\,dt\n",
    "$$\n",
    "\n",
    "となることを示せ. これを**Kummerの合流型超幾何函数の積分表示**と呼ぶ."
   ]
  },
  {
   "cell_type": "markdown",
   "metadata": {},
   "source": [
    "$$\n",
    "\\begin{aligned}\n",
    "\\frac{(b)_k}{(c)_k k!} x^k &=\n",
    "\\frac{\\Gamma(b+k)\\Gamma(c)}{\\Gamma(b)\\Gamma(x+k)} \\frac{x^k}{k!} =\n",
    "\\frac{B(b+k,c-b)}{B(b,c-b)}\\frac{x^k}{k!}\n",
    "\\\\ &=\n",
    "\\frac{1}{B(b,c-b)}\\int_0^1 t^{b-1}(1-t)^{c-b-1} \\frac{(xt)^k}{k!}\\,dt.\n",
    "\\end{aligned}\n",
    "$$\n",
    "\n",
    "ゆえに, これを $k=0,1,2,\\ldots$ について足し上げて目的の公式を得る. $\\QED$"
   ]
  },
  {
   "cell_type": "code",
   "execution_count": null,
   "metadata": {},
   "outputs": [],
   "source": []
  }
 ],
 "metadata": {
  "_draft": {
   "nbviewer_url": "https://gist.github.com/bcbdff11a10b6c9679ecf773d4486a0f"
  },
  "gist": {
   "data": {
    "description": "06 Taylor's theorems",
    "public": true
   },
   "id": "bcbdff11a10b6c9679ecf773d4486a0f"
  },
  "kernelspec": {
   "display_name": "Julia 0.6.2",
   "language": "julia",
   "name": "julia-0.6"
  },
  "language_info": {
   "file_extension": ".jl",
   "mimetype": "application/julia",
   "name": "julia",
   "version": "0.6.2"
  },
  "toc": {
   "nav_menu": {
    "height": "207px",
    "width": "242px"
   },
   "number_sections": true,
   "sideBar": true,
   "skip_h1_title": true,
   "title_cell": "目次",
   "title_sidebar": "目次",
   "toc_cell": true,
   "toc_position": {
    "height": "calc(100% - 180px)",
    "left": "10px",
    "top": "150px",
    "width": "214px"
   },
   "toc_section_display": true,
   "toc_window_display": false
  }
 },
 "nbformat": 4,
 "nbformat_minor": 2
}
