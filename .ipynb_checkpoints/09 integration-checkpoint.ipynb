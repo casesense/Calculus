{
 "cells": [
  {
   "cell_type": "markdown",
   "metadata": {},
   "source": [
    "# 積分\n",
    "\n",
    "黒木玄\n",
    "\n",
    "2018-06-21\n",
    "\n",
    "* Copyright 2018 Gen Kuroki\n",
    "* License: MIT https://opensource.org/licenses/MIT\n",
    "\n",
    "このファイルは次の場所できれいに閲覧できる:\n",
    "\n",
    "* http://nbviewer.jupyter.org/github/genkuroki/Calculus/blob/master/09%20integration.ipynb\n",
    "\n",
    "このファイルは <a href=\"https://juliabox.com\">Julia Box</a> で利用できる.\n",
    "\n",
    "自分のパソコンに<a href=\"https://julialang.org/\">Julia言語</a>をインストールしたい場合には\n",
    "\n",
    "* <a href=\"http://nbviewer.jupyter.org/gist/genkuroki/81de23edcae631a995e19a2ecf946a4f\">WindowsへのJulia言語のインストール</a>\n",
    "\n",
    "を参照せよ.\n",
    "\n",
    "論理的に完璧な説明をするつもりはない. 細部のいい加減な部分は自分で訂正・修正せよ.\n",
    "\n",
    "$\n",
    "\\newcommand\\eps{\\varepsilon}\n",
    "\\newcommand\\ds{\\displaystyle}\n",
    "\\newcommand\\Z{{\\mathbb Z}}\n",
    "\\newcommand\\R{{\\mathbb R}}\n",
    "\\newcommand\\C{{\\mathbb C}}\n",
    "\\newcommand\\QED{\\text{□}}\n",
    "\\newcommand\\root{\\sqrt}\n",
    "\\newcommand\\bra{\\langle}\n",
    "\\newcommand\\ket{\\rangle}\n",
    "\\newcommand\\d{\\partial}\n",
    "$"
   ]
  },
  {
   "cell_type": "markdown",
   "metadata": {
    "toc": true
   },
   "source": [
    "<h1>Table of Contents<span class=\"tocSkip\"></span></h1>\n",
    "<div class=\"toc\"><ul class=\"toc-item\"><li><span><a href=\"#積分の基本性質\" data-toc-modified-id=\"積分の基本性質-1\"><span class=\"toc-item-num\">1&nbsp;&nbsp;</span>積分の基本性質</a></span><ul class=\"toc-item\"><li><span><a href=\"#基本性質(A)線形性,-(B)積分区間の連結,-(C)定数の積分,-(D)単調性\" data-toc-modified-id=\"基本性質(A)線形性,-(B)積分区間の連結,-(C)定数の積分,-(D)単調性-1.1\"><span class=\"toc-item-num\">1.1&nbsp;&nbsp;</span>基本性質(A)線形性, (B)積分区間の連結, (C)定数の積分, (D)単調性</a></span></li><li><span><a href=\"#性質(E)-積分の絶対値の上からの評価\" data-toc-modified-id=\"性質(E)-積分の絶対値の上からの評価-1.2\"><span class=\"toc-item-num\">1.2&nbsp;&nbsp;</span>性質(E) 積分の絶対値の上からの評価</a></span></li><li><span><a href=\"#性質(F)-微分積分学の基本定理1\" data-toc-modified-id=\"性質(F)-微分積分学の基本定理1-1.3\"><span class=\"toc-item-num\">1.3&nbsp;&nbsp;</span>性質(F) 微分積分学の基本定理1</a></span></li><li><span><a href=\"#性質(G)-微分積分学の基本定理2\" data-toc-modified-id=\"性質(G)-微分積分学の基本定理2-1.4\"><span class=\"toc-item-num\">1.4&nbsp;&nbsp;</span>性質(G) 微分積分学の基本定理2</a></span></li></ul></li><li><span><a href=\"#部分積分と置換積分\" data-toc-modified-id=\"部分積分と置換積分-2\"><span class=\"toc-item-num\">2&nbsp;&nbsp;</span>部分積分と置換積分</a></span><ul class=\"toc-item\"><li><span><a href=\"#置換積分\" data-toc-modified-id=\"置換積分-2.1\"><span class=\"toc-item-num\">2.1&nbsp;&nbsp;</span>置換積分</a></span></li><li><span><a href=\"#部分積分\" data-toc-modified-id=\"部分積分-2.2\"><span class=\"toc-item-num\">2.2&nbsp;&nbsp;</span>部分積分</a></span></li></ul></li><li><span><a href=\"#積分の近似\" data-toc-modified-id=\"積分の近似-3\"><span class=\"toc-item-num\">3&nbsp;&nbsp;</span>積分の近似</a></span><ul class=\"toc-item\"><li><span><a href=\"#Riemann和\" data-toc-modified-id=\"Riemann和-3.1\"><span class=\"toc-item-num\">3.1&nbsp;&nbsp;</span>Riemann和</a></span></li><li><span><a href=\"#台形公式\" data-toc-modified-id=\"台形公式-3.2\"><span class=\"toc-item-num\">3.2&nbsp;&nbsp;</span>台形公式</a></span></li><li><span><a href=\"#Simpsonの公式\" data-toc-modified-id=\"Simpsonの公式-3.3\"><span class=\"toc-item-num\">3.3&nbsp;&nbsp;</span>Simpsonの公式</a></span></li></ul></li><li><span><a href=\"#広義積分\" data-toc-modified-id=\"広義積分-4\"><span class=\"toc-item-num\">4&nbsp;&nbsp;</span>広義積分</a></span><ul class=\"toc-item\"><li><span><a href=\"#絶対収束する広義積分の例\" data-toc-modified-id=\"絶対収束する広義積分の例-4.1\"><span class=\"toc-item-num\">4.1&nbsp;&nbsp;</span>絶対収束する広義積分の例</a></span></li><li><span><a href=\"#条件収束する広義積分の例\" data-toc-modified-id=\"条件収束する広義積分の例-4.2\"><span class=\"toc-item-num\">4.2&nbsp;&nbsp;</span>条件収束する広義積分の例</a></span></li></ul></li><li><span><a href=\"#積分と極限の交換\" data-toc-modified-id=\"積分と極限の交換-5\"><span class=\"toc-item-num\">5&nbsp;&nbsp;</span>積分と極限の交換</a></span><ul class=\"toc-item\"><li><span><a href=\"#積分と極限が交換できない場合\" data-toc-modified-id=\"積分と極限が交換できない場合-5.1\"><span class=\"toc-item-num\">5.1&nbsp;&nbsp;</span>積分と極限が交換できない場合</a></span></li><li><span><a href=\"#Dirichlet積分とその一般化\" data-toc-modified-id=\"Dirichlet積分とその一般化-5.2\"><span class=\"toc-item-num\">5.2&nbsp;&nbsp;</span>Dirichlet積分とその一般化</a></span></li></ul></li></ul></div>"
   ]
  },
  {
   "cell_type": "code",
   "execution_count": 1,
   "metadata": {},
   "outputs": [],
   "source": [
    "using Plots\n",
    "gr(); ENV[\"PLOTS_TEST\"] = \"true\"\n",
    "#clibrary(:colorcet)\n",
    "clibrary(:misc)\n",
    "\n",
    "function pngplot(P...; kwargs...)\n",
    "    sleep(0.1)\n",
    "    pngfile = tempname() * \".png\"\n",
    "    savefig(plot(P...; kwargs...), pngfile)\n",
    "    showimg(\"image/png\", pngfile)\n",
    "end\n",
    "pngplot(; kwargs...) = pngplot(plot!(; kwargs...))\n",
    "\n",
    "showimg(mime, fn) = open(fn) do f\n",
    "    base64 = base64encode(f)\n",
    "    display(\"text/html\", \"\"\"<img src=\"data:$mime;base64,$base64\">\"\"\")\n",
    "end\n",
    "\n",
    "using SymPy\n",
    "#sympy[:init_printing](order=\"lex\") # default\n",
    "#sympy[:init_printing](order=\"rev-lex\")\n",
    "\n",
    "using SpecialFunctions\n",
    "using QuadGK"
   ]
  },
  {
   "cell_type": "markdown",
   "metadata": {},
   "source": [
    "## 積分の基本性質"
   ]
  },
  {
   "cell_type": "markdown",
   "metadata": {},
   "source": [
    "1変数函数 $f(x)$ の積分 $\\int_a^b f(x)\\,dx$ の構成の仕方は無数に存在する.\n",
    "\n",
    "Riemann積分とLebesgue積分は有名であり, それら以外にも様々な方法が存在する. 例えば, \n",
    "\n",
    "* S. ラング, 『ラング 現代の解析学』, 共立出版, 1981 (原書: Serge Lang, Real Analysis, 1969)\n",
    "\n",
    "の第5章「微分法」の第1節では, \n",
    "\n",
    "$$\n",
    "f(t) = v_i \\quad (a_{i-1}<t<a_i,\\ a=a_0\\leqq a_1\\leqq\\cdots\\leqq a_n=b)\n",
    "$$\n",
    "\n",
    "を満たす函数(階段函数と呼ぶことにする)の積分を\n",
    "\n",
    "$$\n",
    "\\int_a^b f(t)\\,dt = \\sum_{i=1}^n v_i(a_i-a_{i-1})\n",
    "$$\n",
    "\n",
    "と定め, これを階段函数の一様収束先に拡張することによって, 積分を導入している. 閉区間上の連続函数は階段函数の一様収束先になっているので, 連続函数の積分もこれによって定義されることになる.\n",
    "\n",
    "積分の構成の仕方は無数にあるが, 積分は構成の仕方によらない基本性質を持つ. だから, その基本性質のみを使って示された結果はどの積分論においても利用可能になる.\n",
    "\n",
    "このノートでは積分の構成の仕方には深く踏み込まずに, 積分の基本性質のみを使って積分論を展開する. \n",
    "\n",
    "ただし, 積分の基本性質の厳密な説明を避けて, 大らかなスタイルで議論を進めることにする."
   ]
  },
  {
   "cell_type": "markdown",
   "metadata": {},
   "source": [
    "### 基本性質(A)線形性, (B)積分区間の連結, (C)定数の積分, (D)単調性\n",
    "\n",
    "**基本性質(A)** **線形性:** 定数 $\\alpha,\\beta$ について\n",
    "\n",
    "$$\n",
    "\\int_a^b(\\alpha f(x)+\\beta g(x))\\,dx = \\alpha\\int_a^b f(x)\\,dx + \\beta\\int_a^b g(x)\\,dx.\n",
    "$$\n",
    "\n",
    "**基本性質(B)** **積分区間の連結:**\n",
    "\n",
    "$$\n",
    "\\int_a^b f(x)\\,dx + \\int_b^c\\,f(x)\\,dx = \\int_a^c f(x)\\,dx.\n",
    "$$\n",
    "\n",
    "**注意:**\n",
    "\n",
    "(1) (B)において $a=b=c$ と仮定すると $\\int_a^a f(x)\\,dx=0$ が導かれる. \n",
    "\n",
    "(2) (B)において $c=a$ と仮定すると $\\int_b^a f(x)\\,dx = - \\int_a^b f(x)\\,dx$ が導かれる.\n",
    "\n",
    "(3) ゆえに $a\\leqq b$ のときに $\\int_a^b f(x)\\,dx$ が定義されていれば, $a > b$ の場合には $\\int_a^b f(x)\\,dx$ を $\\int_a^b f(x)\\,dx = -\\int_b^a f(x)\\,dx$ で定義することによって, $a,b$ の大小に条件を付ける必要がなくなる.\n",
    "\n",
    "(4) (B)は $\\ds\\int_a^c f(x)\\,dx - \\int_b^a\\,f(x)\\,dx = \\int_b^c f(x)\\,dx$ と同値である. 基本性質(B)はこの形でもよく使われる.\n",
    "\n",
    "**基本性質(C)** **定数の積分:** 定数 $\\alpha$ について,\n",
    "\n",
    "$$\n",
    "\\int_a^b \\alpha\\,dx = \\alpha(b-a).\n",
    "$$\n",
    "\n",
    "**注意:**\n",
    "\n",
    "(1) $\\int_a^b 1\\,dx = b-a$ と(A)から(C)が導かれる.\n",
    "\n",
    "(2) 函数 $f(x)$ が $a<x<b$ で一定の値 $\\alpha$ の値を取るならば(すなわち $f(x)=\\alpha$ ($a<x<b$)) ならば $\\int_a^b f(x)\\,dx = \\alpha(b-a)$ となるという(C)の一般化を仮定すると, (B)と合わせて, 階段函数の積分が確定する. \n",
    "\n",
    "**基本性質(D)** **単調性:** $a\\leqq b$ と仮定する. 1変数実数値函数 $f(x)$, $g(x)$ について\n",
    "\n",
    "$$\n",
    "f(x)\\leqq g(x)\\quad (a<x<b) \\quad\\implies\\quad \\int_a^b f(x)\\,dx\\leqq\\int_a^b g(x)\\,dx.\n",
    "$$"
   ]
  },
  {
   "cell_type": "markdown",
   "metadata": {},
   "source": [
    "### 性質(E) 積分の絶対値の上からの評価\n",
    "\n",
    "**(E)** $a\\leqq b$ と仮定する. 1変数実数値函数 $f(x)$ について\n",
    "\n",
    "$$\n",
    "\\left|\\int_a^b f(x)\\,dx\\right| \\leqq \\int_a^b |f(x)|\\,dx.\n",
    "\\tag{1}\n",
    "$$\n",
    "\n",
    "さらに $a\\leqq x\\leqq b$ で $|f(x)|\\leqq M$ ならば\n",
    "\n",
    "$$\n",
    "\\left|\\int_a^b f(x)\\,dx\\right| \\leqq M|b-a|.\n",
    "\\tag{2}\n",
    "$$\n",
    "\n",
    "**注意:** (2)は $a>b$ であっても成立している. そのために絶対値を付けた. \n",
    "\n",
    "**証明:** $-|f(x)|\\leqq f(x)\\leqq |f(x)|$ なので積分の単調性(D)より\n",
    "\n",
    "$$\n",
    "-\\int_a^b|f(x)|\\,dx \\leqq \\int_a^b f(x)\\,dx \\leqq \\int_a^b |f(x)|\\,dx.\n",
    "$$\n",
    "\n",
    "これは(1)が成立することを意味する. $a\\leqq x\\leqq b$ で $|f(x)|\\leqq M$ ならば積分の単調性(D)と(C)より,\n",
    "\n",
    "$$\n",
    "\\int_a^b |f(x)|\\,dx \\leqq \\int_a^b M\\,dx = M(b-a)=M|b-a|.\n",
    "$$\n",
    "\n",
    "これで(2)も成立することが示された. $\\QED$\n",
    "\n",
    "**解説:** 多くの場面で「小さいこと」を示したい誤差項は積分で表わされる. (Taylorの定理における積分型剰余項はその典型例である.) 成立(E)は積分の絶対値が「小さいこと」を示すためによく使われることになる. $\\QED$"
   ]
  },
  {
   "cell_type": "markdown",
   "metadata": {},
   "source": [
    "**注意:** $f(x)$ が複素数値函数であっても性質(E)は成立している. さらに絶対値を任意のノルムで置き換えればベクトル値函数であっても性質(E)は成立している. しかし, そのことを示すためには性質(A)～(D)を仮定するだけでは足りないので, 複素数値函数やベクトル値函数まで拡張された性質(E)も必要ならば, 最初から拡張された性質(E)も仮定しておく方がよいかもしれない.\n",
    "\n",
    "拡張された性質(E)が主要などの積分論でも成立する理由は, どの積分論においても積分が有限和 $v_1+\\cdots+v_n$ の極限で構成されているからである. ここで $v_i$ は複素数またはベクトルである. 絶対値およびより一般にノルムは三角不等式\n",
    "\n",
    "$$\n",
    "\\|v_1+\\cdots+v_n\\| \\leqq \\|v_1\\|+\\cdots+\\|v_n\\|\n",
    "$$\n",
    "\n",
    "を満たしている. これの極限として複素数値もしくはベクトル値函数 $f(x)$ についても\n",
    "\n",
    "$$\n",
    "\\left\\|\\int_a^b f(x)\\,dx\\right\\|\\leqq \\int_a^b \\|f(x)\\|\\,dx\n",
    "$$\n",
    "\n",
    "が成立することが示される. この不等式を点の運動 $x(t)$ の速度ベクトル $v(t)=x'(t)$ に適用した結果は\n",
    "\n",
    "$$\n",
    "\\|x(b)-x(a)\\|=\\left\\|\\int_a^b v(t)\\,dt\\right\\|\\leqq \\int_a^b \\|v(t)\\|\\,dt\n",
    "$$\n",
    "\n",
    "となる. 速さ $\\|v(t)\\|=\\|x'(t)\\|$ の時刻 $a$ から $b$ までの積分の値は点の運動の軌跡(曲線)の長さなので, この不等式は $x(a)$ と $x(b)$ の距離は $x(a)$ と $x(b)$ を結ぶ曲線の長さ以下になることを意味する. \n",
    "\n",
    "これより, ベクトル値函数に拡張された性質(E)は, 直観的には当然そうなるべき結果を意味していることがわかる. "
   ]
  },
  {
   "cell_type": "markdown",
   "metadata": {},
   "source": [
    "### 性質(F) 微分積分学の基本定理1\n",
    "\n",
    "**(F)** 微分積分学の基本定理1: 連続函数 $f(x)$ について\n",
    "\n",
    "$$\n",
    "\\frac{d}{dx}\\int_a^x f(\\xi)\\,d\\xi = f(x).\n",
    "$$\n",
    "\n",
    "**証明:** $F(x)=\\int_a^x f(\\xi)\\,d\\xi$ とおく. このとき(B)より\n",
    "\n",
    "$$\n",
    "F(x+h)-F(x) = \\int_a^{x+h}f(\\xi)\\,d\\xi - \\int_a^x f(\\xi)\\,d\\xi = \\int_x^{x+h}f(\\xi)\\,d\\xi.\n",
    "$$\n",
    "\n",
    "さらに $f(x)$ は積分変数 $\\xi$ について定数なので, (C)より\n",
    "\n",
    "$$\n",
    "f(x)h = f(x)((x+h) - x) = \\int_x^{x+h} f(x)\\,d\\xi.\n",
    "$$\n",
    "\n",
    "ゆえに\n",
    "\n",
    "$$\n",
    "F(x+h)-F(x)-f(x)h = \n",
    "\\int_x^{x+h}f(\\xi)\\,d\\xi - \\int_x^{x+h} f(x)\\,d\\xi =\n",
    "\\int_x^{x+h}(f(\\xi) - f(x))\\,d\\xi.\n",
    "$$\n",
    "\n",
    "任意の $\\eps > 0$ を取る.  $f(\\xi)$ は $\\xi$ の連続函数なので $|h|$ を十分に小さくすると\n",
    "\n",
    "$$\n",
    "|f(\\xi)-f(x)|\\leqq \\eps\n",
    "$$\n",
    "\n",
    "となる(図を描いてみよ). ゆえに(E)より\n",
    "\n",
    "$$\n",
    "|F(x+h)-F(x)-f(x)h|=\\left|\\int_x^{x+h}(f(\\xi) - f(x))\\,d\\xi\\right|\n",
    "\\leqq \\eps|(x+h)-x| = \\eps|h|.\n",
    "$$\n",
    "\n",
    "両辺を $|h|$ で割ることによって, $\\eps>0$ ごとに $|h|>0$ を十分に小さくすることによって, \n",
    "\n",
    "$$\n",
    "\\left|\\frac{F(x+h)-F(x)-f(x)h}{h}\\right|\\leqq \\eps\n",
    "$$\n",
    "\n",
    "となることわかる. これは $h\\to 0$ のとき\n",
    "\n",
    "$$\n",
    "\\frac{F(x+h)-F(x)}{h}-f(x) = \\frac{F(x+h)-F(x)-f(x)h}{h} \\to 0\n",
    "$$\n",
    "\n",
    "が成立することを意味する. これで $F'(x) = f(x)$ となることを示せた. $\\QED$\n",
    "\n",
    "**注意:** 上の証明では $\\eps$-$\\delta$ 論法を使った. $\\eps$-$\\delta$ 論法を未習もしくはまだ理解していない人であっても,  $f(x)$ のグラフを適当に描いて, 積分が「面積」を表すことを思い出しながら, 証明の各ステップに現われる積分がグラフのどの部分の「面積」になっているかを確認すれば, 直観的には明らかな議論しか行っていないことがわかるだろう.  むしろ $\\eps$-$\\delta$ 論法を使った証明を使いこなせるようになるためには, $\\eps$-$\\delta$ 論法を理解していない段階でのそのような直観的な議論を十分にしておいた方がよい. 慣れてしまえば, $\\eps$-$\\delta$ 論法自体が直観的に明らかな議論に見えて来ることになるだろう. $\\QED$"
   ]
  },
  {
   "cell_type": "markdown",
   "metadata": {},
   "source": [
    "### 性質(G) 微分積分学の基本定理2\n",
    "\n",
    "**準備:** 微分可能函数 $f(x)$ の導函数 $f'(x)$ が恒等的に $0$ ならば $f(x)$ は定数函数になることを(G)の証明では認めて使うことにする. その結果は平均値の定理\n",
    "\n",
    "$$\n",
    "f(x) - f(a) = f'(\\xi)(x-a) \\quad (\\xi = a+t(x-a),\\ 0<t<1)\n",
    "$$\n",
    "\n",
    "を使えば容易に導かれる($\\xi$ は $a$, $x$ のあいだのある実数である). $f'$ が恒等的に $0$ ならば特に $f'(\\xi)=0$ となるので $f(x)=f(a)$ となり, $f(x)$ の値は $x$ の値によらず $f(a)$ に等しくなる. $\\QED$\n",
    "\n",
    "**(G)** 微分積分学の基本定理2: $F(x)$ は $C^1$ 級函数(微分可能かつ導函数が連続な函数)であるとすると, \n",
    "\n",
    "$$\n",
    "\\int_a^b F'(x)\\,dx = F(b) - F(a).\n",
    "\\tag{1}\n",
    "$$\n",
    "\n",
    "**注意:** (1)の右辺を $[F(x)]_a^b$ と書くことが多い:\n",
    "\n",
    "$$\n",
    "[F(x)]_a^b = F(b) - F(a).\n",
    "$$\n",
    "\n",
    "**証明:** $G(x)=\\int_a^x F'(\\xi)\\,d\\xi - (F(x)-F(a))$ とおく. このとき, (B)より\n",
    "\n",
    "$$\n",
    "G(a) = \\int_a^a F'(\\xi)\\,d\\xi - (F(a)-F(a)) = 0\n",
    "$$\n",
    "\n",
    "となり, (F)より\n",
    "\n",
    "$$\n",
    "G'(x) = F'(x) - F'(x) = 0.\n",
    "$$\n",
    "\n",
    "ゆえに $G(x)$ は定数函数になり, 恒等的に $0$ になる. ゆえに\n",
    "\n",
    "$$\n",
    "0 = G(b) = \\int_a^b F'(x)\\,dx - (F(b)-F(a)).\n",
    "$$\n",
    "\n",
    "これは(1)が成立することを意味する. $\\QED$"
   ]
  },
  {
   "cell_type": "markdown",
   "metadata": {},
   "source": [
    "**以上によって, 実1変数実数値函数の微分積分学の基本定理が積分の基本性質(A)～(D)だけから導かれることがわかった.**\n",
    "\n",
    "**注意:** 実1変数の複素数値函数もしくはベクトル値函数に関する微分積分学の基本定理は積分の基本性質(A)～(D)と拡張された性質(E)のみを使って導き出せる. 性質(A)～(E)は高校数学レベルの積分に関する直観があれば「明らか」だと感じられるシンプルな性質の集まりである. そのような「明らか」でかつシンプルな性質のみを使って微分積分学の基本定理は導出可能なのである. $\\QED$"
   ]
  },
  {
   "cell_type": "markdown",
   "metadata": {},
   "source": [
    "## 部分積分と置換積分\n",
    "\n",
    "微分積分学の基本定理さえ証明できてしまえば, 部分積分と置換積分の導出は微分学の結果をそのまま積分学に応用する話に過ぎなくなる."
   ]
  },
  {
   "cell_type": "markdown",
   "metadata": {},
   "source": [
    "### 置換積分\n",
    "\n",
    "$f(x)$, $g(t)$ は $C^1$ 級函数であると仮定し, \n",
    "\n",
    "$$\n",
    "F(x) = \\int_a^x f(\\xi)\\,d\\xi\n",
    "$$\n",
    "\n",
    "とおく. 微分の性質\n",
    "\n",
    "$$\n",
    "\\frac{d}{dt}F(g(t)) = F'(g(t))g'(t) = f(g(t))g'(t)\n",
    "$$\n",
    "\n",
    "に微分積分学の基本定理(G)を適用すると, $a=g(\\alpha)$, $b=g(\\beta)$ のとき, \n",
    "\n",
    "$$\n",
    "\\int_a^b f(x)\\,dx = [F(x)]_a^b = [F(g(t))]_\\alpha^\\beta =\n",
    "\\int_\\alpha^\\beta \\frac{d}{dt}F(g(t))\\,dt = \\int_\\alpha^\\beta f(g(t))g'(t)\\,dt.\n",
    "$$\n",
    "\n",
    "つまり, 次が成立している.\n",
    "\n",
    "**(H)** **置換積分:** $a=g(\\alpha)$, $b=g(\\beta)$ のとき,\n",
    "\n",
    "$$\n",
    "\\int_a^b f(x)\\,dx = \\int_\\alpha^\\beta f(g(t))g'(t)\\,dt.\n",
    "$$\n",
    "\n",
    "左辺の積分を右辺で計算することを**置換積分**と呼ぶ. $x(t)=g(t)$ とおいて,\n",
    "\n",
    "$$\n",
    "\\int_a^b f(x)\\,dx = \\int_\\alpha^\\beta f(x(t))\\frac{dx(t)}{dt}\\,dt\n",
    "$$\n",
    "\n",
    "と書き直すと, 「分子分母の $dt$ が約分で消える公式」のように見えて見易い.\n",
    "\n",
    "**問題:** 任意の微積分の教科書を参照して, 置換積分を使って計算する積分計算の面白い問題を見付けて, 計算練習せよ. $\\QED$"
   ]
  },
  {
   "cell_type": "markdown",
   "metadata": {},
   "source": [
    "### 部分積分\n",
    "\n",
    "$f(x)$, $g(x)$ は $C^1$ 級函数であると仮定する.\n",
    "\n",
    "微分の性質\n",
    "\n",
    "$$\n",
    "(f(x)g(x))' = f'(x)g(x) + f(x)g'(x)\n",
    "$$\n",
    "\n",
    "に微分積分学の基本定理(G)と積分の線形性(A)を適用すると\n",
    "\n",
    "$$\n",
    "[f(x)g(x)]_a^b = \\int_a^b (f(x)g(x))'\\,dx = \\int_a^b f'(x)g(x)\\,dx + \\int_a^b f(x)g'(x)\\,dx.\n",
    "$$\n",
    "\n",
    "これは以下と同値である.\n",
    "\n",
    "**(I)** **部分積分:** $f(x)$, $g(x)$ は $C^1$ 級函数であるとき, \n",
    "\n",
    "$$\n",
    "\\begin{aligned}\n",
    "&\n",
    "\\int_a^b f'(x)g(x)\\,dx = [f(x)g(x)]_a^b - \\int_a^b f(x)g'(x)\\,dx, \n",
    "\\\\ &\n",
    "\\int_a^b f(x)g'(x)\\,dx = [f(x)g(x)]_a^b - \\int_a^b f'(x)g(x)\\,dx.\n",
    "\\end{aligned}\n",
    "$$\n",
    "\n",
    "左辺の積分を右辺で計算することを**部分積分**と呼ぶ.\n",
    "\n",
    "**問題:** 任意の微積分の教科書を参照して, 部分積分を使って計算する積分計算の面白い問題を見付けて, 計算練習せよ. $\\QED$"
   ]
  },
  {
   "cell_type": "markdown",
   "metadata": {},
   "source": [
    "## 積分の近似"
   ]
  },
  {
   "cell_type": "markdown",
   "metadata": {},
   "source": [
    "$a<b$ であると仮定し, $f$ は閉区間 $[a,b]$ 上の連続函数であると仮定する."
   ]
  },
  {
   "cell_type": "markdown",
   "metadata": {},
   "source": [
    "### Riemann和\n",
    "\n",
    "閉区間 $[a,b]$ の分割 $a=x_0\\leqq x_1\\leqq\\cdots\\leqq x_N=b$ と $x_i^*\\in[x_{i-1},x_i]$ と $\\Delta x_i=x_i-x_{i-1}$ に対して, 和\n",
    "\n",
    "$$\n",
    "\\sum_{i=1}^N f(x_i^*)\\Delta x_i = \\sum_{i=1}^N f(x_i*)(x_i-x_{i-1})\n",
    "$$\n",
    "\n",
    "を**Riemann和**と呼ぶ.  \n",
    "\n",
    "$\\Delta x_i$ の最大値を小さくすることによって(分割を細かくすることによって), Riemann和で積分 $\\int_a^b f(x)\\,dx$ を幾らでも近似できることを積分の基本性質のみを使って証明しよう.\n",
    "\n",
    "**証明:** 任意の $\\eps>0$ を取る.  $f(x)$ は閉区間 $[a,b]$ 上の連続函数であると仮定してあったので, $f(x)$ は閉区間 $[a,b]$ 上の一様連続函数になる. $\\Delta x_i$ 達の最大値を十分小さくすれば\n",
    "\n",
    "$$\n",
    "|f(x)-f(x_i^*)| \\leqq \\frac{\\eps}{b-a}\\quad (x_{i-1}\\leqq x\\leqq x_i)\n",
    "$$\n",
    "\n",
    "となる. したがって, \n",
    "\n",
    "$$\n",
    "\\begin{aligned}\n",
    "\\left|\\sum_{i=1}^N f(x_i^*)\\Delta x_i-\\int_a^b f(x)\\,dx\\right| &=\n",
    "\\left|\\sum_{i=1}^N \\int_{x_{i-1}}^{x_i}f(x_i^*)\\,dx-\\sum_{i=1}^N\\int_{x_{i-1}}^{x_i} f(x)\\,dx\\right|\n",
    "\\\\ &=\n",
    "\\left|\\sum_{i=1}^N \\int_{x_{i-1}}^{x_i}(f(x_i^*)-f(x))\\,dx\\right|\n",
    "\\\\ &\\leqq\n",
    "\\sum_{i=1}^N \\left|\\int_{x_{i-1}}^{x_i}(f(x_i^*)-f(x))\\,dx\\right|\n",
    "\\\\ &\\leqq\n",
    "\\sum_{i=1}^N \\int_{x_{i-1}}^{x_i}|f(x_i^*)-f(x)|\\,dx\n",
    "\\\\ &\\leqq\n",
    "\\sum_{i=1}^N \\int_{x_{i-1}}^{x_i}\\frac{\\eps}{b-a}\\,dx =\n",
    "\\sum_{i=1}^N \\frac{\\eps}{b-a}\\Delta x_i \n",
    "\\\\ &= \n",
    "\\frac{\\eps}{b-a}(b-a) = \n",
    "\\eps\n",
    "\\end{aligned}\n",
    "$$\n",
    "\n",
    "以上によって, 閉区間 $[a,b]$ の分割を細かくすることによって, Riemann和で積分を誤差 $\\eps$ 以下で近似できることを示せた. $\\QED$"
   ]
  },
  {
   "cell_type": "markdown",
   "metadata": {},
   "source": [
    "### 台形公式\n",
    "\n",
    "閉区間 $[a,b]$ の分割 $a=x_0\\leqq x_1\\leqq\\cdots\\leqq x_N=b$ に対する和\n",
    "\n",
    "$$\n",
    "\\sum_{i=1}^N \\frac{f(x_{i-1})+f(x_i)}{2}\\Delta x_i\n",
    "$$\n",
    "\n",
    "で積分 $\\int_a^b f(x)\\,dx$ を近似することもできる. これを**台形公式**(trapezoidal rule)と呼ぶ."
   ]
  },
  {
   "cell_type": "markdown",
   "metadata": {},
   "source": [
    "### Simpsonの公式\n",
    "\n",
    "閉区間 $[a,b]$ の分割 $a=x_0\\leqq x_1\\leqq\\cdots\\leqq x_N=b$ に対する和\n",
    "\n",
    "$$\n",
    "\\sum_{i=1}^N \\frac{f(x_{i-1}) + 4\\,f((x_{i-1}+x_i)/2) + f(x_i)}{6}\\Delta x_i\n",
    "$$\n",
    "\n",
    "で積分 $\\int_a^b f(x)\\,dx$ を近似することもできる. これを**Simpsonの公式**(Simpson's rule)と呼ぶ."
   ]
  },
  {
   "cell_type": "markdown",
   "metadata": {},
   "source": [
    "**Simpsonの公式の由来:** $a<b$ であるとし, $c=(a+b)/2$ とおく. このとき, $f(a)=\\alpha$, $f(c)=\\gamma$, $f(b)=\\beta$ を満たす2次以下の多項式 $f(x)$ が一意的に決まり, \n",
    "\n",
    "$$\n",
    "f(x) = \n",
    "\\alpha\\frac{(x-b)(x-c)}{(a-b)(a-c)} + \n",
    "\\beta \\frac{(x-a)(x-c)}{(b-a)(b-c)} + \n",
    "\\gamma\\frac{(x-a)(x-b)}{(c-a)(c-b)} \n",
    "$$\n",
    "\n",
    "と一意に表わされる. このとき,\n",
    "\n",
    "$$\n",
    "\\begin{aligned}\n",
    "&\n",
    "\\int_a^b \\frac{(x-b)(x-c)}{(a-b)(a-c)}\\,dx = \\frac{1}{6}(b-a), \n",
    "\\\\ &\n",
    "\\int_a^b \\frac{(x-b)(x-c)}{(a-b)(a-c)}\\,dx = \\frac{1}{6}(b-a), \n",
    "\\\\ &\n",
    "\\int_a^b \\frac{(x-b)(x-c)}{(a-b)(a-c)}\\,dx = \\frac{4}{6}(b-a)\n",
    "\\end{aligned}\n",
    "$$\n",
    "\n",
    "となることを確認できるので\n",
    "\n",
    "$$\n",
    "\\int_a^b f(x)\\,dx = \\frac{f(a)+4f((a+b)/2)+f(b)}{6}(b-a)\n",
    "$$\n",
    "\n",
    "となることがわかる.\n",
    "\n",
    "つまり, $f(x)$ が2次函数のとき閉区間 $[a,b]$ の自明な分割 $a=a_0<a_1=b$ に関するSimpsonの公式は誤差無しで積分の値を計算する公式になっている. $\\QED$\n",
    "\n",
    "Simpsonの公式の他の解釈については\n",
    "\n",
    "* 黒木玄, <a href=\"https://genkuroki.github.io/documents/20170724EulerMaclaurin.pdf\">Euler-Maclaurinの和公式の一般化</a>\n",
    "\n",
    "の第3.5と第3.6節を参照せよ."
   ]
  },
  {
   "cell_type": "markdown",
   "metadata": {},
   "source": [
    "**問題:** 上のSimpsonの公式の由来の解説において結果だけを書いた積分計算を自分で実行せよ. $\\QED$\n",
    "\n",
    "解答略."
   ]
  },
  {
   "cell_type": "code",
   "execution_count": 2,
   "metadata": {},
   "outputs": [
    {
     "data": {
      "text/latex": [
       "\\begin{bmatrix}- \\frac{1}{6} \\left(a - b\\right)\\\\- \\frac{1}{6} \\left(a - b\\right)\\\\- \\frac{2}{3} \\left(a - b\\right)\\end{bmatrix}"
      ],
      "text/plain": [
       "3-element Array{SymPy.Sym,1}:\n",
       "   -(a - b)/6\n",
       "   -(a - b)/6\n",
       " -2*(a - b)/3"
      ]
     },
     "execution_count": 2,
     "metadata": {},
     "output_type": "execute_result"
    }
   ],
   "source": [
    "a, b, x = symbols(\"a b x\", real=true)\n",
    "c = (a+b)/2\n",
    "[\n",
    "    factor(simplify(integrate((x-b)*(x-c), (x, a, b)))/((a-b)*(a-c))),\n",
    "    factor(simplify(integrate((x-a)*(x-c), (x, a, b)))/((b-a)*(b-c))),\n",
    "    factor(simplify(integrate((x-a)*(x-b), (x, a, b)))/((c-a)*(c-b))),\n",
    "]"
   ]
  },
  {
   "cell_type": "markdown",
   "metadata": {},
   "source": [
    "**問題:** Simpsonの公式の由来の説明に基いて, 以下の公式を導け.\n",
    "\n",
    "$$\n",
    "\\int_a^b (x-a)(x-b)\\,dx = -\\frac{(b-a)^3}{6}, \\quad\n",
    "\\int_a^b (x-a)\\left(x-\\tfrac{a+b}{2}\\right)\\,dx = \\frac{(b-a)^3}{12}.\n",
    "\\qquad \\QED\n",
    "$$\n",
    "\n",
    "解答略."
   ]
  },
  {
   "cell_type": "code",
   "execution_count": 3,
   "metadata": {},
   "outputs": [
    {
     "data": {
      "text/latex": [
       "\\begin{bmatrix}\\frac{1}{6} \\left(a - b\\right)^{3}\\\\- \\frac{1}{12} \\left(a - b\\right)^{3}\\end{bmatrix}"
      ],
      "text/plain": [
       "2-element Array{SymPy.Sym,1}:\n",
       "   (a - b)^3/6\n",
       " -(a - b)^3/12"
      ]
     },
     "execution_count": 3,
     "metadata": {},
     "output_type": "execute_result"
    }
   ],
   "source": [
    "a, b, x = symbols(\"a b x\", real=true)\n",
    "c = (a+b)/2\n",
    "\n",
    "sol = [\n",
    "    integrate((x-a)*(x-b), (x,a,b)),\n",
    "    integrate((x-a)*(x-c), (x,a,b)),\n",
    "]\n",
    "factor.(simplify.(sol))"
   ]
  },
  {
   "cell_type": "markdown",
   "metadata": {},
   "source": [
    "**問題:** 円周率を表わす2種類の積分\n",
    "\n",
    "$$\n",
    "4\\int_0^1\\sqrt{1-x^2}\\,dx = \\pi, \\quad\n",
    "4\\int_0^1\\frac{dx}{1+x^2} = \\pi\n",
    "$$\n",
    "\n",
    "の近似計算を, 閉区間 $[0,1]$ の分割 $x_i = i/N$ ($i=0,1,\\ldots,N$) と $x_i^*=(x_{i-1}+x_i)/2$ に関するRiemann和と台形公式とSimpsonの公式を用いて実行してみよ. $N=10$ の場合にどうなるか? $\\QED$"
   ]
  },
  {
   "cell_type": "code",
   "execution_count": 4,
   "metadata": {},
   "outputs": [
    {
     "data": {
      "text/plain": [
       "SymPyIntegrate (generic function with 1 method)"
      ]
     },
     "execution_count": 4,
     "metadata": {},
     "output_type": "execute_result"
    }
   ],
   "source": [
    "function RiemannSum(f, a, b, N)\n",
    "    Δx = (b-a)/N\n",
    "    sum(i->f(a+(i-1/2)*Δx)*Δx, 1:N)\n",
    "end\n",
    "\n",
    "function TrapezoidalRule(f, a, b, N)\n",
    "    Δx = (b-a)/N\n",
    "    sum(i->(f(a+(i-1)*Δx)+f(a+i*Δx))/2*Δx, 1:N)\n",
    "end\n",
    "\n",
    "function SimpsonRule(f, a, b, N)\n",
    "    Δx = (b-a)/N\n",
    "    sum(i->(f(a+(i-1)*Δx)+4f(a+(i-1/2)*Δx)+f(a+i*Δx))/6*Δx, 1:N)\n",
    "end\n",
    "\n",
    "function SymPyIntegrate(f, a, b)\n",
    "    x = symbols(\"x\", real=true)\n",
    "    integrate(f(x), (x, a, b))\n",
    "end"
   ]
  },
  {
   "cell_type": "code",
   "execution_count": 5,
   "metadata": {},
   "outputs": [
    {
     "name": "stdout",
     "output_type": "stream",
     "text": [
      "RiemannSum(f, a, b, N) = 5.0\n",
      "TrapezoidalRule(f, a, b, N) = 5.0\n",
      "SimpsonRule(f, a, b, N) = 5.0\n",
      "s = SymPyIntegrate(f, Sym(0), Sym(1)) = 5\n"
     ]
    },
    {
     "data": {
      "text/plain": [
       "5.0"
      ]
     },
     "execution_count": 5,
     "metadata": {},
     "output_type": "execute_result"
    }
   ],
   "source": [
    "f(x) = 4x + 3\n",
    "a, b = 0.0, 1.0\n",
    "N = 10\n",
    "\n",
    "@show RiemannSum(f, a, b, N)\n",
    "@show TrapezoidalRule(f, a, b, N)\n",
    "@show SimpsonRule(f, a, b, N)\n",
    "@show s = SymPyIntegrate(f, Sym(0), Sym(1))\n",
    "float(s)"
   ]
  },
  {
   "cell_type": "code",
   "execution_count": 6,
   "metadata": {},
   "outputs": [
    {
     "name": "stdout",
     "output_type": "stream",
     "text": [
      "RiemannSum(f, a, b, N) = 3.1650000000000005\n",
      "TrapezoidalRule(f, a, b, N) = 3.170000000000001\n",
      "SimpsonRule(f, a, b, N) = 3.166666666666667\n",
      "s = SymPyIntegrate(f, Sym(0), Sym(1)) = 19/6\n"
     ]
    },
    {
     "data": {
      "text/plain": [
       "3.1666666666666665"
      ]
     },
     "execution_count": 6,
     "metadata": {},
     "output_type": "execute_result"
    }
   ],
   "source": [
    "f(x) = 2x^2 - x + 3\n",
    "a, b = 0.0, 1.0\n",
    "N = 10\n",
    "\n",
    "@show RiemannSum(f, a, b, N)\n",
    "@show TrapezoidalRule(f, a, b, N)\n",
    "@show SimpsonRule(f, a, b, N)\n",
    "@show s = SymPyIntegrate(f, Sym(0), Sym(1))\n",
    "float(s)"
   ]
  },
  {
   "cell_type": "code",
   "execution_count": 7,
   "metadata": {},
   "outputs": [
    {
     "name": "stdout",
     "output_type": "stream",
     "text": [
      "RiemannSum(f, a, b, N) = 3.1524114332616446\n",
      "TrapezoidalRule(f, a, b, N) = 3.1045183262483182\n",
      "SimpsonRule(f, a, b, N) = 3.136447064257202\n",
      "s = SymPyIntegrate(f, Sym(0), Sym(1)) = pi\n"
     ]
    },
    {
     "data": {
      "text/plain": [
       "3.141592653589793"
      ]
     },
     "execution_count": 7,
     "metadata": {},
     "output_type": "execute_result"
    }
   ],
   "source": [
    "f(x) = 4*√(1-x^2)\n",
    "a, b = 0.0, 1.0\n",
    "N = 10\n",
    "\n",
    "@show RiemannSum(f, a, b, N)\n",
    "@show TrapezoidalRule(f, a, b, N)\n",
    "@show SimpsonRule(f, a, b, N)\n",
    "@show s = SymPyIntegrate(f, Sym(0), Sym(1))\n",
    "float(s)"
   ]
  },
  {
   "cell_type": "code",
   "execution_count": 8,
   "metadata": {},
   "outputs": [
    {
     "name": "stdout",
     "output_type": "stream",
     "text": [
      "RiemannSum(f, a, b, N) = 3.142425985001098\n",
      "TrapezoidalRule(f, a, b, N) = 3.1399259889071587\n",
      "SimpsonRule(f, a, b, N) = 3.1415926529697855\n",
      "s = SymPyIntegrate(f, Sym(0), Sym(1)) = pi\n"
     ]
    },
    {
     "data": {
      "text/plain": [
       "3.141592653589793"
      ]
     },
     "execution_count": 8,
     "metadata": {},
     "output_type": "execute_result"
    }
   ],
   "source": [
    "f(x) = 4/(1+x^2)\n",
    "a, b = 0.0, 1.0\n",
    "N = 10\n",
    "\n",
    "@show RiemannSum(f, a, b, N)\n",
    "@show TrapezoidalRule(f, a, b, N)\n",
    "@show SimpsonRule(f, a, b, N)\n",
    "@show s = SymPyIntegrate(f, Sym(0), Sym(1))\n",
    "float(s)"
   ]
  },
  {
   "cell_type": "code",
   "execution_count": 9,
   "metadata": {},
   "outputs": [
    {
     "data": {
      "text/plain": [
       "-6.200076008155975e-10"
      ]
     },
     "execution_count": 9,
     "metadata": {},
     "output_type": "execute_result"
    }
   ],
   "source": [
    "SimpsonRule(f, a, b, N) - π"
   ]
  },
  {
   "cell_type": "markdown",
   "metadata": {},
   "source": [
    "$\\ds 4\\int_0^1\\frac{dx}{1+x^2}=\\pi$ の左辺を10分割のSimpsonの公式で計算すると, 小数点以下8桁まで円周率を正確に求めることができている！たったの10分割しかしていないのに！"
   ]
  },
  {
   "cell_type": "markdown",
   "metadata": {},
   "source": [
    "**注意:** 数値積分は非常に深い分野である. 多くの功名な方法が開発されており, 多くの場合に以上で説明した方法よりもずっと効率的である. $\\QED$"
   ]
  },
  {
   "cell_type": "markdown",
   "metadata": {},
   "source": [
    "## 広義積分\n",
    "\n",
    "無限区間もしくは区間 $(a,b)$ の端で発散しているかもしれない函数 $f(x)$ について極限\n",
    "\n",
    "$$\n",
    "\\lim_{\\alpha\\searrow a,\\ \\beta\\nearrow b} \\int_\\alpha^\\beta f(x)\\,dx\n",
    "$$\n",
    "\n",
    "を**広義積分**と呼ぶ. 極限が存在しなければ広義積分は存在しない. 広義積分は\n",
    "\n",
    "$$\n",
    "\\lim_{\\alpha\\searrow a,\\ \\beta\\nearrow b} \\int_\\alpha^\\beta |f(x)|\\,dx\n",
    "\\tag{$*$}\n",
    "$$\n",
    "\n",
    "が有限の値に収束するとき収束し, そのときその広義積分は**絶対収束**するという. もとの広義積分は収束するが, ($*$)が有限の値に収束しないとき, その広義積分は**条件収束**するという.\n",
    "\n",
    "応用上重要な積分のかなりの割合が無限区間 $(-\\infty, \\infty)$, $(0,\\infty)$ 上の積分になり, 有限区間 $(a,b)$ 上の積分であっても広義積分になっていることが多い.\n",
    "\n",
    "例えば, **Gauss積分**や**Fourier変換**は無限区間 $(-\\infty,\\infty)$ 上の積分で定義され, **ガンマ函数**は半無限区間 $(0,\\infty)$ 上の積分で定義され, **ベータ函数**は有限開区間 $(0,1)$ 上の広義積分で定義される."
   ]
  },
  {
   "cell_type": "markdown",
   "metadata": {},
   "source": [
    "**注意:** 広義積分を表すときに毎回 $\\lim$ 記号を書くのは面倒なので, 通常の積分と同じ記号法で\n",
    "\n",
    "$$\n",
    "\\int_a^b f(x)\\,dx = \\lim_{\\alpha\\searrow a,\\ \\beta\\nearrow b} \\int_\\alpha^\\beta f(x)\\,dx\n",
    "$$\n",
    "\n",
    "と書くことが多い. さらに $f(x)=F'(x)$ のとき,\n",
    "\n",
    "$$\n",
    "\\lim_{\\alpha\\searrow a,\\ \\beta\\nearrow b}  \\int_\\alpha^\\beta f(x)\\,dx =\n",
    "\\lim_{\\alpha\\searrow a,\\ \\beta\\nearrow b}  [F(x)]_\\alpha^\\beta =\n",
    "\\lim_{\\beta\\nearrow b} F(\\beta) - \\lim_{\\alpha\\searrow a}F(\\alpha).\n",
    "$$\n",
    "\n",
    "であるが, これの右辺を記号の簡単のため\n",
    "\n",
    "$$\n",
    "[F(x)]_a^b = \\lim_{\\beta\\nearrow b} F(\\beta) - \\lim_{\\alpha\\searrow a}F(\\alpha)\n",
    "$$\n",
    "\n",
    "と書くことにする. $\\QED$"
   ]
  },
  {
   "cell_type": "markdown",
   "metadata": {},
   "source": [
    "**問題:** 積分は積分の基本性質を満たしていると仮定する. $a<\\alpha\\leqq\\beta<b$ のとき積分 $\\int_\\alpha^\\beta f(x)\\,dx$ が定義されており, \n",
    "\n",
    "$$\n",
    "\\lim_{\\alpha\\searrow a,\\; \\beta\\nearrow b}\\int_\\alpha^\\beta |f(x)|\\,dx \n",
    "$$\n",
    "\n",
    "が有限の値に収束するならば,\n",
    "\n",
    "$$\n",
    "\\lim_{\\alpha\\searrow a,\\; \\beta\\nearrow b}\\int_\\alpha^\\beta f(x)\\,dx \n",
    "$$\n",
    "\n",
    "も収束することを示せ.\n",
    "\n",
    "**解答例:** $a$ に収束する単調減少数列 $a_n$ と $b$ に収束する単調増加数列 $b_n$ で $a_n\\leqq b_n$ を満たすものを任意に取る. このとき仮定より\n",
    "\n",
    "$$\n",
    "\\lim_{n\\to\\infty}\\int_{a_n}^{b_n} |f(x)|\\,dx \n",
    "$$\n",
    "\n",
    "は有限の値に収束する. この条件のもとで\n",
    "\n",
    "$$\n",
    "\\lim_{n\\to\\infty}\\int_{a_n}^{b_n} f(x)\\,dx \n",
    "$$\n",
    "\n",
    "が収束することを示せばよい. $A_n$, $B_n$ を\n",
    "\n",
    "$$\n",
    "\\begin{aligned}\n",
    "&\n",
    "A_1 = \\int_{a_1}^{b_1}|f(x)|\\,dx, & &\n",
    "A_n = \\int_{a_n}^{a_{n-1}}|f(x)|\\,dx + \\int_{b_{n-1}}^{b_n}|f(x)|\\,dx & & (n\\geqq 2)\n",
    "\\\\ &\n",
    "B_1 = \\int_{a_1}^{b_1}f(x)\\,dx, & &\n",
    "B_n = \\int_{a_n}^{a_{n-1}}f(x)\\,dx + \\int_{b_{n-1}}^{b_n}f(x)\\,dx & & (n\\geqq 2)\n",
    "\\end{aligned}\n",
    "$$\n",
    "\n",
    "と定める. このとき,\n",
    "\n",
    "$$\n",
    "|B_k|\\leqq A_k, \\quad\n",
    "\\int_{a_n}^{b_n} |f(x)|\\,dx = \\sum_{k=1}^n A_k, \\quad\n",
    "\\int_{a_n}^{b_n} f(x)\\,dx = \\sum_{k=1}^n B_k.\n",
    "$$\n",
    "\n",
    "そして, \n",
    "\n",
    "$$\n",
    "\\sum_{k=1}^\\infty |B_k| \\leqq \\sum_{k=1}^\\infty A_k= \\lim_{n\\to\\infty}\\int_{a_n}^{b_n} |f(x)|\\,dx < \\infty\n",
    "$$\n",
    "\n",
    "なので, 「級数の各項の絶対値を足し上げた結果が有限の値になればもとの級数は収束する」(所謂絶対収束)という結果より, 級数 $\\ds \\sum_{k=1}^\\infty B_k$ は収束する. それは $\\ds \\int_{a_n}^{b_n} f(x)\\,dx$ が $n\\to\\infty$ で収束することを意味する.  $\\QED$"
   ]
  },
  {
   "cell_type": "markdown",
   "metadata": {},
   "source": [
    "**注意:** 部分積分や置換積分は極限操作に注意を払えばそのまま広義積分にも適用可能である. $\\QED$"
   ]
  },
  {
   "cell_type": "markdown",
   "metadata": {},
   "source": [
    "**注意:** 部分積分\n",
    "\n",
    "$$\n",
    "\\int_a^b f'(x)g(x)\\,dx = [f(x)g(x)]_a^b - \\int_a^b f(x)g'(x)\\,dx\n",
    "$$\n",
    "\n",
    "は, 特に $[f(x)g(x)]_a^b=0$ すなわち\n",
    "\n",
    "$$\n",
    "\\lim_{\\alpha\\searrow a}f(\\alpha)g(\\alpha) = \\lim_{\\beta\\nearrow b}f(\\beta)g(\\beta)\n",
    "$$\n",
    "\n",
    "のときに便利である. そのとき, 部分積分の公式は\n",
    "\n",
    "$$\n",
    "\\int_a^b f'(x)g(x)\\,dx = -\\int_a^b f(x)g'(x)\\,dx\n",
    "$$\n",
    "\n",
    "となる. これは $f$ の微分を $g$ に移動すると $-1$ 倍になることを意味している. 部分積分はこの形で使われることが多い. \n",
    "\n",
    "特に, $[f(x)g(x)]_a^b=0$ の十分条件として,\n",
    "\n",
    "$$\n",
    "\\lim_{\\alpha\\searrow a}f(\\alpha)g(\\alpha) = 0, \\quad\n",
    "\\lim_{\\beta\\nearrow b}f(\\beta)g(\\beta) = 0\n",
    "$$\n",
    "\n",
    "という条件は非常によく出て来る. $\\QED$"
   ]
  },
  {
   "cell_type": "markdown",
   "metadata": {},
   "source": [
    "**問題(Fourier変換):** 函数 $f(x)$ は $C^1$ 級であり, $x\\to\\pm\\infty$ で $|f(x)|$ と $|f'(x)|$ は十分な速さで $0$ に近付くと仮定し, \n",
    "\n",
    "$$\n",
    "\\hat{f}(p) = \\int_{-\\infty}^\\infty e^{-ipx}f(x)\\,dx\n",
    "$$\n",
    "\n",
    "とおく. $\\hat{f}(p)$ は $f(x)$ のFourier変換と呼ばれる. このとき\n",
    "\n",
    "$$\n",
    "(xf)^\\wedge(p) =  -i\\frac{\\d}{\\d p}\\hat{f}(p), \\quad\n",
    "\\left(-i\\frac{\\d}{\\d x}f\\right)^\\wedge(p) = p\\,\\hat{f}(p) \n",
    "$$\n",
    "\n",
    "が成立することを示せ. \n",
    "\n",
    "**解答例:** 前者は次のように示される:\n",
    "\n",
    "$$\n",
    "-i\\frac{\\d}{\\d p}\\hat{f}(p) =\n",
    "-i\\int_{-\\infty}^\\infty (-ix)e^{-ipx} f(x)\\,dx =\n",
    "\\int_{-\\infty}^\\infty e^{-ipx} xf(x)\\,dx = (xf)^\\wedge(p).\n",
    "$$\n",
    "\n",
    "後者を示そう. この場合にはすぐ上の注意のタイプの部分積分を利用できるので, \n",
    "\n",
    "$$\n",
    "\\left(-i\\frac{\\d}{\\d x}f\\right)^\\wedge(p) =\n",
    "-i\\int_{-\\infty}^\\infty e^{-ipx} \\frac{\\d}{\\d x}f(x)\\,dx =\n",
    "i\\int_{-\\infty}^\\infty (-ip)e^{-ipx} f(x)\\,dx = p\\hat{f}(p).\n",
    "$$\n",
    "\n",
    "2つ目の等号で部分積分を使った. $\\QED$\n",
    "\n",
    "このようにFourier変換には $x$ をかける操作と微分する操作を交換する性質を持っている."
   ]
  },
  {
   "cell_type": "markdown",
   "metadata": {},
   "source": [
    "### 絶対収束する広義積分の例\n",
    "\n",
    "以下は絶対収束する広義積分の例である.\n",
    "\n",
    "**(1)** $\\ds \\arcsin y = \\int_0^y \\frac{dt}{\\sqrt{1-t^2}}$ なので $\\ds \\int_{-1}^1 \\frac{dt}{\\sqrt{1-t^2}} = \\pi$. 積分区間 $(-1,1)$ の両端で被積分函数 $\\ds\\frac{1}{\\sqrt{1-t^2}}$ は発散している.\n",
    "\n",
    "**(2)** $\\ds \\arctan a = \\int_0^a \\frac{dt}{1+t^2}$ なので $\\ds \\int_{-\\infty}^\\infty \\frac{dt}{1+t^2} = \\pi$.  これは無限区間の積分になっている.\n",
    "\n",
    "以上の2つの $\\pi$ は単位半円周の長さを意味する.\n",
    "\n",
    "**(3)** $s>0$ に対するガンマ函数の定義 $\\ds \\Gamma(s)=\\int_0^\\infty e^{-x}x^{s-1}\\,dx$ は無限区間の積分になっており, $0<s<1$ のとき $x\\searrow 0$ で被積分函数は発散している. \n",
    "\n",
    "$x\\to\\infty$ で $e^{-x}x^{s-1}$ は急速に $0$ に近付くので $\\ds \\int_1^\\infty e^{-x}x^{s-1}\\,dx$ はどんな $s$ の値に対しても収束している. \n",
    "\n",
    "$s\\ne 0$ のとき $\\ds \\int x^{s-1}\\,dx = \\frac{x^s}{s}$ なので $s>0$ ならば $s<1$ であっても $\\ds \\int_0^1 x^{s-1}\\,ds=\\frac{1}{s}$ (有限の値)となる. これより $s>0$ のとき $\\ds \\int_0^1 e^{-x}x^{s-1}\\,dx$ も収束することがわかる. ($x>0$ で $e^{-x}<1$ となることに注意せよ.)"
   ]
  },
  {
   "cell_type": "markdown",
   "metadata": {},
   "source": [
    "**問題:** 任意の実数 $s$ に対して, 積分 $\\ds \\int_1^\\infty e^{-x}x^{s-1}\\,dx$ が有限の値に収束することを示せ.\n",
    "\n",
    "**解答例:** 指数函数は多項式函数よりも速く増大するので, $R>1$ を十分大きくすると, $x\\geqq R$ で $\\ds e^{-x/2}x^{s-1}\\leqq 1$ となる. ゆえに\n",
    "\n",
    "$$\n",
    "e^{-x}x^{s-1} \\leqq e^{-x/2}\\quad (x\\geqq R).\n",
    "$$\n",
    "\n",
    "ゆえに\n",
    "\n",
    "$$\n",
    "\\begin{aligned}\n",
    "\\int_1^\\infty e^{-x}x^{s-1}\\,dx &= \n",
    "\\int_1^R e^{-x}x^{s-1}\\,dx + \\int_R^\\infty e^{-x}x^{s-1}\\,dx \n",
    "\\\\ &\\leqq\n",
    "\\int_1^R e^{-x}x^{s-1}\\,dx + \\int_R^\\infty e^{-x/2}\\,dx\n",
    "\\\\ &=\n",
    "\\int_1^R e^{-x}x^{s-1}\\,dx + 2e^{-R/2} < \\infty.\n",
    "\\qquad \\QED\n",
    "\\end{aligned}\n",
    "$$\n",
    "\n",
    "**注意:** 指数函数部分 $e^{-x}$ を $e^{-x/2}$ と $e^{-x/2}$ に分けてその片方をもう1つの因子と比較するというような方法はよく使われる. $\\QED$"
   ]
  },
  {
   "cell_type": "markdown",
   "metadata": {},
   "source": [
    "**(4)** $p>0$, $q>0$ に対するベータ函数の定義 $\\ds B(p,q)=\\int_0^1 x^{p-1}(1-x)^{q-1}\\,dx$ の被積分函数は,  $0<p<1$ ならば積分区間の左端で, $0<q<1$ ならば積分区間の右端で発散している.\n",
    "\n",
    "しかし, $p>0$ ならば $p<1$ であっても $\\ds \\int_0^1 x^{p-1}\\,ds=\\frac{1}{p}$ (有限の値)となることから左端でも積分は収束する. 同様にして, $q>0$ ならば右端でも積分は収束する.\n",
    "\n",
    "**(5)** $a>0$ と仮定する. $f(x)=e^{-x^2/a}$ のFourier変換\n",
    "\n",
    "$$\n",
    "\\hat{f}(p) = \n",
    "\\int_{-\\infty}^\\infty e^{-ipx} f(x)\\,dx =\n",
    "\\int_{-\\infty}^\\infty e^{-x^2/a}\\cos(px)\\,dx\n",
    "$$\n",
    "\n",
    "の積分区間は無限区間である. $x\\to\\pm\\infty$ で $e^{-x^2/a}$ が急速に $0$ に近付くのでこの積分は絶対収束する."
   ]
  },
  {
   "cell_type": "markdown",
   "metadata": {},
   "source": [
    "**問題(三角函数のLaplace変換):** $s>0$ と仮定する. 次の公式を示せ:\n",
    "\n",
    "$$\n",
    "\\int_0^\\infty e^{-st}\\cos(pt)\\,dt = \\frac{s}{s^2+p^2}, \\quad\n",
    "\\int_0^\\infty e^{-st}\\sin(pt)\\,dt = \\frac{p}{s^2+p^2}.\n",
    "$$\n",
    "\n",
    "**解答例1:** $\\ds f(s) = \\int_0^\\infty e^{-st}\\cos(pt)\\,dt$ とおく.  $\\ds \\frac{\\d}{\\d t}\\left(\\frac{e^{-st}}{-s}\\right)=e^{-st}$ を使った部分積分を2回行う.\n",
    "\n",
    "$$\n",
    "\\begin{aligned}\n",
    "f(s) &=\n",
    "\\int_0^\\infty e^{-st}\\cos(pt)\\,dt =\n",
    "\\left[\\frac{e^{-st}}{-s}\\cos(pt)\\right]_0^\\infty -\n",
    "\\int_0^\\infty \\frac{e^{-st}}{-s}\\;(-p\\sin(pt))\\,dt\n",
    "\\\\ &=\n",
    "\\frac{1}{s} -\n",
    "\\frac{p}{s}\\int_0^\\infty e^{-st}\\sin(pt)\\,dt =\n",
    "\\frac{1}{s} -\n",
    "\\frac{p}{s}\\left(\n",
    "\\left[\\frac{e^{-st}}{-s}\\sin(pt)\\right]_0^\\infty -\n",
    "\\int_0^\\infty \\frac{e^{-st}}{-s}\\;p\\cos(pt)\\,dt\n",
    "\\right)\n",
    "\\\\ &=\n",
    "\\frac{1}{s} -\n",
    "\\frac{p^2}{s^2}f(s).\n",
    "\\end{aligned}\n",
    "$$\n",
    "\n",
    "これを $f(s)$ について解けば前者の公式が得られる.\n",
    "\n",
    "$\\ds g(s) = \\int_0^\\infty e^{-st}\\sin(pt)\\,dt$ とおく.  上と同様にして,\n",
    "$$\n",
    "\\begin{aligned}\n",
    "g(s) &=\n",
    "\\int_0^\\infty e^{-st}\\sin(pt)\\,dt =\n",
    "\\left[\\frac{e^{-st}}{-s}\\sin(pt)\\right]_0^\\infty -\n",
    "\\int_0^\\infty \\frac{e^{-st}}{-s}\\;p\\cos(pt)\\,dt\n",
    "\\\\ &=\n",
    "\\frac{p}{s}\\int_0^\\infty e^{-st}\\cos(pt)\\,dt =\n",
    "\\frac{p}{s}\\left(\n",
    "\\left[\\frac{e^{-st}}{-s}\\cos(pt)\\right]_0^\\infty -\n",
    "\\int_0^\\infty \\frac{e^{-st}}{-s}\\;(-p\\sin(pt))\\,dt\n",
    "\\right)\n",
    "\\\\ &=\n",
    "\\frac{p}{s}\\left(\n",
    "\\frac{1}{s} - \\frac{p}{s}g(s)\n",
    "\\right).\n",
    "\\end{aligned}\n",
    "$$\n",
    "\n",
    "これを $g(s)$ について解けば後者の公式が得られる. $\\QED$"
   ]
  },
  {
   "cell_type": "markdown",
   "metadata": {},
   "source": [
    "**解答例2:** $e^{ipx}=\\cos(px)+i\\sin(px)$ を用いて一挙に計算する.\n",
    "\n",
    "$$\n",
    "\\int_0^\\infty e^{-st}e^{ipx}\\,dx =\n",
    "\\int_0^\\infty e^{-(s-ip)t}\\,dx =\n",
    "\\left[\\frac{e^{-(s-ip)t}}{-(s-ip)}\\right]_0^\\infty =\n",
    "\\frac{1}{s-ip} = \\frac{s+ip}{s^2+p^2}.\n",
    "$$\n",
    "\n",
    "この結果の実部と虚部のそれぞれから示したい公式の前者と後者が得られる. $\\QED$\n",
    "\n",
    "部分積分を2回繰り返すよりも計算が圧倒的に平易になっている."
   ]
  },
  {
   "cell_type": "code",
   "execution_count": 10,
   "metadata": {},
   "outputs": [
    {
     "data": {
      "text/latex": [
       "\\begin{bmatrix}\\frac{s}{p^{2} + s^{2}}\\\\\\frac{p}{p^{2} + s^{2}}\\end{bmatrix}"
      ],
      "text/plain": [
       "2-element Array{SymPy.Sym,1}:\n",
       " s/(p^2 + s^2)\n",
       " p/(p^2 + s^2)"
      ]
     },
     "execution_count": 10,
     "metadata": {},
     "output_type": "execute_result"
    }
   ],
   "source": [
    "t, s, p = symbols(\"t s p\", positive=true)\n",
    "[\n",
    "    simplify(integrate(exp(-s*t)*cos(p*t), (t,0,oo))),\n",
    "    simplify(integrate(exp(-s*t)*sin(p*t), (t,0,oo)))\n",
    "]"
   ]
  },
  {
   "cell_type": "markdown",
   "metadata": {},
   "source": [
    "### 条件収束する広義積分の例\n",
    "\n",
    "以下は条件収束する広義積分に関する有名な公式である. \n",
    "\n",
    "**(1)** **Dirichlet積分**(ディリクレ積分): $\\ds \\int_0^\\infty \\frac{\\sin x}{x}\\,dx = \\frac{\\pi}{2}$.\n",
    "\n",
    "**(2)** Dirichelet積分の一般化:\n",
    "\n",
    "$$\n",
    "\\int_0^\\infty \\frac{e^{-ax}\\sin x}{x}\\,dx = \n",
    "\\int_a^\\infty\\frac{dt}{1+t^2} = \\frac{\\pi}{2} - \\arctan a\n",
    "\\quad (a\\geqq 0).\n",
    "$$\n",
    "\n",
    "これはDirichlet積分になる $a=0$ の場合にのみ条件収束する.\n",
    "\n",
    "**(3)** **Fresnel積分の特殊値**(フレネル積分の特殊値): \n",
    "\n",
    "$$\n",
    "\\int_{-\\infty}^\\infty \\cos(t^2)\\,dt = \n",
    "\\int_{-\\infty}^\\infty \\sin(t^2)\\,dt = \n",
    "\\sqrt{\\frac{\\pi}{2}}.\n",
    "$$\n",
    "\n",
    "**(4)** 上の続き. (3)における被積分函数は $t$ の偶函数なので $(0,\\infty)$ 上の積分に書き直して, $t=\\sqrt{x}$ と置換すると\n",
    "\n",
    "$$\n",
    "\\int_0^\\infty \\frac{\\cos x}{\\sqrt{x}}\\,dx = \n",
    "\\int_0^\\infty \\frac{\\sin x}{\\sqrt{x}}\\,dx = \n",
    "\\sqrt{\\frac{\\pi}{2}}.\n",
    "$$\n",
    "\n",
    "これらの公式の証明については\n",
    "\n",
    "* 黒木玄, <a href=\"https://genkuroki.github.io/documents/20160501StirlingFormula.pdf\">ガンマ分布の中心極限定理とStirlingの公式</a>\n",
    "\n",
    "を参照せよ. (1), (2)の証明は第5.5節とを参照せよ. (1), (3), (4)の証明は第8.6節を参照せよ."
   ]
  },
  {
   "cell_type": "markdown",
   "metadata": {},
   "source": [
    "**Fresnel積分:** 次の不定積分をFresnel積分と呼ぶ:\n",
    "\n",
    "$$\n",
    "x(t) = \\int_0^t \\cos(s^2)\\,ds, \\quad y(t) = \\int_0^t \\sin(s^2)\\,ds.\n",
    "$$\n",
    "\n",
    "上で紹介したように, 条件収束する広義積分の例として, \n",
    "\n",
    "$$\n",
    "\\lim_{t\\to^\\infty}x(t)=\n",
    "\\lim_{t\\to^\\infty}y(t)=\n",
    "\\frac{1}{2}\\sqrt{\\frac{\\pi}{2}}\n",
    "$$\n",
    "\n",
    "は有名である. $x'(t)^2+y'(t)^2=1$ なので $(x(t),y(t))$ の運動の速さは常に $1$ である. だから時刻 $0$ から $t$ までの軌跡の長さは $t$ に等しい.  だから軌跡の長さは $t\\to\\infty$ で無限大に発散する. 無限に長い軌跡の最終到着地点が $a=\\sqrt{\\pi/2}/2$ に対する点 $(a,a)$ になる.\n",
    "\n",
    "次のセルで $(x(t),y(t))$ の軌跡をプロットしてみよう. $\\QED$"
   ]
  },
  {
   "cell_type": "code",
   "execution_count": 25,
   "metadata": {},
   "outputs": [
    {
     "data": {
      "text/html": [
       "<img src=\"data:image/png;base64,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\">"
      ]
     },
     "metadata": {},
     "output_type": "display_data"
    }
   ],
   "source": [
    "X(t) = quadgk(s->cos(s^2), 0, t)[1]\n",
    "Y(t) = quadgk(s->sin(s^2), 0, t)[1]\n",
    "A = sqrt(π/2)/2\n",
    "\n",
    "P = []\n",
    "for (lw, tmax) in [(1,7), (0.6,10), (0.4,20), (0.25,40)]\n",
    "    t = 0:0.01:tmax\n",
    "    p = plot(xlims=(0,1), ylims=(0,1), legend=false)\n",
    "    plot!(title=\"Euler spiral (t = 0 to $tmax)\", titlefontsize=10)\n",
    "    plot!(X.(t), Y.(t), lw=lw)\n",
    "    scatter!([A],[A])\n",
    "    push!(P, p)\n",
    "end\n",
    "pngplot(P..., size=(600, 600))"
   ]
  },
  {
   "cell_type": "code",
   "execution_count": 11,
   "metadata": {},
   "outputs": [
    {
     "data": {
      "text/latex": [
       "$$\\frac{\\pi}{2}$$"
      ],
      "text/plain": [
       "pi\n",
       "--\n",
       "2 "
      ]
     },
     "execution_count": 11,
     "metadata": {},
     "output_type": "execute_result"
    }
   ],
   "source": [
    "x = symbols(\"x\", positive=true)\n",
    "integrate(x^(-1)*sin(x), (x,0,oo))"
   ]
  },
  {
   "cell_type": "code",
   "execution_count": 12,
   "metadata": {},
   "outputs": [
    {
     "data": {
      "text/latex": [
       "$$- \\operatorname{atan}{\\left (a \\right )} + \\frac{\\pi}{2}$$"
      ],
      "text/plain": [
       "           pi\n",
       "-atan(a) + --\n",
       "           2 "
      ]
     },
     "execution_count": 12,
     "metadata": {},
     "output_type": "execute_result"
    }
   ],
   "source": [
    "a, x = symbols(\"a, x\", positive=true)\n",
    "integrate(exp(-a*x)*x^(-1)*sin(x), (x,0,oo))"
   ]
  },
  {
   "cell_type": "code",
   "execution_count": 13,
   "metadata": {},
   "outputs": [
    {
     "data": {
      "text/latex": [
       "\\begin{bmatrix}\\frac{\\sqrt{2} \\sqrt{\\pi}}{2}\\\\\\frac{\\sqrt{2} \\sqrt{\\pi}}{2}\\end{bmatrix}"
      ],
      "text/plain": [
       "2-element Array{SymPy.Sym,1}:\n",
       " sqrt(2)*sqrt(pi)/2\n",
       " sqrt(2)*sqrt(pi)/2"
      ]
     },
     "execution_count": 13,
     "metadata": {},
     "output_type": "execute_result"
    }
   ],
   "source": [
    "x = symbols(\"x\", positive=true)\n",
    "[\n",
    "    integrate(cos(x^2), (x,-oo,oo)),\n",
    "    integrate(sin(x^2), (x,-oo,oo))\n",
    "]"
   ]
  },
  {
   "cell_type": "code",
   "execution_count": 14,
   "metadata": {},
   "outputs": [
    {
     "data": {
      "text/latex": [
       "\\begin{bmatrix}\\frac{\\sqrt{2} \\sqrt{\\pi}}{2}\\\\\\frac{\\sqrt{2} \\sqrt{\\pi}}{2}\\end{bmatrix}"
      ],
      "text/plain": [
       "2-element Array{SymPy.Sym,1}:\n",
       " sqrt(2)*sqrt(pi)/2\n",
       " sqrt(2)*sqrt(pi)/2"
      ]
     },
     "execution_count": 14,
     "metadata": {},
     "output_type": "execute_result"
    }
   ],
   "source": [
    "x = symbols(\"x\", positive=true)\n",
    "[\n",
    "    integrate(x^(-Sym(1)/2)*cos(x), (x,0,oo)),\n",
    "    integrate(x^(-Sym(1)/2)*sin(x), (x,0,oo))\n",
    "]"
   ]
  },
  {
   "cell_type": "markdown",
   "metadata": {},
   "source": [
    "**問題:** $a>0$ のとき, 広義積分\n",
    "\n",
    "$$\n",
    "\\int_1^\\infty \\frac{\\sin x}{x^a}\\,dx = \\lim_{R\\to\\infty}\\int_1^R \\frac{\\sin x}{x^a}\\,dx\n",
    "$$\n",
    "\n",
    "が収束することを示せ. \n",
    "\n",
    "**解答例:** 部分積分によって\n",
    "\n",
    "$$\n",
    "\\begin{aligned}\n",
    "\\int_1^R \\frac{\\sin a}{x^a}\\,dx &= \n",
    "\\int_1^R x^{-a}(-\\cos x)'\\,dx \n",
    "\\\\ &=\n",
    "[-x^{-a}\\cos x]_1^R -\\int_1^R (x^{-a})'(-\\cos x)\\,dx\n",
    "\\\\ &=\n",
    "-R^{-a}\\cos R+\\cos 1 - a\\int_1^R x^{-a-1}\\cos x\\,dx.\n",
    "\\end{aligned}\n",
    "$$\n",
    "\n",
    "第1項の $-R^{-a}\\cos R$ は $R\\to\\infty$ で $0$ に収束し, 第3項の積分は\n",
    "\n",
    "$$\n",
    "\\int_1^R |x^{-a-1}\\cos x|\\,dx \\leqq\n",
    "\\int_1^R x^{-a-1}\\,dx =\n",
    "\\left[\\frac{x^{-a}}{-a}\\right]_1^R =\n",
    "\\frac{1-R^{-a}}{a}\n",
    "$$\n",
    "\n",
    "なので $R\\to\\infty$ で絶対収束する. これで示すべきことがすべて示された. $\\QED$\n",
    "\n",
    "**解説:** \n",
    "$$\n",
    "\\int_1^R x^{-a}\\,dx = \\begin{cases}\n",
    "\\dfrac{1-R^{1-a}}{1-a} & (a\\ne 1) \\\\\n",
    "\\log R & (a=1)\n",
    "\\end{cases}\n",
    "$$\n",
    "\n",
    "なので, $a\\leqq 1$ のとき, この積分は $R\\to\\infty$ で無限大に発散する. しかし, $x^{-a}$ を微分すると, $-a x^{-(a+1)}$ になり, $a>0$ ならば $a+1>1$ となり, $x^{-(a+1)}$ の $1$ から $\\infty$ までの積分が収束することを使える.  上の問題の解答例では, 部分積分によってそれを実現している.  絶対収束しない積分を上手に部分積分すると絶対収束する形に直せることがよくある. 部分積分はこの意味での非常に有用である. $\\QED$"
   ]
  },
  {
   "cell_type": "markdown",
   "metadata": {},
   "source": [
    "**問題:** $a(x)$, $b(x)$ は $x\\geqq 1$ の連続函数であるとし, $A(x)=\\int_1^x a(\\xi)\\,d\\xi$ とおく. $A(x)$ は $x\\geqq 1$ で有界であると仮定する: $A(x)\\leqq M$ ($x\\geqq 1$). さらに $b(x)$ は単調減少な $C^1$ 函数でかつ $x\\to\\infty$ で $b(x)\\to 0$ となっていると仮定する(特に $b(x)\\geqq 0$ ($x\\geqq 0$) である). このとき, 広義積分\n",
    "\n",
    "$$\n",
    "\\int_1^\\infty a(x)b(x)\\,dx = \\lim_{R\\to\\infty}\\int_1^R a(x)b(x)\\,dx\n",
    "\\tag{1}\n",
    "$$\n",
    "\n",
    "が収束することを示せ.\n",
    "\n",
    "**解答例:** 部分積分によって,\n",
    "\n",
    "$$\n",
    "\\int_1^R a(x)b(x)\\,dx = A(R)b(R) - A(1)b(1) - \\int_1^R A(x) b'(x)\\,dx.\n",
    "\\tag{2}\n",
    "$$\n",
    "\n",
    "そして, $x\\geqq 1$ のとき, $|A(x)|\\leqq M$ かつ $b(x)$ の単調減少性より $b'(x)\\leqq 0$ なので,\n",
    "\n",
    "$$\n",
    "|A(x)b'(x)|\\leqq -Mb'(x) \\quad (x\\geqq 1).\n",
    "$$\n",
    "\n",
    "ゆえに, $b(x)\\geqq 0$ であることも使うと, \n",
    "\n",
    "$$\n",
    "\\int_1^R |A(x) b'(x)|\\,dx \\leqq -\\int_1^R M b'(x)\\,dx = M(b(1)-b(R)) \\leqq M b(1) < \\infty.\n",
    "$$\n",
    "\n",
    "これで, 上の(2)の右辺の積分が絶対収束することがわかった.  (2)の右辺の $A(R)b(R)$ は $R\\to\\infty$ のとき $b(R)\\to 0$ より $0$ に収束する. これで, (1)の広義積分が収束することがわかった. $\\QED$\n",
    "\n",
    "**注意:** 上の解答例と\n",
    "\n",
    "* 黒木玄, <a href=\"http://nbviewer.jupyter.org/github/genkuroki/Calculus/blob/master/02%20series.ipynb\">02 級数</a> の <a href=\"http://nbviewer.jupyter.org/github/genkuroki/Calculus/blob/master/02%20series.ipynb#%E6%9D%A1%E4%BB%B6%E5%8F%8E%E6%9D%9F%E3%81%99%E3%82%8B%E8%A4%87%E7%B4%A0%E7%B4%9A%E6%95%B0%E3%81%AE%E4%BE%8B\">2.2  条件収束する複素級数の例</a>\n",
    "\n",
    "にある「例の解説のための一般論」を比較してみよ.  積分と和の違いに過ぎず, 本質的には同じ内容であることがわかる. $\\QED$"
   ]
  },
  {
   "cell_type": "markdown",
   "metadata": {},
   "source": [
    "## 積分と極限の交換\n",
    "\n",
    "このノートを含む一連のノート群では安全な極限の交換しか扱わない.\n",
    "\n",
    "読者は積分と極限の交換, 積分と微分の交換, 積分順序の交換などを形式的に自由にできることを認めて読んで欲しい.\n",
    "\n",
    "もしくは以下の結果が証明抜きで自由に使用されると考えてもよい.\n",
    "\n",
    "**(J)** **積分の順序交換:** $\\ds\\int_a^b\\left(\\int_c^d |f(x,y)| \\,dy\\right)\\,dx < \\infty$ ならば\n",
    "\n",
    "$$\n",
    "\\int_a^b\\left(\\int_c^d f(x,y) \\,dy\\right)\\,dx = \\int_c^d\\left(\\int_a^b f(x,y) \\,dx\\right)\\,dy.\n",
    "$$\n",
    "\n",
    "**(K)** **積分記号化での微分:** 各パラメーター $\\alpha$ について $\\int_a^b|f(\\alpha,x)|\\,dx <\\infty$ であり, 各 $x\\in(a,b)$ について偏導函数(偏微分)\n",
    "\n",
    "$$\n",
    "\\frac{\\d f(\\alpha, x)}{\\d\\alpha} = \\lim_{h\\to 0}\\frac{f(\\alpha+h,x)-f(\\alpha,x)}{h}\n",
    "$$\n",
    "\n",
    "が存在し, ある非負値函数 $\\varphi(x)\\geqq 0$ で $$ かつ\n",
    "\n",
    "$$\n",
    "\\int_a^b \\varphi(x)\\,dx<\\infty, \\qquad\n",
    "\\left|\\frac{\\d f(\\alpha,x)}{\\d\\alpha}\\right| \\leqq \\varphi(x)\\quad (a<x<b)\n",
    "$$\n",
    "\n",
    "を満たすものが存在するならば,\n",
    "\n",
    "$$\n",
    "\\frac{d}{d\\alpha}\\int_a^b f(\\alpha,x)\\,dx = \\int_a^b \\frac{\\d f(\\alpha,x)}{\\d\\alpha}\\,dx.\n",
    "$$\n",
    "\n",
    "**(L)** **Lebesgue(ルベーグ)の収束定理:** 函数列 $f_n(x)$ は各点収束している(すなわち各 $x\\in(a,b)$ ごとに数列 $f_n(x)$ が収束している)とし, ある非負値函数 $\\varphi(x)\\geqq 0$ で\n",
    "\n",
    "$$\n",
    "\\int_a^b \\varphi(x)\\,dx <\\infty\n",
    "$$\n",
    "\n",
    "を満たすものが存在すると仮定する. このとき, \n",
    "\n",
    "$$\n",
    "\\lim_{n\\to\\infty}\\int_a^b f_n(x)\\,dx = \\int_a^b \\lim_{n\\to\\infty} f_n(x)\\,dx.\n",
    "$$\n",
    "\n",
    "以上は少々荒い説明の仕方になっている. 正確でかつより一般的な結果およびその証明については\n",
    "\n",
    "* 猪狩惺, 『<a href=\"https://www.amazon.co.jp/dp/4000054449\">実解析入門</a>』, 岩波書店, 1996\n",
    "\n",
    "など多くの教科書に書いてある. この本は品切れで中古本にプレミア価格がついている. 大学の図書館などで借りて読めば安上がりである. その本において, (L)はp.78の定理3.23に, (K)はp.79の例3.3に, (J)のより正確な表現であるFubiniの定理はpp.120-123に書いてある."
   ]
  },
  {
   "cell_type": "markdown",
   "metadata": {},
   "source": [
    "### 積分と極限が交換できない場合\n",
    "\n",
    "このノートを含む一連のノート群では安全な極限の交換しか行わないが, 積分と極限が交換できない例は非常に簡単に作れる. 以下を見よ."
   ]
  },
  {
   "cell_type": "markdown",
   "metadata": {},
   "source": [
    "**例(Lebesgueの収束定理の結論が成立しない場合1):** 函数列 $f_n(x)$ を\n",
    "\n",
    "$$\n",
    "f_n(x) = \\begin{cases}\n",
    "1/n & (0< x \\leqq n) \\\\\n",
    "0   & (\\text{otherwise}) \\\\\n",
    "\\end{cases}\n",
    "$$\n",
    "\n",
    "と定める. さらに函数 $g(x)$ を\n",
    "\n",
    "$$\n",
    "g(x) = \\max\\{f_n(x)\\}_{n=1}^\\infty = \\begin{cases}\n",
    "1/n & (n-1<x\\leqq n) \\\\\n",
    "0   & (\\text{otherwise}) \\\\  \n",
    "\\end{cases}\n",
    "$$\n",
    "\n",
    "と定める. このとき, 任意の実数 $x$ について $\\ds\\lim_{n\\to\\infty}f_n(x)= 0$ だが, $\\ds\\int_0^\\infty f_n(x)\\,dx = 1$ なので, \n",
    "\n",
    "$$\n",
    "\\ds \\lim_{n\\to\\infty}\\int_0^\\infty f_n(x)\\,dx=1\\ne0=\\int_0^\\infty \\lim_{n\\to\\infty}f_n(x)\\,dx\n",
    "$$\n",
    "\n",
    "となる. そして, \n",
    "\n",
    "$$\n",
    "\\int_0^\\infty g(x)\\,dx = \\sum_{n=1}^\\infty\\frac{1}{n} = \\infty\n",
    "$$\n",
    "\n",
    "であることにも注意せよ. $\\QED$\n",
    "\n",
    "**問題:** 上の問題の $f_n(x)$, $g(x)$ のグラフを描け.\n",
    "\n",
    "**解答例:** 次のセルをみよ. $\\QED$"
   ]
  },
  {
   "cell_type": "code",
   "execution_count": 24,
   "metadata": {},
   "outputs": [
    {
     "data": {
      "text/html": [
       "<img src=\"data:image/png;base64,iVBORw0KGgoAAAANSUhEUgAAAu4AAAJYCAIAAACy7PT1AAAABmJLR0QA/wD/AP+gvaeTAAAgAElEQVR4nOzdbXBj133n+f8B+NRNNVvdLY0Sr912VgCd0Ei0HiW7Y8D2lCuTKYO9UlquNcu7yWw7UoaUdz0GE207Hm/X7E6ZUSrTLhXhSdlDlvNCnlFmDM3WMuNpwruVzYwkE3mwo7G1MGUT15PYidcy3d1SW+IDCFycfQECDTafgAvcg/vw/bwxRdyLc8H+4fqPc/84V2mtBQAAwJ8i/T4AAAAA5yhlAACAj1HKAAAAH6OUAQAAPkYpAwAAfIxSBgAA+Ni+UsbKptRM/oAt8zNKKaVUKmsZOC7AANKO8CDtCK69pUx+RsVnCwdsZmVTk7KstdalqVz8wLcD4C+kHeFB2hFot0uZ/IxSk8X55fnkAZuVVgvTF9MiIrELU8nFJfIOXyPtCA/SjsC7XcqkF7TWK5n4QVtZa8XkxO4jsfGEFNeYiISfkXaEB2lH4A20tVVptSATDp5da/3xJ+f//NvfE5GHH3743e9+d0e73zUo42MOhpVaraa1jkajTnbuQrVajUajSimTg4bqxWqtI5HIwEB7uXWmi7TPzc199atfFZFHH330woULvT6yg4UqAKF6saR9v1AFIFQvtsu0t7dbfOKgmcnj7ezsPPWftn7p4ccnBq5H7nvLd35ca3/fb91Sf/wD+aO/38EuTRsbG7Ztj405qoO6cP369bNnzxpO3vb29vb29t13321yUBF59dVX77rrrqGhIZODVioV10/uXaT9U5/61DPPPCMi4+Pjtm339rgOQ9oNIO13IO0GkPb2tbdbbDxRWCqJxETEWitK4mKs3QGUUr+SjP+D2Ns7PbIXXtH/8Yf2yIiTv6Zt27Ztj4yMONi3G8PDwyMjI+aLaK11v16s4bhHo1HXT5rdpf2DH/ygi8d2ENJuAGnfj7QbQNrb1Oa6MvGJ5OJc1hIR61qu0SXWLsezVNyzG/3QVdoBXyHtCIIjS5nb6xDEMivLidm4UiqemyotmEi70ct0QF/TDhhF2hEs+y4wxTIr+qCfJb2g9YKjMZwVJUqJZloGrnIh7YBHkXYEl6dvXEAlAwAAjmailHH2lS4uMAEAgGMZKWWc7cUFJgAAcBwuMAEAAB/z8KxMj48CAAAEkHd7ZYRZGQAAcBzvXmBiVgYAABzLwxeYaPsFAADH8e6sjHCBCQAAHMe7vTJcYAIAAMfiAhMAAPAxT19gAgAAOJqHZ2XolQEAAMfxbq+MUMoAAIDjePcCE22/AADgWB6+wETbLwAAOI53Z2WEC0wAAOA43u2V4QITAAA4lncvMIlwgQkAABzDuxeYHH/vCQAAhId3Z2VYVwYAABzLu70yQikDAACO4+ELTP0+AAAA4H2tpUx+RimllEplrf0bWtlU/VE1k+9wDOWoLGFdGbjJrbQD3kPaEXADjR+sbGpSlrVOi5VNxWfG9UK6ZbP8TDw3VdIrMbGyqXgqW1rJxNw/OA9WMs8888ynP/3pwx61bTsajZo8HhHRWmutIxHTE2y1Wq1+/utor6eeeup973ufS4fUNi+m3YNIexNpDzzS3uTHtDdLmdJqYfpiWkQkdmEqObuUX0jfzru1VkxOXY6JiMQyV6Znl0oi7cc9SOvKrK+vv+Md73jiiSf6fSC+9MQTT7z22mv9PgpxNe1BQtq7Qdr9hbR3o+9pb5Qy1loxOXG5/nNsPCG5NUvSzUTHxhOFuWtWJhMTKzu3mJy63PYAWutvvfzymb9+7fz58/fdd1/7R1atSq0mlUql/V2aKpWKbdvO9j2abdv33nvvO9/5zp4/cxicPn26y3+X3vybupn2QqEgIp2mvRuk3ZtIuxtIuzf1Pe2NUqa0WpCJwzdLL2iZqc83Jec7moHUWn/uc5975rsrjz/++Ac+8IH2j+yNNyK12uitW6+3v0vT5uambdvahV6b7e3tnj9neGitNzY2bt265fgZKpXK6Ohot8fhWtprtdpHP/pREek07d0g7d5E2t1A2r2p72lvlDLxieQRW1nZVDw3VdI6Vm8gm1nee7n1CJFI5J/Pfyb9lo6vF/1oQEei9j333NPpjiKysbFh2/bY2JiDfY82Ojp648aNnj9tSCilxsbGnP2b1tU/k3V7HK6lPRqNvvjii90eXodIuzeRdjeQdm/qe9ob/USx8URhtVT/2VorSmK8tTgvrRaSUxfqv0lfnJbi2gF98IdiXRl4i5tpB7yFtCMEmq3R8Ynk4lzWEhHrWq7RJdbyYCF3rR7x/NLiHW8Gd3iz7ReB4Lm0A64h7Qi+ZikTy6wsJ2bjSql4bqpUn2K0sqn6SgO3H1RqsjhfancGss7hjQtYVwZucTHtgMeQdgTfQMvP6QWtF1ofjGVW9KEPAn5G2hEepB0B5917MHE7SQAAcCzv3hlbKGUAAMBxuJ1kSOzeZ+XAe7Ds3WrPfVisbOqAXQ7+LeARx6X99l2H9sSdtMOHjkt74wZcKtDndu/OytD220vWtVxhelnro1bAys+o+Gxhz17ZS7mpp/fvEss8PZW75MvAIwSOSfvuXYe01ro0X5xsnLlJO/zo6LQ3bsC1G/ZmMRO4tHu3V0a4wNQz+Zn4bEEWJ48u3CeL88vzratp5a/OJq5k6ktn1fds+d7DlcTsVe6jC+85Lu35pcXpK7vn8FjmyvTuoiukHT50XNpjmZXGmoexC1PJxaV6jIOXdi4whUF6oTSflOnlwydl0gta65VMvPV3+aXF3TUo0gvLidmreclfnU0s774v0henG28LwEOOS3t6oWU92/zSYnIiLqQd/nT8ub2pZVWhAKZ94PhNuhaGC0xf+l7t97/d/8N9+K3q0fEelaetd6GT9OX5ubhaTM6Xmt/ajE8ki3tuTIewCErarWxqsjhfWoiRdhwqCGm3sqn4bEGS86X6qkIBTLuRUiYEEywTd6sPj/f7IERiY737W++9C13swlRyVhornCPUApH2/IyaLDbvn0jacYggpD2WWdGZ3atJpZVMENNuopRxxl/rytw/pu7vYRnhBXvvQpe/OpuYnp69ms+wHGjo+T7tVjYVn00s65Vmlkk7DuH7tN+Wvjg9uVQKZtq9+w0m8VUpE0B77kKXnSvOX164PF+cazaXlVYL3K8F/tOoY/act0k7AqnZ1ityuzMsiGmn7ReHaTZ/WdlL9Xb3WOZKYnb3i3q3G8cAH7Gu5Qoii5NK7Vltg7QjiNILpalcfDfpcxO7F1QDmHbafsOh9ZYrbW+Wvjw/dylrpTO3f5te0Lt3o5srzj/NjVvgRUemfbdtYB/SDl867tx+YOCDl3bWlQmTlkVOWxy+uONhyyUdtrwS4B2kHeER+rR7uu0XPXbYB9Ij91hp97eAl5B2hEfo0+7ttl+mZQAAwJG8W8qEYTUaAADQJU9/g4lJGQAAcDTafgEAgI95elYGAADgaJ7ulaHtFwAAHM3jF5ioZQAAwFG8vK6MFy8xjYyMPPfccx/72Mf6fSC+9NJLL/X7ENAB0t4N0u4vpL0bfU97aymTn1GTiyKSbN75vpWVTcVnC4c+fIQgrSvzkY98JBKJlMvlAx99/fXXR0dHIxGjHUiVSqVSqZw8edLkoCKysbExMjISjUbb3yWTyTzwwAPuHVIn3Ep7kJD2JtIeeKS9yZdp17tK80mZXt77U4vl6cbvlqclOV/Sbdne3o7+d0/+6Q9r7W2+xw829U/8qx0HO2qt33jjjVu3bjnbtxs//OEPq9Wq4UG3trZu3rxpeFCt9fXr18vlsuFBd3Z2tra2un4at9I+NDTU9bF1jLQbQNrvQNoNIO3ta9aYpdXC7s0wYxemkvW7Zt7WcqvM9II2Urizrgxc47m0A64h7Qi+RiljrRWTE/H6z7HxhBTXWu8zZa0VkxNrM8fdoeoQrCsDb3Ez7YC3kHaEQKNXprRakImjNizMrl7RekHEyqYuZS+0XbzXarWZmZlT17/12GOPPfTQQ+0f2a1ypFY7cfPmzfZ3adrc3LRtu1qtOti3G6+99ppSqqNLjN0rl8v1eTmTg4rIq6++WqlUhoaGTA5aqVROnDgxMjLS1bO4lnbbtt/73veKSKdp7wZpN4C070fa3Uba29coZeITyaM3TM5frk9CxsYThblrVqbNvCulfu3Sh8eHfhyPx0dHR9s/sq0BJSId7dLKtm3H+zq2ubk5OjpqOO7RaFQpZf7Flsvl0dFR83HvQeeda2mPRCKf/OQnRaTTtHeJtLuNtO9H2t1G2tvXKGVi44nCUkkkJiLWWlESF1vTHBtPyJqzAZRSyeS7fv6eji8yDWlRqjI87OSvWa1WbdseHh52sG83hoaGhoeHDcdda12r1fr1Yg3HPRKJ2Lbd7bO4mfb3v//93R5eh0i7AaR9P9LuNtLewe6NH+ITycW5rCUi1rVco0usKX0xMXu13i1mrRWTUxfc7w2j7Reu8VzaAdeQdgRfs5SJZVaWE7NxpVQ8N1VaSIuIWNmUmqmHPL2wLJNKKaXiq1c67HIP0royCAQX0w54DGlH8LUukZde0Hqh9cFYZkUf/mjbHN+DCXCNW2kHvIe0I+A8fWdsJmUAAMDRPH47SQAAgKN4elYGAADgaEZmZZztpWj7BQAAx/D0BSYAAICjefoCE5MyAADgaN69wCSsKwMAAI7j3VKGy1IAAOBYXGACAAA+5um2X0oZAABwtIHjN+kTri/Bd3T8Pb/7jZrhQXd2og+elckxw8MCgFeYKGVo+0VI1H7mF194pZY4a7QO/5MfqOvbkcn7TY4JAB5ipJRxdGKn7Rd+9KH7I78aM9qC9jt/UXll0+SAAOAttP0CvWS+Alcipq9pAYCXePfL2EIpAx8yP5vILT4AhJx3SxmuL8GPzM9zMn8JIOQ8fIGJz5rwIfOzMhFFKQMg1Dy9rgzgO/3plaGWARBinr7AxPkZvkOvDAAY5t0LTMK6MvAhemUAwDAPz8pwWQo+RK8MABjm3VkZPmvCj/pQgWtNrwyAMPN02y/nZ/gOvTIAYFhrKZOfUUoppVJZ69DtrWxKzeQ7G4N1ZeA9bqWdXhl4j1tpBzyieeK1sqlJWdZa69JULn5Ioq3spdmCoSPjsyZc42La6ZWBx3ju3A70XLOUKa0Wpi+mRURiF6aSi0sH5N3KXsolppMdj0EDLzzGzbQbn09UIppJTBzKxbQDHtG4M7a1VkxOXK7/HBtPSG7NknSsdUsreyk39fTTcmlxtZMBtNbPP/fc2sB2PB5/85vf3P6ONS1aIuVyuZPRdpXLZdu2ne3bjZ2dnXK5HI1GTQ5abjA5qDRerDY7dVapVCKRrq/huJn2F1/8i4HV652mvRu2Xa1WHb5TukHa3eb9tH/5y18WEZNp59xugB/T3ihlSqsFmThiu3rYV2KS7XAArfVnP/vZkTdeeeyxxx566KH2d6xp0frUxsZGhwOKiGxubtq2bTh29XGHh4fNx31ra2toaMjkoCKysbGhlKpUKiYHrVQqJ06c6PZZ3Ez7s1/84h99/886TXs3Kju6Uh3Y2DB9viPtbvN42mu12pNPPikiJtPOud0AP6a9UcrEJ46aXGyGXQ5vGjtEJBLJffGLbzvV8QS4FhGpnD17ttMdRWR4eNi27bGxMQf7dqNarZ49e9Zw3Le3t0dGRs6cOWNyUBHRWp86dcrw26xSqdi23e2zuJn2q1f/2fvfbPRyz12jW0NvqLNnR0wOKqTdfR5PezQaff7557s4Mic4txvgx7Q35nNi44nCaqn+s7VWlMR4ywykdS1XKMzGlVIqPluQxckjG+F7hO9lwC1upp17MMFbvHduB3queWkqPpFcnMtaUg/3bpfYrlhmRe8qzSdlelmvZGL7n+swtP3CYwKVdr7rhyO5mHbAI5qlTCyzspyYjSul4rmp0kJapGcLDXRzbucUDRe4mHbWlYHHuJh2wCMGWn5OL2i90PpgLLNy5znygF+5h9kcuMattLOuDLzHc+d2oLc8feMC4ebY8Bt6ZQDAMO/eGVtosoEP9aFXhgtMAMLNu3fGFs7R8KE+9MrQ9gsg3Dw9KyNcYILf0CsDAIYNHL9J/3CBCb5DrwxCQsff87vfqBkedGcnqnVkeNjhuBffpt5+mv9fCSATpYzjioQLTPCdvpQyvE1gXu1nfvGFV2qJs0YjX6lIraaHlZPI/+F39f1jEUqZQDJSynRxeuccDX+JsEQeQuND90d+NWa0PWxjY9u27bGxkw72/cvXbeYvg8rrbb+Av/TjG0yaa7HoC/OFezciikuxgcW6MkAv0SuD8PD0R+F9IiKmW3tgiqe/wcRHTfgOvTIID2Zl4BGerqo5R8N36JVBeFDKwCM8PSsjXGCC3/RjXRmlqfnRD/4qZfhsHGDenpXx1fsEEHplECb+KmWYlQkwT7f9UkTDd+iVQXj4qpKhlAkyr19gAvyFXhmEB7My8AhvX2Di4yb8hnswITwivmoC4MvYAebpC0xC2y/8hl4ZhIenPwrvw6xMgHn6ApOvKn5AhF4ZhAkXmOARnq6qOUfDd+iVQXj4rpThjRJUnp6VEUoZ+A29MggPf5UyXIoNME/3yvjqbQKI0CuDMPFXKcMFpgDz9gUmZs7hN324wCS0laE/PP3/H/tQygRYaxTzM0oppVQqa+3f0Mqm1K6ZfGdjcJaF9wQn7VT8OI5raffVyZ0vYwdYs5SxsqlJWdZa69JULn5novMz8dxUSWutdWm+OHngG6L3aPuFO1xMu/lze4S3CY7iYtqZlYFHNKNYWi1MX0yLiMQuTCUXl/bkPb+0OH0lExMRkVjmynRhtdTBGKwrA4/xaNqdUZygcRQX006vDDyiUcpYa8XkRLz+c2w8IcW11to8vaAX0o3/yC8tNjdtC+vKwFvcTHsfTu6agh+HC1jau0ApE2ADu/9bWi3IRBvbW9nUZHG+tBBrd4Barfae97wnWtl8/PHHH3nkkc6OTo9dv3HDHuo4fZubm7Zt7+zsdLpjl27evKm1jkajJgctl8tbW1u2bZscVERu3rxZLpeHhoZMDlqpVEZHR0dGRrp6FjfT/ssPPzz04//PSdqdev31aqVy6vr1180M10Ta3eb9tH/40v84ur5qMu3dnNu3NodlQF2/vu1gX9Luti7T3ihl4hPJ4zfOz6jJ4nxpJdN22EWUUp++evVExD5//vzp06c7Ojil5NTY2OnhjnYSERkYGLBte2xsrOM9u1Mul0+fPm047tvb24ODg53+bbtXrVZPnTplPu49eBY30/6//ZN/8pNDOw7S7thdt7Yi0aj5AJB2t3k/7Zf/lyd+emTDZNq7ObefPCEDSk47+H8U0u6+LtPeKGVi44nCUkkkJiLWWlESF++ItJVNxWcTy3olfedTHE0p9a53/Z3RgeO3PGBfqQwODg4Odrzj4OBgJBJxsmd3BgcHBwcHDcfdtu1qtdqvF2t+3B58RnEz7b/wCz//1ruMTrsPDla0KNLuKtK+n1LqnQ888LfvMZx25+f2gaitRA0OOmlWJu0GdJP25j9qfCK5OJe1RMS6lmt0iTU0sr7QYda7RxcAXOBi2vuyrgzvEhwuUGnvhhKlea8EVLOUiWVWlhOzcaVUPDdVqufayqbUTL7+BhBZnFTK0fIDtP3CY7yYdsdYVwZHcjPtvjpF0/YbYK0XftILWi+0PhjLrNT/4TMrOmPyqHbxcROucSvtrCsD73Er7awrA4/w/O0kSR58hXVlEB7+usBEKRNg3r6dpK/eJ4CIRIynlslL9IvPShluXBBcnp4g5BwN36FXBuHhs1KGd0pwef0CE+Av9MogPDz9UXgfLsUGmLcvMHGOht/0pVdG83kB/eCzWRkuMAWX16tq5gPhL6wrg/DwWSnDrExwefoCE22/8B16ZRAelDLwCE/PyrA4I3yHXhmEh68qGUqZIPP0rIxwgQl+w7oyCA+fzcrQKxNc3m779dX7BBB6ZRAmPitlKPqDy+MXmDhHw2f60CvD2wR9Yn5ByG7QVRZgXr/ABPhLH3plOEGjTzz9UXgfLjAFmLcvMPFxE37Tj4+pmmlz9AUXmOARXq+q+bgJfzH/jqLiR79QysAjPH2ByVfXYQGRvnyDiVIGfUIpA4/w9KwM52j4Dr0yCA9KGXiEp0sZ4QIT/IZ1ZRAevqpkaPsNMgOljPOzLBeY4Dv0yiA8fDcrw2fjoHL/xNtddgge/KUvvTJU/egLr8/q76WYlQkuT0eR0zN8px+9MorPmugL383KcCk2qLx9gYlZGfhNn3pleKOgDyhl4BGev8BE8uAr3LgA4UEpA4/w9gUmX71PgL4UFZQy6BdKGXhEaymTn1FKKaVSWeuALY9+9HBdzKtwjoZrPJd2x/heBo7jTtr91s7Il7EDrFnKWNnUpCxrrXVpKhefye/d7OhHD6W11v24wPT973//u9/9bjfjOvPiiy/u7OwYHvTmzZvf/va3DQ8qIt/85jdv3bpleNCNjY2vf/3rXT+Na2mv2V0fW8deeeUHVbsPp2jS7jbSvl835/aIUo67yki727pMe7OUKa0Wpi+mRURiF6aSi0t7E330o4fa2dmpdRF3xxeYnn322c9//vOOx3Xs0UcfXV9fNzzoCy+88Nu//duGBxWRT3ziE9/4xjcMD/qd73xnenq666dxLe12H07u/+4P/3C7XDY/Lml3m+fTXu362DrWzblddTF/Sdrd1mXaB3b/11orJicu13+OjSckt2ZJOiZtPXqcj3/84yJy/vz5++67r6ODe+P1v/fkl/7yTGSro71E5M9/dHJz62/95h+sdLpjl348/ktzX3751Km/MTno2trmyyd/xvyL/at7HvwXX/vR8rrRcdfX17eGz3T7LC6mXTtOu2Mvr36zkoqQdleR9gPoPqS9WCzeunXr2WefdbDv16v3fXN74jf/wMk8B2l3W5dpb5QypdWCTBy61dGPHu6uu+56d+1bX/jC8+Io7uOn/sN3okMOxq3u7Axq/bW8k7h34+1nh771Ql6ZbVe2bftcrWL+xb5psPyDlwrr3/wzk4PWarXf+o1/1O2zeDLtjm3vVB78449/bXjYzHBNpN1tnk/7y+bTXi6XtdZf+MIXHOxbHTz5ltGf/JqjcUm727pMe6OUiU8kj9jq6EcPF4lEXvhSztGugGtIO8KDtCMEGr0ysfFEYbVU/9laK0pivHWO8ehHAX8h7QgP0o4QaLb9xieSi3NZS0Ssa7lGH5i09yjgL6Qd4UHaEQL6tuXd7uHkfKn+i9J8UqaXD3sU8DHSjvAg7Qg4pVldCwAA+JYbNy5wvnZkV6xsSu1qe52nXo5tdtDmqzX4V779Fzb1Wu/8u/YpWkch7YZGJO0eQNoNjUjaO9XzUsbh2pFdy8/Ec1P16dHSfHHS6FvNyl6aLZgbTkTyM/HVK1prrZcTs5fMvNbbf2FDf+D8jIq3/l37Fa0jkHYTSDtpJ+0uj+n/tPf6itXydPMS7J7LsS5rGXbff7msNJ9MTk+be6na8OvbVZpP3r6U7voBLE+LSHJ++Y4r+v2I1lFIuwGknbSTdjcFIu29npWx1orJiXj959h4QoprZiro9IJeaLbe55cWmwfhNit7KTf19GUni0w5H3OtmJxYMzzVGxtPFHLXLBERKzvn9h84vaC1Xsm0jtGvaB2BtJsYk7STdtLupkCkvdelTGnV7GzcflY2NVmcfzpjZHWEetjNjLVHYXb1Yr2GncoZmoRML+grq3GllIrnpkorxl90/6O1T/8PibS7hLTv0/9DIu0uCULae13KOF07skfyMyb/LfoWdpHk/OX6B5WWgtpdVjal5ibqs5BXVuPm2+/6HK2DkHYzSLsXkHYzSLsjvS5l+rh2pJVNqUlZ1sZqSutarlCYrdeyswVZnDQ1IRgbT5gYZq/SaiE5daH+p01fnDY/4+3BZUlJuwGknbSTdlcFI+1O+naOUppP7q60ZLRZrTSflD62xpluzLvdJbWnY8tNt/9h641bRl7unr9rn6J1FNJuAmkn7aTdRYFIe89LGd2XtSNL83dOUJmNvvmzTeOPbLi5Xsz+0975d/XgsqSk3QDS7hGk3QDS7gSr/QIAAB9zY7VfAAAAQyhlAACAj1HKAAAAH6OUAQAAPkYpAwAAfIxSBgAA+BilDAAA8DFKGQAA4GOUMgAAwMcoZQAAgI9RygAAAB+jlAEAAD5GKQMAAHyMUgYAAPgYpQwAAPAxShkAAOBjlDIAAMDH9pUyVjalZvIHbJmfUUoppVJZy8BxAQaQdoQHaUdw7S1l8jMqPls4YDMrm5qUZa21Lk3l4ge+HQB/Ie0ID9KOQLtdyuRnlJoszi/PJw/YrLRamL6YFhGJXZhKLi6Rd/gaaUd4kHYE3u1SJr2gtV7JxA/aylorJid2H4mNJ6S4xkQk/Iy0IzxIOwJvoK2tSqsFmXDw7Frrubm5r371qyLy6KOPXrhwwcGTOFCr1bTW0WjUzHBN1Wo1Go0qpUwOGqoXq7WORCIDA+3l1hnS3h7S7jbSvl+oAhCqF9tl2tvbLT5x0Mzk8XZ2dj71qU8988wzIjI+Pm7btqOn6djGxoZt22NjY2aGa7p+/frZs2cNJ297e3t7e/vuu+82OaiIvPrqq3fdddfQ0JDJQSuViusnd9LeHtLuNtK+H2k3wI9pb2+32HiisFQSiYmItVaUxMVYuwMopT74wQ86OzjHbNu2bXtkZMTwuMPDwyMjI+aLaK11v16s4bhHo1HXT5qkvT2k3W2kfT/SboAf097mujLxieTiXNYSEetartElBgQSaUd4kHYEwZGlzO11CGKZleXEbFwpFc9NlRZIOwKHtCM8SDuCRWmt3Xv2crk8NjZWLpfdG+JA/bqeur6+fu7cOfPXU7e2ts6cOWNyUBG5cePGqVOnzF9P7cv0cjtIuwGk3SNIuwGkvX3cuAAAAPgYpQwAAPAxShkAAOBjlDIAAMDHKGUAAICPUcoAAAAfo5QBAAA+RikDAAB8jFIGAAD4GKUMAADwMUoZAADgYyC37bEAACAASURBVJQyAADAxyhlAACAj1HKAAAAH6OUAQAAPkYpAwAAfIxSBgAA+BilDAAA8DFKGQAA4GOUMgAAwMcoZQAAgI9RygAAAB+jlAEAAD7WWsrkZ5RSSqlU1tq/oZVN1R9VM3ljRwe4hbQjPEg7Am6g8YOVTU3KstZpsbKp+My4Xki3bJafieemSnolJlY2FU9lSyuZWB+Otv+eeeaZT3/604c9att2NBo1eTwiorXWWkcipifYarVa/fzX0V5PPfXU+973PpcOqW2kvS2kvYm0Bx5pb/Jj2pulTGm1MH0xLSISuzCVnF3KL6Rv591aKyanLsdERGKZK9OzSyWRcMZ9fX39He94xxNPPNHvA/GlJ5544rXXXuv3UQhpbxNp7wZp9xfS3o2+p71RylhrxeTE5frPsfGE5NYsSTcTHRtPFOauWZlMTKzs3GJy6nLbA2itC4WCiJw/f/6+++7r4aEfoVKp2LZdqVR6/sy2bd97773vfOc7e/7MYXD69Oku/116829K2ttD2rtB2t1A2r2p72lvlDKl1YJMHL5ZekHLTH2+KTnf0QxkrVb76Ec/KiKPP/74Bz7wgW6OtX2bm5u2bWute/7M29vbPX/O8NBab2xs3Lp1y/EzVCqV0dHRbo+DtLeHtHeDtLuBtHtT39PeKGXiE8kjtrKyqXhuqqR1rN5ANrO893LrEaLR6Isvvuj4+JzZ2NiwbXtsbKznzzw6Onrjxo2eP21IKKXGxsbuuecex89Q/0zW7XGQ9vaQ9m6QdjeQdm/qe9ob/USx8URhtVT/2VorSmK8tTgvrRaSUxfqv0lfnJbi2gF98IBPkHaEB2lHCDRbo+MTycW5rCUi1rVco0us5cFC7lo94vmlxTveDIDPkHaEB2lH8DVLmVhmZTkxG1dKxXNTpfoUo5VN1VcauP2gUpPF+VK7M5CAJ5F2hAdpR/ANtPycXtB6ofXBWGZFH/og4GekHeFB2hFw3LgAAAD4GKUMAADwMUqZkNi9z8qB92C5Y7PWG7FY2dQBuxz8W8Ajjkn77ZsO7b3xEGmHDx17bm/mfc8mAUs7pUw4WNdyhellrY9eAcvKXpot7P3v3NTT+3eJZZ6eyl3yZeARAselvbRamF7WDY1GV9IOPzou7fmZ+OoVrbXWy4nZZo4Dl3ZKmTDIz8RnC7I4efSkjJW9lEtMtyynlb86m7iSqS+dVd+z5XsPVxKzV7mPLrzn2LRba8XkRHzfbqQd/nNs2vNLi43v36cXmvVO8NJOKRMG6YXSfFKml4+alKlX6ZdbVji//R5ILywnZq/mJX91NrG8+yE2fXF6ccl3eUfwHZv20mqhsPv149uXl0g7/Oi4tFtrxeTE2swdF5gCmPaB4zdBG770vdrvf7v3twXp1MNvVY+OOylP64XMSkyyt3/Vchc6SV+en4urxeR8qfmtzfhEsrjnxnQIC3+n3Vor3r7bkJVNpbLxlYyQdhzM32kXkcLs6hWtF0SsbOpS9sJKJhbEczulTG9M3K0+PN7vgxCJjSknuzULGWmZo9x7F7rYhankrDRWOEeo+TvtscyKzjT/YzxRWCqJCGnHwfyddhFJzl+uz7Y074IexHM7pUxv3D+m7ncctX6zruUKhUJcze7+96QqzpdWLuy5C13+6mxienr2aj7DcqCh5+u0HyxO2nEwf6c9Np6QtTt/GcS00ysDiWVWGt/maLnuuucudNm54vzlhcvzxblmc1lptcD9WuA/zUZHERFrrTh9MS2kHQGVvths4rXWivVbhwYx7ZQyOEyz+cvKXqq3u8cyV5pf52tpjAd8JL1Qmso1un4vydP1j6KkHcGUXliWSaWUUvHVK7vNwQFMOxeYwqH1littb5e+PD93KWulM7d/mV7Qu3ejmyvOP82NW+BFx6V9T7dMA2mHLx1/bj/gJlvBSzuzMmGyd5XThsMXmzlsuaTDllcCvIO0IzxCn3ZmZcLkwE+jx+2x0u5vAS8h7QiP0KedWRkAAOBjlDIAAMDHKGUAAICPUcoAAAAfo5QBAAA+RikDAAB8jFIGAAD4GOvKdGZkZOS555772Mc+1u8D8aWXXnqp34eADpD2bpB2fyHt3eh72ltLmfyMmlwUkeR8aWX/an9WNhWfLRz6cEh85CMfiUQi5XL5wEdff/310dHRSMToXFelUqlUKidPnjQ5qIhsbGyMjIxEo9H2d8lkMg888IB7h9QJ0n480t5E2gOPtDf5Mu133BJ5z08tlqcbv1ueluR8Sbdle3t7aGiovW176Y033rh165b5cX/4wx9Wq1XDg25tbd28edPwoFrr69evl8tlw4Pu7OxsbW11/TSkvQdIu9tI+36k3QA/pr1ZY5ZWC7s3w4xdmErW75p5W8utMtMLOryFO4KBtCM8SDuCr1HKWGvF5ES8/nNsPCHFtdb7TFlrxeTE2sxxd6gCfIG0IzxIO0Kg0StTWi3IxFEbFmZXr2i9IGJlU5eyF9ou3m3bfu973ysijz322EMPPdTd0bZrc3PTtu1qtWpmuKbXXntNKdXRJcbulcvl+rycyUFF5NVXX61UKkNDQyYHrVQqJ06cGBkZ6epZSHsvkHa3kfb9SLsBfkx7o5SJTySP3jA5f7k+CRkbTxTmrlmZNvMeiUQ++clPikg8Hh8dHXV2lA7Ytm1yuLrNzc3R0VHDcY9Go0op8y+2XC6Pjo6aj3sPOu9Iey+QdreR9gORdrf5Me2NUiY2nigslURiImKtFSVxsTXNsfGErDkbQCn1/ve/3/HxOVOtVm3bHh4eNjzu0NDQ8PCw4bhrrWu1Wr9erOG4RyIR27a7fRbS3guk3W2kfT/SboAf094sguITycW5rCUi1rVco0usKX0xMXu13i1mrRWTUxfoDYOPkXaEB2lH8DVLmVhmZTkxG1dKxXNTpYW0iIiVTamZesjTC8syqZRSKr56hS53+BtpR3iQdgSfcrWlqFwuj42NHbbokHs2NjZs2x4bGzM87vr6+rlz5wxPQm5vb29tbZ05c8bkoCJy48aNU6dOmb+eatt2t42Q7iDtBpB2jyDtBpD29nEPJgAA4GOUMgAAwMcoZQAAgI9RygAAAB+jlAEAAD5GKQMAAHyMUgYAAPgYpQwAAPAxShkAAOBjlDIAAMDHKGUAAICPUcoAAAAfo5QBAAA+RikDAAB8jFIGAAD4GKUMAADwMUoZAADgY5QyAADAxyhlAACAj1HKAAAAH6OUAQAAPkYpAwAAfIxSBgAA+FhrKZOfUUoppVJZ69DtrWxKzeTdPy7AXaQd4UHaEXDNUsbKpiZlWWutS1O5+CGJtrKXZgvGjg1wCWlHeJB2BF+zlCmtFqYvpkVEYhemkotLB+Tdyl7KJaaT5g4OcAdpR3iQdgTfwO7/WmvF5MTl+s+x8YTk1ixJx1q3tLKXclNPPy2XFlc7GUBr/eUvf1lE4vH4m9/85l4c8/HK5bJt2+Vy2cxwTTs7O+VyORqNmhy03GByUGm8WK21yUErlUok0nWDF2nvBdLuNtK+H2k3wI9pb5QypdWCTByxXT3sKzHJdjhArVZ78sknReSxxx576KGHnB1lpzY3N23bNhy7+rjDw8Pm4761tTU0NGRyUBHZ2NhQSlUqFZODViqVEydOdPsspL1H45J2V5H2/Ui7AX5Me6OUiU8cNbnYDLsc3jR2iGg0+vzzzzs7OMeGh4dt2x4bGzM8brVaPXv2rOG4b29vj4yMnDlzxuSgIqK1PnXqlOG3WaVSsW2722ch7b1A2t1G2vcj7Qb4Me2N+ZzYeKKwWqr/bK0VJTHeMgNpXcsVCrNxpZSKzxZkcfLIRnjA40g7woO0IwSal6biE8nFuawl9XDvdontimVW9K7SfFKml/VKJrb/uQCfIO0ID9KO4GuWMrHMynJiNq6UiuemSgtpERYaQFCRdoQHaUfwKVe7lMvl8tjYmPkG7I2Njb5cT11fXz937pz566lbW1vmr6feuHGjX9dTR0ZGTA7aJtJuAGn3CNJuAGlvHzcuAAAAPkYpAwAAfIxSBgAA+BilDAAA8DFKGQAA4GOUMgAAwMcoZQAAgI9RygAAAB+jlAEAAD5GKQMAAHyMUgYAAPgYpQwAAPAxShkAAOBjlDIAAMDHKGUAAICPUcoAAAAfo5QBAAA+RikDAAB8bMDtAezJf3z2X1bcHuUOWg+KDCplfty7X3pEv+WU4WEBAAgv10sZGRj+nV+ITv2U0emfzc1N27ZPnTJdUyT+7U61ZnhMAABCzf1SRmRsUM4MGxjntqGqtm09ZnZQEYkqXdOmBwUAIMxMTJZElIFBPCGqxKaUAQDAoNZSJj+jlFJKpbLW/g2tbErtmsl3NkY0NKVMRAmzMj7hVtoB7yHtCLhmKWNlU5OyrLXWpalc/M5E52fiuamS1lrr0nxx8sA3xOFjhKaUYVbGJ1xMO+AxpB3B1yxlSquF6YtpEZHYhank4tKevOeXFqevZGIiIhLLXJkurJY6GCM8szJKa7p+/cDFtAMeQ9oRfI1SxlorJifi9Z9j4wkprrXW5ukFvZBu/Ed+abG5aXtjhKaUiUakpkPzav3LzbQD3kLaEQKNbzCVVgsy0cb2VjY1WZwvLcTaHaBWq/1GJvO/f6/w+OOPP/LII86OslP1L2Pv7OyYGa5J2yduvPrGdbODlsvlra0t27bNDis3b94sl8tDQ0MmB61UKqOjoyMjI109i2tpr753evR3/l8Ruffee++++27nR9iJWk1pHY1Gt80M11StnoxGd5RyUrvfM1z7N+/adLAjae+Ya2m3bfvBBx8UkTCc22/evKm1jkajJgcl7e1rlDLxieTxG+dn1GRxvrSSaTvsIkqp/+kjj/83ox86f/786dOnHR1kxwYGBmzbHhsbMzNc0+BA9eToqdOnjS6is729PTg4aOxv21StVk+dOmU+7j14FtfSLqd/8n+YOPWuu177iZ+Qc+cMnfW2tnZqtdroqNF/CBG5efPW3XffHYl0nPYbZfn1laizxJL2jrmW9kgk8pnPfEZEwnBuL5fLp0+fNlzKkPb2NUqZ2HiisFQSiYmItVaUxMU7Im1lU/HZxLJeSd/5FEdTSv3sOyZS/4XRyy6Dg4ORSGRwcNDkoCISVXZkYGBw0GjcbduuVqvmX+xgg+Fxe/AZxc20/2Li/Ifuf1u3R9iJjY0d25axMdP/EOsRde7cgIOT+/qW2LriLDmkvWNupj2VSnV7eB3q17m9/q9vuJQh7e1rfqKKTyQX57KWiFjXco0usYZG1hc6zPruGKHpHokobdP36wMupj3Kbc2OMxAR3iYGuZh2wCOa591YZmU5MRtXSsVzU6V6rq1sSs3k628AkcVJpRwtPxCebzBFRDhF+wFp7yfWLDDLxbQDHtF644L0gtYLrQ/GMiv1M05mRWecjxGeWZkoHzd9w620U8oci1LGOFfSrt/284vfMn2+K5cjWquREdPjvv768Oh1HYkYHbdSUW8aGnjkjMkx/crEPZjCc3JnVgZRR9/oCZWokiqljP/Vfu6//TffqcVPGw18tRqp1WpDQ6YDtLUVHdkWpYyO+59vqWE1+MjbTY7pVyZKmfDMykRE83Ez5MJTuDvG5GVg/MOfjvz39xvtDtvY2LZte2zshMlBRWR9ffPcuROG237/D6vy+W+bHNDHTKQwPCd37sEE2n6PxQWmwBgg7W6KKmVr3ipt4c7YvcQ5GuEp3B2LUvEHBWl31UBEqsxftodZmV5iVgYDoUl7N3inBANpd9WAElv4E7eFWZleYlYG4Sncu8E7JRgGwnNy7wdmZdrHrEwvKZEalzbDjV6ZdkQjlDJBQK+Mq6j428esTC+RPISncO9GVPFxMwhIu6sGWLagbczK9BIdAAhP2rtB0R8M9Mq4aiAituZP3BYjszIGxvAGTtCglGkH75Rg4AKTq6JKM3nZJiOzMqGJuxLNrEzIUcq0g1ImGJiVcRVvk/YxK9NLJA98Tm0H75RgCM/H1L6gV6Z9zMr0Er0yYFamHQMRZfNW8T9mZVxFr0z7mJXpJT5rglKmHbxTgoE5SFcN8DZpm5lZmbCc3ZmVAaVMOyhlgoFZGVdFWSKvbczK9BJ3xkZ4Lqd2g3N0MDAr46oBpaqsudoeemV6iVkZMCvTDmZlgoG0u4pemfYxK9NLnKARVZx6jsc7JRiYlXEVvTLtY1aml5iVASf3dlDKBMMAhbubIiyR1zZmZXqJEzSYcm8H75RgoHB3FevKtI97MPUSq/0iPGnvxgB3xg4E0u4qemXax52xe4nPmuDk3o6oEpuZc/9jVsZV/B9K+5iV6SV6ZRCetHeDc3QwsK6Mq6JKalp4o7SjtZTJzyillFKprHXAlkc/euQYoYk7J2j/cCvtlDLtiNIEYJRbaWdWxm0DrMDUnmYSrWxqUpa11ro0lYvP5PdudvSjh9Jaa63NlzLf//73v/vd75oeVWT9h6/sVG3Dg968efPb3/624UFF5Jvf/OatW7cMD7qxsfH1r3+966dxMe3mv6/Xr7S/+OKLOzs7zvZ1XPST9s65mfbQnNu7SbtjN2/eVLpm/uOxH9PePO+WVgvTF9MiIrELU8nFpb2JPvrRQ+3s7NTsiuODc+zZZ5/9/Oc/b37cf//v/vD1NzYMD/rCCy/89m//tuFBReQTn/jEN77xDcODfuc735menu76adxLe9X8pEy/0v7oo4+ur6872zcacdgrQ9o751raazXzpYwf0+7YCy+8UKvumJ+V8WPaB3b/11orJicu13+OjSckt2ZJOiZtPXq0Wu3jH/+4iJw/f/6+++5zfKAdKRaLt27devbZZ80M12RXKv+xdP03f/CyyUHX1jZfPvkzv/kHKyYHFZG/uufBf/G1Hy2vGx13fX19a/hMt8/iXtp1iNK+vb29vLx8zz33ONj3+sa7PvfHry1HO/7kR9o75uK5vUraXfWnf/qnOvb3PvHsnw1J1eS4fkx7o5QprRZk4tCtjn70cHfddde7ay9/4QvPi9m4l8tlrfUXvvAFM8M1PVAZHHj+la+ZXTbKtu1ztcrX8qbf228aLP/gpcL6N//M5KC1Wu23fuMfdfss7qXdXg1P2n/2Z3/22rVrylHaz4z+3z8aHP1R5zuS9o6R9l7oJu2OVavVB//6Ey+dGDU5qPgz7Y1SJj6RPGKrox89XCQSeeFLOUe7Aq4h7QgP0o4QaPTKxMYThdVS/WdrrSiJ8dY5xqMfBfyFtCM8SDtCoNn2G59ILs5lLRGxruUafWDS3qOAv5B2hAdpRwjo25Z3u4eT86X6L0rzSZlePuxRwMdIO8KDtCPglNasVAUAAPzKjfW8nK8d2RUrm1K72l7nqZdjmx20+WoN/pVv/4VNvdY7/659itZRSLuhEUm7B5B2QyOS9k71vJRxuHZk1/Iz8dxUfXq0NF+cNPpWs7KXZgvmhhOR/Ex89YrWWuvlxOwlM6/19l/Y0B84P6PirX/XfkXrCKTdBNJO2km7y2P6P+29vmK1PN28BLvncqzLWobd918uK80nk9PT5l6qNvz6dpXmk7cvpbt+AMvTIpKcX77jin4/onUU0m4AaSftpN1NgUh7r2dlrLViciJe/zk2npDimpkKOr2gF5qt9/mlxeZBuM3KXspNPX3ZySJTzsdcKyYn1gxP9cbGE4XcNUtExMrOuf0HTi9orVcyrWP0K1pHIO0mxiTtpJ20uykQae91KVNaNTsbt5+VTU0W55/OGFkdoR52M2PtUZhdvVivYadyhiYh0wv6ympcKaXiuanSivEX3f9o7dP/QyLtLiHt+/T/kEi7S4KQ9l6XMk7XjuyR/IzJf4u+hV0kOX+5/kGlpaB2l5VNqbmJ+izkldW4+fa7PkfrIKTdDNLuBaTdDNLuSK9LmT6uHWllU2pSlrWxmtK6lisUZuu17GxBFidNTQjGxhMmhtmrtFpITl2o/2nTF6fNz3h7cFlS0m4AaSftpN1VwUi7k76do5Tmk7srLRltVivNJ6WPrXGmG/Nud0nt6dhy0+1/2HrjlpGXu+fv2qdoHYW0m0DaSTtpd1Eg0t7zUkb3Ze3I0vydE1Rmo2/+bNP4Ixturhez/7R3/l09uCwpaTeAtHsEaTeAtDvBar8AAMDH3FjtFwAAwBBKGQAA4GOUMgAAwMcoZQAAgI9RygAAAB+jlAEAAD5GKQMAAHyMUgYAAPgYpQwAAPAxShkAAOBjlDIAAMDHKGUAAICPUcoAAAAfo5QBAAA+RikDAAB8jFIGAAD4GKUMAADwsX2ljJVNqZn8AVvmZ5RSSqlU1jJwXIABpB3hQdoRXHtLmfyMis8WDtjMyqYmZVlrrUtTufiBbwfAX0g7woO0I9BulzL5GaUmi/PL88kDNiutFqYvpkVEYhemkotL5B2+RtoRHqQdgXe7lEkvaK1XMvGDtrLWismJ3Udi4wkprjERCT8j7QgP0o7AG2hrq9JqQSYcPLvWem5u7qtf/aqIPProoxcuXHDwJA7UajWtdTQaNTNcU7VajUajSimTg4bqxWqtI5HIwEB7uXWGtLeHtLvN42n/+JPzf/7t74nIww8//O53v7uj3e8alPExB8OGKwCherFdpr293eITB81MHm9nZ+dTn/rUM888IyLj4+O2bTt6mo5tbGzYtj025ui90oXr16+fPXvWcPK2t7e3t7fvvvtuk4OKyKuvvnrXXXcNDQ2ZHLRSqbh+cift7SHtbvN42p/6T1u/9PDjEwPXI/e95Ts/rrW/77duqT/+gfzR3+9glybSboAf097ebrHxRGGpJBITEWutKImLsXYHUEp98IMfdHZwjtm2bdv2yMiI4XGHh4dHRkbMF9Fa6369WMNxj0ajrpcIpL09pN1t3k/7ryTj/yD29k7H/Mor+j/80B4ZcfLHJO0G+DHtba4rE59ILs5lLRGxruUaXWJAIJF2hEdXaXd2BUIp0drRnsAhjixlbq9DEMusLCdm40qpeG6qtMC5HYFD2hEefU27EqGSQW/tu8AUy6zog36W9ILWC4aOCjCCtCM8XEi7s1mZCLMy6DVuXAAAMEeJOOn4BQ5HKQMAcMLZ13XplUHPUcoAAJxw2PZLrwx6jVIGAGAOvTLoOUoZAIATjmdl6JVBb1HKAACcoFcGHkEpAwAwh14Z9BylDADACdaVgUdQygAAzKFXBj1HKQMAcIJeGXgEpQwAwAnWlYFHUMoAAMyhVwY9RykDAHCCdWXgEZQyAAAn6JWBR1DKAADMoVcGPUcpAwBwwvm6Mj0+EIQdpQwAwBwlUqOWQU9RygAAnKBXBh5BKQMAcIJ1ZeARlDIAAHPolUHPUcoAAJxwvq4MtQx6ilIGAOAEvTLwCEoZAIA59Mqg51pLmfyMUkoplcpa+ze0sqn6o2omb+zoALeQdoSHW2lXji4x0SuDnhto/GBlU5OyrHVarGwqPjOuF9Itm+Vn4rmpkl6JiZVNxVPZ0kom1oej7b9nnnnm05/+9GGP2rYdjUZNHo+IaK211pGI6Qm2Wq1WP/91tNdTTz31vve9z6VDahtpbwtpbyLtPaRE1fx2helLX/rS7/3e7xkelLS3r1nKlFYL0xfTIiKxC1PJ2aX8Qvp23q21YnLqckxEJJa5Mj27VBIJ58l9fX39He94xxNPPNHvA/GlJ5544rXXXuv3UQhpbxNp70YY0h6eXpmbN2/GYrFPfvKT/T4Qj+p72huljLVWTE5crv8cG09Ibs2SdDPRsfFEYe6alcnExMrOLSanLrc9gNa6UCiIyPnz5++7774eHvoRKpWKbduVSqXnz2zb9r333vvOd76z588cBqdPn+7y36U3/6akvT2kvRthSPu3Xn75zF+/1mnaqxXRTl+de2k/mm3b586d471wmL6nvVHKlFYLMnH4ZukFLTP1+abkfEczkLVa7aMf/aiIPP744x/4wAe6Odb2bW5u2ratXaj8t7e3e/6c4aG13tjYuHXrluNnqFQqo6Oj3R4HaW8Pae9G4NOutf7c5z73zHdXOk37xk7Ero3euvV6+7s0uZf2o21vb5sf1Ef6nvZGKROfSB6xlZVNxXNTJa1j9QaymeW9l1uPEI1GX3zxRcfH58zGxoZt22NjYz1/5tHR0Rs3bvT8aUNCKTU2NnbPPfc4fob6Z7Juj4O0t4e0dyPwaY9EIv98/jPpt3R+kWlbRFWc/WXcS/vRRkdHO+0dCZW+p73RTxQbTxRWS/WfrbWiJMZbi/PSaiE5daH+m/TFaSmuHdAHD/gEaUd4uJn28PTKwOOardHxieTiXNYSEetartEl1vJgIXetHvH80uIdbwbAZ0g7wsNzaWddGfRcs5SJZVaWE7NxpVQ8N1WqTzFa2VR9pYHbDyo1WZwvtTsDCXgSaUd4uJh2Z1dcWFcGPTfQ8nN6QeuF1gdjmRV96IOAn5F2hIe30s49mNBz3LgAAOAEvTLwCEoZAIATju+MTSWD3qKUCYnd+6wccw+Whua9WKxs6oBdDv4t4BFHpb3l8TvvOkTazaBXxgsClnZKmXCwruUK08taH7gCViyzopuWpyU5f7ne+2dlL+Wmnt6/Syzz9FTuki8DjxA4Mu3Nuw5prUvzxcnmiZu0d87xrAy9Mn0WuLRTyoRBfiY+W5DFycM/pt7ecrI43wh4/ups4kqmvnRWfc+W7z1cScxe5a7R8J7j0m6tFRsrqcQyV6Yba66Qdgcc9spwgcmo5n3RZ2YaUy7BSzulTBikF0rzSZlePuxjaoOVnVucvtLYJr+0uLsGRXphOTF7NS/5q7OJ5d1va6YvTi8u+S7vCL7j0h4bTzRWUrGyc4vJibgIaTeJtl+T8jOTxfmS1lpfkcXC7u+Cl/aB4zdBG770vdrvf7v/786H36oeHXdcnuavzsp8qbGuROtd6CR9eX4urhaT86XmtzbjE8ninhvTISx8nvaD7jpE2h1hXZn/62/0516u9fso5P1vVo//zIHvhfzS4vQVHRMRUWNuFAAAFrNJREFUSV+eT14SCWbaKWV6Y+Ju9eHxfh+ESGysi7uE5JcWk1OlZnr33oUudmEqOSuNFc4Rav5O+4F3HSLtjji+wBSYXpm3n5YPj/f/3kw/deqQY9hTtTQEMe2UMr1x/5i6v5sywgPuqGTuuAtd/upsYnp69mo+w+K3oefvtJdWC8mpp2/fdWhuzZI0aTcoSL0ybzul3nZYGeEFsfFEYakksqdOCWLa6ZVBXUszZN2eu9Bl54rzlxcuzxfnmq2UpdUCdyeC/xx41yHS7ojDbzDRK2NO+uL07h24JH91tt4rE8S0U8qgrrRauOM3zeYvK3up3u4ey1xJzO5+Ue924xjgJwffdYi0mxOkXhnvSy804r40Mb87GxPAtHOBKRxab7lysPSCvjO86cvzc5eyVjpze+fGVlZ2rjj/NLcpghcdm/aD7jpE2h1gXRk/aMTdyqbiiSuNDuCApZ1ZmTDZv6zvkWuiHrpc0mHLKwHeQdrd56ztFwa1vA1u3xg9gGlnViZMYpkVnel0j5V2fwt4CWn3sPo1Jgoh9x36NghY2pmVAQA44bgW4RoTeotSBgDghPNShi8xoacoZQAARgVpaRl4AaUMAMAJx22/fB8bvUUpAwAwil4Z9BalDADACXpl4BGUMgAAJxxfYKJXBr3FujKdGRkZee655z72sY/1+0B86aWXXur3IaADpL0bpP0IvuuVGR4e/pM/+RPeC4fpe9pbS5n8jJpcFJHkfGll/2p/VjYVny0c+nBIfOQjH4lEIuVy+cBHX3/99dHR0UjE6FxXpVKpVConT540OaiIbGxsjIyMRKPR9nfJZDIPPPCAe4fUCdJ+PNLeRNoPFJ51ZT70oQ+dOHFia2vL5KCkvX3NUsbKpiZlWeu0WNlUfGZc773fd34mvnpF67RIfkZdyl4I7+ldZmZmDntofX393LlzHSWge9vb21tbW2fOnDE5qIjcuHHj1KlTQ0NDhsftBdLeLtJeR9oP1E0p46tKRkTk0UcfJe2e1fxEVVot7N4MM3ZhKlm/a+ZtLbfKTC/oEJ/ZEQikHeHhxbTT9oveapQy1loxORGv/xwbT0hxrfU+U9ZaMTmxNnPc/dgAXyDtCA830866MvCIxgWm0mpBJo7asDC7ekXrBRErm+pkEtK27fe+970i8thjjz300EPdHW27Njc3bduuVqtmhmt67bXXlFKGJyHL5fLW1pY2/hnn1VdfrVQqhichK5XKiRMnRkZGunoW0t4LpN1tHk97rVabmZk5df1bTtKu77px89XaUMf/jqTdAD+mvVHKxCeSR2+YnL9cn4SMjScKc9esTJt5j0Qin/zkJ0UkHo+Pjo46O0oHbNs2OVzd5ubm6Oio4bhHo1GllPkXWy6XR0dHzce9B32mpL0XSLvbPJ52pdSvXfrw+NCPHaRdiZwcHR3tvJQR0u4+P6a9UcrExhOFpZJITESstaIkLramOTaekDVnAyil3v/+9zs+Pmeq1apt28PDw4bHHRoaGh4eNhx3rXWtVuvXizUc90gkYtt2t89C2nuBtLvN+2lPJt/18/c4ucgUiVQGBwcd/DOSdgP8mPZmERSfSC7OZS0Rsa7lGl1iTemLidmr9W4xa62YnLpAJyR8jLQjPLyYdnpl0FvNUiaWWVlOzMaVUvHcVKn+bT0rm1Iz9ZCnF5ZlUimlVHz1Ct/pgL+RdoSHi2kPz7oy8LjWJfLSC1ovtD4Yy6zowx8FfIy0IzzcSnuo1pWBl3EPJgCAUawrg96ilAEAONHFujJKMy+D3qGUAQAYRa8MeotSBgDgBL0y8AhKGQCAE44vMNErg96ilAEAGMW6MugtShkAgBOsKwOPoJQBADhBrww8glIGAGAUvTLoLUoZAIATXawrw6wMemng+E0AAOidiMjCy7V7RjouhXZ2og+elckxNw4KPkYpAwAw6h/+dORH2/rVnY6nZv70FfWj7cjk/W4cFHyMUgYA4ETE6QWmJ37WYW/DP3ux8t03HA6KAKNXBgDgDwMRqdb6fRDwHkoZAIATjr+M7VhUdJWGYexDKQMAcKIPpYwSm1IG+1DKAAD8YSAitjZfQcHrKGUAAE44XlfGMXplcCBKGQCAE+anRwaU0CuD/ShlAAD+QK8MDkQpAwBwog+zMlxgwkEoZQAA/hAVbfehgoLXUcoAAJzoR9uvsmtcYcKdWkuZ/IxSSimVylqHbm9lU2om7/5xAe4i7QgPt9Lel3VlaPvFfs1SxsqmJmVZa61LU7n4IYm2spdmC8aODXAJaUd4BCrt9MrgQM1SprRamL6YFhGJXZhKLi4dkHcreymXmE6aOzjAHaQd4eFi2vtwgUkJvTLYr3FnbGutmJy4XP85Np6Q3Jol6Vjrllb2Um7q6afl0uJqJwNorb/85S+LSDwef/Ob39yLYz5euVy2bbtcLpsZrmlnZ6dcLkejUZODlhtMDiqNF6u10dneSqUSiXTd4EXae4G0u837aX/+uefWBrZNpr1W3anYQ6TdVX5Me6OUKa0WZOKI7ephX4lJtsMBarXak08+KSKPPfbYQw895OwoO7W5uWnbtuHY1ccdHh42H/etra2hoSGTg4rIxsaGUqpSqZgctFKpnDhxottnIe09Gpe0u8rjaddaf/aznx154xWTaa+UKzvVgY2NLTPDNZF2t3WZ9kYpE584anKxGXY5vGnsENFo9Pnnn3d2cI4NDw/btj02NmZ43Gq1evbsWcNx397eHhkZOXPmjMlBRURrferUKcNvs0qlYtt2t89C2nuBtLvN42mPRCK5L37xbaeMXu45s7EpkejZs6MmBxXS7r4u096Yz4mNJwqrpfrP1lpREuMtM5DWtVyhMBtXSqn4bEEWJ49shAc8jrQjPIKVdm5cgAM1L03FJ5KLc1lL6uHe7RLbFcus6F2l+aRML+uVTGz/cwE+QdoRHi6m3Xzbb1RJjbZf7NMsZWKZleXEbFwpFc9NlRbSIiyrgaAi7QgPF9POjQvgEQMtP6cXtF5ofTCWWblzKu+AXwE+RNoRHsFJOxeYcCBuXAAAcKIfF5g0szLYj1IGAOBEX25cYDMrg30oZQAA/jAQEVvT9os7UcoAAJzoQ9uvUlWzq9DCFwaO3wQAAA8YiMgbFfndbzjsl3nkbWr8NJM6AUQpAwDwhxNRPROvvrrjZNXdL31X/9SpCKVMIFHKAACciBj/CtNIVP7pz1XHxk462PcHm/Z21/eBgDfRKwMACL7hqJQpZQKKUgYA4IT5dWW6MRIVZmWCilIGAOCEryoZGY5ImeX1AopSBgAQfCMDsl3t90HAHZQyAAAn/DYro8o11qQJJkoZAEDw0fYbYJQyAAAnaPuFR1DKAACc8FUlw6xMkFHKAACCj1mZAKOUAQA44a8LTMzKBBilDADACV9VMszKBBn3YAIAOOGvbzaPRNXyX9tn/6WTZfK0vvulR/RbTvX8oNAblDIAACf8NSvzi29SP/yVQWf7/vz/WX690tvDQS9RygAAnIj4qpYZiMiZYYf7nhrQG1VfvdqQoVcGAICjjA5oZmW8rLWUyc8opZRSqay1f0Mrm1K7ZvLGDg9wCWlHeLiV9vBMU4xGa69X/NUaFC7NUsbKpiZlWWutS1O5+J2Jzs/Ec1MlrbXWpfni5IFvCMAvSDvCg7T3wF0D8gazMh7WLGVKq4Xpi2kRkdiFqeTi0p6855cWp69kYiIiEstcmS6sloweJdBTpB3h4WLa/bWuTDe4wORxjVLGWismJ+L1n2PjCSmutdbm6QW9kG78R35psbkp4EOkHeHhZtpDU8nIXQOaWRkva3yDqbRakIk2treyqcnifGkh1u4Atm0/+OCDIvL4448/8sgjjg6yY5ubm7Zt7+zsmBmu6ebNm1rraDRqctByuby1tWXbptd+unnzZrlcHhoaMjlopVIZHR0dGRnp6llIey+Qdrd5PO21Wu0973lPtLIZhrRHK/ZTxeF/Vdp2sO+9w7V//a5NBzuS9vY1Spn4RPL4jfMzarI4X1rJtB12kUgk8pnPfEZEzp8/f/r0aSfH2LmBgQHbtsfGxswM11Qul0+fPm345L69vT04OGjsb9tUrVZPnTplPu49eBbS3guk3W0eT7tS6urVqycjdhjS/uvxG7+S0JFIx2nfqspD/0/U2d+HtLevUcrExhOFpZJITESstaIkLt4RaSubis8mlvVK+s6nOJpSKpVKdXOIDgwODkYikcFBh6shdTPu4OCg4ZO7bdvVarVfL9b8uD34jELaezQuaXebx9OefNffGTW7Nlm/0v6m0ci5cwPO0l6pVWqRweHOdyXt7Wu2/cYnkotzWUtErGu5RpdYQyPrCx1mHfAk0o7wIO19dmZIbpb7fRBB1yxlYpmV5cRsXCkVz02V6rm2sik1k6+/AUQWJ5VisQ0EAWlHeLiY9vC0/Xbj3Ii6UWZNGncprV38E5fL5bGxsXLZdEW6sbHRl+up6+vr586dM989sLW1debMGZODisiNGzf6cj3Vtu1uGyHdQdoNIO0eUS6XR3/1qR//63980uwFJj+m/e/+++rf+Vvq/rGOC79KpfLmofIvv930i/Vj2rkHEwAAbpn6LyMv3dR/cb3jWYO/eUOVK4O//HY3DipoKGUAAE7463aS/fI/Tzi81+FXf1D5ta9wn8S28GcCAMBz3nRSvbJNtdgW12dlahO/9Imvml7hp1KJ1mpqeNj0uJubJ06c0EoZHbdaVdXq0MiIw0En3xJ570/wbgEAbzk7rN+oqN/6c9vZDSIeOh9J3ReWc7vrpYyOpf7qdXnnOaN/0B0RrdXwkOl/xcEdfXJQImZnXasRVVFywtGL/fLf1O4e0pQyABzgxOEqJfKpn9upDZ50sO9XfljTupa6z2hXfh+Z6JW5+Fb1ofuNXsna2LBt2x4bO2FyUBFZX98+d240GjX6Yre3a1tbO2fOjDrY942qrtZ6fkQAQiE8t5Psl1+/v3LmjJP/Q3nbf5Z/+5ch+ga4iVJmkIYcrxpQqurmt/HDpvbAQzNfMX1Zs1odqNUiQ0Omx93aOjkyYvpyqm1HqtVh89eOt7dHfuu/kol7DA8LOBQbU195xZ75ipN9t7dH/te/LeNne31MbjJRygxQynjVQES2qv0+iADRb33Q1vJf32v0s2q5XNNaj4yY/oD8+uv26Kjpy6mViq5UaidPmn6xn/7GwN9sqnbuyhgqTMp41k/frf7pgw6vLv3+y9HCOqXM/jH4xt7/3969xDZxxHEcnzU2HEhBLSAqKoHaxlEVhUsfF6ftoYdKSS9UlaLekDg4p6ppJR4HuMHd7qkgLuSAKqeqqFAcVb2BcGlBPCrHKvGCiloa4UJQ1KaQxN7pwcR5WzDe/Xsf388psF6Pd/Pz5r8z47FfxS01zwCTqz58xRp4TXg41anValu2SN8xVCqz27Z1iA+n6sePDbvcW/HNhFPV3JMhMDbHVfoNw8Tenaqe/2PT5k0mfxtiSn3yahveKQwwRVoipqqML7mKtIdS3NIU/atxkxpK7+2o3prZNHLH5G/DD386b++w9nRIR0OkV4a8+1U8ppj2664EfZBhlIhZ8w5V/0pM+w2ld16qfbBHb9xoMj718Y/q0C/Oqy88946Ooz7do9582aBNpeiVibhEjAEml5H2UOKdAjyLL/bGfrpvUvTXampjCxdPpv1GWtxigMlllDKhxADTmuiCxArvv2yZLVQ2P1+rtfDBRInrLgNMvhXnXtNtlDKhRK8M4GcS110u7r6VYK6M20h7KFHKrIm7VPiESK8MF3e/YoDJdZQyocQAE+Bn9MpEGveariPtoZSIqaqmDwLwKebKRBofxnYdpUwo0SuzFnp04RcMMEVanNUy3EYpE0pMkF8DX98G32CAKdKY9us60h5KDMUCfiYzwMQIk08x7dd1lDKhFLcU/ZercELgF/TKRBr3mq7jiwtCiXfKGhhggm8wVybSmPbrOgr3UKKUAfxs6XV3bNCyLMuyerP2Go9svrUZPsHkW3Ershdor9JOKRNKcRXoTzB5k3Z6ZeAbjeuune3tV3mttS4P5JKDY8sf1nzrurTWWmv5i/u9e/fu3r0r3apS165dm5ubE250amrq1q1bZvsmYuZzZcbHx6enpw13NjUzM3Pjxo2Wn4a0uyBwaW/Fg/uTM0+kD9b/aW/5tT030i4giNf2xnW3XCqk9/UppVTnRwOpU+eWJ7r51nXNzc05jrNB/OI+MjJy+vRp6VaVOnDgQKVSEW704sWLJ06cMNu3lQGmI0eO3Lx503BnU7dv306n0y0/jYdpl++DJO0Cvv/u2/sPpoQb9X3aW/j2P1OkXUAQr+0L34xtTxRT3QfrP3d29ajchK36OtUzbW1O1w4fOqSU2r17986dO41f6HMpFovT09MjIyMyzTU8efIkn89v375dstHLly9PTk6aHexfTse9f9/98uyvBvv+vv2tr6/+na9cMtjXWKVSebzpxVafxcu0HzlM2j3UStpb8d8/06UHs1+eJe3LHOLa7qV2pf3hw4cXLlx49OiRZKN37tyZn5833n2hlCmXCqp73Uc137q+jo6Od6vjw8MXlGzcZ2dntdbDw8MyzTXs3bt3dHTUkv3webVa3bp1q9nBOrFEz5Yfrhq1uysxO/lroTL+s9HehhzHOfzFZ60+C2l3Q+DS3orX52O68NXVDRskG/V72p3fSLun2pX2Xbt2Xbly5fr165KNOo5z7Ngx490XSplkd6rJo5pvXV8sFrt4Pme0K+AZ0o7oIO2IgIVpLJ1dPYVSuf6zPVFUPV1L+xibbwWChbQjOkg7IqAxIzfZnTp1PGsrpezR3MI8MPVsW4FgIe2IDtKOCNCL8k9nD6cy5fp/lDMplc6vtxUIMNKO6CDtCDlLs8wRAAAILC+WfDFfKbUldrbXeuqZ13lys23ZRhtHK3iWF8+w1LGuPK9tilYzpF2oRdLuA6RdqEXS/rxcL2UM145s2dhgMjdQ7x4tZ4r9om81O7t/qCDXnFJqbDBZOqq11jrfM7Rf5lgXz7DQCR4btJJLz2u7otUEaZdA2kk7afe4zeCn3e0Rq3y6MQS7bDjWY0uaXfUvj5UzqVQ6LXeoWvj4nipnUotD6Z6/gHxaKZXK5FeM6LcjWs2QdgGknbSTdi+FIu1u98rYE8VUd7L+c2dXjypOyFTQfSf1ycbU+7Fzpxovwmt2dn9u4MxBk0WmzNucKKa6J4S7eju7egq5UVsppezsca9PcN9JrfWlz5e20a5oNUHaJdok7aSdtHspFGl3u5Qpl2R741azs739xcyZz0VWR6iHXaatZQpDpX31GnYgJ9QJ2XdSHy0lLcuykrmB8iXxg25/tFZp/0si7R4h7au0/yWRdo+EIe1ulzKma0e6ZGxQ8nfRtrArlcocrN+oLCmovWVne63j3fVeyKOlpPz0uzZHay2kXQZp9wPSLoO0G3G7lGnj2pF2ttfqV3ktVlPao7lCYaheyw4V1Kl+qQ7Bzq4eiWaWK5cKqYGP6qe2b19avsfbh8uSknYBpJ20k3ZPhSPtJvN2milnUk9XWhKdrFbOpFQbp8ZJT8xbnCW1bMaWlxZ/sfWJWyKHu+y8tilazZB2CaSdtJN2D4Ui7a6XMrota0eWMys7qGSjL3+1WTjJwpPrleyvduV59eGypKRdAGn3CdIugLSbYLVfAAAQYF6s9gsAACCEUgYAAAQYpQwAAAgwShkAABBglDIAACDAKGUAAECAUcoAAIAAo5QBAAABRikDAAACjFIGAAAE2P86tP6qM4dIbQAAAABJRU5ErkJggg==\">"
      ]
     },
     "metadata": {},
     "output_type": "display_data"
    }
   ],
   "source": [
    "f(n,x) = 0 < x ≤ n ? 1/n : zero(x)\n",
    "g(x) = x > 0 ? 1/ceil(x) : zero(x)\n",
    "x = 0.0:0.02:10.0\n",
    "\n",
    "P = []\n",
    "for n in 1:8\n",
    "    p = plot(x, f.(n,x), label=\"f_$n(x)\")\n",
    "    push!(P, p)\n",
    "end\n",
    "p = plot(x, g.(x), label=\"g(x)\")\n",
    "push!(P, p)\n",
    "pngplot(P..., size=(750, 600), ylims=(0,1))"
   ]
  },
  {
   "cell_type": "markdown",
   "metadata": {},
   "source": [
    "### Dirichlet積分とその一般化"
   ]
  },
  {
   "cell_type": "markdown",
   "metadata": {},
   "source": [
    "**問題:** Dirichlet積分の一般化に関する公式\n",
    "\n",
    "$$\n",
    "\\int_0^\\infty \\frac{e^{-ax}\\sin x}{x}\\,dx = \\int_a^\\infty \\frac{dt}{1+t^2} = \\frac{\\pi}{2} - \\arctan a\n",
    "\\quad (a\\geqq 0)\n",
    "$$\n",
    "\n",
    "を $a>0$ の場合について示せ.  $a=0$ の場合の公式\n",
    "\n",
    "$$\n",
    "\\int_0^\\infty \\frac{\\sin x}{x}\\,dx = \\frac{\\pi}{2}\n",
    "$$\n",
    "\n",
    "の左辺を**Dirichlet積分**と呼ぶことがある. Dirichlet積分は条件収束する広義積分の典型例である."
   ]
  },
  {
   "cell_type": "markdown",
   "metadata": {},
   "source": [
    "**解答例1:** $a>0$ と仮定し, $\\ds I(a) = \\int_0^\\infty \\frac{e^{-ax}\\sin x}{x}\\,dx$ とおく.\n",
    "\n",
    "$a\\to\\infty$ で $I(a)\\to 0$ である($I(\\infty)=0$ とおく). 積分記号化での微分(K)と上の方にある三角函数のLaplace変換の問題の結果より\n",
    "\n",
    "$$\n",
    "I'(a) = \\int_0^\\infty \\frac{\\d}{\\d a}\\frac{e^{-ax}\\sin x}{x}\\,dx = -\\int_0^\\infty e^{-ax}\\sin x\\,dx =\n",
    "\\frac{-1}{1+a^2}.\n",
    "$$\n",
    "\n",
    "ゆえに\n",
    "\n",
    "$$\n",
    "I(a) = I(\\infty) + \\int_\\infty^a \\frac{-1}{1+t^2}\\,dt = \\int_a^\\infty \\frac{dt}{1+t^2}.\n",
    "$$\n",
    "\n",
    "さらに\n",
    "\n",
    "$$\n",
    "\\int_a^\\infty \\frac{dt}{1+t^2} = \n",
    "\\int_0^\\infty \\frac{dt}{1+t^2} - \\int_0^a \\frac{dt}{1+t^2} =\n",
    "\\frac{\\pi}{2} - \\arctan a.\n",
    "$$\n",
    "\n",
    "これで示すべきことがすべて示された. $\\QED$"
   ]
  },
  {
   "cell_type": "markdown",
   "metadata": {},
   "source": [
    "**解答例2:** $a>0$ であると仮定する. $x>0$ のとき, $\\ds \\frac{e^{-ax}}{x} = \\int_a^\\infty e^{-tx}\\,dt$ なので\n",
    "\n",
    "$$\n",
    "\\int_0^\\infty \\frac{e^{-ax}\\sin x}{x}\\,dx =\n",
    "\\int_0^\\infty \\left(\\int_a^\\infty e^{-tx}\\sin x\\,dt\\right)\\,dx.\n",
    "$$\n",
    "\n",
    "積分の順序交換(J)によって, \n",
    "\n",
    "$$\n",
    "\\int_0^\\infty \\left(\\int_a^\\infty e^{-tx}\\sin x\\,dt\\right)\\,dx =\n",
    "\\int_a^\\infty \\left(\\int_0^\\infty e^{-tx}\\sin x\\,dx\\right)\\,dt.\n",
    "$$\n",
    "\n",
    "上の方の三角函数のLaplace変換の問題の結果より,\n",
    "\n",
    "$$\n",
    "\\int_a^\\infty \\left(\\int_0^\\infty e^{-tx}\\sin x\\,dx\\right)\\,dt =\n",
    "\\int_a^\\infty \\frac{1}{1+t^2}\\,dt.\n",
    "$$\n",
    "\n",
    "これで $a>0$ の場合の公式(2)が示された. $\\QED$\n",
    "\n",
    "**注意:** $a>0$ の場合には絶対収束する積分しか出て来ないので積分順序を自由に交換できて簡単である. $a=0$ の場合にも積分順序の交換が可能なことを示せれば $a=0$ の場合の(1)も証明される.  $\\QED$"
   ]
  },
  {
   "cell_type": "markdown",
   "metadata": {},
   "source": [
    "**問題(次の問題の解答例のための準備):** 次の公式を示せ: $t>0$ のとき,\n",
    "\n",
    "$$\n",
    "\\int e^{-tx} \\sin x\\,dx = \\frac{-e^{-tx}}{1+t^2}(t\\cos x-\\sin x), \\quad\n",
    "\\int e^{-tx} \\sin x\\,dx = \\frac{-e^{-tx}}{1+t^2}(t\\sin x+\\cos x).\n",
    "$$\n",
    "\n",
    "**解答例:** \n",
    "$$\n",
    "\\begin{aligned}\n",
    "-\\int e^{-tx}e^{ix}\\,dx &= \n",
    "-\\int_0^\\infty e^{-(t-i)x}\\,dx =\n",
    "\\frac{e^{-(t-i)x}}{t-i} =\n",
    "\\frac{t+i}{t^2+1}e^{-tx}(\\cos x+i\\sin x) \n",
    "\\\\ &=\n",
    "\\frac{e^{-tx}}{1+t^2}((t\\cos x-i\\sin x) + i(t\\sin x+\\cos x)).\n",
    "\\end{aligned}\n",
    "$$\n",
    "\n",
    "この等式の両辺の実部と虚部が示すべき公式にちょうどなっている. $\\QED$\n",
    "\n",
    "この問題の結果より, $t>0$ のとき, \n",
    "\n",
    "$$\n",
    "\\begin{aligned}\n",
    "&\n",
    "\\int_0^R e^{-tx}\\cos x\\,dx = \\frac{-e^{-tR}}{1+t^2}(t\\cos R-\\sin R) + \\frac{t}{1+t^2},\n",
    "\\\\ &\n",
    "\\int_0^R e^{-tx}\\sin x\\,dx = \\frac{-e^{-tR}}{1+t^2}(t\\sin R+\\cos R) + \\frac{1}{1+t^2}.\n",
    "\\end{aligned}\n",
    "$$"
   ]
  },
  {
   "cell_type": "code",
   "execution_count": 17,
   "metadata": {},
   "outputs": [
    {
     "data": {
      "text/latex": [
       "\\begin{bmatrix}- \\frac{e^{- t x}}{t^{2} + 1} \\left(t \\cos{\\left (x \\right )} - \\sin{\\left (x \\right )}\\right)\\\\- \\frac{e^{- t x}}{t^{2} + 1} \\left(t \\sin{\\left (x \\right )} + \\cos{\\left (x \\right )}\\right)\\end{bmatrix}"
      ],
      "text/plain": [
       "2-element Array{SymPy.Sym,1}:\n",
       " -(t*cos(x) - sin(x))*exp(-t*x)/(t^2 + 1)\n",
       " -(t*sin(x) + cos(x))*exp(-t*x)/(t^2 + 1)"
      ]
     },
     "execution_count": 17,
     "metadata": {},
     "output_type": "execute_result"
    }
   ],
   "source": [
    "t, x = symbols(\"t x\", positive=true)\n",
    "[\n",
    "    factor(integrate(exp(-t*x)*cos(x), x)),\n",
    "    factor(integrate(exp(-t*x)*sin(x), x))\n",
    "]"
   ]
  },
  {
   "cell_type": "markdown",
   "metadata": {},
   "source": [
    "**問題:** Dirichlet積分の公式\n",
    "\n",
    "$$\n",
    "\\int_0^\\infty \\frac{\\sin x}{x}\\,dx = \\lim_{R\\to\\infty}\\int_0^R\\frac{\\sin x}{x}\\,dx = \\frac{\\pi}{2}\n",
    "$$\n",
    "\n",
    "を示せ. (1つ目の等号は広義積分の定義であり, 示す必要はない.)\n",
    "\n",
    "**解答例:** $R>0$ であるとする. $x>0$ のとき, $\\ds \\frac{1}{x} = \\int_0^\\infty e^{-tx}\\,dt$ なので\n",
    "\n",
    "$$\n",
    "\\int_0^R \\frac{\\sin x}{x}\\,dx =\n",
    "\\int_0^R \\left(\\int_0^\\infty e^{-tx}\\sin x\\,dt\\right)\\,dx.\n",
    "$$\n",
    "\n",
    "積分の順序交換(J)によって\n",
    "\n",
    "$$\n",
    "\\int_0^R \\frac{\\sin x}{x}\\,dx =\n",
    "\\int_0^\\infty \\left(\\int_0^R e^{-tx}\\sin x\\,dx\\right)\\,dt.\n",
    "$$\n",
    "\n",
    "すぐ上の問題の結果より, \n",
    "\n",
    "$$\n",
    "\\int_0^R \\frac{\\sin x}{x}\\,dx =\n",
    "\\int_0^\\infty\\frac{-e^{-tR}}{1+t^2}(t\\sin R+\\cos R)\\,dt + \n",
    "\\int_0^\\infty \\frac{dt}{1+t^2}.\n",
    "$$\n",
    "\n",
    "右辺の前者の積分は $R\\to\\infty$ で $0$ に収束し, 後者の積分は $\\pi/2$ に等しいので,\n",
    "\n",
    "$$\n",
    "\\int_0^\\infty \\frac{\\sin x}{x}\\,dx =\n",
    "\\lim_{R\\to\\infty}\\int_0^R \\frac{\\sin x}{x}\\,dx =\n",
    "\\frac{\\pi}{2}.\n",
    "$$\n",
    "\n",
    "これで公式(1)が示された. $\\QED$"
   ]
  },
  {
   "cell_type": "markdown",
   "metadata": {},
   "source": [
    "**問題(次の問題の準備):** 次を示せ.\n",
    "\n",
    "$$\n",
    "\\int_0^\\infty \\frac{dt}{1+t^4} = \n",
    "\\int_0^\\infty \\frac{t^2\\,dt}{1+t^4} =\n",
    "\\frac{\\sqrt{2}\\;\\pi}{4}\n",
    "$$"
   ]
  },
  {
   "cell_type": "code",
   "execution_count": 18,
   "metadata": {},
   "outputs": [
    {
     "data": {
      "text/latex": [
       "\\begin{bmatrix}\\frac{\\sqrt{2} \\pi}{4}\\\\\\frac{\\sqrt{2} \\pi}{4}\\end{bmatrix}"
      ],
      "text/plain": [
       "2-element Array{SymPy.Sym,1}:\n",
       " sqrt(2)*pi/4\n",
       " sqrt(2)*pi/4"
      ]
     },
     "execution_count": 18,
     "metadata": {},
     "output_type": "execute_result"
    }
   ],
   "source": [
    "t = symbols(\"t\", real=true)\n",
    "[\n",
    "    integrate(t^2/(t^4+1), (t,0,oo)),\n",
    "    integrate(1/(t^4+1), (t,0,oo)),\n",
    "]"
   ]
  },
  {
   "cell_type": "markdown",
   "metadata": {},
   "source": [
    "**解答例1:**\n",
    "\n",
    "$t=1/u$ とおくと,\n",
    "\n",
    "$$\n",
    "\\int_0^\\infty \\frac{dt}{1+t^4} = \\int_\\infty^0 \\frac{-u^{-2}\\,du}{1+u^{-4}} =\n",
    "\\int_0^\\infty \\frac{u^2\\,du}{u^4+1} = \\int_0^\\infty\\frac{t^2\\,dt}{1+t^4}.\n",
    "$$\n",
    "\n",
    "天下りになってしまうが, $F(t)$ を次のように定める:\n",
    "\n",
    "$$\n",
    "F(t) = \\frac{\\sqrt{2}}{8}\\log\\frac{t^2+\\sqrt{2}\\;t+1}{t^2-\\sqrt{2}\\;t+1}+\n",
    "\\frac{\\sqrt{2}}{4}\\left(\n",
    "\\arctan\\left(\\sqrt{2}\\;t+1\\right) + \\arctan\\left(\\sqrt{2}\\;t-1\\right)\n",
    "\\right).\n",
    "$$\n",
    "\n",
    "これの導函数を計算すると $F'(t)=1/(1+t^4)$ となることを確認できる(かなり面倒な計算が必要になる). したがって, \n",
    "\n",
    "$$\n",
    "\\int_0^\\infty \\frac{dt}{1+t^4} = [F(t)]_0^\\infty = F(\\infty) = \\frac{\\sqrt{2}}{4}\\pi.\n",
    "\\qquad\\QED\n",
    "$$"
   ]
  },
  {
   "cell_type": "markdown",
   "metadata": {},
   "source": [
    "$1/(1+t^4)$ の原始函数の求め方については\n",
    "\n",
    "* E. ハイラー, G. ワナー, 『<a href=\"https://www.amazon.co.jp/dp/4621062034\">解析教程 上</a>』\n",
    "\n",
    "の第2章(5.16)式の周辺(pp.172-174)が詳しい. $1/(1+t^4)$ の部分分数展開を使う.  下の方の解答例2の直後の問題とその解答例も見よ."
   ]
  },
  {
   "cell_type": "code",
   "execution_count": 19,
   "metadata": {},
   "outputs": [
    {
     "data": {
      "text/latex": [
       "$$\\frac{\\sqrt{2}}{4} \\left(\\operatorname{atan}{\\left (\\sqrt{2} t - 1 \\right )} + \\operatorname{atan}{\\left (\\sqrt{2} t + 1 \\right )}\\right) + \\frac{\\sqrt{2}}{8} \\log{\\left (\\frac{t^{2} + \\sqrt{2} t + 1}{t^{2} - \\sqrt{2} t + 1} \\right )}$$"
      ],
      "text/plain": [
       "                                                         / 2     ___      \\\n",
       "                                                  ___    |t  + \\/ 2 *t + 1|\n",
       "                                                \\/ 2 *log|----------------|\n",
       "  ___ /    /  ___      \\       /  ___      \\\\            | 2     ___      |\n",
       "\\/ 2 *\\atan\\\\/ 2 *t - 1/ + atan\\\\/ 2 *t + 1//            \\t  - \\/ 2 *t + 1/\n",
       "--------------------------------------------- + ---------------------------\n",
       "                      4                                      8             "
      ]
     },
     "metadata": {},
     "output_type": "display_data"
    },
    {
     "data": {
      "text/latex": [
       "$$\\frac{1}{t^{4} + 1}$$"
      ],
      "text/plain": [
       "  1   \n",
       "------\n",
       " 4    \n",
       "t  + 1"
      ]
     },
     "execution_count": 19,
     "metadata": {},
     "output_type": "execute_result"
    }
   ],
   "source": [
    "t = symbols(\"t\")\n",
    "r = sqrt(Sym(2))\n",
    "F = r/8*log((t^2+r*t+1)/(t^2-r*t+1)) + r/4*(atan(r*t+1)+atan(r*t-1))\n",
    "display(F)\n",
    "simplify(diff(F, t))"
   ]
  },
  {
   "cell_type": "markdown",
   "metadata": {},
   "source": [
    "**解答例2:** 複素解析を使う方法. $R>0$ とし, $C_1$ は $0$ から $R$ への線分 $t$, $0\\leqq t\\leqq R$ であるとし, $C_2$ は $R$ から $iR$ への曲線 $Re^{i\\theta}$, $0\\leqq\\theta\\leqq\\pi/2$, $C_3$ は $Ri$ から $0$ への線分であるとする. このとき, \n",
    "\n",
    "$$\n",
    "\\int_{C_3}\\frac{dz}{1+z^4} = -\\int_0^R\\frac{d(it)}{1+(it)^4} =\n",
    "-i\\int_0^R \\frac{dt}{1+t^4} = -i\\int_{C_1}\\frac{dt}{1+t^4}.\n",
    "$$\n",
    "\n",
    "$1/(1+z^4)$ の $z=e^{i\\pi/4}$ における留数は\n",
    "\n",
    "$$\n",
    "\\frac{1}{(e^{i\\pi/4}-e^{i3\\pi/4})(e^{i\\pi/4}-e^{i5\\pi/4})(e^{i\\pi/4}-e^{i7\\pi/4})} =\n",
    "\\frac{1}{\\sqrt{2}\\cdot\\sqrt{2}(1+i)\\cdot \\sqrt{2}\\;i} =\n",
    "\\frac{1}{2\\sqrt{2}\\;(1+i)i}\n",
    "$$\n",
    "\n",
    "なので, 留数定理より,\n",
    "\n",
    "$$\n",
    "\\frac{2\\pi i}{2\\sqrt{2}\\;(1+i)i} = (1-i)\\int_{C_1}\\frac{dz}{1+z^4} + \\int_{C_2}\\frac{dz}{1+z^4}.\n",
    "$$\n",
    "\n",
    "$R\\to\\infty$ で右辺の $C_1$ 上での積分は $\\int_0^\\infty dt/(1+t^4)$ に収束し, $C_2$ 上での積分は $0$ に収束するので,\n",
    "\n",
    "$$\n",
    "\\frac{2\\pi i}{2\\sqrt{2}\\;(1+i)i} = (1-i)\\int_0^\\infty\\frac{dt}{1+t^4}.\n",
    "$$\n",
    "\n",
    "ゆえに,\n",
    "\n",
    "$$\n",
    "\\int_0^\\infty\\frac{dt}{1+t^4} =\n",
    "\\frac{2\\pi}{2\\sqrt{2}\\cdot 2} =\n",
    "\\frac{\\sqrt{2}\\;\\pi}{4}.\n",
    "\\qquad\\QED\n",
    "$$"
   ]
  },
  {
   "cell_type": "markdown",
   "metadata": {},
   "source": [
    "**問題:** $1/(t^4+1)$ の原始函数を求めよ.\n",
    "\n",
    "**解答例:** 以下, 記号の簡単のため $r=\\sqrt{2}$ とおく($r^2=2$). 因数分解\n",
    "\n",
    "$$\n",
    "t^4+1 = (t^2+rt + 1)(t^2-rt+1)\n",
    "$$\n",
    "\n",
    "より, \n",
    "\n",
    "$$\n",
    "\\frac{2r}{t^4+1} = \\frac{t+r}{t^2+rt+1}-\\frac{t-r}{t^2-rt+1}.\n",
    "$$\n",
    "\n",
    "一般に $a>0$ のとき\n",
    "\n",
    "$$\n",
    "\\int\\frac{s\\;ds}{s^2+a^2} = \\frac{1}{2}\\log(s^2+a^2), \\quad\n",
    "\\int\\frac{ds}{s^2+a^2} = \\frac{1}{a}\\arctan\\frac{s}{a} \n",
    "$$\n",
    "\n",
    "$t=s-r/2$ とおくと\n",
    "\n",
    "$$\n",
    "\\begin{aligned}\n",
    "\\int\\frac{t+r}{t^2+rt+1}\\,dt &= \\int\\frac{s+r/2}{s^2+1/2}\\,ds =\n",
    "\\frac{1}{2}\\log(2s^2+1) + \\arctan(rs)\n",
    "\\\\ &=\n",
    "\\frac{1}{2}\\log 2 + \\frac{1}{2}\\log(t^2+rt+1) + \\arctan(rt+1).\n",
    "\\end{aligned}\n",
    "$$\n",
    "\n",
    "$t=s+r/2$ とおくと\n",
    "\n",
    "$$\n",
    "\\begin{aligned}\n",
    "-\\int \\frac{t-r}{t^2-rt+1}\\,dt &= -\\int \\frac{s-r/2}{s^2+1/2}\\,ds =\n",
    "-\\frac{1}{2}\\log(2s^2+1) + \\arctan(rs)\n",
    "\\\\ &=\n",
    "-\\frac{1}{2}\\log 2 - \\frac{1}{2}\\log(t^2-rt+1) + \\arctan(rt-1).\n",
    "\\end{aligned}\n",
    "$$\n",
    "\n",
    "ゆえに\n",
    "\n",
    "$$\n",
    "2r\\int\\frac{dt}{t^4+1} =\n",
    "\\frac{1}{2}\\log\\frac{t^2+rt+1}{t^2-rt+1} + \\arctan(rt+1) + \\arctan(rt-1)\n",
    "$$\n",
    "\n",
    "したがって,\n",
    "\n",
    "$$\n",
    "\\int\\frac{dt}{t^4+1} = \n",
    "\\frac{1}{4r}\\log\\frac{t^2+rt+1}{t^2-rt+1} + \n",
    "\\frac{1}{2r}(\\arctan(rt+1) + \\arctan(rt-1)).\n",
    "\\qquad \\QED\n",
    "$$"
   ]
  },
  {
   "cell_type": "code",
   "execution_count": 20,
   "metadata": {},
   "outputs": [
    {
     "data": {
      "text/latex": [
       "$$\\frac{1}{2} \\log{\\left (a^{2} + s^{2} \\right )}$$"
      ],
      "text/plain": [
       "   / 2    2\\\n",
       "log\\a  + s /\n",
       "------------\n",
       "     2      "
      ]
     },
     "metadata": {},
     "output_type": "display_data"
    },
    {
     "data": {
      "text/latex": [
       "$$\\frac{1}{a} \\operatorname{atan}{\\left (\\frac{s}{a} \\right )}$$"
      ],
      "text/plain": [
       "    /s\\\n",
       "atan|-|\n",
       "    \\a/\n",
       "-------\n",
       "   a   "
      ]
     },
     "metadata": {},
     "output_type": "display_data"
    }
   ],
   "source": [
    "s = symbols(\"s\", real=true)\n",
    "a = symbols(\"a\", positive=true)\n",
    "display(integrate(s/(s^2+a^2), s))\n",
    "display(integrate(1/(s^2+a^2), s))"
   ]
  },
  {
   "cell_type": "code",
   "execution_count": 21,
   "metadata": {},
   "outputs": [
    {
     "data": {
      "text/latex": [
       "$$\\frac{r + t}{r t + t^{2} + 1}$$"
      ],
      "text/plain": [
       "   r + t    \n",
       "------------\n",
       "       2    \n",
       "r*t + t  + 1"
      ]
     },
     "metadata": {},
     "output_type": "display_data"
    },
    {
     "data": {
      "text/latex": [
       "$$\\frac{r - t}{- r t + t^{2} + 1}$$"
      ],
      "text/plain": [
       "    r - t    \n",
       "-------------\n",
       "        2    \n",
       "-r*t + t  + 1"
      ]
     },
     "metadata": {},
     "output_type": "display_data"
    },
    {
     "data": {
      "text/latex": [
       "$$\\frac{1}{t^{4} + 1}$$"
      ],
      "text/plain": [
       "  1   \n",
       "------\n",
       " 4    \n",
       "t  + 1"
      ]
     },
     "metadata": {},
     "output_type": "display_data"
    },
    {
     "data": {
      "text/latex": [
       "$$0$$"
      ],
      "text/plain": [
       "0"
      ]
     },
     "metadata": {},
     "output_type": "display_data"
    },
    {
     "data": {
      "text/latex": [
       "$$\\frac{r + 2 s}{2 s^{2} + 1}$$"
      ],
      "text/plain": [
       "r + 2*s \n",
       "--------\n",
       "   2    \n",
       "2*s  + 1"
      ]
     },
     "metadata": {},
     "output_type": "display_data"
    },
    {
     "data": {
      "text/latex": [
       "$$\\frac{1}{2} \\log{\\left (2 s^{2} + 1 \\right )} + \\operatorname{atan}{\\left (\\sqrt{2} s \\right )}$$"
      ],
      "text/plain": [
       "   /   2    \\                \n",
       "log\\2*s  + 1/       /  ___  \\\n",
       "------------- + atan\\\\/ 2 *s/\n",
       "      2                      "
      ]
     },
     "metadata": {},
     "output_type": "display_data"
    },
    {
     "data": {
      "text/latex": [
       "$$\\frac{1}{2} \\log{\\left (t^{2} + \\sqrt{2} t + 1 \\right )} + \\operatorname{atan}{\\left (\\sqrt{2} t + 1 \\right )} + \\frac{1}{2} \\log{\\left (2 \\right )}$$"
      ],
      "text/plain": [
       "   / 2     ___      \\                             \n",
       "log\\t  + \\/ 2 *t + 1/       /  ___      \\   log(2)\n",
       "--------------------- + atan\\\\/ 2 *t + 1/ + ------\n",
       "          2                                   2   "
      ]
     },
     "metadata": {},
     "output_type": "display_data"
    },
    {
     "data": {
      "text/latex": [
       "$$\\frac{r - 2 s}{2 s^{2} + 1}$$"
      ],
      "text/plain": [
       "r - 2*s \n",
       "--------\n",
       "   2    \n",
       "2*s  + 1"
      ]
     },
     "metadata": {},
     "output_type": "display_data"
    },
    {
     "data": {
      "text/latex": [
       "$$- \\frac{1}{2} \\log{\\left (2 s^{2} + 1 \\right )} + \\operatorname{atan}{\\left (\\sqrt{2} s \\right )}$$"
      ],
      "text/plain": [
       "     /   2    \\                \n",
       "  log\\2*s  + 1/       /  ___  \\\n",
       "- ------------- + atan\\\\/ 2 *s/\n",
       "        2                      "
      ]
     },
     "metadata": {},
     "output_type": "display_data"
    },
    {
     "data": {
      "text/latex": [
       "$$- \\frac{1}{2} \\log{\\left (t^{2} - \\sqrt{2} t + 1 \\right )} + \\operatorname{atan}{\\left (\\sqrt{2} t - 1 \\right )} - \\frac{1}{2} \\log{\\left (2 \\right )}$$"
      ],
      "text/plain": [
       "     / 2     ___      \\                             \n",
       "  log\\t  - \\/ 2 *t + 1/       /  ___      \\   log(2)\n",
       "- --------------------- + atan\\\\/ 2 *t - 1/ - ------\n",
       "            2                                   2   "
      ]
     },
     "metadata": {},
     "output_type": "display_data"
    },
    {
     "data": {
      "text/latex": [
       "$$\\frac{\\sqrt{2}}{8} \\left(- \\log{\\left (t^{2} - \\sqrt{2} t + 1 \\right )} + \\log{\\left (t^{2} + \\sqrt{2} t + 1 \\right )} + 2 \\operatorname{atan}{\\left (\\sqrt{2} t - 1 \\right )} + 2 \\operatorname{atan}{\\left (\\sqrt{2} t + 1 \\right )}\\right)$$"
      ],
      "text/plain": [
       "  ___ /     / 2     ___      \\      / 2     ___      \\         /  ___      \\  \n",
       "\\/ 2 *\\- log\\t  - \\/ 2 *t + 1/ + log\\t  + \\/ 2 *t + 1/ + 2*atan\\\\/ 2 *t - 1/ +\n",
       "------------------------------------------------------------------------------\n",
       "                                                 8                            \n",
       "\n",
       "       /  ___      \\\\\n",
       " 2*atan\\\\/ 2 *t + 1//\n",
       "---------------------\n",
       "                     "
      ]
     },
     "metadata": {},
     "output_type": "display_data"
    },
    {
     "data": {
      "text/latex": [
       "$$\\frac{1}{t^{4} + 1}$$"
      ],
      "text/plain": [
       "  1   \n",
       "------\n",
       " 4    \n",
       "t  + 1"
      ]
     },
     "execution_count": 21,
     "metadata": {},
     "output_type": "execute_result"
    }
   ],
   "source": [
    "r, s, t = symbols(\"r s t\", real=true)\n",
    "v = sqrt(Sym(2))\n",
    "\n",
    "A =  (t + r)/(t^2 + r*t + 1)\n",
    "B = -(t - r)/(t^2 - r*t + 1)\n",
    "C = expand(1/((t^2 + r*t + 1)*(t^2 - r*t + 1)))\n",
    "\n",
    "display(A)\n",
    "display(B)\n",
    "display(C(r=>v))\n",
    "display(simplify(A+B-2r*C)) # Verify 2r*C == A+B\n",
    "\n",
    "# integrate A\n",
    "As = simplify(simplify(A(t=>s-r/2))(r^2=>2))\n",
    "intAs = integrate(s/(s^2+Sym(1)/2), s) + integrate(r/2/(s^2+Sym(1)/2), s)\n",
    "intA = simplify(expand(intAs(s=>t+r/2)))\n",
    "display(As)\n",
    "display(simplify(intAs(r=>v)))\n",
    "display(simplify(intA(r=>v)))\n",
    "\n",
    "# integrate B\n",
    "Bs = simplify(simplify(B(t=>s+r/2))(r^2=>2))\n",
    "intBs = -integrate(s/(s^2+Sym(1)/2), s) + integrate(r/2/(s^2+Sym(1)/2), s)\n",
    "intB = simplify(expand(intBs(s=>t-r/2)))\n",
    "display(Bs)\n",
    "display(simplify(intBs(r=>v)))\n",
    "display(simplify(intB(r=>v)))\n",
    "\n",
    "F = simplify((1/(2r)*(intA + intB))(r=>v))\n",
    "display(F)\n",
    "simplify(diff(F, t)) # Veryfy dF/dt = 1/(t^4+1)"
   ]
  },
  {
   "cell_type": "markdown",
   "metadata": {},
   "source": [
    "**問題:** Fresnel積分の特殊値の公式\n",
    "\n",
    "$$\n",
    "\\int_0^\\infty \\frac{\\cos x}{\\sqrt{x}}\\,dx = \n",
    "\\int_0^\\infty \\frac{\\sin x}{\\sqrt{x}}\\,dx = \n",
    "\\sqrt{\\frac{\\pi}{2}}\n",
    "$$\n",
    "\n",
    "を示せ."
   ]
  },
  {
   "cell_type": "markdown",
   "metadata": {},
   "source": [
    "**解答例:** Gauss積分の公式より, $x>0$ のとき\n",
    "\n",
    "$$\n",
    "2\\int_0^\\infty e^{-x t^2}\\,dt = \\int_{-\\infty}^\\infty e^{-x t^2}\\,dt = \\sqrt{\\frac{\\pi}{x}}\n",
    "$$\n",
    "\n",
    "ゆえに\n",
    "\n",
    "$$\n",
    "\\int_0^\\infty \\frac{e^{ix}}{\\sqrt{x}}\\,dx =\n",
    "\\frac{2}{\\sqrt{\\pi}}\\int_0^\\infty\\left(\\int_0^\\infty e^{-x t^2}e^{ix}\\,dt\\right)\\,dx\n",
    "$$\n",
    "\n",
    "積分順序を交換すると(本当はこの部分を上の問題と同様の方法で正当化する必要がある),\n",
    "\n",
    "$$\n",
    "\\frac{2}{\\sqrt{\\pi}}\\int_0^\\infty\\left(\\int_0^\\infty e^{-x t^2}e^{ix}\\,dt\\right)\\,dx =\n",
    "\\frac{2}{\\sqrt{\\pi}}\\int_0^\\infty\\left(\\int_0^\\infty e^{-x t^2}e^{ix}\\,dx\\right)\\,dt.\n",
    "$$\n",
    "\n",
    "\n",
    "三角函数のLaplace変換の問題の解答例2より, \n",
    "\n",
    "$$\n",
    "\\frac{2}{\\sqrt{\\pi}}\\int_0^\\infty\\left(\\int_0^\\infty e^{-x t^2}e^{ix}\\,dx\\right)\\,dt =\n",
    "\\frac{2}{\\sqrt{\\pi}}\\int_0^\\infty\\frac{t^2+i}{t^4+1}\\,dt\n",
    "$$\n",
    "\n",
    "上の問題の結果より,\n",
    "\n",
    "$$\n",
    "\\frac{2}{\\sqrt{\\pi}}\\int_0^\\infty\\frac{t^2-i}{t^4+1}\\,dt =\n",
    "\\frac{2}{\\sqrt{\\pi}}(1+i)\\frac{\\sqrt{2}\\;\\pi}{4} =\n",
    "(1+i)\\sqrt{\\frac{\\pi}{2}}.\n",
    "$$\n",
    "\n",
    "したがって,\n",
    "\n",
    "$$\n",
    "\\int_0^\\infty \\frac{e^{ix}}{\\sqrt{x}}\\,dx = (1+i)\\sqrt{\\frac{\\pi}{2}}.\n",
    "$$\n",
    "\n",
    "両辺の実部と虚部を見れば示したい結果が得られる. $\\QED$"
   ]
  },
  {
   "cell_type": "markdown",
   "metadata": {},
   "source": [
    "上の解答例と本質的に同じ解答の詳しい解説が\n",
    "\n",
    "* E. ハイラー, G. ワナー, 『<a href=\"https://www.amazon.co.jp/dp/4621061909\">解析教程 下</a>』\n",
    "\n",
    "の第4章の演習問題5.14(p.254, この問題はこの本の最後に載っている問題)の解答解説(pp.313-314)にある.\n",
    "\n",
    "複素解析を用いれば, 上の問題のFresnel積分の特殊値の公式をもっと易しく導出できる. 例えば\n",
    "\n",
    "* 高木貞治, 『<a href=\"https://www.amazon.co.jp/dp/4000051717\">解析概論</a>』\n",
    "\n",
    "の第62節の例2(pp.224-225)を参照せよ. \n",
    "\n",
    "ガンマ函数との関連については\n",
    "\n",
    "* 黒木玄, <a href=\"https://genkuroki.github.io/documents/20160501StirlingFormula.pdf\">ガンマ分布の中心極限定理とStirlingの公式</a>\n",
    "\n",
    "の第8.6節を参照せよ. 一般に, ちょっとした複素解析の利用によって, $0\\leqq s<1$ のとき\n",
    "\n",
    "$$\n",
    "\\int_0^\\infty x^{s-1}\\sin x\\,dx = \\Gamma(s)\\sin\\frac{\\pi s}{2} = \\Gamma(s+1)\\frac{\\sin(\\pi s/2)}{s}\n",
    "$$\n",
    "\n",
    "となることを示せる. ($\\frac{\\sin(\\pi s/2)}{s}$ の $s=0$ での値は極限を取ることによって自然に $\\pi/2$ とみなされる.) これの $s=0$ の場合が $\\ds\\int_0^\\infty\\frac{\\sin x}{x}\\,dx=\\frac{\\pi}{2}$ であり, $s=1/2$ の場合が $\\ds\\int_0^\\infty\\frac{\\sin x}{\\sqrt{x}}\\,dx = \\sqrt{\\frac{\\pi}{2}}$ である. このように, Dirichlet積分とFresnel積分(の特殊値)はガンマ函数によって統一的に取り扱うことができる. 別々に公式を証明する必要はない.   $\\QED$"
   ]
  },
  {
   "cell_type": "code",
   "execution_count": null,
   "metadata": {},
   "outputs": [],
   "source": []
  }
 ],
 "metadata": {
  "_draft": {
   "nbviewer_url": "https://gist.github.com/73df40588e75b57982ca93d885243ac6"
  },
  "gist": {
   "data": {
    "description": "09 integration.ipynb",
    "public": true
   },
   "id": "73df40588e75b57982ca93d885243ac6"
  },
  "kernelspec": {
   "display_name": "Julia 0.6.3",
   "language": "julia",
   "name": "julia-0.6"
  },
  "language_info": {
   "file_extension": ".jl",
   "mimetype": "application/julia",
   "name": "julia",
   "version": "0.6.3"
  },
  "toc": {
   "nav_menu": {},
   "number_sections": true,
   "sideBar": true,
   "skip_h1_title": true,
   "title_cell": "Table of Contents",
   "title_sidebar": "Contents",
   "toc_cell": true,
   "toc_position": {},
   "toc_section_display": true,
   "toc_window_display": false
  }
 },
 "nbformat": 4,
 "nbformat_minor": 2
}
